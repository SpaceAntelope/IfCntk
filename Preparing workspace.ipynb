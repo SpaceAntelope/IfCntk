{
 "cells": [
  {
   "cell_type": "markdown",
   "metadata": {},
   "source": [
    "## Preparing the workspace for CNTK in jupyter"
   ]
  },
  {
   "cell_type": "code",
   "execution_count": 1,
   "metadata": {},
   "outputs": [],
   "source": [
    "#r \"netstandard\"\n",
    "#load \"Paket.fsx\""
   ]
  },
  {
   "cell_type": "markdown",
   "metadata": {},
   "source": [
    "### 1. Install neccessary packages"
   ]
  },
  {
   "cell_type": "code",
   "execution_count": null,
   "metadata": {},
   "outputs": [],
   "source": [
    "Paket.Dependencies.Install \"\"\"\n",
    "generate_load_scripts: true\n",
    "storage: none\n",
    "source https://nuget./api/v2\n",
    "nuget CNTK.CPUOnly\n",
    "nuget FsLab\n",
    "nuget FSharp.Charting\n",
    "\"\"\""
   ]
  },
  {
   "cell_type": "markdown",
   "metadata": {},
   "source": [
    "Usually in F# notebooks we tend to see <span style=\"color:green\">paket.dependencies</span> created this way:\n",
    "\n",
    "> Paket.Package [\"CNTK.CPUOnly\"; \"FsLab\"; \"FSharp.Charting\"]\n",
    "\n",
    "I used <span style='color:#B21543'>Paket.Dependencies.Install</span> instead of <span style='color:#B21543'>Paket.Package</span> as it allows us to set **storage: none** and save some disk space and bandwidth by not re-downloading the same dependencies every time a project needs CNTK support, the required DLLs being rather immense as it is.\n",
    "\n",
    "This is slightly ironic, considering that in order to use CNTK in jupyter we end up having to copy all dependencies in a common bin path anyway."
   ]
  },
  {
   "cell_type": "markdown",
   "metadata": {},
   "source": [
    "### 2. Reference Cntk.Core.Managed-#.#.dll from the nuget packages folder"
   ]
  },
  {
   "cell_type": "code",
   "execution_count": null,
   "metadata": {},
   "outputs": [],
   "source": [
    "#load \"Paket.Generated.Refs.fsx\""
   ]
  },
  {
   "cell_type": "markdown",
   "metadata": {},
   "source": [
    "### 3. Copy all CNTK dependencies to the same folder\n",
    "\n",
    "Currently all CNTK dlls need to be copied in the same folder with _Cntk.Core.Managed-#.#.dll_ else they can't be resolved at runtime. The following script finds the path of the presently referenced Cntk DLL and uses it to locate any dependencies. Should work for both GPU and CPUOnly.\n",
    "\n",
    "Visual Studio does this by default in some projects, but here we need to do it by hand:"
   ]
  },
  {
   "cell_type": "code",
   "execution_count": 2,
   "metadata": {},
   "outputs": [
    {
     "data": {
      "text/plain": [
       "Removing file 'bin\\Cntk.Composite-2.6d.dll'...\r\n",
       "Removing file 'bin\\Cntk.Core-2.6d.dll'...\r\n",
       "Removing file 'bin\\Cntk.Core.CSBinding-2.6d.dll'...\r\n",
       "Removing file 'bin\\Cntk.Core.Managed-2.6.dll'...\r\n",
       "Removing file 'bin\\Cntk.Deserializers.Binary-2.6d.dll'...\r\n",
       "Removing file 'bin\\Cntk.Deserializers.HTK-2.6d.dll'...\r\n",
       "Removing file 'bin\\Cntk.Deserializers.Image-2.6d.dll'...\r\n",
       "Removing file 'bin\\Cntk.Deserializers.TextFormat-2.6d.dll'...\r\n",
       "Removing file 'bin\\Cntk.Math-2.6d.dll'...\r\n",
       "Removing file 'bin\\Cntk.PerformanceProfiler-2.6d.dll'...\r\n",
       "Removing file 'bin\\libiomp5md.dll'...\r\n",
       "Removing file 'bin\\mkldnn.dll'...\r\n",
       "Removing file 'bin\\mklml.dll'...\r\n",
       "Removing file 'bin\\opencv_world310d.dll'...\r\n",
       "Removing file 'bin\\zip.dll'...\r\n",
       "Removing file 'bin\\zlib.dll'...\r\n",
       "Copying from 'packages\\CNTK.CPUOnly\\lib\\netstandard2.0\\Cntk.Core.Managed-2.6.dll'\r\n",
       "Copying from 'packages\\CNTK.CPUOnly\\support\\x64\\Release\\Cntk.Composite-2.6.dll'\r\n",
       "Copying from 'packages\\CNTK.CPUOnly\\support\\x64\\Release\\Cntk.Core-2.6.dll'\r\n",
       "Copying from 'packages\\CNTK.CPUOnly\\support\\x64\\Release\\Cntk.Core.CSBinding-2.6.dll'\r\n",
       "Copying from 'packages\\CNTK.CPUOnly\\support\\x64\\Release\\Cntk.Deserializers.Binary-2.6.dll'\r\n",
       "Copying from 'packages\\CNTK.CPUOnly\\support\\x64\\Release\\Cntk.Deserializers.HTK-2.6.dll'\r\n",
       "Copying from 'packages\\CNTK.CPUOnly\\support\\x64\\Release\\Cntk.Deserializers.Image-2.6.dll'\r\n",
       "Copying from 'packages\\CNTK.CPUOnly\\support\\x64\\Release\\Cntk.Deserializers.TextFormat-2.6.dll'\r\n",
       "Copying from 'packages\\CNTK.CPUOnly\\support\\x64\\Release\\Cntk.Math-2.6.dll'\r\n",
       "Copying from 'packages\\CNTK.CPUOnly\\support\\x64\\Release\\Cntk.PerformanceProfiler-2.6.dll'\r\n",
       "Copying from 'packages\\CNTK.Deps.OpenCV.Zip\\support\\x64\\Dependency\\Release\\opencv_world310.dll'\r\n",
       "Copying from 'packages\\CNTK.Deps.MKL\\support\\x64\\Dependency\\libiomp5md.dll'\r\n",
       "Copying from 'packages\\CNTK.Deps.MKL\\support\\x64\\Dependency\\mkldnn.dll'\r\n",
       "Copying from 'packages\\CNTK.Deps.MKL\\support\\x64\\Dependency\\mklml.dll'\r\n",
       "Copying from 'packages\\CNTK.Deps.OpenCV.Zip\\support\\x64\\Dependency\\zip.dll'\r\n",
       "Copying from 'packages\\CNTK.Deps.OpenCV.Zip\\support\\x64\\Dependency\\zlib.dll'\r\n",
       "Copied 212.00MB\r\n"
      ]
     },
     "metadata": {},
     "output_type": "display_data"
    }
   ],
   "source": [
    "#load \"prepareWorkspace.fsx\"\n",
    "\n",
    "let localBinFolder = \"bin\"\n",
    "\n",
    "PrepareWorkspace.createOrCleanLocalBinFolder localBinFolder\n",
    "PrepareWorkspace.copyDependenciesToLocalFolder localBinFolder (PrepareWorkspace.Release) "
   ]
  },
  {
   "cell_type": "markdown",
   "metadata": {},
   "source": [
    "So far I haven't been able to reference debug DLLs successfully in a notebook, i.e. without hitting the dreaded <span style='font-family:consolas'>DllNotFoundException: Cntk.Core.CSBinding-#.#.dll</span>, so I suggest you also stick to the release builds."
   ]
  },
  {
   "cell_type": "markdown",
   "metadata": {},
   "source": [
    "### 4. Reference CNTK from the newly created folder\n",
    "\n",
    "<span style=\"color:blue\">If you intend to use CNTK calls in this notebook you should restart the kernel after copying is complete, and then reference _Cntk.Core.Managed-#.#.dll_ from the newly created _/bin_ folder.</span>"
   ]
  },
  {
   "cell_type": "code",
   "execution_count": 2,
   "metadata": {
    "scrolled": false
   },
   "outputs": [
    {
     "data": {
      "text/plain": [
       "Congratulations, you are using CNTK for: CPU\r\n"
      ]
     },
     "metadata": {},
     "output_type": "display_data"
    }
   ],
   "source": [
    "#r @\"bin\\Cntk.Core.Managed-2.6.dll\"\n",
    "#load \"Paket.Generated.Refs.fsx\"\n",
    "\n",
    "open CNTK\n",
    "let cpu = DeviceDescriptor.UseDefaultDevice()\n",
    "printfn \"Congratulations, you are using CNTK for: %A\" (cpu.Type)"
   ]
  },
  {
   "cell_type": "markdown",
   "metadata": {},
   "source": [
    "### 5. Update path variable"
   ]
  },
  {
   "cell_type": "markdown",
   "metadata": {},
   "source": [
    "Finally, we need to update the path variable to inlcude the newly created /bin folder, otherwise we get an error when instantiating the learner before training.\n",
    ">CNTK.CNTKLibPINVOKE.SGDLearner__SWIG_1 exception\n",
    "\n",
    "<span style=\"color: blue\">This is only affects the current process, so you'll have to do this again whenever you create a new notebook.</span>"
   ]
  },
  {
   "cell_type": "code",
   "execution_count": null,
   "metadata": {},
   "outputs": [],
   "source": [
    "let path = System.Environment.GetEnvironmentVariable(\"PATH\")\n",
    "let path' = sprintf \"%s%c%s\" path (System.IO.Path.PathSeparator) (System.IO.Path.GetFullPath(\"bin\"))\n",
    "System.Environment.SetEnvironmentVariable(\"PATH\", path')"
   ]
  },
  {
   "cell_type": "markdown",
   "metadata": {},
   "source": [
    " When calling CNTK from script make sure it's through a 64bit version of fsi.exe, such as fsiAnyCPU.exe, or you will run into _bad image_ exceptions."
   ]
  }
 ],
 "metadata": {
  "kernelspec": {
   "display_name": "F#",
   "language": "fsharp",
   "name": "ifsharp"
  },
  "language": "fsharp",
  "language_info": {
   "codemirror_mode": "",
   "file_extension": ".fs",
   "mimetype": "text/x-fsharp",
   "name": "fsharp",
   "nbconvert_exporter": "",
   "pygments_lexer": "",
   "version": "4.3.1.0"
  }
 },
 "nbformat": 4,
 "nbformat_minor": 2
}
