{
 "cells": [
  {
   "cell_type": "code",
   "execution_count": 64,
   "metadata": {},
   "outputs": [],
   "source": [
    "#r \"netstandard\"\n",
    "#load \"Paket.fsx\""
   ]
  },
  {
   "cell_type": "code",
   "execution_count": null,
   "metadata": {},
   "outputs": [],
   "source": [
    "Paket.Dependencies.Install \"\"\"\n",
    "frameworks: net472\n",
    "source https://nuget.org/api/v2\n",
    "nuget CNTK.CPUOnly\n",
    "nuget FsLab\n",
    "nuget MathNet.Numerics\n",
    "nuget MathNet.Numerics.FSharp\n",
    "\"\"\""
   ]
  },
  {
   "cell_type": "code",
   "execution_count": 65,
   "metadata": {},
   "outputs": [],
   "source": [
    "Paket.Dependencies.Install \"\"\"\n",
    "storage: none\n",
    "source https://nuget.org/api/v2\n",
    "nuget MathNet.Numerics\n",
    "nuget MathNet.Numerics.FSharp\n",
    "\"\"\""
   ]
  },
  {
   "cell_type": "code",
   "execution_count": null,
   "metadata": {},
   "outputs": [],
   "source": [
    "Paket.Package [ \"CNTK.CPUOnly\"; \"FsLab\"]"
   ]
  },
  {
   "cell_type": "code",
   "execution_count": 66,
   "metadata": {},
   "outputs": [],
   "source": [
    "Paket.Package [ \"MathNet.Numerics\"; \"MathNet.Numerics.FSharp\"]"
   ]
  },
  {
   "cell_type": "code",
   "execution_count": 67,
   "metadata": {},
   "outputs": [],
   "source": [
    "#load \"Paket.Generated.Refs.fsx\""
   ]
  },
  {
   "cell_type": "code",
   "execution_count": null,
   "metadata": {},
   "outputs": [],
   "source": [
    "#load \"prepareWorkspace.fsx\""
   ]
  },
  {
   "cell_type": "markdown",
   "metadata": {},
   "source": [
    "**After loading script, restart kernel.**"
   ]
  },
  {
   "cell_type": "code",
   "execution_count": 2,
   "metadata": {
    "scrolled": true
   },
   "outputs": [
    {
     "data": {
      "text/plain": [
       "You are using CNTK for: CPU\r\n"
      ]
     },
     "metadata": {},
     "output_type": "display_data"
    }
   ],
   "source": [
    "#r @\"C:\\Users\\cernu\\Documents\\Code\\IfCntk\\bin\\Cntk.Core.Managed-2.6.dll\"\n",
    "open CNTK\n",
    "let cpu = DeviceDescriptor.UseDefaultDevice()\n",
    "printfn \"You are using CNTK for: %A\" (cpu.Type)"
   ]
  },
  {
   "cell_type": "markdown",
   "metadata": {},
   "source": [
    "# CNTK 101: Logistic Regression and ML Primer\n",
    "\n",
    "## Intro"
   ]
  },
  {
   "cell_type": "code",
   "execution_count": 46,
   "metadata": {},
   "outputs": [],
   "source": [
    "let ImageUrl url width =\n",
    "    sprintf \"<img src=\\\"%s\\\" style=\\\"width: %dpx; height: auto\\\" alt=\\\"Could not load image, make sure url is correct\\\">\" url width\n",
    "    |> Util.Html\n",
    "    |> Display"
   ]
  },
  {
   "cell_type": "code",
   "execution_count": 48,
   "metadata": {
    "scrolled": false
   },
   "outputs": [
    {
     "data": {
      "text/html": [
       "<img src=\"https://www.cntk.ai/jup/cancer_data_plot.jpg\" style=\"width: 400px; height: auto\" alt=\"Could not load image, make sure url is correct\">"
      ]
     },
     "metadata": {},
     "output_type": "display_data"
    }
   ],
   "source": [
    "// Figure 1\n",
    "ImageUrl \"https://www.cntk.ai/jup/cancer_data_plot.jpg\" 400"
   ]
  },
  {
   "cell_type": "code",
   "execution_count": 30,
   "metadata": {},
   "outputs": [
    {
     "data": {
      "text/html": [
       "<img src=\"https://www.cntk.ai/jup/cancer_classify_plot.jpg\" style=\"width: 400px; height: auto\">"
      ]
     },
     "metadata": {},
     "output_type": "display_data"
    }
   ],
   "source": [
    "// Figure 2\n",
    "ImageUrl \"https://www.cntk.ai/jup/cancer_classify_plot.jpg\" 400"
   ]
  },
  {
   "cell_type": "code",
   "execution_count": 31,
   "metadata": {},
   "outputs": [
    {
     "data": {
      "text/html": [
       "<img src=\"https://www.cntk.ai/jup/logistic_neuron.jpg\" style=\"width: 300px; height: auto\">"
      ]
     },
     "metadata": {},
     "output_type": "display_data"
    }
   ],
   "source": [
    "// Figure 3\n",
    "ImageUrl \"https://www.cntk.ai/jup/logistic_neuron.jpg\" 300"
   ]
  },
  {
   "cell_type": "markdown",
   "metadata": {},
   "source": [
    "## Data generation"
   ]
  },
  {
   "cell_type": "code",
   "execution_count": 60,
   "metadata": {},
   "outputs": [],
   "source": [
    "open MathNet.Numerics\n",
    "open MathNet.Numerics.Random\n",
    "open MathNet.Numerics.Distributions;\n",
    "\n",
    "let rand = System.Random(42)\n",
    "let randInt max = seq { while true do yield rand.Next() % max }\n",
    "let randn = Normal.Samples(rand, 0.0, 1.0)\n",
    "let oneHotEncoding classCount classType =\n",
    "    Array.create classCount (fun i -> if i = classType then 1.0 else 0.0)\n",
    "\n",
    "let generateRandomDataSample sampleSize featureDim numClasses =\n",
    "    // label vector\n",
    "    let Y = randInt numClasses |> Seq.take sampleSize |> Array.ofSeq\n",
    "    \n",
    "    // feature vector\n",
    "    let feature size = \n",
    "        randn \n",
    "        |> Seq.take sampleSize\n",
    "        |> Seq.mapi (fun i num -> (num + 3.0) * float (Y.[i] + 1))\n",
    "        |> Array.ofSeq\n",
    "        \n",
    "    let X = [feature sampleSize; feature sampleSize] |> Invert\n",
    "    \n",
    "    let Y_oneHot = Array.map (oneHotEncoding numClasses) Y\n",
    "    \n",
    "    X, Y_oneHot\n",
    "    //(np.random.randn(sample_size, feature_dim)+3) * (Y+1)\n",
    "    \n",
    "    \n",
    "    //  np.random.randint(size=(sample_size, 1), low=0, high=num_classes)\n",
    "\n"
   ]
  },
  {
   "cell_type": "code",
   "execution_count": 61,
   "metadata": {},
   "outputs": [
    {
     "data": {
      "text/plain": [
       "[(0, 161); (4, 171); (5, 180); (1, 155); (3, 157); (2, 176)]"
      ]
     },
     "execution_count": 61,
     "metadata": {},
     "output_type": "execute_result"
    }
   ],
   "source": [
    "randInt 6 |> Seq.take 1000 |> Seq.countBy id |> List.ofSeq"
   ]
  },
  {
   "cell_type": "code",
   "execution_count": 72,
   "metadata": {},
   "outputs": [],
   "source": [
    "open MathNet.Numerics\n",
    "open MathNet.Numerics.Random\n",
    "open MathNet.Numerics.Distributions;"
   ]
  },
  {
   "cell_type": "code",
   "execution_count": 75,
   "metadata": {},
   "outputs": [
    {
     "data": {
      "text/plain": [
       "[|0.6681064659; 0.1409072984; 0.1255182895; 0.522764276; 0.1684342242;\n",
       "  0.2625926753; 0.7244083647; 0.5129227915; 0.1736511705; 0.7612505587|]"
      ]
     },
     "execution_count": 75,
     "metadata": {},
     "output_type": "execute_result"
    }
   ],
   "source": [
    "Random.doublesSeed 42 10"
   ]
  },
  {
   "cell_type": "code",
   "execution_count": 77,
   "metadata": {},
   "outputs": [
    {
     "data": {
      "text/plain": [
       "seq [-0.2020686853; 0.2447927895; -0.4415791586; -1.585583098; ...]"
      ]
     },
     "execution_count": 77,
     "metadata": {},
     "output_type": "execute_result"
    }
   ],
   "source": [
    "Normal.Samples(rand, 0.0, 1.0)"
   ]
  },
  {
   "cell_type": "code",
   "execution_count": null,
   "metadata": {},
   "outputs": [],
   "source": [
    "Random."
   ]
  }
 ],
 "metadata": {
  "kernelspec": {
   "display_name": "F#",
   "language": "fsharp",
   "name": "ifsharp"
  },
  "language": "fsharp",
  "language_info": {
   "codemirror_mode": "",
   "file_extension": ".fs",
   "mimetype": "text/x-fsharp",
   "name": "fsharp",
   "nbconvert_exporter": "",
   "pygments_lexer": "",
   "version": "4.3.1.0"
  }
 },
 "nbformat": 4,
 "nbformat_minor": 2
}
