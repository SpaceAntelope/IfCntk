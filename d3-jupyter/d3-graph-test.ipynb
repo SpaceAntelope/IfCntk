{
 "cells": [
  {
   "cell_type": "markdown",
   "metadata": {},
   "source": [
    "<div id=\"graph\" style=\"text-align: center; height: 400px; border: solid lightblue 1px; border-radius: 10px\"></div>"
   ]
  },
  {
   "cell_type": "code",
   "execution_count": 1,
   "metadata": {
    "collapsed": false
   },
   "outputs": [
    {
     "data": {
      "text/html": [
       "<script src=\"dist/bundle.js\"></script>"
      ],
      "text/plain": [
       "{Html = \"<script src=\"dist/bundle.js\"></script>\";}"
      ]
     },
     "execution_count": 1,
     "metadata": {},
     "output_type": "execute_result"
    }
   ],
   "source": [
    "\"<script src=\\\"dist/bundle.js\\\"></script>\" |> Util.Html"
   ]
  },
  {
   "cell_type": "code",
   "execution_count": 34,
   "metadata": {
    "collapsed": false
   },
   "outputs": [],
   "source": [
    "let initGraph jqueryPath = \n",
    "    sprintf \"<script>$(document).trigger('INIT_D3', ['%s']);</script>\" jqueryPath\n",
    "    |> Util.Html\n",
    "    \n",
    "let renderDot dotNotation = \n",
    "    sprintf \"<script>$(document).trigger('RENDER_GRAPH', [`%s`]);</script>\" dotNotation\n",
    "    |> Util.Html"
   ]
  },
  {
   "cell_type": "code",
   "execution_count": 35,
   "metadata": {
    "collapsed": false
   },
   "outputs": [
    {
     "data": {
      "text/html": [
       "<script>$(document).trigger('INIT_D3', ['#graph']);</script>"
      ],
      "text/plain": [
       "{Html = \"<script>$(document).trigger('INIT_D3', ['#graph']);</script>\";}"
      ]
     },
     "execution_count": 35,
     "metadata": {},
     "output_type": "execute_result"
    }
   ],
   "source": [
    "initGraph \"#graph\""
   ]
  },
  {
   "cell_type": "code",
   "execution_count": 38,
   "metadata": {
    "collapsed": false
   },
   "outputs": [
    {
     "data": {
      "text/html": [
       "<script>$(document).trigger('RENDER_GRAPH', [`digraph {\n",
       "a->A;\n",
       "}`]);</script>"
      ]
     },
     "metadata": {},
     "output_type": "display_data"
    },
    {
     "data": {
      "text/plain": [
       "a->A;\r\n"
      ]
     },
     "metadata": {},
     "output_type": "display_data"
    },
    {
     "data": {
      "text/html": [
       "<script>$(document).trigger('RENDER_GRAPH', [`digraph {\n",
       "a->A;\n",
       "\tA -> A;\n",
       "}`]);</script>"
      ]
     },
     "metadata": {},
     "output_type": "display_data"
    },
    {
     "data": {
      "text/plain": [
       "a->A;\n",
       "\tA -> A;\r\n"
      ]
     },
     "metadata": {},
     "output_type": "display_data"
    },
    {
     "data": {
      "text/html": [
       "<script>$(document).trigger('RENDER_GRAPH', [`digraph {\n",
       "a->A;\n",
       "\tA -> A;\n",
       "\tA -> B;\n",
       "}`]);</script>"
      ]
     },
     "metadata": {},
     "output_type": "display_data"
    },
    {
     "data": {
      "text/plain": [
       "a->A;\n",
       "\tA -> A;\n",
       "\tA -> B;\r\n"
      ]
     },
     "metadata": {},
     "output_type": "display_data"
    },
    {
     "data": {
      "text/html": [
       "<script>$(document).trigger('RENDER_GRAPH', [`digraph {\n",
       "a->A;\n",
       "\tA -> A;\n",
       "\tA -> B;\n",
       "\tA -> C;\n",
       "}`]);</script>"
      ]
     },
     "metadata": {},
     "output_type": "display_data"
    },
    {
     "data": {
      "text/plain": [
       "a->A;\n",
       "\tA -> A;\n",
       "\tA -> B;\n",
       "\tA -> C;\r\n"
      ]
     },
     "metadata": {},
     "output_type": "display_data"
    },
    {
     "data": {
      "text/html": [
       "<script>$(document).trigger('RENDER_GRAPH', [`digraph {\n",
       "a->A;\n",
       "\tA -> A;\n",
       "\tA -> B;\n",
       "\tA -> C;\n",
       "\tB -> A;\n",
       "}`]);</script>"
      ]
     },
     "metadata": {},
     "output_type": "display_data"
    },
    {
     "data": {
      "text/plain": [
       "a->A;\n",
       "\tA -> A;\n",
       "\tA -> B;\n",
       "\tA -> C;\n",
       "\tB -> A;\r\n"
      ]
     },
     "metadata": {},
     "output_type": "display_data"
    },
    {
     "data": {
      "text/html": [
       "<script>$(document).trigger('RENDER_GRAPH', [`digraph {\n",
       "a->A;\n",
       "\tA -> A;\n",
       "\tA -> B;\n",
       "\tA -> C;\n",
       "\tB -> A;\n",
       "\tB -> B;\n",
       "}`]);</script>"
      ]
     },
     "metadata": {},
     "output_type": "display_data"
    },
    {
     "data": {
      "text/plain": [
       "a->A;\n",
       "\tA -> A;\n",
       "\tA -> B;\n",
       "\tA -> C;\n",
       "\tB -> A;\n",
       "\tB -> B;\r\n"
      ]
     },
     "metadata": {},
     "output_type": "display_data"
    },
    {
     "data": {
      "text/html": [
       "<script>$(document).trigger('RENDER_GRAPH', [`digraph {\n",
       "a->A;\n",
       "\tA -> A;\n",
       "\tA -> B;\n",
       "\tA -> C;\n",
       "\tB -> A;\n",
       "\tB -> B;\n",
       "\tB -> C;\n",
       "}`]);</script>"
      ]
     },
     "metadata": {},
     "output_type": "display_data"
    },
    {
     "data": {
      "text/plain": [
       "a->A;\n",
       "\tA -> A;\n",
       "\tA -> B;\n",
       "\tA -> C;\n",
       "\tB -> A;\n",
       "\tB -> B;\n",
       "\tB -> C;\r\n"
      ]
     },
     "metadata": {},
     "output_type": "display_data"
    },
    {
     "data": {
      "text/html": [
       "<script>$(document).trigger('RENDER_GRAPH', [`digraph {\n",
       "a->A;\n",
       "\tA -> A;\n",
       "\tA -> B;\n",
       "\tA -> C;\n",
       "\tB -> A;\n",
       "\tB -> B;\n",
       "\tB -> C;\n",
       "\tC -> A;\n",
       "}`]);</script>"
      ]
     },
     "metadata": {},
     "output_type": "display_data"
    },
    {
     "data": {
      "text/plain": [
       "a->A;\n",
       "\tA -> A;\n",
       "\tA -> B;\n",
       "\tA -> C;\n",
       "\tB -> A;\n",
       "\tB -> B;\n",
       "\tB -> C;\n",
       "\tC -> A;\r\n"
      ]
     },
     "metadata": {},
     "output_type": "display_data"
    },
    {
     "data": {
      "text/html": [
       "<script>$(document).trigger('RENDER_GRAPH', [`digraph {\n",
       "a->A;\n",
       "\tA -> A;\n",
       "\tA -> B;\n",
       "\tA -> C;\n",
       "\tB -> A;\n",
       "\tB -> B;\n",
       "\tB -> C;\n",
       "\tC -> A;\n",
       "\tC -> B;\n",
       "}`]);</script>"
      ]
     },
     "metadata": {},
     "output_type": "display_data"
    },
    {
     "data": {
      "text/plain": [
       "\"a->A;\n",
       "\tA -> A;\n",
       "\tA -> B;\n",
       "\tA -> C;\n",
       "\tB -> A;\n",
       "\tB -> B;\n",
       "\tB -> C;\n",
       "\tC -> A;\n",
       "\tC -> B;\n",
       "\tC -> C;\""
      ]
     },
     "execution_count": 38,
     "metadata": {},
     "output_type": "execute_result"
    },
    {
     "data": {
      "text/plain": [
       "a->A;\n",
       "\tA -> A;\n",
       "\tA -> B;\n",
       "\tA -> C;\n",
       "\tB -> A;\n",
       "\tB -> B;\n",
       "\tB -> C;\n",
       "\tC -> A;\n",
       "\tC -> B;\r\n"
      ]
     },
     "metadata": {},
     "output_type": "display_data"
    }
   ],
   "source": [
    "let lett = ((+)64>>char)\n",
    "\n",
    "let links = \n",
    "    [for x in 1 .. 3 do\n",
    "        for y in 1..3 do\n",
    "            yield lett x, lett y]\n",
    "    \n",
    "    |> Seq.distinct\n",
    "    |> Seq.map(fun (start,stop) -> sprintf \"\\t%c -> %c;\" start stop)\n",
    "\n",
    "links\n",
    "|> Seq.fold (fun state current -> \n",
    "        sprintf \"digraph {\\n%s\\n}\" state        \n",
    "        |> renderDot |> Display\n",
    "        printfn \"%s\" state\n",
    "        sprintf \"%s\\n%s\" state current\n",
    "    ) \"a->A;\"\n",
    "\n",
    "\n",
    "\n",
    "// |> Seq.reduce(sprintf \"%s\\n%s\")\n",
    "// |> sprintf \"digraph {\\n%s\\n}\"\n",
    "// |> renderDot\n",
    "//[1..10] |> Seq.map(((+)64>>char))\n",
    "\n",
    "// \"\"\"digraph {\n",
    "//      a -> b; \n",
    "//      b -> c; \n",
    "//      a -> c;\n",
    "//  }\"\"\" |> renderDot\n",
    "//renderDot \"digraph { a->b; a->c; c->b; }\""
   ]
  },
  {
   "cell_type": "code",
   "execution_count": null,
   "metadata": {
    "collapsed": false
   },
   "outputs": [],
   "source": [
    "\"\"\"\n",
    "<script>\n",
    " let g = `\n",
    "    digraph  {\n",
    "          Combine1787 -> CompositeFunction1788 [label=\"root function\"];\n",
    "Combine1787 [label=\"Combine1787\"];\n",
    "Combine1787 [shape=ellipse, fontsize=20, penwidth=2, size=0.6];\n",
    "Combine1789 -> CompositeFunction1790 [label=\"root function\"];\n",
    "Combine1789 [label=\"Combine1789\"];\n",
    "Combine1789 [shape=ellipse, fontsize=20, penwidth=2, size=0.6];\n",
    "Combine1791 -> CompositeFunction1792 [label=\"root function\"];\n",
    "Combine1791 [label=\"Combine1791\"];\n",
    "Combine1791 [shape=ellipse, fontsize=20, penwidth=2, size=0.6];\n",
    "Combine1793 -> CompositeFunction1794 [label=\"root function\"];\n",
    "Combine1793 [label=\"Combine1793\"];\n",
    "Combine1793 [shape=ellipse, fontsize=20, penwidth=2, size=0.6];\n",
    "Combine1795 -> CompositeFunction1796 [label=\"root function\"];\n",
    "Combine1795 [label=\"Combine1795\"];\n",
    "Combine1795 [shape=ellipse, fontsize=20, penwidth=2, size=0.6];\n",
    "Combine1797 -> CompositeFunction1798 [label=\"root function\"];\n",
    "Combine1797 [label=\"Combine1797\"];\n",
    "Combine1797 [shape=ellipse, fontsize=20, penwidth=2, size=0.6];\n",
    "Combine1799 -> CompositeFunction1800 [label=\"root function\"];\n",
    "Combine1799 [label=\"Combine1799\"];\n",
    "Combine1799 [shape=ellipse, fontsize=20, penwidth=2, size=0.6];\n",
    "Combine1801 -> CompositeFunction1802 [label=\"root function\"];\n",
    "Combine1801 [label=\"Combine1801\"];\n",
    "Combine1801 [shape=ellipse, fontsize=20, penwidth=2, size=0.6];\n",
    "Combine1803 -> CompositeFunction1804 [label=\"root function\"];\n",
    "Combine1803 [label=\"Combine1803\"];\n",
    "Combine1803 [shape=ellipse, fontsize=20, penwidth=2, size=0.6];\n",
    "    }\n",
    "`\n",
    "$(document).trigger(\"RENDER_GRAPH\", [\"#graph\", g]);\n",
    "</script>\n",
    "\"\"\" |> Util.Html"
   ]
  },
  {
   "cell_type": "code",
   "execution_count": null,
   "metadata": {
    "collapsed": true
   },
   "outputs": [],
   "source": []
  }
 ],
 "metadata": {
  "kernelspec": {
   "display_name": "F#",
   "language": "fsharp",
   "name": "ifsharp"
  },
  "language": "fsharp",
  "language_info": {
   "codemirror_mode": "",
   "file_extension": ".fs",
   "mimetype": "text/x-fsharp",
   "name": "fsharp",
   "nbconvert_exporter": "",
   "pygments_lexer": "",
   "version": "4.3.1.0"
  }
 },
 "nbformat": 4,
 "nbformat_minor": 0
}
