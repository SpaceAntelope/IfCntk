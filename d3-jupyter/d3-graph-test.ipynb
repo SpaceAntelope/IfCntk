{
 "cells": [
  {
   "cell_type": "markdown",
   "metadata": {},
   "source": [
    "<div id=\"graph\" style=\"text-align: center; height: 400px; border: solid lightblue 1px; border-radius: 10px\"></div>"
   ]
  },
  {
   "cell_type": "code",
   "execution_count": 9,
   "metadata": {
    "collapsed": false
   },
   "outputs": [
    {
     "data": {
      "text/html": [
       "<script src=\"dist/bundle.js\"></script>"
      ],
      "text/plain": [
       "{Html = \"<script src=\"dist/bundle.js\"></script>\";}"
      ]
     },
     "execution_count": 9,
     "metadata": {},
     "output_type": "execute_result"
    }
   ],
   "source": [
    "\"<script src=\\\"dist/bundle.js\\\"></script>\" |> Util.Html"
   ]
  },
  {
   "cell_type": "code",
   "execution_count": 10,
   "metadata": {
    "collapsed": false
   },
   "outputs": [],
   "source": [
    "let initGraph jqueryPath = \n",
    "    sprintf \"<script>$(document).trigger('INIT_D3', ['%s']);</script>\" jqueryPath\n",
    "    |> Util.Html\n",
    "    \n",
    "let renderDot dotNotation = \n",
    "    sprintf \"<script>$(document).trigger('RENDER_GRAPH', [`%s`]);</script>\" dotNotation\n",
    "    |> Util.Html\n",
    "    \n",
    "let renderSeries (digraphs : string[]) = \n",
    "    digraphs\n",
    "    |> Array.reduce(sprintf \"%s,`%s`\")\n",
    "    |> sprintf \"<script>$(document).trigger('RENDER_SERIES', [%s]);</script>\"\n",
    "    |> Util.Html    "
   ]
  },
  {
   "cell_type": "code",
   "execution_count": 11,
   "metadata": {
    "collapsed": false
   },
   "outputs": [
    {
     "data": {
      "text/html": [
       "<script>$(document).trigger('INIT_D3', ['#graph']);</script>"
      ],
      "text/plain": [
       "{Html = \"<script>$(document).trigger('INIT_D3', ['#graph']);</script>\";}"
      ]
     },
     "execution_count": 11,
     "metadata": {},
     "output_type": "execute_result"
    }
   ],
   "source": [
    "initGraph \"#graph\""
   ]
  },
  {
   "cell_type": "code",
   "execution_count": 12,
   "metadata": {
    "collapsed": false
   },
   "outputs": [
    {
     "data": {
      "text/html": [
       "<script>$(document).trigger('RENDER_SERIES', [['digraph { a -> A; }','digraph { a -> A; A -> A; }','digraph { a -> A; A -> A; A -> B; }','digraph { a -> A; A -> A; A -> B; A -> C; }','digraph { a -> A; A -> A; A -> B; A -> C; A -> D; }','digraph { a -> A; A -> A; A -> B; A -> C; A -> D; A -> E; }','digraph { a -> A; A -> A; A -> B; A -> C; A -> D; A -> E; A -> F; }','digraph { a -> A; A -> A; A -> B; A -> C; A -> D; A -> E; A -> F; A -> G; }','digraph { a -> A; A -> A; A -> B; A -> C; A -> D; A -> E; A -> F; A -> G; A -> H; }','digraph { a -> A; A -> A; A -> B; A -> C; A -> D; A -> E; A -> F; A -> G; A -> H; B -> A; }','digraph { a -> A; A -> A; A -> B; A -> C; A -> D; A -> E; A -> F; A -> G; A -> H; B -> A; B -> B; }','digraph { a -> A; A -> A; A -> B; A -> C; A -> D; A -> E; A -> F; A -> G; A -> H; B -> A; B -> B; B -> C; }','digraph { a -> A; A -> A; A -> B; A -> C; A -> D; A -> E; A -> F; A -> G; A -> H; B -> A; B -> B; B -> C; B -> D; }','digraph { a -> A; A -> A; A -> B; A -> C; A -> D; A -> E; A -> F; A -> G; A -> H; B -> A; B -> B; B -> C; B -> D; B -> E; }','digraph { a -> A; A -> A; A -> B; A -> C; A -> D; A -> E; A -> F; A -> G; A -> H; B -> A; B -> B; B -> C; B -> D; B -> E; B -> F; }','digraph { a -> A; A -> A; A -> B; A -> C; A -> D; A -> E; A -> F; A -> G; A -> H; B -> A; B -> B; B -> C; B -> D; B -> E; B -> F; B -> G; }','digraph { a -> A; A -> A; A -> B; A -> C; A -> D; A -> E; A -> F; A -> G; A -> H; B -> A; B -> B; B -> C; B -> D; B -> E; B -> F; B -> G; B -> H; }','digraph { a -> A; A -> A; A -> B; A -> C; A -> D; A -> E; A -> F; A -> G; A -> H; B -> A; B -> B; B -> C; B -> D; B -> E; B -> F; B -> G; B -> H; C -> A; }','digraph { a -> A; A -> A; A -> B; A -> C; A -> D; A -> E; A -> F; A -> G; A -> H; B -> A; B -> B; B -> C; B -> D; B -> E; B -> F; B -> G; B -> H; C -> A; C -> B; }','digraph { a -> A; A -> A; A -> B; A -> C; A -> D; A -> E; A -> F; A -> G; A -> H; B -> A; B -> B; B -> C; B -> D; B -> E; B -> F; B -> G; B -> H; C -> A; C -> B; C -> C; }','digraph { a -> A; A -> A; A -> B; A -> C; A -> D; A -> E; A -> F; A -> G; A -> H; B -> A; B -> B; B -> C; B -> D; B -> E; B -> F; B -> G; B -> H; C -> A; C -> B; C -> C; C -> D; }','digraph { a -> A; A -> A; A -> B; A -> C; A -> D; A -> E; A -> F; A -> G; A -> H; B -> A; B -> B; B -> C; B -> D; B -> E; B -> F; B -> G; B -> H; C -> A; C -> B; C -> C; C -> D; C -> E; }','digraph { a -> A; A -> A; A -> B; A -> C; A -> D; A -> E; A -> F; A -> G; A -> H; B -> A; B -> B; B -> C; B -> D; B -> E; B -> F; B -> G; B -> H; C -> A; C -> B; C -> C; C -> D; C -> E; C -> F; }','digraph { a -> A; A -> A; A -> B; A -> C; A -> D; A -> E; A -> F; A -> G; A -> H; B -> A; B -> B; B -> C; B -> D; B -> E; B -> F; B -> G; B -> H; C -> A; C -> B; C -> C; C -> D; C -> E; C -> F; C -> G; }','digraph { a -> A; A -> A; A -> B; A -> C; A -> D; A -> E; A -> F; A -> G; A -> H; B -> A; B -> B; B -> C; B -> D; B -> E; B -> F; B -> G; B -> H; C -> A; C -> B; C -> C; C -> D; C -> E; C -> F; C -> G; C -> H; }','digraph { a -> A; A -> A; A -> B; A -> C; A -> D; A -> E; A -> F; A -> G; A -> H; B -> A; B -> B; B -> C; B -> D; B -> E; B -> F; B -> G; B -> H; C -> A; C -> B; C -> C; C -> D; C -> E; C -> F; C -> G; C -> H; D -> A; }','digraph { a -> A; A -> A; A -> B; A -> C; A -> D; A -> E; A -> F; A -> G; A -> H; B -> A; B -> B; B -> C; B -> D; B -> E; B -> F; B -> G; B -> H; C -> A; C -> B; C -> C; C -> D; C -> E; C -> F; C -> G; C -> H; D -> A; D -> B; }','digraph { a -> A; A -> A; A -> B; A -> C; A -> D; A -> E; A -> F; A -> G; A -> H; B -> A; B -> B; B -> C; B -> D; B -> E; B -> F; B -> G; B -> H; C -> A; C -> B; C -> C; C -> D; C -> E; C -> F; C -> G; C -> H; D -> A; D -> B; D -> C; }','digraph { a -> A; A -> A; A -> B; A -> C; A -> D; A -> E; A -> F; A -> G; A -> H; B -> A; B -> B; B -> C; B -> D; B -> E; B -> F; B -> G; B -> H; C -> A; C -> B; C -> C; C -> D; C -> E; C -> F; C -> G; C -> H; D -> A; D -> B; D -> C; D -> D; }','digraph { a -> A; A -> A; A -> B; A -> C; A -> D; A -> E; A -> F; A -> G; A -> H; B -> A; B -> B; B -> C; B -> D; B -> E; B -> F; B -> G; B -> H; C -> A; C -> B; C -> C; C -> D; C -> E; C -> F; C -> G; C -> H; D -> A; D -> B; D -> C; D -> D; D -> E; }','digraph { a -> A; A -> A; A -> B; A -> C; A -> D; A -> E; A -> F; A -> G; A -> H; B -> A; B -> B; B -> C; B -> D; B -> E; B -> F; B -> G; B -> H; C -> A; C -> B; C -> C; C -> D; C -> E; C -> F; C -> G; C -> H; D -> A; D -> B; D -> C; D -> D; D -> E; D -> F; }','digraph { a -> A; A -> A; A -> B; A -> C; A -> D; A -> E; A -> F; A -> G; A -> H; B -> A; B -> B; B -> C; B -> D; B -> E; B -> F; B -> G; B -> H; C -> A; C -> B; C -> C; C -> D; C -> E; C -> F; C -> G; C -> H; D -> A; D -> B; D -> C; D -> D; D -> E; D -> F; D -> G; }','digraph { a -> A; A -> A; A -> B; A -> C; A -> D; A -> E; A -> F; A -> G; A -> H; B -> A; B -> B; B -> C; B -> D; B -> E; B -> F; B -> G; B -> H; C -> A; C -> B; C -> C; C -> D; C -> E; C -> F; C -> G; C -> H; D -> A; D -> B; D -> C; D -> D; D -> E; D -> F; D -> G; D -> H; }','digraph { a -> A; A -> A; A -> B; A -> C; A -> D; A -> E; A -> F; A -> G; A -> H; B -> A; B -> B; B -> C; B -> D; B -> E; B -> F; B -> G; B -> H; C -> A; C -> B; C -> C; C -> D; C -> E; C -> F; C -> G; C -> H; D -> A; D -> B; D -> C; D -> D; D -> E; D -> F; D -> G; D -> H; E -> A; }','digraph { a -> A; A -> A; A -> B; A -> C; A -> D; A -> E; A -> F; A -> G; A -> H; B -> A; B -> B; B -> C; B -> D; B -> E; B -> F; B -> G; B -> H; C -> A; C -> B; C -> C; C -> D; C -> E; C -> F; C -> G; C -> H; D -> A; D -> B; D -> C; D -> D; D -> E; D -> F; D -> G; D -> H; E -> A; E -> B; }','digraph { a -> A; A -> A; A -> B; A -> C; A -> D; A -> E; A -> F; A -> G; A -> H; B -> A; B -> B; B -> C; B -> D; B -> E; B -> F; B -> G; B -> H; C -> A; C -> B; C -> C; C -> D; C -> E; C -> F; C -> G; C -> H; D -> A; D -> B; D -> C; D -> D; D -> E; D -> F; D -> G; D -> H; E -> A; E -> B; E -> C; }','digraph { a -> A; A -> A; A -> B; A -> C; A -> D; A -> E; A -> F; A -> G; A -> H; B -> A; B -> B; B -> C; B -> D; B -> E; B -> F; B -> G; B -> H; C -> A; C -> B; C -> C; C -> D; C -> E; C -> F; C -> G; C -> H; D -> A; D -> B; D -> C; D -> D; D -> E; D -> F; D -> G; D -> H; E -> A; E -> B; E -> C; E -> D; }','digraph { a -> A; A -> A; A -> B; A -> C; A -> D; A -> E; A -> F; A -> G; A -> H; B -> A; B -> B; B -> C; B -> D; B -> E; B -> F; B -> G; B -> H; C -> A; C -> B; C -> C; C -> D; C -> E; C -> F; C -> G; C -> H; D -> A; D -> B; D -> C; D -> D; D -> E; D -> F; D -> G; D -> H; E -> A; E -> B; E -> C; E -> D; E -> E; }','digraph { a -> A; A -> A; A -> B; A -> C; A -> D; A -> E; A -> F; A -> G; A -> H; B -> A; B -> B; B -> C; B -> D; B -> E; B -> F; B -> G; B -> H; C -> A; C -> B; C -> C; C -> D; C -> E; C -> F; C -> G; C -> H; D -> A; D -> B; D -> C; D -> D; D -> E; D -> F; D -> G; D -> H; E -> A; E -> B; E -> C; E -> D; E -> E; E -> F; }','digraph { a -> A; A -> A; A -> B; A -> C; A -> D; A -> E; A -> F; A -> G; A -> H; B -> A; B -> B; B -> C; B -> D; B -> E; B -> F; B -> G; B -> H; C -> A; C -> B; C -> C; C -> D; C -> E; C -> F; C -> G; C -> H; D -> A; D -> B; D -> C; D -> D; D -> E; D -> F; D -> G; D -> H; E -> A; E -> B; E -> C; E -> D; E -> E; E -> F; E -> G; }','digraph { a -> A; A -> A; A -> B; A -> C; A -> D; A -> E; A -> F; A -> G; A -> H; B -> A; B -> B; B -> C; B -> D; B -> E; B -> F; B -> G; B -> H; C -> A; C -> B; C -> C; C -> D; C -> E; C -> F; C -> G; C -> H; D -> A; D -> B; D -> C; D -> D; D -> E; D -> F; D -> G; D -> H; E -> A; E -> B; E -> C; E -> D; E -> E; E -> F; E -> G; E -> H; }','digraph { a -> A; A -> A; A -> B; A -> C; A -> D; A -> E; A -> F; A -> G; A -> H; B -> A; B -> B; B -> C; B -> D; B -> E; B -> F; B -> G; B -> H; C -> A; C -> B; C -> C; C -> D; C -> E; C -> F; C -> G; C -> H; D -> A; D -> B; D -> C; D -> D; D -> E; D -> F; D -> G; D -> H; E -> A; E -> B; E -> C; E -> D; E -> E; E -> F; E -> G; E -> H; F -> A; }','digraph { a -> A; A -> A; A -> B; A -> C; A -> D; A -> E; A -> F; A -> G; A -> H; B -> A; B -> B; B -> C; B -> D; B -> E; B -> F; B -> G; B -> H; C -> A; C -> B; C -> C; C -> D; C -> E; C -> F; C -> G; C -> H; D -> A; D -> B; D -> C; D -> D; D -> E; D -> F; D -> G; D -> H; E -> A; E -> B; E -> C; E -> D; E -> E; E -> F; E -> G; E -> H; F -> A; F -> B; }','digraph { a -> A; A -> A; A -> B; A -> C; A -> D; A -> E; A -> F; A -> G; A -> H; B -> A; B -> B; B -> C; B -> D; B -> E; B -> F; B -> G; B -> H; C -> A; C -> B; C -> C; C -> D; C -> E; C -> F; C -> G; C -> H; D -> A; D -> B; D -> C; D -> D; D -> E; D -> F; D -> G; D -> H; E -> A; E -> B; E -> C; E -> D; E -> E; E -> F; E -> G; E -> H; F -> A; F -> B; F -> C; }','digraph { a -> A; A -> A; A -> B; A -> C; A -> D; A -> E; A -> F; A -> G; A -> H; B -> A; B -> B; B -> C; B -> D; B -> E; B -> F; B -> G; B -> H; C -> A; C -> B; C -> C; C -> D; C -> E; C -> F; C -> G; C -> H; D -> A; D -> B; D -> C; D -> D; D -> E; D -> F; D -> G; D -> H; E -> A; E -> B; E -> C; E -> D; E -> E; E -> F; E -> G; E -> H; F -> A; F -> B; F -> C; F -> D; }','digraph { a -> A; A -> A; A -> B; A -> C; A -> D; A -> E; A -> F; A -> G; A -> H; B -> A; B -> B; B -> C; B -> D; B -> E; B -> F; B -> G; B -> H; C -> A; C -> B; C -> C; C -> D; C -> E; C -> F; C -> G; C -> H; D -> A; D -> B; D -> C; D -> D; D -> E; D -> F; D -> G; D -> H; E -> A; E -> B; E -> C; E -> D; E -> E; E -> F; E -> G; E -> H; F -> A; F -> B; F -> C; F -> D; F -> E; }','digraph { a -> A; A -> A; A -> B; A -> C; A -> D; A -> E; A -> F; A -> G; A -> H; B -> A; B -> B; B -> C; B -> D; B -> E; B -> F; B -> G; B -> H; C -> A; C -> B; C -> C; C -> D; C -> E; C -> F; C -> G; C -> H; D -> A; D -> B; D -> C; D -> D; D -> E; D -> F; D -> G; D -> H; E -> A; E -> B; E -> C; E -> D; E -> E; E -> F; E -> G; E -> H; F -> A; F -> B; F -> C; F -> D; F -> E; F -> F; }','digraph { a -> A; A -> A; A -> B; A -> C; A -> D; A -> E; A -> F; A -> G; A -> H; B -> A; B -> B; B -> C; B -> D; B -> E; B -> F; B -> G; B -> H; C -> A; C -> B; C -> C; C -> D; C -> E; C -> F; C -> G; C -> H; D -> A; D -> B; D -> C; D -> D; D -> E; D -> F; D -> G; D -> H; E -> A; E -> B; E -> C; E -> D; E -> E; E -> F; E -> G; E -> H; F -> A; F -> B; F -> C; F -> D; F -> E; F -> F; F -> G; }','digraph { a -> A; A -> A; A -> B; A -> C; A -> D; A -> E; A -> F; A -> G; A -> H; B -> A; B -> B; B -> C; B -> D; B -> E; B -> F; B -> G; B -> H; C -> A; C -> B; C -> C; C -> D; C -> E; C -> F; C -> G; C -> H; D -> A; D -> B; D -> C; D -> D; D -> E; D -> F; D -> G; D -> H; E -> A; E -> B; E -> C; E -> D; E -> E; E -> F; E -> G; E -> H; F -> A; F -> B; F -> C; F -> D; F -> E; F -> F; F -> G; F -> H; }','digraph { a -> A; A -> A; A -> B; A -> C; A -> D; A -> E; A -> F; A -> G; A -> H; B -> A; B -> B; B -> C; B -> D; B -> E; B -> F; B -> G; B -> H; C -> A; C -> B; C -> C; C -> D; C -> E; C -> F; C -> G; C -> H; D -> A; D -> B; D -> C; D -> D; D -> E; D -> F; D -> G; D -> H; E -> A; E -> B; E -> C; E -> D; E -> E; E -> F; E -> G; E -> H; F -> A; F -> B; F -> C; F -> D; F -> E; F -> F; F -> G; F -> H; G -> A; }','digraph { a -> A; A -> A; A -> B; A -> C; A -> D; A -> E; A -> F; A -> G; A -> H; B -> A; B -> B; B -> C; B -> D; B -> E; B -> F; B -> G; B -> H; C -> A; C -> B; C -> C; C -> D; C -> E; C -> F; C -> G; C -> H; D -> A; D -> B; D -> C; D -> D; D -> E; D -> F; D -> G; D -> H; E -> A; E -> B; E -> C; E -> D; E -> E; E -> F; E -> G; E -> H; F -> A; F -> B; F -> C; F -> D; F -> E; F -> F; F -> G; F -> H; G -> A; G -> B; }','digraph { a -> A; A -> A; A -> B; A -> C; A -> D; A -> E; A -> F; A -> G; A -> H; B -> A; B -> B; B -> C; B -> D; B -> E; B -> F; B -> G; B -> H; C -> A; C -> B; C -> C; C -> D; C -> E; C -> F; C -> G; C -> H; D -> A; D -> B; D -> C; D -> D; D -> E; D -> F; D -> G; D -> H; E -> A; E -> B; E -> C; E -> D; E -> E; E -> F; E -> G; E -> H; F -> A; F -> B; F -> C; F -> D; F -> E; F -> F; F -> G; F -> H; G -> A; G -> B; G -> C; }','digraph { a -> A; A -> A; A -> B; A -> C; A -> D; A -> E; A -> F; A -> G; A -> H; B -> A; B -> B; B -> C; B -> D; B -> E; B -> F; B -> G; B -> H; C -> A; C -> B; C -> C; C -> D; C -> E; C -> F; C -> G; C -> H; D -> A; D -> B; D -> C; D -> D; D -> E; D -> F; D -> G; D -> H; E -> A; E -> B; E -> C; E -> D; E -> E; E -> F; E -> G; E -> H; F -> A; F -> B; F -> C; F -> D; F -> E; F -> F; F -> G; F -> H; G -> A; G -> B; G -> C; G -> D; }','digraph { a -> A; A -> A; A -> B; A -> C; A -> D; A -> E; A -> F; A -> G; A -> H; B -> A; B -> B; B -> C; B -> D; B -> E; B -> F; B -> G; B -> H; C -> A; C -> B; C -> C; C -> D; C -> E; C -> F; C -> G; C -> H; D -> A; D -> B; D -> C; D -> D; D -> E; D -> F; D -> G; D -> H; E -> A; E -> B; E -> C; E -> D; E -> E; E -> F; E -> G; E -> H; F -> A; F -> B; F -> C; F -> D; F -> E; F -> F; F -> G; F -> H; G -> A; G -> B; G -> C; G -> D; G -> E; }','digraph { a -> A; A -> A; A -> B; A -> C; A -> D; A -> E; A -> F; A -> G; A -> H; B -> A; B -> B; B -> C; B -> D; B -> E; B -> F; B -> G; B -> H; C -> A; C -> B; C -> C; C -> D; C -> E; C -> F; C -> G; C -> H; D -> A; D -> B; D -> C; D -> D; D -> E; D -> F; D -> G; D -> H; E -> A; E -> B; E -> C; E -> D; E -> E; E -> F; E -> G; E -> H; F -> A; F -> B; F -> C; F -> D; F -> E; F -> F; F -> G; F -> H; G -> A; G -> B; G -> C; G -> D; G -> E; G -> F; }','digraph { a -> A; A -> A; A -> B; A -> C; A -> D; A -> E; A -> F; A -> G; A -> H; B -> A; B -> B; B -> C; B -> D; B -> E; B -> F; B -> G; B -> H; C -> A; C -> B; C -> C; C -> D; C -> E; C -> F; C -> G; C -> H; D -> A; D -> B; D -> C; D -> D; D -> E; D -> F; D -> G; D -> H; E -> A; E -> B; E -> C; E -> D; E -> E; E -> F; E -> G; E -> H; F -> A; F -> B; F -> C; F -> D; F -> E; F -> F; F -> G; F -> H; G -> A; G -> B; G -> C; G -> D; G -> E; G -> F; G -> G; }','digraph { a -> A; A -> A; A -> B; A -> C; A -> D; A -> E; A -> F; A -> G; A -> H; B -> A; B -> B; B -> C; B -> D; B -> E; B -> F; B -> G; B -> H; C -> A; C -> B; C -> C; C -> D; C -> E; C -> F; C -> G; C -> H; D -> A; D -> B; D -> C; D -> D; D -> E; D -> F; D -> G; D -> H; E -> A; E -> B; E -> C; E -> D; E -> E; E -> F; E -> G; E -> H; F -> A; F -> B; F -> C; F -> D; F -> E; F -> F; F -> G; F -> H; G -> A; G -> B; G -> C; G -> D; G -> E; G -> F; G -> G; G -> H; }','digraph { a -> A; A -> A; A -> B; A -> C; A -> D; A -> E; A -> F; A -> G; A -> H; B -> A; B -> B; B -> C; B -> D; B -> E; B -> F; B -> G; B -> H; C -> A; C -> B; C -> C; C -> D; C -> E; C -> F; C -> G; C -> H; D -> A; D -> B; D -> C; D -> D; D -> E; D -> F; D -> G; D -> H; E -> A; E -> B; E -> C; E -> D; E -> E; E -> F; E -> G; E -> H; F -> A; F -> B; F -> C; F -> D; F -> E; F -> F; F -> G; F -> H; G -> A; G -> B; G -> C; G -> D; G -> E; G -> F; G -> G; G -> H; H -> A; }','digraph { a -> A; A -> A; A -> B; A -> C; A -> D; A -> E; A -> F; A -> G; A -> H; B -> A; B -> B; B -> C; B -> D; B -> E; B -> F; B -> G; B -> H; C -> A; C -> B; C -> C; C -> D; C -> E; C -> F; C -> G; C -> H; D -> A; D -> B; D -> C; D -> D; D -> E; D -> F; D -> G; D -> H; E -> A; E -> B; E -> C; E -> D; E -> E; E -> F; E -> G; E -> H; F -> A; F -> B; F -> C; F -> D; F -> E; F -> F; F -> G; F -> H; G -> A; G -> B; G -> C; G -> D; G -> E; G -> F; G -> G; G -> H; H -> A; H -> B; }','digraph { a -> A; A -> A; A -> B; A -> C; A -> D; A -> E; A -> F; A -> G; A -> H; B -> A; B -> B; B -> C; B -> D; B -> E; B -> F; B -> G; B -> H; C -> A; C -> B; C -> C; C -> D; C -> E; C -> F; C -> G; C -> H; D -> A; D -> B; D -> C; D -> D; D -> E; D -> F; D -> G; D -> H; E -> A; E -> B; E -> C; E -> D; E -> E; E -> F; E -> G; E -> H; F -> A; F -> B; F -> C; F -> D; F -> E; F -> F; F -> G; F -> H; G -> A; G -> B; G -> C; G -> D; G -> E; G -> F; G -> G; G -> H; H -> A; H -> B; H -> C; }','digraph { a -> A; A -> A; A -> B; A -> C; A -> D; A -> E; A -> F; A -> G; A -> H; B -> A; B -> B; B -> C; B -> D; B -> E; B -> F; B -> G; B -> H; C -> A; C -> B; C -> C; C -> D; C -> E; C -> F; C -> G; C -> H; D -> A; D -> B; D -> C; D -> D; D -> E; D -> F; D -> G; D -> H; E -> A; E -> B; E -> C; E -> D; E -> E; E -> F; E -> G; E -> H; F -> A; F -> B; F -> C; F -> D; F -> E; F -> F; F -> G; F -> H; G -> A; G -> B; G -> C; G -> D; G -> E; G -> F; G -> G; G -> H; H -> A; H -> B; H -> C; H -> D; }','digraph { a -> A; A -> A; A -> B; A -> C; A -> D; A -> E; A -> F; A -> G; A -> H; B -> A; B -> B; B -> C; B -> D; B -> E; B -> F; B -> G; B -> H; C -> A; C -> B; C -> C; C -> D; C -> E; C -> F; C -> G; C -> H; D -> A; D -> B; D -> C; D -> D; D -> E; D -> F; D -> G; D -> H; E -> A; E -> B; E -> C; E -> D; E -> E; E -> F; E -> G; E -> H; F -> A; F -> B; F -> C; F -> D; F -> E; F -> F; F -> G; F -> H; G -> A; G -> B; G -> C; G -> D; G -> E; G -> F; G -> G; G -> H; H -> A; H -> B; H -> C; H -> D; H -> E; }','digraph { a -> A; A -> A; A -> B; A -> C; A -> D; A -> E; A -> F; A -> G; A -> H; B -> A; B -> B; B -> C; B -> D; B -> E; B -> F; B -> G; B -> H; C -> A; C -> B; C -> C; C -> D; C -> E; C -> F; C -> G; C -> H; D -> A; D -> B; D -> C; D -> D; D -> E; D -> F; D -> G; D -> H; E -> A; E -> B; E -> C; E -> D; E -> E; E -> F; E -> G; E -> H; F -> A; F -> B; F -> C; F -> D; F -> E; F -> F; F -> G; F -> H; G -> A; G -> B; G -> C; G -> D; G -> E; G -> F; G -> G; G -> H; H -> A; H -> B; H -> C; H -> D; H -> E; H -> F; }','digraph { a -> A; A -> A; A -> B; A -> C; A -> D; A -> E; A -> F; A -> G; A -> H; B -> A; B -> B; B -> C; B -> D; B -> E; B -> F; B -> G; B -> H; C -> A; C -> B; C -> C; C -> D; C -> E; C -> F; C -> G; C -> H; D -> A; D -> B; D -> C; D -> D; D -> E; D -> F; D -> G; D -> H; E -> A; E -> B; E -> C; E -> D; E -> E; E -> F; E -> G; E -> H; F -> A; F -> B; F -> C; F -> D; F -> E; F -> F; F -> G; F -> H; G -> A; G -> B; G -> C; G -> D; G -> E; G -> F; G -> G; G -> H; H -> A; H -> B; H -> C; H -> D; H -> E; H -> F; H -> G; }','digraph { a -> A; A -> A; A -> B; A -> C; A -> D; A -> E; A -> F; A -> G; A -> H; B -> A; B -> B; B -> C; B -> D; B -> E; B -> F; B -> G; B -> H; C -> A; C -> B; C -> C; C -> D; C -> E; C -> F; C -> G; C -> H; D -> A; D -> B; D -> C; D -> D; D -> E; D -> F; D -> G; D -> H; E -> A; E -> B; E -> C; E -> D; E -> E; E -> F; E -> G; E -> H; F -> A; F -> B; F -> C; F -> D; F -> E; F -> F; F -> G; F -> H; G -> A; G -> B; G -> C; G -> D; G -> E; G -> F; G -> G; G -> H; H -> A; H -> B; H -> C; H -> D; H -> E; H -> F; H -> G; H -> H; }']]);</script>"
      ],
      "text/plain": [
       "{Html =\n",
       "  \"<script>$(document).trigger('RENDER_SERIES', [['digraph { a -> A; }','digraph { a -> A; A -> A; }','digraph { a -> A; A -> A; A -> B; }','digraph { a -> A; A -> A; A -> B; A -> C; }','digraph { a -> A; A -> A; A -> B; A -> C; A -> D; }','digraph { a -> A; A -> A; A -> B; A -> C; A -> D; A -> E; }','digraph { a -> A; A -> A; A -> B; A -> C; A -> D; A -> E; A -> F; }','digraph { a -> A; A -> A; A -> B; A -> C; A -> D; A -> E; A -> F; A -> G; }','digraph { a -> A; A -> A; A -> B; A -> C; A -> D; A -> E; A -> F; A -> G; A -> H; }','digraph { a -> A; A -> A; A -> B; A -> C; A -> D; A -> E; A -> F; A -> G; A -> H; B -> A; }','digraph { a -> A; A -> A; A -> B; A -> C; A -> D; A -> E; A -> F; A -> G; A -> H; B -> A; B -> B; }','digraph { a -> A; A -> A; A -> B; A -> C; A -> D; A -> E; A -> F; A -> G; A -> H; B -> A; B -> B; B -> C; }','digraph { a -> A; A -> A; A -> B; A -> C; A -> D; A -> E; A -> F; A -> G; A -> H; B -> A; B -> B; B -> C; B -> D; }','digraph { a -> A; A -> A; A -> B; A -> C; A -> D; A -> E; A -> F; A -> G; A -> H; B -> A; B -> B; B -> C; B -> D; B -> E; }','digraph { a -> A; A -> A; A -> B; A -> C; A -> D; A -> E; A -> F; A -> G; A -> H; B -> A; B -> B; B -> C; B -> D; B -> E; B -> F; }','digraph { a -> A; A -> A; A -> B; A -> C; A -> D; A -> E; A -> F; A -> G; A -> H; B -> A; B -> B; B -> C; B -> D; B -> E; B -> F; B -> G; }','digraph { a -> A; A -> A; A -> B; A -> C; A -> D; A -> E; A -> F; A -> G; A -> H; B -> A; B -> B; B -> C; B -> D; B -> E; B -> F; B -> G; B -> H; }','digraph { a -> A; A -> A; A -> B; A -> C; A -> D; A -> E; A -> F; A -> G; A -> H; B -> A; B -> B; B -> C; B -> D; B -> E; B -> F; B -> G; B -> H; C -> A; }','digraph { a -> A; A -> A; A -> B; A -> C; A -> D; A -> E; A -> F; A -> G; A -> H; B -> A; B -> B; B -> C; B -> D; B -> E; B -> F; B -> G; B -> H; C -> A; C -> B; }','digraph { a -> A; A -> A; A -> B; A -> C; A -> D; A -> E; A -> F; A -> G; A -> H; B -> A; B -> B; B -> C; B -> D; B -> E; B -> F; B -> G; B -> H; C -> A; C -> B; C -> C; }','digraph { a -> A; A -> A; A -> B; A -> C; A -> D; A -> E; A -> F; A -> G; A -> H; B -> A; B -> B; B -> C; B -> D; B -> E; B -> F; B -> G; B -> H; C -> A; C -> B; C -> C; C -> D; }','digraph { a -> A; A -> A; A -> B; A -> C; A -> D; A -> E; A -> F; A -> G; A -> H; B -> A; B -> B; B -> C; B -> D; B -> E; B -> F; B -> G; B -> H; C -> A; C -> B; C -> C; C -> D; C -> E; }','digraph { a -> A; A -> A; A -> B; A -> C; A -> D; A -> E; A -> F; A -> G; A -> H; B -> A; B -> B; B -> C; B -> D; B -> E; B -> F; B -> G; B -> H; C -> A; C -> B; C -> C; C -> D; C -> E; C -> F; }','digraph { a -> A; A -> A; A -> B; A -> C; A -> D; A -> E; A -> F; A -> G; A -> H; B -> A; B -> B; B -> C; B -> D; B -> E; B -> F; B -> G; B -> H; C -> A; C -> B; C -> C; C -> D; C -> E; C -> F; C -> G; }','digraph { a -> A; A -> A; A -> B; A -> C; A -> D; A -> E; A -> F; A -> G; A -> H; B -> A; B -> B; B -> C; B -> D; B -> E; B -> F; B -> G; B -> H; C -> A; C -> B; C -> C; C -> D; C -> E; C -> F; C -> G; C -> H; }','digraph { a -> A; A -> A; A -> B; A -> C; A -> D; A -> E; A -> F; A -> G; A -> H; B -> A; B -> B; B -> C; B -> D; B -> E; B -> F; B -> G; B -> H; C -> A; C -> B; C -> C; C -> D; C -> E; C -> F; C -> G; C -> H; D -> A; }','digraph { a -> A; A -> A; A -> B; A -> C; A -> D; A -> E; A -> F; A -> G; A -> H; B -> A; B -> B; B -> C; B -> D; B -> E; B -> F; B -> G; B -> H; C -> A; C -> B; C -> C; C -> D; C -> E; C -> F; C -> G; C -> H; D -> A; D -> B; }','digraph { a -> A; A -> A; A -> B; A -> C; A -> D; A -> E; A -> F; A -> G; A -> H; B -> A; B -> B; B -> C; B -> D; B -> E; B -> F; B -> G; B -> H; C -> A; C -> B; C -> C; C -> D; C -> E; C -> F; C -> G; C -> H; D -> A; D -> B; D -> C; }','digraph { a -> A; A -> A; A -> B; A -> C; A -> D; A -> E; A -> F; A -> G; A -> H; B -> A; B -> B; B -> C; B -> D; B -> E; B -> F; B -> G; B -> H; C -> A; C -> B; C -> C; C -> D; C -> E; C -> F; C -> G; C -> H; D -> A; D -> B; D -> C; D -> D; }','digraph { a -> A; A -> A; A -> B; A -> C; A -> D; A -> E; A -> F; A -> G; A -> H; B -> A; B -> B; B -> C; B -> D; B -> E; B -> F; B -> G; B -> H; C -> A; C -> B; C -> C; C -> D; C -> E; C -> F; C -> G; C -> H; D -> A; D -> B; D -> C; D -> D; D -> E; }','digraph { a -> A; A -> A; A -> B; A -> C; A -> D; A -> E; A -> F; A -> G; A -> H; B -> A; B -> B; B -> C; B -> D; B -> E; B -> F; B -> G; B -> H; C -> A; C -> B; C -> C; C -> D; C -> E; C -> F; C -> G; C -> H; D -> A; D -> B; D -> C; D -> D; D -> E; D -> F; }','digraph { a -> A; A -> A; A -> B; A -> C; A -> D; A -> E; A -> F; A -> G; A -> H; B -> A; B -> B; B -> C; B -> D; B -> E; B -> F; B -> G; B -> H; C -> A; C -> B; C -> C; C -> D; C -> E; C -> F; C -> G; C -> H; D -> A; D -> B; D -> C; D -> D; D -> E; D -> F; D -> G; }','digraph { a -> A; A -> A; A -> B; A -> C; A -> D; A -> E; A -> F; A -> G; A -> H; B -> A; B -> B; B -> C; B -> D; B -> E; B -> F; B -> G; B -> H; C -> A; C -> B; C -> C; C -> D; C -> E; C -> F; C -> G; C -> H; D -> A; D -> B; D -> C; D -> D; D -> E; D -> F; D -> G; D -> H; }','digraph { a -> A; A -> A; A -> B; A -> C; A -> D; A -> E; A -> F; A -> G; A -> H; B -> A; B -> B; B -> C; B -> D; B -> E; B -> F; B -> G; B -> H; C -> A; C -> B; C -> C; C -> D; C -> E; C -> F; C -> G; C -> H; D -> A; D -> B; D -> C; D -> D; D -> E; D -> F; D -> G; D -> H; E -> A; }','digraph { a -> A; A -> A; A -> B; A -> C; A -> D; A -> E; A -> F; A -> G; A -> H; B -> A; B -> B; B -> C; B -> D; B -> E; B -> F; B -> G; B -> H; C -> A; C -> B; C -> C; C -> D; C -> E; C -> F; C -> G; C -> H; D -> A; D -> B; D -> C; D -> D; D -> E; D -> F; D -> G; D -> H; E -> A; E -> B; }','digraph { a -> A; A -> A; A -> B; A -> C; A -> D; A -> E; A -> F; A -> G; A -> H; B -> A; B -> B; B -> C; B -> D; B -> E; B -> F; B -> G; B -> H; C -> A; C -> B; C -> C; C -> D; C -> E; C -> F; C -> G; C -> H; D -> A; D -> B; D -> C; D -> D; D -> E; D -> F; D -> G; D -> H; E -> A; E -> B; E -> C; }','digraph { a -> A; A -> A; A -> B; A -> C; A -> D; A -> E; A -> F; A -> G; A -> H; B -> A; B -> B; B -> C; B -> D; B -> E; B -> F; B -> G; B -> H; C -> A; C -> B; C -> C; C -> D; C -> E; C -> F; C -> G; C -> H; D -> A; D -> B; D -> C; D -> D; D -> E; D -> F; D -> G; D -> H; E -> A; E -> B; E -> C; E -> D; }','digraph { a -> A; A -> A; A -> B; A -> C; A -> D; A -> E; A -> F; A -> G; A -> H; B -> A; B -> B; B -> C; B -> D; B -> E; B -> F; B -> G; B -> H; C -> A; C -> B; C -> C; C -> D; C -> E; C -> F; C -> G; C -> H; D -> A; D -> B; D -> C; D -> D; D -> E; D -> F; D -> G; D -> H; E -> A; E -> B; E -> C; E -> D; E -> E; }','digraph { a -> A; A -> A; A -> B; A -> C; A -> D; A -> E; A -> F; A -> G; A -> H; B -> A; B -> B; B -> C; B -> D; B -> E; B -> F; B -> G; B -> H; C -> A; C -> B; C -> C; C -> D; C -> E; C -> F; C -> G; C -> H; D -> A; D -> B; D -> C; D -> D; D -> E; D -> F; D -> G; D -> H; E -> A; E -> B; E -> C; E -> D; E -> E; E -> F; }','digraph { a -> A; A -> A; A -> B; A -> C; A -> D; A -> E; A -> F; A -> G; A -> H; B -> A; B -> B; B -> C; B -> D; B -> E; B -> F; B -> G; B -> H; C -> A; C -> B; C -> C; C -> D; C -> E; C -> F; C -> G; C -> H; D -> A; D -> B; D -> C; D -> D; D -> E; D -> F; D -> G; D -> H; E -> A; E -> B; E -> C; E -> D; E -> E; E -> F; E -> G; }','digraph { a -> A; A -> A; A -> B; A -> C; A -> D; A -> E; A -> F; A -> G; A -> H; B -> A; B -> B; B -> C; B -> D; B -> E; B -> F; B -> G; B -> H; C -> A; C -> B; C -> C; C -> D; C -> E; C -> F; C -> G; C -> H; D -> A; D -> B; D -> C; D -> D; D -> E; D -> F; D -> G; D -> H; E -> A; E -> B; E -> C; E -> D; E -> E; E -> F; E -> G; E -> H; }','digraph { a -> A; A -> A; A -> B; A -> C; A -> D; A -> E; A -> F; A -> G; A -> H; B -> A; B -> B; B -> C; B -> D; B -> E; B -> F; B -> G; B -> H; C -> A; C -> B; C -> C; C -> D; C -> E; C -> F; C -> G; C -> H; D -> A; D -> B; D -> C; D -> D; D -> E; D -> F; D -> G; D -> H; E -> A; E -> B; E -> C; E -> D; E -> E; E -> F; E -> G; E -> H; F -> A; }','digraph { a -> A; A -> A; A -> B; A -> C; A -> D; A -> E; A -> F; A -> G; A -> H; B -> A; B -> B; B -> C; B -> D; B -> E; B -> F; B -> G; B -> H; C -> A; C -> B; C -> C; C -> D; C -> E; C -> F; C -> G; C -> H; D -> A; D -> B; D -> C; D -> D; D -> E; D -> F; D -> G; D -> H; E -> A; E -> B; E -> C; E -> D; E -> E; E -> F; E -> G; E -> H; F -> A; F -> B; }','digraph { a -> A; A -> A; A -> B; A -> C; A -> D; A -> E; A -> F; A -> G; A -> H; B -> A; B -> B; B -> C; B -> D; B -> E; B -> F; B -> G; B -> H; C -> A; C -> B; C -> C; C -> D; C -> E; C -> F; C -> G; C -> H; D -> A; D -> B; D -> C; D -> D; D -> E; D -> F; D -> G; D -> H; E -> A; E -> B; E -> C; E -> D; E -> E; E -> F; E -> G; E -> H; F -> A; F -> B; F -> C; }','digraph { a -> A; A -> A; A -> B; A -> C; A -> D; A -> E; A -> F; A -> G; A -> H; B -> A; B -> B; B -> C; B -> D; B -> E; B -> F; B -> G; B -> H; C -> A; C -> B; C -> C; C -> D; C -> E; C -> F; C -> G; C -> H; D -> A; D -> B; D -> C; D -> D; D -> E; D -> F; D -> G; D -> H; E -> A; E -> B; E -> C; E -> D; E -> E; E -> F; E -> G; E -> H; F -> A; F -> B; F -> C; F -> D; }','digraph { a -> A; A -> A; A -> B; A -> C; A -> D; A -> E; A -> F; A -> G; A -> H; B -> A; B -> B; B -> C; B -> D; B -> E; B -> F; B -> G; B -> H; C -> A; C -> B; C -> C; C -> D; C -> E; C -> F; C -> G; C -> H; D -> A; D -> B; D -> C; D -> D; D -> E; D -> F; D -> G; D -> H; E -> A; E -> B; E -> C; E -> D; E -> E; E -> F; E -> G; E -> H; F -> A; F -> B; F -> C; F -> D; F -> E; }','digraph { a -> A; A -> A; A -> B; A -> C; A -> D; A -> E; A -> F; A -> G; A -> H; B -> A; B -> B; B -> C; B -> D; B -> E; B -> F; B -> G; B -> H; C -> A; C -> B; C -> C; C -> D; C -> E; C -> F; C -> G; C -> H; D -> A; D -> B; D -> C; D -> D; D -> E; D -> F; D -> G; D -> H; E -> A; E -> B; E -> C; E -> D; E -> E; E -> F; E -> G; E -> H; F -> A; F -> B; F -> C; F -> D; F -> E; F -> F; }','digraph { a -> A; A -> A; A -> B; A -> C; A -> D; A -> E; A -> F; A -> G; A -> H; B -> A; B -> B; B -> C; B -> D; B -> E; B -> F; B -> G; B -> H; C -> A; C -> B; C -> C; C -> D; C -> E; C -> F; C -> G; C -> H; D -> A; D -> B; D -> C; D -> D; D -> E; D -> F; D -> G; D -> H; E -> A; E -> B; E -> C; E -> D; E -> E; E -> F; E -> G; E -> H; F -> A; F -> B; F -> C; F -> D; F -> E; F -> F; F -> G; }','digraph { a -> A; A -> A; A -> B; A -> C; A -> D; A -> E; A -> F; A -> G; A -> H; B -> A; B -> B; B -> C; B -> D; B -> E; B -> F; B -> G; B -> H; C -> A; C -> B; C -> C; C -> D; C -> E; C -> F; C -> G; C -> H; D -> A; D -> B; D -> C; D -> D; D -> E; D -> F; D -> G; D -> H; E -> A; E -> B; E -> C; E -> D; E -> E; E -> F; E -> G; E -> H; F -> A; F -> B; F -> C; F -> D; F -> E; F -> F; F -> G; F -> H; }','digraph { a -> A; A -> A; A -> B; A -> C; A -> D; A -> E; A -> F; A -> G; A -> H; B -> A; B -> B; B -> C; B -> D; B -> E; B -> F; B -> G; B -> H; C -> A; C -> B; C -> C; C -> D; C -> E; C -> F; C -> G; C -> H; D -> A; D -> B; D -> C; D -> D; D -> E; D -> F; D -> G; D -> H; E -> A; E -> B; E -> C; E -> D; E -> E; E -> F; E -> G; E -> H; F -> A; F -> B; F -> C; F -> D; F -> E; F -> F; F -> G; F -> H; G -> A; }','digraph { a -> A; A -> A; A -> B; A -> C; A -> D; A -> E; A -> F; A -> G; A -> H; B -> A; B -> B; B -> C; B -> D; B -> E; B -> F; B -> G; B -> H; C -> A; C -> B; C -> C; C -> D; C -> E; C -> F; C -> G; C -> H; D -> A; D -> B; D -> C; D -> D; D -> E; D -> F; D -> G; D -> H; E -> A; E -> B; E -> C; E -> D; E -> E; E -> F; E -> G; E -> H; F -> A; F -> B; F -> C; F -> D; F -> E; F -> F; F -> G; F -> H; G -> A; G -> B; }','digraph { a -> A; A -> A; A -> B; A -> C; A -> D; A -> E; A -> F; A -> G; A -> H; B -> A; B -> B; B -> C; B -> D; B -> E; B -> F; B -> G; B -> H; C -> A; C -> B; C -> C; C -> D; C -> E; C -> F; C -> G; C -> H; D -> A; D -> B; D -> C; D -> D; D -> E; D -> F; D -> G; D -> H; E -> A; E -> B; E -> C; E -> D; E -> E; E -> F; E -> G; E -> H; F -> A; F -> B; F -> C; F -> D; F -> E; F -> F; F -> G; F -> H; G -> A; G -> B; G -> C; }','digraph { a -> A; A -> A; A -> B; A -> C; A -> D; A -> E; A -> F; A -> G; A -> H; B -> A; B -> B; B -> C; B -> D; B -> E; B -> F; B -> G; B -> H; C -> A; C -> B; C -> C; C -> D; C -> E; C -> F; C -> G; C -> H; D -> A; D -> B; D -> C; D -> D; D -> E; D -> F; D -> G; D -> H; E -> A; E -> B; E -> C; E -> D; E -> E; E -> F; E -> G; E -> H; F -> A; F -> B; F -> C; F -> D; F -> E; F -> F; F -> G; F -> H; G -> A; G -> B; G -> C; G -> D; }','digraph { a -> A; A -> A; A -> B; A -> C; A -> D; A -> E; A -> F; A -> G; A -> H; B -> A; B -> B; B -> C; B -> D; B -> E; B -> F; B -> G; B -> H; C -> A; C -> B; C -> C; C -> D; C -> E; C -> F; C -> G; C -> H; D -> A; D -> B; D -> C; D -> D; D -> E; D -> F; D -> G; D -> H; E -> A; E -> B; E -> C; E -> D; E -> E; E -> F; E -> G; E -> H; F -> A; F -> B; F -> C; F -> D; F -> E; F -> F; F -> G; F -> H; G -> A; G -> B; G -> C; G -> D; G -> E; }','digraph { a -> A; A -> A; A -> B; A -> C; A -> D; A -> E; A -> F; A -> G; A -> H; B -> A; B -> B; B -> C; B -> D; B -> E; B -> F; B -> G; B -> H; C -> A; C -> B; C -> C; C -> D; C -> E; C -> F; C -> G; C -> H; D -> A; D -> B; D -> C; D -> D; D -> E; D -> F; D -> G; D -> H; E -> A; E -> B; E -> C; E -> D; E -> E; E -> F; E -> G; E -> H; F -> A; F -> B; F -> C; F -> D; F -> E; F -> F; F -> G; F -> H; G -> A; G -> B; G -> C; G -> D; G -> E; G -> F; }','digraph { a -> A; A -> A; A -> B; A -> C; A -> D; A -> E; A -> F; A -> G; A -> H; B -> A; B -> B; B -> C; B -> D; B -> E; B -> F; B -> G; B -> H; C -> A; C -> B; C -> C; C -> D; C -> E; C -> F; C -> G; C -> H; D -> A; D -> B; D -> C; D -> D; D -> E; D -> F; D -> G; D -> H; E -> A; E -> B; E -> C; E -> D; E -> E; E -> F; E -> G; E -> H; F -> A; F -> B; F -> C; F -> D; F -> E; F -> F; F -> G; F -> H; G -> A; G -> B; G -> C; G -> D; G -> E; G -> F; G -> G; }','digraph { a -> A; A -> A; A -> B; A -> C; A -> D; A -> E; A -> F; A -> G; A -> H; B -> A; B -> B; B -> C; B -> D; B -> E; B -> F; B -> G; B -> H; C -> A; C -> B; C -> C; C -> D; C -> E; C -> F; C -> G; C -> H; D -> A; D -> B; D -> C; D -> D; D -> E; D -> F; D -> G; D -> H; E -> A; E -> B; E -> C; E -> D; E -> E; E -> F; E -> G; E -> H; F -> A; F -> B; F -> C; F -> D; F -> E; F -> F; F -> G; F -> H; G -> A; G -> B; G -> C; G -> D; G -> E; G -> F; G -> G; G -> H; }','digraph { a -> A; A -> A; A -> B; A -> C; A -> D; A -> E; A -> F; A -> G; A -> H; B -> A; B -> B; B -> C; B -> D; B -> E; B -> F; B -> G; B -> H; C -> A; C -> B; C -> C; C -> D; C -> E; C -> F; C -> G; C -> H; D -> A; D -> B; D -> C; D -> D; D -> E; D -> F; D -> G; D -> H; E -> A; E -> B; E -> C; E -> D; E -> E; E -> F; E -> G; E -> H; F -> A; F -> B; F -> C; F -> D; F -> E; F -> F; F -> G; F -> H; G -> A; G -> B; G -> C; G -> D; G -> E; G -> F; G -> G; G -> H; H -> A; }','digraph { a -> A; A -> A; A -> B; A -> C; A -> D; A -> E; A -> F; A -> G; A -> H; B -> A; B -> B; B -> C; B -> D; B -> E; B -> F; B -> G; B -> H; C -> A; C -> B; C -> C; C -> D; C -> E; C -> F; C -> G; C -> H; D -> A; D -> B; D -> C; D -> D; D -> E; D -> F; D -> G; D -> H; E -> A; E -> B; E -> C; E -> D; E -> E; E -> F; E -> G; E -> H; F -> A; F -> B; F -> C; F -> D; F -> E; F -> F; F -> G; F -> H; G -> A; G -> B; G -> C; G -> D; G -> E; G -> F; G -> G; G -> H; H -> A; H -> B; }','digraph { a -> A; A -> A; A -> B; A -> C; A -> D; A -> E; A -> F; A -> G; A -> H; B -> A; B -> B; B -> C; B -> D; B -> E; B -> F; B -> G; B -> H; C -> A; C -> B; C -> C; C -> D; C -> E; C -> F; C -> G; C -> H; D -> A; D -> B; D -> C; D -> D; D -> E; D -> F; D -> G; D -> H; E -> A; E -> B; E -> C; E -> D; E -> E; E -> F; E -> G; E -> H; F -> A; F -> B; F -> C; F -> D; F -> E; F -> F; F -> G; F -> H; G -> A; G -> B; G -> C; G -> D; G -> E; G -> F; G -> G; G -> H; H -> A; H -> B; H -> C; }','digraph { a -> A; A -> A; A -> B; A -> C; A -> D; A -> E; A -> F; A -> G; A -> H; B -> A; B -> B; B -> C; B -> D; B -> E; B -> F; B -> G; B -> H; C -> A; C -> B; C -> C; C -> D; C -> E; C -> F; C -> G; C -> H; D -> A; D -> B; D -> C; D -> D; D -> E; D -> F; D -> G; D -> H; E -> A; E -> B; E -> C; E -> D; E -> E; E -> F; E -> G; E -> H; F -> A; F -> B; F -> C; F -> D; F -> E; F -> F; F -> G; F -> H; G -> A; G -> B; G -> C; G -> D; G -> E; G -> F; G -> G; G -> H; H -> A; H -> B; H -> C; H -> D; }','digraph { a -> A; A -> A; A -> B; A -> C; A -> D; A -> E; A -> F; A -> G; A -> H; B -> A; B -> B; B -> C; B -> D; B -> E; B -> F; B -> G; B -> H; C -> A; C -> B; C -> C; C -> D; C -> E; C -> F; C -> G; C -> H; D -> A; D -> B; D -> C; D -> D; D -> E; D -> F; D -> G; D -> H; E -> A; E -> B; E -> C; E -> D; E -> E; E -> F; E -> G; E -> H; F -> A; F -> B; F -> C; F -> D; F -> E; F -> F; F -> G; F -> H; G -> A; G -> B; G -> C; G -> D; G -> E; G -> F; G -> G; G -> H; H -> A; H -> B; H -> C; H -> D; H -> E; }','digraph { a -> A; A -> A; A -> B; A -> C; A -> D; A -> E; A -> F; A -> G; A -> H; B -> A; B -> B; B -> C; B -> D; B -> E; B -> F; B -> G; B -> H; C -> A; C -> B; C -> C; C -> D; C -> E; C -> F; C -> G; C -> H; D -> A; D -> B; D -> C; D -> D; D -> E; D -> F; D -> G; D -> H; E -> A; E -> B; E -> C; E -> D; E -> E; E -> F; E -> G; E -> H; F -> A; F -> B; F -> C; F -> D; F -> E; F -> F; F -> G; F -> H; G -> A; G -> B; G -> C; G -> D; G -> E; G -> F; G -> G; G -> H; H -> A; H -> B; H -> C; H -> D; H -> E; H -> F; }','digraph { a -> A; A -> A; A -> B; A -> C; A -> D; A -> E; A -> F; A -> G; A -> H; B -> A; B -> B; B -> C; B -> D; B -> E; B -> F; B -> G; B -> H; C -> A; C -> B; C -> C; C -> D; C -> E; C -> F; C -> G; C -> H; D -> A; D -> B; D -> C; D -> D; D -> E; D -> F; D -> G; D -> H; E -> A; E -> B; E -> C; E -> D; E -> E; E -> F; E -> G; E -> H; F -> A; F -> B; F -> C; F -> D; F -> E; F -> F; F -> G; F -> H; G -> A; G -> B; G -> C; G -> D; G -> E; G -> F; G -> G; G -> H; H -> A; H -> B; H -> C; H -> D; H -> E; H -> F; H -> G; }','digraph { a -> A; A -> A; A -> B; A -> C; A -> D; A -> E; A -> F; A -> G; A -> H; B -> A; B -> B; B -> C; B -> D; B -> E; B -> F; B -> G; B -> H; C -> A; C -> B; C -> C; C -> D; C -> E; C -> F; C -> G; C -> H; D -> A; D -> B; D -> C; D -> D; D -> E; D -> F; D -> G; D -> H; E -> A; E -> B; E -> C; E -> D; E -> E; E -> F; E -> G; E -> H; F -> A; F -> B; F -> C; F -> D; F -> E; F -> F; F -> G; F -> H; G -> A; G -> B; G -> C; G -> D; G -> E; G -> F; G -> G; G -> H; H -> A; H -> B; H -> C; H -> D; H -> E; H -> F; H -> G; H -> H; }']]);</script>\";}"
      ]
     },
     "execution_count": 12,
     "metadata": {},
     "output_type": "execute_result"
    }
   ],
   "source": [
    "let lett = ((+)64>>char)\n",
    "\n",
    "let links = \n",
    "    [for x in 1 .. 8 do\n",
    "        for y in 1..8 do\n",
    "            yield lett x, lett y]\n",
    "    \n",
    "    |> Seq.distinct\n",
    "    |> Seq.map(fun (start,stop) -> sprintf \"%c -> %c;\" start stop)\n",
    "\n",
    "let renderSeries' (digraphs : string[]) = \n",
    "    digraphs\n",
    "    |> Array.reduce(sprintf \"%s','%s\")\n",
    "    |> sprintf \"<script>$(document).trigger('RENDER_SERIES', [['%s']]);</script>\"\n",
    "    //|> Util.Html    \n",
    "\n",
    "\n",
    "links\n",
    "|> Seq.scan (fun state current -> \n",
    "        //sprintf \"digraph {\\n%s\\n}\" state        \n",
    "        //|> renderDot |> Display\n",
    "        //printfn \"%s\" state\n",
    "        sprintf \"%s %s\" state current\n",
    "    ) \"a -> A;\"\n",
    "|> Seq.distinct    \n",
    "|> Seq.map (sprintf \"digraph { %s }\")\n",
    "|> Array.ofSeq\n",
    "|> renderSeries'\n",
    "|> Util.Html    \n",
    "\n",
    "// |> Seq.reduce(sprintf \"%s\\n%s\")\n",
    "// |> sprintf \"digraph {\\n%s\\n}\"\n",
    "// |> renderDot\n",
    "//[1..10] |> Seq.map(((+)64>>char))\n",
    "\n",
    "// \"\"\"digraph {\n",
    "//      a -> b; \n",
    "//      b -> c; \n",
    "//      a -> c;\n",
    "//  }\"\"\" |> renderDot\n",
    "//renderDot \"digraph { a->b; a->c; c->b; }\""
   ]
  },
  {
   "cell_type": "code",
   "execution_count": null,
   "metadata": {
    "collapsed": false
   },
   "outputs": [],
   "source": [
    "\"\"\"\n",
    "<script>\n",
    " let g = `\n",
    "    digraph  {\n",
    "          Combine1787 -> CompositeFunction1788 [label=\"root function\"];\n",
    "Combine1787 [label=\"Combine1787\"];\n",
    "Combine1787 [shape=ellipse, fontsize=20, penwidth=2, size=0.6];\n",
    "Combine1789 -> CompositeFunction1790 [label=\"root function\"];\n",
    "Combine1789 [label=\"Combine1789\"];\n",
    "Combine1789 [shape=ellipse, fontsize=20, penwidth=2, size=0.6];\n",
    "Combine1791 -> CompositeFunction1792 [label=\"root function\"];\n",
    "Combine1791 [label=\"Combine1791\"];\n",
    "Combine1791 [shape=ellipse, fontsize=20, penwidth=2, size=0.6];\n",
    "Combine1793 -> CompositeFunction1794 [label=\"root function\"];\n",
    "Combine1793 [label=\"Combine1793\"];\n",
    "Combine1793 [shape=ellipse, fontsize=20, penwidth=2, size=0.6];\n",
    "Combine1795 -> CompositeFunction1796 [label=\"root function\"];\n",
    "Combine1795 [label=\"Combine1795\"];\n",
    "Combine1795 [shape=ellipse, fontsize=20, penwidth=2, size=0.6];\n",
    "Combine1797 -> CompositeFunction1798 [label=\"root function\"];\n",
    "Combine1797 [label=\"Combine1797\"];\n",
    "Combine1797 [shape=ellipse, fontsize=20, penwidth=2, size=0.6];\n",
    "Combine1799 -> CompositeFunction1800 [label=\"root function\"];\n",
    "Combine1799 [label=\"Combine1799\"];\n",
    "Combine1799 [shape=ellipse, fontsize=20, penwidth=2, size=0.6];\n",
    "Combine1801 -> CompositeFunction1802 [label=\"root function\"];\n",
    "Combine1801 [label=\"Combine1801\"];\n",
    "Combine1801 [shape=ellipse, fontsize=20, penwidth=2, size=0.6];\n",
    "Combine1803 -> CompositeFunction1804 [label=\"root function\"];\n",
    "Combine1803 [label=\"Combine1803\"];\n",
    "Combine1803 [shape=ellipse, fontsize=20, penwidth=2, size=0.6];\n",
    "    }\n",
    "`\n",
    "$(document).trigger(\"RENDER_GRAPH\", [g]);\n",
    "</script>\n",
    "\"\"\" |> Util.Html"
   ]
  },
  {
   "cell_type": "code",
   "execution_count": null,
   "metadata": {
    "collapsed": false
   },
   "outputs": [],
   "source": [
    "System.IO.Path.GetFullPath(\"dist/bundle.js\")"
   ]
  },
  {
   "cell_type": "code",
   "execution_count": null,
   "metadata": {
    "collapsed": false
   },
   "outputs": [],
   "source": [
    "renderDot \"digraph { a->b; a->c; c->b; }\""
   ]
  },
  {
   "cell_type": "code",
   "execution_count": null,
   "metadata": {
    "collapsed": true
   },
   "outputs": [],
   "source": []
  }
 ],
 "metadata": {
  "anaconda-cloud": {},
  "kernelspec": {
   "display_name": "F#",
   "language": "fsharp",
   "name": "ifsharp"
  },
  "language": "fsharp",
  "language_info": {
   "codemirror_mode": "",
   "file_extension": ".fs",
   "mimetype": "text/x-fsharp",
   "name": "fsharp",
   "nbconvert_exporter": "",
   "pygments_lexer": "",
   "version": "4.3.1.0"
  }
 },
 "nbformat": 4,
 "nbformat_minor": 0
}
