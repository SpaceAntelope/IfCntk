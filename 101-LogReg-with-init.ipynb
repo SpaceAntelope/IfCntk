{
 "cells": [
  {
   "cell_type": "code",
   "execution_count": null,
   "metadata": {},
   "outputs": [],
   "source": [
    "#r \"netstandard\"\n",
    "#load \"Paket.fsx\""
   ]
  },
  {
   "cell_type": "code",
   "execution_count": null,
   "metadata": {},
   "outputs": [],
   "source": [
    "// Paket.Dependencies.Install \"\"\"\n",
    "// frameworks: net472\n",
    "// source https://nuget.org/api/v2\n",
    "// nuget CNTK.CPUOnly\n",
    "// nuget FsLab\n",
    "// \"\"\""
   ]
  },
  {
   "cell_type": "code",
   "execution_count": null,
   "metadata": {},
   "outputs": [],
   "source": [
    "Paket.Package [ \"CNTK.CPUOnly\"; \"FsLab\"]"
   ]
  },
  {
   "cell_type": "code",
   "execution_count": null,
   "metadata": {},
   "outputs": [],
   "source": [
    "#load \"Paket.Generated.Refs.fsx\""
   ]
  },
  {
   "cell_type": "code",
   "execution_count": 1,
   "metadata": {
    "scrolled": false
   },
   "outputs": [
    {
     "data": {
      "text/plain": [
       "(\"C:\\Users\\cernu\\Documents\\Code\\IfCntk\\bin\", \"\")"
      ]
     },
     "execution_count": 1,
     "metadata": {},
     "output_type": "execute_result"
    }
   ],
   "source": [
    "#r @\"C:\\Users\\cernu\\Documents\\Code\\IfCntk\\packages\\CNTK.CPUOnly\\lib\\netstandard2.0\\Cntk.Core.Managed-2.6.dll\"\n",
    "//#r @\"C:\\Users\\cernu\\Documents\\Code\\IfCntk\\bin\\Cntk.Core.Managed-2.6.dll\"\n",
    "open System.Reflection\n",
    "open System.Text.RegularExpressions\n",
    "open System.IO\n",
    "open System\n",
    "\n",
    "let IsWindows =\n",
    "    System.Runtime.InteropServices.RuntimeInformation.OSDescription.Contains(\"Windows\")\n",
    "\n",
    "let CntkCoreManagedPath =\n",
    "    let codebase = Assembly.GetAssembly(typeof<CNTK.CNTKLib>).CodeBase \n",
    "    match IsWindows with\n",
    "    | true -> codebase.Replace(\"file:///\",\"\") \n",
    "    | false -> codebase.Replace(\"file://\",\"\") \n",
    "    |> Path.GetDirectoryName\n",
    "\n",
    "let CntkVersion =\n",
    "    CntkCoreManagedPath\n",
    "        .Split([|'/';'\\\\' |])\n",
    "    |> Array.rev\n",
    "    |> Array.skipWhile \n",
    "         (fun dir -> not <| Regex.IsMatch(dir, @\"^\\d\\.\\d(\\.\\d)?$\"))\n",
    "    |> function\n",
    "    | [||] -> \"\"\n",
    "    | dirs -> dirs |> Array.head\n",
    "    |> fun str -> str.Replace(\"\\\\\", \"\").Replace(\"/\", \"\");\n",
    "\n",
    "CntkCoreManagedPath, CntkVersion"
   ]
  },
  {
   "cell_type": "code",
   "execution_count": null,
   "metadata": {},
   "outputs": [],
   "source": [
    "let PackagesPath =\n",
    "    CntkCoreManagedPath\n",
    "    |> Path.GetDirectoryName\n",
    "    |> fun path -> path.Split([|'/';'\\\\' |])\n",
    "    |> Array.rev\n",
    "    |> Array.skipWhile \n",
    "        (fun dir -> not <| dir.ToLower().Contains(\"cntk.\"))\n",
    "    |> Array.skip 1\n",
    "    |> Array.rev\n",
    "    |> Array.reduce \n",
    "        (fun state current -> sprintf \"%s%s%s\" state (Path.DirectorySeparatorChar.ToString()) current)\n",
    "\n",
    "PackagesPath"
   ]
  },
  {
   "cell_type": "code",
   "execution_count": null,
   "metadata": {},
   "outputs": [],
   "source": [
    "type DllKind = Debug | Release\n",
    "\n",
    "let ManagedSupportPath kind =\n",
    "    match kind with\n",
    "    | Debug -> sprintf \"../../support/x64/%s\" \"Debug\"\n",
    "    | Release -> sprintf \"../../support/x64/%s\" \"Release\"\n",
    "    |> fun supportPath ->  \n",
    "        Path.Combine(CntkCoreManagedPath,supportPath)\n",
    "        |> Path.GetFullPath\n",
    "\n",
    "ManagedSupportPath Debug"
   ]
  },
  {
   "cell_type": "code",
   "execution_count": null,
   "metadata": {},
   "outputs": [],
   "source": [
    "let CudaPaths =\n",
    "        Directory\n",
    "            .GetDirectories(PackagesPath, \"cntk.deps.cu*\")\n",
    "        |> Array.collect (fun dir -> Directory.GetDirectories(Path.Combine(dir, sprintf \"%s/support/x64\" CntkVersion)))\n",
    "        |> Array.map Path.GetFullPath\n",
    "\n",
    "CudaPaths"
   ]
  },
  {
   "cell_type": "code",
   "execution_count": 4,
   "metadata": {},
   "outputs": [
    {
     "data": {
      "text/plain": [
       "[|\"C:\\Program Files (x86)\\Intel\\Intel(R) Management Engine Components\\DAL\";\n",
       "  \"C:\\Program Files (x86)\\Intel\\Intel(R) Management Engine Components\\IPT\";\n",
       "  \"C:\\Program Files (x86)\\Intel\\Intel(R) Management Engine Components\\iCLS\\\";\n",
       "  \"C:\\Program Files (x86)\\NVIDIA Corporation\\PhysX\\Common\";\n",
       "  \"C:\\Program Files\\Git\\cmd\";\n",
       "  \"C:\\Program Files\\Intel\\Intel(R) Management Engine Components\\DAL\";\n",
       "  \"C:\\Program Files\\Intel\\Intel(R) Management Engine Components\\IPT\";\n",
       "  \"C:\\Program Files\\Intel\\Intel(R) Management Engine Components\\iCLS\\\";\n",
       "  \"C:\\Program Files\\Microsoft MPI\\Bin\\\";\n",
       "  \"C:\\Program Files\\Microsoft SQL Server\\130\\Tools\\Binn\\\";\n",
       "  \"C:\\Program Files\\NVIDIA GPU Computing Toolkit\\CUDA\\v9.0\\bin\";\n",
       "  \"C:\\Program Files\\NVIDIA GPU Computing Toolkit\\CUDA\\v9.0\\libnvvp\";\n",
       "  \"C:\\Program Files\\dotnet\\\"; \"C:\\Program Files\\nodejs\\\";\n",
       "  \"C:\\ProgramData\\Boxstarter\"; \"C:\\ProgramData\\chocolatey\\bin\"; \"C:\\Python27\\\";\n",
       "  \"C:\\Python27\\Scripts\"; \"C:\\Users\\cernu\\.dotnet\\tools\";\n",
       "  \"C:\\Users\\cernu\\Anaconda3\"; \"C:\\Users\\cernu\\Anaconda3\";\n",
       "  \"C:\\Users\\cernu\\Anaconda3\\Library\\bin\"; \"C:\\Users\\cernu\\Anaconda3\\Library\\bin\";\n",
       "  \"C:\\Users\\cernu\\Anaconda3\\Library\\mingw-w64\\bin\";\n",
       "  \"C:\\Users\\cernu\\Anaconda3\\Library\\usr\\bin\"; \"C:\\Users\\cernu\\Anaconda3\\Scripts\";\n",
       "  \"C:\\Users\\cernu\\Anaconda3\\envs\\Numpy with OpenBLAS\";\n",
       "  \"C:\\Users\\cernu\\Anaconda3\\envs\\Numpy with OpenBLAS\\Library\\bin\";\n",
       "  \"C:\\Users\\cernu\\Anaconda3\\envs\\Numpy with OpenBLAS\\Library\\mingw-w64\\bin\";\n",
       "  \"C:\\Users\\cernu\\Anaconda3\\envs\\Numpy with OpenBLAS\\Library\\usr\\bin\";\n",
       "  \"C:\\Users\\cernu\\Anaconda3\\envs\\Numpy with OpenBLAS\\Scripts\";\n",
       "  \"C:\\Users\\cernu\\Anaconda3\\envs\\Numpy with OpenBLAS\\bin\";\n",
       "  \"C:\\Users\\cernu\\AppData\\Local\\Microsoft\\WindowsApps\";\n",
       "  \"C:\\Users\\cernu\\AppData\\Local\\Programs\\Microsoft VS Code\\bin\";\n",
       "  \"C:\\Users\\cernu\\AppData\\Roaming\\npm\"; \"C:\\WINDOWS\";\n",
       "  \"C:\\WINDOWS\\System32\\OpenSSH\\\"; \"C:\\WINDOWS\\System32\\Wbem\";\n",
       "  \"C:\\WINDOWS\\System32\\WindowsPowerShell\\v1.0\\\"; \"C:\\WINDOWS\\system32\";\n",
       "  \"C:\\cudnn-9.0-windows10-x64-v7\\cuda\\bin\"; \"C:\\windows\";\n",
       "  \"C:\\windows\\System32\\Wbem\"; \"C:\\windows\\System32\\WindowsPowerShell\\v1.0\\\";\n",
       "  \"C:\\windows\\system32\"|]"
      ]
     },
     "execution_count": 4,
     "metadata": {},
     "output_type": "execute_result"
    }
   ],
   "source": [
    "let PATH = \"PATH\"\n",
    "\n",
    "let original_paths = Environment.GetEnvironmentVariable(PATH)\n",
    "\n",
    "let GetCurrentPaths() =\n",
    "    Environment\n",
    "        .GetEnvironmentVariable(PATH)\n",
    "        .Split([|Path.PathSeparator|], StringSplitOptions.RemoveEmptyEntries)\n",
    "\n",
    "let AddPaths (paths :string []) = \n",
    "        \n",
    "    paths \n",
    "    |> Array.tryFind (Directory.Exists >> not)\n",
    "    |> function \n",
    "    | Some path -> \n",
    "        failwith <| sprintf \"Folder '%s' not found, can't add to env:PATH\" path        \n",
    "    | _ -> \n",
    "        let current_paths = \n",
    "            GetCurrentPaths()\n",
    "            |> Array.append paths\n",
    "            |> Array.distinct\n",
    "\n",
    "        Environment.SetEnvironmentVariable(\n",
    "                PATH,\n",
    "                System.String.Join(Path.PathSeparator.ToString(), current_paths))\n",
    "                //EnvironmentVariableTarget.Process)\n",
    "\n",
    "let AddPath path = AddPaths [|path|]\n",
    "\n",
    "GetCurrentPaths() |> Array.sort"
   ]
  },
  {
   "cell_type": "code",
   "execution_count": null,
   "metadata": {},
   "outputs": [],
   "source": [
    "let DepPaths kind =\n",
    "    let support = \n",
    "        Directory\n",
    "            .GetDirectories(PackagesPath, \"cntk.deps.*\")\n",
    "        |> Array.collect (fun dir -> \n",
    "            [|dir;CntkVersion;\"support\";\"x64\"|]\n",
    "            |> Path.Combine\n",
    "            |> Directory.GetDirectories)\n",
    "        |> Array.map Path.GetFullPath\n",
    "    \n",
    "    let binPath = match kind with Debug -> \"Debug\" | Release -> \"Release\"\n",
    "    let binPaths = \n",
    "        support \n",
    "        |> Array.map (fun dir -> Path.Combine(dir, binPath))\n",
    "        |> Array.filter (Directory.Exists)\n",
    "    support |> Array.append binPaths\n",
    "    \n",
    "DepPaths Debug"
   ]
  },
  {
   "cell_type": "code",
   "execution_count": 3,
   "metadata": {},
   "outputs": [
    {
     "name": "stderr",
     "output_type": "stream",
     "text": [
      "The value or constructor 'GetCurrentPaths' is not defined."
     ]
    }
   ],
   "source": [
    "GetCurrentPaths()"
   ]
  },
  {
   "cell_type": "code",
   "execution_count": null,
   "metadata": {},
   "outputs": [],
   "source": [
    "CntkCoreManagedPath |> AddPath\n",
    "Release |> ManagedSupportPath |> AddPath\n",
    "Release |> DepPaths |> AddPaths\n",
    "\n",
    "GetCurrentPaths()"
   ]
  },
  {
   "cell_type": "code",
   "execution_count": 2,
   "metadata": {},
   "outputs": [
    {
     "data": {
      "text/plain": [
       "You are using CNTK for: CPU\r\n"
      ]
     },
     "metadata": {},
     "output_type": "display_data"
    }
   ],
   "source": [
    "open CNTK\n",
    "let cpu = DeviceDescriptor.UseDefaultDevice()\n",
    "printfn \"You are using CNTK for: %A\" (cpu.Type)"
   ]
  },
  {
   "cell_type": "code",
   "execution_count": null,
   "metadata": {},
   "outputs": [],
   "source": [
    "System.Reflection.Assembly.GetExecutingAssembly().CodeBase"
   ]
  },
  {
   "cell_type": "code",
   "execution_count": null,
   "metadata": {},
   "outputs": [],
   "source": [
    "let ResetPath() =\n",
    "    GetCurrentPaths() \n",
    "    |> Array.filter (fun str -> str.ToLower().Contains(\"cntk\") |> not) \n",
    "    |> Array.reduce(fun state current -> sprintf \"%s%c%s\" state (Path.PathSeparator) current)\n",
    "    |> fun path -> Environment.SetEnvironmentVariable(PATH,path)\n",
    "\n",
    "ResetPath()"
   ]
  },
  {
   "cell_type": "code",
   "execution_count": null,
   "metadata": {},
   "outputs": [],
   "source": [
    "let binPaths kind = \n",
    "    seq {\n",
    "        yield CntkCoreManagedPath\n",
    "        match kind with\n",
    "        | Debug -> \n",
    "            yield Debug |> ManagedSupportPath \n",
    "            yield! Debug |> DepPaths\n",
    "        | Release ->\n",
    "            yield Release |> ManagedSupportPath \n",
    "            yield! Release |> DepPaths\n",
    "        \n",
    "    } \n",
    "\n",
    "binPaths Release\n",
    "|> Seq.map (fun path -> sprintf \"#I \\\"%s\\\"\" <| path.Replace(\"\\\\\",\"/\"))\n",
    "|> Seq.iter (printfn \"%s\")"
   ]
  },
  {
   "cell_type": "code",
   "execution_count": null,
   "metadata": {},
   "outputs": [],
   "source": [
    "#I \"C:/Users/cernu/Documents/Code/IfSharp.v3.0.1/packages/CNTK.CPUOnly/lib/netstandard2.0\"\n",
    "#I \"C:/Users/cernu/Documents/Code/IfSharp.v3.0.1/packages/CNTK.CPUOnly/support/x64/Debug\"\n",
    "#I \"C:/Users/cernu/Documents/Code/IfSharp.v3.0.1/packages/CNTK.Deps.OpenCV.Zip/support/x64/Dependency/Debug\"\n",
    "#I \"C:/Users/cernu/Documents/Code/IfSharp.v3.0.1/packages/CNTK.Deps.MKL/support/x64/Dependency\"\n",
    "#I \"C:/Users/cernu/Documents/Code/IfSharp.v3.0.1/packages/CNTK.Deps.OpenCV.Zip/support/x64/Dependency\""
   ]
  },
  {
   "cell_type": "code",
   "execution_count": null,
   "metadata": {},
   "outputs": [],
   "source": [
    "#I \"C:/Users/cernu/Documents/Code/IfSharp.v3.0.1/packages/CNTK.CPUOnly/lib/netstandard2.0\"\n",
    "#I \"C:/Users/cernu/Documents/Code/IfSharp.v3.0.1/packages/CNTK.CPUOnly/support/x64/Release\"\n",
    "#I \"C:/Users/cernu/Documents/Code/IfSharp.v3.0.1/packages/CNTK.Deps.OpenCV.Zip/support/x64/Dependency/Release\"\n",
    "#I \"C:/Users/cernu/Documents/Code/IfSharp.v3.0.1/packages/CNTK.Deps.MKL/support/x64/Dependency\"\n",
    "#I \"C:/Users/cernu/Documents/Code/IfSharp.v3.0.1/packages/CNTK.Deps.OpenCV.Zip/support/x64/Dependency\""
   ]
  },
  {
   "cell_type": "code",
   "execution_count": null,
   "metadata": {},
   "outputs": [],
   "source": [
    "if \"bin\" |> Directory.Exists |> not\n",
    "then \n",
    "    Directory.CreateDirectory(\"bin\") |> ignore\n",
    "else \n",
    "    Directory.GetFiles(\"bin\") \n",
    "    |> Array.iter(fun file -> printfn \"Cleaning file '%s'...\" file; FileInfo(file).Delete())\n",
    "    \n",
    "binPaths Release\n",
    "|> Array.ofSeq\n",
    "|> Array.collect (fun path -> Directory.GetFiles(path, \"*.dll\"))\n",
    "|> Array.iter(fun path -> \n",
    "        printfn \"Copying %s\" path\n",
    "        File.Copy(path, Path.Combine(\"bin\", Path.GetFileName(path))))\n",
    "        \n",
    "\"bin\" |> Path.GetFullPath |> AddPath"
   ]
  },
  {
   "cell_type": "code",
   "execution_count": null,
   "metadata": {},
   "outputs": [],
   "source": [
    "Directory.GetFiles(\"bin\") "
   ]
  },
  {
   "cell_type": "code",
   "execution_count": null,
   "metadata": {},
   "outputs": [],
   "source": [
    "GetCurrentPaths()"
   ]
  },
  {
   "cell_type": "code",
   "execution_count": null,
   "metadata": {},
   "outputs": [],
   "source": [
    "#I @\"C:\\Users\\cernu\\Documents\\Code\\IfCntk\\bin\""
   ]
  },
  {
   "cell_type": "code",
   "execution_count": null,
   "metadata": {},
   "outputs": [],
   "source": [
    "IntPtr.Size"
   ]
  },
  {
   "cell_type": "code",
   "execution_count": null,
   "metadata": {},
   "outputs": [],
   "source": []
  }
 ],
 "metadata": {
  "kernelspec": {
   "display_name": "F#",
   "language": "fsharp",
   "name": "ifsharp"
  },
  "language": "fsharp",
  "language_info": {
   "codemirror_mode": "",
   "file_extension": ".fs",
   "mimetype": "text/x-fsharp",
   "name": "fsharp",
   "nbconvert_exporter": "",
   "pygments_lexer": "",
   "version": "4.3.1.0"
  }
 },
 "nbformat": 4,
 "nbformat_minor": 2
}
