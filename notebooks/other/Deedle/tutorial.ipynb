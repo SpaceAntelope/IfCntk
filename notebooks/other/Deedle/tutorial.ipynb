
 {
 "cells": [{
        "cell_type": "markdown",
        "metadata": {},
        "source": [
            "(*** hide ***)"
        ]
        
    }, {
        "cell_type": "code",
        "metadata": {},
        "source": [
            "\n#I \"../../bin/net45\"\n\n"
        ]
        ,"execution_count": null,"outputs": []
    }, {
        "cell_type": "markdown",
        "metadata": {},
        "source": [
            "(**\nDeedle in 10 minutes using F#\n=============================\n\nThis document is a quick overview of the most important features of F# data frame library.\nYou can also get this page as an [F# script file](https://github.com/fslaborg/Deedle/blob/master/docs/content/tutorial.fsx)\nfrom GitHub and run the samples interactively.\n\nThe first step is to install `Deedle.dll` [from NuGet](https://www.nuget.org/packages/Deedle).\nNext, we need to load the library - in F# Interactive, this is done by loading \nan `.fsx` file that loads the actual `.dll` with the library and registers \npretty printers for types representing data frame and series. In this sample, \nwe also need  [F# Charting](https://fslab.org/FSharp.Charting/), which \nworks similarly:\n\n*)"
        ]
        
    }, {
        "cell_type": "code",
        "metadata": {},
        "source": [
            "\n#I \"../../packages/FSharp.Charting/lib/net45\"\n#I \"../../packages/Deedle\"\n#load \"FSharp.Charting.fsx\"\n#load \"Deedle.fsx\"\n\nopen System\nopen Deedle\nopen FSharp.Charting\n\n"
        ]
        ,"execution_count": null,"outputs": []
    }, {
        "cell_type": "markdown",
        "metadata": {},
        "source": [
            "(**\n<a name=\"creating\"></a>\n\nCreating series and frames\n--------------------------\n\nA data frame is a collection of series with unique column names (although these\ndo not actually have to be strings). So, to create a data frame, we first need\nto create a series:\n*)"
        ]
        
    }, {
        "cell_type": "markdown",
        "metadata": {},
        "source": [
            "\n\n(*** define-output: create1 ***)"
        ]
        
    }, {
        "cell_type": "code",
        "metadata": {},
        "source": [
            "\n// Create from sequence of keys and sequence of values\nlet dates  = \n  [ DateTime(2013,1,1); \n    DateTime(2013,1,4); \n    DateTime(2013,1,8) ]\nlet values = \n  [ 10.0; 20.0; 30.0 ]\nlet first = Series(dates, values)\n\n// Create from a single list of observations\nSeries.ofObservations\n  [ DateTime(2013,1,1) => 10.0\n    DateTime(2013,1,4) => 20.0\n    DateTime(2013,1,8) => 30.0 ]\n\n"
        ]
        ,"execution_count": null,"outputs": []
    }, {
        "cell_type": "markdown",
        "metadata": {},
        "source": [
            "(*** include-it: create1 ***)"
        ]
        
    }, {
        "cell_type": "markdown",
        "metadata": {},
        "source": [
            "\n\n(*** define-output: create2 ***)"
        ]
        
    }, {
        "cell_type": "code",
        "metadata": {},
        "source": [
            "\n// Shorter alternative to 'Series.ofObservations'\nseries [ 1 => 1.0; 2 => 2.0 ]\n\n// Create series with implicit (ordinal) keys\nSeries.ofValues [ 10.0; 20.0; 30.0 ]\n"
        ]
        ,"execution_count": null,"outputs": []
    }, {
        "cell_type": "markdown",
        "metadata": {},
        "source": [
            "(*** include-it: create2 ***)"
        ]
        
    }, {
        "cell_type": "markdown",
        "metadata": {},
        "source": [
            "\n\n(**\nNote that the series type is generic. `Series<K, T>` represents a series\nwith keys of type `K` and values of type `T`. Let's now generate series\nwith 10 day value range and random values:\n*)"
        ]
        
    }, {
        "cell_type": "code",
        "metadata": {},
        "source": [
            "\n\n/// Generate date range from 'first' with 'count' days\nlet dateRange (first:System.DateTime) count = \n  seq { for i in 0 .. (count - 1) -> first.AddDays(float i) }\n\n/// Generate 'count' number of random doubles\nlet rand count = \n  let rnd = System.Random()\n  seq { for i in 0 .. (count - 1) -> rnd.NextDouble() }\n\n// A series with values for 10 days \nlet second = Series(dateRange (DateTime(2013,1,1)) 10, rand 10)\n\n"
        ]
        ,"execution_count": null,"outputs": []
    }, {
        "cell_type": "markdown",
        "metadata": {},
        "source": [
            "(*** include-value: (round (second*100.0))/100.0 ***)"
        ]
        
    }, {
        "cell_type": "markdown",
        "metadata": {},
        "source": [
            "\n\n(**\nNow we can easily construct a data frame that has two columns - one representing\nthe `first` series and another representing the `second` series:\n*)"
        ]
        
    }, {
        "cell_type": "code",
        "metadata": {},
        "source": [
            "\n\nlet df1 = Frame([\"first\"; \"second\"], [first; second])\n\n"
        ]
        ,"execution_count": null,"outputs": []
    }, {
        "cell_type": "markdown",
        "metadata": {},
        "source": [
            "(*** include-value: df1 ***)"
        ]
        
    }, {
        "cell_type": "markdown",
        "metadata": {},
        "source": [
            "\n\n(** \nThe type representing a data frame has two generic parameters:\n`Frame<TRowKey, TColumnKey>`. The first parameter is represents the type of\nrow keys - this can be `int` if we do not give the keys explicitly or `DateTime`\nlike in the example above. The second parameter is the type of column keys.\nThis is typically `string`, but sometimes it is useful to create a \ntransposed frame with dates as column keys. Because a data frame can contain\nheterogeneous data, there is no type of values - this needs to be specified\nwhen getting data from the data frame.\n\nAs the output shows, creating a frame automatically combines the indices of \nthe two series (using \"outer join\" so the result has all the dates that appear \nin any of the series). The data frame now contains `first` column with some \nmissing values.\n\nYou can also use the following nicer syntax and create frame from rows as well as \nindividual values:\n*)"
        ]
        
    }, {
        "cell_type": "code",
        "metadata": {},
        "source": [
            "\n\n// The same as previously\nlet df2 = Frame.ofColumns [\"first\" => first; \"second\" => second]\n\n// Transposed - here, rows are \"first\" and \"second\" & columns are dates\nlet df3 = Frame.ofRows [\"first\" => first; \"second\" => second]\n\n// Create from individual observations (row * column * value)\nlet df4 = \n  [ (\"Monday\", \"Tomas\", 1.0); (\"Tuesday\", \"Adam\", 2.1)\n    (\"Tuesday\", \"Tomas\", 4.0); (\"Wednesday\", \"Tomas\", -5.4) ]\n  |> Frame.ofValues\n\n"
        ]
        ,"execution_count": null,"outputs": []
    }, {
        "cell_type": "markdown",
        "metadata": {},
        "source": [
            "(**\nData frame can be also easily created from a collection of F# record types (or of any classes\nwith public readable properties). The `Frame.ofRecords` function uses reflection to find the \nnames and types of properties of a record and creates a data frame with the same structure.\n\n*)"
        ]
        
    }, {
        "cell_type": "code",
        "metadata": {},
        "source": [
            "\n// Assuming we have a record 'Price' and a collection 'values'\ntype Price = { Day : DateTime; Open : float }\nlet prices = \n  [ { Day = DateTime.Now; Open = 10.1 }\n    { Day = DateTime.Now.AddDays(1.0); Open = 15.1 }\n    { Day = DateTime.Now.AddDays(2.0); Open = 9.1 } ]\n\n// Creates a data frame with columns 'Day' and 'Open'\nlet df5 = Frame.ofRecords prices\n\n"
        ]
        ,"execution_count": null,"outputs": []
    }, {
        "cell_type": "markdown",
        "metadata": {},
        "source": [
            "(**\nFinally, we can also load data frame from CSV:\n*)"
        ]
        
    }, {
        "cell_type": "code",
        "metadata": {},
        "source": [
            "\nlet msftCsv = Frame.ReadCsv(__SOURCE_DIRECTORY__ + \"/data/stocks/MSFT.csv\")\nlet fbCsv = Frame.ReadCsv(__SOURCE_DIRECTORY__ + \"/data/stocks/FB.csv\")\n\n"
        ]
        ,"execution_count": null,"outputs": []
    }, {
        "cell_type": "markdown",
        "metadata": {},
        "source": [
            "(*** include-value: fbCsv ***)"
        ]
        
    }, {
        "cell_type": "markdown",
        "metadata": {},
        "source": [
            "\n\n(**\nWhen loading the data, the data frame analyses the values and automatically converts\nthem to the most appropriate type. However, no conversion is automatically performed\nfor dates and times - the user needs to decide what is the desirable representation\nof dates (e.g. `DateTime`, `DateTimeOffset` or some custom type).\n\n<a name=\"reindexing-and-joins\"></a>\n\nSpecifying index and joining\n----------------------------\n\nNow we have `fbCsv` and `msftCsv` frames containing stock prices, but they are\nindexed with ordinal numbers. This means that we can get e.g. 4th price. \nHowever, we would like to align them using their dates (in case there are some \nvalues missing). This can be done by setting the row index to the \"Date\" column.\nOnce we set the date as the index, we also need to order the index. The Yahoo \nFinance prices are ordered from the newest to the oldest, but our data-frame \nrequires ascending ordering.\n\nWhen a frame has ordered index, we can use additional functionality that will \nbe needed later (for example, we can select sub-range by specifying dates that \nare not explicitly included in the index).\n*)"
        ]
        
    }, {
        "cell_type": "code",
        "metadata": {},
        "source": [
            "\n\n// Use the Date column as the index & order rows\nlet msftOrd = \n  msftCsv\n  |> Frame.indexRowsDate \"Date\"\n  |> Frame.sortRowsByKey\n\n"
        ]
        ,"execution_count": null,"outputs": []
    }, {
        "cell_type": "markdown",
        "metadata": {},
        "source": [
            "(**\nThe `indexRowsDate` function uses a column of type `DateTime` as a new index.\nThe library provides other functions for common types of indices (like `indexRowsInt`)\nand you can also use a generic function - when using the generic function, some \ntype annotations may be needed, so it is better to use a specific function.\nNext, we sort the rows using another function from the `Frame` module. The module\ncontains a large number of useful functions that you'll use all the time - it\nis a good idea to go through the list to get an idea of what is supported.\n\nNow that we have properly indexed stock prices, we can create a new data frame that\nonly has the data we're interested (Open & Close) prices and we add a new column \nthat shows their difference:\n*)"
        ]
        
    }, {
        "cell_type": "markdown",
        "metadata": {},
        "source": [
            "\n\n(*** define-output: plot1 ***)"
        ]
        
    }, {
        "cell_type": "code",
        "metadata": {},
        "source": [
            "\n// Create data frame with just Open and Close prices\nlet msft = msftOrd.Columns.[ [\"Open\"; \"Close\"] ]\n\n// Add new column with the difference between Open & Close\nmsft?Difference <- msft?Open - msft?Close\n\n// Do the same thing for Facebook\nlet fb = \n  fbCsv\n  |> Frame.indexRowsDate \"Date\"\n  |> Frame.sortRowsByKey\n  |> Frame.sliceCols [\"Open\"; \"Close\"]\nfb?Difference <- fb?Open - fb?Close\n\n// Now we can easily plot the differences\nChart.Combine\n  [ Chart.Line(msft?Difference |> Series.observations) \n    Chart.Line(fb?Difference |> Series.observations) ]\n\n"
        ]
        ,"execution_count": null,"outputs": []
    }, {
        "cell_type": "markdown",
        "metadata": {},
        "source": [
            "(*** include-it:plot1 ***)"
        ]
        
    }, {
        "cell_type": "markdown",
        "metadata": {},
        "source": [
            "\n\n(**\nWhen selecting columns using `f.Columns.[ .. ]` it is possible to use a list of columns\n(as we did), a single column key, or a range (if the associated index is ordered). \nThen we use the `df?Column <- (...)` syntax to add a new column to the data frame. \nThis is the only mutating operation that is supported on data frames - all other \noperations create a new data frame and return it as the result.\n\nNext we would like to create a single data frame that contains (properly aligned) data\nfor both Microsoft and Facebook. This is done using the `Join` method - but before we\ncan do this, we need to rename their columns, because duplicate keys are not allowed:\n*)"
        ]
        
    }, {
        "cell_type": "markdown",
        "metadata": {},
        "source": [
            "\n\n(*** define-output:msfb ***)"
        ]
        
    }, {
        "cell_type": "code",
        "metadata": {},
        "source": [
            "\n// Change the column names so that they are unique\nlet msftNames = [\"MsftOpen\"; \"MsftClose\"; \"MsftDiff\"]\nlet msftRen = msft |> Frame.indexColsWith msftNames\n\nlet fbNames = [\"FbOpen\"; \"FbClose\"; \"FbDiff\"]\nlet fbRen = fb |> Frame.indexColsWith fbNames\n\n// Outer join (align & fill with missing values)\nlet joinedOut = msftRen.Join(fbRen, kind=JoinKind.Outer)\n\n// Inner join (remove rows with missing values)\nlet joinedIn = msftRen.Join(fbRen, kind=JoinKind.Inner)\n\n// Visualize daily differences on available values only\nChart.Rows\n  [ Chart.Line(joinedIn?MsftDiff |> Series.observations) \n    Chart.Line(joinedIn?FbDiff |> Series.observations) ]\n\n"
        ]
        ,"execution_count": null,"outputs": []
    }, {
        "cell_type": "markdown",
        "metadata": {},
        "source": [
            "(*** include-it:msfb ***)"
        ]
        
    }, {
        "cell_type": "markdown",
        "metadata": {},
        "source": [
            "\n\n(**\n<a name=\"selecting\"></a>\n\nSelecting values and slicing\n----------------------------\n\nThe data frame provides two key properties that we can use to access the data. The \n`Rows` property returns a series containing individual rows (as a series) and `Columns`\nreturns a series containing columns (as a series). We can then use various indexing and\nslicing operators on the series:\n*)"
        ]
        
    }, {
        "cell_type": "code",
        "metadata": {},
        "source": [
            "\n\n// Look for a row at a specific date\njoinedIn.Rows.[DateTime(2013, 1, 2)]\n// [fsi:val it : ObjectSeries<string> =]\n// [fsi:  FbOpen    -> 28.00            ]  \n// [fsi:  FbClose   -> 27.44   ]           \n// [fsi:  FbDiff    -> -0.5599 ]\n// [fsi:  MsftOpen  -> 27.62   ]           \n// [fsi:  MsftClose -> 27.25    ]          \n// [fsi:  MsftDiff  -> -0.3700 ]\n\n// Get opening Facebook price for 2 Jan 2013\njoinedIn.Rows.[DateTime(2013, 1, 2)]?FbOpen\n// [fsi:val it : float = 28.0]\n\n"
        ]
        ,"execution_count": null,"outputs": []
    }, {
        "cell_type": "markdown",
        "metadata": {},
        "source": [
            "(**\n\nThe return type of the first expression is `ObjectSeries<string>` which is inherited from\n`Series<string, obj>` and represents an untyped series. We can use `GetAs<int>(\"FbOpen\")` to\nget a value for a specifed key and convert it to a required type (or `TryGetAs`). The untyped\nseries also hides the default `?` operator (which returns the value using the statically known\nvalue type) and provides `?` that automatically converts anything to `float`.\n\nIn the previous example, we used an indexer with a single key. You can also specify multiple\nkeys (using a list) or a range (using the slicing syntax):\n*)"
        ]
        
    }, {
        "cell_type": "code",
        "metadata": {},
        "source": [
            "\n\n// Get values for the first three days of January 2013\nlet janDates = [ for d in 2 .. 4 -> DateTime(2013, 1, d) ]\nlet jan234 = joinedIn.Rows.[janDates]\n\n// Calculate mean of Open price for 3 days\njan234?MsftOpen |> Stats.mean\n\n// Get values corresponding to entire January 2013\nlet jan = joinedIn.Rows.[DateTime(2013, 1, 1) .. DateTime(2013, 1, 31)] \n\n"
        ]
        ,"execution_count": null,"outputs": []
    }, {
        "cell_type": "markdown",
        "metadata": {},
        "source": [
            "(*** include-value:round (jan*100.0)/100.0 |> Frame.mapRowKeys (fun dt -> dt.ToShortDateString()) ***)"
        ]
        
    }, {
        "cell_type": "code",
        "metadata": {},
        "source": [
            "\n\n// Calculate means over the period\njan?FbOpen |> Stats.mean\njan?MsftOpen |> Stats.mean\n\n"
        ]
        ,"execution_count": null,"outputs": []
    }, {
        "cell_type": "markdown",
        "metadata": {},
        "source": [
            "(**\nThe result of the indexing operation is a single data series when you use just a single\ndate (the previous example) or a new data frame when you specify multiple indices or a \nrange (this example). \n\nThe `Series` module used here includes more useful functions for working\nwith data series, including (but not limited to) statistical functions like `mean`,\n`sdv` and `sum`.\n\nNote that the slicing using range (the second case) does not actually generate a sequence\nof dates from 1 January to 31 January - it passes these to the index. Because our data frame\nhas an ordered index, the index looks for all keys that are greater than 1 January and smaller\nthan 31 January (this matters here, because the data frame does not contain 1 January - the \nfirst day is 2 January)\n\n<a name=\"timeseries\"></a>\n\nUsing ordered time series\n-------------------------\n\nAs already mentioned, if we have an ordered series or an ordered data frame, then we can\nleverage the ordering in a number of ways. In the previous example, slicing used lower\nand upper bounds rather than exact matching. Similarly, it is possible to get nearest\nsmaller (or greater) element when using direct lookup.\n\nFor example, let's create two series with 10 values for 10 days. The `daysSeries` \ncontains keys starting from `DateTime.Today` (12:00 AM) and `obsSeries` has dates\nwith time component set to the current time (this is wrong representation, but it \ncan be used to ilustrate the idea):\n*)"
        ]
        
    }, {
        "cell_type": "code",
        "metadata": {},
        "source": [
            "\n\nlet daysSeries = Series(dateRange DateTime.Today 10, rand 10)\nlet obsSeries = Series(dateRange DateTime.Now 10, rand 10)\n\n"
        ]
        ,"execution_count": null,"outputs": []
    }, {
        "cell_type": "markdown",
        "metadata": {},
        "source": [
            "(*** include-value: (round (daysSeries*100.0))/100.0 ***)"
        ]
        
    }, {
        "cell_type": "markdown",
        "metadata": {},
        "source": [
            "\n(*** include-value: (round (obsSeries*100.0))/100.0 ***)"
        ]
        
    }, {
        "cell_type": "markdown",
        "metadata": {},
        "source": [
            "\n\n(**\nThe indexing operation written as `daysSeries.[date]` uses _exact_ semantics so it will \nfail if the exact date is not available. When using `Get` method, we can provide an\nadditional parameter to specify the required behaviour:\n*)"
        ]
        
    }, {
        "cell_type": "code",
        "metadata": {},
        "source": [
            "\n\n// Fails, because current time is not present\ntry daysSeries.[DateTime.Now] with _ -> nan\ntry obsSeries.[DateTime.Now] with _ -> nan\n\n// This works - we get the value for DateTime.Today (12:00 AM)\ndaysSeries.Get(DateTime.Now, Lookup.ExactOrSmaller)\n// This does not - there is no nearest key <= Today 12:00 AM\ntry obsSeries.Get(DateTime.Today, Lookup.ExactOrSmaller)\nwith _ -> nan\n\n"
        ]
        ,"execution_count": null,"outputs": []
    }, {
        "cell_type": "markdown",
        "metadata": {},
        "source": [
            "(**\nSimilarly, you can specify the semantics when calling `TryGet` (to get an optional value)\nor when using `GetItems` (to lookup multiple keys at once). Note that this behaviour is\nonly supported for series or frames with ordered index. For unordered, all operations use\nthe exact semantics.\n\nThe semantics can be also specified when using left or right join on data frames. To \ndemonstrate this, let's create two data frames with columns indexed by 1 and 2, respectively:\n*)"
        ]
        
    }, {
        "cell_type": "code",
        "metadata": {},
        "source": [
            "\n\nlet daysFrame = [ 1 => daysSeries ] |> Frame.ofColumns\nlet obsFrame = [ 2 => obsSeries ] |> Frame.ofColumns\n\n// All values in column 2 are missing (because the times do not match)\nlet obsDaysExact = daysFrame.Join(obsFrame, kind=JoinKind.Left)\n\n// All values are available - for each day, we find the nearest smaller\n// time in the frame indexed by later times in the day\nlet obsDaysPrev = \n  (daysFrame, obsFrame) \n  ||> Frame.joinAlign JoinKind.Left Lookup.ExactOrSmaller\n\n// The first value is missing (because there is no nearest \n// value with greater key - the first one has the smallest \n// key) but the rest is available\nlet obsDaysNext =\n  (daysFrame, obsFrame) \n  ||> Frame.joinAlign JoinKind.Left Lookup.ExactOrGreater\n\n"
        ]
        ,"execution_count": null,"outputs": []
    }, {
        "cell_type": "markdown",
        "metadata": {},
        "source": [
            "(**\nIn general, the same operation can usually be achieved using a function from the \n`Series` or `Frame` module and using a member (or an extension member) on the object.\nThe previous sample shows both options - it uses `Join` as a member with optional\nargument first, and then it uses `joinAlign` function. Choosing between the two is\na matter of preference - here, we are using `joinAlign` so that we can write code\nusing pipelining (rather than long expression that would not fit on the page).\n\nThe `Join` method takes two optional parameters - the parameter `?lookup` is ignored \nwhen the join `?kind` is other than `Left` or `Right`. Also, if the data frame is not \nordered, the behaviour defaults to exact matching. The `joinAlign` function behaves\nthe same way.\n\n<a name=\"projections\"></a>\n\nProjection and filtering\n------------------------\n\nFor filtering and projection, series provides `Where` and `Select` methods and \ncorresponding `Series.map` and `Series.filter` functions (there is also `Series.mapValues`\nand `Series.mapKeys` if you only want to transform one aspect). \n\nThe methods are not available directly on data frame, so you always need to write `df.Rows` \nor `df.Columns` (depending on which one you want). Correspondingly, the `Frame` module\nprovides functions such as `Frame.mapRows`. The following adds a new column that contains\nthe name of the stock with greater price (\"FB\" or \"MSFT\"):\n*)"
        ]
        
    }, {
        "cell_type": "code",
        "metadata": {},
        "source": [
            "\n\njoinedOut?Comparison <- joinedOut |> Frame.mapRowValues (fun row -> \n  if row?MsftOpen > row?FbOpen then \"MSFT\" else \"FB\")\n\n"
        ]
        ,"execution_count": null,"outputs": []
    }, {
        "cell_type": "markdown",
        "metadata": {},
        "source": [
            "(**\nWhen projecting or filtering rows, we need to be careful about missing data. The row\naccessor `row?MsftOpen` reads the specified column (and converts it to `float`), but when\nthe column is not available, it throws the `MissingValueException` exception. Projection\nfunctions such as `mapRowValues` automatically catch this exception (but no other types\nof exceptions) and mark the corresponding series value as missing.\n\nTo make the missing value handling more explicit, you could use `Series.hasAll [\"MsftOpen\"; \"FbOpen\"]`\nto check that the series has all the values we need. If no, the lambda function could return\n`null`, which is automatically treated as a missing value (and it will be skipped by future\noperations).\n\nNow we can get the number of days when Microsoft stock prices were above Facebook and the\nother way round:\n*)"
        ]
        
    }, {
        "cell_type": "code",
        "metadata": {},
        "source": [
            "\n\njoinedOut.GetColumn<string>(\"Comparison\")\n|> Series.filterValues ((=) \"MSFT\") |> Series.countValues\n// [fsi:val it : int = 220]\n\njoinedOut.GetColumn<string>(\"Comparison\")\n|> Series.filterValues ((=) \"FB\") |> Series.countValues\n// [fsi:val it : int = 103]\n\n"
        ]
        ,"execution_count": null,"outputs": []
    }, {
        "cell_type": "markdown",
        "metadata": {},
        "source": [
            "(**\nIn this case, we should probably have used `joinedIn` which only has rows where the \nvalues are always available. But you often want to work with data frame that has missing values, \nso it is useful to see how this work. Here is another alternative:\n*)"
        ]
        
    }, {
        "cell_type": "code",
        "metadata": {},
        "source": [
            "\n\n// Get data frame with only 'Open' columns\nlet joinedOpens = joinedOut.Columns.[ [\"MsftOpen\"; \"FbOpen\"] ]\n\n// Get only rows that don't have any missing values\n// and then we can safely filter & count\njoinedOpens.RowsDense\n|> Series.filterValues (fun row -> row?MsftOpen > row?FbOpen)\n|> Series.countValues\n\n"
        ]
        ,"execution_count": null,"outputs": []
    }, {
        "cell_type": "markdown",
        "metadata": {},
        "source": [
            "(**\nThe key is the use of `RowsDense` on line 6. It behaves similarly to `Rows`, but\nonly returns rows that have no missing values. This means that we can then perform\nthe filtering safely without any checks.\n\nHowever, we do not mind if there are missing values in `FbClose`, because we do not\nneed this column. For this reason, we first create `joinedOpens`, which projects\njust the two columns we need from the original data frame.\n\n<a name=\"grouping\"></a>\n\nGrouping and aggregation\n------------------------\n\nAs a last thing, we briefly look at grouping and aggregation. For more information\nabout grouping of time series data, see [the time series features tutorial](series.html)\nand [the data frame features](frame.html) contains more about grouping of unordered\nframes.\n\nWe'll use the simplest option which is the `Frame.groupRowsUsing` function (also available\nas `GroupRowsUsing` member). This allows us to specify key selector that selects new key\nfor each row. If you want to group data using a value in a column, you can use \n`Frame.groupRowsBy column`.\n\nThe following snippet groups rows by month and year:\n*)"
        ]
        
    }, {
        "cell_type": "code",
        "metadata": {},
        "source": [
            "\nlet monthly =\n  joinedIn\n  |> Frame.groupRowsUsing (fun k _ -> DateTime(k.Year, k.Month, 1))\n\n// [fsi:val monthly : Frame<(DateTime * DateTime),string> =]\n// [fsi: ]\n// [fsi:                        FbOpen  MsftOpen ]\n// [fsi:  5/1/2012 5/18/2012 -> 38.23   29.27    ]\n// [fsi:           5/21/2012 -> 34.03   29.75    ]\n// [fsi:           5/22/2012 -> 31.00   29.76    ]\n// [fsi:  :                     ...              ]\n// [fsi:  8/1/2013 8/12/2013 -> 38.22   32.87    ]\n// [fsi:           8/13/2013 -> 37.02   32.23    ]\n// [fsi:           8/14/2013 -> 36.65   32.35    ]\n\n"
        ]
        ,"execution_count": null,"outputs": []
    }, {
        "cell_type": "markdown",
        "metadata": {},
        "source": [
            "(**\nThe output is trimmed to fit on the page. As you can see, we get back a frame that has\na tuple `DateTime * DateTime` as the row key. This is treated in a special way as a \n_hierarchical_ (or multi-level) index. For example, the output automatically shows the \nrows in groups (assuming they are correctly ordered).\n\nA number of operations can be used on hierarchical indices. For example, we can get\nrows in a specified group (say, May 2013) and calculate means of columns in the group:\n*)"
        ]
        
    }, {
        "cell_type": "code",
        "metadata": {},
        "source": [
            "\nmonthly.Rows.[DateTime(2013,5,1), *] |> Stats.mean\n// [fsi:val it : Series<string,float> =]\n// [fsi:  FbOpen    -> 26.14 ]\n// [fsi:  FbClose   -> 26.35 ]\n// [fsi:  FbDiff    -> 0.20 ]\n// [fsi:  MsftOpen  -> 33.95 ]\n// [fsi:  MsftClose -> 33.76 ]\n// [fsi:  MsftDiff  -> -0.19 ]\n\n"
        ]
        ,"execution_count": null,"outputs": []
    }, {
        "cell_type": "markdown",
        "metadata": {},
        "source": [
            "(**\nThe above snippet uses slicing notation that is only available in F# 3.1 (Visual Studio 2013).\nIn earlier versions, you can get the same thing using `monthly.Rows.[Lookup1Of2 (DateTime(2013,5,1))]`.\nThe syntax indicates that we only want to specify the first part of the key and do not match\non the second component. We can also use `Frame.getNumericColumns` in combination with \n`Stats.levelMean` to get means for all first-level groups:\n*)"
        ]
        
    }, {
        "cell_type": "code",
        "metadata": {},
        "source": [
            "\nmonthly \n|> Frame.getNumericCols\n|> Series.mapValues (Stats.levelMean fst)\n|> Frame.ofColumns\n\n"
        ]
        ,"execution_count": null,"outputs": []
    }, {
        "cell_type": "markdown",
        "metadata": {},
        "source": [
            "(**\nHere, we simply use the fact that the key is a tuple. The `fst` function projects the first \ndate from the key (month and year) and the result is a frame that contains the first-level keys,\ntogether with means for all available numeric columns.\n*)"
        ]
        
    }, {
        "cell_type": "code",
        "metadata": {},
        "source": [
            "\n\n"
        ]
        ,"execution_count": null,"outputs": []
    }],
 "metadata": {
  "kernelspec": {
   "display_name": "F#",
   "language": "fsharp",
   "name": "ifsharp"
  },
  "language": "fsharp",
  "language_info": {
   "codemirror_mode": "",
   "file_extension": ".fs",
   "mimetype": "text/x-fsharp",
   "name": "fsharp",
   "nbconvert_exporter": "",
   "pygments_lexer": "",
   "version": "4.3.1.0"
  }
 },
 "nbformat": 4,
 "nbformat_minor": 2
}
