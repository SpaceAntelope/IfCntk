
 {
 "cells": [{
        "cell_type": "markdown",
        "metadata": {},
        "source": [
            "(*** hide ***)"
        ]
        
    }, {
        "cell_type": "code",
        "metadata": {},
        "source": [
            "\n#nowarn \"211\"\nopen System\nlet airQuality = __SOURCE_DIRECTORY__ + \"/data/airquality.csv\"\n\n"
        ]
        ,"execution_count": null,"outputs": []
    }, {
        "cell_type": "markdown",
        "metadata": {},
        "source": [
            "(**\n\nInteroperating between R and Deedle\n===================================\n\nThe [R type provider](http://fslab.org/RProvider/) enables\nsmooth interoperation between R and F#. The type provider automatically discovers \ninstalled packages and makes them accessible via the `RProvider` namespace.\n\nR type provider for F# automatically converts standard data structures betwene R\nand F# (such as numerical values, arrays, etc.). However, the conversion mechanism\nis extensible and so it is possible to support conversion between other F# types.\n\nThe Deedle library comes with extension that automatically converts between Deedle\n`Frame<R, C>` and R `data.frame` and also between Deedle `Series<K, V>` and the\n[zoo package](http://cran.r-project.org/web/packages/zoo/index.html) (Z's ordered \nobservations).\n\nThis page is a quick overview showing how to pass data between R and Deedle.\nYou can also get this page as an [F# script file](https://github.com/fslaborg/Deedle/blob/master/docs/content/rinterop.fsx)\nfrom GitHub and run the samples interactively.\n\n<a name=\"setup\"></a>\n\n\nGetting started\n---------------\n\nTo use Deedle and R provider together, all you need to do is to install the \n[**Deedle.RPlugin** package](https://nuget.org/packages/Deedle.RPlugin), which\ninstalles both as dependencies. Alternatively, you can use the [**FsLab**\npackage](http://www.nuget.org/packages/FsLab), which also includes additional\ndata access, data science and visualization libraries.\n\nIn a typical project (\"F# Tutorial\"), the NuGet packages are installed in the `../packages`\ndirectory. To use R provider and Deedle, you need to write something like this:\n*)"
        ]
        
    }, {
        "cell_type": "code",
        "metadata": {},
        "source": [
            "\n#load \"../../packages/RProvider/RProvider.fsx\"\n#load \"../../bin/net45/Deedle.fsx\"\n\nopen RProvider\nopen RDotNet\nopen Deedle\n"
        ]
        ,"execution_count": null,"outputs": []
    }, {
        "cell_type": "markdown",
        "metadata": {},
        "source": [
            "(**\n\nIf you're not using NuGet from Visual Studio, then you'll need to manually copy the\nfile `Deedle.RProvider.Plugin.dll` from the package `Deedle.RPlugin` to the \ndirectory where `RProvider.dll` is located (in `RProvider/lib`). Once that's\ndone, the R provider will automatically find the plugin.\n\n<a name=\"frames\"></a>\n\nPassing data frames to and from R\n---------------------------------\n\n### From R to Deedle\nLet's start by looking at passing data frames from R to Deedle. To test this, we\ncan use some of the sample data sets available in the `datasets` package. The R\nmakes all packages available under the `RProvider` namespace, so we can just\nopen `datasets` and access the `mtcars` data set using `R.mtcars` (when typing\nthe code, you'll get automatic completion when you type `R` followed by dot):\n\n*)"
        ]
        
    }, {
        "cell_type": "markdown",
        "metadata": {},
        "source": [
            "\n(*** define-output:mtcars ***)"
        ]
        
    }, {
        "cell_type": "code",
        "metadata": {},
        "source": [
            "\nopen RProvider.datasets\n\n// Get mtcars as an untyped object\nR.mtcars.Value\n\n// Get mtcars as a typed Deedle frame\nlet mtcars : Frame<string, string> = R.mtcars.GetValue()\n"
        ]
        ,"execution_count": null,"outputs": []
    }, {
        "cell_type": "markdown",
        "metadata": {},
        "source": [
            "(*** include-value:mtcars ***)"
        ]
        
    }, {
        "cell_type": "markdown",
        "metadata": {},
        "source": [
            "\n(**\nThe first sample uses the `Value` property to convert the data set to a boxed Deedle\nframe of type `obj`. This is a great way to explore the data, but when you want to do \nsome further processing, you need to specify the type of the data frame that you want\nto get. This is done on line 7 where we get `mtcars` as a Deedle frame with both rows\nand columns indexed by `string`.\n\nTo see that this is a standard Deedle data frame, let's group the cars by the number of\ngears and calculate the average \"miles per galon\" value based on the gear. To visualize\nthe data, we use the [F# Charting library](https://github.com/fsharp/FSharp.Charting):\n\n*)"
        ]
        
    }, {
        "cell_type": "markdown",
        "metadata": {},
        "source": [
            "\n(*** define-output:mpgch ***)"
        ]
        
    }, {
        "cell_type": "code",
        "metadata": {},
        "source": [
            "\n#load \"../../packages/FSharp.Charting/lib/net45/FSharp.Charting.fsx\"\nopen FSharp.Charting\n\nmtcars\n|> Frame.groupRowsByInt \"gear\"\n|> Frame.getCol \"mpg\"\n|> Stats.levelMean fst\n|> Series.observations |> Chart.Column\n\n"
        ]
        ,"execution_count": null,"outputs": []
    }, {
        "cell_type": "markdown",
        "metadata": {},
        "source": [
            "(*** include-it:mpgch ***)"
        ]
        
    }, {
        "cell_type": "markdown",
        "metadata": {},
        "source": [
            "\n\n(**\n\n### From Deedle to R\n\nSo far, we looked how to turn R data frame into Deedle `Frame<R, C>`, so let's look\nat the opposite direction. The following snippet first reads Deedle data frame \nfrom a CSV file (file name is in the `airQuality` variable). We can then use the\ndata frame as argument to standard R functions that expect data frame.\n*)"
        ]
        
    }, {
        "cell_type": "code",
        "metadata": {},
        "source": [
            "\n\nlet air = Frame.ReadCsv(airQuality, separators=\";\")\n\n"
        ]
        ,"execution_count": null,"outputs": []
    }, {
        "cell_type": "markdown",
        "metadata": {},
        "source": [
            "(*** include-value:air ***)"
        ]
        
    }, {
        "cell_type": "markdown",
        "metadata": {},
        "source": [
            "\n\n(**\nLet's first try passing the `air` frame to the R `as.data.frame` function (which \nwill not do anything, aside from importing the data into R). To do something \nslightly more interesting, we then use the `colMeans` R function to calculate averages\nfor each column (to do this, we need to open the `base` package):\n*)"
        ]
        
    }, {
        "cell_type": "code",
        "metadata": {},
        "source": [
            "\nopen RProvider.``base``\n\n// Pass air data to R and print the R output\nR.as_data_frame(air)\n\n// Pass air data to R and get column means\nR.colMeans(air)\n// [fsi:val it : SymbolicExpression =]\n// [fsi:  Ozone  Solar.R  Wind  Temp  Month   Day ]\n// [fsi:    NaN      NaN  9.96 77.88   6.99  15.8]\n\n"
        ]
        ,"execution_count": null,"outputs": []
    }, {
        "cell_type": "markdown",
        "metadata": {},
        "source": [
            "(** \nAs a final example, let's look at the handling of missing values. Unlike R, Deedle does not \ndistinguish between missing data (`NA`) and not a number (`NaN`). For example, in the \nfollowing simple frame, the `Floats` column has missing value for keys 2 and 3 while\n`Names` has missing value for the row 2:\n*)"
        ]
        
    }, {
        "cell_type": "code",
        "metadata": {},
        "source": [
            "\n// Create sample data frame with missing values\nlet df = \n  [ \"Floats\" =?> series [ 1 => 10.0; 2 => nan; 4 => 15.0]\n    \"Names\"  =?> series [ 1 => \"one\"; 3 => \"three\"; 4 => \"four\" ] ] \n  |> frame\n"
        ]
        ,"execution_count": null,"outputs": []
    }, {
        "cell_type": "markdown",
        "metadata": {},
        "source": [
            "(**\nWhen we pass the data frame to R, missing values in numeric columns are turned into `NaN`\nand missing data for other columns are turned into `NA`. Here, we use `R.assign` which\nstores the data frame in a varaible available in the current R environment:\n*)"
        ]
        
    }, {
        "cell_type": "code",
        "metadata": {},
        "source": [
            "\nR.assign(\"x\",  df)\n// [fsi:val it : SymbolicExpression = ]\n// [fsi:     Floats   Names ]\n// [fsi: 1       10     one ] \n// [fsi: 2      NaN    <NA> ]\n// [fsi: 4       15    four ]\n// [fsi: 3      NaN   three ]\n"
        ]
        ,"execution_count": null,"outputs": []
    }, {
        "cell_type": "markdown",
        "metadata": {},
        "source": [
            "(**\n\n<a name=\"series\"></a>\n\nPassing time series to and from R\n---------------------------------\n\nFor working with time series data, the Deedle plugin uses [the zoo package](http://cran.r-project.org/web/packages/zoo/index.html) \n(Z's ordered observations). If you do not have the package installed, you can do that\nby using the `install.packages(\"zoo\")` command from R or using `R.install_packages(\"zoo\")` from\nF# after opening `RProvider.utils`. When running the code from F#, you'll need to restart your \neditor and F# interactive after it is installed.\n\n### From R to Deedle\n\nLet's start by looking at getting time series data from R. We can again use the `datasets`\npackage with samples. For example, the `austres` data set gives us access to \nquarterly time series of the number of australian residents:\n*)"
        ]
        
    }, {
        "cell_type": "code",
        "metadata": {},
        "source": [
            "\nR.austres.Value\n// [fsi:val it : obj =]\n// [fsi:    1971.25 -> 13067.3 ]\n// [fsi:    1971.5  -> 13130.5 ]\n// [fsi:    1971.75 -> 13198.4 ]\n// [fsi:    ...     -> ...     ]\n// [fsi:    1992.75 -> 17568.7 ]\n// [fsi:    1993    -> 17627.1 ]\n// [fsi:    1993.25 -> 17661.5 ]\n"
        ]
        ,"execution_count": null,"outputs": []
    }, {
        "cell_type": "markdown",
        "metadata": {},
        "source": [
            "(**\nAs with data frames, when we want to do any further processing with the time series, we need\nto use the generic `GetValue` method and specify a type annotation to that tells the F#\ncompiler that we expect a series where both keys and values are of type `float`:\n*)"
        ]
        
    }, {
        "cell_type": "code",
        "metadata": {},
        "source": [
            "\n// Get series with numbers of australian residents\nlet austres : Series<float, float> = R.austres.GetValue()\n\n// Get TimeSpan representing (roughly..) two years\nlet twoYears = TimeSpan.FromDays(2.0 * 365.0)\n\n// Calculate means of sliding windows of 2 year size \naustres \n|> Series.mapKeys (fun y -> \n    DateTime(int y, 1 + int (12.0 * (y - floor y)), 1))\n|> Series.windowDistInto twoYears Stats.mean\n"
        ]
        ,"execution_count": null,"outputs": []
    }, {
        "cell_type": "markdown",
        "metadata": {},
        "source": [
            "(**\n\nThe current version of the Deedle plugin supports only time series with single column.\nTo access, for example, the EU stock market data, we need to write a short R inline\ncode to extract the column we are interested in. The following gets the FTSE time \nseries from `EuStockMarkets`:\n\n*)"
        ]
        
    }, {
        "cell_type": "code",
        "metadata": {},
        "source": [
            "\nlet ftseStr = R.parse(text=\"\"\"EuStockMarkets[,\"FTSE\"]\"\"\")\nlet ftse : Series<float, float> = R.eval(ftseStr).GetValue()\n"
        ]
        ,"execution_count": null,"outputs": []
    }, {
        "cell_type": "markdown",
        "metadata": {},
        "source": [
            "(**\n\n### From Deedle to R\n\nThe opposite direction is equally easy. To demonstrate this, we'll generate a simple\ntime series with 3 days of randomly generated values starting today:\n*)"
        ]
        
    }, {
        "cell_type": "code",
        "metadata": {},
        "source": [
            "\nlet rnd = Random()\nlet ts = \n  [ for i in 0.0 .. 100.0 -> \n      DateTime.Today.AddHours(i), rnd.NextDouble() ] \n  |> series\n"
        ]
        ,"execution_count": null,"outputs": []
    }, {
        "cell_type": "markdown",
        "metadata": {},
        "source": [
            "(**\nNow that we have a time series, we can pass it to R using the `R.as_zoo` function or\nusing `R.assign` to store it in an R variable. As previously, the R provider automatically\nshows the output that R prints for the value:\n*)"
        ]
        
    }, {
        "cell_type": "code",
        "metadata": {},
        "source": [
            "\nopen RProvider.zoo\n\n// Just convert time series to R\nR.as_zoo(ts)\n// Convert and assing to a variable 'ts'\nR.assign(\"ts\", ts)\n// [fsi:val it : string =\n// [fsi: 2013-11-07 05:00:00 2013-11-07 06:00:00 2013-11-07 07:00:00 ...]\n// [fsi: 0.749946652         0.580584353         0.523962789         ...]\n\n"
        ]
        ,"execution_count": null,"outputs": []
    }, {
        "cell_type": "markdown",
        "metadata": {},
        "source": [
            "(**\nTypically, you will not need to assign time series to an R variable, because you can \nuse it directly as an argument to functions that expect time series. For example, the\nfollowing snippet applies the rolling mean function with a window size 20 to the \ntime series.\n*)"
        ]
        
    }, {
        "cell_type": "code",
        "metadata": {},
        "source": [
            "\n// Rolling mean with window size 20\nR.rollmean(ts, 20)\n\n"
        ]
        ,"execution_count": null,"outputs": []
    }, {
        "cell_type": "markdown",
        "metadata": {},
        "source": [
            "(**\nThis is a simple example - in practice, you can achieve the same thing with `Series.window`\nfunction from Deedle - but it demonstrates how easy it is to use R packages with \ntime series (and data frames) from Deedle. As a final example, we create a data frame that\ncontains the original time series together with the rolling mean (in a separate column)\nand then draws a chart showing the results:\n*)"
        ]
        
    }, {
        "cell_type": "markdown",
        "metadata": {},
        "source": [
            "\n\n(*** define-output:means ***)"
        ]
        
    }, {
        "cell_type": "code",
        "metadata": {},
        "source": [
            "\n// Use 'rollmean' to calculate mean and 'GetValue' to \n// turn the result into a Deedle time series\nlet tf = \n  [ \"Input\" => ts \n    \"Means5\" => R.rollmean(ts, 5).GetValue<Series<_, float>>()\n    \"Means20\" => R.rollmean(ts, 20).GetValue<Series<_, float>>() ]\n  |> frame\n\n// Chart original input and the two rolling means\nChart.Combine\n  [ Chart.Line(Series.observations tf?Input)\n    Chart.Line(Series.observations tf?Means5)\n    Chart.Line(Series.observations tf?Means20) ]\n\n"
        ]
        ,"execution_count": null,"outputs": []
    }, {
        "cell_type": "markdown",
        "metadata": {},
        "source": [
            "(**\nDepending on your random number generator, the resulting chart looks something like this:\n*)"
        ]
        
    }, {
        "cell_type": "markdown",
        "metadata": {},
        "source": [
            "\n\n(*** include-it:means ***)"
        ]
        
    }, {
        "cell_type": "code",
        "metadata": {},
        "source": [
            "\n"
        ]
        ,"execution_count": null,"outputs": []
    }],
 "metadata": {
  "kernelspec": {
   "display_name": "F#",
   "language": "fsharp",
   "name": "ifsharp"
  },
  "language": "fsharp",
  "language_info": {
   "codemirror_mode": "",
   "file_extension": ".fs",
   "mimetype": "text/x-fsharp",
   "name": "fsharp",
   "nbconvert_exporter": "",
   "pygments_lexer": "",
   "version": "4.3.1.0"
  }
 },
 "nbformat": 4,
 "nbformat_minor": 2
}
