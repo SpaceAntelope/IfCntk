
 {
 "cells": [{
        "cell_type": "markdown",
        "metadata": {},
        "source": [
            "(*** hide ***)"
        ]
        
    }, {
        "cell_type": "code",
        "metadata": {},
        "source": [
            "\n#load \"../../bin/net45/Deedle.fsx\"\nopen System\nopen Deedle\nlet root = __SOURCE_DIRECTORY__ + \"/data/\"\n\n"
        ]
        ,"execution_count": null,"outputs": []
    }, {
        "cell_type": "markdown",
        "metadata": {},
        "source": [
            "(**\nDeedle: Exploratory data library for .NET\n=========================================\n\n<img src=\"http://www.bluemountaincapital.com/media/logo.gif\" style=\"float:right;margin:10px\" />\n\nDeedle is an easy to use library for data and time series manipulation and for scientific \nprogramming. It supports working with structured data frames, ordered and unordered data, \nas well as time series. Deedle is designed to work well for exploratory programming using \nF# and C# interactive console, but can be also used in efficient compiled .NET code.\n\nThe library implements a wide range of operations for data manipulation including \nadvanced indexing and slicing, joining and aligning data, handling of missing values,\ngrouping and aggregation, statistics and more. \n\n### Titanic survivor analysis in 20 lines\n\nAssume we loaded [Titanic data set](http://www.kaggle.com/c/titanic-gettingStarted) \ninto a data frame called `titanic` (the data frame has numerous columns including int\n`Pclass` and Boolean `Survived`). Now we can calculate the survival rates for three different\nclasses of tickets:\n\n<div id=\"hp-snippeta\">\n*)"
        ]
        
    }, {
        "cell_type": "markdown",
        "metadata": {},
        "source": [
            "\n(*** define-output: sample ***)"
        ]
        
    }, {
        "cell_type": "code",
        "metadata": {},
        "source": [
            "\n// Read Titanic data & group rows by 'Pclass'\nlet titanic = Frame.ReadCsv(root + \"titanic.csv\").GroupRowsBy<int>(\"Pclass\")\n\n// Get 'Survived' column and count survival count per clsas\nlet byClass =\n  titanic.GetColumn<bool>(\"Survived\")\n  |> Series.applyLevel fst (fun s ->\n      // Get counts for 'True' and 'False' values of 'Survived'\n      series (Seq.countBy id s.Values))\n  // Create frame with 'Pclass' as row and 'Died' & 'Survived' columns\n  |> Frame.ofRows \n  |> Frame.sortRowsByKey\n  |> Frame.indexColsWith [\"Died\"; \"Survived\"]\n\n// Add column with Total number of males/females on Titanic\nbyClass?Total <- byClass?Died + byClass?Survived\n\n// Build a data frame with nice summary of rates in percents\nframe [ \"Died (%)\" => round (byClass?Died / byClass?Total * 100.0)\n        \"Survived (%)\" => round (byClass?Survived / byClass?Total * 100.0) ]\n"
        ]
        ,"execution_count": null,"outputs": []
    }, {
        "cell_type": "markdown",
        "metadata": {},
        "source": [
            "(**\n</div>\n\n<style type=\"text/css\">\n.hp-table th, .hp-table td { width: 140px; }\n.hp-table th:first-child, .hp-table td:first-child { width: 90px; }\n</style>\n<div class=\"hp-table\">\n*)"
        ]
        
    }, {
        "cell_type": "markdown",
        "metadata": {},
        "source": [
            "\n\n(*** include-it: sample ***)"
        ]
        
    }, {
        "cell_type": "markdown",
        "metadata": {},
        "source": [
            "\n\n(**\n</div>\n\nWe first group data by the `Pclass` and get the `Survived` column as a series\nof Boolean values. Then we reduce each group using `applyLevel`. This calls a specified\nfunction for each passenger class. We count the number of survivors and casualties.\nThen we add nice namings, sort the frame and build a new data frame with a nice summary:\n\n### How to get Deedle\n\n * The library is available as [Deedle on NuGet](https://www.nuget.org/packages/Deedle). To get the\n   can also [get the code from GitHub](https://github.com/fslaborg/Deedle/)\n   or download [the source as a ZIP file](https://github.com/fslaborg/Deedle/zipball/master).\n   Compiled binaries are also available for [download as a ZIP file](https://github.com/fslaborg/Deedle/zipball/release).\n\n * If you want to use Deedle with F# Data, R type provider and other F# components for data science,\n   consider using the [FsLab package](https://www.nuget.org/packages/FsLab). When using Visual Studio,\n   you can also install [the FsLab project template](http://visualstudiogallery.msdn.microsoft.com/45373b36-2a4c-4b6a-b427-93c7a8effddb).\n\nSamples & documentation\n-----------------------\n\nThe library comes with comprehensible documentation. The tutorials and articles are \nautomatically generated from `*.fsx` files in [the docs folder][docs]. The API\nreference is automatically generated from Markdown comments in the library implementation.\n\n * [Quick start tutorial](tutorial.html) shows how to use the most important \n   features of F# DataFrame library. Start here to learn how to use the library in 10 minutes.\n\n * [Data frame features](frame.html) provides more examples that use general data frame \n   features. These includes slicing, joining, grouping, aggregation.\n\n * [Series features](series.html) provides more details on operations that are \n   relevant when working with time series data (such as stock prices). This includes sliding\n   windows, chunking, sampling and statistics.\n\n * [Calculating frame and series statistics](stats.html) shows how to calculate statistical\n   indicators such as mean, variance, skweness and other. The tutorial also covers moving\n   window and expanding window statistics.\n\n * The Deedle library can be used from both F# and C#. We aim to provide idiomatic API for\n   both of the languages. Read the [using Deedle from C#](csharpintro.html) page for more \n   information about the C#-friendly API.\n\nAutomatically generated documentation for all types, modules and functions in the library \nis available in the [API Reference](reference/index.html). The three most important modules\nthat are fully documented are the following:\n\n * [`Series` module](reference/deedle-seriesmodule.html) provides functions for working\n   with individual data series and time-series values.\n * [`Frame` module](reference/deedle-framemodule.html) provides functions that are similar\n   to those in the `Series` module, but operate on entire data frames.\n * [`Stats` module](reference/deedle-stats.html) implements standard statistical functions,\n   moving windows and a lot more. It contains functions for both series and frames.\n\n \nContributing and copyright\n--------------------------\n\nThe project is hosted on [GitHub][gh] where you can [report issues][issues], fork \nthe project and submit pull requests. If you're adding new public API, please also \nconsider adding [samples][samples] that can be turned into a documentation. You might\nalso want to read [library design notes](design.html) to understand how it works.\n\nIf you are interested in F# and data science more generally, consider also joining\nthe [F# data science and machine learning][fsharp-dwg] working group, which coordinates\nwork on data science projects for F#.\n\nThe library has been developed by [BlueMountain Capital](https://www.bluemountaincapital.com/)\nand contributors. It is available under the BSD license, which allows modification and \nredistribution for both commercial and non-commercial purposes. For more information see the \n[License file][license] in the GitHub repository. \n\n\n  [docs]: https://github.com/fslaborg/Deedle/tree/master/docs/content\n  [samples]: https://github.com/fslaborg/Deedle/tree/master/docs/content/samples\n  [gh]: https://github.com/fslaborg/Deedle\n  [issues]: https://github.com/fslaborg/Deedle/issues\n  [readme]: https://github.com/fslaborg/Deedle/blob/master/README.md\n  [license]: https://github.com/fslaborg/Deedle/blob/master/LICENSE.md\n  [fsharp-dwg]: http://fsharp.org/technical-groups/\n*)"
        ]
        
    }, {
        "cell_type": "code",
        "metadata": {},
        "source": [
            "\n"
        ]
        ,"execution_count": null,"outputs": []
    }],
 "metadata": {
  "kernelspec": {
   "display_name": "F#",
   "language": "fsharp",
   "name": "ifsharp"
  },
  "language": "fsharp",
  "language_info": {
   "codemirror_mode": "",
   "file_extension": ".fs",
   "mimetype": "text/x-fsharp",
   "name": "fsharp",
   "nbconvert_exporter": "",
   "pygments_lexer": "",
   "version": "4.3.1.0"
  }
 },
 "nbformat": 4,
 "nbformat_minor": 2
}
