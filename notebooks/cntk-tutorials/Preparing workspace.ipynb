{
 "cells": [
  {
   "cell_type": "markdown",
   "metadata": {},
   "source": [
    "## Preparing the workspace for CNTK in jupyter notebook"
   ]
  },
  {
   "cell_type": "code",
   "execution_count": 5,
   "metadata": {},
   "outputs": [],
   "source": [
    "#r \"netstandard\"\n",
    "#load \"Paket.fsx\""
   ]
  },
  {
   "cell_type": "markdown",
   "metadata": {},
   "source": [
    "* Unless you reference *netstandard* this way anything CNTK related will be marked as errors and will be ignored by ignore by autocomplete.\n",
    "\n",
    "* *Paket.fsx* is neccessary to enable IfSharp's paket extensions such as <span style='color:#B21543'>Paket.Dependencies.Install</span>. Downloading paket.exe for each notebook specifically is thus unnessecary."
   ]
  },
  {
   "cell_type": "markdown",
   "metadata": {},
   "source": [
    "### 1. Install neccessary packages"
   ]
  },
  {
   "cell_type": "code",
   "execution_count": 6,
   "metadata": {},
   "outputs": [],
   "source": [
    "Paket.Dependencies.Install \"\"\"\n",
    "framework: netstandard2.0\n",
    "generate_load_scripts: true\n",
    "storage: none\n",
    "source https://nuget.org/api/v2\n",
    "nuget CNTK.CPUOnly\n",
    "nuget MathNet.Numerics\n",
    "nuget MathNet.Numerics.FSharp\n",
    "\"\"\""
   ]
  },
  {
   "cell_type": "markdown",
   "metadata": {},
   "source": [
    "Usually in F# notebooks we tend to see <span style=\"color:green\">paket.dependencies</span> created this way:\n",
    "\n",
    "> Paket.Package [\"CNTK.CPUOnly\"; \"FsLab\"; \"FSharp.Charting\"]\n",
    "\n",
    "I used <span style='color:#B21543'>Paket.Dependencies.Install</span> instead of <span style='color:#B21543'>Paket.Package</span> as it allows us to set **storage: none** and save some disk space and bandwidth by not re-downloading the same dependencies every time a project needs CNTK support, some of the required DLLs being rather immense as it is.\n",
    "\n",
    "This is slightly ironic, considering that in order to use CNTK in jupyter we end up having to copy all dependencies in a common bin path anyway."
   ]
  },
  {
   "cell_type": "markdown",
   "metadata": {},
   "source": [
    "### 2. Reference Cntk.Core.Managed-#.#.dll from the nuget packages folder"
   ]
  },
  {
   "cell_type": "code",
   "execution_count": 5,
   "metadata": {},
   "outputs": [
    {
     "data": {
      "text/plain": [
       "CNTK managed binary referenced from:\n",
       "\tfile:///C:/Users/cernu/.nuget/packages/cntk.cpuonly/2.6.0/lib/netstandard2.0/Cntk.Core.Managed-2.6.dll\r\n"
      ]
     },
     "metadata": {},
     "output_type": "display_data"
    }
   ],
   "source": [
    "#load @\".paket\\load\\main.group.fsx\"\n",
    "\n",
    "System.Reflection.Assembly.GetAssembly(typeof<CNTK.CNTKLib>).CodeBase\n",
    "|> printfn \"CNTK managed binary referenced from:\\n\\t%s\""
   ]
  },
  {
   "cell_type": "markdown",
   "metadata": {},
   "source": [
    "I prefer the reference location to be something like **file://&lt;user folder&gt;/packages/**. If you always end up with a reference in the IfSharp.exe path it is because it seems to have precedence as far as the <span style=\"color:green\">#load</span> directive is concerned.\n",
    "\n",
    "This also means that once *main.group.fsx* has been generated in the IfSharp folder (for instance after downloading the visualization tools) you will no longer have access to the local generated scripts until you delete those in the IfSharp folder.\n",
    "\n",
    "If you get an error the likes of:\n",
    ">The namespace or module 'CNTK' is not defined.\n",
    "\n",
    "after <span style='color:#B21543'>Paket.Dependencies.Install</span> above succeeds, it is exceedingly likely that you need to clean the IfSharp folder from paket generated files.\n",
    "\n",
    "If you ommit **storage: none** from <span style='color:#B21543'>Paket.Dependencies.Install</span>, the IfSharp folder is also where any nuget packages will end up."
   ]
  },
  {
   "cell_type": "markdown",
   "metadata": {},
   "source": [
    "### 3. Copy all CNTK dependencies to the same folder\n",
    "\n",
    "Currently all CNTK dlls need to be copied in the same folder with _Cntk.Core.Managed-#.#.dll_ else they can't be resolved at runtime. The following script finds the path of the presently referenced Cntk DLL and uses it to locate any dependencies. Should work for both GPU and CPUOnly.\n",
    "\n",
    "Visual Studio does this by default in some projects, but here we need to do it by hand:"
   ]
  },
  {
   "cell_type": "code",
   "execution_count": 6,
   "metadata": {
    "scrolled": false
   },
   "outputs": [
    {
     "data": {
      "text/plain": [
       "Copying from 'packages\\cntk.cpuonly\\2.6.0\\lib\\netstandard2.0\\Cntk.Core.Managed-2.6.dll'\r\n",
       "Copying from 'packages\\cntk.cpuonly\\2.6.0\\support\\x64\\Release\\Cntk.Composite-2.6.dll'\r\n",
       "Copying from 'packages\\cntk.cpuonly\\2.6.0\\support\\x64\\Release\\Cntk.Core-2.6.dll'\r\n",
       "Copying from 'packages\\cntk.cpuonly\\2.6.0\\support\\x64\\Release\\Cntk.Core.CSBinding-2.6.dll'\r\n",
       "Copying from 'packages\\cntk.cpuonly\\2.6.0\\support\\x64\\Release\\Cntk.Deserializers.Binary-2.6.dll'\r\n",
       "Copying from 'packages\\cntk.cpuonly\\2.6.0\\support\\x64\\Release\\Cntk.Deserializers.HTK-2.6.dll'\r\n",
       "Copying from 'packages\\cntk.cpuonly\\2.6.0\\support\\x64\\Release\\Cntk.Deserializers.Image-2.6.dll'\r\n",
       "Copying from 'packages\\cntk.cpuonly\\2.6.0\\support\\x64\\Release\\Cntk.Deserializers.TextFormat-2.6.dll'\r\n",
       "Copying from 'packages\\cntk.cpuonly\\2.6.0\\support\\x64\\Release\\Cntk.Math-2.6.dll'\r\n",
       "Copying from 'packages\\cntk.cpuonly\\2.6.0\\support\\x64\\Release\\Cntk.PerformanceProfiler-2.6.dll'\r\n",
       "Copying from 'packages\\cntk.deps.opencv.zip\\2.6.0\\support\\x64\\Dependency\\Release\\opencv_world310.dll'\r\n",
       "Copying from 'packages\\cntk.deps.cuda\\2.6.0\\support\\x64\\Dependency\\cublas64_90.dll'\r\n",
       "Copying from 'packages\\cntk.deps.cuda\\2.6.0\\support\\x64\\Dependency\\cudart64_90.dll'\r\n",
       "Copying from 'packages\\cntk.deps.cuda\\2.6.0\\support\\x64\\Dependency\\curand64_90.dll'\r\n",
       "Copying from 'packages\\cntk.deps.cuda\\2.6.0\\support\\x64\\Dependency\\cusparse64_90.dll'\r\n",
       "Copying from 'packages\\cntk.deps.cuda\\2.6.0\\support\\x64\\Dependency\\nvml.dll'\r\n",
       "Copying from 'packages\\cntk.deps.cudnn\\2.6.0\\support\\x64\\Dependency\\cudnn64_7.dll'\r\n",
       "Copying from 'packages\\cntk.deps.mkl\\2.6.0\\support\\x64\\Dependency\\libiomp5md.dll'\r\n",
       "Copying from 'packages\\cntk.deps.mkl\\2.6.0\\support\\x64\\Dependency\\mkldnn.dll'\r\n",
       "Copying from 'packages\\cntk.deps.mkl\\2.6.0\\support\\x64\\Dependency\\mklml.dll'\r\n",
       "Copying from 'packages\\cntk.deps.opencv.zip\\2.6.0\\support\\x64\\Dependency\\zip.dll'\r\n",
       "Copying from 'packages\\cntk.deps.opencv.zip\\2.6.0\\support\\x64\\Dependency\\zlib.dll'\r\n",
       "Copied 634.00MB\r\n"
      ]
     },
     "metadata": {},
     "output_type": "display_data"
    }
   ],
   "source": [
    "#load \"fsx/prepareWorkspace.fsx\"\n",
    "\n",
    "let localBinFolder = \"bin\"\n",
    "\n",
    "PrepareWorkspace.createOrCleanLocalBinFolder localBinFolder\n",
    "PrepareWorkspace.copyDependenciesToLocalFolder localBinFolder (PrepareWorkspace.Release) "
   ]
  },
  {
   "cell_type": "markdown",
   "metadata": {},
   "source": [
    "So far I haven't been able to reference debug DLLs successfully in a notebook, i.e. without hitting the dreaded <span style='font-family:consolas'>DllNotFoundException: Cntk.Core.CSBinding-#.#.dll</span>, so I suggest you also stick to the release builds.\n",
    "\n",
    "**Known bug**: If you have *CNTK.gpu* in your packets folder then it's own references will be copied here as well, regardless of whether you've had paket only add *CNTK.CPUOnly*. Other than the waste of space this seems to have no other ramifications."
   ]
  },
  {
   "cell_type": "markdown",
   "metadata": {},
   "source": [
    "### 4. Reference CNTK from the newly created folder\n",
    "\n",
    "<span style=\"color:blue\">If you intend to use CNTK calls in this notebook you should restart the kernel after copying is complete, and then reference _Cntk.Core.Managed-#.#.dll_ from the newly created _/bin_ folder.</span>"
   ]
  },
  {
   "cell_type": "code",
   "execution_count": 3,
   "metadata": {
    "scrolled": false
   },
   "outputs": [
    {
     "data": {
      "text/plain": [
       "Congratulations, you are using CNTK for: CPU\r\n",
       "\n",
       "CNTK managed binary referenced from:\n",
       "\tfile:///C:/Users/cernu/Documents/Code/IfCntk/notebooks/cntk-tutorials/bin/Cntk.Core.Managed-2.6.dll\r\n"
      ]
     },
     "metadata": {},
     "output_type": "display_data"
    }
   ],
   "source": [
    "#r @\"bin\\Cntk.Core.Managed-2.6.dll\"\n",
    "#load @\".paket\\load\\main.group.fsx\"\n",
    "\n",
    "open CNTK\n",
    "let cpu = DeviceDescriptor.UseDefaultDevice()\n",
    "printfn \"Congratulations, you are using CNTK for: %A\" (cpu.Type)\n",
    "\n",
    "System.Reflection.Assembly.GetAssembly(typeof<CNTK.CNTKLib>).CodeBase\n",
    "|> printfn \"\\nCNTK managed binary referenced from:\\n\\t%s\""
   ]
  },
  {
   "cell_type": "markdown",
   "metadata": {},
   "source": [
    "### 5. Update path variable"
   ]
  },
  {
   "cell_type": "markdown",
   "metadata": {},
   "source": [
    "Finally, we need to update the path variable to inlcude the newly created /bin folder, otherwise we get an error when instantiating the learner before training.\n",
    ">CNTK.CNTKLibPINVOKE.SGDLearner__SWIG_1 exception\n",
    "\n",
    "<span style=\"color: blue\">This is only affects the current process, so you'll have to do this again whenever you run a cntk notebook.</span>"
   ]
  },
  {
   "cell_type": "code",
   "execution_count": 4,
   "metadata": {},
   "outputs": [],
   "source": [
    "let path = System.Environment.GetEnvironmentVariable(\"PATH\")\n",
    "let path' = sprintf \"%s%c%s\" path (System.IO.Path.PathSeparator) (System.IO.Path.GetFullPath(\"bin\"))\n",
    "System.Environment.SetEnvironmentVariable(\"PATH\", path')"
   ]
  },
  {
   "cell_type": "markdown",
   "metadata": {},
   "source": [
    " When calling CNTK from script make sure it's through a 64bit version of fsi.exe, such as fsiAnyCPU.exe, or you will run into _bad image_ exceptions."
   ]
  }
 ],
 "metadata": {
  "kernelspec": {
   "display_name": "F#",
   "language": "fsharp",
   "name": "ifsharp"
  },
  "language": "fsharp",
  "language_info": {
   "codemirror_mode": "",
   "file_extension": ".fs",
   "mimetype": "text/x-fsharp",
   "name": "fsharp",
   "nbconvert_exporter": "",
   "pygments_lexer": "",
   "version": "4.3.1.0"
  }
 },
 "nbformat": 4,
 "nbformat_minor": 2
}
