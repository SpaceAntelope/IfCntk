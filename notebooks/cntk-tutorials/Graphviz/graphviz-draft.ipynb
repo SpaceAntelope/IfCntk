{
 "cells": [
  {
   "cell_type": "markdown",
   "metadata": {},
   "source": [
    "# Retroactive changes\n",
    "* Notebooks from now on will be on their own folders\n",
    "\n",
    "This makes is so much easier to keep track of dependencies, and we also resolve the issue of IfCntk overriding the local <code>main.group.fsx</code> path."
   ]
  },
  {
   "cell_type": "markdown",
   "metadata": {},
   "source": [
    "# Preparing workspace\n",
    "\n",
    "Our new dependency for this notebook is Newtonsoft.Json, since json is so easy to use from javascript."
   ]
  },
  {
   "cell_type": "code",
   "execution_count": null,
   "metadata": {
    "collapsed": true
   },
   "outputs": [],
   "source": [
    "#load \"Paket.fsx\"\n",
    " \n",
    "Paket.Dependencies.Install \"\"\"\n",
    "framework: netstandard2.0\n",
    "generate_load_scripts: true\n",
    "storage: none\n",
    "source https://nuget.org/api/v2\n",
    "nuget CNTK.CPUOnly\n",
    "nuget Newtonsoft.Json\n",
    "nuget MathNet.Numerics\n",
    "nuget MathNet.Numerics.FSharp\n",
    "\"\"\""
   ]
  },
  {
   "cell_type": "code",
   "execution_count": 3,
   "metadata": {
    "collapsed": true
   },
   "outputs": [],
   "source": [
    "#r \"netstandard\"\n",
    "#r @\"..\\bin\\Cntk.Core.Managed-2.6.dll\"\n",
    "#load \"../Graphviz/.paket/load/main.group.fsx\""
   ]
  },
  {
   "cell_type": "code",
   "execution_count": 4,
   "metadata": {
    "collapsed": false
   },
   "outputs": [
    {
     "data": {
      "text/plain": [
       "Congratulations, you are using CNTK for: CPU\r\n"
      ]
     },
     "metadata": {},
     "output_type": "display_data"
    }
   ],
   "source": [
    "open System\n",
    "open System.IO\n",
    "\n",
    "Environment.GetEnvironmentVariable(\"PATH\")\n",
    "|> fun path -> sprintf \"%s%c%s\" path (Path.PathSeparator) (Path.GetFullPath(\"bin\"))\n",
    "|> fun path -> Environment.SetEnvironmentVariable(\"PATH\", path)\n",
    "\n",
    "open CNTK\n",
    "DeviceDescriptor.UseDefaultDevice().Type\n",
    "|> printfn \"Congratulations, you are using CNTK for: %A\" "
   ]
  },
  {
   "cell_type": "code",
   "execution_count": null,
   "metadata": {
    "collapsed": true
   },
   "outputs": [],
   "source": [
    "let device = CNTK.DeviceDescriptor.CPUDevice\n",
    "let dataType = CNTK.DataType.Float\n",
    "let initialization = CNTKLib.GlorotUniformInitializer(1.0)\n",
    "let input_dim, num_output_classes = 2,2\n",
    "\n",
    "#load \"../fsx/CntkHelpers.fsx\"\n",
    "open CntkHelpers"
   ]
  },
  {
   "cell_type": "markdown",
   "metadata": {},
   "source": [
    "# Model building\n",
    "\n",
    "Let's create a simple classifier with one hidden layer of 50 nodes that outputs to a softmax function:"
   ]
  },
  {
   "cell_type": "code",
   "execution_count": 56,
   "metadata": {
    "collapsed": false
   },
   "outputs": [],
   "source": [
    "let input = Variable.InputVariable(shape [|input_dim|], dataType, \"Features\")\n",
    "let label = Variable.InputVariable(shape [|num_output_classes|], dataType, \"Labels\")\n",
    "let z = \n",
    "    fullyConnectedClassifierNet input [50] num_output_classes CNTKLib.Sigmoid\n",
    "    |> (Var>>CNTKLib.Softmax)    "
   ]
  },
  {
   "cell_type": "markdown",
   "metadata": {},
   "source": [
    "# The Search for Nodes\n",
    "\n",
    "The only way on offer for retrieving the model's consituent components seems to be retrieving <code>Function</code> objects by name, using <code>Function.FindByName/FindAllByName</code>. Maintaining a naming scheme while building a model in CNTK inmy opinion not especially expedient at the best of times, and a downright pain if you are training to implement functional idioms.\n",
    "\n",
    "In addition, if you are trying to catch a glimpse of the internal workings of a CNTK model it's likely because you had no hand in creating it in the first place. A way to blindly extract network achitecture seems to be necessary."
   ]
  },
  {
   "cell_type": "code",
   "execution_count": 57,
   "metadata": {
    "collapsed": false
   },
   "outputs": [],
   "source": [
    "/// Graph search for CNTK.Function objects.\n",
    "/// We use the Input & Output lists in a Function\n",
    "/// to find other Function objects by checking\n",
    "/// the Variable's Owner property.\n",
    "/// <remarks> CNTK helper function </remarks>\n",
    "let decomposeFunction (root: Function) = \n",
    "    let visited = System.Collections.Generic.Dictionary<string, Function>()            \n",
    "\n",
    "    let rec expand (f: Function) = \n",
    "        match visited.ContainsKey(f.Uid) with\n",
    "        | true -> Seq.empty\n",
    "        | false -> \n",
    "            visited.Add(f.Uid, f)\n",
    "            seq {\n",
    "                yield f\n",
    "                yield! \n",
    "                    seq { yield! f.Inputs\n",
    "                          yield! f.Outputs }\n",
    "                    |> Seq.map (fun v -> v.Owner)      \n",
    "                    |> Seq.filter (not<<isNull)\n",
    "                    |> Seq.collect expand\n",
    "            }        \n",
    "\n",
    "    Array.ofSeq (expand root)"
   ]
  },
  {
   "cell_type": "markdown",
   "metadata": {},
   "source": [
    "Recursively accumulating connected variables and checking the Owner property seems to be an easy way"
   ]
  },
  {
   "cell_type": "code",
   "execution_count": 62,
   "metadata": {
    "collapsed": false
   },
   "outputs": [],
   "source": [
    "open System.Collections.Generic\n",
    "\n",
    "let (|IsEnumerable|IsDescribable|IsPrimitive|) (t: Type) = \n",
    "    if  t <> typeof<string> && \n",
    "        (typeof< IEnumerable<_> >).IsAssignableFrom(t) \n",
    "    then IsEnumerable\n",
    "    else if t.GetMethods() \n",
    "            |> Array.exists (fun meth -> meth.Name = \"AsString\") \n",
    "    then IsDescribable\n",
    "    else IsPrimitive\n",
    "\n",
    "let asString item =\n",
    "    if isNull item then \"\"\n",
    "    else\n",
    "        match item.GetType() with\n",
    "        | IsDescribable ->     \n",
    "            item.GetType()\n",
    "                .GetMethod(\"AsString\", Array.empty)\n",
    "                .Invoke(item, Array.empty).ToString()\n",
    "        | _ -> item.ToString()"
   ]
  },
  {
   "cell_type": "code",
   "execution_count": 63,
   "metadata": {
    "collapsed": false,
    "scrolled": false
   },
   "outputs": [],
   "source": [
    "open System.Reflection\n",
    "\n",
    "let describeNode (item: obj) =\n",
    "    [|\n",
    "        yield KeyValuePair(\"NodeType\", item.GetType().Name)\n",
    "        yield KeyValuePair(\"AsString\", item |> asString)\n",
    "        yield!\n",
    "            item.GetType().GetProperties()\n",
    "            |> Seq.map\n",
    "                (fun prop ->\n",
    "                    match prop.PropertyType with\n",
    "                    | IsEnumerable -> \n",
    "                        prop.Name, \n",
    "                          (prop.GetValue(item) :?> IEnumerable<_>) \n",
    "                          |> function \n",
    "                          | list when list |> Seq.isEmpty -> \"[]\" \n",
    "                          | list -> \n",
    "                              list \n",
    "                              |> Seq.map (asString)                         \n",
    "                              |> Seq.reduce (sprintf \"%s, %s\")\n",
    "                    | IsDescribable -> prop.Name, prop.GetValue(item) |> asString\n",
    "                    | IsPrimitive -> \n",
    "                        prop.Name,\n",
    "                            try prop.GetValue(item) |> asString\n",
    "                            with ex -> sprintf \"%s\" ex.Message)\n",
    "            |> Seq.map (fun (k,v) -> KeyValuePair(k,v))\n",
    "    |]"
   ]
  },
  {
   "cell_type": "code",
   "execution_count": 81,
   "metadata": {
    "collapsed": false
   },
   "outputs": [],
   "source": [
    "// https://github.com/Microsoft/CNTK/blob/master/bindings/python/cntk/logging/graph.py\n",
    "\n",
    "let extractGraphVizDotNotation (f: Function) = \n",
    "        let varText (v:Variable) = (if String.IsNullOrEmpty v.Name then v.Uid else v.Name)// + \"\\\\n\" + v.Shape.AsString()\n",
    "        let funText (f: Function) = if String.IsNullOrEmpty f.Name then f.Uid else f.Name\n",
    "    \n",
    "        let varLabel (v: Variable) = sprintf \"%s [label=\\\"%s\\\"];\" v.Uid (varText v)\n",
    "        let funLabel (f: Function) = sprintf \"%s [label=\\\"%s\\\"];\" f.Uid (funText f)\n",
    "\n",
    "        let varShape (v: Variable) =\n",
    "            match v with\n",
    "            | _ when v.IsInput -> sprintf \"%s [shape=invhouse, color=yellow];\" v.Uid\n",
    "            | _ when v.IsOutput -> sprintf \"%s [shape=invhouse, color=gray];\" v.Uid\n",
    "            | _ when v.IsPlaceholder -> sprintf \"%s [shape=invhouse, color=yellow];\" v.Uid\n",
    "            | _ when v.IsParameter -> sprintf \"%s [shape=diamond, color=green];\" v.Uid\n",
    "            | _ when v.IsConstant -> sprintf \"%s [shape=rectangle, color=lightblue];\" v.Uid\n",
    "            | _ -> sprintf \"%s [shape=circle, color=purple];\" v.Uid\n",
    "\n",
    "        let funShape (f: Function) = \n",
    "            match f with \n",
    "            | _ when f.IsComposite -> sprintf \"%s [shape=ellipse, fontsize=20, penwidth=2, peripheries=2];\" f.Uid\n",
    "            | _ when f.IsPrimitive -> sprintf \"%s [shape=ellipse, fontsize=20, penwidth=2, size=0.6];\" f.Uid\n",
    "            | _ -> sprintf \"%s [shape=ellipse, fontsize=20, penwidth=4];\" f.Uid\n",
    "\n",
    "        let varEdges (f: Function) (v: Variable) = \n",
    "            let inputIndex = f.Inputs |> Seq.map (fun v -> v.Uid) |> Set\n",
    "            let outputIndex = f.Outputs |> Seq.map (fun v -> v.Uid) |> Set\n",
    "            match inputIndex.Contains(v.Uid), outputIndex.Contains(v.Uid) with \n",
    "            | true, _ when v.IsParameter -> sprintf \"%s -> %s [label=\\\"input param\\\"];\" v.Uid f.Uid |> Some\n",
    "            | _, true when v.IsParameter -> sprintf \"%s -> %s [label=\\\"output param\\\"];\" f.Uid v.Uid|> Some\n",
    "            | true, _ -> sprintf \"%s -> %s [label=input];\" v.Uid f.Uid|> Some \n",
    "            | _, true -> \n",
    "                if f.Outputs.Count = 1 && f.Output.Uid = v.Uid then\n",
    "                    sprintf \"%s -> %s [label=output];\" f.Uid v.Owner.Output.Uid |> Some\n",
    "                else sprintf \"%s -> %s [label=output];\" f.Uid v.Uid|> Some            \n",
    "            | _ -> None\n",
    "        \n",
    "        let varOwner (v: Variable) =\n",
    "            match v.Owner with\n",
    "            | null -> None\n",
    "            | _ -> sprintf \"%s -> %s [style=\\\"dotted\\\"];\" v.Owner.Uid v.Uid |> Some\n",
    "\n",
    "        let vars = Seq.append f.Inputs f.Outputs\n",
    "        let funs = seq { \n",
    "                yield f\n",
    "                yield f.RootFunction;\n",
    "                yield! vars |> Seq.map (fun v -> v.Owner) |> Seq.filter (isNull>>not) \n",
    "            } \n",
    "\n",
    "        seq {        \n",
    "            if f.Uid <> f.RootFunction.Uid then yield sprintf \"%s -> %s [label=\\\"root function\\\"];\" f.RootFunction.Uid f.Uid\n",
    "            yield! vars |> Seq.map varShape\n",
    "            yield! vars |> Seq.map varLabel\n",
    "            yield! vars |> Seq.map (varEdges f) |> Seq.choose id\n",
    "            yield! vars |> Seq.map varOwner |> Seq.choose id\n",
    "            yield! funs |> Seq.map funLabel \n",
    "            yield! funs |> Seq.map funShape\n",
    "        } |> Seq.distinct\n"
   ]
  },
  {
   "cell_type": "markdown",
   "metadata": {},
   "source": [
    "<div style=\"width: 100%; height: 700px; max-height: 700px; overflow-y: scroll; overflow-x: hidden; border: solid lightblue 1px; border-radius: 15px; position: relative\">\n",
    "    <div id=\"graph\" style=\"width: 100%; height: 100%;\"></div>\n",
    "    <div id=\"info\" style=\"width: 350px; max-width: 350px; position: absolute; top: 0; right: 0; background-color: white\"></div>\n",
    "    <div style=\"display: flex;position: absolute; top: 10px; left: 10px; align-items: center;\">\n",
    "        <span>Graphviz engine:</span>\n",
    "        <select id=\"engineSelect\" class=\"form-control\" style=\"width: 150px\">\n",
    "            <option>dot</option>\n",
    "            <option>circo</option>\n",
    "            <option>fdp</option>\n",
    "            <option>neato</option>\n",
    "            <option>osage</option>\n",
    "            <option>patchwork</option>\n",
    "            <option>twopi</option>\n",
    "        </select>\n",
    "    <div>\n",
    "</div>"
   ]
  },
  {
   "cell_type": "code",
   "execution_count": 10,
   "metadata": {
    "collapsed": false
   },
   "outputs": [
    {
     "data": {
      "text/html": [
       "<script src='../../../d3-jupyter/dist/bundle.js'></script>"
      ]
     },
     "metadata": {},
     "output_type": "display_data"
    }
   ],
   "source": [
    "@\"<script src='../../../d3-jupyter/dist/bundle.js'></script>\" |> Util.Html |> Display"
   ]
  },
  {
   "cell_type": "code",
   "execution_count": 11,
   "metadata": {
    "collapsed": false
   },
   "outputs": [],
   "source": [
    "let initGraph infoPath graphPath = \n",
    "    sprintf \"<script>$(document).trigger('INIT_D3', ['%s','%s']);</script>\" infoPath graphPath\n",
    "    |> Util.Html\n",
    "    \n",
    "let renderDot engine dotNotation jsonInfo = \n",
    "    sprintf \"<script>$(document).trigger('RENDER_GRAPH', [`%s`,`%s`, '%s']);</script>\" dotNotation jsonInfo engine\n",
    "    |> Util.Html\n",
    "    \n",
    "let renderSeries engine (digraphs : string[]) = \n",
    "    digraphs\n",
    "    |> Array.reduce(sprintf \"%s','%s\")\n",
    "    |> fun graphs -> graphs,engine\n",
    "    ||> sprintf \"<script>$(document).trigger('RENDER_SERIES', [['%s'],'%s']);</script>\" \n",
    "    |> Util.Html   "
   ]
  },
  {
   "cell_type": "code",
   "execution_count": 69,
   "metadata": {
    "collapsed": true
   },
   "outputs": [],
   "source": [
    "module Engine =    \n",
    "    let dot = \"dot\"\n",
    "    let circo = \"circo\"\n",
    "    let fdp = \"fdp\"\n",
    "    let neato = \"neato\"\n",
    "    let osage = \"osage\"\n",
    "    let patchwork = \"patchwork\"\n",
    "    let twopi = \"twopi\""
   ]
  },
  {
   "cell_type": "code",
   "execution_count": 82,
   "metadata": {
    "collapsed": false,
    "scrolled": false
   },
   "outputs": [
    {
     "data": {
      "text/html": [
       "<script>$(document).trigger('INIT_D3', ['#info','#graph']);</script>"
      ]
     },
     "metadata": {},
     "output_type": "display_data"
    },
    {
     "data": {
      "text/html": [
       "<script>$(document).trigger('RENDER_GRAPH', [`digraph { Plus1843_Output_0 [shape=invhouse, color=gray];\n",
       "Softmax1846_Output_0 [shape=invhouse, color=gray];\n",
       "Plus1843_Output_0 [label=\"+\"];\n",
       "Softmax1846_Output_0 [label=\"Softmax1846_Output_0\"];\n",
       "Plus1843_Output_0 -> Softmax1846 [label=input];\n",
       "Softmax1846 -> Softmax1846_Output_0 [label=output];\n",
       "Plus1843 -> Plus1843_Output_0 [style=\"dotted\"];\n",
       "Softmax1846 -> Softmax1846_Output_0 [style=\"dotted\"];\n",
       "Softmax1846 [label=\"Softmax1846\"];\n",
       "Plus1843 [label=\"+\"];\n",
       "Softmax1846 [shape=ellipse, fontsize=20, penwidth=2, size=0.6];\n",
       "Plus1843 [shape=ellipse, fontsize=20, penwidth=2, size=0.6];\n",
       "Times1840_Output_0 [shape=invhouse, color=gray];\n",
       "Parameter1839 [shape=diamond, color=green];\n",
       "Times1840_Output_0 [label=\"@\"];\n",
       "Parameter1839 [label=\"Bias\"];\n",
       "Times1840_Output_0 -> Plus1843 [label=input];\n",
       "Parameter1839 -> Plus1843 [label=\"input param\"];\n",
       "Plus1843 -> Plus1843_Output_0 [label=output];\n",
       "Times1840 -> Times1840_Output_0 [style=\"dotted\"];\n",
       "Times1840 [label=\"@\"];\n",
       "Times1840 [shape=ellipse, fontsize=20, penwidth=2, size=0.6];\n",
       "Parameter1838 [shape=diamond, color=green];\n",
       "StableSigmoid1835_Output_0 [shape=invhouse, color=gray];\n",
       "Parameter1838 [label=\"Weights\"];\n",
       "StableSigmoid1835_Output_0 [label=\"StableSigmoid1835_Output_0\"];\n",
       "Parameter1838 -> Times1840 [label=\"input param\"];\n",
       "StableSigmoid1835_Output_0 -> Times1840 [label=input];\n",
       "Times1840 -> Times1840_Output_0 [label=output];\n",
       "StableSigmoid1835 -> StableSigmoid1835_Output_0 [style=\"dotted\"];\n",
       "StableSigmoid1835 [label=\"StableSigmoid1835\"];\n",
       "StableSigmoid1835 [shape=ellipse, fontsize=20, penwidth=2, size=0.6];\n",
       "Plus1832_Output_0 [shape=invhouse, color=gray];\n",
       "Plus1832_Output_0 [label=\"+\"];\n",
       "Plus1832_Output_0 -> StableSigmoid1835 [label=input];\n",
       "StableSigmoid1835 -> StableSigmoid1835_Output_0 [label=output];\n",
       "Plus1832 -> Plus1832_Output_0 [style=\"dotted\"];\n",
       "Plus1832 [label=\"+\"];\n",
       "Plus1832 [shape=ellipse, fontsize=20, penwidth=2, size=0.6];\n",
       "Times1829_Output_0 [shape=invhouse, color=gray];\n",
       "Parameter1828 [shape=diamond, color=green];\n",
       "Times1829_Output_0 [label=\"@\"];\n",
       "Parameter1828 [label=\"Bias\"];\n",
       "Times1829_Output_0 -> Plus1832 [label=input];\n",
       "Parameter1828 -> Plus1832 [label=\"input param\"];\n",
       "Plus1832 -> Plus1832_Output_0 [label=output];\n",
       "Times1829 -> Times1829_Output_0 [style=\"dotted\"];\n",
       "Times1829 [label=\"@\"];\n",
       "Times1829 [shape=ellipse, fontsize=20, penwidth=2, size=0.6];\n",
       "Parameter1827 [shape=diamond, color=green];\n",
       "Input1825 [shape=invhouse, color=yellow];\n",
       "Parameter1827 [label=\"Weights\"];\n",
       "Input1825 [label=\"Features\"];\n",
       "Parameter1827 -> Times1829 [label=\"input param\"];\n",
       "Input1825 -> Times1829 [label=input];\n",
       "Times1829 -> Times1829_Output_0 [label=output]; }`,`{\n",
       "\"Softmax1846\": [{\"Key\":\"NodeType\",\"Value\":\"Function\"},{\"Key\":\"AsString\",\"Value\":\"Softmax: Output('+', [2], [*, #]) -> Output('Softmax1846_Output_0', [2], [*, #])\"},{\"Key\":\"Name\",\"Value\":\"\"},{\"Key\":\"Uid\",\"Value\":\"Softmax1846\"},{\"Key\":\"RootFunction\",\"Value\":\"Softmax: Output('+', [2], [*, #]) -> Output('Softmax1846_Output_0', [2], [*, #])\"},{\"Key\":\"Outputs\",\"Value\":\"Output('Softmax1846_Output_0', [2], [*, #])\"},{\"Key\":\"Output\",\"Value\":\"Output('Softmax1846_Output_0', [2], [*, #])\"},{\"Key\":\"OpName\",\"Value\":\"Softmax\"},{\"Key\":\"IsComposite\",\"Value\":\"False\"},{\"Key\":\"IsPrimitive\",\"Value\":\"True\"},{\"Key\":\"IsBlock\",\"Value\":\"False\"},{\"Key\":\"CurrentVersion\",\"Value\":\"24\"},{\"Key\":\"Arguments\",\"Value\":\"Output('+', [2], [*, #])\"},{\"Key\":\"Inputs\",\"Value\":\"Output('+', [2], [*, #])\"}],\n",
       "\"Plus1843\": [{\"Key\":\"NodeType\",\"Value\":\"Function\"},{\"Key\":\"AsString\",\"Value\":\"Plus: Output('@', [2], [*, #]) -> Output('+', [2], [*, #])\"},{\"Key\":\"Name\",\"Value\":\"+\"},{\"Key\":\"Uid\",\"Value\":\"Plus1843\"},{\"Key\":\"RootFunction\",\"Value\":\"Plus: Output('@', [2], [*, #]) -> Output('+', [2], [*, #])\"},{\"Key\":\"Outputs\",\"Value\":\"Output('+', [2], [*, #])\"},{\"Key\":\"Output\",\"Value\":\"Output('+', [2], [*, #])\"},{\"Key\":\"OpName\",\"Value\":\"Plus\"},{\"Key\":\"IsComposite\",\"Value\":\"False\"},{\"Key\":\"IsPrimitive\",\"Value\":\"True\"},{\"Key\":\"IsBlock\",\"Value\":\"False\"},{\"Key\":\"CurrentVersion\",\"Value\":\"24\"},{\"Key\":\"Arguments\",\"Value\":\"Output('@', [2], [*, #])\"},{\"Key\":\"Inputs\",\"Value\":\"Output('@', [2], [*, #]), Parameter('Bias', [2], [])\"}],\n",
       "\"Times1840\": [{\"Key\":\"NodeType\",\"Value\":\"Function\"},{\"Key\":\"AsString\",\"Value\":\"Times: Output('StableSigmoid1835_Output_0', [50], [*, #]) -> Output('@', [2], [*, #])\"},{\"Key\":\"Name\",\"Value\":\"@\"},{\"Key\":\"Uid\",\"Value\":\"Times1840\"},{\"Key\":\"RootFunction\",\"Value\":\"Times: Output('StableSigmoid1835_Output_0', [50], [*, #]) -> Output('@', [2], [*, #])\"},{\"Key\":\"Outputs\",\"Value\":\"Output('@', [2], [*, #])\"},{\"Key\":\"Output\",\"Value\":\"Output('@', [2], [*, #])\"},{\"Key\":\"OpName\",\"Value\":\"Times\"},{\"Key\":\"IsComposite\",\"Value\":\"False\"},{\"Key\":\"IsPrimitive\",\"Value\":\"True\"},{\"Key\":\"IsBlock\",\"Value\":\"False\"},{\"Key\":\"CurrentVersion\",\"Value\":\"24\"},{\"Key\":\"Arguments\",\"Value\":\"Output('StableSigmoid1835_Output_0', [50], [*, #])\"},{\"Key\":\"Inputs\",\"Value\":\"Parameter('Weights', [2 x 50], []), Output('StableSigmoid1835_Output_0', [50], [*, #])\"}],\n",
       "\"StableSigmoid1835\": [{\"Key\":\"NodeType\",\"Value\":\"Function\"},{\"Key\":\"AsString\",\"Value\":\"StableSigmoid: Output('+', [50], [*, #]) -> Output('StableSigmoid1835_Output_0', [50], [*, #])\"},{\"Key\":\"Name\",\"Value\":\"\"},{\"Key\":\"Uid\",\"Value\":\"StableSigmoid1835\"},{\"Key\":\"RootFunction\",\"Value\":\"StableSigmoid: Output('+', [50], [*, #]) -> Output('StableSigmoid1835_Output_0', [50], [*, #])\"},{\"Key\":\"Outputs\",\"Value\":\"Output('StableSigmoid1835_Output_0', [50], [*, #])\"},{\"Key\":\"Output\",\"Value\":\"Output('StableSigmoid1835_Output_0', [50], [*, #])\"},{\"Key\":\"OpName\",\"Value\":\"StableSigmoid\"},{\"Key\":\"IsComposite\",\"Value\":\"False\"},{\"Key\":\"IsPrimitive\",\"Value\":\"True\"},{\"Key\":\"IsBlock\",\"Value\":\"False\"},{\"Key\":\"CurrentVersion\",\"Value\":\"24\"},{\"Key\":\"Arguments\",\"Value\":\"Output('+', [50], [*, #])\"},{\"Key\":\"Inputs\",\"Value\":\"Output('+', [50], [*, #])\"}],\n",
       "\"Plus1832\": [{\"Key\":\"NodeType\",\"Value\":\"Function\"},{\"Key\":\"AsString\",\"Value\":\"Plus: Output('@', [50], [*, #]) -> Output('+', [50], [*, #])\"},{\"Key\":\"Name\",\"Value\":\"+\"},{\"Key\":\"Uid\",\"Value\":\"Plus1832\"},{\"Key\":\"RootFunction\",\"Value\":\"Plus: Output('@', [50], [*, #]) -> Output('+', [50], [*, #])\"},{\"Key\":\"Outputs\",\"Value\":\"Output('+', [50], [*, #])\"},{\"Key\":\"Output\",\"Value\":\"Output('+', [50], [*, #])\"},{\"Key\":\"OpName\",\"Value\":\"Plus\"},{\"Key\":\"IsComposite\",\"Value\":\"False\"},{\"Key\":\"IsPrimitive\",\"Value\":\"True\"},{\"Key\":\"IsBlock\",\"Value\":\"False\"},{\"Key\":\"CurrentVersion\",\"Value\":\"24\"},{\"Key\":\"Arguments\",\"Value\":\"Output('@', [50], [*, #])\"},{\"Key\":\"Inputs\",\"Value\":\"Output('@', [50], [*, #]), Parameter('Bias', [50], [])\"}],\n",
       "\"Times1829\": [{\"Key\":\"NodeType\",\"Value\":\"Function\"},{\"Key\":\"AsString\",\"Value\":\"Times: Input('Features', [2], [*, #]) -> Output('@', [50], [*, #])\"},{\"Key\":\"Name\",\"Value\":\"@\"},{\"Key\":\"Uid\",\"Value\":\"Times1829\"},{\"Key\":\"RootFunction\",\"Value\":\"Times: Input('Features', [2], [*, #]) -> Output('@', [50], [*, #])\"},{\"Key\":\"Outputs\",\"Value\":\"Output('@', [50], [*, #])\"},{\"Key\":\"Output\",\"Value\":\"Output('@', [50], [*, #])\"},{\"Key\":\"OpName\",\"Value\":\"Times\"},{\"Key\":\"IsComposite\",\"Value\":\"False\"},{\"Key\":\"IsPrimitive\",\"Value\":\"True\"},{\"Key\":\"IsBlock\",\"Value\":\"False\"},{\"Key\":\"CurrentVersion\",\"Value\":\"24\"},{\"Key\":\"Arguments\",\"Value\":\"Input('Features', [2], [*, #])\"},{\"Key\":\"Inputs\",\"Value\":\"Parameter('Weights', [50 x 2], []), Input('Features', [2], [*, #])\"}]\n",
       ",\n",
       "\"Plus1843_Output_0\": [{\"Key\":\"NodeType\",\"Value\":\"Variable\"},{\"Key\":\"AsString\",\"Value\":\"Output('+', [2], [*, #])\"},{\"Key\":\"Shape\",\"Value\":\"[2]\"},{\"Key\":\"Name\",\"Value\":\"+\"},{\"Key\":\"Uid\",\"Value\":\"Plus1843_Output_0\"},{\"Key\":\"Kind\",\"Value\":\"Output\"},{\"Key\":\"DataType\",\"Value\":\"Float\"},{\"Key\":\"DynamicAxes\",\"Value\":\"Axis('defaultDynamicAxis'), Axis('defaultBatchAxis')\"},{\"Key\":\"IsSparse\",\"Value\":\"False\"},{\"Key\":\"IsInput\",\"Value\":\"False\"},{\"Key\":\"IsOutput\",\"Value\":\"True\"},{\"Key\":\"IsParameter\",\"Value\":\"False\"},{\"Key\":\"IsConstant\",\"Value\":\"False\"},{\"Key\":\"IsPlaceholder\",\"Value\":\"False\"},{\"Key\":\"Owner\",\"Value\":\"Plus: Output('@', [2], [*, #]) -> Output('+', [2], [*, #])\"},{\"Key\":\"NeedsGradient\",\"Value\":\"True\"},{\"Key\":\"CurrentValueTimeStamp\",\"Value\":\"Exception has been thrown by the target of an invocation.\"}],\n",
       "\"Softmax1846_Output_0\": [{\"Key\":\"NodeType\",\"Value\":\"Variable\"},{\"Key\":\"AsString\",\"Value\":\"Output('Softmax1846_Output_0', [2], [*, #])\"},{\"Key\":\"Shape\",\"Value\":\"[2]\"},{\"Key\":\"Name\",\"Value\":\"\"},{\"Key\":\"Uid\",\"Value\":\"Softmax1846_Output_0\"},{\"Key\":\"Kind\",\"Value\":\"Output\"},{\"Key\":\"DataType\",\"Value\":\"Float\"},{\"Key\":\"DynamicAxes\",\"Value\":\"Axis('defaultDynamicAxis'), Axis('defaultBatchAxis')\"},{\"Key\":\"IsSparse\",\"Value\":\"False\"},{\"Key\":\"IsInput\",\"Value\":\"False\"},{\"Key\":\"IsOutput\",\"Value\":\"True\"},{\"Key\":\"IsParameter\",\"Value\":\"False\"},{\"Key\":\"IsConstant\",\"Value\":\"False\"},{\"Key\":\"IsPlaceholder\",\"Value\":\"False\"},{\"Key\":\"Owner\",\"Value\":\"Softmax: Output('+', [2], [*, #]) -> Output('Softmax1846_Output_0', [2], [*, #])\"},{\"Key\":\"NeedsGradient\",\"Value\":\"True\"},{\"Key\":\"CurrentValueTimeStamp\",\"Value\":\"Exception has been thrown by the target of an invocation.\"}],\n",
       "\"Times1840_Output_0\": [{\"Key\":\"NodeType\",\"Value\":\"Variable\"},{\"Key\":\"AsString\",\"Value\":\"Output('@', [2], [*, #])\"},{\"Key\":\"Shape\",\"Value\":\"[2]\"},{\"Key\":\"Name\",\"Value\":\"@\"},{\"Key\":\"Uid\",\"Value\":\"Times1840_Output_0\"},{\"Key\":\"Kind\",\"Value\":\"Output\"},{\"Key\":\"DataType\",\"Value\":\"Float\"},{\"Key\":\"DynamicAxes\",\"Value\":\"Axis('defaultDynamicAxis'), Axis('defaultBatchAxis')\"},{\"Key\":\"IsSparse\",\"Value\":\"False\"},{\"Key\":\"IsInput\",\"Value\":\"False\"},{\"Key\":\"IsOutput\",\"Value\":\"True\"},{\"Key\":\"IsParameter\",\"Value\":\"False\"},{\"Key\":\"IsConstant\",\"Value\":\"False\"},{\"Key\":\"IsPlaceholder\",\"Value\":\"False\"},{\"Key\":\"Owner\",\"Value\":\"Times: Output('StableSigmoid1835_Output_0', [50], [*, #]) -> Output('@', [2], [*, #])\"},{\"Key\":\"NeedsGradient\",\"Value\":\"True\"},{\"Key\":\"CurrentValueTimeStamp\",\"Value\":\"Exception has been thrown by the target of an invocation.\"}],\n",
       "\"Parameter1839\": [{\"Key\":\"NodeType\",\"Value\":\"Variable\"},{\"Key\":\"AsString\",\"Value\":\"Parameter('Bias', [2], [])\"},{\"Key\":\"Shape\",\"Value\":\"[2]\"},{\"Key\":\"Name\",\"Value\":\"Bias\"},{\"Key\":\"Uid\",\"Value\":\"Parameter1839\"},{\"Key\":\"Kind\",\"Value\":\"Parameter\"},{\"Key\":\"DataType\",\"Value\":\"Float\"},{\"Key\":\"DynamicAxes\",\"Value\":\"[]\"},{\"Key\":\"IsSparse\",\"Value\":\"False\"},{\"Key\":\"IsInput\",\"Value\":\"False\"},{\"Key\":\"IsOutput\",\"Value\":\"False\"},{\"Key\":\"IsParameter\",\"Value\":\"True\"},{\"Key\":\"IsConstant\",\"Value\":\"False\"},{\"Key\":\"IsPlaceholder\",\"Value\":\"False\"},{\"Key\":\"Owner\",\"Value\":\"\"},{\"Key\":\"NeedsGradient\",\"Value\":\"True\"},{\"Key\":\"CurrentValueTimeStamp\",\"Value\":\"0\"}],\n",
       "\"Parameter1838\": [{\"Key\":\"NodeType\",\"Value\":\"Variable\"},{\"Key\":\"AsString\",\"Value\":\"Parameter('Weights', [2 x 50], [])\"},{\"Key\":\"Shape\",\"Value\":\"[2 x 50]\"},{\"Key\":\"Name\",\"Value\":\"Weights\"},{\"Key\":\"Uid\",\"Value\":\"Parameter1838\"},{\"Key\":\"Kind\",\"Value\":\"Parameter\"},{\"Key\":\"DataType\",\"Value\":\"Float\"},{\"Key\":\"DynamicAxes\",\"Value\":\"[]\"},{\"Key\":\"IsSparse\",\"Value\":\"False\"},{\"Key\":\"IsInput\",\"Value\":\"False\"},{\"Key\":\"IsOutput\",\"Value\":\"False\"},{\"Key\":\"IsParameter\",\"Value\":\"True\"},{\"Key\":\"IsConstant\",\"Value\":\"False\"},{\"Key\":\"IsPlaceholder\",\"Value\":\"False\"},{\"Key\":\"Owner\",\"Value\":\"\"},{\"Key\":\"NeedsGradient\",\"Value\":\"True\"},{\"Key\":\"CurrentValueTimeStamp\",\"Value\":\"0\"}],\n",
       "\"StableSigmoid1835_Output_0\": [{\"Key\":\"NodeType\",\"Value\":\"Variable\"},{\"Key\":\"AsString\",\"Value\":\"Output('StableSigmoid1835_Output_0', [50], [*, #])\"},{\"Key\":\"Shape\",\"Value\":\"[50]\"},{\"Key\":\"Name\",\"Value\":\"\"},{\"Key\":\"Uid\",\"Value\":\"StableSigmoid1835_Output_0\"},{\"Key\":\"Kind\",\"Value\":\"Output\"},{\"Key\":\"DataType\",\"Value\":\"Float\"},{\"Key\":\"DynamicAxes\",\"Value\":\"Axis('defaultDynamicAxis'), Axis('defaultBatchAxis')\"},{\"Key\":\"IsSparse\",\"Value\":\"False\"},{\"Key\":\"IsInput\",\"Value\":\"False\"},{\"Key\":\"IsOutput\",\"Value\":\"True\"},{\"Key\":\"IsParameter\",\"Value\":\"False\"},{\"Key\":\"IsConstant\",\"Value\":\"False\"},{\"Key\":\"IsPlaceholder\",\"Value\":\"False\"},{\"Key\":\"Owner\",\"Value\":\"StableSigmoid: Output('+', [50], [*, #]) -> Output('StableSigmoid1835_Output_0', [50], [*, #])\"},{\"Key\":\"NeedsGradient\",\"Value\":\"True\"},{\"Key\":\"CurrentValueTimeStamp\",\"Value\":\"Exception has been thrown by the target of an invocation.\"}],\n",
       "\"Plus1832_Output_0\": [{\"Key\":\"NodeType\",\"Value\":\"Variable\"},{\"Key\":\"AsString\",\"Value\":\"Output('+', [50], [*, #])\"},{\"Key\":\"Shape\",\"Value\":\"[50]\"},{\"Key\":\"Name\",\"Value\":\"+\"},{\"Key\":\"Uid\",\"Value\":\"Plus1832_Output_0\"},{\"Key\":\"Kind\",\"Value\":\"Output\"},{\"Key\":\"DataType\",\"Value\":\"Float\"},{\"Key\":\"DynamicAxes\",\"Value\":\"Axis('defaultDynamicAxis'), Axis('defaultBatchAxis')\"},{\"Key\":\"IsSparse\",\"Value\":\"False\"},{\"Key\":\"IsInput\",\"Value\":\"False\"},{\"Key\":\"IsOutput\",\"Value\":\"True\"},{\"Key\":\"IsParameter\",\"Value\":\"False\"},{\"Key\":\"IsConstant\",\"Value\":\"False\"},{\"Key\":\"IsPlaceholder\",\"Value\":\"False\"},{\"Key\":\"Owner\",\"Value\":\"Plus: Output('@', [50], [*, #]) -> Output('+', [50], [*, #])\"},{\"Key\":\"NeedsGradient\",\"Value\":\"True\"},{\"Key\":\"CurrentValueTimeStamp\",\"Value\":\"Exception has been thrown by the target of an invocation.\"}],\n",
       "\"Times1829_Output_0\": [{\"Key\":\"NodeType\",\"Value\":\"Variable\"},{\"Key\":\"AsString\",\"Value\":\"Output('@', [50], [*, #])\"},{\"Key\":\"Shape\",\"Value\":\"[50]\"},{\"Key\":\"Name\",\"Value\":\"@\"},{\"Key\":\"Uid\",\"Value\":\"Times1829_Output_0\"},{\"Key\":\"Kind\",\"Value\":\"Output\"},{\"Key\":\"DataType\",\"Value\":\"Float\"},{\"Key\":\"DynamicAxes\",\"Value\":\"Axis('defaultDynamicAxis'), Axis('defaultBatchAxis')\"},{\"Key\":\"IsSparse\",\"Value\":\"False\"},{\"Key\":\"IsInput\",\"Value\":\"False\"},{\"Key\":\"IsOutput\",\"Value\":\"True\"},{\"Key\":\"IsParameter\",\"Value\":\"False\"},{\"Key\":\"IsConstant\",\"Value\":\"False\"},{\"Key\":\"IsPlaceholder\",\"Value\":\"False\"},{\"Key\":\"Owner\",\"Value\":\"Times: Input('Features', [2], [*, #]) -> Output('@', [50], [*, #])\"},{\"Key\":\"NeedsGradient\",\"Value\":\"True\"},{\"Key\":\"CurrentValueTimeStamp\",\"Value\":\"Exception has been thrown by the target of an invocation.\"}],\n",
       "\"Parameter1828\": [{\"Key\":\"NodeType\",\"Value\":\"Variable\"},{\"Key\":\"AsString\",\"Value\":\"Parameter('Bias', [50], [])\"},{\"Key\":\"Shape\",\"Value\":\"[50]\"},{\"Key\":\"Name\",\"Value\":\"Bias\"},{\"Key\":\"Uid\",\"Value\":\"Parameter1828\"},{\"Key\":\"Kind\",\"Value\":\"Parameter\"},{\"Key\":\"DataType\",\"Value\":\"Float\"},{\"Key\":\"DynamicAxes\",\"Value\":\"[]\"},{\"Key\":\"IsSparse\",\"Value\":\"False\"},{\"Key\":\"IsInput\",\"Value\":\"False\"},{\"Key\":\"IsOutput\",\"Value\":\"False\"},{\"Key\":\"IsParameter\",\"Value\":\"True\"},{\"Key\":\"IsConstant\",\"Value\":\"False\"},{\"Key\":\"IsPlaceholder\",\"Value\":\"False\"},{\"Key\":\"Owner\",\"Value\":\"\"},{\"Key\":\"NeedsGradient\",\"Value\":\"True\"},{\"Key\":\"CurrentValueTimeStamp\",\"Value\":\"0\"}],\n",
       "\"Parameter1827\": [{\"Key\":\"NodeType\",\"Value\":\"Variable\"},{\"Key\":\"AsString\",\"Value\":\"Parameter('Weights', [50 x 2], [])\"},{\"Key\":\"Shape\",\"Value\":\"[50 x 2]\"},{\"Key\":\"Name\",\"Value\":\"Weights\"},{\"Key\":\"Uid\",\"Value\":\"Parameter1827\"},{\"Key\":\"Kind\",\"Value\":\"Parameter\"},{\"Key\":\"DataType\",\"Value\":\"Float\"},{\"Key\":\"DynamicAxes\",\"Value\":\"[]\"},{\"Key\":\"IsSparse\",\"Value\":\"False\"},{\"Key\":\"IsInput\",\"Value\":\"False\"},{\"Key\":\"IsOutput\",\"Value\":\"False\"},{\"Key\":\"IsParameter\",\"Value\":\"True\"},{\"Key\":\"IsConstant\",\"Value\":\"False\"},{\"Key\":\"IsPlaceholder\",\"Value\":\"False\"},{\"Key\":\"Owner\",\"Value\":\"\"},{\"Key\":\"NeedsGradient\",\"Value\":\"True\"},{\"Key\":\"CurrentValueTimeStamp\",\"Value\":\"0\"}],\n",
       "\"Input1825\": [{\"Key\":\"NodeType\",\"Value\":\"Variable\"},{\"Key\":\"AsString\",\"Value\":\"Input('Features', [2], [*, #])\"},{\"Key\":\"Shape\",\"Value\":\"[2]\"},{\"Key\":\"Name\",\"Value\":\"Features\"},{\"Key\":\"Uid\",\"Value\":\"Input1825\"},{\"Key\":\"Kind\",\"Value\":\"Input\"},{\"Key\":\"DataType\",\"Value\":\"Float\"},{\"Key\":\"DynamicAxes\",\"Value\":\"Axis('defaultDynamicAxis'), Axis('defaultBatchAxis')\"},{\"Key\":\"IsSparse\",\"Value\":\"False\"},{\"Key\":\"IsInput\",\"Value\":\"True\"},{\"Key\":\"IsOutput\",\"Value\":\"False\"},{\"Key\":\"IsParameter\",\"Value\":\"False\"},{\"Key\":\"IsConstant\",\"Value\":\"False\"},{\"Key\":\"IsPlaceholder\",\"Value\":\"False\"},{\"Key\":\"Owner\",\"Value\":\"\"},{\"Key\":\"NeedsGradient\",\"Value\":\"False\"},{\"Key\":\"CurrentValueTimeStamp\",\"Value\":\"Exception has been thrown by the target of an invocation.\"}]\n",
       "}`, 'dot']);</script>"
      ]
     },
     "metadata": {},
     "output_type": "display_data"
    }
   ],
   "source": [
    "open Newtonsoft.Json\n",
    "\n",
    "let createGraphWithInfo engine (model: Function) =\n",
    "    let funcs = model |> decomposeFunction |> Array.filter (fun f -> not f.IsComposite)\n",
    "    let vars = \n",
    "        funcs \n",
    "        |> Array.collect(fun f -> [|yield! f.Inputs; yield! f.Outputs|])\n",
    "        |> Array.distinctBy (fun v -> v.Uid)\n",
    "    \n",
    "    let nodeInfo = \n",
    "        [|  yield \"{\"\n",
    "            yield\n",
    "                funcs \n",
    "                |> Array.map \n",
    "                    (fun f -> sprintf \"\\\"%s\\\": %s\" (f.Uid) (f |> describeNode |> JsonConvert.SerializeObject))                            \n",
    "                |> Array.reduce(sprintf \"%s,\\n%s\")\n",
    "            yield \",\"\n",
    "            yield\n",
    "                vars \n",
    "                |> Array.map \n",
    "                    (fun v -> sprintf \"\\\"%s\\\": %s\" (v.Uid) (v |> describeNode |> JsonConvert.SerializeObject))                            \n",
    "                |> Array.reduce(sprintf \"%s,\\n%s\")\n",
    "            yield \"}\" |]\n",
    "        |> Array.reduce(sprintf \"%s\\n%s\")\n",
    "        |> fun text -> text.Trim();\n",
    "    \n",
    "    let dotNotation =\n",
    "        funcs\n",
    "        |> Array.collect (extractGraphVizDotNotation>>Array.ofSeq)\n",
    "        |> Array.distinct \n",
    "        |> Array.reduce(sprintf \"%s\\n%s\")\n",
    "        |> sprintf \"digraph { %s }\"\n",
    "            \n",
    "    initGraph \"#info\" \"#graph\" |> Display\n",
    "    renderDot engine dotNotation nodeInfo |> Display\n",
    "    \n",
    "createGraphWithInfo Engine.dot z"
   ]
  },
  {
   "cell_type": "code",
   "execution_count": 42,
   "metadata": {
    "collapsed": false
   },
   "outputs": [
    {
     "data": {
      "text/html": [
       "<script>$(document).trigger('INIT_D3', ['#info','#gradualGraph']);</script>"
      ]
     },
     "metadata": {},
     "output_type": "display_data"
    },
    {
     "data": {
      "text/html": [
       "<script>$(document).trigger('RENDER_SERIES', [['digraph {  }','digraph {  Parameter2 [shape=diamond, color=green]; Input0 [shape=invhouse, color=yellow]; Times4_Output_0 [shape=invhouse, color=gray]; Parameter2 [label=\"Weights\"]; Input0 [label=\"Features\"]; Times4_Output_0 [label=\"@\"]; Parameter2 -> Times4 [label=\"input param\"]; Input0 -> Times4 [label=input]; Times4 -> Times4_Output_0 [label=output]; Times4 [label=\"@\"]; Times4 [shape=ellipse, fontsize=20, penwidth=2, size=0.6]; }','digraph {  Parameter2 [shape=diamond, color=green]; Input0 [shape=invhouse, color=yellow]; Times4_Output_0 [shape=invhouse, color=gray]; Parameter2 [label=\"Weights\"]; Input0 [label=\"Features\"]; Times4_Output_0 [label=\"@\"]; Parameter2 -> Times4 [label=\"input param\"]; Input0 -> Times4 [label=input]; Times4 -> Times4_Output_0 [label=output]; Times4 [label=\"@\"]; Times4 [shape=ellipse, fontsize=20, penwidth=2, size=0.6]; Times4_Output_0 [shape=invhouse, color=gray]; Parameter3 [shape=diamond, color=green]; Plus7_Output_0 [shape=invhouse, color=gray]; Times4_Output_0 [label=\"@\"]; Parameter3 [label=\"Bias\"]; Plus7_Output_0 [label=\"+\"]; Times4_Output_0 -> Plus7 [label=input]; Parameter3 -> Plus7 [label=\"input param\"]; Plus7 -> Plus7_Output_0 [label=output]; Plus7 [label=\"+\"]; Times4 [label=\"@\"]; Plus7 [shape=ellipse, fontsize=20, penwidth=2, size=0.6]; Times4 [shape=ellipse, fontsize=20, penwidth=2, size=0.6]; }','digraph {  Parameter2 [shape=diamond, color=green]; Input0 [shape=invhouse, color=yellow]; Times4_Output_0 [shape=invhouse, color=gray]; Parameter2 [label=\"Weights\"]; Input0 [label=\"Features\"]; Times4_Output_0 [label=\"@\"]; Parameter2 -> Times4 [label=\"input param\"]; Input0 -> Times4 [label=input]; Times4 -> Times4_Output_0 [label=output]; Times4 [label=\"@\"]; Times4 [shape=ellipse, fontsize=20, penwidth=2, size=0.6]; Times4_Output_0 [shape=invhouse, color=gray]; Parameter3 [shape=diamond, color=green]; Plus7_Output_0 [shape=invhouse, color=gray]; Times4_Output_0 [label=\"@\"]; Parameter3 [label=\"Bias\"]; Plus7_Output_0 [label=\"+\"]; Times4_Output_0 -> Plus7 [label=input]; Parameter3 -> Plus7 [label=\"input param\"]; Plus7 -> Plus7_Output_0 [label=output]; Plus7 [label=\"+\"]; Times4 [label=\"@\"]; Plus7 [shape=ellipse, fontsize=20, penwidth=2, size=0.6]; Times4 [shape=ellipse, fontsize=20, penwidth=2, size=0.6]; Plus7_Output_0 [shape=invhouse, color=gray]; StableSigmoid10_Output_0 [shape=invhouse, color=gray]; Plus7_Output_0 [label=\"+\"]; StableSigmoid10_Output_0 [label=\"StableSigmoid10_Output_0\"]; Plus7_Output_0 -> StableSigmoid10 [label=input]; StableSigmoid10 -> StableSigmoid10_Output_0 [label=output]; StableSigmoid10 [label=\"StableSigmoid10\"]; Plus7 [label=\"+\"]; StableSigmoid10 [shape=ellipse, fontsize=20, penwidth=2, size=0.6]; Plus7 [shape=ellipse, fontsize=20, penwidth=2, size=0.6]; }','digraph {  Parameter2 [shape=diamond, color=green]; Input0 [shape=invhouse, color=yellow]; Times4_Output_0 [shape=invhouse, color=gray]; Parameter2 [label=\"Weights\"]; Input0 [label=\"Features\"]; Times4_Output_0 [label=\"@\"]; Parameter2 -> Times4 [label=\"input param\"]; Input0 -> Times4 [label=input]; Times4 -> Times4_Output_0 [label=output]; Times4 [label=\"@\"]; Times4 [shape=ellipse, fontsize=20, penwidth=2, size=0.6]; Times4_Output_0 [shape=invhouse, color=gray]; Parameter3 [shape=diamond, color=green]; Plus7_Output_0 [shape=invhouse, color=gray]; Times4_Output_0 [label=\"@\"]; Parameter3 [label=\"Bias\"]; Plus7_Output_0 [label=\"+\"]; Times4_Output_0 -> Plus7 [label=input]; Parameter3 -> Plus7 [label=\"input param\"]; Plus7 -> Plus7_Output_0 [label=output]; Plus7 [label=\"+\"]; Times4 [label=\"@\"]; Plus7 [shape=ellipse, fontsize=20, penwidth=2, size=0.6]; Times4 [shape=ellipse, fontsize=20, penwidth=2, size=0.6]; Plus7_Output_0 [shape=invhouse, color=gray]; StableSigmoid10_Output_0 [shape=invhouse, color=gray]; Plus7_Output_0 [label=\"+\"]; StableSigmoid10_Output_0 [label=\"StableSigmoid10_Output_0\"]; Plus7_Output_0 -> StableSigmoid10 [label=input]; StableSigmoid10 -> StableSigmoid10_Output_0 [label=output]; StableSigmoid10 [label=\"StableSigmoid10\"]; Plus7 [label=\"+\"]; StableSigmoid10 [shape=ellipse, fontsize=20, penwidth=2, size=0.6]; Plus7 [shape=ellipse, fontsize=20, penwidth=2, size=0.6]; Parameter13 [shape=diamond, color=green]; StableSigmoid10_Output_0 [shape=invhouse, color=gray]; Times15_Output_0 [shape=invhouse, color=gray]; Parameter13 [label=\"Weights\"]; StableSigmoid10_Output_0 [label=\"StableSigmoid10_Output_0\"]; Times15_Output_0 [label=\"@\"]; Parameter13 -> Times15 [label=\"input param\"]; StableSigmoid10_Output_0 -> Times15 [label=input]; Times15 -> Times15_Output_0 [label=output]; Times15 [label=\"@\"]; StableSigmoid10 [label=\"StableSigmoid10\"]; Times15 [shape=ellipse, fontsize=20, penwidth=2, size=0.6]; StableSigmoid10 [shape=ellipse, fontsize=20, penwidth=2, size=0.6]; }','digraph {  Parameter2 [shape=diamond, color=green]; Input0 [shape=invhouse, color=yellow]; Times4_Output_0 [shape=invhouse, color=gray]; Parameter2 [label=\"Weights\"]; Input0 [label=\"Features\"]; Times4_Output_0 [label=\"@\"]; Parameter2 -> Times4 [label=\"input param\"]; Input0 -> Times4 [label=input]; Times4 -> Times4_Output_0 [label=output]; Times4 [label=\"@\"]; Times4 [shape=ellipse, fontsize=20, penwidth=2, size=0.6]; Times4_Output_0 [shape=invhouse, color=gray]; Parameter3 [shape=diamond, color=green]; Plus7_Output_0 [shape=invhouse, color=gray]; Times4_Output_0 [label=\"@\"]; Parameter3 [label=\"Bias\"]; Plus7_Output_0 [label=\"+\"]; Times4_Output_0 -> Plus7 [label=input]; Parameter3 -> Plus7 [label=\"input param\"]; Plus7 -> Plus7_Output_0 [label=output]; Plus7 [label=\"+\"]; Times4 [label=\"@\"]; Plus7 [shape=ellipse, fontsize=20, penwidth=2, size=0.6]; Times4 [shape=ellipse, fontsize=20, penwidth=2, size=0.6]; Plus7_Output_0 [shape=invhouse, color=gray]; StableSigmoid10_Output_0 [shape=invhouse, color=gray]; Plus7_Output_0 [label=\"+\"]; StableSigmoid10_Output_0 [label=\"StableSigmoid10_Output_0\"]; Plus7_Output_0 -> StableSigmoid10 [label=input]; StableSigmoid10 -> StableSigmoid10_Output_0 [label=output]; StableSigmoid10 [label=\"StableSigmoid10\"]; Plus7 [label=\"+\"]; StableSigmoid10 [shape=ellipse, fontsize=20, penwidth=2, size=0.6]; Plus7 [shape=ellipse, fontsize=20, penwidth=2, size=0.6]; Parameter13 [shape=diamond, color=green]; StableSigmoid10_Output_0 [shape=invhouse, color=gray]; Times15_Output_0 [shape=invhouse, color=gray]; Parameter13 [label=\"Weights\"]; StableSigmoid10_Output_0 [label=\"StableSigmoid10_Output_0\"]; Times15_Output_0 [label=\"@\"]; Parameter13 -> Times15 [label=\"input param\"]; StableSigmoid10_Output_0 -> Times15 [label=input]; Times15 -> Times15_Output_0 [label=output]; Times15 [label=\"@\"]; StableSigmoid10 [label=\"StableSigmoid10\"]; Times15 [shape=ellipse, fontsize=20, penwidth=2, size=0.6]; StableSigmoid10 [shape=ellipse, fontsize=20, penwidth=2, size=0.6]; Times15_Output_0 [shape=invhouse, color=gray]; Parameter14 [shape=diamond, color=green]; Plus18_Output_0 [shape=invhouse, color=gray]; Times15_Output_0 [label=\"@\"]; Parameter14 [label=\"Bias\"]; Plus18_Output_0 [label=\"+\"]; Times15_Output_0 -> Plus18 [label=input]; Parameter14 -> Plus18 [label=\"input param\"]; Plus18 -> Plus18_Output_0 [label=output]; Plus18 [label=\"+\"]; Times15 [label=\"@\"]; Plus18 [shape=ellipse, fontsize=20, penwidth=2, size=0.6]; Times15 [shape=ellipse, fontsize=20, penwidth=2, size=0.6]; }','digraph {  Parameter2 [shape=diamond, color=green]; Input0 [shape=invhouse, color=yellow]; Times4_Output_0 [shape=invhouse, color=gray]; Parameter2 [label=\"Weights\"]; Input0 [label=\"Features\"]; Times4_Output_0 [label=\"@\"]; Parameter2 -> Times4 [label=\"input param\"]; Input0 -> Times4 [label=input]; Times4 -> Times4_Output_0 [label=output]; Times4 [label=\"@\"]; Times4 [shape=ellipse, fontsize=20, penwidth=2, size=0.6]; Times4_Output_0 [shape=invhouse, color=gray]; Parameter3 [shape=diamond, color=green]; Plus7_Output_0 [shape=invhouse, color=gray]; Times4_Output_0 [label=\"@\"]; Parameter3 [label=\"Bias\"]; Plus7_Output_0 [label=\"+\"]; Times4_Output_0 -> Plus7 [label=input]; Parameter3 -> Plus7 [label=\"input param\"]; Plus7 -> Plus7_Output_0 [label=output]; Plus7 [label=\"+\"]; Times4 [label=\"@\"]; Plus7 [shape=ellipse, fontsize=20, penwidth=2, size=0.6]; Times4 [shape=ellipse, fontsize=20, penwidth=2, size=0.6]; Plus7_Output_0 [shape=invhouse, color=gray]; StableSigmoid10_Output_0 [shape=invhouse, color=gray]; Plus7_Output_0 [label=\"+\"]; StableSigmoid10_Output_0 [label=\"StableSigmoid10_Output_0\"]; Plus7_Output_0 -> StableSigmoid10 [label=input]; StableSigmoid10 -> StableSigmoid10_Output_0 [label=output]; StableSigmoid10 [label=\"StableSigmoid10\"]; Plus7 [label=\"+\"]; StableSigmoid10 [shape=ellipse, fontsize=20, penwidth=2, size=0.6]; Plus7 [shape=ellipse, fontsize=20, penwidth=2, size=0.6]; Parameter13 [shape=diamond, color=green]; StableSigmoid10_Output_0 [shape=invhouse, color=gray]; Times15_Output_0 [shape=invhouse, color=gray]; Parameter13 [label=\"Weights\"]; StableSigmoid10_Output_0 [label=\"StableSigmoid10_Output_0\"]; Times15_Output_0 [label=\"@\"]; Parameter13 -> Times15 [label=\"input param\"]; StableSigmoid10_Output_0 -> Times15 [label=input]; Times15 -> Times15_Output_0 [label=output]; Times15 [label=\"@\"]; StableSigmoid10 [label=\"StableSigmoid10\"]; Times15 [shape=ellipse, fontsize=20, penwidth=2, size=0.6]; StableSigmoid10 [shape=ellipse, fontsize=20, penwidth=2, size=0.6]; Times15_Output_0 [shape=invhouse, color=gray]; Parameter14 [shape=diamond, color=green]; Plus18_Output_0 [shape=invhouse, color=gray]; Times15_Output_0 [label=\"@\"]; Parameter14 [label=\"Bias\"]; Plus18_Output_0 [label=\"+\"]; Times15_Output_0 -> Plus18 [label=input]; Parameter14 -> Plus18 [label=\"input param\"]; Plus18 -> Plus18_Output_0 [label=output]; Plus18 [label=\"+\"]; Times15 [label=\"@\"]; Plus18 [shape=ellipse, fontsize=20, penwidth=2, size=0.6]; Times15 [shape=ellipse, fontsize=20, penwidth=2, size=0.6]; Plus18_Output_0 [shape=invhouse, color=gray]; Softmax21_Output_0 [shape=invhouse, color=gray]; Plus18_Output_0 [label=\"+\"]; Softmax21_Output_0 [label=\"Softmax21_Output_0\"]; Plus18_Output_0 -> Softmax21 [label=input]; Softmax21 -> Softmax21_Output_0 [label=output]; Softmax21 [label=\"Softmax21\"]; Plus18 [label=\"+\"]; Softmax21 [shape=ellipse, fontsize=20, penwidth=2, size=0.6]; Plus18 [shape=ellipse, fontsize=20, penwidth=2, size=0.6]; }','digraph {  Parameter2 [shape=diamond, color=green]; Input0 [shape=invhouse, color=yellow]; Times4_Output_0 [shape=invhouse, color=gray]; Parameter2 [label=\"Weights\"]; Input0 [label=\"Features\"]; Times4_Output_0 [label=\"@\"]; Parameter2 -> Times4 [label=\"input param\"]; Input0 -> Times4 [label=input]; Times4 -> Times4_Output_0 [label=output]; Times4 [label=\"@\"]; Times4 [shape=ellipse, fontsize=20, penwidth=2, size=0.6]; Times4_Output_0 [shape=invhouse, color=gray]; Parameter3 [shape=diamond, color=green]; Plus7_Output_0 [shape=invhouse, color=gray]; Times4_Output_0 [label=\"@\"]; Parameter3 [label=\"Bias\"]; Plus7_Output_0 [label=\"+\"]; Times4_Output_0 -> Plus7 [label=input]; Parameter3 -> Plus7 [label=\"input param\"]; Plus7 -> Plus7_Output_0 [label=output]; Plus7 [label=\"+\"]; Times4 [label=\"@\"]; Plus7 [shape=ellipse, fontsize=20, penwidth=2, size=0.6]; Times4 [shape=ellipse, fontsize=20, penwidth=2, size=0.6]; Plus7_Output_0 [shape=invhouse, color=gray]; StableSigmoid10_Output_0 [shape=invhouse, color=gray]; Plus7_Output_0 [label=\"+\"]; StableSigmoid10_Output_0 [label=\"StableSigmoid10_Output_0\"]; Plus7_Output_0 -> StableSigmoid10 [label=input]; StableSigmoid10 -> StableSigmoid10_Output_0 [label=output]; StableSigmoid10 [label=\"StableSigmoid10\"]; Plus7 [label=\"+\"]; StableSigmoid10 [shape=ellipse, fontsize=20, penwidth=2, size=0.6]; Plus7 [shape=ellipse, fontsize=20, penwidth=2, size=0.6]; Parameter13 [shape=diamond, color=green]; StableSigmoid10_Output_0 [shape=invhouse, color=gray]; Times15_Output_0 [shape=invhouse, color=gray]; Parameter13 [label=\"Weights\"]; StableSigmoid10_Output_0 [label=\"StableSigmoid10_Output_0\"]; Times15_Output_0 [label=\"@\"]; Parameter13 -> Times15 [label=\"input param\"]; StableSigmoid10_Output_0 -> Times15 [label=input]; Times15 -> Times15_Output_0 [label=output]; Times15 [label=\"@\"]; StableSigmoid10 [label=\"StableSigmoid10\"]; Times15 [shape=ellipse, fontsize=20, penwidth=2, size=0.6]; StableSigmoid10 [shape=ellipse, fontsize=20, penwidth=2, size=0.6]; Times15_Output_0 [shape=invhouse, color=gray]; Parameter14 [shape=diamond, color=green]; Plus18_Output_0 [shape=invhouse, color=gray]; Times15_Output_0 [label=\"@\"]; Parameter14 [label=\"Bias\"]; Plus18_Output_0 [label=\"+\"]; Times15_Output_0 -> Plus18 [label=input]; Parameter14 -> Plus18 [label=\"input param\"]; Plus18 -> Plus18_Output_0 [label=output]; Plus18 [label=\"+\"]; Times15 [label=\"@\"]; Plus18 [shape=ellipse, fontsize=20, penwidth=2, size=0.6]; Times15 [shape=ellipse, fontsize=20, penwidth=2, size=0.6]; Plus18_Output_0 [shape=invhouse, color=gray]; Softmax21_Output_0 [shape=invhouse, color=gray]; Plus18_Output_0 [label=\"+\"]; Softmax21_Output_0 [label=\"Softmax21_Output_0\"]; Plus18_Output_0 -> Softmax21 [label=input]; Softmax21 -> Softmax21_Output_0 [label=output]; Softmax21 [label=\"Softmax21\"]; Plus18 [label=\"+\"]; Softmax21 [shape=ellipse, fontsize=20, penwidth=2, size=0.6]; Plus18 [shape=ellipse, fontsize=20, penwidth=2, size=0.6]; Softmax21 -> CompositeFunction22 [label=\"root function\"]; Parameter13 [shape=diamond, color=green]; Parameter2 [shape=diamond, color=green]; Input0 [shape=invhouse, color=yellow]; Parameter3 [shape=diamond, color=green]; Parameter14 [shape=diamond, color=green]; Softmax21_Output_0 [shape=invhouse, color=gray]; Parameter13 [label=\"Weights\"]; Parameter2 [label=\"Weights\"]; Input0 [label=\"Features\"]; Parameter3 [label=\"Bias\"]; Parameter14 [label=\"Bias\"]; Softmax21_Output_0 [label=\"Softmax21_Output_0\"]; Parameter13 -> CompositeFunction22 [label=\"input param\"]; Parameter2 -> CompositeFunction22 [label=\"input param\"]; Input0 -> CompositeFunction22 [label=input]; Parameter3 -> CompositeFunction22 [label=\"input param\"]; Parameter14 -> CompositeFunction22 [label=\"input param\"]; CompositeFunction22 -> Softmax21_Output_0 [label=output]; CompositeFunction22 [label=\"CompositeFunction22\"]; Softmax21 [label=\"Softmax21\"]; CompositeFunction22 [shape=ellipse, fontsize=20, penwidth=2, peripheries=2]; Softmax21 [shape=ellipse, fontsize=20, penwidth=2, size=0.6]; }'], 'dot']);</script>"
      ]
     },
     "metadata": {},
     "output_type": "display_data"
    }
   ],
   "source": [
    "let displayGradualGraph engine (model: Function) =\n",
    "    \n",
    "    let callJs engine graphs = \n",
    "        (graphs,engine)\n",
    "        ||> sprintf \"<script>$(document).trigger('RENDER_SERIES', [['%s'], '%s']);</script>\"\n",
    "        |> Util.Html  \n",
    "        \n",
    "    initGraph \"#info\" \"#gradualGraph\" |> Display\n",
    "    \n",
    "    model\n",
    "    |> decomposeFunction \n",
    "    //|> Array.filter (fun f -> not f.IsComposite)\n",
    "    |> Array.map (extractGraphVizDotNotation>>Seq.reduce(sprintf \"%s %s\")) \n",
    "    |> Array.rev\n",
    "    |> Array.scan (sprintf \"%s %s\") \"\"\n",
    "    |> Array.map (sprintf \"digraph { %s }\")\n",
    "    |> Array.reduce (sprintf \"%s','%s\")\n",
    "    |> callJs engine    \n",
    "    |> Display\n",
    "            \n",
    "displayGradualGraph Engine.dot z"
   ]
  },
  {
   "cell_type": "code",
   "execution_count": 37,
   "metadata": {
    "collapsed": true
   },
   "outputs": [],
   "source": [
    "let classifier = z"
   ]
  },
  {
   "cell_type": "code",
   "execution_count": 50,
   "metadata": {
    "collapsed": false
   },
   "outputs": [
    {
     "data": {
      "text/html": [
       "<script>$(document).trigger('INIT_D3', ['#info','#gradualGraph']);</script>"
      ]
     },
     "metadata": {},
     "output_type": "display_data"
    },
    {
     "data": {
      "text/html": [
       "<script>$(document).trigger('RENDER_SERIES', [['digraph {  }','digraph {  Parameter2 [shape=diamond, color=green]; Input0 [shape=invhouse, color=yellow]; Times4_Output_0 [shape=invhouse, color=gray]; Parameter2 [label=\"Weights\"]; Input0 [label=\"Features\"]; Times4_Output_0 [label=\"@\"]; Parameter2 -> Times4 [label=\"input param\"]; Input0 -> Times4 [label=input]; Times4 -> Times4_Output_0 [label=output]; Times4 [label=\"@\"]; Times4 [shape=ellipse, fontsize=20, penwidth=2, size=0.6]; }','digraph {  Parameter2 [shape=diamond, color=green]; Input0 [shape=invhouse, color=yellow]; Times4_Output_0 [shape=invhouse, color=gray]; Parameter2 [label=\"Weights\"]; Input0 [label=\"Features\"]; Times4_Output_0 [label=\"@\"]; Parameter2 -> Times4 [label=\"input param\"]; Input0 -> Times4 [label=input]; Times4 -> Times4_Output_0 [label=output]; Times4 [label=\"@\"]; Times4 [shape=ellipse, fontsize=20, penwidth=2, size=0.6]; Times4_Output_0 [shape=invhouse, color=gray]; Parameter3 [shape=diamond, color=green]; Plus7_Output_0 [shape=invhouse, color=gray]; Times4_Output_0 [label=\"@\"]; Parameter3 [label=\"Bias\"]; Plus7_Output_0 [label=\"+\"]; Times4_Output_0 -> Plus7 [label=input]; Parameter3 -> Plus7 [label=\"input param\"]; Plus7 -> Plus7_Output_0 [label=output]; Plus7 [label=\"+\"]; Times4 [label=\"@\"]; Plus7 [shape=ellipse, fontsize=20, penwidth=2, size=0.6]; Times4 [shape=ellipse, fontsize=20, penwidth=2, size=0.6]; }','digraph {  Parameter2 [shape=diamond, color=green]; Input0 [shape=invhouse, color=yellow]; Times4_Output_0 [shape=invhouse, color=gray]; Parameter2 [label=\"Weights\"]; Input0 [label=\"Features\"]; Times4_Output_0 [label=\"@\"]; Parameter2 -> Times4 [label=\"input param\"]; Input0 -> Times4 [label=input]; Times4 -> Times4_Output_0 [label=output]; Times4 [label=\"@\"]; Times4 [shape=ellipse, fontsize=20, penwidth=2, size=0.6]; Times4_Output_0 [shape=invhouse, color=gray]; Parameter3 [shape=diamond, color=green]; Plus7_Output_0 [shape=invhouse, color=gray]; Times4_Output_0 [label=\"@\"]; Parameter3 [label=\"Bias\"]; Plus7_Output_0 [label=\"+\"]; Times4_Output_0 -> Plus7 [label=input]; Parameter3 -> Plus7 [label=\"input param\"]; Plus7 -> Plus7_Output_0 [label=output]; Plus7 [label=\"+\"]; Times4 [label=\"@\"]; Plus7 [shape=ellipse, fontsize=20, penwidth=2, size=0.6]; Times4 [shape=ellipse, fontsize=20, penwidth=2, size=0.6]; Plus7_Output_0 [shape=invhouse, color=gray]; StableSigmoid10_Output_0 [shape=invhouse, color=gray]; Plus7_Output_0 [label=\"+\"]; StableSigmoid10_Output_0 [label=\"StableSigmoid10_Output_0\"]; Plus7_Output_0 -> StableSigmoid10 [label=input]; StableSigmoid10 -> StableSigmoid10_Output_0 [label=output]; StableSigmoid10 [label=\"StableSigmoid10\"]; Plus7 [label=\"+\"]; StableSigmoid10 [shape=ellipse, fontsize=20, penwidth=2, size=0.6]; Plus7 [shape=ellipse, fontsize=20, penwidth=2, size=0.6]; }','digraph {  Parameter2 [shape=diamond, color=green]; Input0 [shape=invhouse, color=yellow]; Times4_Output_0 [shape=invhouse, color=gray]; Parameter2 [label=\"Weights\"]; Input0 [label=\"Features\"]; Times4_Output_0 [label=\"@\"]; Parameter2 -> Times4 [label=\"input param\"]; Input0 -> Times4 [label=input]; Times4 -> Times4_Output_0 [label=output]; Times4 [label=\"@\"]; Times4 [shape=ellipse, fontsize=20, penwidth=2, size=0.6]; Times4_Output_0 [shape=invhouse, color=gray]; Parameter3 [shape=diamond, color=green]; Plus7_Output_0 [shape=invhouse, color=gray]; Times4_Output_0 [label=\"@\"]; Parameter3 [label=\"Bias\"]; Plus7_Output_0 [label=\"+\"]; Times4_Output_0 -> Plus7 [label=input]; Parameter3 -> Plus7 [label=\"input param\"]; Plus7 -> Plus7_Output_0 [label=output]; Plus7 [label=\"+\"]; Times4 [label=\"@\"]; Plus7 [shape=ellipse, fontsize=20, penwidth=2, size=0.6]; Times4 [shape=ellipse, fontsize=20, penwidth=2, size=0.6]; Plus7_Output_0 [shape=invhouse, color=gray]; StableSigmoid10_Output_0 [shape=invhouse, color=gray]; Plus7_Output_0 [label=\"+\"]; StableSigmoid10_Output_0 [label=\"StableSigmoid10_Output_0\"]; Plus7_Output_0 -> StableSigmoid10 [label=input]; StableSigmoid10 -> StableSigmoid10_Output_0 [label=output]; StableSigmoid10 [label=\"StableSigmoid10\"]; Plus7 [label=\"+\"]; StableSigmoid10 [shape=ellipse, fontsize=20, penwidth=2, size=0.6]; Plus7 [shape=ellipse, fontsize=20, penwidth=2, size=0.6]; Parameter13 [shape=diamond, color=green]; StableSigmoid10_Output_0 [shape=invhouse, color=gray]; Times15_Output_0 [shape=invhouse, color=gray]; Parameter13 [label=\"Weights\"]; StableSigmoid10_Output_0 [label=\"StableSigmoid10_Output_0\"]; Times15_Output_0 [label=\"@\"]; Parameter13 -> Times15 [label=\"input param\"]; StableSigmoid10_Output_0 -> Times15 [label=input]; Times15 -> Times15_Output_0 [label=output]; Times15 [label=\"@\"]; StableSigmoid10 [label=\"StableSigmoid10\"]; Times15 [shape=ellipse, fontsize=20, penwidth=2, size=0.6]; StableSigmoid10 [shape=ellipse, fontsize=20, penwidth=2, size=0.6]; }','digraph {  Parameter2 [shape=diamond, color=green]; Input0 [shape=invhouse, color=yellow]; Times4_Output_0 [shape=invhouse, color=gray]; Parameter2 [label=\"Weights\"]; Input0 [label=\"Features\"]; Times4_Output_0 [label=\"@\"]; Parameter2 -> Times4 [label=\"input param\"]; Input0 -> Times4 [label=input]; Times4 -> Times4_Output_0 [label=output]; Times4 [label=\"@\"]; Times4 [shape=ellipse, fontsize=20, penwidth=2, size=0.6]; Times4_Output_0 [shape=invhouse, color=gray]; Parameter3 [shape=diamond, color=green]; Plus7_Output_0 [shape=invhouse, color=gray]; Times4_Output_0 [label=\"@\"]; Parameter3 [label=\"Bias\"]; Plus7_Output_0 [label=\"+\"]; Times4_Output_0 -> Plus7 [label=input]; Parameter3 -> Plus7 [label=\"input param\"]; Plus7 -> Plus7_Output_0 [label=output]; Plus7 [label=\"+\"]; Times4 [label=\"@\"]; Plus7 [shape=ellipse, fontsize=20, penwidth=2, size=0.6]; Times4 [shape=ellipse, fontsize=20, penwidth=2, size=0.6]; Plus7_Output_0 [shape=invhouse, color=gray]; StableSigmoid10_Output_0 [shape=invhouse, color=gray]; Plus7_Output_0 [label=\"+\"]; StableSigmoid10_Output_0 [label=\"StableSigmoid10_Output_0\"]; Plus7_Output_0 -> StableSigmoid10 [label=input]; StableSigmoid10 -> StableSigmoid10_Output_0 [label=output]; StableSigmoid10 [label=\"StableSigmoid10\"]; Plus7 [label=\"+\"]; StableSigmoid10 [shape=ellipse, fontsize=20, penwidth=2, size=0.6]; Plus7 [shape=ellipse, fontsize=20, penwidth=2, size=0.6]; Parameter13 [shape=diamond, color=green]; StableSigmoid10_Output_0 [shape=invhouse, color=gray]; Times15_Output_0 [shape=invhouse, color=gray]; Parameter13 [label=\"Weights\"]; StableSigmoid10_Output_0 [label=\"StableSigmoid10_Output_0\"]; Times15_Output_0 [label=\"@\"]; Parameter13 -> Times15 [label=\"input param\"]; StableSigmoid10_Output_0 -> Times15 [label=input]; Times15 -> Times15_Output_0 [label=output]; Times15 [label=\"@\"]; StableSigmoid10 [label=\"StableSigmoid10\"]; Times15 [shape=ellipse, fontsize=20, penwidth=2, size=0.6]; StableSigmoid10 [shape=ellipse, fontsize=20, penwidth=2, size=0.6]; Times15_Output_0 [shape=invhouse, color=gray]; Parameter14 [shape=diamond, color=green]; Plus18_Output_0 [shape=invhouse, color=gray]; Times15_Output_0 [label=\"@\"]; Parameter14 [label=\"Bias\"]; Plus18_Output_0 [label=\"+\"]; Times15_Output_0 -> Plus18 [label=input]; Parameter14 -> Plus18 [label=\"input param\"]; Plus18 -> Plus18_Output_0 [label=output]; Plus18 [label=\"+\"]; Times15 [label=\"@\"]; Plus18 [shape=ellipse, fontsize=20, penwidth=2, size=0.6]; Times15 [shape=ellipse, fontsize=20, penwidth=2, size=0.6]; }','digraph {  Parameter2 [shape=diamond, color=green]; Input0 [shape=invhouse, color=yellow]; Times4_Output_0 [shape=invhouse, color=gray]; Parameter2 [label=\"Weights\"]; Input0 [label=\"Features\"]; Times4_Output_0 [label=\"@\"]; Parameter2 -> Times4 [label=\"input param\"]; Input0 -> Times4 [label=input]; Times4 -> Times4_Output_0 [label=output]; Times4 [label=\"@\"]; Times4 [shape=ellipse, fontsize=20, penwidth=2, size=0.6]; Times4_Output_0 [shape=invhouse, color=gray]; Parameter3 [shape=diamond, color=green]; Plus7_Output_0 [shape=invhouse, color=gray]; Times4_Output_0 [label=\"@\"]; Parameter3 [label=\"Bias\"]; Plus7_Output_0 [label=\"+\"]; Times4_Output_0 -> Plus7 [label=input]; Parameter3 -> Plus7 [label=\"input param\"]; Plus7 -> Plus7_Output_0 [label=output]; Plus7 [label=\"+\"]; Times4 [label=\"@\"]; Plus7 [shape=ellipse, fontsize=20, penwidth=2, size=0.6]; Times4 [shape=ellipse, fontsize=20, penwidth=2, size=0.6]; Plus7_Output_0 [shape=invhouse, color=gray]; StableSigmoid10_Output_0 [shape=invhouse, color=gray]; Plus7_Output_0 [label=\"+\"]; StableSigmoid10_Output_0 [label=\"StableSigmoid10_Output_0\"]; Plus7_Output_0 -> StableSigmoid10 [label=input]; StableSigmoid10 -> StableSigmoid10_Output_0 [label=output]; StableSigmoid10 [label=\"StableSigmoid10\"]; Plus7 [label=\"+\"]; StableSigmoid10 [shape=ellipse, fontsize=20, penwidth=2, size=0.6]; Plus7 [shape=ellipse, fontsize=20, penwidth=2, size=0.6]; Parameter13 [shape=diamond, color=green]; StableSigmoid10_Output_0 [shape=invhouse, color=gray]; Times15_Output_0 [shape=invhouse, color=gray]; Parameter13 [label=\"Weights\"]; StableSigmoid10_Output_0 [label=\"StableSigmoid10_Output_0\"]; Times15_Output_0 [label=\"@\"]; Parameter13 -> Times15 [label=\"input param\"]; StableSigmoid10_Output_0 -> Times15 [label=input]; Times15 -> Times15_Output_0 [label=output]; Times15 [label=\"@\"]; StableSigmoid10 [label=\"StableSigmoid10\"]; Times15 [shape=ellipse, fontsize=20, penwidth=2, size=0.6]; StableSigmoid10 [shape=ellipse, fontsize=20, penwidth=2, size=0.6]; Times15_Output_0 [shape=invhouse, color=gray]; Parameter14 [shape=diamond, color=green]; Plus18_Output_0 [shape=invhouse, color=gray]; Times15_Output_0 [label=\"@\"]; Parameter14 [label=\"Bias\"]; Plus18_Output_0 [label=\"+\"]; Times15_Output_0 -> Plus18 [label=input]; Parameter14 -> Plus18 [label=\"input param\"]; Plus18 -> Plus18_Output_0 [label=output]; Plus18 [label=\"+\"]; Times15 [label=\"@\"]; Plus18 [shape=ellipse, fontsize=20, penwidth=2, size=0.6]; Times15 [shape=ellipse, fontsize=20, penwidth=2, size=0.6]; Plus18_Output_0 [shape=invhouse, color=gray]; Softmax21_Output_0 [shape=invhouse, color=gray]; Plus18_Output_0 [label=\"+\"]; Softmax21_Output_0 [label=\"Softmax21_Output_0\"]; Plus18_Output_0 -> Softmax21 [label=input]; Softmax21 -> Softmax21_Output_0 [label=output]; Softmax21 [label=\"Softmax21\"]; Plus18 [label=\"+\"]; Softmax21 [shape=ellipse, fontsize=20, penwidth=2, size=0.6]; Plus18 [shape=ellipse, fontsize=20, penwidth=2, size=0.6]; }','digraph {  Parameter2 [shape=diamond, color=green]; Input0 [shape=invhouse, color=yellow]; Times4_Output_0 [shape=invhouse, color=gray]; Parameter2 [label=\"Weights\"]; Input0 [label=\"Features\"]; Times4_Output_0 [label=\"@\"]; Parameter2 -> Times4 [label=\"input param\"]; Input0 -> Times4 [label=input]; Times4 -> Times4_Output_0 [label=output]; Times4 [label=\"@\"]; Times4 [shape=ellipse, fontsize=20, penwidth=2, size=0.6]; Times4_Output_0 [shape=invhouse, color=gray]; Parameter3 [shape=diamond, color=green]; Plus7_Output_0 [shape=invhouse, color=gray]; Times4_Output_0 [label=\"@\"]; Parameter3 [label=\"Bias\"]; Plus7_Output_0 [label=\"+\"]; Times4_Output_0 -> Plus7 [label=input]; Parameter3 -> Plus7 [label=\"input param\"]; Plus7 -> Plus7_Output_0 [label=output]; Plus7 [label=\"+\"]; Times4 [label=\"@\"]; Plus7 [shape=ellipse, fontsize=20, penwidth=2, size=0.6]; Times4 [shape=ellipse, fontsize=20, penwidth=2, size=0.6]; Plus7_Output_0 [shape=invhouse, color=gray]; StableSigmoid10_Output_0 [shape=invhouse, color=gray]; Plus7_Output_0 [label=\"+\"]; StableSigmoid10_Output_0 [label=\"StableSigmoid10_Output_0\"]; Plus7_Output_0 -> StableSigmoid10 [label=input]; StableSigmoid10 -> StableSigmoid10_Output_0 [label=output]; StableSigmoid10 [label=\"StableSigmoid10\"]; Plus7 [label=\"+\"]; StableSigmoid10 [shape=ellipse, fontsize=20, penwidth=2, size=0.6]; Plus7 [shape=ellipse, fontsize=20, penwidth=2, size=0.6]; Parameter13 [shape=diamond, color=green]; StableSigmoid10_Output_0 [shape=invhouse, color=gray]; Times15_Output_0 [shape=invhouse, color=gray]; Parameter13 [label=\"Weights\"]; StableSigmoid10_Output_0 [label=\"StableSigmoid10_Output_0\"]; Times15_Output_0 [label=\"@\"]; Parameter13 -> Times15 [label=\"input param\"]; StableSigmoid10_Output_0 -> Times15 [label=input]; Times15 -> Times15_Output_0 [label=output]; Times15 [label=\"@\"]; StableSigmoid10 [label=\"StableSigmoid10\"]; Times15 [shape=ellipse, fontsize=20, penwidth=2, size=0.6]; StableSigmoid10 [shape=ellipse, fontsize=20, penwidth=2, size=0.6]; Times15_Output_0 [shape=invhouse, color=gray]; Parameter14 [shape=diamond, color=green]; Plus18_Output_0 [shape=invhouse, color=gray]; Times15_Output_0 [label=\"@\"]; Parameter14 [label=\"Bias\"]; Plus18_Output_0 [label=\"+\"]; Times15_Output_0 -> Plus18 [label=input]; Parameter14 -> Plus18 [label=\"input param\"]; Plus18 -> Plus18_Output_0 [label=output]; Plus18 [label=\"+\"]; Times15 [label=\"@\"]; Plus18 [shape=ellipse, fontsize=20, penwidth=2, size=0.6]; Times15 [shape=ellipse, fontsize=20, penwidth=2, size=0.6]; Plus18_Output_0 [shape=invhouse, color=gray]; Softmax21_Output_0 [shape=invhouse, color=gray]; Plus18_Output_0 [label=\"+\"]; Softmax21_Output_0 [label=\"Softmax21_Output_0\"]; Plus18_Output_0 -> Softmax21 [label=input]; Softmax21 -> Softmax21_Output_0 [label=output]; Softmax21 [label=\"Softmax21\"]; Plus18 [label=\"+\"]; Softmax21 [shape=ellipse, fontsize=20, penwidth=2, size=0.6]; Plus18 [shape=ellipse, fontsize=20, penwidth=2, size=0.6]; Softmax21 -> CompositeFunction22 [label=\"root function\"]; Parameter13 [shape=diamond, color=green]; Parameter2 [shape=diamond, color=green]; Input0 [shape=invhouse, color=yellow]; Parameter3 [shape=diamond, color=green]; Parameter14 [shape=diamond, color=green]; Softmax21_Output_0 [shape=invhouse, color=gray]; Parameter13 [label=\"Weights\"]; Parameter2 [label=\"Weights\"]; Input0 [label=\"Features\"]; Parameter3 [label=\"Bias\"]; Parameter14 [label=\"Bias\"]; Softmax21_Output_0 [label=\"Softmax21_Output_0\"]; Parameter13 -> CompositeFunction22 [label=\"input param\"]; Parameter2 -> CompositeFunction22 [label=\"input param\"]; Input0 -> CompositeFunction22 [label=input]; Parameter3 -> CompositeFunction22 [label=\"input param\"]; Parameter14 -> CompositeFunction22 [label=\"input param\"]; CompositeFunction22 -> Softmax21_Output_0 [label=output]; CompositeFunction22 [label=\"CompositeFunction22\"]; Softmax21 [label=\"Softmax21\"]; CompositeFunction22 [shape=ellipse, fontsize=20, penwidth=2, peripheries=2]; Softmax21 [shape=ellipse, fontsize=20, penwidth=2, size=0.6]; }'], 'dot']);</script>"
      ]
     },
     "metadata": {},
     "output_type": "display_data"
    }
   ],
   "source": [
    "displayGradualGraph Engine.dot classifier"
   ]
  },
  {
   "cell_type": "markdown",
   "metadata": {},
   "source": [
    "<div id=\"gradualGraph\" style=\"width: 100%; min-height: 700px; border: solid aliceblue 1px\">\n",
    "</div>"
   ]
  },
  {
   "cell_type": "code",
   "execution_count": null,
   "metadata": {
    "collapsed": false
   },
   "outputs": [],
   "source": [
    "type Tensor = \n",
    "| F of Function \n",
    "| V of Variable\n",
    "with \n",
    "    member x.Uid = match x with F f -> f.Uid | V v -> v.Uid\n",
    "    member x.AsString = match x with F f -> f.AsString() | V v -> v.AsString()\n",
    "\n",
    "let decomposeTensor (root: Tensor) = \n",
    "        \n",
    "        let visited = Dictionary<string, Tensor>()            \n",
    "\n",
    "        let rec search (f: Tensor) = \n",
    "            visited.Add(f.Uid, f)\n",
    "        \n",
    "            seq {   \n",
    "                match f with\n",
    "                | F f' -> \n",
    "                    yield! f'.Inputs |> Seq.map V\n",
    "                    yield! f'.Outputs |> Seq.map V\n",
    "                    yield  f'.RootFunction |> F \n",
    "                | V v' -> \n",
    "                    yield f\n",
    "                    if v'.Owner |> isNull |> not then \n",
    "                        yield v'.Owner |> F\n",
    "            }\n",
    "            |> Seq.filter (fun f -> visited.ContainsKey(f.Uid) |> not)\n",
    "            |> Seq.iter search\n",
    "\n",
    "        search root\n",
    "    \n",
    "        visited"
   ]
  },
  {
   "cell_type": "code",
   "execution_count": null,
   "metadata": {
    "collapsed": true
   },
   "outputs": [],
   "source": [
    "\"\"\"<script>$(document).on(\"NODE_CLICKED\", \n",
    "    (e,d,i,n)=>{\n",
    "        console.log(e,d,i,n);\n",
    "});</script>\"\"\" |> Util.Html"
   ]
  },
  {
   "cell_type": "code",
   "execution_count": null,
   "metadata": {
    "collapsed": true
   },
   "outputs": [],
   "source": [
    "\"../../../d3-jupyter/dist/bundle.js\" |> System.IO.Path.GetFullPath"
   ]
  },
  {
   "cell_type": "code",
   "execution_count": null,
   "metadata": {
    "collapsed": true
   },
   "outputs": [],
   "source": []
  }
 ],
 "metadata": {
  "anaconda-cloud": {},
  "kernelspec": {
   "display_name": "F#",
   "language": "fsharp",
   "name": "ifsharp"
  },
  "language": "fsharp",
  "language_info": {
   "codemirror_mode": "",
   "file_extension": ".fs",
   "mimetype": "text/x-fsharp",
   "name": "fsharp",
   "nbconvert_exporter": "",
   "pygments_lexer": "",
   "version": "4.3.1.0"
  }
 },
 "nbformat": 4,
 "nbformat_minor": 1
}
