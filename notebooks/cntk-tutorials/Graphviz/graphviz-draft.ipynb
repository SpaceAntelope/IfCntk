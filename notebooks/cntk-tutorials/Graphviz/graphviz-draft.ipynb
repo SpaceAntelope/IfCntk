{
 "cells": [
  {
   "cell_type": "markdown",
   "metadata": {},
   "source": [
    "# Preparing workspace"
   ]
  },
  {
   "cell_type": "code",
   "execution_count": null,
   "metadata": {
    "collapsed": true
   },
   "outputs": [],
   "source": [
    "#load \"Paket.fsx\"\n",
    " \n",
    "Paket.Dependencies.Install \"\"\"\n",
    "framework: netstandard2.0\n",
    "generate_load_scripts: true\n",
    "storage: none\n",
    "source https://nuget.org/api/v2\n",
    "nuget CNTK.CPUOnly\n",
    "nuget Newtonsoft.Json\n",
    "nuget MathNet.Numerics\n",
    "nuget MathNet.Numerics.FSharp\n",
    "\"\"\""
   ]
  },
  {
   "cell_type": "code",
   "execution_count": 4,
   "metadata": {
    "collapsed": true
   },
   "outputs": [],
   "source": [
    "#r \"netstandard\"\n",
    "#r @\"..\\bin\\Cntk.Core.Managed-2.6.dll\"\n",
    "#load \"../Graphviz/.paket/load/main.group.fsx\""
   ]
  },
  {
   "cell_type": "code",
   "execution_count": 5,
   "metadata": {
    "collapsed": false
   },
   "outputs": [
    {
     "data": {
      "text/plain": [
       "Congratulations, you are using CNTK for: CPU\r\n"
      ]
     },
     "metadata": {},
     "output_type": "display_data"
    }
   ],
   "source": [
    "open System\n",
    "open System.IO\n",
    "\n",
    "Environment.GetEnvironmentVariable(\"PATH\")\n",
    "|> fun path -> sprintf \"%s%c%s\" path (Path.PathSeparator) (Path.GetFullPath(\"bin\"))\n",
    "|> fun path -> Environment.SetEnvironmentVariable(\"PATH\", path)\n",
    "\n",
    "open CNTK\n",
    "DeviceDescriptor.UseDefaultDevice().Type\n",
    "|> printfn \"Congratulations, you are using CNTK for: %A\" "
   ]
  },
  {
   "cell_type": "code",
   "execution_count": 6,
   "metadata": {
    "collapsed": true
   },
   "outputs": [],
   "source": [
    "let device = CNTK.DeviceDescriptor.CPUDevice\n",
    "let dataType = CNTK.DataType.Float\n",
    "let initialization = CNTKLib.GlorotUniformInitializer(1.0)\n",
    "let input_dim, num_output_classes = 2,2\n",
    "\n",
    "#load \"../fsx/CntkHelpers.fsx\"\n",
    "open CntkHelpers\n",
    "\n",
    "let input = Variable.InputVariable(shape [|input_dim|], dataType, \"Features\")\n",
    "let label = Variable.InputVariable(shape [|num_output_classes|], dataType, \"Labels\")\n",
    "let z = fullyConnectedClassifierNet input [5] num_output_classes CNTKLib.Sigmoid"
   ]
  },
  {
   "cell_type": "code",
   "execution_count": 7,
   "metadata": {
    "collapsed": true
   },
   "outputs": [],
   "source": [
    "open System.Collections.Generic\n",
    "\n",
    "// combine filters to single lambda\n",
    "let inline (<&>) (filter1 : 'T -> bool) (filter2 : 'T -> bool) =\n",
    "        fun (t:'T) -> filter1 t && filter2 t\n",
    "\n",
    "let decomposeFunction (root: Function) = \n",
    "        \n",
    "        let visited = Dictionary<string, Function>()            \n",
    "\n",
    "        let rec search (f: Function) = \n",
    "            visited.Add(f.Uid, f)\n",
    "        \n",
    "            seq {   yield! f.Inputs\n",
    "                    yield! f.Outputs\n",
    "                    yield  Var f.RootFunction }\n",
    "            |> Seq.map (fun v -> v.Owner)\n",
    "            |> Seq.filter (fun f -> f <> null && visited.ContainsKey(f.Uid) = false)            \n",
    "            |> Seq.iter search\n",
    "\n",
    "        search root\n",
    "    \n",
    "        visited"
   ]
  },
  {
   "cell_type": "code",
   "execution_count": 8,
   "metadata": {
    "collapsed": true
   },
   "outputs": [],
   "source": [
    "let decz = decomposeFunction z"
   ]
  },
  {
   "cell_type": "code",
   "execution_count": 9,
   "metadata": {
    "collapsed": false
   },
   "outputs": [
    {
     "data": {
      "text/plain": [
       "Composite(Plus): Input('Features', [2], [*, #]) -> Output('+', [2], [*, #])\r\n",
       "Plus: Output('@', [2], [*, #]) -> Output('+', [2], [*, #])\r\n",
       "Times: Output('StableSigmoid10_Output_0', [5], [*, #]) -> Output('@', [2], [*, #])\r\n",
       "StableSigmoid: Output('+', [5], [*, #]) -> Output('StableSigmoid10_Output_0', [5], [*, #])\r\n",
       "Plus: Output('@', [5], [*, #]) -> Output('+', [5], [*, #])\r\n",
       "Times: Input('Features', [2], [*, #]) -> Output('@', [5], [*, #])\r\n"
      ]
     },
     "metadata": {},
     "output_type": "display_data"
    }
   ],
   "source": [
    "decz\n",
    "|> Seq.cast<KeyValuePair<string,Function>> \n",
    "|> Seq.map(fun pair -> pair.Value.AsString()) \n",
    "|> Array.ofSeq\n",
    "|> Array.iter(printfn \"%s\")"
   ]
  },
  {
   "cell_type": "code",
   "execution_count": 10,
   "metadata": {
    "collapsed": true
   },
   "outputs": [],
   "source": [
    "type NodeInfo = {Property: string; Value: string}\n",
    "\n",
    "let nodeInfo (tensor: obj) = \n",
    "    \n",
    "    let matchTypeName (prop:System.Reflection.PropertyInfo) = \n",
    "        try\n",
    "            match prop.PropertyType.FullName with        \n",
    "            | \"CNTK.Function\" -> \n",
    "                (prop.GetValue(tensor) :?> CNTK.Function).Uid |> sprintf \"fun %s\"\n",
    "            | \"CNTK.Variable\" -> \n",
    "                (prop.GetValue(tensor) :?> CNTK.Variable).Uid |> sprintf \"var %s\"\n",
    "            | (list:string) when list.Contains(\"[CNTK.Variable\") -> \n",
    "                prop.GetValue(tensor) :?> CNTK.Variable seq \n",
    "                |> Seq.map(fun (v: Variable) -> \"var \" + v.Uid + \" \" + v.AsString()) \n",
    "                |> Seq.reduce(sprintf \"%s, %s\")\n",
    "            | (list:string) when list.Contains(\"[CNTK.Axis\") -> \n",
    "                prop.GetValue(tensor) :?> CNTK.Axis seq \n",
    "                |> Seq.map(fun (a:Axis) -> a.AsString()) \n",
    "                |> Seq.reduce(sprintf \"%s, %s\")\n",
    "            | \"CNTK.NDShape\" -> (prop.GetValue(tensor) :?> CNTK.NDShape).AsString()\n",
    "            | _ -> prop.GetValue(tensor) |> string\n",
    "        with exn ->\n",
    "            sprintf \"%s: %s -> %s\" prop.Name prop.PropertyType.Name exn.Message\n",
    "    \n",
    "    seq {\n",
    "        yield \"Type\", tensor.GetType().FullName\n",
    "        match tensor with \n",
    "        | :? CNTK.Function -> \n",
    "            yield \"AsString()\", (tensor :?> Function).AsString()\n",
    "            yield! typeof<Function>.GetProperties()\n",
    "            |> Array.map (fun prop -> \n",
    "                prop.Name, matchTypeName prop)\n",
    "        | :? CNTK.Variable -> \n",
    "            yield \"AsString\", (tensor :?> Variable).AsString()\n",
    "            yield! typeof<Variable>.GetProperties()\n",
    "            |> Array.map (fun prop -> \n",
    "                prop.Name, matchTypeName prop)\n",
    "        | _ ->  (tensor.GetType().FullName) \n",
    "                |> sprintf \"Unexpected property %s\" \n",
    "                |> failwith\n",
    "    } |> Seq.map (fun (k,v) -> { Property= k; Value= v } )\n",
    "\n",
    "\n",
    "//nodeInfo decz.[\"Plus18\"].Output |> Util.Table\n",
    "//decz.[\"Plus18\"].Output |> nodeInfo |> Util.Table\n",
    "\n",
    "//decz.[\"Plus18\"].AsString()\n"
   ]
  },
  {
   "cell_type": "code",
   "execution_count": null,
   "metadata": {
    "collapsed": true
   },
   "outputs": [],
   "source": [
    "open Newtonsoft.Json\n",
    "\n",
    "decz.[\"Plus18\"].Output |> nodeInfo |> JsonConvert.SerializeObject"
   ]
  },
  {
   "cell_type": "code",
   "execution_count": null,
   "metadata": {
    "collapsed": true
   },
   "outputs": [],
   "source": [
    "// https://github.com/Microsoft/CNTK/blob/master/bindings/python/cntk/logging/graph.py\n",
    "\n",
    "let extractGraphVizDotNotation (f: Function) = \n",
    "        let varText (v:Variable) = (if String.IsNullOrEmpty v.Name then v.Uid else v.Name) + \"\\\\n\" + v.Shape.AsString()\n",
    "        let funText (f: Function) = if String.IsNullOrEmpty f.Name then f.Uid else f.Name\n",
    "    \n",
    "        let varLabel (v: Variable) = sprintf \"%s [label=\\\"%s\\\"];\" v.Uid (varText v)\n",
    "        let funLabel (f: Function) = sprintf \"%s [label=\\\"%s\\\"];\" f.Uid (funText f)\n",
    "\n",
    "        let varShape (v: Variable) =\n",
    "            match v with\n",
    "            | _ when v.IsInput -> sprintf \"%s [shape=invhouse, color=yellow];\" v.Uid\n",
    "            | _ when v.IsOutput -> sprintf \"%s [shape=invhouse, color=gray];\" v.Uid\n",
    "            | _ when v.IsPlaceholder -> sprintf \"%s [shape=invhouse, color=yellow];\" v.Uid\n",
    "            | _ when v.IsParameter -> sprintf \"%s [shape=diamond, color=green];\" v.Uid\n",
    "            | _ when v.IsConstant -> sprintf \"%s [shape=rectangle, color=lightblue];\" v.Uid\n",
    "            | _ -> sprintf \"%s [shape=circle, color=purple];\" v.Uid\n",
    "\n",
    "        let funShape (f: Function) = \n",
    "            match f with \n",
    "            | _ when f.IsComposite -> sprintf \"%s [shape=ellipse, fontsize=20, penwidth=2, peripheries=2];\" f.Uid\n",
    "            | _ when f.IsPrimitive -> sprintf \"%s [shape=ellipse, fontsize=20, penwidth=2, size=0.6];\" f.Uid\n",
    "            | _ -> sprintf \"%s [shape=ellipse, fontsize=20, penwidth=4];\" f.Uid\n",
    "\n",
    "        let varEdges (f: Function) (v: Variable) = \n",
    "            let inputIndex = f.Inputs |> Seq.map (fun v -> v.Uid) |> Set\n",
    "            let outputIndex = f.Outputs |> Seq.map (fun v -> v.Uid) |> Set\n",
    "            match inputIndex.Contains(v.Uid), outputIndex.Contains(v.Uid) with \n",
    "            | true, _ when v.IsParameter -> sprintf \"%s -> %s [label=\\\"input param\\\"];\" v.Uid f.Uid |> Some\n",
    "            | _, true when v.IsParameter -> sprintf \"%s -> %s [label=\\\"output param\\\"];\" f.Uid v.Uid|> Some\n",
    "            | true, _ -> sprintf \"%s -> %s [label=input];\" v.Uid f.Uid|> Some \n",
    "            | _, true -> \n",
    "                if f.Outputs.Count = 1 && f.Output.Uid = v.Uid then\n",
    "                    printfn \"%s %s %s %s\" f.Outputs.[0].Uid f.Output.Uid v.Uid v.Owner.Output.Uid\n",
    "                    sprintf \"%s -> %s [label=output];\" f.Uid v.Owner.Output.Uid |> Some\n",
    "                else sprintf \"%s -> %s [label=output];\" f.Uid v.Uid|> Some\n",
    "            //| _ when v.IsParameter -> sprintf \"%s -> %s [label=param];\" f.Uid v.Uid|> Some\n",
    "            | _ -> None //sprintf \"%s -> %s;\" f.Uid v.Uid\n",
    "\n",
    "        let vars = Seq.append f.Inputs f.Outputs\n",
    "        let funs = seq { \n",
    "                yield f\n",
    "                yield f.RootFunction;\n",
    "                yield! vars |> Seq.filter (fun v -> v.Owner |> isNull |> not) |> Seq.map (fun v -> v.Owner) \n",
    "            } \n",
    "\n",
    "        seq {        \n",
    "            if f.Uid <> f.RootFunction.Uid then yield sprintf \"%s -> %s [label=\\\"root function\\\"];\" f.RootFunction.Uid f.Uid\n",
    "            yield! vars |> Seq.map varShape\n",
    "            yield! vars |> Seq.map varLabel\n",
    "            yield! vars |> Seq.map (varEdges f) |> Seq.choose id\n",
    "            yield! funs |> Seq.map funLabel \n",
    "            yield! funs |> Seq.map funShape\n",
    "        } |> Seq.distinct\n"
   ]
  },
  {
   "cell_type": "code",
   "execution_count": null,
   "metadata": {
    "collapsed": false,
    "scrolled": false
   },
   "outputs": [],
   "source": [
    "       \n",
    "let createGraphVizDiagram (f:Function) =\n",
    "    f \n",
    "    |> decomposeFunction \n",
    "    |> Seq.cast<KeyValuePair<string,Function>> \n",
    "    |> Seq.map(fun pair -> pair.Value) \n",
    "    //|> Seq.distinct\n",
    "    //|> Seq.where(fun v -> v.Owner)\n",
    "//     |> Seq.where (function Fun _ -> true | _ -> false)\n",
    "    |> Seq.where (fun f -> f.IsComposite |> not && (f.IsPrimitive && f.IsBlock |> not && f.Outputs.Count = 1) )\n",
    "    |> Seq.collect extractGraphVizDotNotation\n",
    "    |> Seq.distinct //|> Array.ofSeq |> Array.filter (fun str -> str.Contains(\"->\")) |> Array.sort\n",
    "    |> Seq.sort\n",
    "    \n",
    "    \n",
    "//createGraphVizDiagram z |> Array.ofSeq\n",
    "\n",
    "createGraphVizDiagram z \n",
    "|> Seq.reduce(sprintf \"%s\\n%s\")\n",
    "|> sprintf \"digraph { %s }\"\n",
    "|> renderDot"
   ]
  },
  {
   "cell_type": "code",
   "execution_count": 3,
   "metadata": {
    "collapsed": false
   },
   "outputs": [
    {
     "name": "stderr",
     "output_type": "stream",
     "text": [
      "The type 'Function' is not defined.\r\n",
      "The type 'Variable' is not defined.\r\n",
      "The type 'Function' is not defined.\r\n",
      "The type 'Variable' is not defined.\r\n",
      "The field, constructor or member 'Uid' is not defined.\r\n",
      "The field, constructor or member 'Uid' is not defined.\r\n",
      "The field, constructor or member 'AsString' is not defined. Maybe you want one of the following:\r\n",
      "   ToString\r\n",
      "The field, constructor or member 'AsString' is not defined. Maybe you want one of the following:\r\n",
      "   ToString\r\n",
      "The value or constructor 'Dictionary' is not defined. Maybe you want one of the following:\r\n",
      "   dict\r\n",
      "Lookup on object of indeterminate type based on information prior to this program point. A type annotation may be needed prior to this program point to constrain the type of the object. This may allow the lookup to be resolved.\r\n",
      "The field, constructor or member 'Inputs' is not defined.\r\n",
      "The field, constructor or member 'Outputs' is not defined.\r\n",
      "The field, constructor or member 'RootFunction' is not defined.\r\n",
      "The field, constructor or member 'Owner' is not defined.\r\n",
      "The field, constructor or member 'Owner' is not defined.\r\n",
      "Lookup on object of indeterminate type based on information prior to this program point. A type annotation may be needed prior to this program point to constrain the type of the object. This may allow the lookup to be resolved."
     ]
    }
   ],
   "source": [
    "type Tensor = \n",
    "| F of Function \n",
    "| V of Variable\n",
    "with \n",
    "    member x.Uid = match x with F f -> f.Uid | V v -> v.Uid\n",
    "    member x.AsString = match x with F f -> f.AsString() | V v -> v.AsString()\n",
    "\n",
    "let decomposeTensor (root: Tensor) = \n",
    "        \n",
    "        let visited = Dictionary<string, Tensor>()            \n",
    "\n",
    "        let rec search (f: Tensor) = \n",
    "            visited.Add(f.Uid, f)\n",
    "        \n",
    "            seq {   \n",
    "                match f with\n",
    "                | F f' -> \n",
    "                    yield! f'.Inputs |> Seq.map V\n",
    "                    yield! f'.Outputs |> Seq.map V\n",
    "                    yield  f'.RootFunction |> F \n",
    "                | V v' -> \n",
    "                    yield f\n",
    "                    if v'.Owner |> isNull |> not then \n",
    "                        yield v'.Owner |> F\n",
    "            }\n",
    "            |> Seq.filter (fun f -> visited.ContainsKey(f.Uid) |> not)\n",
    "            |> Seq.iter search\n",
    "\n",
    "        search root\n",
    "    \n",
    "        visited"
   ]
  },
  {
   "cell_type": "code",
   "execution_count": 2,
   "metadata": {
    "collapsed": false
   },
   "outputs": [
    {
     "name": "stderr",
     "output_type": "stream",
     "text": [
      "The value or constructor 'decomposeTensor' is not defined.\r\n",
      "The type 'KeyValuePair' is not defined.\r\n",
      "The pattern discriminator 'F' is not defined.\r\n",
      "The value, namespace, type or module 'JsonConvert' is not defined.\r\n",
      "The field, constructor or member 'Uid' is not defined."
     ]
    }
   ],
   "source": [
    "decomposeTensor (F z) \n",
    "|> Seq.cast<KeyValuePair<string,Tensor>> \n",
    "|> Seq.map (fun t -> \n",
    "        t.Value \n",
    "        |> function \n",
    "        | F f -> f |> nodeInfo \n",
    "        | V v -> v |> nodeInfo\n",
    "        |> JsonConvert.SerializeObject\n",
    "        |> sprintf \"\\t\\\"%s\\\": %s\" t.Value.Uid )\n",
    "|> Seq.take 3\n",
    "|> Seq.reduce(sprintf \"%s,\\n%s\")        \n",
    "|> printf \"{ \\n%s\\n}\"\n"
   ]
  },
  {
   "cell_type": "markdown",
   "metadata": {},
   "source": [
    "<div style=\"width: 100%;min-height: 600px; border: solid lightblue 1px; border-radius: 15px; position: relative\">\n",
    "    <div id=\"graph\" style=\"width: 100%; height: 100%; background-color: red\"></div>\n",
    "    <div id=\"info\" style=\"width: 300px; height: 500px; border-radius: 15px; box-shadow: 5px 10px #888888;position: absolute; top: 15px; right: 15px\"></div>\n",
    "</div>"
   ]
  },
  {
   "cell_type": "code",
   "execution_count": null,
   "metadata": {
    "collapsed": false
   },
   "outputs": [],
   "source": [
    "@\"<script src='../../../d3-jupyter/dist/bundle.js'></script>\" |> Util.Html |> Display"
   ]
  },
  {
   "cell_type": "code",
   "execution_count": 1,
   "metadata": {
    "collapsed": false
   },
   "outputs": [
    {
     "data": {
      "text/plain": [
       "<fun:it@24> : (string -> HtmlOutput)"
      ]
     },
     "execution_count": 1,
     "metadata": {},
     "output_type": "execute_result"
    }
   ],
   "source": [
    "let initGraph infoPath graphPath = \n",
    "    sprintf \"<script>$(document).trigger('INIT_D3', ['%s','%s']);</script>\" infoPath graphPath\n",
    "    |> Util.Html\n",
    "    \n",
    "let initInfo infoJson = \n",
    "    sprintf \"<script>$(document).trigger('INIT_GRAPH_INFO', ['%s']);</script>\" infoJson\n",
    "    |> Util.Html\n",
    "    \n",
    "let renderDot dotNotation = \n",
    "    sprintf \"<script>$(document).trigger('RENDER_GRAPH', [`%s`]);</script>\" dotNotation\n",
    "    |> Util.Html\n",
    "    \n",
    "let renderSeries (digraphs : string[]) = \n",
    "    digraphs\n",
    "    |> Array.reduce(sprintf \"%s','%s\")\n",
    "    |> sprintf \"<script>$(document).trigger('RENDER_SERIES', [['%s']]);</script>\"\n",
    "    |> Util.Html   \n",
    "    \n",
    "\"\"\"<script>$(document).on(\"NODE_CLICKED\", \n",
    "    (e,d,i,n)=>{\n",
    "        console.log(e,d,i,n);\n",
    "});</script>\"\"\" |> Util.Html\n",
    "    \n",
    "initGraph \"#graph\"    "
   ]
  },
  {
   "cell_type": "code",
   "execution_count": null,
   "metadata": {
    "collapsed": false
   },
   "outputs": [],
   "source": [
    "let createGraphWithInfo (z: Function) =\n",
    "    \n",
    "    let nodeInfo = \n",
    "    \n",
    "    initGraph \"#info\" \"#graph\" |> ignore\n",
    "    initInfo \n",
    "\n",
    "    createGraphVizDiagram z \n",
    "    |> Seq.reduce(sprintf \"%s\\n%s\")\n",
    "    |> sprintf \"digraph { %s }\"\n",
    "    |> renderDot"
   ]
  },
  {
   "cell_type": "code",
   "execution_count": null,
   "metadata": {
    "collapsed": true
   },
   "outputs": [],
   "source": [
    "\"\"\"<script>\n",
    "        var dot = `\n",
    "  digraph {\n",
    "    Combine1787 -> CompositeFunction1788 [label=\"root function\"];\n",
    "Combine1787 [label=\"Combine1787\"];\n",
    "Combine1787 [shape=ellipse, fontsize=20, penwidth=2, size=0.6];\n",
    "Combine1789 -> CompositeFunction1790 [label=\"root function\"];\n",
    "Combine1789 [label=\"Combine1789\"];\n",
    "Combine1789 [shape=ellipse, fontsize=20, penwidth=2, size=0.6];\n",
    "Combine1791 -> CompositeFunction1792 [label=\"root function\"];\n",
    "Combine1791 [label=\"Combine1791\"];\n",
    "Combine1791 [shape=ellipse, fontsize=20, penwidth=2, size=0.6];\n",
    "Combine1793 -> CompositeFunction1794 [label=\"root function\"];\n",
    "Combine1793 [label=\"Combine1793\"];\n",
    "Combine1793 [shape=ellipse, fontsize=20, penwidth=2, size=0.6];\n",
    "Combine1795 -> CompositeFunction1796 [label=\"root function\"];\n",
    "Combine1795 [label=\"Combine1795\"];\n",
    "Combine1795 [shape=ellipse, fontsize=20, penwidth=2, size=0.6];\n",
    "Combine1797 -> CompositeFunction1798 [label=\"root function\"];\n",
    "Combine1797 [label=\"Combine1797\"];\n",
    "Combine1797 [shape=ellipse, fontsize=20, penwidth=2, size=0.6];\n",
    "Combine1799 -> CompositeFunction1800 [label=\"root function\"];\n",
    "Combine1799 [label=\"Combine1799\"];\n",
    "Combine1799 [shape=ellipse, fontsize=20, penwidth=2, size=0.6];\n",
    "Combine1801 -> CompositeFunction1802 [label=\"root function\"];\n",
    "Combine1801 [label=\"Combine1801\"];\n",
    "Combine1801 [shape=ellipse, fontsize=20, penwidth=2, size=0.6];\n",
    "Combine1803 -> CompositeFunction1804 [label=\"root function\"];\n",
    "Combine1803 [label=\"Combine1803\"];\n",
    "Combine1803 [shape=ellipse, fontsize=20, penwidth=2, size=0.6];\n",
    "  }`;\n",
    "        var viz = d3.select(\"#graph\")\n",
    "            .graphviz()\n",
    "            //.logEvents(true)\n",
    "            .on(\"initEnd\", function () {\n",
    "\n",
    "                //viz.engine(\"circo\");\n",
    "                viz.renderDot(dot)\n",
    "                    .on(\"end\", function () {\n",
    "\n",
    "                        let svg = d3.select(\"svg\");//.attr(\"width\", \"1750pt\").attr(\"height\",\"1000pt\");\n",
    "\n",
    "                        let defs = svg.append(\"defs\");\n",
    "\n",
    "                        let filter = defs\n",
    "                            .append(\"filter\")\n",
    "                            .attr(\"id\", \"shadow\")\n",
    "                            .attr(\"x\", \"-50%\")\n",
    "                            .attr(\"y\", \"-50%\")\n",
    "                            .attr(\"width\", \"200%\")\n",
    "                            .attr(\"height\", \"200%\");\n",
    "                        filter.append(\"feGaussianBlur\")\n",
    "                            .attr(\"in\", \"SourceAlpha\")\n",
    "                            .attr(\"stdDeviation\", 3)\n",
    "                            .attr(\"result\", \"blur\");\n",
    "                        filter\n",
    "                            .append(\"feOffset\")\n",
    "                            .attr(\"in\", \"blur\")\n",
    "                            .attr(\"dx\", 3)\n",
    "                            .attr(\"dy\", 3);\n",
    "                        filter.append(\"feComponentTransfer\")\n",
    "                            .append(\"feFuncA\").attr(\"type\", \"linear\")\n",
    "                            .attr(\"slope\", 0.35);\n",
    "\n",
    "                        var merge = filter.append(\"feMerge\");\n",
    "                        merge.append(\"feMergeNode\");\n",
    "                        merge.append(\"feMergeNode\").attr(\"in\", \"SourceGraphic\");\n",
    "\n",
    "                        d3.selectAll(\".node ellipse, .node polygon\")\n",
    "                            .style(\"fill\", \"white\")\n",
    "                            .on(\"mouseover\", (d, i, n) => d3.select(n[i]).style(\"filter\", \"url(#shadow)\"))\n",
    "                            .on(\"mouseout\", (d, i, n) => d3.select(n[i]).style(\"filter\", null));\n",
    "                    });\n",
    "            });\n",
    "    </script>\"\"\" |> Util.Html |> Display"
   ]
  },
  {
   "cell_type": "code",
   "execution_count": null,
   "metadata": {
    "collapsed": true
   },
   "outputs": [],
   "source": [
    "\"\"\"<script>\n",
    "        var canvas = d3.select(\"#graph\")\n",
    "                        .append(\"svg\")\n",
    "                        .attr(\"width\", 500)\n",
    "                        .attr(\"height\", 500);\n",
    "        var circle = canvas.append(\"circle\")\n",
    "                        .attr(\"cx\",250)\n",
    "                        .attr(\"cy\", 250)\n",
    "                        .attr(\"r\", 50)\n",
    "                        .attr(\"fill\", \"red\");\n",
    "    </script>\n",
    "\"\"\" |> Util.Html"
   ]
  },
  {
   "cell_type": "code",
   "execution_count": null,
   "metadata": {
    "collapsed": true
   },
   "outputs": [],
   "source": [
    "createGraphVizDiagram z |> Seq.reduce(sprintf \"%s\\t%s\\n\")"
   ]
  },
  {
   "cell_type": "code",
   "execution_count": null,
   "metadata": {
    "collapsed": true
   },
   "outputs": [],
   "source": [
    "input.ToFunction().Uid"
   ]
  },
  {
   "cell_type": "code",
   "execution_count": null,
   "metadata": {
    "collapsed": true
   },
   "outputs": [],
   "source": [
    "\"\"\"<script>$(document).on(\"NODE_CLICKED\", \n",
    "    (e,d,i,n)=>{\n",
    "        console.log(e,d,i,n);\n",
    "});</script>\"\"\" |> Util.Html"
   ]
  },
  {
   "cell_type": "code",
   "execution_count": null,
   "metadata": {
    "collapsed": true
   },
   "outputs": [],
   "source": [
    "\"../../../d3-jupyter/dist/bundle.js\" |> System.IO.Path.GetFullPath"
   ]
  },
  {
   "cell_type": "code",
   "execution_count": null,
   "metadata": {
    "collapsed": true
   },
   "outputs": [],
   "source": []
  }
 ],
 "metadata": {
  "anaconda-cloud": {},
  "kernelspec": {
   "display_name": "F#",
   "language": "fsharp",
   "name": "ifsharp"
  },
  "language": "fsharp",
  "language_info": {
   "codemirror_mode": "",
   "file_extension": ".fs",
   "mimetype": "text/x-fsharp",
   "name": "fsharp",
   "nbconvert_exporter": "",
   "pygments_lexer": "",
   "version": "4.3.1.0"
  }
 },
 "nbformat": 4,
 "nbformat_minor": 1
}
