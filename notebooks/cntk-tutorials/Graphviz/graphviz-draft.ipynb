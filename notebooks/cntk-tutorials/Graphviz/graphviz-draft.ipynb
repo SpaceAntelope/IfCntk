{
 "cells": [
  {
   "cell_type": "markdown",
   "metadata": {},
   "source": [
    "# Preparing workspace"
   ]
  },
  {
   "cell_type": "code",
   "execution_count": null,
   "metadata": {
    "collapsed": true
   },
   "outputs": [],
   "source": [
    "#load \"Paket.fsx\"\n",
    " \n",
    "Paket.Dependencies.Install \"\"\"\n",
    "framework: netstandard2.0\n",
    "generate_load_scripts: true\n",
    "storage: none\n",
    "source https://nuget.org/api/v2\n",
    "nuget CNTK.CPUOnly\n",
    "nuget Newtonsoft.Json\n",
    "nuget MathNet.Numerics\n",
    "nuget MathNet.Numerics.FSharp\n",
    "\"\"\""
   ]
  },
  {
   "cell_type": "code",
   "execution_count": 1,
   "metadata": {
    "collapsed": true
   },
   "outputs": [],
   "source": [
    "#r \"netstandard\"\n",
    "#r @\"..\\bin\\Cntk.Core.Managed-2.6.dll\"\n",
    "#load \"../Graphviz/.paket/load/main.group.fsx\""
   ]
  },
  {
   "cell_type": "code",
   "execution_count": 2,
   "metadata": {
    "collapsed": false
   },
   "outputs": [
    {
     "data": {
      "text/plain": [
       "Congratulations, you are using CNTK for: CPU\r\n"
      ]
     },
     "metadata": {},
     "output_type": "display_data"
    }
   ],
   "source": [
    "open System\n",
    "open System.IO\n",
    "\n",
    "Environment.GetEnvironmentVariable(\"PATH\")\n",
    "|> fun path -> sprintf \"%s%c%s\" path (Path.PathSeparator) (Path.GetFullPath(\"bin\"))\n",
    "|> fun path -> Environment.SetEnvironmentVariable(\"PATH\", path)\n",
    "\n",
    "open CNTK\n",
    "DeviceDescriptor.UseDefaultDevice().Type\n",
    "|> printfn \"Congratulations, you are using CNTK for: %A\" "
   ]
  },
  {
   "cell_type": "code",
   "execution_count": 49,
   "metadata": {
    "collapsed": false
   },
   "outputs": [],
   "source": [
    "let device = CNTK.DeviceDescriptor.CPUDevice\n",
    "let dataType = CNTK.DataType.Float\n",
    "let initialization = CNTKLib.GlorotUniformInitializer(1.0)\n",
    "let input_dim, num_output_classes = 2,2\n",
    "\n",
    "#load \"../fsx/CntkHelpers.fsx\"\n",
    "open CntkHelpers\n",
    "\n",
    "let input = Variable.InputVariable(shape [|input_dim|], dataType, \"Features\")\n",
    "let label = Variable.InputVariable(shape [|num_output_classes|], dataType, \"Labels\")\n",
    "let z = \n",
    "    fullyConnectedClassifierNet input [5] num_output_classes CNTKLib.Sigmoid\n",
    "    |> (Var>>CNTKLib.Softmax)"
   ]
  },
  {
   "cell_type": "code",
   "execution_count": 4,
   "metadata": {
    "collapsed": false
   },
   "outputs": [],
   "source": [
    "let decomposeFunction (root: Function) = \n",
    "    let visited = System.Collections.Generic.Dictionary<string, Function>()            \n",
    "\n",
    "    let rec expand (f: Function) = \n",
    "        match visited.ContainsKey(f.Uid) with\n",
    "        | true -> Seq.empty\n",
    "        | false -> \n",
    "            visited.Add(f.Uid, f)\n",
    "            seq {\n",
    "                yield f\n",
    "                yield! \n",
    "                    seq { yield! f.Inputs\n",
    "                          yield! f.Outputs }\n",
    "                    |> Seq.map (fun v -> v.Owner)      \n",
    "                    |> Seq.filter (not<<isNull)\n",
    "                    |> Seq.collect expand\n",
    "            }        \n",
    "\n",
    "    Array.ofSeq (expand root)"
   ]
  },
  {
   "cell_type": "code",
   "execution_count": 5,
   "metadata": {
    "collapsed": false
   },
   "outputs": [],
   "source": [
    "open System.Collections.Generic\n",
    "\n",
    "let (|IsEnumerable|IsDescribable|IsPrimitive|) (t: Type) = \n",
    "    if  t <> typeof<string> && \n",
    "        (typeof< IEnumerable<_> >).IsAssignableFrom(t) \n",
    "    then IsEnumerable\n",
    "    else if t.GetMethods() \n",
    "            |> Array.exists (fun meth -> meth.Name = \"AsString\") \n",
    "    then IsDescribable\n",
    "    else IsPrimitive\n",
    "\n",
    "let asString item =\n",
    "    if  item.GetType().GetMethods() \n",
    "        |> Array.exists (fun meth -> meth.Name = \"AsString\")\n",
    "    then\n",
    "        item.GetType()\n",
    "            .GetMethod(\"AsString\", Array.empty)\n",
    "            .Invoke(item, Array.empty).ToString()\n",
    "    else item.ToString()"
   ]
  },
  {
   "cell_type": "code",
   "execution_count": 6,
   "metadata": {
    "collapsed": false,
    "scrolled": false
   },
   "outputs": [],
   "source": [
    "open System.Reflection\n",
    "\n",
    "let describeNode (item: obj) =\n",
    "    [|\n",
    "        yield KeyValuePair(\"NodeType\", item.GetType().Name)\n",
    "        yield KeyValuePair(\"AsString\", item |> asString)\n",
    "        yield!\n",
    "            item.GetType().GetProperties()\n",
    "            |> Seq.map\n",
    "                (fun prop ->\n",
    "                    match prop.PropertyType with\n",
    "                    | IsEnumerable -> \n",
    "                        prop.Name, \n",
    "                          (prop.GetValue(item) :?> IEnumerable<_>) \n",
    "                          |> function \n",
    "                          | list when list |> Seq.isEmpty -> \"[]\" \n",
    "                          | list -> \n",
    "                              list \n",
    "                              |> Seq.map (asString)                         \n",
    "                              |> Seq.reduce (sprintf \"%s, %s\")\n",
    "                    | IsDescribable -> prop.Name,asString item\n",
    "                    | IsPrimitive -> \n",
    "                        prop.Name,\n",
    "                            try prop.GetValue(item) |> asString\n",
    "                            with ex -> sprintf \"%s\" ex.Message)\n",
    "            |> Seq.map (fun (k,v) -> KeyValuePair(k,v))\n",
    "    |]"
   ]
  },
  {
   "cell_type": "code",
   "execution_count": 52,
   "metadata": {
    "collapsed": false
   },
   "outputs": [],
   "source": [
    "// https://github.com/Microsoft/CNTK/blob/master/bindings/python/cntk/logging/graph.py\n",
    "\n",
    "let extractGraphVizDotNotation (f: Function) = \n",
    "        let varText (v:Variable) = (if String.IsNullOrEmpty v.Name then v.Uid else v.Name)// + \"\\\\n\" + v.Shape.AsString()\n",
    "        let funText (f: Function) = if String.IsNullOrEmpty f.Name then f.Uid else f.Name\n",
    "    \n",
    "        let varLabel (v: Variable) = sprintf \"%s [label=\\\"%s\\\"];\" v.Uid (varText v)\n",
    "        let funLabel (f: Function) = sprintf \"%s [label=\\\"%s\\\"];\" f.Uid (funText f)\n",
    "\n",
    "        let varShape (v: Variable) =\n",
    "            match v with\n",
    "            | _ when v.IsInput -> sprintf \"%s [shape=invhouse, color=yellow];\" v.Uid\n",
    "            | _ when v.IsOutput -> sprintf \"%s [shape=invhouse, color=gray];\" v.Uid\n",
    "            | _ when v.IsPlaceholder -> sprintf \"%s [shape=invhouse, color=yellow];\" v.Uid\n",
    "            | _ when v.IsParameter -> sprintf \"%s [shape=diamond, color=green];\" v.Uid\n",
    "            | _ when v.IsConstant -> sprintf \"%s [shape=rectangle, color=lightblue];\" v.Uid\n",
    "            | _ -> sprintf \"%s [shape=circle, color=purple];\" v.Uid\n",
    "\n",
    "        let funShape (f: Function) = \n",
    "            match f with \n",
    "            | _ when f.IsComposite -> sprintf \"%s [shape=ellipse, fontsize=20, penwidth=2, peripheries=2];\" f.Uid\n",
    "            | _ when f.IsPrimitive -> sprintf \"%s [shape=ellipse, fontsize=20, penwidth=2, size=0.6];\" f.Uid\n",
    "            | _ -> sprintf \"%s [shape=ellipse, fontsize=20, penwidth=4];\" f.Uid\n",
    "\n",
    "        let varEdges (f: Function) (v: Variable) = \n",
    "            let inputIndex = f.Inputs |> Seq.map (fun v -> v.Uid) |> Set\n",
    "            let outputIndex = f.Outputs |> Seq.map (fun v -> v.Uid) |> Set\n",
    "            match inputIndex.Contains(v.Uid), outputIndex.Contains(v.Uid) with \n",
    "            | true, _ when v.IsParameter -> sprintf \"%s -> %s [label=\\\"input param\\\"];\" v.Uid f.Uid |> Some\n",
    "            | _, true when v.IsParameter -> sprintf \"%s -> %s [label=\\\"output param\\\"];\" f.Uid v.Uid|> Some\n",
    "            | true, _ -> sprintf \"%s -> %s [label=input];\" v.Uid f.Uid|> Some \n",
    "            | _, true -> \n",
    "                if f.Outputs.Count = 1 && f.Output.Uid = v.Uid then\n",
    "                    //printfn \"%s %s %s %s\" f.Outputs.[0].Uid f.Output.Uid v.Uid v.Owner.Output.Uid\n",
    "                    sprintf \"%s -> %s [label=output];\" f.Uid v.Owner.Output.Uid |> Some\n",
    "                else sprintf \"%s -> %s [label=output];\" f.Uid v.Uid|> Some\n",
    "            //| _ when v.IsParameter -> sprintf \"%s -> %s [label=param];\" f.Uid v.Uid|> Some\n",
    "            | _ -> None //sprintf \"%s -> %s;\" f.Uid v.Uid\n",
    "\n",
    "        let vars = Seq.append f.Inputs f.Outputs\n",
    "        let funs = seq { \n",
    "                yield f\n",
    "                yield f.RootFunction;\n",
    "                yield! vars |> Seq.map (fun v -> v.Owner) |> Seq.filter (isNull>>not) \n",
    "            } \n",
    "\n",
    "        seq {        \n",
    "            if f.Uid <> f.RootFunction.Uid then yield sprintf \"%s -> %s [label=\\\"root function\\\"];\" f.RootFunction.Uid f.Uid\n",
    "            yield! vars |> Seq.map varShape\n",
    "            yield! vars |> Seq.map varLabel\n",
    "            yield! vars |> Seq.map (varEdges f) |> Seq.choose id\n",
    "            yield! funs |> Seq.map funLabel \n",
    "            yield! funs |> Seq.map funShape\n",
    "        } |> Seq.distinct\n"
   ]
  },
  {
   "cell_type": "code",
   "execution_count": null,
   "metadata": {
    "collapsed": true
   },
   "outputs": [],
   "source": [
    "let createGraphWithInfo z = ()"
   ]
  },
  {
   "cell_type": "code",
   "execution_count": 53,
   "metadata": {
    "collapsed": false
   },
   "outputs": [
    {
     "data": {
      "text/html": [
       "<script>$(document).trigger('INIT_D3', ['#info','#graph']);</script>"
      ]
     },
     "metadata": {},
     "output_type": "display_data"
    },
    {
     "data": {
      "text/html": [
       "<script>$(document).trigger('RENDER_GRAPH', [`digraph { Plus1458_Output_0 [shape=invhouse, color=gray];\n",
       "Softmax1461_Output_0 [shape=invhouse, color=gray];\n",
       "Plus1458_Output_0 [label=\"+\"];\n",
       "Softmax1461_Output_0 [label=\"Softmax1461_Output_0\"];\n",
       "Plus1458_Output_0 -> Softmax1461 [label=input];\n",
       "Softmax1461 -> Softmax1461_Output_0 [label=output];\n",
       "Softmax1461 [label=\"Softmax1461\"];\n",
       "Plus1458 [label=\"+\"];\n",
       "Softmax1461 [shape=ellipse, fontsize=20, penwidth=2, size=0.6];\n",
       "Plus1458 [shape=ellipse, fontsize=20, penwidth=2, size=0.6];\n",
       "Times1455_Output_0 [shape=invhouse, color=gray];\n",
       "Parameter1454 [shape=diamond, color=green];\n",
       "Times1455_Output_0 [label=\"@\"];\n",
       "Parameter1454 [label=\"Bias\"];\n",
       "Times1455_Output_0 -> Plus1458 [label=input];\n",
       "Parameter1454 -> Plus1458 [label=\"input param\"];\n",
       "Plus1458 -> Plus1458_Output_0 [label=output];\n",
       "Times1455 [label=\"@\"];\n",
       "Times1455 [shape=ellipse, fontsize=20, penwidth=2, size=0.6];\n",
       "Parameter1453 [shape=diamond, color=green];\n",
       "StableSigmoid1450_Output_0 [shape=invhouse, color=gray];\n",
       "Parameter1453 [label=\"Weights\"];\n",
       "StableSigmoid1450_Output_0 [label=\"StableSigmoid1450_Output_0\"];\n",
       "Parameter1453 -> Times1455 [label=\"input param\"];\n",
       "StableSigmoid1450_Output_0 -> Times1455 [label=input];\n",
       "Times1455 -> Times1455_Output_0 [label=output];\n",
       "StableSigmoid1450 [label=\"StableSigmoid1450\"];\n",
       "StableSigmoid1450 [shape=ellipse, fontsize=20, penwidth=2, size=0.6];\n",
       "Plus1447_Output_0 [shape=invhouse, color=gray];\n",
       "Plus1447_Output_0 [label=\"+\"];\n",
       "Plus1447_Output_0 -> StableSigmoid1450 [label=input];\n",
       "StableSigmoid1450 -> StableSigmoid1450_Output_0 [label=output];\n",
       "Plus1447 [label=\"+\"];\n",
       "Plus1447 [shape=ellipse, fontsize=20, penwidth=2, size=0.6];\n",
       "Times1444_Output_0 [shape=invhouse, color=gray];\n",
       "Parameter1443 [shape=diamond, color=green];\n",
       "Times1444_Output_0 [label=\"@\"];\n",
       "Parameter1443 [label=\"Bias\"];\n",
       "Times1444_Output_0 -> Plus1447 [label=input];\n",
       "Parameter1443 -> Plus1447 [label=\"input param\"];\n",
       "Plus1447 -> Plus1447_Output_0 [label=output];\n",
       "Times1444 [label=\"@\"];\n",
       "Times1444 [shape=ellipse, fontsize=20, penwidth=2, size=0.6];\n",
       "Parameter1442 [shape=diamond, color=green];\n",
       "Input1440 [shape=invhouse, color=yellow];\n",
       "Parameter1442 [label=\"Weights\"];\n",
       "Input1440 [label=\"Features\"];\n",
       "Parameter1442 -> Times1444 [label=\"input param\"];\n",
       "Input1440 -> Times1444 [label=input];\n",
       "Times1444 -> Times1444_Output_0 [label=output]; }`,`{\n",
       "\"Softmax1461\": [{\"Key\":\"NodeType\",\"Value\":\"Function\"},{\"Key\":\"AsString\",\"Value\":\"Softmax: Output('+', [2], [*, #]) -> Output('Softmax1461_Output_0', [2], [*, #])\"},{\"Key\":\"Name\",\"Value\":\"\"},{\"Key\":\"Uid\",\"Value\":\"Softmax1461\"},{\"Key\":\"RootFunction\",\"Value\":\"Softmax: Output('+', [2], [*, #]) -> Output('Softmax1461_Output_0', [2], [*, #])\"},{\"Key\":\"Outputs\",\"Value\":\"Output('Softmax1461_Output_0', [2], [*, #])\"},{\"Key\":\"Output\",\"Value\":\"Softmax: Output('+', [2], [*, #]) -> Output('Softmax1461_Output_0', [2], [*, #])\"},{\"Key\":\"OpName\",\"Value\":\"Softmax\"},{\"Key\":\"IsComposite\",\"Value\":\"False\"},{\"Key\":\"IsPrimitive\",\"Value\":\"True\"},{\"Key\":\"IsBlock\",\"Value\":\"False\"},{\"Key\":\"CurrentVersion\",\"Value\":\"24\"},{\"Key\":\"Arguments\",\"Value\":\"Output('+', [2], [*, #])\"},{\"Key\":\"Inputs\",\"Value\":\"Output('+', [2], [*, #])\"}],\n",
       "\"Plus1458\": [{\"Key\":\"NodeType\",\"Value\":\"Function\"},{\"Key\":\"AsString\",\"Value\":\"Plus: Output('@', [2], [*, #]) -> Output('+', [2], [*, #])\"},{\"Key\":\"Name\",\"Value\":\"+\"},{\"Key\":\"Uid\",\"Value\":\"Plus1458\"},{\"Key\":\"RootFunction\",\"Value\":\"Plus: Output('@', [2], [*, #]) -> Output('+', [2], [*, #])\"},{\"Key\":\"Outputs\",\"Value\":\"Output('+', [2], [*, #])\"},{\"Key\":\"Output\",\"Value\":\"Plus: Output('@', [2], [*, #]) -> Output('+', [2], [*, #])\"},{\"Key\":\"OpName\",\"Value\":\"Plus\"},{\"Key\":\"IsComposite\",\"Value\":\"False\"},{\"Key\":\"IsPrimitive\",\"Value\":\"True\"},{\"Key\":\"IsBlock\",\"Value\":\"False\"},{\"Key\":\"CurrentVersion\",\"Value\":\"24\"},{\"Key\":\"Arguments\",\"Value\":\"Output('@', [2], [*, #])\"},{\"Key\":\"Inputs\",\"Value\":\"Output('@', [2], [*, #]), Parameter('Bias', [2], [])\"}],\n",
       "\"Times1455\": [{\"Key\":\"NodeType\",\"Value\":\"Function\"},{\"Key\":\"AsString\",\"Value\":\"Times: Output('StableSigmoid1450_Output_0', [5], [*, #]) -> Output('@', [2], [*, #])\"},{\"Key\":\"Name\",\"Value\":\"@\"},{\"Key\":\"Uid\",\"Value\":\"Times1455\"},{\"Key\":\"RootFunction\",\"Value\":\"Times: Output('StableSigmoid1450_Output_0', [5], [*, #]) -> Output('@', [2], [*, #])\"},{\"Key\":\"Outputs\",\"Value\":\"Output('@', [2], [*, #])\"},{\"Key\":\"Output\",\"Value\":\"Times: Output('StableSigmoid1450_Output_0', [5], [*, #]) -> Output('@', [2], [*, #])\"},{\"Key\":\"OpName\",\"Value\":\"Times\"},{\"Key\":\"IsComposite\",\"Value\":\"False\"},{\"Key\":\"IsPrimitive\",\"Value\":\"True\"},{\"Key\":\"IsBlock\",\"Value\":\"False\"},{\"Key\":\"CurrentVersion\",\"Value\":\"24\"},{\"Key\":\"Arguments\",\"Value\":\"Output('StableSigmoid1450_Output_0', [5], [*, #])\"},{\"Key\":\"Inputs\",\"Value\":\"Parameter('Weights', [2 x 5], []), Output('StableSigmoid1450_Output_0', [5], [*, #])\"}],\n",
       "\"StableSigmoid1450\": [{\"Key\":\"NodeType\",\"Value\":\"Function\"},{\"Key\":\"AsString\",\"Value\":\"StableSigmoid: Output('+', [5], [*, #]) -> Output('StableSigmoid1450_Output_0', [5], [*, #])\"},{\"Key\":\"Name\",\"Value\":\"\"},{\"Key\":\"Uid\",\"Value\":\"StableSigmoid1450\"},{\"Key\":\"RootFunction\",\"Value\":\"StableSigmoid: Output('+', [5], [*, #]) -> Output('StableSigmoid1450_Output_0', [5], [*, #])\"},{\"Key\":\"Outputs\",\"Value\":\"Output('StableSigmoid1450_Output_0', [5], [*, #])\"},{\"Key\":\"Output\",\"Value\":\"StableSigmoid: Output('+', [5], [*, #]) -> Output('StableSigmoid1450_Output_0', [5], [*, #])\"},{\"Key\":\"OpName\",\"Value\":\"StableSigmoid\"},{\"Key\":\"IsComposite\",\"Value\":\"False\"},{\"Key\":\"IsPrimitive\",\"Value\":\"True\"},{\"Key\":\"IsBlock\",\"Value\":\"False\"},{\"Key\":\"CurrentVersion\",\"Value\":\"24\"},{\"Key\":\"Arguments\",\"Value\":\"Output('+', [5], [*, #])\"},{\"Key\":\"Inputs\",\"Value\":\"Output('+', [5], [*, #])\"}],\n",
       "\"Plus1447\": [{\"Key\":\"NodeType\",\"Value\":\"Function\"},{\"Key\":\"AsString\",\"Value\":\"Plus: Output('@', [5], [*, #]) -> Output('+', [5], [*, #])\"},{\"Key\":\"Name\",\"Value\":\"+\"},{\"Key\":\"Uid\",\"Value\":\"Plus1447\"},{\"Key\":\"RootFunction\",\"Value\":\"Plus: Output('@', [5], [*, #]) -> Output('+', [5], [*, #])\"},{\"Key\":\"Outputs\",\"Value\":\"Output('+', [5], [*, #])\"},{\"Key\":\"Output\",\"Value\":\"Plus: Output('@', [5], [*, #]) -> Output('+', [5], [*, #])\"},{\"Key\":\"OpName\",\"Value\":\"Plus\"},{\"Key\":\"IsComposite\",\"Value\":\"False\"},{\"Key\":\"IsPrimitive\",\"Value\":\"True\"},{\"Key\":\"IsBlock\",\"Value\":\"False\"},{\"Key\":\"CurrentVersion\",\"Value\":\"24\"},{\"Key\":\"Arguments\",\"Value\":\"Output('@', [5], [*, #])\"},{\"Key\":\"Inputs\",\"Value\":\"Output('@', [5], [*, #]), Parameter('Bias', [5], [])\"}],\n",
       "\"Times1444\": [{\"Key\":\"NodeType\",\"Value\":\"Function\"},{\"Key\":\"AsString\",\"Value\":\"Times: Input('Features', [2], [*, #]) -> Output('@', [5], [*, #])\"},{\"Key\":\"Name\",\"Value\":\"@\"},{\"Key\":\"Uid\",\"Value\":\"Times1444\"},{\"Key\":\"RootFunction\",\"Value\":\"Times: Input('Features', [2], [*, #]) -> Output('@', [5], [*, #])\"},{\"Key\":\"Outputs\",\"Value\":\"Output('@', [5], [*, #])\"},{\"Key\":\"Output\",\"Value\":\"Times: Input('Features', [2], [*, #]) -> Output('@', [5], [*, #])\"},{\"Key\":\"OpName\",\"Value\":\"Times\"},{\"Key\":\"IsComposite\",\"Value\":\"False\"},{\"Key\":\"IsPrimitive\",\"Value\":\"True\"},{\"Key\":\"IsBlock\",\"Value\":\"False\"},{\"Key\":\"CurrentVersion\",\"Value\":\"24\"},{\"Key\":\"Arguments\",\"Value\":\"Input('Features', [2], [*, #])\"},{\"Key\":\"Inputs\",\"Value\":\"Parameter('Weights', [5 x 2], []), Input('Features', [2], [*, #])\"}]\n",
       ",\n",
       "\"Plus1458_Output_0\": [{\"Key\":\"NodeType\",\"Value\":\"Variable\"},{\"Key\":\"AsString\",\"Value\":\"Output('+', [2], [*, #])\"},{\"Key\":\"Shape\",\"Value\":\"Output('+', [2], [*, #])\"},{\"Key\":\"Name\",\"Value\":\"+\"},{\"Key\":\"Uid\",\"Value\":\"Plus1458_Output_0\"},{\"Key\":\"Kind\",\"Value\":\"Output\"},{\"Key\":\"DataType\",\"Value\":\"Float\"},{\"Key\":\"DynamicAxes\",\"Value\":\"Axis('defaultDynamicAxis'), Axis('defaultBatchAxis')\"},{\"Key\":\"IsSparse\",\"Value\":\"False\"},{\"Key\":\"IsInput\",\"Value\":\"False\"},{\"Key\":\"IsOutput\",\"Value\":\"True\"},{\"Key\":\"IsParameter\",\"Value\":\"False\"},{\"Key\":\"IsConstant\",\"Value\":\"False\"},{\"Key\":\"IsPlaceholder\",\"Value\":\"False\"},{\"Key\":\"Owner\",\"Value\":\"Output('+', [2], [*, #])\"},{\"Key\":\"NeedsGradient\",\"Value\":\"True\"},{\"Key\":\"CurrentValueTimeStamp\",\"Value\":\"Exception has been thrown by the target of an invocation.\"}],\n",
       "\"Softmax1461_Output_0\": [{\"Key\":\"NodeType\",\"Value\":\"Variable\"},{\"Key\":\"AsString\",\"Value\":\"Output('Softmax1461_Output_0', [2], [*, #])\"},{\"Key\":\"Shape\",\"Value\":\"Output('Softmax1461_Output_0', [2], [*, #])\"},{\"Key\":\"Name\",\"Value\":\"\"},{\"Key\":\"Uid\",\"Value\":\"Softmax1461_Output_0\"},{\"Key\":\"Kind\",\"Value\":\"Output\"},{\"Key\":\"DataType\",\"Value\":\"Float\"},{\"Key\":\"DynamicAxes\",\"Value\":\"Axis('defaultDynamicAxis'), Axis('defaultBatchAxis')\"},{\"Key\":\"IsSparse\",\"Value\":\"False\"},{\"Key\":\"IsInput\",\"Value\":\"False\"},{\"Key\":\"IsOutput\",\"Value\":\"True\"},{\"Key\":\"IsParameter\",\"Value\":\"False\"},{\"Key\":\"IsConstant\",\"Value\":\"False\"},{\"Key\":\"IsPlaceholder\",\"Value\":\"False\"},{\"Key\":\"Owner\",\"Value\":\"Output('Softmax1461_Output_0', [2], [*, #])\"},{\"Key\":\"NeedsGradient\",\"Value\":\"True\"},{\"Key\":\"CurrentValueTimeStamp\",\"Value\":\"Exception has been thrown by the target of an invocation.\"}],\n",
       "\"Times1455_Output_0\": [{\"Key\":\"NodeType\",\"Value\":\"Variable\"},{\"Key\":\"AsString\",\"Value\":\"Output('@', [2], [*, #])\"},{\"Key\":\"Shape\",\"Value\":\"Output('@', [2], [*, #])\"},{\"Key\":\"Name\",\"Value\":\"@\"},{\"Key\":\"Uid\",\"Value\":\"Times1455_Output_0\"},{\"Key\":\"Kind\",\"Value\":\"Output\"},{\"Key\":\"DataType\",\"Value\":\"Float\"},{\"Key\":\"DynamicAxes\",\"Value\":\"Axis('defaultDynamicAxis'), Axis('defaultBatchAxis')\"},{\"Key\":\"IsSparse\",\"Value\":\"False\"},{\"Key\":\"IsInput\",\"Value\":\"False\"},{\"Key\":\"IsOutput\",\"Value\":\"True\"},{\"Key\":\"IsParameter\",\"Value\":\"False\"},{\"Key\":\"IsConstant\",\"Value\":\"False\"},{\"Key\":\"IsPlaceholder\",\"Value\":\"False\"},{\"Key\":\"Owner\",\"Value\":\"Output('@', [2], [*, #])\"},{\"Key\":\"NeedsGradient\",\"Value\":\"True\"},{\"Key\":\"CurrentValueTimeStamp\",\"Value\":\"Exception has been thrown by the target of an invocation.\"}],\n",
       "\"Parameter1454\": [{\"Key\":\"NodeType\",\"Value\":\"Variable\"},{\"Key\":\"AsString\",\"Value\":\"Parameter('Bias', [2], [])\"},{\"Key\":\"Shape\",\"Value\":\"Parameter('Bias', [2], [])\"},{\"Key\":\"Name\",\"Value\":\"Bias\"},{\"Key\":\"Uid\",\"Value\":\"Parameter1454\"},{\"Key\":\"Kind\",\"Value\":\"Parameter\"},{\"Key\":\"DataType\",\"Value\":\"Float\"},{\"Key\":\"DynamicAxes\",\"Value\":\"[]\"},{\"Key\":\"IsSparse\",\"Value\":\"False\"},{\"Key\":\"IsInput\",\"Value\":\"False\"},{\"Key\":\"IsOutput\",\"Value\":\"False\"},{\"Key\":\"IsParameter\",\"Value\":\"True\"},{\"Key\":\"IsConstant\",\"Value\":\"False\"},{\"Key\":\"IsPlaceholder\",\"Value\":\"False\"},{\"Key\":\"Owner\",\"Value\":\"Parameter('Bias', [2], [])\"},{\"Key\":\"NeedsGradient\",\"Value\":\"True\"},{\"Key\":\"CurrentValueTimeStamp\",\"Value\":\"0\"}],\n",
       "\"Parameter1453\": [{\"Key\":\"NodeType\",\"Value\":\"Variable\"},{\"Key\":\"AsString\",\"Value\":\"Parameter('Weights', [2 x 5], [])\"},{\"Key\":\"Shape\",\"Value\":\"Parameter('Weights', [2 x 5], [])\"},{\"Key\":\"Name\",\"Value\":\"Weights\"},{\"Key\":\"Uid\",\"Value\":\"Parameter1453\"},{\"Key\":\"Kind\",\"Value\":\"Parameter\"},{\"Key\":\"DataType\",\"Value\":\"Float\"},{\"Key\":\"DynamicAxes\",\"Value\":\"[]\"},{\"Key\":\"IsSparse\",\"Value\":\"False\"},{\"Key\":\"IsInput\",\"Value\":\"False\"},{\"Key\":\"IsOutput\",\"Value\":\"False\"},{\"Key\":\"IsParameter\",\"Value\":\"True\"},{\"Key\":\"IsConstant\",\"Value\":\"False\"},{\"Key\":\"IsPlaceholder\",\"Value\":\"False\"},{\"Key\":\"Owner\",\"Value\":\"Parameter('Weights', [2 x 5], [])\"},{\"Key\":\"NeedsGradient\",\"Value\":\"True\"},{\"Key\":\"CurrentValueTimeStamp\",\"Value\":\"0\"}],\n",
       "\"StableSigmoid1450_Output_0\": [{\"Key\":\"NodeType\",\"Value\":\"Variable\"},{\"Key\":\"AsString\",\"Value\":\"Output('StableSigmoid1450_Output_0', [5], [*, #])\"},{\"Key\":\"Shape\",\"Value\":\"Output('StableSigmoid1450_Output_0', [5], [*, #])\"},{\"Key\":\"Name\",\"Value\":\"\"},{\"Key\":\"Uid\",\"Value\":\"StableSigmoid1450_Output_0\"},{\"Key\":\"Kind\",\"Value\":\"Output\"},{\"Key\":\"DataType\",\"Value\":\"Float\"},{\"Key\":\"DynamicAxes\",\"Value\":\"Axis('defaultDynamicAxis'), Axis('defaultBatchAxis')\"},{\"Key\":\"IsSparse\",\"Value\":\"False\"},{\"Key\":\"IsInput\",\"Value\":\"False\"},{\"Key\":\"IsOutput\",\"Value\":\"True\"},{\"Key\":\"IsParameter\",\"Value\":\"False\"},{\"Key\":\"IsConstant\",\"Value\":\"False\"},{\"Key\":\"IsPlaceholder\",\"Value\":\"False\"},{\"Key\":\"Owner\",\"Value\":\"Output('StableSigmoid1450_Output_0', [5], [*, #])\"},{\"Key\":\"NeedsGradient\",\"Value\":\"True\"},{\"Key\":\"CurrentValueTimeStamp\",\"Value\":\"Exception has been thrown by the target of an invocation.\"}],\n",
       "\"Plus1447_Output_0\": [{\"Key\":\"NodeType\",\"Value\":\"Variable\"},{\"Key\":\"AsString\",\"Value\":\"Output('+', [5], [*, #])\"},{\"Key\":\"Shape\",\"Value\":\"Output('+', [5], [*, #])\"},{\"Key\":\"Name\",\"Value\":\"+\"},{\"Key\":\"Uid\",\"Value\":\"Plus1447_Output_0\"},{\"Key\":\"Kind\",\"Value\":\"Output\"},{\"Key\":\"DataType\",\"Value\":\"Float\"},{\"Key\":\"DynamicAxes\",\"Value\":\"Axis('defaultDynamicAxis'), Axis('defaultBatchAxis')\"},{\"Key\":\"IsSparse\",\"Value\":\"False\"},{\"Key\":\"IsInput\",\"Value\":\"False\"},{\"Key\":\"IsOutput\",\"Value\":\"True\"},{\"Key\":\"IsParameter\",\"Value\":\"False\"},{\"Key\":\"IsConstant\",\"Value\":\"False\"},{\"Key\":\"IsPlaceholder\",\"Value\":\"False\"},{\"Key\":\"Owner\",\"Value\":\"Output('+', [5], [*, #])\"},{\"Key\":\"NeedsGradient\",\"Value\":\"True\"},{\"Key\":\"CurrentValueTimeStamp\",\"Value\":\"Exception has been thrown by the target of an invocation.\"}],\n",
       "\"Times1444_Output_0\": [{\"Key\":\"NodeType\",\"Value\":\"Variable\"},{\"Key\":\"AsString\",\"Value\":\"Output('@', [5], [*, #])\"},{\"Key\":\"Shape\",\"Value\":\"Output('@', [5], [*, #])\"},{\"Key\":\"Name\",\"Value\":\"@\"},{\"Key\":\"Uid\",\"Value\":\"Times1444_Output_0\"},{\"Key\":\"Kind\",\"Value\":\"Output\"},{\"Key\":\"DataType\",\"Value\":\"Float\"},{\"Key\":\"DynamicAxes\",\"Value\":\"Axis('defaultDynamicAxis'), Axis('defaultBatchAxis')\"},{\"Key\":\"IsSparse\",\"Value\":\"False\"},{\"Key\":\"IsInput\",\"Value\":\"False\"},{\"Key\":\"IsOutput\",\"Value\":\"True\"},{\"Key\":\"IsParameter\",\"Value\":\"False\"},{\"Key\":\"IsConstant\",\"Value\":\"False\"},{\"Key\":\"IsPlaceholder\",\"Value\":\"False\"},{\"Key\":\"Owner\",\"Value\":\"Output('@', [5], [*, #])\"},{\"Key\":\"NeedsGradient\",\"Value\":\"True\"},{\"Key\":\"CurrentValueTimeStamp\",\"Value\":\"Exception has been thrown by the target of an invocation.\"}],\n",
       "\"Parameter1443\": [{\"Key\":\"NodeType\",\"Value\":\"Variable\"},{\"Key\":\"AsString\",\"Value\":\"Parameter('Bias', [5], [])\"},{\"Key\":\"Shape\",\"Value\":\"Parameter('Bias', [5], [])\"},{\"Key\":\"Name\",\"Value\":\"Bias\"},{\"Key\":\"Uid\",\"Value\":\"Parameter1443\"},{\"Key\":\"Kind\",\"Value\":\"Parameter\"},{\"Key\":\"DataType\",\"Value\":\"Float\"},{\"Key\":\"DynamicAxes\",\"Value\":\"[]\"},{\"Key\":\"IsSparse\",\"Value\":\"False\"},{\"Key\":\"IsInput\",\"Value\":\"False\"},{\"Key\":\"IsOutput\",\"Value\":\"False\"},{\"Key\":\"IsParameter\",\"Value\":\"True\"},{\"Key\":\"IsConstant\",\"Value\":\"False\"},{\"Key\":\"IsPlaceholder\",\"Value\":\"False\"},{\"Key\":\"Owner\",\"Value\":\"Parameter('Bias', [5], [])\"},{\"Key\":\"NeedsGradient\",\"Value\":\"True\"},{\"Key\":\"CurrentValueTimeStamp\",\"Value\":\"0\"}],\n",
       "\"Parameter1442\": [{\"Key\":\"NodeType\",\"Value\":\"Variable\"},{\"Key\":\"AsString\",\"Value\":\"Parameter('Weights', [5 x 2], [])\"},{\"Key\":\"Shape\",\"Value\":\"Parameter('Weights', [5 x 2], [])\"},{\"Key\":\"Name\",\"Value\":\"Weights\"},{\"Key\":\"Uid\",\"Value\":\"Parameter1442\"},{\"Key\":\"Kind\",\"Value\":\"Parameter\"},{\"Key\":\"DataType\",\"Value\":\"Float\"},{\"Key\":\"DynamicAxes\",\"Value\":\"[]\"},{\"Key\":\"IsSparse\",\"Value\":\"False\"},{\"Key\":\"IsInput\",\"Value\":\"False\"},{\"Key\":\"IsOutput\",\"Value\":\"False\"},{\"Key\":\"IsParameter\",\"Value\":\"True\"},{\"Key\":\"IsConstant\",\"Value\":\"False\"},{\"Key\":\"IsPlaceholder\",\"Value\":\"False\"},{\"Key\":\"Owner\",\"Value\":\"Parameter('Weights', [5 x 2], [])\"},{\"Key\":\"NeedsGradient\",\"Value\":\"True\"},{\"Key\":\"CurrentValueTimeStamp\",\"Value\":\"0\"}],\n",
       "\"Input1440\": [{\"Key\":\"NodeType\",\"Value\":\"Variable\"},{\"Key\":\"AsString\",\"Value\":\"Input('Features', [2], [*, #])\"},{\"Key\":\"Shape\",\"Value\":\"Input('Features', [2], [*, #])\"},{\"Key\":\"Name\",\"Value\":\"Features\"},{\"Key\":\"Uid\",\"Value\":\"Input1440\"},{\"Key\":\"Kind\",\"Value\":\"Input\"},{\"Key\":\"DataType\",\"Value\":\"Float\"},{\"Key\":\"DynamicAxes\",\"Value\":\"Axis('defaultDynamicAxis'), Axis('defaultBatchAxis')\"},{\"Key\":\"IsSparse\",\"Value\":\"False\"},{\"Key\":\"IsInput\",\"Value\":\"True\"},{\"Key\":\"IsOutput\",\"Value\":\"False\"},{\"Key\":\"IsParameter\",\"Value\":\"False\"},{\"Key\":\"IsConstant\",\"Value\":\"False\"},{\"Key\":\"IsPlaceholder\",\"Value\":\"False\"},{\"Key\":\"Owner\",\"Value\":\"Input('Features', [2], [*, #])\"},{\"Key\":\"NeedsGradient\",\"Value\":\"False\"},{\"Key\":\"CurrentValueTimeStamp\",\"Value\":\"Exception has been thrown by the target of an invocation.\"}]\n",
       "}`, $('#engineSelect option:selected').text()]);</script>"
      ]
     },
     "metadata": {},
     "output_type": "display_data"
    }
   ],
   "source": [
    "createGraphWithInfo z"
   ]
  },
  {
   "cell_type": "markdown",
   "metadata": {},
   "source": [
    "<div style=\"width: 100%;min-height: 600px; border: solid lightblue 1px; border-radius: 15px; position: relative\">\n",
    "    <div id=\"graph\" style=\"width: 100%; height: 100%;\"></div>\n",
    "    <div id=\"info\" style=\"width: 350px; max-width: 350px; position: absolute; top: 0; right: 0; background-color: white\"></div>\n",
    "    <div style=\"display: flex;position: absolute; top: 10px; left: 10px; align-items: center;\">\n",
    "        <span>Graphviz engine:</span>\n",
    "        <select id=\"engineSelect\" class=\"form-control\" style=\"width: 150px\">\n",
    "            <option>dot</option>\n",
    "            <option>circo</option>\n",
    "            <option>fdp</option>\n",
    "            <option>neato</option>\n",
    "            <option>osage</option>\n",
    "            <option>patchwork</option>\n",
    "            <option>twopi</option>\n",
    "        </select>\n",
    "    <div>\n",
    "</div>"
   ]
  },
  {
   "cell_type": "code",
   "execution_count": 22,
   "metadata": {
    "collapsed": false
   },
   "outputs": [
    {
     "data": {
      "text/html": [
       "<script>$('#engineSelect').change(e=> alert($('#engineSelect option:selected').text()))</script>"
      ]
     },
     "metadata": {},
     "output_type": "display_data"
    }
   ],
   "source": [
    "@\"<script>\n",
    "    $('#engineSelect').change(e=> alert($('#engineSelect option:selected').text()))\n",
    "</script>\" |> Util.Html |> Display"
   ]
  },
  {
   "cell_type": "code",
   "execution_count": 23,
   "metadata": {
    "collapsed": false
   },
   "outputs": [
    {
     "data": {
      "text/html": [
       "<script src='../../../d3-jupyter/dist/bundle.js'></script>"
      ]
     },
     "metadata": {},
     "output_type": "display_data"
    }
   ],
   "source": [
    "@\"<script src='../../../d3-jupyter/dist/bundle.js'></script>\" |> Util.Html |> Display"
   ]
  },
  {
   "cell_type": "code",
   "execution_count": 24,
   "metadata": {
    "collapsed": false
   },
   "outputs": [],
   "source": [
    "let initGraph infoPath graphPath = \n",
    "    sprintf \"<script>$(document).trigger('INIT_D3', ['%s','%s']);</script>\" infoPath graphPath\n",
    "    |> Util.Html\n",
    "    \n",
    "let renderDot dotNotation jsonInfo = \n",
    "    sprintf \"<script>$(document).trigger('RENDER_GRAPH', [`%s`,`%s`, $('#engineSelect option:selected').text()]);</script>\" dotNotation jsonInfo\n",
    "    |> Util.Html\n",
    "    \n",
    "let renderSeries (digraphs : string[]) = \n",
    "    digraphs\n",
    "    |> Array.reduce(sprintf \"%s','%s\")\n",
    "    |> sprintf \"<script>$(document).trigger('RENDER_SERIES', [['%s']]);</script>\"\n",
    "    |> Util.Html   \n",
    "    \n",
    "// \"\"\"<script>$(document).on(\"NODE_CLICKED\", \n",
    "//     (e,d,i,n)=>{\n",
    "//         console.log(e,d,i,n);\n",
    "// });</script>\"\"\" |> Util.Html\n",
    " "
   ]
  },
  {
   "cell_type": "code",
   "execution_count": 48,
   "metadata": {
    "collapsed": false,
    "scrolled": false
   },
   "outputs": [
    {
     "data": {
      "text/html": [
       "<script>$(document).trigger('INIT_D3', ['#info','#graph']);</script>"
      ]
     },
     "metadata": {},
     "output_type": "display_data"
    },
    {
     "data": {
      "text/html": [
       "<script>$(document).trigger('RENDER_GRAPH', [`digraph { Plus978_Output_0 [shape=invhouse, color=gray];\n",
       "Softmax981_Output_0 [shape=invhouse, color=gray];\n",
       "Plus978_Output_0 [label=\"+\"];\n",
       "Softmax981_Output_0 [label=\"Softmax981_Output_0\"];\n",
       "Plus978_Output_0 -> Softmax981 [label=input];\n",
       "Softmax981 -> Softmax981_Output_0 [label=output];\n",
       "Softmax981 [label=\"Softmax981\"];\n",
       "Plus978 [label=\"+\"];\n",
       "Softmax981 [shape=ellipse, fontsize=20, penwidth=2, size=0.6];\n",
       "Plus978 [shape=ellipse, fontsize=20, penwidth=2, size=0.6];\n",
       "Times975_Output_0 [shape=invhouse, color=gray];\n",
       "Parameter974 [shape=diamond, color=green];\n",
       "Times975_Output_0 [label=\"@\"];\n",
       "Parameter974 [label=\"Bias\"];\n",
       "Times975_Output_0 -> Plus978 [label=input];\n",
       "Parameter974 -> Plus978 [label=\"input param\"];\n",
       "Plus978 -> Plus978_Output_0 [label=output];\n",
       "Times975 [label=\"@\"];\n",
       "Times975 [shape=ellipse, fontsize=20, penwidth=2, size=0.6];\n",
       "Parameter973 [shape=diamond, color=green];\n",
       "StableSigmoid970_Output_0 [shape=invhouse, color=gray];\n",
       "Parameter973 [label=\"Weights\"];\n",
       "StableSigmoid970_Output_0 [label=\"StableSigmoid970_Output_0\"];\n",
       "Parameter973 -> Times975 [label=\"input param\"];\n",
       "StableSigmoid970_Output_0 -> Times975 [label=input];\n",
       "Times975 -> Times975_Output_0 [label=output];\n",
       "StableSigmoid970 [label=\"StableSigmoid970\"];\n",
       "StableSigmoid970 [shape=ellipse, fontsize=20, penwidth=2, size=0.6];\n",
       "Plus967_Output_0 [shape=invhouse, color=gray];\n",
       "Plus967_Output_0 [label=\"+\"];\n",
       "Plus967_Output_0 -> StableSigmoid970 [label=input];\n",
       "StableSigmoid970 -> StableSigmoid970_Output_0 [label=output];\n",
       "Plus967 [label=\"+\"];\n",
       "Plus967 [shape=ellipse, fontsize=20, penwidth=2, size=0.6];\n",
       "Times964_Output_0 [shape=invhouse, color=gray];\n",
       "Parameter963 [shape=diamond, color=green];\n",
       "Times964_Output_0 [label=\"@\"];\n",
       "Parameter963 [label=\"Bias\"];\n",
       "Times964_Output_0 -> Plus967 [label=input];\n",
       "Parameter963 -> Plus967 [label=\"input param\"];\n",
       "Plus967 -> Plus967_Output_0 [label=output];\n",
       "Times964 [label=\"@\"];\n",
       "Times964 [shape=ellipse, fontsize=20, penwidth=2, size=0.6];\n",
       "Parameter962 [shape=diamond, color=green];\n",
       "StableSigmoid959_Output_0 [shape=invhouse, color=gray];\n",
       "Parameter962 [label=\"Weights\"];\n",
       "StableSigmoid959_Output_0 [label=\"StableSigmoid959_Output_0\"];\n",
       "Parameter962 -> Times964 [label=\"input param\"];\n",
       "StableSigmoid959_Output_0 -> Times964 [label=input];\n",
       "Times964 -> Times964_Output_0 [label=output];\n",
       "StableSigmoid959 [label=\"StableSigmoid959\"];\n",
       "StableSigmoid959 [shape=ellipse, fontsize=20, penwidth=2, size=0.6];\n",
       "Plus956_Output_0 [shape=invhouse, color=gray];\n",
       "Plus956_Output_0 [label=\"+\"];\n",
       "Plus956_Output_0 -> StableSigmoid959 [label=input];\n",
       "StableSigmoid959 -> StableSigmoid959_Output_0 [label=output];\n",
       "Plus956 [label=\"+\"];\n",
       "Plus956 [shape=ellipse, fontsize=20, penwidth=2, size=0.6];\n",
       "Times953_Output_0 [shape=invhouse, color=gray];\n",
       "Parameter952 [shape=diamond, color=green];\n",
       "Times953_Output_0 [label=\"@\"];\n",
       "Parameter952 [label=\"Bias\"];\n",
       "Times953_Output_0 -> Plus956 [label=input];\n",
       "Parameter952 -> Plus956 [label=\"input param\"];\n",
       "Plus956 -> Plus956_Output_0 [label=output];\n",
       "Times953 [label=\"@\"];\n",
       "Times953 [shape=ellipse, fontsize=20, penwidth=2, size=0.6];\n",
       "Parameter951 [shape=diamond, color=green];\n",
       "Input949 [shape=invhouse, color=yellow];\n",
       "Parameter951 [label=\"Weights\"];\n",
       "Input949 [label=\"Features\"];\n",
       "Parameter951 -> Times953 [label=\"input param\"];\n",
       "Input949 -> Times953 [label=input];\n",
       "Times953 -> Times953_Output_0 [label=output]; }`,`{\n",
       "\"Softmax981\": [{\"Key\":\"NodeType\",\"Value\":\"Function\"},{\"Key\":\"AsString\",\"Value\":\"Softmax: Output('+', [2], [*, #]) -> Output('Softmax981_Output_0', [2], [*, #])\"},{\"Key\":\"Name\",\"Value\":\"\"},{\"Key\":\"Uid\",\"Value\":\"Softmax981\"},{\"Key\":\"RootFunction\",\"Value\":\"Softmax: Output('+', [2], [*, #]) -> Output('Softmax981_Output_0', [2], [*, #])\"},{\"Key\":\"Outputs\",\"Value\":\"Output('Softmax981_Output_0', [2], [*, #])\"},{\"Key\":\"Output\",\"Value\":\"Softmax: Output('+', [2], [*, #]) -> Output('Softmax981_Output_0', [2], [*, #])\"},{\"Key\":\"OpName\",\"Value\":\"Softmax\"},{\"Key\":\"IsComposite\",\"Value\":\"False\"},{\"Key\":\"IsPrimitive\",\"Value\":\"True\"},{\"Key\":\"IsBlock\",\"Value\":\"False\"},{\"Key\":\"CurrentVersion\",\"Value\":\"24\"},{\"Key\":\"Arguments\",\"Value\":\"Output('+', [2], [*, #])\"},{\"Key\":\"Inputs\",\"Value\":\"Output('+', [2], [*, #])\"}],\n",
       "\"Plus978\": [{\"Key\":\"NodeType\",\"Value\":\"Function\"},{\"Key\":\"AsString\",\"Value\":\"Plus: Output('@', [2], [*, #]) -> Output('+', [2], [*, #])\"},{\"Key\":\"Name\",\"Value\":\"+\"},{\"Key\":\"Uid\",\"Value\":\"Plus978\"},{\"Key\":\"RootFunction\",\"Value\":\"Plus: Output('@', [2], [*, #]) -> Output('+', [2], [*, #])\"},{\"Key\":\"Outputs\",\"Value\":\"Output('+', [2], [*, #])\"},{\"Key\":\"Output\",\"Value\":\"Plus: Output('@', [2], [*, #]) -> Output('+', [2], [*, #])\"},{\"Key\":\"OpName\",\"Value\":\"Plus\"},{\"Key\":\"IsComposite\",\"Value\":\"False\"},{\"Key\":\"IsPrimitive\",\"Value\":\"True\"},{\"Key\":\"IsBlock\",\"Value\":\"False\"},{\"Key\":\"CurrentVersion\",\"Value\":\"24\"},{\"Key\":\"Arguments\",\"Value\":\"Output('@', [2], [*, #])\"},{\"Key\":\"Inputs\",\"Value\":\"Output('@', [2], [*, #]), Parameter('Bias', [2], [])\"}],\n",
       "\"Times975\": [{\"Key\":\"NodeType\",\"Value\":\"Function\"},{\"Key\":\"AsString\",\"Value\":\"Times: Output('StableSigmoid970_Output_0', [5], [*, #]) -> Output('@', [2], [*, #])\"},{\"Key\":\"Name\",\"Value\":\"@\"},{\"Key\":\"Uid\",\"Value\":\"Times975\"},{\"Key\":\"RootFunction\",\"Value\":\"Times: Output('StableSigmoid970_Output_0', [5], [*, #]) -> Output('@', [2], [*, #])\"},{\"Key\":\"Outputs\",\"Value\":\"Output('@', [2], [*, #])\"},{\"Key\":\"Output\",\"Value\":\"Times: Output('StableSigmoid970_Output_0', [5], [*, #]) -> Output('@', [2], [*, #])\"},{\"Key\":\"OpName\",\"Value\":\"Times\"},{\"Key\":\"IsComposite\",\"Value\":\"False\"},{\"Key\":\"IsPrimitive\",\"Value\":\"True\"},{\"Key\":\"IsBlock\",\"Value\":\"False\"},{\"Key\":\"CurrentVersion\",\"Value\":\"24\"},{\"Key\":\"Arguments\",\"Value\":\"Output('StableSigmoid970_Output_0', [5], [*, #])\"},{\"Key\":\"Inputs\",\"Value\":\"Parameter('Weights', [2 x 5], []), Output('StableSigmoid970_Output_0', [5], [*, #])\"}],\n",
       "\"StableSigmoid970\": [{\"Key\":\"NodeType\",\"Value\":\"Function\"},{\"Key\":\"AsString\",\"Value\":\"StableSigmoid: Output('+', [5], [*, #]) -> Output('StableSigmoid970_Output_0', [5], [*, #])\"},{\"Key\":\"Name\",\"Value\":\"\"},{\"Key\":\"Uid\",\"Value\":\"StableSigmoid970\"},{\"Key\":\"RootFunction\",\"Value\":\"StableSigmoid: Output('+', [5], [*, #]) -> Output('StableSigmoid970_Output_0', [5], [*, #])\"},{\"Key\":\"Outputs\",\"Value\":\"Output('StableSigmoid970_Output_0', [5], [*, #])\"},{\"Key\":\"Output\",\"Value\":\"StableSigmoid: Output('+', [5], [*, #]) -> Output('StableSigmoid970_Output_0', [5], [*, #])\"},{\"Key\":\"OpName\",\"Value\":\"StableSigmoid\"},{\"Key\":\"IsComposite\",\"Value\":\"False\"},{\"Key\":\"IsPrimitive\",\"Value\":\"True\"},{\"Key\":\"IsBlock\",\"Value\":\"False\"},{\"Key\":\"CurrentVersion\",\"Value\":\"24\"},{\"Key\":\"Arguments\",\"Value\":\"Output('+', [5], [*, #])\"},{\"Key\":\"Inputs\",\"Value\":\"Output('+', [5], [*, #])\"}],\n",
       "\"Plus967\": [{\"Key\":\"NodeType\",\"Value\":\"Function\"},{\"Key\":\"AsString\",\"Value\":\"Plus: Output('@', [5], [*, #]) -> Output('+', [5], [*, #])\"},{\"Key\":\"Name\",\"Value\":\"+\"},{\"Key\":\"Uid\",\"Value\":\"Plus967\"},{\"Key\":\"RootFunction\",\"Value\":\"Plus: Output('@', [5], [*, #]) -> Output('+', [5], [*, #])\"},{\"Key\":\"Outputs\",\"Value\":\"Output('+', [5], [*, #])\"},{\"Key\":\"Output\",\"Value\":\"Plus: Output('@', [5], [*, #]) -> Output('+', [5], [*, #])\"},{\"Key\":\"OpName\",\"Value\":\"Plus\"},{\"Key\":\"IsComposite\",\"Value\":\"False\"},{\"Key\":\"IsPrimitive\",\"Value\":\"True\"},{\"Key\":\"IsBlock\",\"Value\":\"False\"},{\"Key\":\"CurrentVersion\",\"Value\":\"24\"},{\"Key\":\"Arguments\",\"Value\":\"Output('@', [5], [*, #])\"},{\"Key\":\"Inputs\",\"Value\":\"Output('@', [5], [*, #]), Parameter('Bias', [5], [])\"}],\n",
       "\"Times964\": [{\"Key\":\"NodeType\",\"Value\":\"Function\"},{\"Key\":\"AsString\",\"Value\":\"Times: Output('StableSigmoid959_Output_0', [5], [*, #]) -> Output('@', [5], [*, #])\"},{\"Key\":\"Name\",\"Value\":\"@\"},{\"Key\":\"Uid\",\"Value\":\"Times964\"},{\"Key\":\"RootFunction\",\"Value\":\"Times: Output('StableSigmoid959_Output_0', [5], [*, #]) -> Output('@', [5], [*, #])\"},{\"Key\":\"Outputs\",\"Value\":\"Output('@', [5], [*, #])\"},{\"Key\":\"Output\",\"Value\":\"Times: Output('StableSigmoid959_Output_0', [5], [*, #]) -> Output('@', [5], [*, #])\"},{\"Key\":\"OpName\",\"Value\":\"Times\"},{\"Key\":\"IsComposite\",\"Value\":\"False\"},{\"Key\":\"IsPrimitive\",\"Value\":\"True\"},{\"Key\":\"IsBlock\",\"Value\":\"False\"},{\"Key\":\"CurrentVersion\",\"Value\":\"24\"},{\"Key\":\"Arguments\",\"Value\":\"Output('StableSigmoid959_Output_0', [5], [*, #])\"},{\"Key\":\"Inputs\",\"Value\":\"Parameter('Weights', [5 x 5], []), Output('StableSigmoid959_Output_0', [5], [*, #])\"}],\n",
       "\"StableSigmoid959\": [{\"Key\":\"NodeType\",\"Value\":\"Function\"},{\"Key\":\"AsString\",\"Value\":\"StableSigmoid: Output('+', [5], [*, #]) -> Output('StableSigmoid959_Output_0', [5], [*, #])\"},{\"Key\":\"Name\",\"Value\":\"\"},{\"Key\":\"Uid\",\"Value\":\"StableSigmoid959\"},{\"Key\":\"RootFunction\",\"Value\":\"StableSigmoid: Output('+', [5], [*, #]) -> Output('StableSigmoid959_Output_0', [5], [*, #])\"},{\"Key\":\"Outputs\",\"Value\":\"Output('StableSigmoid959_Output_0', [5], [*, #])\"},{\"Key\":\"Output\",\"Value\":\"StableSigmoid: Output('+', [5], [*, #]) -> Output('StableSigmoid959_Output_0', [5], [*, #])\"},{\"Key\":\"OpName\",\"Value\":\"StableSigmoid\"},{\"Key\":\"IsComposite\",\"Value\":\"False\"},{\"Key\":\"IsPrimitive\",\"Value\":\"True\"},{\"Key\":\"IsBlock\",\"Value\":\"False\"},{\"Key\":\"CurrentVersion\",\"Value\":\"24\"},{\"Key\":\"Arguments\",\"Value\":\"Output('+', [5], [*, #])\"},{\"Key\":\"Inputs\",\"Value\":\"Output('+', [5], [*, #])\"}],\n",
       "\"Plus956\": [{\"Key\":\"NodeType\",\"Value\":\"Function\"},{\"Key\":\"AsString\",\"Value\":\"Plus: Output('@', [5], [*, #]) -> Output('+', [5], [*, #])\"},{\"Key\":\"Name\",\"Value\":\"+\"},{\"Key\":\"Uid\",\"Value\":\"Plus956\"},{\"Key\":\"RootFunction\",\"Value\":\"Plus: Output('@', [5], [*, #]) -> Output('+', [5], [*, #])\"},{\"Key\":\"Outputs\",\"Value\":\"Output('+', [5], [*, #])\"},{\"Key\":\"Output\",\"Value\":\"Plus: Output('@', [5], [*, #]) -> Output('+', [5], [*, #])\"},{\"Key\":\"OpName\",\"Value\":\"Plus\"},{\"Key\":\"IsComposite\",\"Value\":\"False\"},{\"Key\":\"IsPrimitive\",\"Value\":\"True\"},{\"Key\":\"IsBlock\",\"Value\":\"False\"},{\"Key\":\"CurrentVersion\",\"Value\":\"24\"},{\"Key\":\"Arguments\",\"Value\":\"Output('@', [5], [*, #])\"},{\"Key\":\"Inputs\",\"Value\":\"Output('@', [5], [*, #]), Parameter('Bias', [5], [])\"}],\n",
       "\"Times953\": [{\"Key\":\"NodeType\",\"Value\":\"Function\"},{\"Key\":\"AsString\",\"Value\":\"Times: Input('Features', [2], [*, #]) -> Output('@', [5], [*, #])\"},{\"Key\":\"Name\",\"Value\":\"@\"},{\"Key\":\"Uid\",\"Value\":\"Times953\"},{\"Key\":\"RootFunction\",\"Value\":\"Times: Input('Features', [2], [*, #]) -> Output('@', [5], [*, #])\"},{\"Key\":\"Outputs\",\"Value\":\"Output('@', [5], [*, #])\"},{\"Key\":\"Output\",\"Value\":\"Times: Input('Features', [2], [*, #]) -> Output('@', [5], [*, #])\"},{\"Key\":\"OpName\",\"Value\":\"Times\"},{\"Key\":\"IsComposite\",\"Value\":\"False\"},{\"Key\":\"IsPrimitive\",\"Value\":\"True\"},{\"Key\":\"IsBlock\",\"Value\":\"False\"},{\"Key\":\"CurrentVersion\",\"Value\":\"24\"},{\"Key\":\"Arguments\",\"Value\":\"Input('Features', [2], [*, #])\"},{\"Key\":\"Inputs\",\"Value\":\"Parameter('Weights', [5 x 2], []), Input('Features', [2], [*, #])\"}]\n",
       ",\n",
       "\"Plus978_Output_0\": [{\"Key\":\"NodeType\",\"Value\":\"Variable\"},{\"Key\":\"AsString\",\"Value\":\"Output('+', [2], [*, #])\"},{\"Key\":\"Shape\",\"Value\":\"Output('+', [2], [*, #])\"},{\"Key\":\"Name\",\"Value\":\"+\"},{\"Key\":\"Uid\",\"Value\":\"Plus978_Output_0\"},{\"Key\":\"Kind\",\"Value\":\"Output\"},{\"Key\":\"DataType\",\"Value\":\"Float\"},{\"Key\":\"DynamicAxes\",\"Value\":\"Axis('defaultDynamicAxis'), Axis('defaultBatchAxis')\"},{\"Key\":\"IsSparse\",\"Value\":\"False\"},{\"Key\":\"IsInput\",\"Value\":\"False\"},{\"Key\":\"IsOutput\",\"Value\":\"True\"},{\"Key\":\"IsParameter\",\"Value\":\"False\"},{\"Key\":\"IsConstant\",\"Value\":\"False\"},{\"Key\":\"IsPlaceholder\",\"Value\":\"False\"},{\"Key\":\"Owner\",\"Value\":\"Output('+', [2], [*, #])\"},{\"Key\":\"NeedsGradient\",\"Value\":\"True\"},{\"Key\":\"CurrentValueTimeStamp\",\"Value\":\"Exception has been thrown by the target of an invocation.\"}],\n",
       "\"Softmax981_Output_0\": [{\"Key\":\"NodeType\",\"Value\":\"Variable\"},{\"Key\":\"AsString\",\"Value\":\"Output('Softmax981_Output_0', [2], [*, #])\"},{\"Key\":\"Shape\",\"Value\":\"Output('Softmax981_Output_0', [2], [*, #])\"},{\"Key\":\"Name\",\"Value\":\"\"},{\"Key\":\"Uid\",\"Value\":\"Softmax981_Output_0\"},{\"Key\":\"Kind\",\"Value\":\"Output\"},{\"Key\":\"DataType\",\"Value\":\"Float\"},{\"Key\":\"DynamicAxes\",\"Value\":\"Axis('defaultDynamicAxis'), Axis('defaultBatchAxis')\"},{\"Key\":\"IsSparse\",\"Value\":\"False\"},{\"Key\":\"IsInput\",\"Value\":\"False\"},{\"Key\":\"IsOutput\",\"Value\":\"True\"},{\"Key\":\"IsParameter\",\"Value\":\"False\"},{\"Key\":\"IsConstant\",\"Value\":\"False\"},{\"Key\":\"IsPlaceholder\",\"Value\":\"False\"},{\"Key\":\"Owner\",\"Value\":\"Output('Softmax981_Output_0', [2], [*, #])\"},{\"Key\":\"NeedsGradient\",\"Value\":\"True\"},{\"Key\":\"CurrentValueTimeStamp\",\"Value\":\"Exception has been thrown by the target of an invocation.\"}],\n",
       "\"Times975_Output_0\": [{\"Key\":\"NodeType\",\"Value\":\"Variable\"},{\"Key\":\"AsString\",\"Value\":\"Output('@', [2], [*, #])\"},{\"Key\":\"Shape\",\"Value\":\"Output('@', [2], [*, #])\"},{\"Key\":\"Name\",\"Value\":\"@\"},{\"Key\":\"Uid\",\"Value\":\"Times975_Output_0\"},{\"Key\":\"Kind\",\"Value\":\"Output\"},{\"Key\":\"DataType\",\"Value\":\"Float\"},{\"Key\":\"DynamicAxes\",\"Value\":\"Axis('defaultDynamicAxis'), Axis('defaultBatchAxis')\"},{\"Key\":\"IsSparse\",\"Value\":\"False\"},{\"Key\":\"IsInput\",\"Value\":\"False\"},{\"Key\":\"IsOutput\",\"Value\":\"True\"},{\"Key\":\"IsParameter\",\"Value\":\"False\"},{\"Key\":\"IsConstant\",\"Value\":\"False\"},{\"Key\":\"IsPlaceholder\",\"Value\":\"False\"},{\"Key\":\"Owner\",\"Value\":\"Output('@', [2], [*, #])\"},{\"Key\":\"NeedsGradient\",\"Value\":\"True\"},{\"Key\":\"CurrentValueTimeStamp\",\"Value\":\"Exception has been thrown by the target of an invocation.\"}],\n",
       "\"Parameter974\": [{\"Key\":\"NodeType\",\"Value\":\"Variable\"},{\"Key\":\"AsString\",\"Value\":\"Parameter('Bias', [2], [])\"},{\"Key\":\"Shape\",\"Value\":\"Parameter('Bias', [2], [])\"},{\"Key\":\"Name\",\"Value\":\"Bias\"},{\"Key\":\"Uid\",\"Value\":\"Parameter974\"},{\"Key\":\"Kind\",\"Value\":\"Parameter\"},{\"Key\":\"DataType\",\"Value\":\"Float\"},{\"Key\":\"DynamicAxes\",\"Value\":\"[]\"},{\"Key\":\"IsSparse\",\"Value\":\"False\"},{\"Key\":\"IsInput\",\"Value\":\"False\"},{\"Key\":\"IsOutput\",\"Value\":\"False\"},{\"Key\":\"IsParameter\",\"Value\":\"True\"},{\"Key\":\"IsConstant\",\"Value\":\"False\"},{\"Key\":\"IsPlaceholder\",\"Value\":\"False\"},{\"Key\":\"Owner\",\"Value\":\"Parameter('Bias', [2], [])\"},{\"Key\":\"NeedsGradient\",\"Value\":\"True\"},{\"Key\":\"CurrentValueTimeStamp\",\"Value\":\"0\"}],\n",
       "\"Parameter973\": [{\"Key\":\"NodeType\",\"Value\":\"Variable\"},{\"Key\":\"AsString\",\"Value\":\"Parameter('Weights', [2 x 5], [])\"},{\"Key\":\"Shape\",\"Value\":\"Parameter('Weights', [2 x 5], [])\"},{\"Key\":\"Name\",\"Value\":\"Weights\"},{\"Key\":\"Uid\",\"Value\":\"Parameter973\"},{\"Key\":\"Kind\",\"Value\":\"Parameter\"},{\"Key\":\"DataType\",\"Value\":\"Float\"},{\"Key\":\"DynamicAxes\",\"Value\":\"[]\"},{\"Key\":\"IsSparse\",\"Value\":\"False\"},{\"Key\":\"IsInput\",\"Value\":\"False\"},{\"Key\":\"IsOutput\",\"Value\":\"False\"},{\"Key\":\"IsParameter\",\"Value\":\"True\"},{\"Key\":\"IsConstant\",\"Value\":\"False\"},{\"Key\":\"IsPlaceholder\",\"Value\":\"False\"},{\"Key\":\"Owner\",\"Value\":\"Parameter('Weights', [2 x 5], [])\"},{\"Key\":\"NeedsGradient\",\"Value\":\"True\"},{\"Key\":\"CurrentValueTimeStamp\",\"Value\":\"0\"}],\n",
       "\"StableSigmoid970_Output_0\": [{\"Key\":\"NodeType\",\"Value\":\"Variable\"},{\"Key\":\"AsString\",\"Value\":\"Output('StableSigmoid970_Output_0', [5], [*, #])\"},{\"Key\":\"Shape\",\"Value\":\"Output('StableSigmoid970_Output_0', [5], [*, #])\"},{\"Key\":\"Name\",\"Value\":\"\"},{\"Key\":\"Uid\",\"Value\":\"StableSigmoid970_Output_0\"},{\"Key\":\"Kind\",\"Value\":\"Output\"},{\"Key\":\"DataType\",\"Value\":\"Float\"},{\"Key\":\"DynamicAxes\",\"Value\":\"Axis('defaultDynamicAxis'), Axis('defaultBatchAxis')\"},{\"Key\":\"IsSparse\",\"Value\":\"False\"},{\"Key\":\"IsInput\",\"Value\":\"False\"},{\"Key\":\"IsOutput\",\"Value\":\"True\"},{\"Key\":\"IsParameter\",\"Value\":\"False\"},{\"Key\":\"IsConstant\",\"Value\":\"False\"},{\"Key\":\"IsPlaceholder\",\"Value\":\"False\"},{\"Key\":\"Owner\",\"Value\":\"Output('StableSigmoid970_Output_0', [5], [*, #])\"},{\"Key\":\"NeedsGradient\",\"Value\":\"True\"},{\"Key\":\"CurrentValueTimeStamp\",\"Value\":\"Exception has been thrown by the target of an invocation.\"}],\n",
       "\"Plus967_Output_0\": [{\"Key\":\"NodeType\",\"Value\":\"Variable\"},{\"Key\":\"AsString\",\"Value\":\"Output('+', [5], [*, #])\"},{\"Key\":\"Shape\",\"Value\":\"Output('+', [5], [*, #])\"},{\"Key\":\"Name\",\"Value\":\"+\"},{\"Key\":\"Uid\",\"Value\":\"Plus967_Output_0\"},{\"Key\":\"Kind\",\"Value\":\"Output\"},{\"Key\":\"DataType\",\"Value\":\"Float\"},{\"Key\":\"DynamicAxes\",\"Value\":\"Axis('defaultDynamicAxis'), Axis('defaultBatchAxis')\"},{\"Key\":\"IsSparse\",\"Value\":\"False\"},{\"Key\":\"IsInput\",\"Value\":\"False\"},{\"Key\":\"IsOutput\",\"Value\":\"True\"},{\"Key\":\"IsParameter\",\"Value\":\"False\"},{\"Key\":\"IsConstant\",\"Value\":\"False\"},{\"Key\":\"IsPlaceholder\",\"Value\":\"False\"},{\"Key\":\"Owner\",\"Value\":\"Output('+', [5], [*, #])\"},{\"Key\":\"NeedsGradient\",\"Value\":\"True\"},{\"Key\":\"CurrentValueTimeStamp\",\"Value\":\"Exception has been thrown by the target of an invocation.\"}],\n",
       "\"Times964_Output_0\": [{\"Key\":\"NodeType\",\"Value\":\"Variable\"},{\"Key\":\"AsString\",\"Value\":\"Output('@', [5], [*, #])\"},{\"Key\":\"Shape\",\"Value\":\"Output('@', [5], [*, #])\"},{\"Key\":\"Name\",\"Value\":\"@\"},{\"Key\":\"Uid\",\"Value\":\"Times964_Output_0\"},{\"Key\":\"Kind\",\"Value\":\"Output\"},{\"Key\":\"DataType\",\"Value\":\"Float\"},{\"Key\":\"DynamicAxes\",\"Value\":\"Axis('defaultDynamicAxis'), Axis('defaultBatchAxis')\"},{\"Key\":\"IsSparse\",\"Value\":\"False\"},{\"Key\":\"IsInput\",\"Value\":\"False\"},{\"Key\":\"IsOutput\",\"Value\":\"True\"},{\"Key\":\"IsParameter\",\"Value\":\"False\"},{\"Key\":\"IsConstant\",\"Value\":\"False\"},{\"Key\":\"IsPlaceholder\",\"Value\":\"False\"},{\"Key\":\"Owner\",\"Value\":\"Output('@', [5], [*, #])\"},{\"Key\":\"NeedsGradient\",\"Value\":\"True\"},{\"Key\":\"CurrentValueTimeStamp\",\"Value\":\"Exception has been thrown by the target of an invocation.\"}],\n",
       "\"Parameter963\": [{\"Key\":\"NodeType\",\"Value\":\"Variable\"},{\"Key\":\"AsString\",\"Value\":\"Parameter('Bias', [5], [])\"},{\"Key\":\"Shape\",\"Value\":\"Parameter('Bias', [5], [])\"},{\"Key\":\"Name\",\"Value\":\"Bias\"},{\"Key\":\"Uid\",\"Value\":\"Parameter963\"},{\"Key\":\"Kind\",\"Value\":\"Parameter\"},{\"Key\":\"DataType\",\"Value\":\"Float\"},{\"Key\":\"DynamicAxes\",\"Value\":\"[]\"},{\"Key\":\"IsSparse\",\"Value\":\"False\"},{\"Key\":\"IsInput\",\"Value\":\"False\"},{\"Key\":\"IsOutput\",\"Value\":\"False\"},{\"Key\":\"IsParameter\",\"Value\":\"True\"},{\"Key\":\"IsConstant\",\"Value\":\"False\"},{\"Key\":\"IsPlaceholder\",\"Value\":\"False\"},{\"Key\":\"Owner\",\"Value\":\"Parameter('Bias', [5], [])\"},{\"Key\":\"NeedsGradient\",\"Value\":\"True\"},{\"Key\":\"CurrentValueTimeStamp\",\"Value\":\"0\"}],\n",
       "\"Parameter962\": [{\"Key\":\"NodeType\",\"Value\":\"Variable\"},{\"Key\":\"AsString\",\"Value\":\"Parameter('Weights', [5 x 5], [])\"},{\"Key\":\"Shape\",\"Value\":\"Parameter('Weights', [5 x 5], [])\"},{\"Key\":\"Name\",\"Value\":\"Weights\"},{\"Key\":\"Uid\",\"Value\":\"Parameter962\"},{\"Key\":\"Kind\",\"Value\":\"Parameter\"},{\"Key\":\"DataType\",\"Value\":\"Float\"},{\"Key\":\"DynamicAxes\",\"Value\":\"[]\"},{\"Key\":\"IsSparse\",\"Value\":\"False\"},{\"Key\":\"IsInput\",\"Value\":\"False\"},{\"Key\":\"IsOutput\",\"Value\":\"False\"},{\"Key\":\"IsParameter\",\"Value\":\"True\"},{\"Key\":\"IsConstant\",\"Value\":\"False\"},{\"Key\":\"IsPlaceholder\",\"Value\":\"False\"},{\"Key\":\"Owner\",\"Value\":\"Parameter('Weights', [5 x 5], [])\"},{\"Key\":\"NeedsGradient\",\"Value\":\"True\"},{\"Key\":\"CurrentValueTimeStamp\",\"Value\":\"0\"}],\n",
       "\"StableSigmoid959_Output_0\": [{\"Key\":\"NodeType\",\"Value\":\"Variable\"},{\"Key\":\"AsString\",\"Value\":\"Output('StableSigmoid959_Output_0', [5], [*, #])\"},{\"Key\":\"Shape\",\"Value\":\"Output('StableSigmoid959_Output_0', [5], [*, #])\"},{\"Key\":\"Name\",\"Value\":\"\"},{\"Key\":\"Uid\",\"Value\":\"StableSigmoid959_Output_0\"},{\"Key\":\"Kind\",\"Value\":\"Output\"},{\"Key\":\"DataType\",\"Value\":\"Float\"},{\"Key\":\"DynamicAxes\",\"Value\":\"Axis('defaultDynamicAxis'), Axis('defaultBatchAxis')\"},{\"Key\":\"IsSparse\",\"Value\":\"False\"},{\"Key\":\"IsInput\",\"Value\":\"False\"},{\"Key\":\"IsOutput\",\"Value\":\"True\"},{\"Key\":\"IsParameter\",\"Value\":\"False\"},{\"Key\":\"IsConstant\",\"Value\":\"False\"},{\"Key\":\"IsPlaceholder\",\"Value\":\"False\"},{\"Key\":\"Owner\",\"Value\":\"Output('StableSigmoid959_Output_0', [5], [*, #])\"},{\"Key\":\"NeedsGradient\",\"Value\":\"True\"},{\"Key\":\"CurrentValueTimeStamp\",\"Value\":\"Exception has been thrown by the target of an invocation.\"}],\n",
       "\"Plus956_Output_0\": [{\"Key\":\"NodeType\",\"Value\":\"Variable\"},{\"Key\":\"AsString\",\"Value\":\"Output('+', [5], [*, #])\"},{\"Key\":\"Shape\",\"Value\":\"Output('+', [5], [*, #])\"},{\"Key\":\"Name\",\"Value\":\"+\"},{\"Key\":\"Uid\",\"Value\":\"Plus956_Output_0\"},{\"Key\":\"Kind\",\"Value\":\"Output\"},{\"Key\":\"DataType\",\"Value\":\"Float\"},{\"Key\":\"DynamicAxes\",\"Value\":\"Axis('defaultDynamicAxis'), Axis('defaultBatchAxis')\"},{\"Key\":\"IsSparse\",\"Value\":\"False\"},{\"Key\":\"IsInput\",\"Value\":\"False\"},{\"Key\":\"IsOutput\",\"Value\":\"True\"},{\"Key\":\"IsParameter\",\"Value\":\"False\"},{\"Key\":\"IsConstant\",\"Value\":\"False\"},{\"Key\":\"IsPlaceholder\",\"Value\":\"False\"},{\"Key\":\"Owner\",\"Value\":\"Output('+', [5], [*, #])\"},{\"Key\":\"NeedsGradient\",\"Value\":\"True\"},{\"Key\":\"CurrentValueTimeStamp\",\"Value\":\"Exception has been thrown by the target of an invocation.\"}],\n",
       "\"Times953_Output_0\": [{\"Key\":\"NodeType\",\"Value\":\"Variable\"},{\"Key\":\"AsString\",\"Value\":\"Output('@', [5], [*, #])\"},{\"Key\":\"Shape\",\"Value\":\"Output('@', [5], [*, #])\"},{\"Key\":\"Name\",\"Value\":\"@\"},{\"Key\":\"Uid\",\"Value\":\"Times953_Output_0\"},{\"Key\":\"Kind\",\"Value\":\"Output\"},{\"Key\":\"DataType\",\"Value\":\"Float\"},{\"Key\":\"DynamicAxes\",\"Value\":\"Axis('defaultDynamicAxis'), Axis('defaultBatchAxis')\"},{\"Key\":\"IsSparse\",\"Value\":\"False\"},{\"Key\":\"IsInput\",\"Value\":\"False\"},{\"Key\":\"IsOutput\",\"Value\":\"True\"},{\"Key\":\"IsParameter\",\"Value\":\"False\"},{\"Key\":\"IsConstant\",\"Value\":\"False\"},{\"Key\":\"IsPlaceholder\",\"Value\":\"False\"},{\"Key\":\"Owner\",\"Value\":\"Output('@', [5], [*, #])\"},{\"Key\":\"NeedsGradient\",\"Value\":\"True\"},{\"Key\":\"CurrentValueTimeStamp\",\"Value\":\"Exception has been thrown by the target of an invocation.\"}],\n",
       "\"Parameter952\": [{\"Key\":\"NodeType\",\"Value\":\"Variable\"},{\"Key\":\"AsString\",\"Value\":\"Parameter('Bias', [5], [])\"},{\"Key\":\"Shape\",\"Value\":\"Parameter('Bias', [5], [])\"},{\"Key\":\"Name\",\"Value\":\"Bias\"},{\"Key\":\"Uid\",\"Value\":\"Parameter952\"},{\"Key\":\"Kind\",\"Value\":\"Parameter\"},{\"Key\":\"DataType\",\"Value\":\"Float\"},{\"Key\":\"DynamicAxes\",\"Value\":\"[]\"},{\"Key\":\"IsSparse\",\"Value\":\"False\"},{\"Key\":\"IsInput\",\"Value\":\"False\"},{\"Key\":\"IsOutput\",\"Value\":\"False\"},{\"Key\":\"IsParameter\",\"Value\":\"True\"},{\"Key\":\"IsConstant\",\"Value\":\"False\"},{\"Key\":\"IsPlaceholder\",\"Value\":\"False\"},{\"Key\":\"Owner\",\"Value\":\"Parameter('Bias', [5], [])\"},{\"Key\":\"NeedsGradient\",\"Value\":\"True\"},{\"Key\":\"CurrentValueTimeStamp\",\"Value\":\"0\"}],\n",
       "\"Parameter951\": [{\"Key\":\"NodeType\",\"Value\":\"Variable\"},{\"Key\":\"AsString\",\"Value\":\"Parameter('Weights', [5 x 2], [])\"},{\"Key\":\"Shape\",\"Value\":\"Parameter('Weights', [5 x 2], [])\"},{\"Key\":\"Name\",\"Value\":\"Weights\"},{\"Key\":\"Uid\",\"Value\":\"Parameter951\"},{\"Key\":\"Kind\",\"Value\":\"Parameter\"},{\"Key\":\"DataType\",\"Value\":\"Float\"},{\"Key\":\"DynamicAxes\",\"Value\":\"[]\"},{\"Key\":\"IsSparse\",\"Value\":\"False\"},{\"Key\":\"IsInput\",\"Value\":\"False\"},{\"Key\":\"IsOutput\",\"Value\":\"False\"},{\"Key\":\"IsParameter\",\"Value\":\"True\"},{\"Key\":\"IsConstant\",\"Value\":\"False\"},{\"Key\":\"IsPlaceholder\",\"Value\":\"False\"},{\"Key\":\"Owner\",\"Value\":\"Parameter('Weights', [5 x 2], [])\"},{\"Key\":\"NeedsGradient\",\"Value\":\"True\"},{\"Key\":\"CurrentValueTimeStamp\",\"Value\":\"0\"}],\n",
       "\"Input949\": [{\"Key\":\"NodeType\",\"Value\":\"Variable\"},{\"Key\":\"AsString\",\"Value\":\"Input('Features', [2], [*, #])\"},{\"Key\":\"Shape\",\"Value\":\"Input('Features', [2], [*, #])\"},{\"Key\":\"Name\",\"Value\":\"Features\"},{\"Key\":\"Uid\",\"Value\":\"Input949\"},{\"Key\":\"Kind\",\"Value\":\"Input\"},{\"Key\":\"DataType\",\"Value\":\"Float\"},{\"Key\":\"DynamicAxes\",\"Value\":\"Axis('defaultDynamicAxis'), Axis('defaultBatchAxis')\"},{\"Key\":\"IsSparse\",\"Value\":\"False\"},{\"Key\":\"IsInput\",\"Value\":\"True\"},{\"Key\":\"IsOutput\",\"Value\":\"False\"},{\"Key\":\"IsParameter\",\"Value\":\"False\"},{\"Key\":\"IsConstant\",\"Value\":\"False\"},{\"Key\":\"IsPlaceholder\",\"Value\":\"False\"},{\"Key\":\"Owner\",\"Value\":\"Input('Features', [2], [*, #])\"},{\"Key\":\"NeedsGradient\",\"Value\":\"False\"},{\"Key\":\"CurrentValueTimeStamp\",\"Value\":\"Exception has been thrown by the target of an invocation.\"}]\n",
       "}`, $('#engineSelect option:selected').text()]);</script>"
      ]
     },
     "metadata": {},
     "output_type": "display_data"
    }
   ],
   "source": [
    "open Newtonsoft.Json\n",
    "\n",
    "let createGraphWithInfo (z: Function) =\n",
    "    let funcs = z |> decomposeFunction |> Array.filter (fun f -> not f.IsComposite)\n",
    "    let vars = \n",
    "        funcs \n",
    "        |> Array.collect(fun f -> [|yield! f.Inputs; yield! f.Outputs|])\n",
    "        |> Array.distinctBy (fun v -> v.Uid)\n",
    "    \n",
    "    let nodeInfo = \n",
    "        [|  yield \"{\"\n",
    "            yield\n",
    "                funcs |> Array.map \n",
    "                    (fun f -> sprintf \"\\\"%s\\\": %s\" (f.Uid) (f |> describeNode |> JsonConvert.SerializeObject))                            \n",
    "                |> Array.reduce(sprintf \"%s,\\n%s\")\n",
    "            yield \",\"\n",
    "            yield\n",
    "                vars |> Array.map \n",
    "                    (fun v -> sprintf \"\\\"%s\\\": %s\" (v.Uid) (v |> describeNode |> JsonConvert.SerializeObject))                            \n",
    "                |> Array.reduce(sprintf \"%s,\\n%s\")\n",
    "            yield \"}\" |]\n",
    "        |> Array.reduce(sprintf \"%s\\n%s\")\n",
    "        |> fun text -> text.Trim();\n",
    "    \n",
    "    let dotNotation =\n",
    "        funcs\n",
    "        |> Array.collect (extractGraphVizDotNotation>>Array.ofSeq)\n",
    "        |> Array.distinct \n",
    "        |> Array.reduce(sprintf \"%s\\n%s\")\n",
    "        |> sprintf \"digraph { %s }\"\n",
    "        \n",
    "    //nodeInfo, dotNotation\n",
    "    //printfn \"%s\" nodeInfo \n",
    "    //sprintf \"<script>console.log(`%s`)</script>\" nodeInfo  |>Util.Html\n",
    "    initGraph \"#info\" \"#graph\" |> Display\n",
    "    renderDot dotNotation nodeInfo |> Display\n",
    "    //printfn \"<script>$(document).trigger('RENDER_GRAPH', [`%s`,`%s`]);</script>\" dotNotation nodeInfo\n",
    "    \n",
    "createGraphWithInfo z"
   ]
  },
  {
   "cell_type": "code",
   "execution_count": 14,
   "metadata": {
    "collapsed": false
   },
   "outputs": [],
   "source": [
    "type Tensor = \n",
    "| F of Function \n",
    "| V of Variable\n",
    "with \n",
    "    member x.Uid = match x with F f -> f.Uid | V v -> v.Uid\n",
    "    member x.AsString = match x with F f -> f.AsString() | V v -> v.AsString()\n",
    "\n",
    "let decomposeTensor (root: Tensor) = \n",
    "        \n",
    "        let visited = Dictionary<string, Tensor>()            \n",
    "\n",
    "        let rec search (f: Tensor) = \n",
    "            visited.Add(f.Uid, f)\n",
    "        \n",
    "            seq {   \n",
    "                match f with\n",
    "                | F f' -> \n",
    "                    yield! f'.Inputs |> Seq.map V\n",
    "                    yield! f'.Outputs |> Seq.map V\n",
    "                    yield  f'.RootFunction |> F \n",
    "                | V v' -> \n",
    "                    yield f\n",
    "                    if v'.Owner |> isNull |> not then \n",
    "                        yield v'.Owner |> F\n",
    "            }\n",
    "            |> Seq.filter (fun f -> visited.ContainsKey(f.Uid) |> not)\n",
    "            |> Seq.iter search\n",
    "\n",
    "        search root\n",
    "    \n",
    "        visited"
   ]
  },
  {
   "cell_type": "code",
   "execution_count": null,
   "metadata": {
    "collapsed": false
   },
   "outputs": [],
   "source": [
    "decomposeTensor (F z) \n",
    "|> Seq.cast<KeyValuePair<string,Tensor>> \n",
    "|> Seq.map (fun t -> \n",
    "        t.Value \n",
    "        |> function \n",
    "        | F f -> f |> nodeInfo \n",
    "        | V v -> v |> nodeInfo\n",
    "        |> JsonConvert.SerializeObject\n",
    "        |> sprintf \"\\t\\\"%s\\\": %s\" t.Value.Uid )\n",
    "|> Seq.take 3\n",
    "|> Seq.reduce(sprintf \"%s,\\n%s\")        \n",
    "|> printf \"{ \\n%s\\n}\"\n"
   ]
  },
  {
   "cell_type": "code",
   "execution_count": null,
   "metadata": {
    "collapsed": true
   },
   "outputs": [],
   "source": []
  },
  {
   "cell_type": "code",
   "execution_count": null,
   "metadata": {
    "collapsed": false
   },
   "outputs": [],
   "source": [
    "open Newtonsoft.Json\n",
    "z |> describeNode |> JsonConvert.SerializeObject"
   ]
  },
  {
   "cell_type": "code",
   "execution_count": null,
   "metadata": {
    "collapsed": true
   },
   "outputs": [],
   "source": [
    "\"\"\"<script>\n",
    "        var dot = `\n",
    "  digraph {\n",
    "    Combine1787 -> CompositeFunction1788 [label=\"root function\"];\n",
    "Combine1787 [label=\"Combine1787\"];\n",
    "Combine1787 [shape=ellipse, fontsize=20, penwidth=2, size=0.6];\n",
    "Combine1789 -> CompositeFunction1790 [label=\"root function\"];\n",
    "Combine1789 [label=\"Combine1789\"];\n",
    "Combine1789 [shape=ellipse, fontsize=20, penwidth=2, size=0.6];\n",
    "Combine1791 -> CompositeFunction1792 [label=\"root function\"];\n",
    "Combine1791 [label=\"Combine1791\"];\n",
    "Combine1791 [shape=ellipse, fontsize=20, penwidth=2, size=0.6];\n",
    "Combine1793 -> CompositeFunction1794 [label=\"root function\"];\n",
    "Combine1793 [label=\"Combine1793\"];\n",
    "Combine1793 [shape=ellipse, fontsize=20, penwidth=2, size=0.6];\n",
    "Combine1795 -> CompositeFunction1796 [label=\"root function\"];\n",
    "Combine1795 [label=\"Combine1795\"];\n",
    "Combine1795 [shape=ellipse, fontsize=20, penwidth=2, size=0.6];\n",
    "Combine1797 -> CompositeFunction1798 [label=\"root function\"];\n",
    "Combine1797 [label=\"Combine1797\"];\n",
    "Combine1797 [shape=ellipse, fontsize=20, penwidth=2, size=0.6];\n",
    "Combine1799 -> CompositeFunction1800 [label=\"root function\"];\n",
    "Combine1799 [label=\"Combine1799\"];\n",
    "Combine1799 [shape=ellipse, fontsize=20, penwidth=2, size=0.6];\n",
    "Combine1801 -> CompositeFunction1802 [label=\"root function\"];\n",
    "Combine1801 [label=\"Combine1801\"];\n",
    "Combine1801 [shape=ellipse, fontsize=20, penwidth=2, size=0.6];\n",
    "Combine1803 -> CompositeFunction1804 [label=\"root function\"];\n",
    "Combine1803 [label=\"Combine1803\"];\n",
    "Combine1803 [shape=ellipse, fontsize=20, penwidth=2, size=0.6];\n",
    "  }`;\n",
    "        var viz = d3.select(\"#graph\")\n",
    "            .graphviz()\n",
    "            //.logEvents(true)\n",
    "            .on(\"initEnd\", function () {\n",
    "\n",
    "                //viz.engine(\"circo\");\n",
    "                viz.renderDot(dot)\n",
    "                    .on(\"end\", function () {\n",
    "\n",
    "                        let svg = d3.select(\"svg\");//.attr(\"width\", \"1750pt\").attr(\"height\",\"1000pt\");\n",
    "\n",
    "                        let defs = svg.append(\"defs\");\n",
    "\n",
    "                        let filter = defs\n",
    "                            .append(\"filter\")\n",
    "                            .attr(\"id\", \"shadow\")\n",
    "                            .attr(\"x\", \"-50%\")\n",
    "                            .attr(\"y\", \"-50%\")\n",
    "                            .attr(\"width\", \"200%\")\n",
    "                            .attr(\"height\", \"200%\");\n",
    "                        filter.append(\"feGaussianBlur\")\n",
    "                            .attr(\"in\", \"SourceAlpha\")\n",
    "                            .attr(\"stdDeviation\", 3)\n",
    "                            .attr(\"result\", \"blur\");\n",
    "                        filter\n",
    "                            .append(\"feOffset\")\n",
    "                            .attr(\"in\", \"blur\")\n",
    "                            .attr(\"dx\", 3)\n",
    "                            .attr(\"dy\", 3);\n",
    "                        filter.append(\"feComponentTransfer\")\n",
    "                            .append(\"feFuncA\").attr(\"type\", \"linear\")\n",
    "                            .attr(\"slope\", 0.35);\n",
    "\n",
    "                        var merge = filter.append(\"feMerge\");\n",
    "                        merge.append(\"feMergeNode\");\n",
    "                        merge.append(\"feMergeNode\").attr(\"in\", \"SourceGraphic\");\n",
    "\n",
    "                        d3.selectAll(\".node ellipse, .node polygon\")\n",
    "                            .style(\"fill\", \"white\")\n",
    "                            .on(\"mouseover\", (d, i, n) => d3.select(n[i]).style(\"filter\", \"url(#shadow)\"))\n",
    "                            .on(\"mouseout\", (d, i, n) => d3.select(n[i]).style(\"filter\", null));\n",
    "                    });\n",
    "            });\n",
    "    </script>\"\"\" |> Util.Html |> Display"
   ]
  },
  {
   "cell_type": "code",
   "execution_count": null,
   "metadata": {
    "collapsed": true
   },
   "outputs": [],
   "source": [
    "\"\"\"<script>\n",
    "        var canvas = d3.select(\"#graph\")\n",
    "                        .append(\"svg\")\n",
    "                        .attr(\"width\", 500)\n",
    "                        .attr(\"height\", 500);\n",
    "        var circle = canvas.append(\"circle\")\n",
    "                        .attr(\"cx\",250)\n",
    "                        .attr(\"cy\", 250)\n",
    "                        .attr(\"r\", 50)\n",
    "                        .attr(\"fill\", \"red\");\n",
    "    </script>\n",
    "\"\"\" |> Util.Html"
   ]
  },
  {
   "cell_type": "code",
   "execution_count": null,
   "metadata": {
    "collapsed": true
   },
   "outputs": [],
   "source": [
    "createGraphVizDiagram z |> Seq.reduce(sprintf \"%s\\t%s\\n\")"
   ]
  },
  {
   "cell_type": "code",
   "execution_count": null,
   "metadata": {
    "collapsed": false
   },
   "outputs": [],
   "source": [
    "let printProperty (item: obj) (prop:System.Reflection.PropertyInfo) = \n",
    "    ()\n",
    "\n",
    "type NodeInfo = {Property: string; Value: string} \n",
    "\n",
    "let nodeInfo (tensor: obj) = \n",
    "    \n",
    "    let matchTypeName (prop:System.Reflection.PropertyInfo) = \n",
    "        try\n",
    "            match prop.PropertyType.FullName with        \n",
    "            | \"CNTK.Function\" -> \n",
    "                (prop.GetValue(tensor) :?> CNTK.Function).Uid |> sprintf \"fun %s\"\n",
    "            | \"CNTK.Variable\" -> \n",
    "                (prop.GetValue(tensor) :?> CNTK.Variable).Uid |> sprintf \"var %s\"\n",
    "            | (list:string) when list.Contains(\"[CNTK.Variable\") -> \n",
    "                prop.GetValue(tensor) :?> CNTK.Variable seq \n",
    "                |> Seq.map(fun (v: Variable) -> \"var \" + v.Uid + \" \" + v.AsString()) \n",
    "                |> Seq.reduce(sprintf \"%s, %s\")\n",
    "            | (list:string) when list.Contains(\"[CNTK.Axis\") -> \n",
    "                prop.GetValue(tensor) :?> CNTK.Axis seq \n",
    "                |> Seq.map(fun (a:Axis) -> a.AsString()) \n",
    "                |> Seq.reduce(sprintf \"%s, %s\")\n",
    "            | \"CNTK.NDShape\" -> (prop.GetValue(tensor) :?> CNTK.NDShape).AsString()\n",
    "            | _ -> prop.GetValue(tensor) |> string\n",
    "        with exn ->\n",
    "            sprintf \"%s: %s -> %s\" prop.Name prop.PropertyType.Name exn.Message\n",
    "    \n",
    "    seq {\n",
    "        yield \"Type\", tensor.GetType().FullName\n",
    "        match tensor with \n",
    "        | :? CNTK.Function -> \n",
    "            yield \"AsString()\", (tensor :?> Function).AsString()\n",
    "            yield! typeof<Function>.GetProperties()\n",
    "            |> Array.map (fun prop -> \n",
    "                prop.Name, matchTypeName prop)\n",
    "        | :? CNTK.Variable -> \n",
    "            yield \"AsString\", (tensor :?> Variable).AsString()\n",
    "            yield! typeof<Variable>.GetProperties()\n",
    "            |> Array.map (fun prop -> \n",
    "                prop.Name, matchTypeName prop)\n",
    "        | _ ->  (tensor.GetType().FullName) \n",
    "                |> sprintf \"Unexpected property %s\" \n",
    "                |> failwith\n",
    "    } |> Seq.map (fun (k,v) -> { Property= k; Value= v } )\n",
    "\n",
    "nodeInfo z.Output |> Seq.iter(printfn \"%A\")\n",
    "//nodeInfo decz.[\"Plus18\"].Output |> Util.Table\n",
    "//decz.[\"Plus18\"].Output |> nodeInfo |> Util.Table\n",
    "\n",
    "//decz.[\"Plus18\"].AsString()"
   ]
  },
  {
   "cell_type": "code",
   "execution_count": null,
   "metadata": {
    "collapsed": true
   },
   "outputs": [],
   "source": [
    "input.ToFunction().Uid"
   ]
  },
  {
   "cell_type": "code",
   "execution_count": null,
   "metadata": {
    "collapsed": true
   },
   "outputs": [],
   "source": [
    "\"\"\"<script>$(document).on(\"NODE_CLICKED\", \n",
    "    (e,d,i,n)=>{\n",
    "        console.log(e,d,i,n);\n",
    "});</script>\"\"\" |> Util.Html"
   ]
  },
  {
   "cell_type": "code",
   "execution_count": null,
   "metadata": {
    "collapsed": true
   },
   "outputs": [],
   "source": [
    "\"../../../d3-jupyter/dist/bundle.js\" |> System.IO.Path.GetFullPath"
   ]
  },
  {
   "cell_type": "code",
   "execution_count": null,
   "metadata": {
    "collapsed": true
   },
   "outputs": [],
   "source": []
  }
 ],
 "metadata": {
  "anaconda-cloud": {},
  "kernelspec": {
   "display_name": "F#",
   "language": "fsharp",
   "name": "ifsharp"
  },
  "language": "fsharp",
  "language_info": {
   "codemirror_mode": "",
   "file_extension": ".fs",
   "mimetype": "text/x-fsharp",
   "name": "fsharp",
   "nbconvert_exporter": "",
   "pygments_lexer": "",
   "version": "4.3.1.0"
  }
 },
 "nbformat": 4,
 "nbformat_minor": 1
}
