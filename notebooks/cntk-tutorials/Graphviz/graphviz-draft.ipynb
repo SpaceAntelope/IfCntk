{
 "cells": [
  {
   "cell_type": "markdown",
   "metadata": {},
   "source": [
    "# Preparing workspace"
   ]
  },
  {
   "cell_type": "code",
   "execution_count": 10,
   "metadata": {
    "collapsed": true
   },
   "outputs": [],
   "source": [
    "#load \"Paket.fsx\"\n",
    " \n",
    "Paket.Dependencies.Install \"\"\"\n",
    "framework: netstandard2.0\n",
    "generate_load_scripts: true\n",
    "storage: none\n",
    "source https://nuget.org/api/v2\n",
    "nuget CNTK.CPUOnly\n",
    "nuget Newtonsoft.Json\n",
    "nuget MathNet.Numerics\n",
    "nuget MathNet.Numerics.FSharp\n",
    "\"\"\""
   ]
  },
  {
   "cell_type": "code",
   "execution_count": 2,
   "metadata": {
    "collapsed": true
   },
   "outputs": [],
   "source": [
    "#r \"netstandard\"\n",
    "#r @\"..\\bin\\Cntk.Core.Managed-2.6.dll\"\n",
    "#load \"../Graphviz/.paket/load/main.group.fsx\""
   ]
  },
  {
   "cell_type": "code",
   "execution_count": 3,
   "metadata": {
    "collapsed": false
   },
   "outputs": [
    {
     "data": {
      "text/plain": [
       "Congratulations, you are using CNTK for: CPU\r\n"
      ]
     },
     "metadata": {},
     "output_type": "display_data"
    }
   ],
   "source": [
    "open System\n",
    "open System.IO\n",
    "\n",
    "Environment.GetEnvironmentVariable(\"PATH\")\n",
    "|> fun path -> sprintf \"%s%c%s\" path (Path.PathSeparator) (Path.GetFullPath(\"bin\"))\n",
    "|> fun path -> Environment.SetEnvironmentVariable(\"PATH\", path)\n",
    "\n",
    "open CNTK\n",
    "DeviceDescriptor.UseDefaultDevice().Type\n",
    "|> printfn \"Congratulations, you are using CNTK for: %A\" "
   ]
  },
  {
   "cell_type": "code",
   "execution_count": 4,
   "metadata": {
    "collapsed": false
   },
   "outputs": [],
   "source": [
    "let device = CNTK.DeviceDescriptor.CPUDevice\n",
    "let dataType = CNTK.DataType.Float\n",
    "let initialization = CNTKLib.GlorotUniformInitializer(1.0)\n",
    "let input_dim, num_output_classes = 2,2\n",
    "\n",
    "#load \"../fsx/CntkHelpers.fsx\"\n",
    "open CntkHelpers\n",
    "\n",
    "let input = Variable.InputVariable(shape [|input_dim|], dataType, \"Features\")\n",
    "let label = Variable.InputVariable(shape [|num_output_classes|], dataType, \"Labels\")\n",
    "let z = fullyConnectedClassifierNet input [5] num_output_classes CNTKLib.Sigmoid"
   ]
  },
  {
   "cell_type": "code",
   "execution_count": 145,
   "metadata": {
    "collapsed": false
   },
   "outputs": [],
   "source": [
    "open System.Collections.Generic\n",
    "\n",
    "// combine filters to single lambda\n",
    "let inline (<&>) (filter1 : 'T -> bool) (filter2 : 'T -> bool) =\n",
    "        fun (t:'T) -> filter1 t && filter2 t\n",
    "\n",
    "let decomposeFunction (root: Function) = \n",
    "        \n",
    "        let visited = Dictionary<string, Function>()            \n",
    "\n",
    "        let rec search (f: Function) = \n",
    "            visited.Add(f.Uid, f)\n",
    "        \n",
    "            seq {   yield! f.Inputs\n",
    "                    yield! f.Outputs\n",
    "                    yield  Var f.RootFunction }\n",
    "            |> Seq.map (fun v -> v.Owner)\n",
    "            |> Seq.filter (fun f -> f <> null && visited.ContainsKey(f.Uid) = false)            \n",
    "            |> Seq.iter search\n",
    "\n",
    "        search root\n",
    "    \n",
    "        visited"
   ]
  },
  {
   "cell_type": "code",
   "execution_count": 6,
   "metadata": {
    "collapsed": false
   },
   "outputs": [],
   "source": [
    "let decz = decomposeFunction z"
   ]
  },
  {
   "cell_type": "code",
   "execution_count": 114,
   "metadata": {
    "collapsed": false
   },
   "outputs": [
    {
     "data": {
      "text/plain": [
       "Composite(Plus): Input('Features', [2], [*, #]) -> Output('+', [2], [*, #])\r\n",
       "Plus: Output('@', [2], [*, #]) -> Output('+', [2], [*, #])\r\n",
       "Times: Output('StableSigmoid10_Output_0', [5], [*, #]) -> Output('@', [2], [*, #])\r\n",
       "StableSigmoid: Output('+', [5], [*, #]) -> Output('StableSigmoid10_Output_0', [5], [*, #])\r\n",
       "Plus: Output('@', [5], [*, #]) -> Output('+', [5], [*, #])\r\n",
       "Times: Input('Features', [2], [*, #]) -> Output('@', [5], [*, #])\r\n"
      ]
     },
     "metadata": {},
     "output_type": "display_data"
    }
   ],
   "source": [
    "decz\n",
    "|> Seq.cast<KeyValuePair<string,Function>> \n",
    "|> Seq.map(fun pair -> pair.Value.AsString()) \n",
    "|> Array.ofSeq\n",
    "|> Array.iter(printfn \"%s\")"
   ]
  },
  {
   "cell_type": "code",
   "execution_count": 208,
   "metadata": {
    "collapsed": false
   },
   "outputs": [
    {
     "data": {
      "text/html": [
       "<table><thead><tr><th>Property</th><th>Value</th></tr></thead><tbody><tr><td>Type</td><td>CNTK.Variable</td></tr><tr><td>AsString</td><td>Output(&#39;+&#39;, [2], [*, #])</td></tr><tr><td>Shape</td><td>[2]</td></tr><tr><td>Name</td><td>+</td></tr><tr><td>Uid</td><td>Plus18_Output_0</td></tr><tr><td>Kind</td><td>Output</td></tr><tr><td>DataType</td><td>Float</td></tr><tr><td>DynamicAxes</td><td>Axis(&#39;defaultDynamicAxis&#39;), Axis(&#39;defaultBatchAxis&#39;)</td></tr><tr><td>IsSparse</td><td>False</td></tr><tr><td>IsInput</td><td>False</td></tr><tr><td>IsOutput</td><td>True</td></tr><tr><td>IsParameter</td><td>False</td></tr><tr><td>IsConstant</td><td>False</td></tr><tr><td>IsPlaceholder</td><td>False</td></tr><tr><td>Owner</td><td>fun Plus18</td></tr><tr><td>NeedsGradient</td><td>True</td></tr><tr><td>CurrentValueTimeStamp</td><td>CurrentValueTimeStamp: Int32 -&gt; Exception has been thrown by the target of an invocation.</td></tr><tbody></tbody></table>"
      ],
      "text/plain": [
       "{Columns = [|\"Property\"; \"Value\"|];\n",
       " Rows =\n",
       "  [|[|\"Type\"; \"CNTK.Variable\"|]; [|\"AsString\"; \"Output('+', [2], [*, #])\"|];\n",
       "    [|\"Shape\"; \"[2]\"|]; [|\"Name\"; \"+\"|]; [|\"Uid\"; \"Plus18_Output_0\"|];\n",
       "    [|\"Kind\"; \"Output\"|]; [|\"DataType\"; \"Float\"|];\n",
       "    [|\"DynamicAxes\"; \"Axis('defaultDynamicAxis'), Axis('defaultBatchAxis')\"|];\n",
       "    [|\"IsSparse\"; \"False\"|]; [|\"IsInput\"; \"False\"|]; [|\"IsOutput\"; \"True\"|];\n",
       "    [|\"IsParameter\"; \"False\"|]; [|\"IsConstant\"; \"False\"|];\n",
       "    [|\"IsPlaceholder\"; \"False\"|]; [|\"Owner\"; \"fun Plus18\"|];\n",
       "    [|\"NeedsGradient\"; \"True\"|];\n",
       "    [|\"CurrentValueTimeStamp\";\n",
       "      \"CurrentValueTimeStamp: Int32 -> Exception has been thrown by the target of an invocation.\"|]|];}"
      ]
     },
     "execution_count": 208,
     "metadata": {},
     "output_type": "execute_result"
    }
   ],
   "source": [
    "type NodeInfo = {Property: string; Value: string}\n",
    "\n",
    "let nodeInfo (tensor: obj) = \n",
    "    \n",
    "    let matchTypeName (prop:System.Reflection.PropertyInfo) = \n",
    "        try\n",
    "            match prop.PropertyType.FullName with        \n",
    "            | \"CNTK.Function\" -> \n",
    "                (prop.GetValue(tensor) :?> CNTK.Function).Uid |> sprintf \"fun %s\"\n",
    "            | \"CNTK.Variable\" -> \n",
    "                (prop.GetValue(tensor) :?> CNTK.Variable).Uid |> sprintf \"var %s\"\n",
    "            | (list:string) when list.Contains(\"[CNTK.Variable\") -> \n",
    "                prop.GetValue(tensor) :?> CNTK.Variable seq \n",
    "                |> Seq.map(fun (v: Variable) -> \"var \" + v.Uid + \" \" + v.AsString()) \n",
    "                |> Seq.reduce(sprintf \"%s, %s\")\n",
    "            | (list:string) when list.Contains(\"[CNTK.Axis\") -> \n",
    "                prop.GetValue(tensor) :?> CNTK.Axis seq \n",
    "                |> Seq.map(fun (a:Axis) -> a.AsString()) \n",
    "                |> Seq.reduce(sprintf \"%s, %s\")\n",
    "            | \"CNTK.NDShape\" -> (prop.GetValue(tensor) :?> CNTK.NDShape).AsString()\n",
    "            | _ -> prop.GetValue(tensor) |> string\n",
    "        with exn ->\n",
    "            sprintf \"%s: %s -> %s\" prop.Name prop.PropertyType.Name exn.Message\n",
    "    \n",
    "    seq {\n",
    "        yield \"Type\", tensor.GetType().FullName\n",
    "        match tensor with \n",
    "        | :? CNTK.Function -> \n",
    "            yield \"AsString()\", (tensor :?> Function).AsString()\n",
    "            yield! typeof<Function>.GetProperties()\n",
    "            |> Array.map (fun prop -> \n",
    "                prop.Name, matchTypeName prop)\n",
    "        | :? CNTK.Variable -> \n",
    "            yield \"AsString\", (tensor :?> Variable).AsString()\n",
    "            yield! typeof<Variable>.GetProperties()\n",
    "            |> Array.map (fun prop -> \n",
    "                prop.Name, matchTypeName prop)\n",
    "        | _ ->  (tensor.GetType().FullName) \n",
    "                |> sprintf \"Unexpected property %s\" \n",
    "                |> failwith\n",
    "    } |> Seq.map (fun (k,v) -> { Property= k; Value= v } )\n",
    "\n",
    "\n",
    "//nodeInfo decz.[\"Plus18\"].Output |> Util.Table\n",
    "decz.[\"Plus18\"].Output |> nodeInfo |> Util.Table\n",
    "\n",
    "//decz.[\"Plus18\"].AsString()\n"
   ]
  },
  {
   "cell_type": "code",
   "execution_count": 136,
   "metadata": {
    "collapsed": false
   },
   "outputs": [
    {
     "data": {
      "text/plain": [
       "\"[{\"Property\":\"AsString\",\"Value\":\"Output('+', [2], [*, #])\"},{\"Property\":\"Shape\",\"Value\":\"[2]\"},{\"Property\":\"Name\",\"Value\":\"+\"},{\"Property\":\"Uid\",\"Value\":\"Plus18_Output_0\"},{\"Property\":\"Kind\",\"Value\":\"Output\"},{\"Property\":\"DataType\",\"Value\":\"Float\"},{\"Property\":\"DynamicAxes\",\"Value\":\"Axis('defaultDynamicAxis'), Axis('defaultBatchAxis')\"},{\"Property\":\"IsSparse\",\"Value\":\"False\"},{\"Property\":\"IsInput\",\"Value\":\"False\"},{\"Property\":\"IsOutput\",\"Value\":\"True\"},{\"Property\":\"IsParameter\",\"Value\":\"False\"},{\"Property\":\"IsConstant\",\"Value\":\"False\"},{\"Property\":\"IsPlaceholder\",\"Value\":\"False\"},{\"Property\":\"Owner\",\"Value\":\"fun Plus18\"},{\"Property\":\"NeedsGradient\",\"Value\":\"True\"},{\"Property\":\"CurrentValueTimeStamp\",\"Value\":\"CurrentValueTimeStamp: Int32 -> Exception has been thrown by the target of an invocation.\"}]\""
      ]
     },
     "execution_count": 136,
     "metadata": {},
     "output_type": "execute_result"
    }
   ],
   "source": [
    "open Newtonsoft.Json\n",
    "\n",
    "decz.[\"Plus18\"].Output |> nodeInfo |> JsonConvert.SerializeObject"
   ]
  },
  {
   "cell_type": "code",
   "execution_count": 182,
   "metadata": {
    "collapsed": true
   },
   "outputs": [],
   "source": [
    "// https://github.com/Microsoft/CNTK/blob/master/bindings/python/cntk/logging/graph.py\n",
    "\n",
    "let extractGraphVizDotNotation (f: Function) = \n",
    "        let varText (v:Variable) = (if String.IsNullOrEmpty v.Name then v.Uid else v.Name) + \"\\\\n\" + v.Shape.AsString()\n",
    "        let funText (f: Function) = if String.IsNullOrEmpty f.Name then f.Uid else f.Name\n",
    "    \n",
    "        let varLabel (v: Variable) = sprintf \"%s [label=\\\"%s\\\"];\" v.Uid (varText v)\n",
    "        let funLabel (f: Function) = sprintf \"%s [label=\\\"%s\\\"];\" f.Uid (funText f)\n",
    "\n",
    "        let varShape (v: Variable) =\n",
    "            match v with\n",
    "            | _ when v.IsInput -> sprintf \"%s [shape=invhouse, color=yellow];\" v.Uid\n",
    "            | _ when v.IsOutput -> sprintf \"%s [shape=invhouse, color=gray];\" v.Uid\n",
    "            | _ when v.IsPlaceholder -> sprintf \"%s [shape=invhouse, color=yellow];\" v.Uid\n",
    "            | _ when v.IsParameter -> sprintf \"%s [shape=diamond, color=green];\" v.Uid\n",
    "            | _ when v.IsConstant -> sprintf \"%s [shape=rectangle, color=lightblue];\" v.Uid\n",
    "            | _ -> sprintf \"%s [shape=circle, color=purple];\" v.Uid\n",
    "\n",
    "        let funShape (f: Function) = \n",
    "            match f with \n",
    "            | _ when f.IsComposite -> sprintf \"%s [shape=ellipse, fontsize=20, penwidth=2, peripheries=2];\" f.Uid\n",
    "            | _ when f.IsPrimitive -> sprintf \"%s [shape=ellipse, fontsize=20, penwidth=2, size=0.6];\" f.Uid\n",
    "            | _ -> sprintf \"%s [shape=ellipse, fontsize=20, penwidth=4];\" f.Uid\n",
    "\n",
    "        let varEdges (f: Function) (v: Variable) = \n",
    "            let inputIndex = f.Inputs |> Seq.map (fun v -> v.Uid) |> Set\n",
    "            let outputIndex = f.Outputs |> Seq.map (fun v -> v.Uid) |> Set\n",
    "            match inputIndex.Contains(v.Uid), outputIndex.Contains(v.Uid) with \n",
    "            | true, _ when v.IsParameter -> sprintf \"%s -> %s [label=\\\"input param\\\"];\" v.Uid f.Uid |> Some\n",
    "            | _, true when v.IsParameter -> sprintf \"%s -> %s [label=\\\"output param\\\"];\" f.Uid v.Uid|> Some\n",
    "            | true, _ -> sprintf \"%s -> %s [label=input];\" v.Uid f.Uid|> Some \n",
    "            | _, true -> \n",
    "                if f.Outputs.Count = 1 && f.Output.Uid = v.Uid then\n",
    "                    printfn \"%s %s %s %s\" f.Outputs.[0].Uid f.Output.Uid v.Uid v.Owner.Output.Uid\n",
    "                    sprintf \"%s -> %s [label=output];\" f.Uid v.Owner.Output.Uid |> Some\n",
    "                else sprintf \"%s -> %s [label=output];\" f.Uid v.Uid|> Some\n",
    "            //| _ when v.IsParameter -> sprintf \"%s -> %s [label=param];\" f.Uid v.Uid|> Some\n",
    "            | _ -> None //sprintf \"%s -> %s;\" f.Uid v.Uid\n",
    "\n",
    "        let vars = Seq.append f.Inputs f.Outputs\n",
    "        let funs = seq { \n",
    "                yield f\n",
    "                yield f.RootFunction;\n",
    "                yield! vars |> Seq.filter (fun v -> v.Owner |> isNull |> not) |> Seq.map (fun v -> v.Owner) \n",
    "            } \n",
    "\n",
    "        seq {        \n",
    "            if f.Uid <> f.RootFunction.Uid then yield sprintf \"%s -> %s [label=\\\"root function\\\"];\" f.RootFunction.Uid f.Uid\n",
    "            yield! vars |> Seq.map varShape\n",
    "            yield! vars |> Seq.map varLabel\n",
    "            yield! vars |> Seq.map (varEdges f) |> Seq.choose id\n",
    "            yield! funs |> Seq.map funLabel \n",
    "            yield! funs |> Seq.map funShape\n",
    "        } |> Seq.distinct\n"
   ]
  },
  {
   "cell_type": "code",
   "execution_count": 183,
   "metadata": {
    "collapsed": false,
    "scrolled": false
   },
   "outputs": [
    {
     "data": {
      "text/html": [
       "<script>$(document).trigger('RENDER_GRAPH', [`digraph { Input0 -> Times4 [label=input];\n",
       "Input0 [label=\"Features\\n[2]\"];\n",
       "Input0 [shape=invhouse, color=yellow];\n",
       "Parameter13 -> Times15 [label=\"input param\"];\n",
       "Parameter13 [label=\"Weights\\n[2 x 5]\"];\n",
       "Parameter13 [shape=diamond, color=green];\n",
       "Parameter14 -> Plus18 [label=\"input param\"];\n",
       "Parameter14 [label=\"Bias\\n[2]\"];\n",
       "Parameter14 [shape=diamond, color=green];\n",
       "Parameter2 -> Times4 [label=\"input param\"];\n",
       "Parameter2 [label=\"Weights\\n[5 x 2]\"];\n",
       "Parameter2 [shape=diamond, color=green];\n",
       "Parameter3 -> Plus7 [label=\"input param\"];\n",
       "Parameter3 [label=\"Bias\\n[5]\"];\n",
       "Parameter3 [shape=diamond, color=green];\n",
       "Plus18 -> Plus18_Output_0 [label=output];\n",
       "Plus18 [label=\"+\"];\n",
       "Plus18 [shape=ellipse, fontsize=20, penwidth=2, size=0.6];\n",
       "Plus18_Output_0 [label=\"+\\n[2]\"];\n",
       "Plus18_Output_0 [shape=invhouse, color=gray];\n",
       "Plus7 -> Plus7_Output_0 [label=output];\n",
       "Plus7 [label=\"+\"];\n",
       "Plus7 [shape=ellipse, fontsize=20, penwidth=2, size=0.6];\n",
       "Plus7_Output_0 -> StableSigmoid10 [label=input];\n",
       "Plus7_Output_0 [label=\"+\\n[5]\"];\n",
       "Plus7_Output_0 [shape=invhouse, color=gray];\n",
       "StableSigmoid10 -> StableSigmoid10_Output_0 [label=output];\n",
       "StableSigmoid10 [label=\"StableSigmoid10\"];\n",
       "StableSigmoid10 [shape=ellipse, fontsize=20, penwidth=2, size=0.6];\n",
       "StableSigmoid10_Output_0 -> Times15 [label=input];\n",
       "StableSigmoid10_Output_0 [label=\"StableSigmoid10_Output_0\\n[5]\"];\n",
       "StableSigmoid10_Output_0 [shape=invhouse, color=gray];\n",
       "Times15 -> Times15_Output_0 [label=output];\n",
       "Times15 [label=\"@\"];\n",
       "Times15 [shape=ellipse, fontsize=20, penwidth=2, size=0.6];\n",
       "Times15_Output_0 -> Plus18 [label=input];\n",
       "Times15_Output_0 [label=\"@\\n[2]\"];\n",
       "Times15_Output_0 [shape=invhouse, color=gray];\n",
       "Times4 -> Times4_Output_0 [label=output];\n",
       "Times4 [label=\"@\"];\n",
       "Times4 [shape=ellipse, fontsize=20, penwidth=2, size=0.6];\n",
       "Times4_Output_0 -> Plus7 [label=input];\n",
       "Times4_Output_0 [label=\"@\\n[5]\"];\n",
       "Times4_Output_0 [shape=invhouse, color=gray]; }`]);</script>"
      ],
      "text/plain": [
       "{Html =\n",
       "  \"<script>$(document).trigger('RENDER_GRAPH', [`digraph { Input0 -> Times4 [label=input];\n",
       "Input0 [label=\"Features\\n[2]\"];\n",
       "Input0 [shape=invhouse, color=yellow];\n",
       "Parameter13 -> Times15 [label=\"input param\"];\n",
       "Parameter13 [label=\"Weights\\n[2 x 5]\"];\n",
       "Parameter13 [shape=diamond, color=green];\n",
       "Parameter14 -> Plus18 [label=\"input param\"];\n",
       "Parameter14 [label=\"Bias\\n[2]\"];\n",
       "Parameter14 [shape=diamond, color=green];\n",
       "Parameter2 -> Times4 [label=\"input param\"];\n",
       "Parameter2 [label=\"Weights\\n[5 x 2]\"];\n",
       "Parameter2 [shape=diamond, color=green];\n",
       "Parameter3 -> Plus7 [label=\"input param\"];\n",
       "Parameter3 [label=\"Bias\\n[5]\"];\n",
       "Parameter3 [shape=diamond, color=green];\n",
       "Plus18 -> Plus18_Output_0 [label=output];\n",
       "Plus18 [label=\"+\"];\n",
       "Plus18 [shape=ellipse, fontsize=20, penwidth=2, size=0.6];\n",
       "Plus18_Output_0 [label=\"+\\n[2]\"];\n",
       "Plus18_Output_0 [shape=invhouse, color=gray];\n",
       "Plus7 -> Plus7_Output_0 [label=output];\n",
       "Plus7 [label=\"+\"];\n",
       "Plus7 [shape=ellipse, fontsize=20, penwidth=2, size=0.6];\n",
       "Plus7_Output_0 -> StableSigmoid10 [label=input];\n",
       "Plus7_Output_0 [label=\"+\\n[5]\"];\n",
       "Plus7_Output_0 [shape=invhouse, color=gray];\n",
       "StableSigmoid10 -> StableSigmoid10_Output_0 [label=output];\n",
       "StableSigmoid10 [label=\"StableSigmoid10\"];\n",
       "StableSigmoid10 [shape=ellipse, fontsize=20, penwidth=2, size=0.6];\n",
       "StableSigmoid10_Output_0 -> Times15 [label=input];\n",
       "StableSigmoid10_Output_0 [label=\"StableSigmoid10_Output_0\\n[5]\"];\n",
       "StableSigmoid10_Output_0 [shape=invhouse, color=gray];\n",
       "Times15 -> Times15_Output_0 [label=output];\n",
       "Times15 [label=\"@\"];\n",
       "Times15 [shape=ellipse, fontsize=20, penwidth=2, size=0.6];\n",
       "Times15_Output_0 -> Plus18 [label=input];\n",
       "Times15_Output_0 [label=\"@\\n[2]\"];\n",
       "Times15_Output_0 [shape=invhouse, color=gray];\n",
       "Times4 -> Times4_Output_0 [label=output];\n",
       "Times4 [label=\"@\"];\n",
       "Times4 [shape=ellipse, fontsize=20, penwidth=2, size=0.6];\n",
       "Times4_Output_0 -> Plus7 [label=input];\n",
       "Times4_Output_0 [label=\"@\\n[5]\"];\n",
       "Times4_Output_0 [shape=invhouse, color=gray]; }`]);</script>\";}"
      ]
     },
     "execution_count": 183,
     "metadata": {},
     "output_type": "execute_result"
    },
    {
     "data": {
      "text/plain": [
       "Plus18_Output_0 Plus18_Output_0 Plus18_Output_0 Plus18_Output_0\r\n",
       "Times15_Output_0 Times15_Output_0 Times15_Output_0 Times15_Output_0\r\n",
       "StableSigmoid10_Output_0 StableSigmoid10_Output_0 StableSigmoid10_Output_0 StableSigmoid10_Output_0\r\n",
       "Plus7_Output_0 Plus7_Output_0 Plus7_Output_0 Plus7_Output_0\r\n",
       "Times4_Output_0 Times4_Output_0 Times4_Output_0 Times4_Output_0\r\n"
      ]
     },
     "metadata": {},
     "output_type": "display_data"
    }
   ],
   "source": [
    "       \n",
    "let createGraphVizDiagram (f:Function) =\n",
    "    f \n",
    "    |> decomposeFunction \n",
    "    |> Seq.cast<KeyValuePair<string,Function>> \n",
    "    |> Seq.map(fun pair -> pair.Value) \n",
    "    //|> Seq.distinct\n",
    "    //|> Seq.where(fun v -> v.Owner)\n",
    "//     |> Seq.where (function Fun _ -> true | _ -> false)\n",
    "    |> Seq.where (fun f -> f.IsComposite |> not && (f.IsPrimitive && f.IsBlock |> not && f.Outputs.Count = 1) )\n",
    "    |> Seq.collect extractGraphVizDotNotation\n",
    "    |> Seq.distinct //|> Array.ofSeq |> Array.filter (fun str -> str.Contains(\"->\")) |> Array.sort\n",
    "    |> Seq.sort\n",
    "    \n",
    "    \n",
    "//createGraphVizDiagram z |> Array.ofSeq\n",
    "\n",
    "createGraphVizDiagram z \n",
    "|> Seq.reduce(sprintf \"%s\\n%s\")\n",
    "|> sprintf \"digraph { %s }\"\n",
    "|> renderDot"
   ]
  },
  {
   "cell_type": "code",
   "execution_count": null,
   "metadata": {
    "collapsed": true
   },
   "outputs": [],
   "source": [
    "type Tensor = \n",
    "| F of Function \n",
    "| V of Variable\n",
    "with \n",
    "    member x.Uid = match x with F f -> f.Uid | V v -> v.Uid\n",
    "    member x.AsString = match x with F f -> f.AsString() | V v -> v.AsString()\n",
    "\n",
    "let decomposeTensor (root: Tensor) = \n",
    "        \n",
    "        let visited = Dictionary<string, Tensor>()            \n",
    "\n",
    "        let rec search (f: Tensor) = \n",
    "            visited.Add(f.Uid, f)\n",
    "        \n",
    "            seq {   \n",
    "                match f with\n",
    "                | F f' -> \n",
    "                    yield! f'.Inputs |> Seq.map V\n",
    "                    yield! f'.Outputs |> Seq.map V\n",
    "                    yield  f'.RootFunction |> F \n",
    "                | V v' -> \n",
    "                    yield f\n",
    "                    if v'.Owner |> isNull |> not then \n",
    "                        yield v'.Owner |> F\n",
    "            }\n",
    "            |> Seq.filter (fun f -> visited.ContainsKey(f.Uid) |> not)\n",
    "            |> Seq.iter search\n",
    "\n",
    "        search root\n",
    "    \n",
    "        visited"
   ]
  },
  {
   "cell_type": "code",
   "execution_count": 209,
   "metadata": {
    "collapsed": false
   },
   "outputs": [
    {
     "data": {
      "text/plain": [
       "{ \n",
       "\t\"CompositeFunction19\": [{\"Property\":\"Type\",\"Value\":\"CNTK.Function\"},{\"Property\":\"AsString()\",\"Value\":\"Composite(Plus): Input('Features', [2], [*, #]) -> Output('+', [2], [*, #])\"},{\"Property\":\"Name\",\"Value\":\"+\"},{\"Property\":\"Uid\",\"Value\":\"CompositeFunction19\"},{\"Property\":\"RootFunction\",\"Value\":\"fun Plus18\"},{\"Property\":\"Outputs\",\"Value\":\"var Plus18_Output_0 Output('+', [2], [*, #])\"},{\"Property\":\"Output\",\"Value\":\"var Plus18_Output_0\"},{\"Property\":\"OpName\",\"Value\":\"CompositeFunctionOpName\"},{\"Property\":\"IsComposite\",\"Value\":\"True\"},{\"Property\":\"IsPrimitive\",\"Value\":\"False\"},{\"Property\":\"IsBlock\",\"Value\":\"False\"},{\"Property\":\"CurrentVersion\",\"Value\":\"3\"},{\"Property\":\"Arguments\",\"Value\":\"var Input0 Input('Features', [2], [*, #])\"},{\"Property\":\"Inputs\",\"Value\":\"var Parameter13 Parameter('Weights', [2 x 5], []), var Parameter2 Parameter('Weights', [5 x 2], []), var Input0 Input('Features', [2], [*, #]), var Parameter3 Parameter('Bias', [5], []), var Parameter14 Parameter('Bias', [2], [])\"}],\n",
       "\t\"Parameter13\": [{\"Property\":\"Type\",\"Value\":\"CNTK.Variable\"},{\"Property\":\"AsString\",\"Value\":\"Parameter('Weights', [2 x 5], [])\"},{\"Property\":\"Shape\",\"Value\":\"[2 x 5]\"},{\"Property\":\"Name\",\"Value\":\"Weights\"},{\"Property\":\"Uid\",\"Value\":\"Parameter13\"},{\"Property\":\"Kind\",\"Value\":\"Parameter\"},{\"Property\":\"DataType\",\"Value\":\"Float\"},{\"Property\":\"DynamicAxes\",\"Value\":\"DynamicAxes: IList`1 -> The input sequence was empty.\\r\\nParameter name: source\"},{\"Property\":\"IsSparse\",\"Value\":\"False\"},{\"Property\":\"IsInput\",\"Value\":\"False\"},{\"Property\":\"IsOutput\",\"Value\":\"False\"},{\"Property\":\"IsParameter\",\"Value\":\"True\"},{\"Property\":\"IsConstant\",\"Value\":\"False\"},{\"Property\":\"IsPlaceholder\",\"Value\":\"False\"},{\"Property\":\"Owner\",\"Value\":\"Owner: Function -> Object reference not set to an instance of an object.\"},{\"Property\":\"NeedsGradient\",\"Value\":\"True\"},{\"Property\":\"CurrentValueTimeStamp\",\"Value\":\"0\"}],\n",
       "\t\"Parameter2\": [{\"Property\":\"Type\",\"Value\":\"CNTK.Variable\"},{\"Property\":\"AsString\",\"Value\":\"Parameter('Weights', [5 x 2], [])\"},{\"Property\":\"Shape\",\"Value\":\"[5 x 2]\"},{\"Property\":\"Name\",\"Value\":\"Weights\"},{\"Property\":\"Uid\",\"Value\":\"Parameter2\"},{\"Property\":\"Kind\",\"Value\":\"Parameter\"},{\"Property\":\"DataType\",\"Value\":\"Float\"},{\"Property\":\"DynamicAxes\",\"Value\":\"DynamicAxes: IList`1 -> The input sequence was empty.\\r\\nParameter name: source\"},{\"Property\":\"IsSparse\",\"Value\":\"False\"},{\"Property\":\"IsInput\",\"Value\":\"False\"},{\"Property\":\"IsOutput\",\"Value\":\"False\"},{\"Property\":\"IsParameter\",\"Value\":\"True\"},{\"Property\":\"IsConstant\",\"Value\":\"False\"},{\"Property\":\"IsPlaceholder\",\"Value\":\"False\"},{\"Property\":\"Owner\",\"Value\":\"Owner: Function -> Object reference not set to an instance of an object.\"},{\"Property\":\"NeedsGradient\",\"Value\":\"True\"},{\"Property\":\"CurrentValueTimeStamp\",\"Value\":\"0\"}],\n",
       "\t\"Input0\": [{\"Property\":\"Type\",\"Value\":\"CNTK.Variable\"},{\"Property\":\"AsString\",\"Value\":\"Input('Features', [2], [*, #])\"},{\"Property\":\"Shape\",\"Value\":\"[2]\"},{\"Property\":\"Name\",\"Value\":\"Features\"},{\"Property\":\"Uid\",\"Value\":\"Input0\"},{\"Property\":\"Kind\",\"Value\":\"Input\"},{\"Property\":\"DataType\",\"Value\":\"Float\"},{\"Property\":\"DynamicAxes\",\"Value\":\"Axis('defaultDynamicAxis'), Axis('defaultBatchAxis')\"},{\"Property\":\"IsSparse\",\"Value\":\"False\"},{\"Property\":\"IsInput\",\"Value\":\"True\"},{\"Property\":\"IsOutput\",\"Value\":\"False\"},{\"Property\":\"IsParameter\",\"Value\":\"False\"},{\"Property\":\"IsConstant\",\"Value\":\"False\"},{\"Property\":\"IsPlaceholder\",\"Value\":\"False\"},{\"Property\":\"Owner\",\"Value\":\"Owner: Function -> Object reference not set to an instance of an object.\"},{\"Property\":\"NeedsGradient\",\"Value\":\"False\"},{\"Property\":\"CurrentValueTimeStamp\",\"Value\":\"CurrentValueTimeStamp: Int32 -> Exception has been thrown by the target of an invocation.\"}],\n",
       "\t\"Parameter3\": [{\"Property\":\"Type\",\"Value\":\"CNTK.Variable\"},{\"Property\":\"AsString\",\"Value\":\"Parameter('Bias', [5], [])\"},{\"Property\":\"Shape\",\"Value\":\"[5]\"},{\"Property\":\"Name\",\"Value\":\"Bias\"},{\"Property\":\"Uid\",\"Value\":\"Parameter3\"},{\"Property\":\"Kind\",\"Value\":\"Parameter\"},{\"Property\":\"DataType\",\"Value\":\"Float\"},{\"Property\":\"DynamicAxes\",\"Value\":\"DynamicAxes: IList`1 -> The input sequence was empty.\\r\\nParameter name: source\"},{\"Property\":\"IsSparse\",\"Value\":\"False\"},{\"Property\":\"IsInput\",\"Value\":\"False\"},{\"Property\":\"IsOutput\",\"Value\":\"False\"},{\"Property\":\"IsParameter\",\"Value\":\"True\"},{\"Property\":\"IsConstant\",\"Value\":\"False\"},{\"Property\":\"IsPlaceholder\",\"Value\":\"False\"},{\"Property\":\"Owner\",\"Value\":\"Owner: Function -> Object reference not set to an instance of an object.\"},{\"Property\":\"NeedsGradient\",\"Value\":\"True\"},{\"Property\":\"CurrentValueTimeStamp\",\"Value\":\"0\"}],\n",
       "\t\"Parameter14\": [{\"Property\":\"Type\",\"Value\":\"CNTK.Variable\"},{\"Property\":\"AsString\",\"Value\":\"Parameter('Bias', [2], [])\"},{\"Property\":\"Shape\",\"Value\":\"[2]\"},{\"Property\":\"Name\",\"Value\":\"Bias\"},{\"Property\":\"Uid\",\"Value\":\"Parameter14\"},{\"Property\":\"Kind\",\"Value\":\"Parameter\"},{\"Property\":\"DataType\",\"Value\":\"Float\"},{\"Property\":\"DynamicAxes\",\"Value\":\"DynamicAxes: IList`1 -> The input sequence was empty.\\r\\nParameter name: source\"},{\"Property\":\"IsSparse\",\"Value\":\"False\"},{\"Property\":\"IsInput\",\"Value\":\"False\"},{\"Property\":\"IsOutput\",\"Value\":\"False\"},{\"Property\":\"IsParameter\",\"Value\":\"True\"},{\"Property\":\"IsConstant\",\"Value\":\"False\"},{\"Property\":\"IsPlaceholder\",\"Value\":\"False\"},{\"Property\":\"Owner\",\"Value\":\"Owner: Function -> Object reference not set to an instance of an object.\"},{\"Property\":\"NeedsGradient\",\"Value\":\"True\"},{\"Property\":\"CurrentValueTimeStamp\",\"Value\":\"0\"}],\n",
       "\t\"Plus18_Output_0\": [{\"Property\":\"Type\",\"Value\":\"CNTK.Variable\"},{\"Property\":\"AsString\",\"Value\":\"Output('+', [2], [*, #])\"},{\"Property\":\"Shape\",\"Value\":\"[2]\"},{\"Property\":\"Name\",\"Value\":\"+\"},{\"Property\":\"Uid\",\"Value\":\"Plus18_Output_0\"},{\"Property\":\"Kind\",\"Value\":\"Output\"},{\"Property\":\"DataType\",\"Value\":\"Float\"},{\"Property\":\"DynamicAxes\",\"Value\":\"Axis('defaultDynamicAxis'), Axis('defaultBatchAxis')\"},{\"Property\":\"IsSparse\",\"Value\":\"False\"},{\"Property\":\"IsInput\",\"Value\":\"False\"},{\"Property\":\"IsOutput\",\"Value\":\"True\"},{\"Property\":\"IsParameter\",\"Value\":\"False\"},{\"Property\":\"IsConstant\",\"Value\":\"False\"},{\"Property\":\"IsPlaceholder\",\"Value\":\"False\"},{\"Property\":\"Owner\",\"Value\":\"fun Plus18\"},{\"Property\":\"NeedsGradient\",\"Value\":\"True\"},{\"Property\":\"CurrentValueTimeStamp\",\"Value\":\"CurrentValueTimeStamp: Int32 -> Exception has been thrown by the target of an invocation.\"}],\n",
       "\t\"Plus18\": [{\"Property\":\"Type\",\"Value\":\"CNTK.Function\"},{\"Property\":\"AsString()\",\"Value\":\"Plus: Output('@', [2], [*, #]) -> Output('+', [2], [*, #])\"},{\"Property\":\"Name\",\"Value\":\"+\"},{\"Property\":\"Uid\",\"Value\":\"Plus18\"},{\"Property\":\"RootFunction\",\"Value\":\"fun Plus18\"},{\"Property\":\"Outputs\",\"Value\":\"var Plus18_Output_0 Output('+', [2], [*, #])\"},{\"Property\":\"Output\",\"Value\":\"var Plus18_Output_0\"},{\"Property\":\"OpName\",\"Value\":\"Plus\"},{\"Property\":\"IsComposite\",\"Value\":\"False\"},{\"Property\":\"IsPrimitive\",\"Value\":\"True\"},{\"Property\":\"IsBlock\",\"Value\":\"False\"},{\"Property\":\"CurrentVersion\",\"Value\":\"24\"},{\"Property\":\"Arguments\",\"Value\":\"var Times15_Output_0 Output('@', [2], [*, #])\"},{\"Property\":\"Inputs\",\"Value\":\"var Times15_Output_0 Output('@', [2], [*, #]), var Parameter14 Parameter('Bias', [2], [])\"}],\n",
       "\t\"Times15_Output_0\": [{\"Property\":\"Type\",\"Value\":\"CNTK.Variable\"},{\"Property\":\"AsString\",\"Value\":\"Output('@', [2], [*, #])\"},{\"Property\":\"Shape\",\"Value\":\"[2]\"},{\"Property\":\"Name\",\"Value\":\"@\"},{\"Property\":\"Uid\",\"Value\":\"Times15_Output_0\"},{\"Property\":\"Kind\",\"Value\":\"Output\"},{\"Property\":\"DataType\",\"Value\":\"Float\"},{\"Property\":\"DynamicAxes\",\"Value\":\"Axis('defaultDynamicAxis'), Axis('defaultBatchAxis')\"},{\"Property\":\"IsSparse\",\"Value\":\"False\"},{\"Property\":\"IsInput\",\"Value\":\"False\"},{\"Property\":\"IsOutput\",\"Value\":\"True\"},{\"Property\":\"IsParameter\",\"Value\":\"False\"},{\"Property\":\"IsConstant\",\"Value\":\"False\"},{\"Property\":\"IsPlaceholder\",\"Value\":\"False\"},{\"Property\":\"Owner\",\"Value\":\"fun Times15\"},{\"Property\":\"NeedsGradient\",\"Value\":\"True\"},{\"Property\":\"CurrentValueTimeStamp\",\"Value\":\"CurrentValueTimeStamp: Int32 -> Exception has been thrown by the target of an invocation.\"}],\n",
       "\t\"Times15\": [{\"Property\":\"Type\",\"Value\":\"CNTK.Function\"},{\"Property\":\"AsString()\",\"Value\":\"Times: Output('StableSigmoid10_Output_0', [5], [*, #]) -> Output('@', [2], [*, #])\"},{\"Property\":\"Name\",\"Value\":\"@\"},{\"Property\":\"Uid\",\"Value\":\"Times15\"},{\"Property\":\"RootFunction\",\"Value\":\"fun Times15\"},{\"Property\":\"Outputs\",\"Value\":\"var Times15_Output_0 Output('@', [2], [*, #])\"},{\"Property\":\"Output\",\"Value\":\"var Times15_Output_0\"},{\"Property\":\"OpName\",\"Value\":\"Times\"},{\"Property\":\"IsComposite\",\"Value\":\"False\"},{\"Property\":\"IsPrimitive\",\"Value\":\"True\"},{\"Property\":\"IsBlock\",\"Value\":\"False\"},{\"Property\":\"CurrentVersion\",\"Value\":\"24\"},{\"Property\":\"Arguments\",\"Value\":\"var StableSigmoid10_Output_0 Output('StableSigmoid10_Output_0', [5], [*, #])\"},{\"Property\":\"Inputs\",\"Value\":\"var Parameter13 Parameter('Weights', [2 x 5], []), var StableSigmoid10_Output_0 Output('StableSigmoid10_Output_0', [5], [*, #])\"}],\n",
       "\t\"StableSigmoid10_Output_0\": [{\"Property\":\"Type\",\"Value\":\"CNTK.Variable\"},{\"Property\":\"AsString\",\"Value\":\"Output('StableSigmoid10_Output_0', [5], [*, #])\"},{\"Property\":\"Shape\",\"Value\":\"[5]\"},{\"Property\":\"Name\",\"Value\":\"\"},{\"Property\":\"Uid\",\"Value\":\"StableSigmoid10_Output_0\"},{\"Property\":\"Kind\",\"Value\":\"Output\"},{\"Property\":\"DataType\",\"Value\":\"Float\"},{\"Property\":\"DynamicAxes\",\"Value\":\"Axis('defaultDynamicAxis'), Axis('defaultBatchAxis')\"},{\"Property\":\"IsSparse\",\"Value\":\"False\"},{\"Property\":\"IsInput\",\"Value\":\"False\"},{\"Property\":\"IsOutput\",\"Value\":\"True\"},{\"Property\":\"IsParameter\",\"Value\":\"False\"},{\"Property\":\"IsConstant\",\"Value\":\"False\"},{\"Property\":\"IsPlaceholder\",\"Value\":\"False\"},{\"Property\":\"Owner\",\"Value\":\"fun StableSigmoid10\"},{\"Property\":\"NeedsGradient\",\"Value\":\"True\"},{\"Property\":\"CurrentValueTimeStamp\",\"Value\":\"CurrentValueTimeStamp: Int32 -> Exception has been thrown by the target of an invocation.\"}],\n",
       "\t\"StableSigmoid10\": [{\"Property\":\"Type\",\"Value\":\"CNTK.Function\"},{\"Property\":\"AsString()\",\"Value\":\"StableSigmoid: Output('+', [5], [*, #]) -> Output('StableSigmoid10_Output_0', [5], [*, #])\"},{\"Property\":\"Name\",\"Value\":\"\"},{\"Property\":\"Uid\",\"Value\":\"StableSigmoid10\"},{\"Property\":\"RootFunction\",\"Value\":\"fun StableSigmoid10\"},{\"Property\":\"Outputs\",\"Value\":\"var StableSigmoid10_Output_0 Output('StableSigmoid10_Output_0', [5], [*, #])\"},{\"Property\":\"Output\",\"Value\":\"var StableSigmoid10_Output_0\"},{\"Property\":\"OpName\",\"Value\":\"StableSigmoid\"},{\"Property\":\"IsComposite\",\"Value\":\"False\"},{\"Property\":\"IsPrimitive\",\"Value\":\"True\"},{\"Property\":\"IsBlock\",\"Value\":\"False\"},{\"Property\":\"CurrentVersion\",\"Value\":\"24\"},{\"Property\":\"Arguments\",\"Value\":\"var Plus7_Output_0 Output('+', [5], [*, #])\"},{\"Property\":\"Inputs\",\"Value\":\"var Plus7_Output_0 Output('+', [5], [*, #])\"}],\n",
       "\t\"Plus7_Output_0\": [{\"Property\":\"Type\",\"Value\":\"CNTK.Variable\"},{\"Property\":\"AsString\",\"Value\":\"Output('+', [5], [*, #])\"},{\"Property\":\"Shape\",\"Value\":\"[5]\"},{\"Property\":\"Name\",\"Value\":\"+\"},{\"Property\":\"Uid\",\"Value\":\"Plus7_Output_0\"},{\"Property\":\"Kind\",\"Value\":\"Output\"},{\"Property\":\"DataType\",\"Value\":\"Float\"},{\"Property\":\"DynamicAxes\",\"Value\":\"Axis('defaultDynamicAxis'), Axis('defaultBatchAxis')\"},{\"Property\":\"IsSparse\",\"Value\":\"False\"},{\"Property\":\"IsInput\",\"Value\":\"False\"},{\"Property\":\"IsOutput\",\"Value\":\"True\"},{\"Property\":\"IsParameter\",\"Value\":\"False\"},{\"Property\":\"IsConstant\",\"Value\":\"False\"},{\"Property\":\"IsPlaceholder\",\"Value\":\"False\"},{\"Property\":\"Owner\",\"Value\":\"fun Plus7\"},{\"Property\":\"NeedsGradient\",\"Value\":\"True\"},{\"Property\":\"CurrentValueTimeStamp\",\"Value\":\"CurrentValueTimeStamp: Int32 -> Exception has been thrown by the target of an invocation.\"}],\n",
       "\t\"Plus7\": [{\"Property\":\"Type\",\"Value\":\"CNTK.Function\"},{\"Property\":\"AsString()\",\"Value\":\"Plus: Output('@', [5], [*, #]) -> Output('+', [5], [*, #])\"},{\"Property\":\"Name\",\"Value\":\"+\"},{\"Property\":\"Uid\",\"Value\":\"Plus7\"},{\"Property\":\"RootFunction\",\"Value\":\"fun Plus7\"},{\"Property\":\"Outputs\",\"Value\":\"var Plus7_Output_0 Output('+', [5], [*, #])\"},{\"Property\":\"Output\",\"Value\":\"var Plus7_Output_0\"},{\"Property\":\"OpName\",\"Value\":\"Plus\"},{\"Property\":\"IsComposite\",\"Value\":\"False\"},{\"Property\":\"IsPrimitive\",\"Value\":\"True\"},{\"Property\":\"IsBlock\",\"Value\":\"False\"},{\"Property\":\"CurrentVersion\",\"Value\":\"24\"},{\"Property\":\"Arguments\",\"Value\":\"var Times4_Output_0 Output('@', [5], [*, #])\"},{\"Property\":\"Inputs\",\"Value\":\"var Times4_Output_0 Output('@', [5], [*, #]), var Parameter3 Parameter('Bias', [5], [])\"}],\n",
       "\t\"Times4_Output_0\": [{\"Property\":\"Type\",\"Value\":\"CNTK.Variable\"},{\"Property\":\"AsString\",\"Value\":\"Output('@', [5], [*, #])\"},{\"Property\":\"Shape\",\"Value\":\"[5]\"},{\"Property\":\"Name\",\"Value\":\"@\"},{\"Property\":\"Uid\",\"Value\":\"Times4_Output_0\"},{\"Property\":\"Kind\",\"Value\":\"Output\"},{\"Property\":\"DataType\",\"Value\":\"Float\"},{\"Property\":\"DynamicAxes\",\"Value\":\"Axis('defaultDynamicAxis'), Axis('defaultBatchAxis')\"},{\"Property\":\"IsSparse\",\"Value\":\"False\"},{\"Property\":\"IsInput\",\"Value\":\"False\"},{\"Property\":\"IsOutput\",\"Value\":\"True\"},{\"Property\":\"IsParameter\",\"Value\":\"False\"},{\"Property\":\"IsConstant\",\"Value\":\"False\"},{\"Property\":\"IsPlaceholder\",\"Value\":\"False\"},{\"Property\":\"Owner\",\"Value\":\"fun Times4\"},{\"Property\":\"NeedsGradient\",\"Value\":\"True\"},{\"Property\":\"CurrentValueTimeStamp\",\"Value\":\"CurrentValueTimeStamp: Int32 -> Exception has been thrown by the target of an invocation.\"}],\n",
       "\t\"Times4\": [{\"Property\":\"Type\",\"Value\":\"CNTK.Function\"},{\"Property\":\"AsString()\",\"Value\":\"Times: Input('Features', [2], [*, #]) -> Output('@', [5], [*, #])\"},{\"Property\":\"Name\",\"Value\":\"@\"},{\"Property\":\"Uid\",\"Value\":\"Times4\"},{\"Property\":\"RootFunction\",\"Value\":\"fun Times4\"},{\"Property\":\"Outputs\",\"Value\":\"var Times4_Output_0 Output('@', [5], [*, #])\"},{\"Property\":\"Output\",\"Value\":\"var Times4_Output_0\"},{\"Property\":\"OpName\",\"Value\":\"Times\"},{\"Property\":\"IsComposite\",\"Value\":\"False\"},{\"Property\":\"IsPrimitive\",\"Value\":\"True\"},{\"Property\":\"IsBlock\",\"Value\":\"False\"},{\"Property\":\"CurrentVersion\",\"Value\":\"24\"},{\"Property\":\"Arguments\",\"Value\":\"var Input0 Input('Features', [2], [*, #])\"},{\"Property\":\"Inputs\",\"Value\":\"var Parameter2 Parameter('Weights', [5 x 2], []), var Input0 Input('Features', [2], [*, #])\"}]\n",
       "}"
      ]
     },
     "metadata": {},
     "output_type": "display_data"
    }
   ],
   "source": [
    "decomposeTensor (F z) \n",
    "|> Seq.cast<KeyValuePair<string,Tensor>> \n",
    "|> Seq.map (fun t -> \n",
    "        t.Value \n",
    "        |> function \n",
    "        | F f -> f |> nodeInfo \n",
    "        | V v -> v |> nodeInfo\n",
    "        |> JsonConvert.SerializeObject\n",
    "        |> sprintf \"\\t\\\"%s\\\": %s\" t.Value.Uid )\n",
    "//|> Seq.take 3\n",
    "|> Seq.reduce(sprintf \"%s,\\n%s\")        \n",
    "|> printf \"{ \\n%s\\n}\"\n"
   ]
  },
  {
   "cell_type": "markdown",
   "metadata": {},
   "source": [
    "<div id=\"graph\" style=\"width: 100%; min-height: 800px; border: solid lightblue 1px\"></div>"
   ]
  },
  {
   "cell_type": "code",
   "execution_count": 119,
   "metadata": {
    "collapsed": false
   },
   "outputs": [
    {
     "data": {
      "text/html": [
       "<script src='../../../d3-jupyter/dist/bundle.js'></script>"
      ]
     },
     "metadata": {},
     "output_type": "display_data"
    }
   ],
   "source": [
    "@\"<script src='../../../d3-jupyter/dist/bundle.js'></script>\" |> Util.Html |> Display"
   ]
  },
  {
   "cell_type": "code",
   "execution_count": 120,
   "metadata": {
    "collapsed": false
   },
   "outputs": [
    {
     "data": {
      "text/html": [
       "<script>$(document).trigger('INIT_D3', ['#graph']);</script>"
      ],
      "text/plain": [
       "{Html = \"<script>$(document).trigger('INIT_D3', ['#graph']);</script>\";}"
      ]
     },
     "execution_count": 120,
     "metadata": {},
     "output_type": "execute_result"
    }
   ],
   "source": [
    "let initGraph jqueryPath = \n",
    "    sprintf \"<script>$(document).trigger('INIT_D3', ['%s']);</script>\" jqueryPath\n",
    "    |> Util.Html\n",
    "    \n",
    "let renderDot dotNotation = \n",
    "    sprintf \"<script>$(document).trigger('RENDER_GRAPH', [`%s`]);</script>\" dotNotation\n",
    "    |> Util.Html\n",
    "    \n",
    "let renderSeries (digraphs : string[]) = \n",
    "    digraphs\n",
    "    |> Array.reduce(sprintf \"%s','%s\")\n",
    "    |> sprintf \"<script>$(document).trigger('RENDER_SERIES', [['%s']]);</script>\"\n",
    "    |> Util.Html    \n",
    "    \n",
    "initGraph \"#graph\"    "
   ]
  },
  {
   "cell_type": "code",
   "execution_count": null,
   "metadata": {
    "collapsed": false
   },
   "outputs": [],
   "source": [
    "createGraphVizDiagram z \n",
    "|> Seq.reduce(sprintf \"%s\\n%s\")\n",
    "|> sprintf \"digraph { %s }\"\n",
    "|> renderDot"
   ]
  },
  {
   "cell_type": "code",
   "execution_count": null,
   "metadata": {
    "collapsed": false
   },
   "outputs": [],
   "source": [
    "\"\"\"<script>\n",
    "        var dot = `\n",
    "  digraph {\n",
    "    Combine1787 -> CompositeFunction1788 [label=\"root function\"];\n",
    "Combine1787 [label=\"Combine1787\"];\n",
    "Combine1787 [shape=ellipse, fontsize=20, penwidth=2, size=0.6];\n",
    "Combine1789 -> CompositeFunction1790 [label=\"root function\"];\n",
    "Combine1789 [label=\"Combine1789\"];\n",
    "Combine1789 [shape=ellipse, fontsize=20, penwidth=2, size=0.6];\n",
    "Combine1791 -> CompositeFunction1792 [label=\"root function\"];\n",
    "Combine1791 [label=\"Combine1791\"];\n",
    "Combine1791 [shape=ellipse, fontsize=20, penwidth=2, size=0.6];\n",
    "Combine1793 -> CompositeFunction1794 [label=\"root function\"];\n",
    "Combine1793 [label=\"Combine1793\"];\n",
    "Combine1793 [shape=ellipse, fontsize=20, penwidth=2, size=0.6];\n",
    "Combine1795 -> CompositeFunction1796 [label=\"root function\"];\n",
    "Combine1795 [label=\"Combine1795\"];\n",
    "Combine1795 [shape=ellipse, fontsize=20, penwidth=2, size=0.6];\n",
    "Combine1797 -> CompositeFunction1798 [label=\"root function\"];\n",
    "Combine1797 [label=\"Combine1797\"];\n",
    "Combine1797 [shape=ellipse, fontsize=20, penwidth=2, size=0.6];\n",
    "Combine1799 -> CompositeFunction1800 [label=\"root function\"];\n",
    "Combine1799 [label=\"Combine1799\"];\n",
    "Combine1799 [shape=ellipse, fontsize=20, penwidth=2, size=0.6];\n",
    "Combine1801 -> CompositeFunction1802 [label=\"root function\"];\n",
    "Combine1801 [label=\"Combine1801\"];\n",
    "Combine1801 [shape=ellipse, fontsize=20, penwidth=2, size=0.6];\n",
    "Combine1803 -> CompositeFunction1804 [label=\"root function\"];\n",
    "Combine1803 [label=\"Combine1803\"];\n",
    "Combine1803 [shape=ellipse, fontsize=20, penwidth=2, size=0.6];\n",
    "  }`;\n",
    "        var viz = d3.select(\"#graph\")\n",
    "            .graphviz()\n",
    "            //.logEvents(true)\n",
    "            .on(\"initEnd\", function () {\n",
    "\n",
    "                //viz.engine(\"circo\");\n",
    "                viz.renderDot(dot)\n",
    "                    .on(\"end\", function () {\n",
    "\n",
    "                        let svg = d3.select(\"svg\");//.attr(\"width\", \"1750pt\").attr(\"height\",\"1000pt\");\n",
    "\n",
    "                        let defs = svg.append(\"defs\");\n",
    "\n",
    "                        let filter = defs\n",
    "                            .append(\"filter\")\n",
    "                            .attr(\"id\", \"shadow\")\n",
    "                            .attr(\"x\", \"-50%\")\n",
    "                            .attr(\"y\", \"-50%\")\n",
    "                            .attr(\"width\", \"200%\")\n",
    "                            .attr(\"height\", \"200%\");\n",
    "                        filter.append(\"feGaussianBlur\")\n",
    "                            .attr(\"in\", \"SourceAlpha\")\n",
    "                            .attr(\"stdDeviation\", 3)\n",
    "                            .attr(\"result\", \"blur\");\n",
    "                        filter\n",
    "                            .append(\"feOffset\")\n",
    "                            .attr(\"in\", \"blur\")\n",
    "                            .attr(\"dx\", 3)\n",
    "                            .attr(\"dy\", 3);\n",
    "                        filter.append(\"feComponentTransfer\")\n",
    "                            .append(\"feFuncA\").attr(\"type\", \"linear\")\n",
    "                            .attr(\"slope\", 0.35);\n",
    "\n",
    "                        var merge = filter.append(\"feMerge\");\n",
    "                        merge.append(\"feMergeNode\");\n",
    "                        merge.append(\"feMergeNode\").attr(\"in\", \"SourceGraphic\");\n",
    "\n",
    "                        d3.selectAll(\".node ellipse, .node polygon\")\n",
    "                            .style(\"fill\", \"white\")\n",
    "                            .on(\"mouseover\", (d, i, n) => d3.select(n[i]).style(\"filter\", \"url(#shadow)\"))\n",
    "                            .on(\"mouseout\", (d, i, n) => d3.select(n[i]).style(\"filter\", null));\n",
    "                    });\n",
    "            });\n",
    "    </script>\"\"\" |> Util.Html |> Display"
   ]
  },
  {
   "cell_type": "code",
   "execution_count": null,
   "metadata": {
    "collapsed": false
   },
   "outputs": [],
   "source": [
    "\"\"\"<script>\n",
    "        var canvas = d3.select(\"#graph\")\n",
    "                        .append(\"svg\")\n",
    "                        .attr(\"width\", 500)\n",
    "                        .attr(\"height\", 500);\n",
    "        var circle = canvas.append(\"circle\")\n",
    "                        .attr(\"cx\",250)\n",
    "                        .attr(\"cy\", 250)\n",
    "                        .attr(\"r\", 50)\n",
    "                        .attr(\"fill\", \"red\");\n",
    "    </script>\n",
    "\"\"\" |> Util.Html"
   ]
  },
  {
   "cell_type": "code",
   "execution_count": 207,
   "metadata": {
    "collapsed": false
   },
   "outputs": [
    {
     "data": {
      "text/plain": [
       "\"Input0 -> Times4 [label=input];\tInput0 [label=\"Features\\n[2]\"];\n",
       "\tInput0 [shape=invhouse, color=yellow];\n",
       "\tParameter13 -> Times15 [label=\"input param\"];\n",
       "\tParameter13 [label=\"Weights\\n[2 x 5]\"];\n",
       "\tParameter13 [shape=diamond, color=green];\n",
       "\tParameter14 -> Plus18 [label=\"input param\"];\n",
       "\tParameter14 [label=\"Bias\\n[2]\"];\n",
       "\tParameter14 [shape=diamond, color=green];\n",
       "\tParameter2 -> Times4 [label=\"input param\"];\n",
       "\tParameter2 [label=\"Weights\\n[5 x 2]\"];\n",
       "\tParameter2 [shape=diamond, color=green];\n",
       "\tParameter3 -> Plus7 [label=\"input param\"];\n",
       "\tParameter3 [label=\"Bias\\n[5]\"];\n",
       "\tParameter3 [shape=diamond, color=green];\n",
       "\tPlus18 -> Plus18_Output_0 [label=output];\n",
       "\tPlus18 [label=\"+\"];\n",
       "\tPlus18 [shape=ellipse, fontsize=20, penwidth=2, size=0.6];\n",
       "\tPlus18_Output_0 [label=\"+\\n[2]\"];\n",
       "\tPlus18_Output_0 [shape=invhouse, color=gray];\n",
       "\tPlus7 -> Plus7_Output_0 [label=output];\n",
       "\tPlus7 [label=\"+\"];\n",
       "\tPlus7 [shape=ellipse, fontsize=20, penwidth=2, size=0.6];\n",
       "\tPlus7_Output_0 -> StableSigmoid10 [label=input];\n",
       "\tPlus7_Output_0 [label=\"+\\n[5]\"];\n",
       "\tPlus7_Output_0 [shape=invhouse, color=gray];\n",
       "\tStableSigmoid10 -> StableSigmoid10_Output_0 [label=output];\n",
       "\tStableSigmoid10 [label=\"StableSigmoid10\"];\n",
       "\tStableSigmoid10 [shape=ellipse, fontsize=20, penwidth=2, size=0.6];\n",
       "\tStableSigmoid10_Output_0 -> Times15 [label=input];\n",
       "\tStableSigmoid10_Output_0 [label=\"StableSigmoid10_Output_0\\n[5]\"];\n",
       "\tStableSigmoid10_Output_0 [shape=invhouse, color=gray];\n",
       "\tTimes15 -> Times15_Output_0 [label=output];\n",
       "\tTimes15 [label=\"@\"];\n",
       "\tTimes15 [shape=ellipse, fontsize=20, penwidth=2, size=0.6];\n",
       "\tTimes15_Output_0 -> Plus18 [label=input];\n",
       "\tTimes15_Output_0 [label=\"@\\n[2]\"];\n",
       "\tTimes15_Output_0 [shape=invhouse, color=gray];\n",
       "\tTimes4 -> Times4_Output_0 [label=output];\n",
       "\tTimes4 [label=\"@\"];\n",
       "\tTimes4 [shape=ellipse, fontsize=20, penwidth=2, size=0.6];\n",
       "\tTimes4_Output_0 -> Plus7 [label=input];\n",
       "\tTimes4_Output_0 [label=\"@\\n[5]\"];\n",
       "\tTimes4_Output_0 [shape=invhouse, color=gray];\n",
       "\""
      ]
     },
     "execution_count": 207,
     "metadata": {},
     "output_type": "execute_result"
    },
    {
     "data": {
      "text/plain": [
       "Plus18_Output_0 Plus18_Output_0 Plus18_Output_0 Plus18_Output_0\r\n",
       "Times15_Output_0 Times15_Output_0 Times15_Output_0 Times15_Output_0\r\n",
       "StableSigmoid10_Output_0 StableSigmoid10_Output_0 StableSigmoid10_Output_0 StableSigmoid10_Output_0\r\n",
       "Plus7_Output_0 Plus7_Output_0 Plus7_Output_0 Plus7_Output_0\r\n",
       "Times4_Output_0 Times4_Output_0 Times4_Output_0 Times4_Output_0\r\n"
      ]
     },
     "metadata": {},
     "output_type": "display_data"
    }
   ],
   "source": [
    "createGraphVizDiagram z |> Seq.reduce(sprintf \"%s\\t%s\\n\")"
   ]
  },
  {
   "cell_type": "code",
   "execution_count": null,
   "metadata": {
    "collapsed": false
   },
   "outputs": [],
   "source": [
    "input.ToFunction().Uid"
   ]
  },
  {
   "cell_type": "code",
   "execution_count": null,
   "metadata": {
    "collapsed": true
   },
   "outputs": [],
   "source": []
  }
 ],
 "metadata": {
  "anaconda-cloud": {},
  "kernelspec": {
   "display_name": "F#",
   "language": "fsharp",
   "name": "ifsharp"
  },
  "language": "fsharp",
  "language_info": {
   "codemirror_mode": "",
   "file_extension": ".fs",
   "mimetype": "text/x-fsharp",
   "name": "fsharp",
   "nbconvert_exporter": "",
   "pygments_lexer": "",
   "version": "4.3.1.0"
  }
 },
 "nbformat": 4,
 "nbformat_minor": 0
}
