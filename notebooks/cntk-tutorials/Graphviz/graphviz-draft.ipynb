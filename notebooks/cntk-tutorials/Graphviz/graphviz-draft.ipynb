{
 "cells": [
  {
   "cell_type": "markdown",
   "metadata": {},
   "source": [
    "# Retroactive changes\n",
    "* Notebooks from now on will be on their own folders\n",
    "\n",
    "This makes is so much easier to keep track of dependencies, and we also resolve the issue of IfCntk overriding the local <code>main.group.fsx</code> path."
   ]
  },
  {
   "cell_type": "markdown",
   "metadata": {},
   "source": [
    "# Preparing workspace\n",
    "\n",
    "Our new dependency for this notebook is Newtonsoft.Json, since json is so easy to use from javascript."
   ]
  },
  {
   "cell_type": "code",
   "execution_count": null,
   "metadata": {},
   "outputs": [],
   "source": [
    "#load \"Paket.fsx\"\n",
    " \n",
    "Paket.Dependencies.Install \"\"\"\n",
    "framework: netstandard2.0\n",
    "generate_load_scripts: true\n",
    "storage: none\n",
    "source https://nuget.org/api/v2\n",
    "nuget CNTK.CPUOnly\n",
    "nuget Newtonsoft.Json\n",
    "nuget MathNet.Numerics\n",
    "nuget MathNet.Numerics.FSharp\n",
    "\"\"\""
   ]
  },
  {
   "cell_type": "code",
   "execution_count": 1,
   "metadata": {},
   "outputs": [],
   "source": [
    "#r \"netstandard\"\n",
    "#r @\"..\\bin\\Cntk.Core.Managed-2.6.dll\"\n",
    "#load \"../Graphviz/.paket/load/main.group.fsx\""
   ]
  },
  {
   "cell_type": "code",
   "execution_count": 2,
   "metadata": {},
   "outputs": [
    {
     "data": {
      "text/plain": [
       "Congratulations, you are using CNTK for: CPU\r\n"
      ]
     },
     "metadata": {},
     "output_type": "display_data"
    }
   ],
   "source": [
    "open System\n",
    "open System.IO\n",
    "\n",
    "Environment.GetEnvironmentVariable(\"PATH\")\n",
    "|> fun path -> sprintf \"%s%c%s\" path (Path.PathSeparator) (Path.GetFullPath(\"bin\"))\n",
    "|> fun path -> Environment.SetEnvironmentVariable(\"PATH\", path)\n",
    "\n",
    "open CNTK\n",
    "DeviceDescriptor.UseDefaultDevice().Type\n",
    "|> printfn \"Congratulations, you are using CNTK for: %A\" "
   ]
  },
  {
   "cell_type": "code",
   "execution_count": 3,
   "metadata": {},
   "outputs": [],
   "source": [
    "let device = CNTK.DeviceDescriptor.CPUDevice\n",
    "let dataType = CNTK.DataType.Float\n",
    "let initialization = CNTKLib.GlorotUniformInitializer(1.0)\n",
    "let input_dim, num_output_classes = 2,2\n",
    "\n",
    "#load \"../fsx/CntkHelpers.fsx\"\n",
    "open CntkHelpers"
   ]
  },
  {
   "cell_type": "markdown",
   "metadata": {},
   "source": [
    "# Building a sample model\n",
    "\n",
    "Let's create a simple classifier with one hidden layer of 50 nodes that outputs to a softmax function:"
   ]
  },
  {
   "cell_type": "code",
   "execution_count": 4,
   "metadata": {},
   "outputs": [],
   "source": [
    "let input = Variable.InputVariable(shape [|input_dim|], dataType, \"Features\")\n",
    "let label = Variable.InputVariable(shape [|num_output_classes|], dataType, \"Labels\")\n",
    "let z = \n",
    "    fullyConnectedClassifierNet input [50] num_output_classes CNTKLib.Sigmoid\n",
    "    |> (Var>>CNTKLib.Softmax)    "
   ]
  },
  {
   "cell_type": "markdown",
   "metadata": {},
   "source": [
    "# The Search for Nodes\n",
    "\n",
    "The only way on offer for retrieving the model's consituent components seems to be retrieving <code>Function</code> objects by name, using <code>Function.FindByName/FindAllByName</code>. Maintaining a naming scheme while building a model in CNTK inmy opinion not especially expedient at the best of times, and a downright pain if you are training to implement functional idioms.\n",
    "\n",
    "In addition, if you are trying to catch a glimpse of the internal workings of a CNTK model it's likely because you had no hand in creating it in the first place. A way to blindly extract network achitecture seems to be necessary.\n",
    "\n",
    "Recursively accumulating connected <code>Variables</code> and checking the <code>Owner</code> property appears to be a simple way to extract a model's component <code>Functions</code>. "
   ]
  },
  {
   "cell_type": "code",
   "execution_count": 5,
   "metadata": {},
   "outputs": [],
   "source": [
    "/// Graph search for CNTK.Function objects.\n",
    "/// We use the Input & Output lists in a Function\n",
    "/// to find other Function objects by checking\n",
    "/// the Variable's Owner property.\n",
    "/// <remarks> CNTK helper function </remarks>\n",
    "let decomposeFunction (root: Function) = \n",
    "    let visited = System.Collections.Generic.Dictionary<string, Function>()            \n",
    "\n",
    "    let rec expand (f: Function) = \n",
    "        match visited.ContainsKey(f.Uid) with\n",
    "        | true -> Seq.empty\n",
    "        | false -> \n",
    "            visited.Add(f.Uid, f)\n",
    "            seq {\n",
    "                yield f\n",
    "                yield! \n",
    "                    seq { yield! f.Inputs\n",
    "                          yield! f.Outputs }\n",
    "                    |> Seq.map (fun v -> v.Owner)      \n",
    "                    |> Seq.filter (not<<isNull)\n",
    "                    |> Seq.collect expand\n",
    "            }        \n",
    "\n",
    "    Array.ofSeq (expand root)"
   ]
  },
  {
   "cell_type": "code",
   "execution_count": 6,
   "metadata": {},
   "outputs": [
    {
     "data": {
      "text/plain": [
       "[|\"Composite(Softmax): Input('Features', [2], [*, #]) -> Output('Softmax21_Output_0', [2], [*, #])\";\n",
       "  \"Softmax: Output('+', [2], [*, #]) -> Output('Softmax21_Output_0', [2], [*, #])\";\n",
       "  \"Plus: Output('@', [2], [*, #]) -> Output('+', [2], [*, #])\";\n",
       "  \"Times: Output('StableSigmoid10_Output_0', [50], [*, #]) -> Output('@', [2], [*, #])\";\n",
       "  \"StableSigmoid: Output('+', [50], [*, #]) -> Output('StableSigmoid10_Output_0', [50], [*, #])\";\n",
       "  \"Plus: Output('@', [50], [*, #]) -> Output('+', [50], [*, #])\";\n",
       "  \"Times: Input('Features', [2], [*, #]) -> Output('@', [50], [*, #])\"|]"
      ]
     },
     "execution_count": 6,
     "metadata": {},
     "output_type": "execute_result"
    }
   ],
   "source": [
    "// Example: \n",
    "decomposeFunction z |> Array.map (fun f -> f.AsString())"
   ]
  },
  {
   "cell_type": "markdown",
   "metadata": {},
   "source": [
    "<div class=\"alert alert-info\"><p>This is a brute force algorithm. Perhaps as the complexity of our models increases we will have to revise, but for now it does fine.</p></div>"
   ]
  },
  {
   "cell_type": "markdown",
   "metadata": {},
   "source": [
    "# Converting to dot notation\n",
    "\n",
    "The great thing about GraphViz is that it does all the heavy lifting of actually building and arranging the graph, as long as we provide it with the pairs of connected nodes (in no particular order). Any additional styling information can be declared separately.\n",
    "\n",
    "Thusly creating dot notation for a CNTK model is as simple as enumerating the component functions and declare edges according to the content of each CNTK.Function object's Input & Output Variable list, and then another pass to provide styling for each node according to its properties. \n",
    "\n",
    "For styling I mostly referred to the [original CNTK graph logging implementation](https://github.com/Microsoft/CNTK/blob/master/bindings/python/cntk/logging/graph.py)."
   ]
  },
  {
   "cell_type": "code",
   "execution_count": 16,
   "metadata": {},
   "outputs": [],
   "source": [
    "/// Mappin the connections to and from \n",
    "/// a CNTK.Function object in GraphViz \n",
    "/// dot notation.\n",
    "/// https://github.com/Microsoft/CNTK/blob/master/bindings/python/cntk/logging/graph.py\n",
    "/// <remarks> CNTK helper function </remarks>\n",
    "let extractGraphVizDotNotation (f: Function) = \n",
    "        let varText (v:Variable) = (if String.IsNullOrEmpty v.Name then v.Uid else v.Name)// + \"\\\\n\" + v.Shape.AsString()\n",
    "        let funText (f: Function) = if String.IsNullOrEmpty f.Name then f.Uid else f.Name\n",
    "    \n",
    "        let varLabel (v: Variable) = sprintf \"%s [label=\\\"%s\\\"];\" v.Uid (varText v)\n",
    "        let funLabel (f: Function) = sprintf \"%s [label=\\\"%s\\\"];\" f.Uid (funText f)\n",
    "\n",
    "        let varShape (v: Variable) =\n",
    "            match v with\n",
    "            | _ when v.IsInput -> sprintf \"%s [shape=invhouse, color=yellow];\" v.Uid\n",
    "            | _ when v.IsOutput -> sprintf \"%s [shape=invhouse, color=gray];\" v.Uid\n",
    "            | _ when v.IsPlaceholder -> sprintf \"%s [shape=invhouse, color=yellow];\" v.Uid\n",
    "            | _ when v.IsParameter -> sprintf \"%s [shape=diamond, color=green];\" v.Uid\n",
    "            | _ when v.IsConstant -> sprintf \"%s [shape=rectangle, color=lightblue];\" v.Uid\n",
    "            | _ -> sprintf \"%s [shape=circle, color=purple];\" v.Uid\n",
    "\n",
    "        let funShape (f: Function) = \n",
    "            match f with \n",
    "            | _ when f.IsComposite -> sprintf \"%s [shape=ellipse, fontsize=20, penwidth=2, peripheries=2];\" f.Uid\n",
    "            | _ when f.IsPrimitive -> sprintf \"%s [shape=ellipse, fontsize=20, penwidth=2, size=0.6];\" f.Uid\n",
    "            | _ -> sprintf \"%s [shape=ellipse, fontsize=20, penwidth=4];\" f.Uid\n",
    "\n",
    "        let varEdges (f: Function) (v: Variable) = \n",
    "            let inputIndex = f.Inputs |> Seq.map (fun v -> v.Uid) |> Set\n",
    "            let outputIndex = f.Outputs |> Seq.map (fun v -> v.Uid) |> Set\n",
    "            match inputIndex.Contains(v.Uid), outputIndex.Contains(v.Uid) with \n",
    "            | true, _ when v.IsParameter -> sprintf \"%s -> %s [label=\\\"input param\\\"];\" v.Uid f.Uid |> Some\n",
    "            | _, true when v.IsParameter -> sprintf \"%s -> %s [label=\\\"output param\\\"];\" f.Uid v.Uid|> Some\n",
    "            | true, _ -> sprintf \"%s -> %s [label=input];\" v.Uid f.Uid|> Some \n",
    "            | _, true -> \n",
    "                if f.Outputs.Count = 1 && f.Output.Uid = v.Uid then\n",
    "                    sprintf \"%s -> %s [label=output];\" f.Uid v.Owner.Output.Uid |> Some\n",
    "                else sprintf \"%s -> %s [label=output];\" f.Uid v.Uid|> Some            \n",
    "            | _ -> None\n",
    "        \n",
    "        let varOwner (v: Variable) =\n",
    "            match v.Owner with\n",
    "            | null -> None\n",
    "            | _ -> sprintf \"%s -> %s [style=\\\"dotted\\\"];\" v.Owner.Uid v.Uid |> Some\n",
    "\n",
    "        let vars = Seq.append f.Inputs f.Outputs\n",
    "        let funs = seq { \n",
    "                yield f\n",
    "                yield f.RootFunction;\n",
    "                yield! vars |> Seq.map (fun v -> v.Owner) |> Seq.filter (isNull>>not) \n",
    "            } \n",
    "\n",
    "        seq {        \n",
    "            if f.Uid <> f.RootFunction.Uid \n",
    "            then yield sprintf \"%s -> %s [label=\\\"root function\\\"];\" f.RootFunction.Uid f.Uid\n",
    "            yield! vars |> Seq.map varShape\n",
    "            yield! vars |> Seq.map varLabel\n",
    "            yield! vars |> Seq.map (varEdges f) |> Seq.choose id\n",
    "            //yield! vars |> Seq.map varOwner |> Seq.choose id\n",
    "            yield! funs |> Seq.map funLabel \n",
    "            yield! funs |> Seq.map funShape\n",
    "        } |> Seq.distinct\n"
   ]
  },
  {
   "cell_type": "markdown",
   "metadata": {},
   "source": [
    "# Using GraphViz inside an F# jupyter notebook\n",
    "\n",
    "As far as I can tell there are restrictions on loading javascript by using the <code>Util.Html</code> command. I was not able to initialize [d3-graphviz]() either by including the cdn reference or by downloading the library files and referring to them locally. \n",
    "\n",
    "What did work was using [webpack]() to bundle the d3-grphviz library files together, along with some event handlers that will to serve as API endpoints; which is to say, instead of directly calling the <code>d3.graphviz</code> object we trigger an event with the dot notation as payload, which will then be handled from the bundled js.\n",
    "\n",
    "This seems like a very roundabout way of doing things, and if a better way to integrate html/js with IfCntk comes up, such as a [widget creation schema](https://github.com/fsprojects/IfSharp/issues/126), I will be glad to revisit and hopefully provide a more elegant solution.\n",
    "\n",
    "The webpack project can be found [here](). "
   ]
  },
  {
   "cell_type": "code",
   "execution_count": 8,
   "metadata": {
    "scrolled": true
   },
   "outputs": [
    {
     "data": {
      "text/html": [
       "<script src='../../../d3-jupyter/dist/bundle.js'></script>"
      ]
     },
     "metadata": {},
     "output_type": "display_data"
    }
   ],
   "source": [
    "@\"<script src='../../../d3-jupyter/dist/bundle.js'></script>\" \n",
    "|> Util.Html |> Display"
   ]
  },
  {
   "cell_type": "markdown",
   "metadata": {},
   "source": [
    "<div class=\"alert alert-info\">While I include the <a>bundle.js</a> in the repository, you should remember that making changes to the <a>index.js</a> requires you to rebuild the project with webpack.</div>"
   ]
  },
  {
   "cell_type": "markdown",
   "metadata": {},
   "source": [
    "Wrapper functions for accessing d3-graphviz through F#:"
   ]
  },
  {
   "cell_type": "code",
   "execution_count": 9,
   "metadata": {},
   "outputs": [],
   "source": [
    "/// Provide jQuery paths to the html elements\n",
    "/// you want the model graph and the node \n",
    "/// descriptions to appear\n",
    "let initGraph infoPath graphPath = \n",
    "    sprintf \"<script>$(document).trigger('INIT_D3', ['%s','%s']);</script>\" infoPath graphPath\n",
    "    |> Util.Html\n",
    "\n",
    "\n",
    "/// Send dot notation to be rendered as a graph\n",
    "let renderDot engine dotNotation jsonInfo = \n",
    "    sprintf \"<script>$(document).trigger('RENDER_GRAPH', [`%s`,`%s`, '%s']);</script>\" dotNotation jsonInfo engine\n",
    "    |> Util.Html\n",
    "\n",
    "/// Send a series of graphs to be \n",
    "/// sequentially animated into each other\n",
    "let renderSeries engine (digraphs : string[]) = \n",
    "    digraphs\n",
    "    |> Array.reduce(sprintf \"%s','%s\")\n",
    "    |> fun graphs -> graphs,engine\n",
    "    ||> sprintf \"<script>$(document).trigger('RENDER_SERIES', [['%s'],'%s']);</script>\" \n",
    "    |> Util.Html   "
   ]
  },
  {
   "cell_type": "markdown",
   "metadata": {},
   "source": [
    "# Bringing the whole thing together"
   ]
  },
  {
   "cell_type": "code",
   "execution_count": 10,
   "metadata": {},
   "outputs": [],
   "source": [
    "/// Extract notation for each CNTK.Function in model\n",
    "/// combine in a string and send to graphviz for rendering\n",
    "let displayGraphForModel hostId (model: Function) =\n",
    "    let dotNotation =\n",
    "        model\n",
    "        |> decomposeFunction\n",
    "        // |> Array.filter (fun f -> not f.IsComposite)\n",
    "        |> Array.collect (extractGraphVizDotNotation>>Array.ofSeq)\n",
    "        |> Array.distinct \n",
    "        |> Array.reduce(sprintf \"%s\\n%s\")\n",
    "        |> sprintf \"digraph { %s }\"\n",
    "            \n",
    "    initGraph \"\" (\"#\"+hostId) |> Display\n",
    "    renderDot \"dot\" dotNotation \"\" |> Display   "
   ]
  },
  {
   "cell_type": "markdown",
   "metadata": {},
   "source": [
    "In order to be able to show the d3-graphviz output we need a host for the svg inside the notebook. This is trivial to do in IfCntk, again by using the <code>Util.Html</code>:"
   ]
  },
  {
   "cell_type": "code",
   "execution_count": 32,
   "metadata": {
    "scrolled": false
   },
   "outputs": [],
   "source": [
    "let displayGraphHost hostId =\n",
    "    \"\"\"\n",
    "<div id=\"hostId\" \n",
    "     style=\"width: 100%; overflow-y: scroll; overflow-x: hidden; \n",
    "            border: solid lightblue 1px; border-radius: 15px; position: relative\">    \n",
    "</div>\"\"\".Replace(\"hostId\", hostId)\n",
    "    |> Util.Html |> Display"
   ]
  },
  {
   "cell_type": "code",
   "execution_count": 33,
   "metadata": {
    "scrolled": true
   },
   "outputs": [
    {
     "data": {
      "text/html": [
       "\n",
       "<div id=\"graph\" \n",
       "     style=\"width: 100%; overflow-y: scroll; overflow-x: hidden; \n",
       "            border: solid lightblue 1px; border-radius: 15px; position: relative\">    \n",
       "</div>"
      ]
     },
     "metadata": {},
     "output_type": "display_data"
    },
    {
     "data": {
      "text/html": [
       "<script>$(document).trigger('INIT_D3', ['','#graph']);</script>"
      ]
     },
     "metadata": {},
     "output_type": "display_data"
    },
    {
     "data": {
      "text/html": [
       "<script>$(document).trigger('RENDER_GRAPH', [`digraph { Softmax21 -> CompositeFunction22 [label=\"root function\"];\n",
       "Parameter13 [shape=diamond, color=green];\n",
       "Parameter2 [shape=diamond, color=green];\n",
       "Input0 [shape=invhouse, color=yellow];\n",
       "Parameter3 [shape=diamond, color=green];\n",
       "Parameter14 [shape=diamond, color=green];\n",
       "Softmax21_Output_0 [shape=invhouse, color=gray];\n",
       "Parameter13 [label=\"Weights\"];\n",
       "Parameter2 [label=\"Weights\"];\n",
       "Input0 [label=\"Features\"];\n",
       "Parameter3 [label=\"Bias\"];\n",
       "Parameter14 [label=\"Bias\"];\n",
       "Softmax21_Output_0 [label=\"Softmax21_Output_0\"];\n",
       "Parameter13 -> CompositeFunction22 [label=\"input param\"];\n",
       "Parameter2 -> CompositeFunction22 [label=\"input param\"];\n",
       "Input0 -> CompositeFunction22 [label=input];\n",
       "Parameter3 -> CompositeFunction22 [label=\"input param\"];\n",
       "Parameter14 -> CompositeFunction22 [label=\"input param\"];\n",
       "CompositeFunction22 -> Softmax21_Output_0 [label=output];\n",
       "Softmax21 -> Softmax21_Output_0 [style=\"dotted\"];\n",
       "CompositeFunction22 [label=\"CompositeFunction22\"];\n",
       "Softmax21 [label=\"Softmax21\"];\n",
       "CompositeFunction22 [shape=ellipse, fontsize=20, penwidth=2, peripheries=2];\n",
       "Softmax21 [shape=ellipse, fontsize=20, penwidth=2, size=0.6];\n",
       "Plus18_Output_0 [shape=invhouse, color=gray];\n",
       "Plus18_Output_0 [label=\"+\"];\n",
       "Plus18_Output_0 -> Softmax21 [label=input];\n",
       "Softmax21 -> Softmax21_Output_0 [label=output];\n",
       "Plus18 -> Plus18_Output_0 [style=\"dotted\"];\n",
       "Plus18 [label=\"+\"];\n",
       "Plus18 [shape=ellipse, fontsize=20, penwidth=2, size=0.6];\n",
       "Times15_Output_0 [shape=invhouse, color=gray];\n",
       "Times15_Output_0 [label=\"@\"];\n",
       "Times15_Output_0 -> Plus18 [label=input];\n",
       "Parameter14 -> Plus18 [label=\"input param\"];\n",
       "Plus18 -> Plus18_Output_0 [label=output];\n",
       "Times15 -> Times15_Output_0 [style=\"dotted\"];\n",
       "Times15 [label=\"@\"];\n",
       "Times15 [shape=ellipse, fontsize=20, penwidth=2, size=0.6];\n",
       "StableSigmoid10_Output_0 [shape=invhouse, color=gray];\n",
       "StableSigmoid10_Output_0 [label=\"StableSigmoid10_Output_0\"];\n",
       "Parameter13 -> Times15 [label=\"input param\"];\n",
       "StableSigmoid10_Output_0 -> Times15 [label=input];\n",
       "Times15 -> Times15_Output_0 [label=output];\n",
       "StableSigmoid10 -> StableSigmoid10_Output_0 [style=\"dotted\"];\n",
       "StableSigmoid10 [label=\"StableSigmoid10\"];\n",
       "StableSigmoid10 [shape=ellipse, fontsize=20, penwidth=2, size=0.6];\n",
       "Plus7_Output_0 [shape=invhouse, color=gray];\n",
       "Plus7_Output_0 [label=\"+\"];\n",
       "Plus7_Output_0 -> StableSigmoid10 [label=input];\n",
       "StableSigmoid10 -> StableSigmoid10_Output_0 [label=output];\n",
       "Plus7 -> Plus7_Output_0 [style=\"dotted\"];\n",
       "Plus7 [label=\"+\"];\n",
       "Plus7 [shape=ellipse, fontsize=20, penwidth=2, size=0.6];\n",
       "Times4_Output_0 [shape=invhouse, color=gray];\n",
       "Times4_Output_0 [label=\"@\"];\n",
       "Times4_Output_0 -> Plus7 [label=input];\n",
       "Parameter3 -> Plus7 [label=\"input param\"];\n",
       "Plus7 -> Plus7_Output_0 [label=output];\n",
       "Times4 -> Times4_Output_0 [style=\"dotted\"];\n",
       "Times4 [label=\"@\"];\n",
       "Times4 [shape=ellipse, fontsize=20, penwidth=2, size=0.6];\n",
       "Parameter2 -> Times4 [label=\"input param\"];\n",
       "Input0 -> Times4 [label=input];\n",
       "Times4 -> Times4_Output_0 [label=output]; }`,``, 'dot']);</script>"
      ]
     },
     "metadata": {},
     "output_type": "display_data"
    }
   ],
   "source": [
    "displayGraphHost \"graph\"\n",
    "displayGraphForModel \"graph\" z"
   ]
  },
  {
   "cell_type": "markdown",
   "metadata": {},
   "source": [
    "<div class=\"alert alert-info\"> Feel free to exclude or include the composite function node in your graph, since it is seems generally redundant for so simple a model, where it's implied that all the component nodes are parts of a composite model.</div>"
   ]
  },
  {
   "cell_type": "markdown",
   "metadata": {},
   "source": [
    "### Let's add some animation\n",
    "\n",
    "d3-graphviz allows us to animate one graph into an other, simply by declaring a transition filter and making consecutive calls to the render function. Best results require consequent renderings be done after the current graph has finished rendering, so we cannot just call <code>renderGraph</code> a bunch of times and be done with it, which is why the RENDER_SERIES event is used. For javascript implementation details see [index.js]()."
   ]
  },
  {
   "cell_type": "code",
   "execution_count": 20,
   "metadata": {},
   "outputs": [],
   "source": [
    "let displayGradualGraph hostId (model: Function) =\n",
    "\n",
    "    initGraph \"\" (\"#\" + hostId) |> Display\n",
    "\n",
    "    let dotNotation =\n",
    "        model\n",
    "        |> decomposeFunction \n",
    "        |> Array.filter (fun f -> not f.IsComposite)\n",
    "        |> Array.map (extractGraphVizDotNotation>>Seq.reduce(sprintf \"%s %s\")) \n",
    "        |> Array.rev\n",
    "        |> Array.scan (sprintf \"%s %s\") \"\"\n",
    "        |> Array.map (sprintf \"digraph { %s }\")\n",
    "           \n",
    "    renderSeries \"dot\" dotNotation\n",
    "    |> Display"
   ]
  },
  {
   "cell_type": "code",
   "execution_count": 34,
   "metadata": {
    "scrolled": false
   },
   "outputs": [
    {
     "data": {
      "text/html": [
       "\n",
       "<div id=\"gradualGraph\" \n",
       "     style=\"width: 100%; overflow-y: scroll; overflow-x: hidden; \n",
       "            border: solid lightblue 1px; border-radius: 15px; position: relative\">    \n",
       "</div>"
      ]
     },
     "metadata": {},
     "output_type": "display_data"
    },
    {
     "data": {
      "text/html": [
       "<script>$(document).trigger('INIT_D3', ['','#gradualGraph']);</script>"
      ]
     },
     "metadata": {},
     "output_type": "display_data"
    },
    {
     "data": {
      "text/html": [
       "<script>$(document).trigger('RENDER_SERIES', [['digraph {  }','digraph {  Parameter2 [shape=diamond, color=green]; Input0 [shape=invhouse, color=yellow]; Times4_Output_0 [shape=invhouse, color=gray]; Parameter2 [label=\"Weights\"]; Input0 [label=\"Features\"]; Times4_Output_0 [label=\"@\"]; Parameter2 -> Times4 [label=\"input param\"]; Input0 -> Times4 [label=input]; Times4 -> Times4_Output_0 [label=output]; Times4 [label=\"@\"]; Times4 [shape=ellipse, fontsize=20, penwidth=2, size=0.6]; }','digraph {  Parameter2 [shape=diamond, color=green]; Input0 [shape=invhouse, color=yellow]; Times4_Output_0 [shape=invhouse, color=gray]; Parameter2 [label=\"Weights\"]; Input0 [label=\"Features\"]; Times4_Output_0 [label=\"@\"]; Parameter2 -> Times4 [label=\"input param\"]; Input0 -> Times4 [label=input]; Times4 -> Times4_Output_0 [label=output]; Times4 [label=\"@\"]; Times4 [shape=ellipse, fontsize=20, penwidth=2, size=0.6]; Times4_Output_0 [shape=invhouse, color=gray]; Parameter3 [shape=diamond, color=green]; Plus7_Output_0 [shape=invhouse, color=gray]; Times4_Output_0 [label=\"@\"]; Parameter3 [label=\"Bias\"]; Plus7_Output_0 [label=\"+\"]; Times4_Output_0 -> Plus7 [label=input]; Parameter3 -> Plus7 [label=\"input param\"]; Plus7 -> Plus7_Output_0 [label=output]; Plus7 [label=\"+\"]; Times4 [label=\"@\"]; Plus7 [shape=ellipse, fontsize=20, penwidth=2, size=0.6]; Times4 [shape=ellipse, fontsize=20, penwidth=2, size=0.6]; }','digraph {  Parameter2 [shape=diamond, color=green]; Input0 [shape=invhouse, color=yellow]; Times4_Output_0 [shape=invhouse, color=gray]; Parameter2 [label=\"Weights\"]; Input0 [label=\"Features\"]; Times4_Output_0 [label=\"@\"]; Parameter2 -> Times4 [label=\"input param\"]; Input0 -> Times4 [label=input]; Times4 -> Times4_Output_0 [label=output]; Times4 [label=\"@\"]; Times4 [shape=ellipse, fontsize=20, penwidth=2, size=0.6]; Times4_Output_0 [shape=invhouse, color=gray]; Parameter3 [shape=diamond, color=green]; Plus7_Output_0 [shape=invhouse, color=gray]; Times4_Output_0 [label=\"@\"]; Parameter3 [label=\"Bias\"]; Plus7_Output_0 [label=\"+\"]; Times4_Output_0 -> Plus7 [label=input]; Parameter3 -> Plus7 [label=\"input param\"]; Plus7 -> Plus7_Output_0 [label=output]; Plus7 [label=\"+\"]; Times4 [label=\"@\"]; Plus7 [shape=ellipse, fontsize=20, penwidth=2, size=0.6]; Times4 [shape=ellipse, fontsize=20, penwidth=2, size=0.6]; Plus7_Output_0 [shape=invhouse, color=gray]; StableSigmoid10_Output_0 [shape=invhouse, color=gray]; Plus7_Output_0 [label=\"+\"]; StableSigmoid10_Output_0 [label=\"StableSigmoid10_Output_0\"]; Plus7_Output_0 -> StableSigmoid10 [label=input]; StableSigmoid10 -> StableSigmoid10_Output_0 [label=output]; StableSigmoid10 [label=\"StableSigmoid10\"]; Plus7 [label=\"+\"]; StableSigmoid10 [shape=ellipse, fontsize=20, penwidth=2, size=0.6]; Plus7 [shape=ellipse, fontsize=20, penwidth=2, size=0.6]; }','digraph {  Parameter2 [shape=diamond, color=green]; Input0 [shape=invhouse, color=yellow]; Times4_Output_0 [shape=invhouse, color=gray]; Parameter2 [label=\"Weights\"]; Input0 [label=\"Features\"]; Times4_Output_0 [label=\"@\"]; Parameter2 -> Times4 [label=\"input param\"]; Input0 -> Times4 [label=input]; Times4 -> Times4_Output_0 [label=output]; Times4 [label=\"@\"]; Times4 [shape=ellipse, fontsize=20, penwidth=2, size=0.6]; Times4_Output_0 [shape=invhouse, color=gray]; Parameter3 [shape=diamond, color=green]; Plus7_Output_0 [shape=invhouse, color=gray]; Times4_Output_0 [label=\"@\"]; Parameter3 [label=\"Bias\"]; Plus7_Output_0 [label=\"+\"]; Times4_Output_0 -> Plus7 [label=input]; Parameter3 -> Plus7 [label=\"input param\"]; Plus7 -> Plus7_Output_0 [label=output]; Plus7 [label=\"+\"]; Times4 [label=\"@\"]; Plus7 [shape=ellipse, fontsize=20, penwidth=2, size=0.6]; Times4 [shape=ellipse, fontsize=20, penwidth=2, size=0.6]; Plus7_Output_0 [shape=invhouse, color=gray]; StableSigmoid10_Output_0 [shape=invhouse, color=gray]; Plus7_Output_0 [label=\"+\"]; StableSigmoid10_Output_0 [label=\"StableSigmoid10_Output_0\"]; Plus7_Output_0 -> StableSigmoid10 [label=input]; StableSigmoid10 -> StableSigmoid10_Output_0 [label=output]; StableSigmoid10 [label=\"StableSigmoid10\"]; Plus7 [label=\"+\"]; StableSigmoid10 [shape=ellipse, fontsize=20, penwidth=2, size=0.6]; Plus7 [shape=ellipse, fontsize=20, penwidth=2, size=0.6]; Parameter13 [shape=diamond, color=green]; StableSigmoid10_Output_0 [shape=invhouse, color=gray]; Times15_Output_0 [shape=invhouse, color=gray]; Parameter13 [label=\"Weights\"]; StableSigmoid10_Output_0 [label=\"StableSigmoid10_Output_0\"]; Times15_Output_0 [label=\"@\"]; Parameter13 -> Times15 [label=\"input param\"]; StableSigmoid10_Output_0 -> Times15 [label=input]; Times15 -> Times15_Output_0 [label=output]; Times15 [label=\"@\"]; StableSigmoid10 [label=\"StableSigmoid10\"]; Times15 [shape=ellipse, fontsize=20, penwidth=2, size=0.6]; StableSigmoid10 [shape=ellipse, fontsize=20, penwidth=2, size=0.6]; }','digraph {  Parameter2 [shape=diamond, color=green]; Input0 [shape=invhouse, color=yellow]; Times4_Output_0 [shape=invhouse, color=gray]; Parameter2 [label=\"Weights\"]; Input0 [label=\"Features\"]; Times4_Output_0 [label=\"@\"]; Parameter2 -> Times4 [label=\"input param\"]; Input0 -> Times4 [label=input]; Times4 -> Times4_Output_0 [label=output]; Times4 [label=\"@\"]; Times4 [shape=ellipse, fontsize=20, penwidth=2, size=0.6]; Times4_Output_0 [shape=invhouse, color=gray]; Parameter3 [shape=diamond, color=green]; Plus7_Output_0 [shape=invhouse, color=gray]; Times4_Output_0 [label=\"@\"]; Parameter3 [label=\"Bias\"]; Plus7_Output_0 [label=\"+\"]; Times4_Output_0 -> Plus7 [label=input]; Parameter3 -> Plus7 [label=\"input param\"]; Plus7 -> Plus7_Output_0 [label=output]; Plus7 [label=\"+\"]; Times4 [label=\"@\"]; Plus7 [shape=ellipse, fontsize=20, penwidth=2, size=0.6]; Times4 [shape=ellipse, fontsize=20, penwidth=2, size=0.6]; Plus7_Output_0 [shape=invhouse, color=gray]; StableSigmoid10_Output_0 [shape=invhouse, color=gray]; Plus7_Output_0 [label=\"+\"]; StableSigmoid10_Output_0 [label=\"StableSigmoid10_Output_0\"]; Plus7_Output_0 -> StableSigmoid10 [label=input]; StableSigmoid10 -> StableSigmoid10_Output_0 [label=output]; StableSigmoid10 [label=\"StableSigmoid10\"]; Plus7 [label=\"+\"]; StableSigmoid10 [shape=ellipse, fontsize=20, penwidth=2, size=0.6]; Plus7 [shape=ellipse, fontsize=20, penwidth=2, size=0.6]; Parameter13 [shape=diamond, color=green]; StableSigmoid10_Output_0 [shape=invhouse, color=gray]; Times15_Output_0 [shape=invhouse, color=gray]; Parameter13 [label=\"Weights\"]; StableSigmoid10_Output_0 [label=\"StableSigmoid10_Output_0\"]; Times15_Output_0 [label=\"@\"]; Parameter13 -> Times15 [label=\"input param\"]; StableSigmoid10_Output_0 -> Times15 [label=input]; Times15 -> Times15_Output_0 [label=output]; Times15 [label=\"@\"]; StableSigmoid10 [label=\"StableSigmoid10\"]; Times15 [shape=ellipse, fontsize=20, penwidth=2, size=0.6]; StableSigmoid10 [shape=ellipse, fontsize=20, penwidth=2, size=0.6]; Times15_Output_0 [shape=invhouse, color=gray]; Parameter14 [shape=diamond, color=green]; Plus18_Output_0 [shape=invhouse, color=gray]; Times15_Output_0 [label=\"@\"]; Parameter14 [label=\"Bias\"]; Plus18_Output_0 [label=\"+\"]; Times15_Output_0 -> Plus18 [label=input]; Parameter14 -> Plus18 [label=\"input param\"]; Plus18 -> Plus18_Output_0 [label=output]; Plus18 [label=\"+\"]; Times15 [label=\"@\"]; Plus18 [shape=ellipse, fontsize=20, penwidth=2, size=0.6]; Times15 [shape=ellipse, fontsize=20, penwidth=2, size=0.6]; }','digraph {  Parameter2 [shape=diamond, color=green]; Input0 [shape=invhouse, color=yellow]; Times4_Output_0 [shape=invhouse, color=gray]; Parameter2 [label=\"Weights\"]; Input0 [label=\"Features\"]; Times4_Output_0 [label=\"@\"]; Parameter2 -> Times4 [label=\"input param\"]; Input0 -> Times4 [label=input]; Times4 -> Times4_Output_0 [label=output]; Times4 [label=\"@\"]; Times4 [shape=ellipse, fontsize=20, penwidth=2, size=0.6]; Times4_Output_0 [shape=invhouse, color=gray]; Parameter3 [shape=diamond, color=green]; Plus7_Output_0 [shape=invhouse, color=gray]; Times4_Output_0 [label=\"@\"]; Parameter3 [label=\"Bias\"]; Plus7_Output_0 [label=\"+\"]; Times4_Output_0 -> Plus7 [label=input]; Parameter3 -> Plus7 [label=\"input param\"]; Plus7 -> Plus7_Output_0 [label=output]; Plus7 [label=\"+\"]; Times4 [label=\"@\"]; Plus7 [shape=ellipse, fontsize=20, penwidth=2, size=0.6]; Times4 [shape=ellipse, fontsize=20, penwidth=2, size=0.6]; Plus7_Output_0 [shape=invhouse, color=gray]; StableSigmoid10_Output_0 [shape=invhouse, color=gray]; Plus7_Output_0 [label=\"+\"]; StableSigmoid10_Output_0 [label=\"StableSigmoid10_Output_0\"]; Plus7_Output_0 -> StableSigmoid10 [label=input]; StableSigmoid10 -> StableSigmoid10_Output_0 [label=output]; StableSigmoid10 [label=\"StableSigmoid10\"]; Plus7 [label=\"+\"]; StableSigmoid10 [shape=ellipse, fontsize=20, penwidth=2, size=0.6]; Plus7 [shape=ellipse, fontsize=20, penwidth=2, size=0.6]; Parameter13 [shape=diamond, color=green]; StableSigmoid10_Output_0 [shape=invhouse, color=gray]; Times15_Output_0 [shape=invhouse, color=gray]; Parameter13 [label=\"Weights\"]; StableSigmoid10_Output_0 [label=\"StableSigmoid10_Output_0\"]; Times15_Output_0 [label=\"@\"]; Parameter13 -> Times15 [label=\"input param\"]; StableSigmoid10_Output_0 -> Times15 [label=input]; Times15 -> Times15_Output_0 [label=output]; Times15 [label=\"@\"]; StableSigmoid10 [label=\"StableSigmoid10\"]; Times15 [shape=ellipse, fontsize=20, penwidth=2, size=0.6]; StableSigmoid10 [shape=ellipse, fontsize=20, penwidth=2, size=0.6]; Times15_Output_0 [shape=invhouse, color=gray]; Parameter14 [shape=diamond, color=green]; Plus18_Output_0 [shape=invhouse, color=gray]; Times15_Output_0 [label=\"@\"]; Parameter14 [label=\"Bias\"]; Plus18_Output_0 [label=\"+\"]; Times15_Output_0 -> Plus18 [label=input]; Parameter14 -> Plus18 [label=\"input param\"]; Plus18 -> Plus18_Output_0 [label=output]; Plus18 [label=\"+\"]; Times15 [label=\"@\"]; Plus18 [shape=ellipse, fontsize=20, penwidth=2, size=0.6]; Times15 [shape=ellipse, fontsize=20, penwidth=2, size=0.6]; Plus18_Output_0 [shape=invhouse, color=gray]; Softmax21_Output_0 [shape=invhouse, color=gray]; Plus18_Output_0 [label=\"+\"]; Softmax21_Output_0 [label=\"Softmax21_Output_0\"]; Plus18_Output_0 -> Softmax21 [label=input]; Softmax21 -> Softmax21_Output_0 [label=output]; Softmax21 [label=\"Softmax21\"]; Plus18 [label=\"+\"]; Softmax21 [shape=ellipse, fontsize=20, penwidth=2, size=0.6]; Plus18 [shape=ellipse, fontsize=20, penwidth=2, size=0.6]; }'],'dot']);</script>"
      ]
     },
     "metadata": {},
     "output_type": "display_data"
    }
   ],
   "source": [
    "displayGraphHost \"gradualGraph\"\n",
    "displayGradualGraph \"gradualGraph\" z"
   ]
  },
  {
   "cell_type": "markdown",
   "metadata": {},
   "source": [
    "<div class=\"alert alert-warning\"><p>Animation quality can vary a bit, in the form of the animation going too fast inspite of the transition filter's delay and duration parameters.</p><p> I'm getting the best results by using a markdown cell as a host instead of the <code>HtmlOutput</code> result, maybe even call <code>$(\"svg\").remove()</code> in between...</div>"
   ]
  },
  {
   "cell_type": "markdown",
   "metadata": {
    "collapsed": true
   },
   "source": [
    "# Adding an information panel next to the graph\n",
    "\n",
    "d3 makes it pretty easy to hang events any element in your graph, so why not present a property dump for each node on mouseover, along with the graph? \n",
    "\n",
    "First we'll need a function to retrieve said property dump. Most CNTK objects implement an <code>.AsString()</code> function that returns a very short summary of the item, so we will use that when it's available. There also needs to be some special handling for list properties, and for the rest we can just call <code>.ToString()</code>."
   ]
  },
  {
   "cell_type": "code",
   "execution_count": 42,
   "metadata": {},
   "outputs": [],
   "source": [
    "open System.Collections.Generic\n",
    "\n",
    "/// Active pattern to separate properties for special handling.\n",
    "let (|IsEnumerable|IsDescribable|IsPrimitive|) (t: Type) = \n",
    "    if  t <> typeof<string> && \n",
    "        (typeof< IEnumerable<_> >).IsAssignableFrom(t) \n",
    "    then IsEnumerable\n",
    "    else if t.GetMethods() \n",
    "            |> Array.exists (fun meth -> meth.Name = \"AsString\") \n",
    "    then IsDescribable\n",
    "    else IsPrimitive\n",
    "\n",
    "/// Helper function to convert any property to string,\n",
    "/// always checking if .AsString() is available\n",
    "let asString item =\n",
    "    if isNull item then \"\"\n",
    "    else\n",
    "        match item.GetType() with\n",
    "        | IsDescribable ->     \n",
    "            item.GetType()\n",
    "                .GetMethod(\"AsString\", Array.empty)\n",
    "                .Invoke(item, Array.empty).ToString()\n",
    "        | _ -> item.ToString()"
   ]
  },
  {
   "cell_type": "code",
   "execution_count": 44,
   "metadata": {
    "scrolled": false
   },
   "outputs": [],
   "source": [
    "open System.Reflection\n",
    "\n",
    "/// A simple info dump for CNTK nodes\n",
    "/// <remarks> CNTK Helper function </remarks>\n",
    "let describeNode (item: obj) =\n",
    "    [|\n",
    "        yield KeyValuePair(\"NodeType\", item.GetType().Name)\n",
    "        yield KeyValuePair(\"AsString\", item |> asString)\n",
    "        yield!\n",
    "            item.GetType().GetProperties()\n",
    "            |> Seq.map\n",
    "                (fun prop ->\n",
    "                    match prop.PropertyType with\n",
    "                    | IsEnumerable -> \n",
    "                        prop.Name, \n",
    "                          (prop.GetValue(item) :?> IEnumerable<_>) \n",
    "                          |> function \n",
    "                          | list when list |> Seq.isEmpty -> \"[]\" \n",
    "                          | list -> \n",
    "                              list \n",
    "                              |> Seq.map (asString)                         \n",
    "                              |> Seq.reduce (sprintf \"%s, %s\")\n",
    "                    | IsDescribable -> prop.Name, prop.GetValue(item) |> asString\n",
    "                    | IsPrimitive -> \n",
    "                        prop.Name,\n",
    "                            try prop.GetValue(item) |> asString\n",
    "                            with ex -> sprintf \"%s\" ex.Message)\n",
    "            |> Seq.map (KeyValuePair)\n",
    "    |]"
   ]
  },
  {
   "cell_type": "markdown",
   "metadata": {},
   "source": [
    "<div class=\"alert alert-info\">Mapping the result of <code>describeNode</code> to <code>KeyValuePair</code> is just there to make the eventual json serialization that we send to the javascript bundle a bit more readable.</div>"
   ]
  },
  {
   "cell_type": "markdown",
   "metadata": {},
   "source": [
    "In order to display the node info table properly, we need expand our html host accordingly."
   ]
  },
  {
   "cell_type": "code",
   "execution_count": 46,
   "metadata": {},
   "outputs": [],
   "source": [
    "let displayGraphHostWithInfoPanel graphHostId infoPanelId =\n",
    "    \"\"\"\n",
    "<div style=\"width: 100%; height: 700px; max-height: 700px; overflow-y: scroll; overflow-x: hidden; border: solid lightblue 1px; border-radius: 15px; position: relative\">\n",
    "    <div id=\"graphHostId\" style=\"width: 100%; height: 100%;\"></div>\n",
    "    <div id=\"infoPanelId\" style=\"width: 350px; max-width: 350px; position: absolute; top: 0; right: 0; background-color: white\"></div>\n",
    "</div>\n",
    "    \"\"\".Replace(\"graphHostId\",graphHostId).Replace(\"infoPanelId\",infoPanelId)\n",
    "    |> Util.Html |> Display"
   ]
  },
  {
   "cell_type": "markdown",
   "metadata": {},
   "source": [
    "An we must of course include the code for producing the information dumps in our dot notation extraction function. In order to keep things from becoming to convoluted, we extract all the node descriptions and send them to the bundled javascript at once."
   ]
  },
  {
   "cell_type": "code",
   "execution_count": 53,
   "metadata": {
    "scrolled": false
   },
   "outputs": [],
   "source": [
    "open Newtonsoft.Json\n",
    "\n",
    "let displayGraphWithInfo graphHostId infoHostId (model: Function) =\n",
    "    let funcs = model |> decomposeFunction //|> Array.filter (fun f -> not f.IsComposite)\n",
    "    let vars = \n",
    "        funcs \n",
    "        |> Array.collect(fun f -> [|yield! f.Inputs; yield! f.Outputs|])\n",
    "        |> Array.distinctBy (fun v -> v.Uid)\n",
    "    \n",
    "    let describe (tensor: obj) =\n",
    "        tensor |> describeNode |> JsonConvert.SerializeObject\n",
    "        \n",
    "    let nodeInfo = \n",
    "        [|  yield \"{\"\n",
    "            yield\n",
    "                funcs \n",
    "                |> Array.map \n",
    "                    (fun f -> sprintf \"\\\"%s\\\": %s\" (f.Uid) (describe f)) //f |> describeNode |> JsonConvert.SerializeObject))                            \n",
    "                |> Array.reduce(sprintf \"%s,\\n%s\")\n",
    "            yield \",\"\n",
    "            yield\n",
    "                vars \n",
    "                |> Array.map \n",
    "                    (fun v -> sprintf \"\\\"%s\\\": %s\" (v.Uid) (describe v)) // |> describeNode |> JsonConvert.SerializeObject))                            \n",
    "                |> Array.reduce(sprintf \"%s,\\n%s\")\n",
    "            yield \"}\" |]\n",
    "        |> Array.reduce(sprintf \"%s\\n%s\")\n",
    "        |> fun text -> text.Trim();\n",
    "    \n",
    "    let dotNotation =\n",
    "        funcs\n",
    "        |> Array.collect (extractGraphVizDotNotation>>Array.ofSeq)\n",
    "        |> Array.distinct \n",
    "        |> Array.reduce(sprintf \"%s\\n%s\")\n",
    "        |> sprintf \"digraph { %s }\"\n",
    "            \n",
    "    initGraph (\"#\" + infoHostId) (\"#\" + graphHostId) |> Display\n",
    "    renderDot \"dot\" dotNotation nodeInfo |> Display"
   ]
  },
  {
   "cell_type": "code",
   "execution_count": 54,
   "metadata": {},
   "outputs": [
    {
     "data": {
      "text/html": [
       "\n",
       "<div style=\"width: 100%; height: 700px; max-height: 700px; overflow-y: scroll; overflow-x: hidden; border: solid lightblue 1px; border-radius: 15px; position: relative\">\n",
       "    <div id=\"graphWithPanel\" style=\"width: 100%; height: 100%;\"></div>\n",
       "    <div id=\"infoPanel\" style=\"width: 350px; max-width: 350px; position: absolute; top: 0; right: 0; background-color: white\"></div>\n",
       "</div>\n",
       "    "
      ]
     },
     "metadata": {},
     "output_type": "display_data"
    },
    {
     "data": {
      "text/html": [
       "<script>$(document).trigger('INIT_D3', ['#infoPanel','#graphWithPanel']);</script>"
      ]
     },
     "metadata": {},
     "output_type": "display_data"
    },
    {
     "data": {
      "text/html": [
       "<script>$(document).trigger('RENDER_GRAPH', [`digraph { Softmax21 -> CompositeFunction22 [label=\"root function\"];\n",
       "Parameter13 [shape=diamond, color=green];\n",
       "Parameter2 [shape=diamond, color=green];\n",
       "Input0 [shape=invhouse, color=yellow];\n",
       "Parameter3 [shape=diamond, color=green];\n",
       "Parameter14 [shape=diamond, color=green];\n",
       "Softmax21_Output_0 [shape=invhouse, color=gray];\n",
       "Parameter13 [label=\"Weights\"];\n",
       "Parameter2 [label=\"Weights\"];\n",
       "Input0 [label=\"Features\"];\n",
       "Parameter3 [label=\"Bias\"];\n",
       "Parameter14 [label=\"Bias\"];\n",
       "Softmax21_Output_0 [label=\"Softmax21_Output_0\"];\n",
       "Parameter13 -> CompositeFunction22 [label=\"input param\"];\n",
       "Parameter2 -> CompositeFunction22 [label=\"input param\"];\n",
       "Input0 -> CompositeFunction22 [label=input];\n",
       "Parameter3 -> CompositeFunction22 [label=\"input param\"];\n",
       "Parameter14 -> CompositeFunction22 [label=\"input param\"];\n",
       "CompositeFunction22 -> Softmax21_Output_0 [label=output];\n",
       "CompositeFunction22 [label=\"CompositeFunction22\"];\n",
       "Softmax21 [label=\"Softmax21\"];\n",
       "CompositeFunction22 [shape=ellipse, fontsize=20, penwidth=2, peripheries=2];\n",
       "Softmax21 [shape=ellipse, fontsize=20, penwidth=2, size=0.6];\n",
       "Plus18_Output_0 [shape=invhouse, color=gray];\n",
       "Plus18_Output_0 [label=\"+\"];\n",
       "Plus18_Output_0 -> Softmax21 [label=input];\n",
       "Softmax21 -> Softmax21_Output_0 [label=output];\n",
       "Plus18 [label=\"+\"];\n",
       "Plus18 [shape=ellipse, fontsize=20, penwidth=2, size=0.6];\n",
       "Times15_Output_0 [shape=invhouse, color=gray];\n",
       "Times15_Output_0 [label=\"@\"];\n",
       "Times15_Output_0 -> Plus18 [label=input];\n",
       "Parameter14 -> Plus18 [label=\"input param\"];\n",
       "Plus18 -> Plus18_Output_0 [label=output];\n",
       "Times15 [label=\"@\"];\n",
       "Times15 [shape=ellipse, fontsize=20, penwidth=2, size=0.6];\n",
       "StableSigmoid10_Output_0 [shape=invhouse, color=gray];\n",
       "StableSigmoid10_Output_0 [label=\"StableSigmoid10_Output_0\"];\n",
       "Parameter13 -> Times15 [label=\"input param\"];\n",
       "StableSigmoid10_Output_0 -> Times15 [label=input];\n",
       "Times15 -> Times15_Output_0 [label=output];\n",
       "StableSigmoid10 [label=\"StableSigmoid10\"];\n",
       "StableSigmoid10 [shape=ellipse, fontsize=20, penwidth=2, size=0.6];\n",
       "Plus7_Output_0 [shape=invhouse, color=gray];\n",
       "Plus7_Output_0 [label=\"+\"];\n",
       "Plus7_Output_0 -> StableSigmoid10 [label=input];\n",
       "StableSigmoid10 -> StableSigmoid10_Output_0 [label=output];\n",
       "Plus7 [label=\"+\"];\n",
       "Plus7 [shape=ellipse, fontsize=20, penwidth=2, size=0.6];\n",
       "Times4_Output_0 [shape=invhouse, color=gray];\n",
       "Times4_Output_0 [label=\"@\"];\n",
       "Times4_Output_0 -> Plus7 [label=input];\n",
       "Parameter3 -> Plus7 [label=\"input param\"];\n",
       "Plus7 -> Plus7_Output_0 [label=output];\n",
       "Times4 [label=\"@\"];\n",
       "Times4 [shape=ellipse, fontsize=20, penwidth=2, size=0.6];\n",
       "Parameter2 -> Times4 [label=\"input param\"];\n",
       "Input0 -> Times4 [label=input];\n",
       "Times4 -> Times4_Output_0 [label=output]; }`,`{\n",
       "\"CompositeFunction22\": [{\"Key\":\"NodeType\",\"Value\":\"Function\"},{\"Key\":\"AsString\",\"Value\":\"Composite(Softmax): Input('Features', [2], [*, #]) -> Output('Softmax21_Output_0', [2], [*, #])\"},{\"Key\":\"Name\",\"Value\":\"\"},{\"Key\":\"Uid\",\"Value\":\"CompositeFunction22\"},{\"Key\":\"RootFunction\",\"Value\":\"Softmax: Output('+', [2], [*, #]) -> Output('Softmax21_Output_0', [2], [*, #])\"},{\"Key\":\"Outputs\",\"Value\":\"Output('Softmax21_Output_0', [2], [*, #])\"},{\"Key\":\"Output\",\"Value\":\"Output('Softmax21_Output_0', [2], [*, #])\"},{\"Key\":\"OpName\",\"Value\":\"CompositeFunctionOpName\"},{\"Key\":\"IsComposite\",\"Value\":\"True\"},{\"Key\":\"IsPrimitive\",\"Value\":\"False\"},{\"Key\":\"IsBlock\",\"Value\":\"False\"},{\"Key\":\"CurrentVersion\",\"Value\":\"3\"},{\"Key\":\"Arguments\",\"Value\":\"Input('Features', [2], [*, #])\"},{\"Key\":\"Inputs\",\"Value\":\"Parameter('Weights', [2 x 50], []), Parameter('Weights', [50 x 2], []), Input('Features', [2], [*, #]), Parameter('Bias', [50], []), Parameter('Bias', [2], [])\"}],\n",
       "\"Softmax21\": [{\"Key\":\"NodeType\",\"Value\":\"Function\"},{\"Key\":\"AsString\",\"Value\":\"Softmax: Output('+', [2], [*, #]) -> Output('Softmax21_Output_0', [2], [*, #])\"},{\"Key\":\"Name\",\"Value\":\"\"},{\"Key\":\"Uid\",\"Value\":\"Softmax21\"},{\"Key\":\"RootFunction\",\"Value\":\"Softmax: Output('+', [2], [*, #]) -> Output('Softmax21_Output_0', [2], [*, #])\"},{\"Key\":\"Outputs\",\"Value\":\"Output('Softmax21_Output_0', [2], [*, #])\"},{\"Key\":\"Output\",\"Value\":\"Output('Softmax21_Output_0', [2], [*, #])\"},{\"Key\":\"OpName\",\"Value\":\"Softmax\"},{\"Key\":\"IsComposite\",\"Value\":\"False\"},{\"Key\":\"IsPrimitive\",\"Value\":\"True\"},{\"Key\":\"IsBlock\",\"Value\":\"False\"},{\"Key\":\"CurrentVersion\",\"Value\":\"24\"},{\"Key\":\"Arguments\",\"Value\":\"Output('+', [2], [*, #])\"},{\"Key\":\"Inputs\",\"Value\":\"Output('+', [2], [*, #])\"}],\n",
       "\"Plus18\": [{\"Key\":\"NodeType\",\"Value\":\"Function\"},{\"Key\":\"AsString\",\"Value\":\"Plus: Output('@', [2], [*, #]) -> Output('+', [2], [*, #])\"},{\"Key\":\"Name\",\"Value\":\"+\"},{\"Key\":\"Uid\",\"Value\":\"Plus18\"},{\"Key\":\"RootFunction\",\"Value\":\"Plus: Output('@', [2], [*, #]) -> Output('+', [2], [*, #])\"},{\"Key\":\"Outputs\",\"Value\":\"Output('+', [2], [*, #])\"},{\"Key\":\"Output\",\"Value\":\"Output('+', [2], [*, #])\"},{\"Key\":\"OpName\",\"Value\":\"Plus\"},{\"Key\":\"IsComposite\",\"Value\":\"False\"},{\"Key\":\"IsPrimitive\",\"Value\":\"True\"},{\"Key\":\"IsBlock\",\"Value\":\"False\"},{\"Key\":\"CurrentVersion\",\"Value\":\"24\"},{\"Key\":\"Arguments\",\"Value\":\"Output('@', [2], [*, #])\"},{\"Key\":\"Inputs\",\"Value\":\"Output('@', [2], [*, #]), Parameter('Bias', [2], [])\"}],\n",
       "\"Times15\": [{\"Key\":\"NodeType\",\"Value\":\"Function\"},{\"Key\":\"AsString\",\"Value\":\"Times: Output('StableSigmoid10_Output_0', [50], [*, #]) -> Output('@', [2], [*, #])\"},{\"Key\":\"Name\",\"Value\":\"@\"},{\"Key\":\"Uid\",\"Value\":\"Times15\"},{\"Key\":\"RootFunction\",\"Value\":\"Times: Output('StableSigmoid10_Output_0', [50], [*, #]) -> Output('@', [2], [*, #])\"},{\"Key\":\"Outputs\",\"Value\":\"Output('@', [2], [*, #])\"},{\"Key\":\"Output\",\"Value\":\"Output('@', [2], [*, #])\"},{\"Key\":\"OpName\",\"Value\":\"Times\"},{\"Key\":\"IsComposite\",\"Value\":\"False\"},{\"Key\":\"IsPrimitive\",\"Value\":\"True\"},{\"Key\":\"IsBlock\",\"Value\":\"False\"},{\"Key\":\"CurrentVersion\",\"Value\":\"24\"},{\"Key\":\"Arguments\",\"Value\":\"Output('StableSigmoid10_Output_0', [50], [*, #])\"},{\"Key\":\"Inputs\",\"Value\":\"Parameter('Weights', [2 x 50], []), Output('StableSigmoid10_Output_0', [50], [*, #])\"}],\n",
       "\"StableSigmoid10\": [{\"Key\":\"NodeType\",\"Value\":\"Function\"},{\"Key\":\"AsString\",\"Value\":\"StableSigmoid: Output('+', [50], [*, #]) -> Output('StableSigmoid10_Output_0', [50], [*, #])\"},{\"Key\":\"Name\",\"Value\":\"\"},{\"Key\":\"Uid\",\"Value\":\"StableSigmoid10\"},{\"Key\":\"RootFunction\",\"Value\":\"StableSigmoid: Output('+', [50], [*, #]) -> Output('StableSigmoid10_Output_0', [50], [*, #])\"},{\"Key\":\"Outputs\",\"Value\":\"Output('StableSigmoid10_Output_0', [50], [*, #])\"},{\"Key\":\"Output\",\"Value\":\"Output('StableSigmoid10_Output_0', [50], [*, #])\"},{\"Key\":\"OpName\",\"Value\":\"StableSigmoid\"},{\"Key\":\"IsComposite\",\"Value\":\"False\"},{\"Key\":\"IsPrimitive\",\"Value\":\"True\"},{\"Key\":\"IsBlock\",\"Value\":\"False\"},{\"Key\":\"CurrentVersion\",\"Value\":\"24\"},{\"Key\":\"Arguments\",\"Value\":\"Output('+', [50], [*, #])\"},{\"Key\":\"Inputs\",\"Value\":\"Output('+', [50], [*, #])\"}],\n",
       "\"Plus7\": [{\"Key\":\"NodeType\",\"Value\":\"Function\"},{\"Key\":\"AsString\",\"Value\":\"Plus: Output('@', [50], [*, #]) -> Output('+', [50], [*, #])\"},{\"Key\":\"Name\",\"Value\":\"+\"},{\"Key\":\"Uid\",\"Value\":\"Plus7\"},{\"Key\":\"RootFunction\",\"Value\":\"Plus: Output('@', [50], [*, #]) -> Output('+', [50], [*, #])\"},{\"Key\":\"Outputs\",\"Value\":\"Output('+', [50], [*, #])\"},{\"Key\":\"Output\",\"Value\":\"Output('+', [50], [*, #])\"},{\"Key\":\"OpName\",\"Value\":\"Plus\"},{\"Key\":\"IsComposite\",\"Value\":\"False\"},{\"Key\":\"IsPrimitive\",\"Value\":\"True\"},{\"Key\":\"IsBlock\",\"Value\":\"False\"},{\"Key\":\"CurrentVersion\",\"Value\":\"24\"},{\"Key\":\"Arguments\",\"Value\":\"Output('@', [50], [*, #])\"},{\"Key\":\"Inputs\",\"Value\":\"Output('@', [50], [*, #]), Parameter('Bias', [50], [])\"}],\n",
       "\"Times4\": [{\"Key\":\"NodeType\",\"Value\":\"Function\"},{\"Key\":\"AsString\",\"Value\":\"Times: Input('Features', [2], [*, #]) -> Output('@', [50], [*, #])\"},{\"Key\":\"Name\",\"Value\":\"@\"},{\"Key\":\"Uid\",\"Value\":\"Times4\"},{\"Key\":\"RootFunction\",\"Value\":\"Times: Input('Features', [2], [*, #]) -> Output('@', [50], [*, #])\"},{\"Key\":\"Outputs\",\"Value\":\"Output('@', [50], [*, #])\"},{\"Key\":\"Output\",\"Value\":\"Output('@', [50], [*, #])\"},{\"Key\":\"OpName\",\"Value\":\"Times\"},{\"Key\":\"IsComposite\",\"Value\":\"False\"},{\"Key\":\"IsPrimitive\",\"Value\":\"True\"},{\"Key\":\"IsBlock\",\"Value\":\"False\"},{\"Key\":\"CurrentVersion\",\"Value\":\"24\"},{\"Key\":\"Arguments\",\"Value\":\"Input('Features', [2], [*, #])\"},{\"Key\":\"Inputs\",\"Value\":\"Parameter('Weights', [50 x 2], []), Input('Features', [2], [*, #])\"}]\n",
       ",\n",
       "\"Parameter13\": [{\"Key\":\"NodeType\",\"Value\":\"Variable\"},{\"Key\":\"AsString\",\"Value\":\"Parameter('Weights', [2 x 50], [])\"},{\"Key\":\"Shape\",\"Value\":\"[2 x 50]\"},{\"Key\":\"Name\",\"Value\":\"Weights\"},{\"Key\":\"Uid\",\"Value\":\"Parameter13\"},{\"Key\":\"Kind\",\"Value\":\"Parameter\"},{\"Key\":\"DataType\",\"Value\":\"Float\"},{\"Key\":\"DynamicAxes\",\"Value\":\"[]\"},{\"Key\":\"IsSparse\",\"Value\":\"False\"},{\"Key\":\"IsInput\",\"Value\":\"False\"},{\"Key\":\"IsOutput\",\"Value\":\"False\"},{\"Key\":\"IsParameter\",\"Value\":\"True\"},{\"Key\":\"IsConstant\",\"Value\":\"False\"},{\"Key\":\"IsPlaceholder\",\"Value\":\"False\"},{\"Key\":\"Owner\",\"Value\":\"\"},{\"Key\":\"NeedsGradient\",\"Value\":\"True\"},{\"Key\":\"CurrentValueTimeStamp\",\"Value\":\"0\"}],\n",
       "\"Parameter2\": [{\"Key\":\"NodeType\",\"Value\":\"Variable\"},{\"Key\":\"AsString\",\"Value\":\"Parameter('Weights', [50 x 2], [])\"},{\"Key\":\"Shape\",\"Value\":\"[50 x 2]\"},{\"Key\":\"Name\",\"Value\":\"Weights\"},{\"Key\":\"Uid\",\"Value\":\"Parameter2\"},{\"Key\":\"Kind\",\"Value\":\"Parameter\"},{\"Key\":\"DataType\",\"Value\":\"Float\"},{\"Key\":\"DynamicAxes\",\"Value\":\"[]\"},{\"Key\":\"IsSparse\",\"Value\":\"False\"},{\"Key\":\"IsInput\",\"Value\":\"False\"},{\"Key\":\"IsOutput\",\"Value\":\"False\"},{\"Key\":\"IsParameter\",\"Value\":\"True\"},{\"Key\":\"IsConstant\",\"Value\":\"False\"},{\"Key\":\"IsPlaceholder\",\"Value\":\"False\"},{\"Key\":\"Owner\",\"Value\":\"\"},{\"Key\":\"NeedsGradient\",\"Value\":\"True\"},{\"Key\":\"CurrentValueTimeStamp\",\"Value\":\"0\"}],\n",
       "\"Input0\": [{\"Key\":\"NodeType\",\"Value\":\"Variable\"},{\"Key\":\"AsString\",\"Value\":\"Input('Features', [2], [*, #])\"},{\"Key\":\"Shape\",\"Value\":\"[2]\"},{\"Key\":\"Name\",\"Value\":\"Features\"},{\"Key\":\"Uid\",\"Value\":\"Input0\"},{\"Key\":\"Kind\",\"Value\":\"Input\"},{\"Key\":\"DataType\",\"Value\":\"Float\"},{\"Key\":\"DynamicAxes\",\"Value\":\"Axis('defaultDynamicAxis'), Axis('defaultBatchAxis')\"},{\"Key\":\"IsSparse\",\"Value\":\"False\"},{\"Key\":\"IsInput\",\"Value\":\"True\"},{\"Key\":\"IsOutput\",\"Value\":\"False\"},{\"Key\":\"IsParameter\",\"Value\":\"False\"},{\"Key\":\"IsConstant\",\"Value\":\"False\"},{\"Key\":\"IsPlaceholder\",\"Value\":\"False\"},{\"Key\":\"Owner\",\"Value\":\"\"},{\"Key\":\"NeedsGradient\",\"Value\":\"False\"},{\"Key\":\"CurrentValueTimeStamp\",\"Value\":\"Exception has been thrown by the target of an invocation.\"}],\n",
       "\"Parameter3\": [{\"Key\":\"NodeType\",\"Value\":\"Variable\"},{\"Key\":\"AsString\",\"Value\":\"Parameter('Bias', [50], [])\"},{\"Key\":\"Shape\",\"Value\":\"[50]\"},{\"Key\":\"Name\",\"Value\":\"Bias\"},{\"Key\":\"Uid\",\"Value\":\"Parameter3\"},{\"Key\":\"Kind\",\"Value\":\"Parameter\"},{\"Key\":\"DataType\",\"Value\":\"Float\"},{\"Key\":\"DynamicAxes\",\"Value\":\"[]\"},{\"Key\":\"IsSparse\",\"Value\":\"False\"},{\"Key\":\"IsInput\",\"Value\":\"False\"},{\"Key\":\"IsOutput\",\"Value\":\"False\"},{\"Key\":\"IsParameter\",\"Value\":\"True\"},{\"Key\":\"IsConstant\",\"Value\":\"False\"},{\"Key\":\"IsPlaceholder\",\"Value\":\"False\"},{\"Key\":\"Owner\",\"Value\":\"\"},{\"Key\":\"NeedsGradient\",\"Value\":\"True\"},{\"Key\":\"CurrentValueTimeStamp\",\"Value\":\"0\"}],\n",
       "\"Parameter14\": [{\"Key\":\"NodeType\",\"Value\":\"Variable\"},{\"Key\":\"AsString\",\"Value\":\"Parameter('Bias', [2], [])\"},{\"Key\":\"Shape\",\"Value\":\"[2]\"},{\"Key\":\"Name\",\"Value\":\"Bias\"},{\"Key\":\"Uid\",\"Value\":\"Parameter14\"},{\"Key\":\"Kind\",\"Value\":\"Parameter\"},{\"Key\":\"DataType\",\"Value\":\"Float\"},{\"Key\":\"DynamicAxes\",\"Value\":\"[]\"},{\"Key\":\"IsSparse\",\"Value\":\"False\"},{\"Key\":\"IsInput\",\"Value\":\"False\"},{\"Key\":\"IsOutput\",\"Value\":\"False\"},{\"Key\":\"IsParameter\",\"Value\":\"True\"},{\"Key\":\"IsConstant\",\"Value\":\"False\"},{\"Key\":\"IsPlaceholder\",\"Value\":\"False\"},{\"Key\":\"Owner\",\"Value\":\"\"},{\"Key\":\"NeedsGradient\",\"Value\":\"True\"},{\"Key\":\"CurrentValueTimeStamp\",\"Value\":\"0\"}],\n",
       "\"Softmax21_Output_0\": [{\"Key\":\"NodeType\",\"Value\":\"Variable\"},{\"Key\":\"AsString\",\"Value\":\"Output('Softmax21_Output_0', [2], [*, #])\"},{\"Key\":\"Shape\",\"Value\":\"[2]\"},{\"Key\":\"Name\",\"Value\":\"\"},{\"Key\":\"Uid\",\"Value\":\"Softmax21_Output_0\"},{\"Key\":\"Kind\",\"Value\":\"Output\"},{\"Key\":\"DataType\",\"Value\":\"Float\"},{\"Key\":\"DynamicAxes\",\"Value\":\"Axis('defaultDynamicAxis'), Axis('defaultBatchAxis')\"},{\"Key\":\"IsSparse\",\"Value\":\"False\"},{\"Key\":\"IsInput\",\"Value\":\"False\"},{\"Key\":\"IsOutput\",\"Value\":\"True\"},{\"Key\":\"IsParameter\",\"Value\":\"False\"},{\"Key\":\"IsConstant\",\"Value\":\"False\"},{\"Key\":\"IsPlaceholder\",\"Value\":\"False\"},{\"Key\":\"Owner\",\"Value\":\"Softmax: Output('+', [2], [*, #]) -> Output('Softmax21_Output_0', [2], [*, #])\"},{\"Key\":\"NeedsGradient\",\"Value\":\"True\"},{\"Key\":\"CurrentValueTimeStamp\",\"Value\":\"Exception has been thrown by the target of an invocation.\"}],\n",
       "\"Plus18_Output_0\": [{\"Key\":\"NodeType\",\"Value\":\"Variable\"},{\"Key\":\"AsString\",\"Value\":\"Output('+', [2], [*, #])\"},{\"Key\":\"Shape\",\"Value\":\"[2]\"},{\"Key\":\"Name\",\"Value\":\"+\"},{\"Key\":\"Uid\",\"Value\":\"Plus18_Output_0\"},{\"Key\":\"Kind\",\"Value\":\"Output\"},{\"Key\":\"DataType\",\"Value\":\"Float\"},{\"Key\":\"DynamicAxes\",\"Value\":\"Axis('defaultDynamicAxis'), Axis('defaultBatchAxis')\"},{\"Key\":\"IsSparse\",\"Value\":\"False\"},{\"Key\":\"IsInput\",\"Value\":\"False\"},{\"Key\":\"IsOutput\",\"Value\":\"True\"},{\"Key\":\"IsParameter\",\"Value\":\"False\"},{\"Key\":\"IsConstant\",\"Value\":\"False\"},{\"Key\":\"IsPlaceholder\",\"Value\":\"False\"},{\"Key\":\"Owner\",\"Value\":\"Plus: Output('@', [2], [*, #]) -> Output('+', [2], [*, #])\"},{\"Key\":\"NeedsGradient\",\"Value\":\"True\"},{\"Key\":\"CurrentValueTimeStamp\",\"Value\":\"Exception has been thrown by the target of an invocation.\"}],\n",
       "\"Times15_Output_0\": [{\"Key\":\"NodeType\",\"Value\":\"Variable\"},{\"Key\":\"AsString\",\"Value\":\"Output('@', [2], [*, #])\"},{\"Key\":\"Shape\",\"Value\":\"[2]\"},{\"Key\":\"Name\",\"Value\":\"@\"},{\"Key\":\"Uid\",\"Value\":\"Times15_Output_0\"},{\"Key\":\"Kind\",\"Value\":\"Output\"},{\"Key\":\"DataType\",\"Value\":\"Float\"},{\"Key\":\"DynamicAxes\",\"Value\":\"Axis('defaultDynamicAxis'), Axis('defaultBatchAxis')\"},{\"Key\":\"IsSparse\",\"Value\":\"False\"},{\"Key\":\"IsInput\",\"Value\":\"False\"},{\"Key\":\"IsOutput\",\"Value\":\"True\"},{\"Key\":\"IsParameter\",\"Value\":\"False\"},{\"Key\":\"IsConstant\",\"Value\":\"False\"},{\"Key\":\"IsPlaceholder\",\"Value\":\"False\"},{\"Key\":\"Owner\",\"Value\":\"Times: Output('StableSigmoid10_Output_0', [50], [*, #]) -> Output('@', [2], [*, #])\"},{\"Key\":\"NeedsGradient\",\"Value\":\"True\"},{\"Key\":\"CurrentValueTimeStamp\",\"Value\":\"Exception has been thrown by the target of an invocation.\"}],\n",
       "\"StableSigmoid10_Output_0\": [{\"Key\":\"NodeType\",\"Value\":\"Variable\"},{\"Key\":\"AsString\",\"Value\":\"Output('StableSigmoid10_Output_0', [50], [*, #])\"},{\"Key\":\"Shape\",\"Value\":\"[50]\"},{\"Key\":\"Name\",\"Value\":\"\"},{\"Key\":\"Uid\",\"Value\":\"StableSigmoid10_Output_0\"},{\"Key\":\"Kind\",\"Value\":\"Output\"},{\"Key\":\"DataType\",\"Value\":\"Float\"},{\"Key\":\"DynamicAxes\",\"Value\":\"Axis('defaultDynamicAxis'), Axis('defaultBatchAxis')\"},{\"Key\":\"IsSparse\",\"Value\":\"False\"},{\"Key\":\"IsInput\",\"Value\":\"False\"},{\"Key\":\"IsOutput\",\"Value\":\"True\"},{\"Key\":\"IsParameter\",\"Value\":\"False\"},{\"Key\":\"IsConstant\",\"Value\":\"False\"},{\"Key\":\"IsPlaceholder\",\"Value\":\"False\"},{\"Key\":\"Owner\",\"Value\":\"StableSigmoid: Output('+', [50], [*, #]) -> Output('StableSigmoid10_Output_0', [50], [*, #])\"},{\"Key\":\"NeedsGradient\",\"Value\":\"True\"},{\"Key\":\"CurrentValueTimeStamp\",\"Value\":\"Exception has been thrown by the target of an invocation.\"}],\n",
       "\"Plus7_Output_0\": [{\"Key\":\"NodeType\",\"Value\":\"Variable\"},{\"Key\":\"AsString\",\"Value\":\"Output('+', [50], [*, #])\"},{\"Key\":\"Shape\",\"Value\":\"[50]\"},{\"Key\":\"Name\",\"Value\":\"+\"},{\"Key\":\"Uid\",\"Value\":\"Plus7_Output_0\"},{\"Key\":\"Kind\",\"Value\":\"Output\"},{\"Key\":\"DataType\",\"Value\":\"Float\"},{\"Key\":\"DynamicAxes\",\"Value\":\"Axis('defaultDynamicAxis'), Axis('defaultBatchAxis')\"},{\"Key\":\"IsSparse\",\"Value\":\"False\"},{\"Key\":\"IsInput\",\"Value\":\"False\"},{\"Key\":\"IsOutput\",\"Value\":\"True\"},{\"Key\":\"IsParameter\",\"Value\":\"False\"},{\"Key\":\"IsConstant\",\"Value\":\"False\"},{\"Key\":\"IsPlaceholder\",\"Value\":\"False\"},{\"Key\":\"Owner\",\"Value\":\"Plus: Output('@', [50], [*, #]) -> Output('+', [50], [*, #])\"},{\"Key\":\"NeedsGradient\",\"Value\":\"True\"},{\"Key\":\"CurrentValueTimeStamp\",\"Value\":\"Exception has been thrown by the target of an invocation.\"}],\n",
       "\"Times4_Output_0\": [{\"Key\":\"NodeType\",\"Value\":\"Variable\"},{\"Key\":\"AsString\",\"Value\":\"Output('@', [50], [*, #])\"},{\"Key\":\"Shape\",\"Value\":\"[50]\"},{\"Key\":\"Name\",\"Value\":\"@\"},{\"Key\":\"Uid\",\"Value\":\"Times4_Output_0\"},{\"Key\":\"Kind\",\"Value\":\"Output\"},{\"Key\":\"DataType\",\"Value\":\"Float\"},{\"Key\":\"DynamicAxes\",\"Value\":\"Axis('defaultDynamicAxis'), Axis('defaultBatchAxis')\"},{\"Key\":\"IsSparse\",\"Value\":\"False\"},{\"Key\":\"IsInput\",\"Value\":\"False\"},{\"Key\":\"IsOutput\",\"Value\":\"True\"},{\"Key\":\"IsParameter\",\"Value\":\"False\"},{\"Key\":\"IsConstant\",\"Value\":\"False\"},{\"Key\":\"IsPlaceholder\",\"Value\":\"False\"},{\"Key\":\"Owner\",\"Value\":\"Times: Input('Features', [2], [*, #]) -> Output('@', [50], [*, #])\"},{\"Key\":\"NeedsGradient\",\"Value\":\"True\"},{\"Key\":\"CurrentValueTimeStamp\",\"Value\":\"Exception has been thrown by the target of an invocation.\"}]\n",
       "}`, 'dot']);</script>"
      ]
     },
     "metadata": {},
     "output_type": "display_data"
    }
   ],
   "source": [
    "displayGraphHostWithInfoPanel \"graphWithPanel\" \"infoPanel\"\n",
    "displayGraphWithInfo \"graphWithPanel\" \"infoPanel\" z"
   ]
  },
  {
   "cell_type": "code",
   "execution_count": 37,
   "metadata": {},
   "outputs": [],
   "source": [
    "module Engine =    \n",
    "    let dot = \"dot\"\n",
    "    let circo = \"circo\"\n",
    "    let fdp = \"fdp\"\n",
    "    let neato = \"neato\"\n",
    "    let osage = \"osage\"\n",
    "    let patchwork = \"patchwork\"\n",
    "    let twopi = \"twopi\""
   ]
  },
  {
   "cell_type": "markdown",
   "metadata": {},
   "source": [
    "<div style=\"width: 100%; height: 700px; max-height: 700px; overflow-y: scroll; overflow-x: hidden; border: solid lightblue 1px; border-radius: 15px; position: relative\">\n",
    "    <div id=\"graph\" style=\"width: 100%; height: 100%;\"></div>\n",
    "    <div id=\"info\" style=\"width: 350px; max-width: 350px; position: absolute; top: 0; right: 0; background-color: white\"></div>\n",
    "    <div style=\"display: flex;position: absolute; top: 10px; left: 10px; align-items: center;\">\n",
    "        <span>Graphviz engine:</span>\n",
    "        <select id=\"engineSelect\" class=\"form-control\" style=\"width: 150px\">\n",
    "            <option>dot</option>\n",
    "            <option>circo</option>\n",
    "            <option>fdp</option>\n",
    "            <option>neato</option>\n",
    "            <option>osage</option>\n",
    "            <option>patchwork</option>\n",
    "            <option>twopi</option>\n",
    "        </select>\n",
    "    <div>\n",
    "</div>"
   ]
  },
  {
   "cell_type": "code",
   "execution_count": 39,
   "metadata": {},
   "outputs": [
    {
     "data": {
      "text/html": [
       "<script>$(document).trigger('INIT_D3', ['','#gradualGraph2']);</script>"
      ]
     },
     "metadata": {},
     "output_type": "display_data"
    },
    {
     "data": {
      "text/html": [
       "<script>$(document).trigger('RENDER_SERIES', [['digraph {  }','digraph {  Parameter2 [shape=diamond, color=green]; Input0 [shape=invhouse, color=yellow]; Times4_Output_0 [shape=invhouse, color=gray]; Parameter2 [label=\"Weights\"]; Input0 [label=\"Features\"]; Times4_Output_0 [label=\"@\"]; Parameter2 -> Times4 [label=\"input param\"]; Input0 -> Times4 [label=input]; Times4 -> Times4_Output_0 [label=output]; Times4 [label=\"@\"]; Times4 [shape=ellipse, fontsize=20, penwidth=2, size=0.6]; }','digraph {  Parameter2 [shape=diamond, color=green]; Input0 [shape=invhouse, color=yellow]; Times4_Output_0 [shape=invhouse, color=gray]; Parameter2 [label=\"Weights\"]; Input0 [label=\"Features\"]; Times4_Output_0 [label=\"@\"]; Parameter2 -> Times4 [label=\"input param\"]; Input0 -> Times4 [label=input]; Times4 -> Times4_Output_0 [label=output]; Times4 [label=\"@\"]; Times4 [shape=ellipse, fontsize=20, penwidth=2, size=0.6]; Times4_Output_0 [shape=invhouse, color=gray]; Parameter3 [shape=diamond, color=green]; Plus7_Output_0 [shape=invhouse, color=gray]; Times4_Output_0 [label=\"@\"]; Parameter3 [label=\"Bias\"]; Plus7_Output_0 [label=\"+\"]; Times4_Output_0 -> Plus7 [label=input]; Parameter3 -> Plus7 [label=\"input param\"]; Plus7 -> Plus7_Output_0 [label=output]; Plus7 [label=\"+\"]; Times4 [label=\"@\"]; Plus7 [shape=ellipse, fontsize=20, penwidth=2, size=0.6]; Times4 [shape=ellipse, fontsize=20, penwidth=2, size=0.6]; }','digraph {  Parameter2 [shape=diamond, color=green]; Input0 [shape=invhouse, color=yellow]; Times4_Output_0 [shape=invhouse, color=gray]; Parameter2 [label=\"Weights\"]; Input0 [label=\"Features\"]; Times4_Output_0 [label=\"@\"]; Parameter2 -> Times4 [label=\"input param\"]; Input0 -> Times4 [label=input]; Times4 -> Times4_Output_0 [label=output]; Times4 [label=\"@\"]; Times4 [shape=ellipse, fontsize=20, penwidth=2, size=0.6]; Times4_Output_0 [shape=invhouse, color=gray]; Parameter3 [shape=diamond, color=green]; Plus7_Output_0 [shape=invhouse, color=gray]; Times4_Output_0 [label=\"@\"]; Parameter3 [label=\"Bias\"]; Plus7_Output_0 [label=\"+\"]; Times4_Output_0 -> Plus7 [label=input]; Parameter3 -> Plus7 [label=\"input param\"]; Plus7 -> Plus7_Output_0 [label=output]; Plus7 [label=\"+\"]; Times4 [label=\"@\"]; Plus7 [shape=ellipse, fontsize=20, penwidth=2, size=0.6]; Times4 [shape=ellipse, fontsize=20, penwidth=2, size=0.6]; Plus7_Output_0 [shape=invhouse, color=gray]; StableSigmoid10_Output_0 [shape=invhouse, color=gray]; Plus7_Output_0 [label=\"+\"]; StableSigmoid10_Output_0 [label=\"StableSigmoid10_Output_0\"]; Plus7_Output_0 -> StableSigmoid10 [label=input]; StableSigmoid10 -> StableSigmoid10_Output_0 [label=output]; StableSigmoid10 [label=\"StableSigmoid10\"]; Plus7 [label=\"+\"]; StableSigmoid10 [shape=ellipse, fontsize=20, penwidth=2, size=0.6]; Plus7 [shape=ellipse, fontsize=20, penwidth=2, size=0.6]; }','digraph {  Parameter2 [shape=diamond, color=green]; Input0 [shape=invhouse, color=yellow]; Times4_Output_0 [shape=invhouse, color=gray]; Parameter2 [label=\"Weights\"]; Input0 [label=\"Features\"]; Times4_Output_0 [label=\"@\"]; Parameter2 -> Times4 [label=\"input param\"]; Input0 -> Times4 [label=input]; Times4 -> Times4_Output_0 [label=output]; Times4 [label=\"@\"]; Times4 [shape=ellipse, fontsize=20, penwidth=2, size=0.6]; Times4_Output_0 [shape=invhouse, color=gray]; Parameter3 [shape=diamond, color=green]; Plus7_Output_0 [shape=invhouse, color=gray]; Times4_Output_0 [label=\"@\"]; Parameter3 [label=\"Bias\"]; Plus7_Output_0 [label=\"+\"]; Times4_Output_0 -> Plus7 [label=input]; Parameter3 -> Plus7 [label=\"input param\"]; Plus7 -> Plus7_Output_0 [label=output]; Plus7 [label=\"+\"]; Times4 [label=\"@\"]; Plus7 [shape=ellipse, fontsize=20, penwidth=2, size=0.6]; Times4 [shape=ellipse, fontsize=20, penwidth=2, size=0.6]; Plus7_Output_0 [shape=invhouse, color=gray]; StableSigmoid10_Output_0 [shape=invhouse, color=gray]; Plus7_Output_0 [label=\"+\"]; StableSigmoid10_Output_0 [label=\"StableSigmoid10_Output_0\"]; Plus7_Output_0 -> StableSigmoid10 [label=input]; StableSigmoid10 -> StableSigmoid10_Output_0 [label=output]; StableSigmoid10 [label=\"StableSigmoid10\"]; Plus7 [label=\"+\"]; StableSigmoid10 [shape=ellipse, fontsize=20, penwidth=2, size=0.6]; Plus7 [shape=ellipse, fontsize=20, penwidth=2, size=0.6]; Parameter13 [shape=diamond, color=green]; StableSigmoid10_Output_0 [shape=invhouse, color=gray]; Times15_Output_0 [shape=invhouse, color=gray]; Parameter13 [label=\"Weights\"]; StableSigmoid10_Output_0 [label=\"StableSigmoid10_Output_0\"]; Times15_Output_0 [label=\"@\"]; Parameter13 -> Times15 [label=\"input param\"]; StableSigmoid10_Output_0 -> Times15 [label=input]; Times15 -> Times15_Output_0 [label=output]; Times15 [label=\"@\"]; StableSigmoid10 [label=\"StableSigmoid10\"]; Times15 [shape=ellipse, fontsize=20, penwidth=2, size=0.6]; StableSigmoid10 [shape=ellipse, fontsize=20, penwidth=2, size=0.6]; }','digraph {  Parameter2 [shape=diamond, color=green]; Input0 [shape=invhouse, color=yellow]; Times4_Output_0 [shape=invhouse, color=gray]; Parameter2 [label=\"Weights\"]; Input0 [label=\"Features\"]; Times4_Output_0 [label=\"@\"]; Parameter2 -> Times4 [label=\"input param\"]; Input0 -> Times4 [label=input]; Times4 -> Times4_Output_0 [label=output]; Times4 [label=\"@\"]; Times4 [shape=ellipse, fontsize=20, penwidth=2, size=0.6]; Times4_Output_0 [shape=invhouse, color=gray]; Parameter3 [shape=diamond, color=green]; Plus7_Output_0 [shape=invhouse, color=gray]; Times4_Output_0 [label=\"@\"]; Parameter3 [label=\"Bias\"]; Plus7_Output_0 [label=\"+\"]; Times4_Output_0 -> Plus7 [label=input]; Parameter3 -> Plus7 [label=\"input param\"]; Plus7 -> Plus7_Output_0 [label=output]; Plus7 [label=\"+\"]; Times4 [label=\"@\"]; Plus7 [shape=ellipse, fontsize=20, penwidth=2, size=0.6]; Times4 [shape=ellipse, fontsize=20, penwidth=2, size=0.6]; Plus7_Output_0 [shape=invhouse, color=gray]; StableSigmoid10_Output_0 [shape=invhouse, color=gray]; Plus7_Output_0 [label=\"+\"]; StableSigmoid10_Output_0 [label=\"StableSigmoid10_Output_0\"]; Plus7_Output_0 -> StableSigmoid10 [label=input]; StableSigmoid10 -> StableSigmoid10_Output_0 [label=output]; StableSigmoid10 [label=\"StableSigmoid10\"]; Plus7 [label=\"+\"]; StableSigmoid10 [shape=ellipse, fontsize=20, penwidth=2, size=0.6]; Plus7 [shape=ellipse, fontsize=20, penwidth=2, size=0.6]; Parameter13 [shape=diamond, color=green]; StableSigmoid10_Output_0 [shape=invhouse, color=gray]; Times15_Output_0 [shape=invhouse, color=gray]; Parameter13 [label=\"Weights\"]; StableSigmoid10_Output_0 [label=\"StableSigmoid10_Output_0\"]; Times15_Output_0 [label=\"@\"]; Parameter13 -> Times15 [label=\"input param\"]; StableSigmoid10_Output_0 -> Times15 [label=input]; Times15 -> Times15_Output_0 [label=output]; Times15 [label=\"@\"]; StableSigmoid10 [label=\"StableSigmoid10\"]; Times15 [shape=ellipse, fontsize=20, penwidth=2, size=0.6]; StableSigmoid10 [shape=ellipse, fontsize=20, penwidth=2, size=0.6]; Times15_Output_0 [shape=invhouse, color=gray]; Parameter14 [shape=diamond, color=green]; Plus18_Output_0 [shape=invhouse, color=gray]; Times15_Output_0 [label=\"@\"]; Parameter14 [label=\"Bias\"]; Plus18_Output_0 [label=\"+\"]; Times15_Output_0 -> Plus18 [label=input]; Parameter14 -> Plus18 [label=\"input param\"]; Plus18 -> Plus18_Output_0 [label=output]; Plus18 [label=\"+\"]; Times15 [label=\"@\"]; Plus18 [shape=ellipse, fontsize=20, penwidth=2, size=0.6]; Times15 [shape=ellipse, fontsize=20, penwidth=2, size=0.6]; }','digraph {  Parameter2 [shape=diamond, color=green]; Input0 [shape=invhouse, color=yellow]; Times4_Output_0 [shape=invhouse, color=gray]; Parameter2 [label=\"Weights\"]; Input0 [label=\"Features\"]; Times4_Output_0 [label=\"@\"]; Parameter2 -> Times4 [label=\"input param\"]; Input0 -> Times4 [label=input]; Times4 -> Times4_Output_0 [label=output]; Times4 [label=\"@\"]; Times4 [shape=ellipse, fontsize=20, penwidth=2, size=0.6]; Times4_Output_0 [shape=invhouse, color=gray]; Parameter3 [shape=diamond, color=green]; Plus7_Output_0 [shape=invhouse, color=gray]; Times4_Output_0 [label=\"@\"]; Parameter3 [label=\"Bias\"]; Plus7_Output_0 [label=\"+\"]; Times4_Output_0 -> Plus7 [label=input]; Parameter3 -> Plus7 [label=\"input param\"]; Plus7 -> Plus7_Output_0 [label=output]; Plus7 [label=\"+\"]; Times4 [label=\"@\"]; Plus7 [shape=ellipse, fontsize=20, penwidth=2, size=0.6]; Times4 [shape=ellipse, fontsize=20, penwidth=2, size=0.6]; Plus7_Output_0 [shape=invhouse, color=gray]; StableSigmoid10_Output_0 [shape=invhouse, color=gray]; Plus7_Output_0 [label=\"+\"]; StableSigmoid10_Output_0 [label=\"StableSigmoid10_Output_0\"]; Plus7_Output_0 -> StableSigmoid10 [label=input]; StableSigmoid10 -> StableSigmoid10_Output_0 [label=output]; StableSigmoid10 [label=\"StableSigmoid10\"]; Plus7 [label=\"+\"]; StableSigmoid10 [shape=ellipse, fontsize=20, penwidth=2, size=0.6]; Plus7 [shape=ellipse, fontsize=20, penwidth=2, size=0.6]; Parameter13 [shape=diamond, color=green]; StableSigmoid10_Output_0 [shape=invhouse, color=gray]; Times15_Output_0 [shape=invhouse, color=gray]; Parameter13 [label=\"Weights\"]; StableSigmoid10_Output_0 [label=\"StableSigmoid10_Output_0\"]; Times15_Output_0 [label=\"@\"]; Parameter13 -> Times15 [label=\"input param\"]; StableSigmoid10_Output_0 -> Times15 [label=input]; Times15 -> Times15_Output_0 [label=output]; Times15 [label=\"@\"]; StableSigmoid10 [label=\"StableSigmoid10\"]; Times15 [shape=ellipse, fontsize=20, penwidth=2, size=0.6]; StableSigmoid10 [shape=ellipse, fontsize=20, penwidth=2, size=0.6]; Times15_Output_0 [shape=invhouse, color=gray]; Parameter14 [shape=diamond, color=green]; Plus18_Output_0 [shape=invhouse, color=gray]; Times15_Output_0 [label=\"@\"]; Parameter14 [label=\"Bias\"]; Plus18_Output_0 [label=\"+\"]; Times15_Output_0 -> Plus18 [label=input]; Parameter14 -> Plus18 [label=\"input param\"]; Plus18 -> Plus18_Output_0 [label=output]; Plus18 [label=\"+\"]; Times15 [label=\"@\"]; Plus18 [shape=ellipse, fontsize=20, penwidth=2, size=0.6]; Times15 [shape=ellipse, fontsize=20, penwidth=2, size=0.6]; Plus18_Output_0 [shape=invhouse, color=gray]; Softmax21_Output_0 [shape=invhouse, color=gray]; Plus18_Output_0 [label=\"+\"]; Softmax21_Output_0 [label=\"Softmax21_Output_0\"]; Plus18_Output_0 -> Softmax21 [label=input]; Softmax21 -> Softmax21_Output_0 [label=output]; Softmax21 [label=\"Softmax21\"]; Plus18 [label=\"+\"]; Softmax21 [shape=ellipse, fontsize=20, penwidth=2, size=0.6]; Plus18 [shape=ellipse, fontsize=20, penwidth=2, size=0.6]; }','digraph {  Parameter2 [shape=diamond, color=green]; Input0 [shape=invhouse, color=yellow]; Times4_Output_0 [shape=invhouse, color=gray]; Parameter2 [label=\"Weights\"]; Input0 [label=\"Features\"]; Times4_Output_0 [label=\"@\"]; Parameter2 -> Times4 [label=\"input param\"]; Input0 -> Times4 [label=input]; Times4 -> Times4_Output_0 [label=output]; Times4 [label=\"@\"]; Times4 [shape=ellipse, fontsize=20, penwidth=2, size=0.6]; Times4_Output_0 [shape=invhouse, color=gray]; Parameter3 [shape=diamond, color=green]; Plus7_Output_0 [shape=invhouse, color=gray]; Times4_Output_0 [label=\"@\"]; Parameter3 [label=\"Bias\"]; Plus7_Output_0 [label=\"+\"]; Times4_Output_0 -> Plus7 [label=input]; Parameter3 -> Plus7 [label=\"input param\"]; Plus7 -> Plus7_Output_0 [label=output]; Plus7 [label=\"+\"]; Times4 [label=\"@\"]; Plus7 [shape=ellipse, fontsize=20, penwidth=2, size=0.6]; Times4 [shape=ellipse, fontsize=20, penwidth=2, size=0.6]; Plus7_Output_0 [shape=invhouse, color=gray]; StableSigmoid10_Output_0 [shape=invhouse, color=gray]; Plus7_Output_0 [label=\"+\"]; StableSigmoid10_Output_0 [label=\"StableSigmoid10_Output_0\"]; Plus7_Output_0 -> StableSigmoid10 [label=input]; StableSigmoid10 -> StableSigmoid10_Output_0 [label=output]; StableSigmoid10 [label=\"StableSigmoid10\"]; Plus7 [label=\"+\"]; StableSigmoid10 [shape=ellipse, fontsize=20, penwidth=2, size=0.6]; Plus7 [shape=ellipse, fontsize=20, penwidth=2, size=0.6]; Parameter13 [shape=diamond, color=green]; StableSigmoid10_Output_0 [shape=invhouse, color=gray]; Times15_Output_0 [shape=invhouse, color=gray]; Parameter13 [label=\"Weights\"]; StableSigmoid10_Output_0 [label=\"StableSigmoid10_Output_0\"]; Times15_Output_0 [label=\"@\"]; Parameter13 -> Times15 [label=\"input param\"]; StableSigmoid10_Output_0 -> Times15 [label=input]; Times15 -> Times15_Output_0 [label=output]; Times15 [label=\"@\"]; StableSigmoid10 [label=\"StableSigmoid10\"]; Times15 [shape=ellipse, fontsize=20, penwidth=2, size=0.6]; StableSigmoid10 [shape=ellipse, fontsize=20, penwidth=2, size=0.6]; Times15_Output_0 [shape=invhouse, color=gray]; Parameter14 [shape=diamond, color=green]; Plus18_Output_0 [shape=invhouse, color=gray]; Times15_Output_0 [label=\"@\"]; Parameter14 [label=\"Bias\"]; Plus18_Output_0 [label=\"+\"]; Times15_Output_0 -> Plus18 [label=input]; Parameter14 -> Plus18 [label=\"input param\"]; Plus18 -> Plus18_Output_0 [label=output]; Plus18 [label=\"+\"]; Times15 [label=\"@\"]; Plus18 [shape=ellipse, fontsize=20, penwidth=2, size=0.6]; Times15 [shape=ellipse, fontsize=20, penwidth=2, size=0.6]; Plus18_Output_0 [shape=invhouse, color=gray]; Softmax21_Output_0 [shape=invhouse, color=gray]; Plus18_Output_0 [label=\"+\"]; Softmax21_Output_0 [label=\"Softmax21_Output_0\"]; Plus18_Output_0 -> Softmax21 [label=input]; Softmax21 -> Softmax21_Output_0 [label=output]; Softmax21 [label=\"Softmax21\"]; Plus18 [label=\"+\"]; Softmax21 [shape=ellipse, fontsize=20, penwidth=2, size=0.6]; Plus18 [shape=ellipse, fontsize=20, penwidth=2, size=0.6]; Softmax21 -> CompositeFunction22 [label=\"root function\"]; Parameter13 [shape=diamond, color=green]; Parameter2 [shape=diamond, color=green]; Input0 [shape=invhouse, color=yellow]; Parameter3 [shape=diamond, color=green]; Parameter14 [shape=diamond, color=green]; Softmax21_Output_0 [shape=invhouse, color=gray]; Parameter13 [label=\"Weights\"]; Parameter2 [label=\"Weights\"]; Input0 [label=\"Features\"]; Parameter3 [label=\"Bias\"]; Parameter14 [label=\"Bias\"]; Softmax21_Output_0 [label=\"Softmax21_Output_0\"]; Parameter13 -> CompositeFunction22 [label=\"input param\"]; Parameter2 -> CompositeFunction22 [label=\"input param\"]; Input0 -> CompositeFunction22 [label=input]; Parameter3 -> CompositeFunction22 [label=\"input param\"]; Parameter14 -> CompositeFunction22 [label=\"input param\"]; CompositeFunction22 -> Softmax21_Output_0 [label=output]; CompositeFunction22 [label=\"CompositeFunction22\"]; Softmax21 [label=\"Softmax21\"]; CompositeFunction22 [shape=ellipse, fontsize=20, penwidth=2, peripheries=2]; Softmax21 [shape=ellipse, fontsize=20, penwidth=2, size=0.6]; }'], 'dot']);</script>"
      ]
     },
     "metadata": {},
     "output_type": "display_data"
    }
   ],
   "source": [
    "let displayGradualGraph engine (model: Function) =\n",
    "    \n",
    "    let callJs engine graphs = \n",
    "        (graphs,engine)\n",
    "        ||> sprintf \"<script>$(document).trigger('RENDER_SERIES', [['%s'], '%s']);</script>\"\n",
    "        |> Util.Html  \n",
    "        \n",
    "    initGraph \"\" \"#gradualGraph2\" |> Display\n",
    "    \n",
    "    model\n",
    "    |> decomposeFunction \n",
    "    //|> Array.filter (fun f -> not f.IsComposite)\n",
    "    |> Array.map (extractGraphVizDotNotation>>Seq.reduce(sprintf \"%s %s\")) \n",
    "    |> Array.rev\n",
    "    |> Array.scan (sprintf \"%s %s\") \"\"\n",
    "    |> Array.map (sprintf \"digraph { %s }\")\n",
    "    |> Array.reduce (sprintf \"%s','%s\")\n",
    "    |> callJs engine    \n",
    "    |> Display\n",
    "            \n",
    "displayGradualGraph Engine.dot z"
   ]
  },
  {
   "cell_type": "code",
   "execution_count": 40,
   "metadata": {},
   "outputs": [],
   "source": [
    "let classifier = z"
   ]
  },
  {
   "cell_type": "code",
   "execution_count": 41,
   "metadata": {},
   "outputs": [
    {
     "data": {
      "text/html": [
       "<script>$(document).trigger('INIT_D3', ['','#gradualGraph2']);</script>"
      ]
     },
     "metadata": {},
     "output_type": "display_data"
    },
    {
     "data": {
      "text/html": [
       "<script>$(document).trigger('RENDER_SERIES', [['digraph {  }','digraph {  Parameter2 [shape=diamond, color=green]; Input0 [shape=invhouse, color=yellow]; Times4_Output_0 [shape=invhouse, color=gray]; Parameter2 [label=\"Weights\"]; Input0 [label=\"Features\"]; Times4_Output_0 [label=\"@\"]; Parameter2 -> Times4 [label=\"input param\"]; Input0 -> Times4 [label=input]; Times4 -> Times4_Output_0 [label=output]; Times4 [label=\"@\"]; Times4 [shape=ellipse, fontsize=20, penwidth=2, size=0.6]; }','digraph {  Parameter2 [shape=diamond, color=green]; Input0 [shape=invhouse, color=yellow]; Times4_Output_0 [shape=invhouse, color=gray]; Parameter2 [label=\"Weights\"]; Input0 [label=\"Features\"]; Times4_Output_0 [label=\"@\"]; Parameter2 -> Times4 [label=\"input param\"]; Input0 -> Times4 [label=input]; Times4 -> Times4_Output_0 [label=output]; Times4 [label=\"@\"]; Times4 [shape=ellipse, fontsize=20, penwidth=2, size=0.6]; Times4_Output_0 [shape=invhouse, color=gray]; Parameter3 [shape=diamond, color=green]; Plus7_Output_0 [shape=invhouse, color=gray]; Times4_Output_0 [label=\"@\"]; Parameter3 [label=\"Bias\"]; Plus7_Output_0 [label=\"+\"]; Times4_Output_0 -> Plus7 [label=input]; Parameter3 -> Plus7 [label=\"input param\"]; Plus7 -> Plus7_Output_0 [label=output]; Plus7 [label=\"+\"]; Times4 [label=\"@\"]; Plus7 [shape=ellipse, fontsize=20, penwidth=2, size=0.6]; Times4 [shape=ellipse, fontsize=20, penwidth=2, size=0.6]; }','digraph {  Parameter2 [shape=diamond, color=green]; Input0 [shape=invhouse, color=yellow]; Times4_Output_0 [shape=invhouse, color=gray]; Parameter2 [label=\"Weights\"]; Input0 [label=\"Features\"]; Times4_Output_0 [label=\"@\"]; Parameter2 -> Times4 [label=\"input param\"]; Input0 -> Times4 [label=input]; Times4 -> Times4_Output_0 [label=output]; Times4 [label=\"@\"]; Times4 [shape=ellipse, fontsize=20, penwidth=2, size=0.6]; Times4_Output_0 [shape=invhouse, color=gray]; Parameter3 [shape=diamond, color=green]; Plus7_Output_0 [shape=invhouse, color=gray]; Times4_Output_0 [label=\"@\"]; Parameter3 [label=\"Bias\"]; Plus7_Output_0 [label=\"+\"]; Times4_Output_0 -> Plus7 [label=input]; Parameter3 -> Plus7 [label=\"input param\"]; Plus7 -> Plus7_Output_0 [label=output]; Plus7 [label=\"+\"]; Times4 [label=\"@\"]; Plus7 [shape=ellipse, fontsize=20, penwidth=2, size=0.6]; Times4 [shape=ellipse, fontsize=20, penwidth=2, size=0.6]; Plus7_Output_0 [shape=invhouse, color=gray]; StableSigmoid10_Output_0 [shape=invhouse, color=gray]; Plus7_Output_0 [label=\"+\"]; StableSigmoid10_Output_0 [label=\"StableSigmoid10_Output_0\"]; Plus7_Output_0 -> StableSigmoid10 [label=input]; StableSigmoid10 -> StableSigmoid10_Output_0 [label=output]; StableSigmoid10 [label=\"StableSigmoid10\"]; Plus7 [label=\"+\"]; StableSigmoid10 [shape=ellipse, fontsize=20, penwidth=2, size=0.6]; Plus7 [shape=ellipse, fontsize=20, penwidth=2, size=0.6]; }','digraph {  Parameter2 [shape=diamond, color=green]; Input0 [shape=invhouse, color=yellow]; Times4_Output_0 [shape=invhouse, color=gray]; Parameter2 [label=\"Weights\"]; Input0 [label=\"Features\"]; Times4_Output_0 [label=\"@\"]; Parameter2 -> Times4 [label=\"input param\"]; Input0 -> Times4 [label=input]; Times4 -> Times4_Output_0 [label=output]; Times4 [label=\"@\"]; Times4 [shape=ellipse, fontsize=20, penwidth=2, size=0.6]; Times4_Output_0 [shape=invhouse, color=gray]; Parameter3 [shape=diamond, color=green]; Plus7_Output_0 [shape=invhouse, color=gray]; Times4_Output_0 [label=\"@\"]; Parameter3 [label=\"Bias\"]; Plus7_Output_0 [label=\"+\"]; Times4_Output_0 -> Plus7 [label=input]; Parameter3 -> Plus7 [label=\"input param\"]; Plus7 -> Plus7_Output_0 [label=output]; Plus7 [label=\"+\"]; Times4 [label=\"@\"]; Plus7 [shape=ellipse, fontsize=20, penwidth=2, size=0.6]; Times4 [shape=ellipse, fontsize=20, penwidth=2, size=0.6]; Plus7_Output_0 [shape=invhouse, color=gray]; StableSigmoid10_Output_0 [shape=invhouse, color=gray]; Plus7_Output_0 [label=\"+\"]; StableSigmoid10_Output_0 [label=\"StableSigmoid10_Output_0\"]; Plus7_Output_0 -> StableSigmoid10 [label=input]; StableSigmoid10 -> StableSigmoid10_Output_0 [label=output]; StableSigmoid10 [label=\"StableSigmoid10\"]; Plus7 [label=\"+\"]; StableSigmoid10 [shape=ellipse, fontsize=20, penwidth=2, size=0.6]; Plus7 [shape=ellipse, fontsize=20, penwidth=2, size=0.6]; Parameter13 [shape=diamond, color=green]; StableSigmoid10_Output_0 [shape=invhouse, color=gray]; Times15_Output_0 [shape=invhouse, color=gray]; Parameter13 [label=\"Weights\"]; StableSigmoid10_Output_0 [label=\"StableSigmoid10_Output_0\"]; Times15_Output_0 [label=\"@\"]; Parameter13 -> Times15 [label=\"input param\"]; StableSigmoid10_Output_0 -> Times15 [label=input]; Times15 -> Times15_Output_0 [label=output]; Times15 [label=\"@\"]; StableSigmoid10 [label=\"StableSigmoid10\"]; Times15 [shape=ellipse, fontsize=20, penwidth=2, size=0.6]; StableSigmoid10 [shape=ellipse, fontsize=20, penwidth=2, size=0.6]; }','digraph {  Parameter2 [shape=diamond, color=green]; Input0 [shape=invhouse, color=yellow]; Times4_Output_0 [shape=invhouse, color=gray]; Parameter2 [label=\"Weights\"]; Input0 [label=\"Features\"]; Times4_Output_0 [label=\"@\"]; Parameter2 -> Times4 [label=\"input param\"]; Input0 -> Times4 [label=input]; Times4 -> Times4_Output_0 [label=output]; Times4 [label=\"@\"]; Times4 [shape=ellipse, fontsize=20, penwidth=2, size=0.6]; Times4_Output_0 [shape=invhouse, color=gray]; Parameter3 [shape=diamond, color=green]; Plus7_Output_0 [shape=invhouse, color=gray]; Times4_Output_0 [label=\"@\"]; Parameter3 [label=\"Bias\"]; Plus7_Output_0 [label=\"+\"]; Times4_Output_0 -> Plus7 [label=input]; Parameter3 -> Plus7 [label=\"input param\"]; Plus7 -> Plus7_Output_0 [label=output]; Plus7 [label=\"+\"]; Times4 [label=\"@\"]; Plus7 [shape=ellipse, fontsize=20, penwidth=2, size=0.6]; Times4 [shape=ellipse, fontsize=20, penwidth=2, size=0.6]; Plus7_Output_0 [shape=invhouse, color=gray]; StableSigmoid10_Output_0 [shape=invhouse, color=gray]; Plus7_Output_0 [label=\"+\"]; StableSigmoid10_Output_0 [label=\"StableSigmoid10_Output_0\"]; Plus7_Output_0 -> StableSigmoid10 [label=input]; StableSigmoid10 -> StableSigmoid10_Output_0 [label=output]; StableSigmoid10 [label=\"StableSigmoid10\"]; Plus7 [label=\"+\"]; StableSigmoid10 [shape=ellipse, fontsize=20, penwidth=2, size=0.6]; Plus7 [shape=ellipse, fontsize=20, penwidth=2, size=0.6]; Parameter13 [shape=diamond, color=green]; StableSigmoid10_Output_0 [shape=invhouse, color=gray]; Times15_Output_0 [shape=invhouse, color=gray]; Parameter13 [label=\"Weights\"]; StableSigmoid10_Output_0 [label=\"StableSigmoid10_Output_0\"]; Times15_Output_0 [label=\"@\"]; Parameter13 -> Times15 [label=\"input param\"]; StableSigmoid10_Output_0 -> Times15 [label=input]; Times15 -> Times15_Output_0 [label=output]; Times15 [label=\"@\"]; StableSigmoid10 [label=\"StableSigmoid10\"]; Times15 [shape=ellipse, fontsize=20, penwidth=2, size=0.6]; StableSigmoid10 [shape=ellipse, fontsize=20, penwidth=2, size=0.6]; Times15_Output_0 [shape=invhouse, color=gray]; Parameter14 [shape=diamond, color=green]; Plus18_Output_0 [shape=invhouse, color=gray]; Times15_Output_0 [label=\"@\"]; Parameter14 [label=\"Bias\"]; Plus18_Output_0 [label=\"+\"]; Times15_Output_0 -> Plus18 [label=input]; Parameter14 -> Plus18 [label=\"input param\"]; Plus18 -> Plus18_Output_0 [label=output]; Plus18 [label=\"+\"]; Times15 [label=\"@\"]; Plus18 [shape=ellipse, fontsize=20, penwidth=2, size=0.6]; Times15 [shape=ellipse, fontsize=20, penwidth=2, size=0.6]; }','digraph {  Parameter2 [shape=diamond, color=green]; Input0 [shape=invhouse, color=yellow]; Times4_Output_0 [shape=invhouse, color=gray]; Parameter2 [label=\"Weights\"]; Input0 [label=\"Features\"]; Times4_Output_0 [label=\"@\"]; Parameter2 -> Times4 [label=\"input param\"]; Input0 -> Times4 [label=input]; Times4 -> Times4_Output_0 [label=output]; Times4 [label=\"@\"]; Times4 [shape=ellipse, fontsize=20, penwidth=2, size=0.6]; Times4_Output_0 [shape=invhouse, color=gray]; Parameter3 [shape=diamond, color=green]; Plus7_Output_0 [shape=invhouse, color=gray]; Times4_Output_0 [label=\"@\"]; Parameter3 [label=\"Bias\"]; Plus7_Output_0 [label=\"+\"]; Times4_Output_0 -> Plus7 [label=input]; Parameter3 -> Plus7 [label=\"input param\"]; Plus7 -> Plus7_Output_0 [label=output]; Plus7 [label=\"+\"]; Times4 [label=\"@\"]; Plus7 [shape=ellipse, fontsize=20, penwidth=2, size=0.6]; Times4 [shape=ellipse, fontsize=20, penwidth=2, size=0.6]; Plus7_Output_0 [shape=invhouse, color=gray]; StableSigmoid10_Output_0 [shape=invhouse, color=gray]; Plus7_Output_0 [label=\"+\"]; StableSigmoid10_Output_0 [label=\"StableSigmoid10_Output_0\"]; Plus7_Output_0 -> StableSigmoid10 [label=input]; StableSigmoid10 -> StableSigmoid10_Output_0 [label=output]; StableSigmoid10 [label=\"StableSigmoid10\"]; Plus7 [label=\"+\"]; StableSigmoid10 [shape=ellipse, fontsize=20, penwidth=2, size=0.6]; Plus7 [shape=ellipse, fontsize=20, penwidth=2, size=0.6]; Parameter13 [shape=diamond, color=green]; StableSigmoid10_Output_0 [shape=invhouse, color=gray]; Times15_Output_0 [shape=invhouse, color=gray]; Parameter13 [label=\"Weights\"]; StableSigmoid10_Output_0 [label=\"StableSigmoid10_Output_0\"]; Times15_Output_0 [label=\"@\"]; Parameter13 -> Times15 [label=\"input param\"]; StableSigmoid10_Output_0 -> Times15 [label=input]; Times15 -> Times15_Output_0 [label=output]; Times15 [label=\"@\"]; StableSigmoid10 [label=\"StableSigmoid10\"]; Times15 [shape=ellipse, fontsize=20, penwidth=2, size=0.6]; StableSigmoid10 [shape=ellipse, fontsize=20, penwidth=2, size=0.6]; Times15_Output_0 [shape=invhouse, color=gray]; Parameter14 [shape=diamond, color=green]; Plus18_Output_0 [shape=invhouse, color=gray]; Times15_Output_0 [label=\"@\"]; Parameter14 [label=\"Bias\"]; Plus18_Output_0 [label=\"+\"]; Times15_Output_0 -> Plus18 [label=input]; Parameter14 -> Plus18 [label=\"input param\"]; Plus18 -> Plus18_Output_0 [label=output]; Plus18 [label=\"+\"]; Times15 [label=\"@\"]; Plus18 [shape=ellipse, fontsize=20, penwidth=2, size=0.6]; Times15 [shape=ellipse, fontsize=20, penwidth=2, size=0.6]; Plus18_Output_0 [shape=invhouse, color=gray]; Softmax21_Output_0 [shape=invhouse, color=gray]; Plus18_Output_0 [label=\"+\"]; Softmax21_Output_0 [label=\"Softmax21_Output_0\"]; Plus18_Output_0 -> Softmax21 [label=input]; Softmax21 -> Softmax21_Output_0 [label=output]; Softmax21 [label=\"Softmax21\"]; Plus18 [label=\"+\"]; Softmax21 [shape=ellipse, fontsize=20, penwidth=2, size=0.6]; Plus18 [shape=ellipse, fontsize=20, penwidth=2, size=0.6]; }','digraph {  Parameter2 [shape=diamond, color=green]; Input0 [shape=invhouse, color=yellow]; Times4_Output_0 [shape=invhouse, color=gray]; Parameter2 [label=\"Weights\"]; Input0 [label=\"Features\"]; Times4_Output_0 [label=\"@\"]; Parameter2 -> Times4 [label=\"input param\"]; Input0 -> Times4 [label=input]; Times4 -> Times4_Output_0 [label=output]; Times4 [label=\"@\"]; Times4 [shape=ellipse, fontsize=20, penwidth=2, size=0.6]; Times4_Output_0 [shape=invhouse, color=gray]; Parameter3 [shape=diamond, color=green]; Plus7_Output_0 [shape=invhouse, color=gray]; Times4_Output_0 [label=\"@\"]; Parameter3 [label=\"Bias\"]; Plus7_Output_0 [label=\"+\"]; Times4_Output_0 -> Plus7 [label=input]; Parameter3 -> Plus7 [label=\"input param\"]; Plus7 -> Plus7_Output_0 [label=output]; Plus7 [label=\"+\"]; Times4 [label=\"@\"]; Plus7 [shape=ellipse, fontsize=20, penwidth=2, size=0.6]; Times4 [shape=ellipse, fontsize=20, penwidth=2, size=0.6]; Plus7_Output_0 [shape=invhouse, color=gray]; StableSigmoid10_Output_0 [shape=invhouse, color=gray]; Plus7_Output_0 [label=\"+\"]; StableSigmoid10_Output_0 [label=\"StableSigmoid10_Output_0\"]; Plus7_Output_0 -> StableSigmoid10 [label=input]; StableSigmoid10 -> StableSigmoid10_Output_0 [label=output]; StableSigmoid10 [label=\"StableSigmoid10\"]; Plus7 [label=\"+\"]; StableSigmoid10 [shape=ellipse, fontsize=20, penwidth=2, size=0.6]; Plus7 [shape=ellipse, fontsize=20, penwidth=2, size=0.6]; Parameter13 [shape=diamond, color=green]; StableSigmoid10_Output_0 [shape=invhouse, color=gray]; Times15_Output_0 [shape=invhouse, color=gray]; Parameter13 [label=\"Weights\"]; StableSigmoid10_Output_0 [label=\"StableSigmoid10_Output_0\"]; Times15_Output_0 [label=\"@\"]; Parameter13 -> Times15 [label=\"input param\"]; StableSigmoid10_Output_0 -> Times15 [label=input]; Times15 -> Times15_Output_0 [label=output]; Times15 [label=\"@\"]; StableSigmoid10 [label=\"StableSigmoid10\"]; Times15 [shape=ellipse, fontsize=20, penwidth=2, size=0.6]; StableSigmoid10 [shape=ellipse, fontsize=20, penwidth=2, size=0.6]; Times15_Output_0 [shape=invhouse, color=gray]; Parameter14 [shape=diamond, color=green]; Plus18_Output_0 [shape=invhouse, color=gray]; Times15_Output_0 [label=\"@\"]; Parameter14 [label=\"Bias\"]; Plus18_Output_0 [label=\"+\"]; Times15_Output_0 -> Plus18 [label=input]; Parameter14 -> Plus18 [label=\"input param\"]; Plus18 -> Plus18_Output_0 [label=output]; Plus18 [label=\"+\"]; Times15 [label=\"@\"]; Plus18 [shape=ellipse, fontsize=20, penwidth=2, size=0.6]; Times15 [shape=ellipse, fontsize=20, penwidth=2, size=0.6]; Plus18_Output_0 [shape=invhouse, color=gray]; Softmax21_Output_0 [shape=invhouse, color=gray]; Plus18_Output_0 [label=\"+\"]; Softmax21_Output_0 [label=\"Softmax21_Output_0\"]; Plus18_Output_0 -> Softmax21 [label=input]; Softmax21 -> Softmax21_Output_0 [label=output]; Softmax21 [label=\"Softmax21\"]; Plus18 [label=\"+\"]; Softmax21 [shape=ellipse, fontsize=20, penwidth=2, size=0.6]; Plus18 [shape=ellipse, fontsize=20, penwidth=2, size=0.6]; Softmax21 -> CompositeFunction22 [label=\"root function\"]; Parameter13 [shape=diamond, color=green]; Parameter2 [shape=diamond, color=green]; Input0 [shape=invhouse, color=yellow]; Parameter3 [shape=diamond, color=green]; Parameter14 [shape=diamond, color=green]; Softmax21_Output_0 [shape=invhouse, color=gray]; Parameter13 [label=\"Weights\"]; Parameter2 [label=\"Weights\"]; Input0 [label=\"Features\"]; Parameter3 [label=\"Bias\"]; Parameter14 [label=\"Bias\"]; Softmax21_Output_0 [label=\"Softmax21_Output_0\"]; Parameter13 -> CompositeFunction22 [label=\"input param\"]; Parameter2 -> CompositeFunction22 [label=\"input param\"]; Input0 -> CompositeFunction22 [label=input]; Parameter3 -> CompositeFunction22 [label=\"input param\"]; Parameter14 -> CompositeFunction22 [label=\"input param\"]; CompositeFunction22 -> Softmax21_Output_0 [label=output]; CompositeFunction22 [label=\"CompositeFunction22\"]; Softmax21 [label=\"Softmax21\"]; CompositeFunction22 [shape=ellipse, fontsize=20, penwidth=2, peripheries=2]; Softmax21 [shape=ellipse, fontsize=20, penwidth=2, size=0.6]; }'], 'dot']);</script>"
      ]
     },
     "metadata": {},
     "output_type": "display_data"
    }
   ],
   "source": [
    "displayGradualGraph Engine.dot classifier"
   ]
  },
  {
   "cell_type": "markdown",
   "metadata": {},
   "source": [
    "<div id=\"gradualGraph2\" style=\"width: 100%; min-height: 700px; border: solid aliceblue 1px\">\n",
    "</div>"
   ]
  },
  {
   "cell_type": "code",
   "execution_count": null,
   "metadata": {},
   "outputs": [],
   "source": [
    "type Tensor = \n",
    "| F of Function \n",
    "| V of Variable\n",
    "with \n",
    "    member x.Uid = match x with F f -> f.Uid | V v -> v.Uid\n",
    "    member x.AsString = match x with F f -> f.AsString() | V v -> v.AsString()\n",
    "\n",
    "let decomposeTensor (root: Tensor) = \n",
    "        \n",
    "        let visited = Dictionary<string, Tensor>()            \n",
    "\n",
    "        let rec search (f: Tensor) = \n",
    "            visited.Add(f.Uid, f)\n",
    "        \n",
    "            seq {   \n",
    "                match f with\n",
    "                | F f' -> \n",
    "                    yield! f'.Inputs |> Seq.map V\n",
    "                    yield! f'.Outputs |> Seq.map V\n",
    "                    yield  f'.RootFunction |> F \n",
    "                | V v' -> \n",
    "                    yield f\n",
    "                    if v'.Owner |> isNull |> not then \n",
    "                        yield v'.Owner |> F\n",
    "            }\n",
    "            |> Seq.filter (fun f -> visited.ContainsKey(f.Uid) |> not)\n",
    "            |> Seq.iter search\n",
    "\n",
    "        search root\n",
    "    \n",
    "        visited"
   ]
  },
  {
   "cell_type": "code",
   "execution_count": null,
   "metadata": {},
   "outputs": [],
   "source": [
    "\"\"\"<script>$(document).on(\"NODE_CLICKED\", \n",
    "    (e,d,i,n)=>{\n",
    "        console.log(e,d,i,n);\n",
    "});</script>\"\"\" |> Util.Html"
   ]
  },
  {
   "cell_type": "code",
   "execution_count": null,
   "metadata": {},
   "outputs": [],
   "source": [
    "\"../../../d3-jupyter/dist/bundle.js\" |> System.IO.Path.GetFullPath"
   ]
  },
  {
   "cell_type": "code",
   "execution_count": null,
   "metadata": {},
   "outputs": [],
   "source": []
  }
 ],
 "metadata": {
  "anaconda-cloud": {},
  "kernelspec": {
   "display_name": "F#",
   "language": "fsharp",
   "name": "ifsharp"
  },
  "language": "fsharp",
  "language_info": {
   "codemirror_mode": "",
   "file_extension": ".fs",
   "mimetype": "text/x-fsharp",
   "name": "fsharp",
   "nbconvert_exporter": "",
   "pygments_lexer": "",
   "version": "4.3.1.0"
  }
 },
 "nbformat": 4,
 "nbformat_minor": 1
}
