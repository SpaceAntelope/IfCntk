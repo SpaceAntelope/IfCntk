{
 "cells": [
  {
   "cell_type": "markdown",
   "metadata": {},
   "source": [
    "# Retroactive changes\n",
    "* Notebooks from now on will be on their own folders, along will their corresponding .fsx\n",
    "\n",
    "This makes is so much easier to keep track of dependencies, and we also resolve the issue of IfCntk overriding the local <code>main.group.fsx</code> path.\n",
    "\n",
    "I will keep copies of the notebooks in their original locations until the links in <em>ze <a href=\"https://www.areslazarus.com\">blog</a></em> are updated."
   ]
  },
  {
   "cell_type": "markdown",
   "metadata": {},
   "source": [
    "# Visualizing CNTK models with Graphviz and D3 in F# for Jupyter\n",
    "\n",
    "Yet another step towards never having to use Python to make the most out of Microsoft's Cognitive Toolkit.\n",
    "\n",
    "## Intro / abstract\n",
    "The Python API offers a [simple way](https://docs.microsoft.com/en-us/cognitive-toolkit/using-graphviz-for-visualization) to display a visual graph of your model via the well known [Graphviz](https://graphviz.gitlab.io/) utility, that sadly hasn't made it to the .NET Cntk API so far.\n",
    "\n",
    "It's very useful to be able to have an idea at a glance of what is going on inside your model, especially if you are not the one who originally created it. There have been other implementations towards that end, and in F# no less, such as Faisal Waris' [FsCNTKTools](https://github.com/fwaris/FsCNTKTools) that uses Microsoft's [Automatic Graph Layout](https://github.com/Microsoft/automatic-graph-layout) module for visualization. \n",
    "\n",
    "Here we are going to use the a [d3js](https://d3js.org/) implementation of Graphviz called [d3-graphviz](https://github.com/magjac/d3-graphviz) that although not a 100% port, is pretty adequate for our needs.\n",
    "\n",
    "This configuration also presents us with certain advantages: first, you absolutely don't need to have any Graphviz binaries installed to display graphs, which has been known to cause issues even in IPython, and second, since the implementation is built on d3js we will have a great deal of options to add interactivity to the graphs, as well as animation.\n"
   ]
  },
  {
   "cell_type": "markdown",
   "metadata": {},
   "source": [
    "# Preparing workspace\n",
    "\n",
    "Our new dependency for this notebook is Newtonsoft.Json, since json is so easy to use from javascript."
   ]
  },
  {
   "cell_type": "code",
   "execution_count": null,
   "metadata": {},
   "outputs": [],
   "source": [
    "#load \"Paket.fsx\"\n",
    " \n",
    "Paket.Dependencies.Install \"\"\"\n",
    "framework: netstandard2.0\n",
    "generate_load_scripts: true\n",
    "storage: none\n",
    "source https://nuget.org/api/v2\n",
    "nuget CNTK.CPUOnly\n",
    "nuget Newtonsoft.Json\n",
    "nuget MathNet.Numerics\n",
    "nuget MathNet.Numerics.FSharp\n",
    "\"\"\""
   ]
  },
  {
   "cell_type": "code",
   "execution_count": null,
   "metadata": {},
   "outputs": [],
   "source": [
    "#r \"netstandard\"\n",
    "#r @\"..\\bin\\Cntk.Core.Managed-2.6.dll\"\n",
    "#load \"../CNTK102b - Graphviz Visualization/.paket/load/main.group.fsx\""
   ]
  },
  {
   "cell_type": "code",
   "execution_count": null,
   "metadata": {},
   "outputs": [],
   "source": [
    "open System\n",
    "open System.IO\n",
    "open CNTK\n",
    "\n",
    "DeviceDescriptor.UseDefaultDevice().Type\n",
    "|> printfn \"Congratulations, you are using CNTK for: %A\" "
   ]
  },
  {
   "cell_type": "code",
   "execution_count": null,
   "metadata": {},
   "outputs": [],
   "source": [
    "let device = CNTK.DeviceDescriptor.CPUDevice\n",
    "let dataType = CNTK.DataType.Float\n",
    "let initialization = CNTKLib.GlorotUniformInitializer(1.0)\n",
    "\n",
    "#load \"../fsx/CntkHelpers.fsx\""
   ]
  },
  {
   "cell_type": "markdown",
   "metadata": {},
   "source": [
    "<div class=\"alert alert-warning\"><p>Since we won't be doing any training in this notebook, updating the <code>PATH</code> environment variable is unnecessary.</p> <p>If however you do happen to try to train a model in this network, this is why it will fail. For more info on the subject check the Preparing workspace notebook (<a href=\"https://areslazarus.com/archive/lets-try-a-pure-net-python-like-deep-learning-stack/\">blog</a>) (<a href=\"\">GitHub</a>)</div>"
   ]
  },
  {
   "cell_type": "markdown",
   "metadata": {},
   "source": [
    "# Building a sample model\n",
    "\n",
    "Let's create a simple classifier with one hidden layer of 50 nodes that outputs to a softmax function:"
   ]
  },
  {
   "cell_type": "code",
   "execution_count": null,
   "metadata": {},
   "outputs": [],
   "source": [
    "open CntkHelpers\n",
    "let input_dim, num_output_classes = 2,2\n",
    "let input = Variable.InputVariable(shape [|input_dim|], dataType, \"Features\")\n",
    "let label = Variable.InputVariable(shape [|num_output_classes|], dataType, \"Labels\")\n",
    "let z = \n",
    "    let layers = fullyConnectedClassifierNet input [50] num_output_classes CNTKLib.Sigmoid\n",
    "    CNTKLib.CrossEntropyWithSoftmax(Var layers, label, \"CrossEntropyWithSoftmax\")    "
   ]
  },
  {
   "cell_type": "markdown",
   "metadata": {},
   "source": [
    "Not too complex and not too simple, we will be using this fully connected hidden layer network as our main example when visualizing graphs.\n",
    "\n",
    "# The Search for Nodes\n",
    "\n",
    "Out of the box, the only way to retrieve the model's constituent <code>CNTK.Function</code> objects seems to be get them by name by name, using <code>Function.FindByName/FindAllByName</code>. Maintaining a naming scheme while building a model in CNTK is in my opinion not especially expedient at the best of times, and a downright pain if you are looking to implement functional idioms.\n",
    "\n",
    "In addition, if you are trying to catch a glimpse of the internal workings of a CNTK model it's likely because you had no hand in creating it in the first place, so devising a way to blindly extract network architecture seems worthwhile.\n",
    "\n",
    "We will do this by implementing a simple graph search algorithm that travels from each <code>Function </code>to its connected <code>Variables,</code> all the while using the <code>Owner</code> property of each Variable to find the rest of the model's component <code>Functions</code> and recursively explore them in turn."
   ]
  },
  {
   "cell_type": "code",
   "execution_count": null,
   "metadata": {},
   "outputs": [],
   "source": [
    "/// Graph search for CNTK.Function objects.\n",
    "/// We use the Input & Output lists in a Function\n",
    "/// to find other Function objects by checking\n",
    "/// the Variable's Owner property.\n",
    "/// <remarks> CNTK helper function </remarks>\n",
    "let decomposeFunction (root: Function) = \n",
    "    let visited = System.Collections.Generic.Dictionary<string, Function>()            \n",
    "\n",
    "    let rec expand (f: Function) = \n",
    "        match visited.ContainsKey(f.Uid) with\n",
    "        | true -> Seq.empty\n",
    "        | false -> \n",
    "            visited.Add(f.Uid, f)\n",
    "            seq {\n",
    "                yield f\n",
    "                yield! \n",
    "                    seq { yield! f.Inputs\n",
    "                          yield! f.Outputs }\n",
    "                    |> Seq.map (fun v -> v.Owner)      \n",
    "                    |> Seq.filter (not<<isNull)\n",
    "                    |> Seq.collect expand\n",
    "            }        \n",
    "\n",
    "    Array.ofSeq (expand root)"
   ]
  },
  {
   "cell_type": "code",
   "execution_count": null,
   "metadata": {
    "scrolled": true
   },
   "outputs": [],
   "source": [
    "// Example: \n",
    "decomposeFunction z |> Array.map (fun f -> f.AsString()) |> Array.rev"
   ]
  },
  {
   "cell_type": "markdown",
   "metadata": {},
   "source": [
    "<div class=\"alert alert-info\"><p>This is a brute force algorithm. Perhaps as the complexity of our models increases we will have to revise, but for now it does fine.</p></div>"
   ]
  },
  {
   "cell_type": "markdown",
   "metadata": {},
   "source": [
    "# Converting to dot notation\n",
    "\n",
    "The great thing about GraphViz is that it does all the heavy lifting of actually building and arranging the graph, as long as we provide it with pairs of connected nodes (in no particular order). Any additional styling information such as the shape of a node can be declared separately.\n",
    "\n",
    "Creating dot notation for a CNTK model is as simple as enumerating the component functions and declare edges according to the content of each <code>CNTK.Function</code> object's Input & Output Variable list, with an additional pass to provide styling for each node according to its properties. \n",
    "\n",
    "For styling I mostly referred to the [original CNTK graph logging implementation](https://github.com/Microsoft/CNTK/blob/master/bindings/python/cntk/logging/graph.py)."
   ]
  },
  {
   "cell_type": "code",
   "execution_count": null,
   "metadata": {},
   "outputs": [],
   "source": [
    "/// Styling functions\n",
    "module GraphNodeStyle =\n",
    "    let varText (v:Variable) = if String.IsNullOrEmpty v.Name then v.Uid else v.Name\n",
    "    let funText (f: Function) = if String.IsNullOrEmpty f.Name then f.Uid else f.Name\n",
    "\n",
    "    let varLabel (v: Variable) = sprintf \"%s [label=\\\"%s\\\"];\" v.Uid (varText v)\n",
    "    let funLabel (f: Function) = sprintf \"%s [label=\\\"%s\\\"];\" f.Uid (funText f)\n",
    "    let edgeLabel (v : Variable) = \n",
    "        v.AsString()\n",
    "         .Replace(\"(\",\"\\n\").Replace(\")\",\"\")\n",
    "         .Replace(\"'\",\"\").Replace(\"->\",\"\\n->\\n\")\n",
    "        |> sprintf \"[label=\\\"%s\\\"]\"            \n",
    "\n",
    "    let varShape (v: Variable) =\n",
    "        match v with\n",
    "        | _ when v.IsInput -> sprintf \"%s [shape=invhouse, color=yellow];\" v.Uid\n",
    "        | _ when v.IsOutput -> sprintf \"%s [shape=invhouse, color=gray];\" v.Uid\n",
    "        | _ when v.IsPlaceholder -> sprintf \"%s [shape=invhouse, color=yellow];\" v.Uid\n",
    "        | _ when v.IsParameter -> sprintf \"%s [shape=diamond, color=green];\" v.Uid\n",
    "        | _ when v.IsConstant -> sprintf \"%s [shape=rectangle, color=lightblue];\" v.Uid\n",
    "        | _ -> sprintf \"%s [shape=circle, color=purple];\" v.Uid\n",
    "\n",
    "    let funShape (f: Function) = \n",
    "        match f with \n",
    "        | _ when f.IsComposite -> sprintf \"%s [shape=ellipse, fontsize=20, penwidth=2, peripheries=2];\" f.Uid\n",
    "        | _ when f.IsPrimitive -> sprintf \"%s [shape=ellipse, fontsize=20, penwidth=2, size=0.6];\" f.Uid\n",
    "        | _ -> sprintf \"%s [shape=ellipse, fontsize=20, penwidth=4];\" f.Uid\n",
    "\n",
    "    let varEdges (f: Function) (v: Variable) = \n",
    "        let inputIndex = f.Inputs |> Seq.map (fun v -> v.Uid) |> Set\n",
    "        let outputIndex = f.Outputs |> Seq.map (fun v -> v.Uid) |> Set\n",
    "\n",
    "        match inputIndex.Contains(v.Uid), outputIndex.Contains(v.Uid) with \n",
    "        | true, _ when v.IsParameter -> sprintf \"%s -> %s %s;\" v.Uid f.Uid (edgeLabel v) |> Some\n",
    "        | _, true when v.IsParameter -> sprintf \"%s -> %s [label=\\\"output param\\\"];\" f.Uid v.Uid|> Some\n",
    "        | true, _ -> sprintf \"%s -> %s %s;\" v.Uid f.Uid (edgeLabel v) |> Some \n",
    "        | _, true -> sprintf \"%s -> %s [label=\\\"output\\\"];\" f.Uid v.Uid |> Some            \n",
    "        | _ -> None\n",
    "\n",
    "    let varOwner (v: Variable) =\n",
    "        match v.Owner with\n",
    "        | null -> None\n",
    "        | _ -> sprintf \"%s -> %s [style=\\\"dotted\\\"];\" v.Owner.Uid v.Uid |> Some"
   ]
  },
  {
   "cell_type": "code",
   "execution_count": null,
   "metadata": {},
   "outputs": [],
   "source": [
    "/// Mapping the connections to and from a CNTK.Function object \n",
    "/// in GraphViz dot notation.\n",
    "/// https://github.com/Microsoft/CNTK/blob/master/bindings/python/cntk/logging/graph.py\n",
    "/// <remarks> CNTK helper function </remarks>\n",
    "let extractGraphVizDotNotation (f: Function) =     \n",
    "    let vars = Seq.append f.Inputs f.Outputs\n",
    "    let funs = seq { \n",
    "            yield f\n",
    "            yield f.RootFunction;\n",
    "            yield! vars |> Seq.map (fun v -> v.Owner) |> Seq.filter (isNull>>not) \n",
    "        } \n",
    "\n",
    "    seq {        \n",
    "        if f.Uid <> f.RootFunction.Uid \n",
    "        then yield sprintf \"%s -> %s [label=\\\"root function\\\"];\" f.RootFunction.Uid f.Uid\n",
    "        yield! vars |> Seq.map GraphNodeStyle.varShape\n",
    "        yield! vars |> Seq.map GraphNodeStyle.varLabel\n",
    "        yield! vars |> Seq.map (GraphNodeStyle.varEdges f) |> Seq.choose id\n",
    "        //yield! vars |> Seq.map varOwner |> Seq.choose id\n",
    "        yield! funs |> Seq.map GraphNodeStyle.funLabel \n",
    "        yield! funs |> Seq.map GraphNodeStyle.funShape\n",
    "    } |> Seq.distinct"
   ]
  },
  {
   "cell_type": "markdown",
   "metadata": {},
   "source": [
    "# Using GraphViz inside an F# jupyter notebook\n",
    "\n",
    "As far as I can tell there are restrictions on loading javascript by using the <code>Util.Html</code> command. I was not able to initialize **d3-graphviz** either by including the cdn reference or by downloading the library files and referring to them locally. \n",
    "\n",
    "<p>What did work was using <a href=\"https://webpack.js.org/\">webpack</a> to bundle the d3-graphviz library files together, along with javascript event handlers to serve as API endpoints; which is to say, instead of directly calling the <code>d3.graphviz</code> object we trigger an event with the dot notation as payload, which will then be handled from the bundled js.</p>\n",
    "\n",
    "This seems like a very roundabout way of doing things, and if a better way to integrate tons of html/js with IfCntk comes up I will be glad to revisit and hopefully provide a more elegant solution.\n",
    "\n",
    "The webpack project can be found [here](https://github.com/SpaceAntelope/IfCntk/tree/master/d3-jupyter). "
   ]
  },
  {
   "cell_type": "code",
   "execution_count": null,
   "metadata": {
    "scrolled": true
   },
   "outputs": [],
   "source": [
    "@\"<script src='../../../d3-jupyter/dist/bundle.js'></script>\" \n",
    "|> Util.Html |> Display"
   ]
  },
  {
   "cell_type": "markdown",
   "metadata": {},
   "source": [
    "<div class=\"alert alert-info\">While I include the <a href=\"https://github.com/SpaceAntelope/IfCntk/tree/master/d3-jupyter/dist\">bundle.js</a> in the repository, you should remember that making changes to the <a href=\"https://github.com/SpaceAntelope/IfCntk/blob/master/d3-jupyter/src/index.js\">index.js</a> requires you to rebuild the project with webpack.</div>"
   ]
  },
  {
   "cell_type": "markdown",
   "metadata": {},
   "source": [
    "### Wrapper functions for accessing d3-graphviz from the notebook\n",
    "In lieu of a normal API. "
   ]
  },
  {
   "cell_type": "code",
   "execution_count": null,
   "metadata": {},
   "outputs": [],
   "source": [
    "/// Provide jQuery paths to the html elements\n",
    "/// you want the model graph and the node \n",
    "/// descriptions to appear for any subsequent\n",
    "/// calls to renderDor and renderSeries\n",
    "let initGraph infoPath graphPath = \n",
    "    sprintf \"<script>$(document).trigger('INIT_D3', ['%s','%s']);</script>\" infoPath graphPath\n",
    "    |> Util.Html\n",
    "\n",
    "\n",
    "/// Send dot notation to be rendered as a graph\n",
    "let renderDot engine dotNotation jsonInfo = \n",
    "    sprintf \"<script>$(document).trigger('RENDER_GRAPH', [`%s`,`%s`, '%s']);</script>\" dotNotation jsonInfo engine\n",
    "    |> Util.Html\n",
    "\n",
    "/// Send a series of graphs to be \n",
    "/// sequentially animated into each other\n",
    "let renderSeries engine (digraphs : string[]) = \n",
    "    digraphs\n",
    "    |> Array.reduce(sprintf \"%s','%s\")\n",
    "    |> fun graphs -> graphs,engine\n",
    "    ||> sprintf \"<script>$(document).trigger('RENDER_SERIES', [['%s'],'%s']);</script>\" \n",
    "    |> Util.Html   "
   ]
  },
  {
   "cell_type": "markdown",
   "metadata": {},
   "source": [
    "# Bringing the whole thing together"
   ]
  },
  {
   "cell_type": "code",
   "execution_count": null,
   "metadata": {},
   "outputs": [],
   "source": [
    "/// Extract notation for each CNTK.Function in model\n",
    "/// combine in a string and send to graphviz for rendering\n",
    "let displayGraphForModel hostId (model: Function) =\n",
    "    let dotNotation =\n",
    "        model\n",
    "        |> decomposeFunction\n",
    "        |> Array.filter (fun f -> not f.IsComposite)\n",
    "        |> Array.collect (extractGraphVizDotNotation>>Array.ofSeq)\n",
    "        |> Array.distinct \n",
    "        |> Array.reduce(sprintf \"%s\\n%s\")\n",
    "        |> sprintf \"digraph { %s }\"\n",
    "            \n",
    "    initGraph \"\" (\"#\"+hostId) |> Display\n",
    "    renderDot \"dot\" dotNotation \"\" |> Display   "
   ]
  },
  {
   "cell_type": "markdown",
   "metadata": {},
   "source": [
    "In order to be able to show the d3-graphviz output we need a host for the svg inside the notebook. This is trivial to do in IfCntk, again by using the <code>Util.Html</code>:"
   ]
  },
  {
   "cell_type": "code",
   "execution_count": null,
   "metadata": {
    "scrolled": false
   },
   "outputs": [],
   "source": [
    "let displayGraphHost hostId =\n",
    "    \"\"\"\n",
    "<div id=\"hostId\" \n",
    "     style=\"width: 100%; border: solid lightblue 1px; border-radius: 15px; position: relative\">    \n",
    "</div>\"\"\".Replace(\"hostId\", hostId)\n",
    "    |> Util.Html |> Display"
   ]
  },
  {
   "cell_type": "code",
   "execution_count": null,
   "metadata": {
    "scrolled": true
   },
   "outputs": [],
   "source": [
    "displayGraphHost \"graph\"\n",
    "displayGraphForModel \"graph\" z"
   ]
  },
  {
   "cell_type": "markdown",
   "metadata": {},
   "source": [
    "<div class=\"alert alert-info\"><p>Feel free to exclude or include the composite function node in your graph, since it is seems generally redundant for so simple a model, where it's implied that all the component nodes are parts of a composite model anyway.</p> <p>It should be noted that CNTK's own Python implementation ommits composite function nodes completely.</p></div>"
   ]
  },
  {
   "cell_type": "markdown",
   "metadata": {},
   "source": [
    "# Differences from the Python version\n",
    "\n",
    "<p>The most noticable difference so far seems to be that the result of the <code>CNTK.logging.graph.plot</code> of the Python API ommits the <em>Function -&gt; Variable</em> owner relationship (which in this image is additionally denoted with a dotted edge), and that there seems to be no option to include the composite function in the graph - not that you would want to in the first place; as I noted earlier, it only seems to make the graph unnecessarily convoluted -- on the other hand, in more complex models the ability to show parts of the network as a composite node with the option to expand is bound to come in handy.</p>\n",
    "<p>Similarly, the reason I am keeping the <em>owner</em> edges for now is less for completeness' sake and more because it easier than rewriting the code to prune them. Hopefully they will also prove useful in the long run and save me the refactoring...</p>\n",
    "<p>One more thing about the <em>owner</em> edges, unlike most other cases I do not label them with the content of <code>CNTK.Function.AsString()</code> since it is very wordy and mainly just a restatement of the input and output Variables' <code>.AsString()</code> descriptions.</p>\n",
    "<img style=\"margin: 30px\" src=\"images/differences.png\"></img>\n",
    "<p>Also, whereas the python version always uses a default property to label each node, here we default to <strong>Uid</strong> only if no explicit name has been set. Thus, while it may seem that I have maintained the convention of denoting dot product nodes with <strong>@</strong> and addition nodes with <strong>+</strong>, in fact they are just named that way in the <code>fullyConnectedClassifierNet</code>. The same is true for the cross entropy / softmax node. </p>\n",
    "\n"
   ]
  },
  {
   "cell_type": "markdown",
   "metadata": {},
   "source": [
    "### Let's add some animation\n",
    "\n",
    "<p>**d3-graphviz** allows us to animate one graph into an other, simply by declaring a transition filter and making consecutive calls to the render function. Best results require consequent renderings be done after the current graph has finished rendering, so we cannot just call <code>renderGraph</code> a bunch of times and be done with it, which is why the *RENDER_SERIES* event is used. </p>\n",
    "\n",
    "<div class=\"alert alert-info\">For javascript implementation details see [index.js](https://github.com/SpaceAntelope/IfCntk/blob/master/d3-jupyter/src/index.js).</div>"
   ]
  },
  {
   "cell_type": "code",
   "execution_count": null,
   "metadata": {},
   "outputs": [],
   "source": [
    "/// Extract dot notation by starting with an empty model\n",
    "/// and then adding a \"frame\" of dot notation for\n",
    "/// each additional CNTK.Function in the model.\n",
    "let displayGradualGraph hostId (model: Function) =\n",
    "\n",
    "    initGraph \"\" (\"#\" + hostId) |> Display\n",
    "\n",
    "    let dotNotation =\n",
    "        model\n",
    "        |> decomposeFunction \n",
    "        //|> Array.filter (fun f -> not f.IsComposite)\n",
    "        |> Array.map (extractGraphVizDotNotation>>Seq.reduce(sprintf \"%s %s\")) \n",
    "        |> Array.rev\n",
    "        |> Array.scan (sprintf \"%s %s\") \"\"\n",
    "        |> Array.map (sprintf \"digraph { %s }\")\n",
    "        |> Array.map (fun txt -> txt.Replace(\"\\n\",\"\\\\n\"))\n",
    "           \n",
    "    renderSeries \"dot\" dotNotation\n",
    "    |> Display"
   ]
  },
  {
   "cell_type": "code",
   "execution_count": null,
   "metadata": {
    "scrolled": false
   },
   "outputs": [],
   "source": [
    "displayGraphHost \"gradualGraph\"\n",
    "displayGradualGraph \"gradualGraph\" z"
   ]
  },
  {
   "cell_type": "markdown",
   "metadata": {},
   "source": [
    "<div style=\"background-color: white; height: 1000px;\"></div>"
   ]
  },
  {
   "cell_type": "markdown",
   "metadata": {},
   "source": [
    "<div class=\"alert alert-info\"><p>The one use I have found for including the composite Function node in the graph, is that it <em>does</em> make the final step of the animation sequence more impressive, offering a finale of sorts.</div>"
   ]
  },
  {
   "cell_type": "markdown",
   "metadata": {
    "collapsed": true
   },
   "source": [
    "# Adding an information panel next to the graph\n",
    "\n",
    "**d3js** makes it pretty easy to hang events any element in your graph, so why not present a property dump for each node on mouseover, along with the graph? \n",
    "\n",
    "First we'll need a function to retrieve said property dump. Most CNTK objects implement an <code>.AsString()</code> function that returns a very short summary of the item, so we will use that when it's available. There also needs to be some special handling for enumerable properties, and for the rest we can just call <code>.ToString()</code>."
   ]
  },
  {
   "cell_type": "code",
   "execution_count": null,
   "metadata": {},
   "outputs": [],
   "source": [
    "open System.Collections.Generic\n",
    "\n",
    "/// Active pattern to separate properties for special handling.\n",
    "let (|IsEnumerable|IsDescribable|IsPrimitive|) (t: Type) = \n",
    "    if  t <> typeof<string> && \n",
    "        (typeof< IEnumerable<_> >).IsAssignableFrom(t) \n",
    "    then IsEnumerable\n",
    "    else if t.GetMethods() \n",
    "            |> Array.exists (fun meth -> meth.Name = \"AsString\") \n",
    "    then IsDescribable\n",
    "    else IsPrimitive\n",
    "\n",
    "/// Helper function to convert any property to string,\n",
    "/// always checking if .AsString() is available\n",
    "let asString item =\n",
    "    if isNull item then \"\"\n",
    "    else\n",
    "        match item.GetType() with\n",
    "        | IsDescribable ->     \n",
    "            item.GetType()\n",
    "                .GetMethod(\"AsString\", Array.empty)\n",
    "                .Invoke(item, Array.empty).ToString()\n",
    "        | _ -> item.ToString()"
   ]
  },
  {
   "cell_type": "code",
   "execution_count": null,
   "metadata": {
    "scrolled": false
   },
   "outputs": [],
   "source": [
    "open System.Reflection\n",
    "\n",
    "/// A simple property serializer for CNTK nodes\n",
    "/// <remarks> CNTK Helper function </remarks>\n",
    "let describeNode (item: obj) =\n",
    "    [|\n",
    "        yield KeyValuePair(\"NodeType\", item.GetType().Name)\n",
    "        yield KeyValuePair(\"AsString\", item |> asString)\n",
    "        yield!\n",
    "            item.GetType().GetProperties()\n",
    "            |> Seq.map\n",
    "                (fun prop ->\n",
    "                    match prop.PropertyType with\n",
    "                    | IsEnumerable -> \n",
    "                        prop.Name, \n",
    "                          (prop.GetValue(item) :?> IEnumerable<_>) \n",
    "                          |> function \n",
    "                          | list when list |> Seq.isEmpty -> \"[]\" \n",
    "                          | list -> \n",
    "                              list \n",
    "                              |> Seq.map (asString)                         \n",
    "                              |> Seq.reduce (sprintf \"%s, %s\")\n",
    "                    | IsDescribable -> prop.Name, prop.GetValue(item) |> asString\n",
    "                    | IsPrimitive -> \n",
    "                        prop.Name,\n",
    "                            try prop.GetValue(item) |> asString\n",
    "                            with ex -> sprintf \"%s\" ex.Message)\n",
    "            |> Seq.map (KeyValuePair)\n",
    "    |]"
   ]
  },
  {
   "cell_type": "markdown",
   "metadata": {},
   "source": [
    "<div class=\"alert alert-info\">Mapping the result of <code>describeNode</code> to <code>KeyValuePair</code> is just there to make the eventual json serialization that we send to the javascript bundle a bit more readable.</div>"
   ]
  },
  {
   "cell_type": "markdown",
   "metadata": {},
   "source": [
    "In order to display the node info table properly, we need expand our html host accordingly:"
   ]
  },
  {
   "cell_type": "code",
   "execution_count": null,
   "metadata": {},
   "outputs": [],
   "source": [
    "let displayGraphHostWithInfoPanel graphHostId infoPanelId =\n",
    "    \"\"\"\n",
    "<div style=\"width: 100%; height: 700px; max-height: 700px; overflow-y: scroll; overflow-x: hidden; border: solid lightblue 1px; border-radius: 15px; position: relative\">\n",
    "    <div id=\"graphHostId\" style=\"width: 100%; height: 100%;\"></div>\n",
    "    <div id=\"infoPanelId\" style=\"width: 350px; max-width: 350px; position: absolute; top: 0; right: 0; background-color: white\"></div>\n",
    "</div>\n",
    "    \"\"\".Replace(\"graphHostId\",graphHostId).Replace(\"infoPanelId\",infoPanelId)\n",
    "    |> Util.Html |> Display"
   ]
  },
  {
   "cell_type": "markdown",
   "metadata": {},
   "source": [
    "Then, we expand out dot notation builder with the code that extracts property information for each node. In order to keep things from becoming to convoluted, we extract all the node descriptions in one pass, and send them to the bundled javascript all at once."
   ]
  },
  {
   "cell_type": "code",
   "execution_count": null,
   "metadata": {
    "scrolled": false
   },
   "outputs": [],
   "source": [
    "open Newtonsoft.Json\n",
    "\n",
    "let displayGraphWithInfo graphHostId infoHostId (model: Function) =\n",
    "    let funcs = model |> decomposeFunction |> Array.filter (fun f -> not f.IsComposite)\n",
    "    let vars = \n",
    "        funcs \n",
    "        |> Array.collect(fun f -> [|yield! f.Inputs; yield! f.Outputs|])\n",
    "        |> Array.distinctBy (fun v -> v.Uid)\n",
    "    \n",
    "    let describe (tensor: obj) =\n",
    "        tensor |> describeNode |> JsonConvert.SerializeObject\n",
    "    \n",
    "    // This produces a json object where each property is named with\n",
    "    // the corresponding node's Uid and contains the property dump \n",
    "    // produced by the describeNode function.\n",
    "    let nodeInfo = \n",
    "        [|  yield \"{\"\n",
    "            yield\n",
    "                funcs \n",
    "                |> Array.map \n",
    "                    (fun f -> sprintf \"\\\"%s\\\": %s\" (f.Uid) (describe f))\n",
    "                |> Array.reduce(sprintf \"%s,\\n%s\")\n",
    "            yield \",\"\n",
    "            yield\n",
    "                vars \n",
    "                |> Array.map \n",
    "                    (fun v -> sprintf \"\\\"%s\\\": %s\" (v.Uid) (describe v))\n",
    "                |> Array.reduce(sprintf \"%s,\\n%s\")\n",
    "            yield \"}\" |]\n",
    "        |> Array.reduce(sprintf \"%s\\n%s\")\n",
    "        |> fun text -> text.Trim();\n",
    "    \n",
    "    let dotNotation =\n",
    "        funcs\n",
    "        |> Array.collect (extractGraphVizDotNotation>>Array.ofSeq)\n",
    "        |> Array.distinct \n",
    "        |> Array.reduce(sprintf \"%s\\n%s\")\n",
    "        |> sprintf \"digraph { %s }\"\n",
    "            \n",
    "    initGraph (\"#\" + infoHostId) (\"#\" + graphHostId) |> Display\n",
    "    renderDot \"dot\" dotNotation nodeInfo |> Display"
   ]
  },
  {
   "cell_type": "code",
   "execution_count": null,
   "metadata": {},
   "outputs": [],
   "source": [
    "displayGraphHostWithInfoPanel \"graphWithPanel\" \"infoPanel\"\n",
    "displayGraphWithInfo \"graphWithPanel\" \"infoPanel\" z"
   ]
  },
  {
   "cell_type": "markdown",
   "metadata": {},
   "source": [
    "# Additional graph layout engines"
   ]
  },
  {
   "cell_type": "code",
   "execution_count": null,
   "metadata": {},
   "outputs": [],
   "source": [
    "module Engine =    \n",
    "    let dot = \"dot\"\n",
    "    let circo = \"circo\"\n",
    "    let fdp = \"fdp\"\n",
    "    let neato = \"neato\"\n",
    "    let osage = \"osage\"\n",
    "    let patchwork = \"patchwork\"\n",
    "    let twopi = \"twopi\""
   ]
  },
  {
   "cell_type": "markdown",
   "metadata": {},
   "source": [
    "<p>Like Graphviz, **d3-graphviz** allows for a small variety of different layout engines to draw its graphs.</p> <p>Originally I intended make it possible to exchange engines on the fly via combobox selection (you may have noticed that the wrapper functions for javascript calls still expose an engine parameter), until I realized that CNTK models look mostly terrible with every option but the default of <code>dot</code>...</p>\n",
    "<p>You're welcome to try them of course. Here are a few samples of what to expect:</p>"
   ]
  },
  {
   "cell_type": "markdown",
   "metadata": {},
   "source": [
    "<div style=\"display: flex;  margin: 10px;margin-bottom: 20px; border: solid #EEE 1px; \n",
    "            border-radius: 15px; overflow: hidden\">\n",
    "    <div style=\"border-right: solid #EEE 1px; padding: 15px; font-size: large; \n",
    "                background-color: ghostwhite; min-width: 75px; text-align: center\">dot<div style=\"font-size: small\">\n",
    "            (default)</div>\n",
    "    </div>\n",
    "    <img src=\"images/dot.png\" style=\"padding: 10px\">\n",
    "</div>\n",
    "<div style=\"display: flex;  margin: 10px;margin-bottom: 20px; border: solid #EEE 1px; \n",
    "            border-radius: 15px; overflow: hidden\">\n",
    "    <div style=\"border-right: solid #EEE 1px; padding: 15px; font-size: large; \n",
    "                background-color: ghostwhite; min-width: 75px\">circo</div>\n",
    "    <img src=\"images/circo.png\" style=\"padding: 10px\">\n",
    "</div>\n",
    "<div style=\"display: flex;  margin: 10px;margin-bottom: 20px; border: solid #EEE 1px; \n",
    "            border-radius: 15px; overflow: hidden\">\n",
    "    <div style=\"border-right: solid #EEE 1px; padding: 15px; font-size: large; \n",
    "                background-color: ghostwhite; min-width: 75px\">fdp</div>\n",
    "    <img src=\"images/fdp.png\" style=\"padding: 10px\">\n",
    "</div>\n",
    "<div style=\"display: flex;  margin: 10px;margin-bottom: 20px; border: solid #EEE 1px; \n",
    "            border-radius: 15px; overflow: hidden\">\n",
    "    <div style=\"border-right: solid #EEE 1px; padding: 15px; font-size: large; \n",
    "                background-color: ghostwhite; min-width: 75px\">neato</div>\n",
    "    <img src=\"images/neato.png\" style=\"padding: 10px\">\n",
    "</div>\n",
    "<div style=\"display: flex;  margin: 10px;margin-bottom: 20px; border: solid #EEE 1px; \n",
    "            border-radius: 15px; overflow: hidden\">\n",
    "    <div style=\"border-right: solid #EEE 1px; padding: 15px; font-size: large; \n",
    "                background-color: ghostwhite; min-width: 75px\">osage</div>\n",
    "    <img src=\"images/osage.png\" style=\"padding: 10px\">\n",
    "</div>\n",
    "<div style=\"display: flex;  margin: 10px;margin-bottom: 20px; border: solid #EEE 1px; \n",
    "            border-radius: 15px; overflow: hidden\">\n",
    "    <div style=\"border-right: solid #EEE 1px; padding: 15px; font-size: large; \n",
    "                background-color: ghostwhite; min-width: 75px\">patchwork</div>\n",
    "    <img src=\"images/patchwork.gif\" style=\"padding: 10px\">\n",
    "</div>\n",
    "<div style=\"display: flex;  margin: 10px;margin-bottom: 20px; border: solid #EEE 1px; \n",
    "            border-radius: 15px; overflow: hidden\">\n",
    "    <div style=\"border-right: solid #EEE 1px; padding: 15px; font-size: large; \n",
    "                background-color: ghostwhite; min-width: 75px\">twopi</div>\n",
    "    <img src=\"images/twopi.png\" style=\"padding: 10px\">\n",
    "</div>"
   ]
  },
  {
   "cell_type": "markdown",
   "metadata": {
    "scrolled": false
   },
   "source": [
    "Thanks for making it this far! -- [Ares Lazarus](https://areslazarus.com)"
   ]
  }
 ],
 "metadata": {
  "anaconda-cloud": {},
  "kernelspec": {
   "display_name": "F#",
   "language": "fsharp",
   "name": "ifsharp"
  },
  "language": "fsharp",
  "language_info": {
   "codemirror_mode": "",
   "file_extension": ".fs",
   "mimetype": "text/x-fsharp",
   "name": "fsharp",
   "nbconvert_exporter": "",
   "pygments_lexer": "",
   "version": "4.3.1.0"
  }
 },
 "nbformat": 4,
 "nbformat_minor": 1
}
