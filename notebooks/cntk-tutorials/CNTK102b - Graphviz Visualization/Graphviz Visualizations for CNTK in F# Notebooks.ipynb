{
 "cells": [
  {
   "cell_type": "markdown",
   "metadata": {},
   "source": [
    "# Retroactive changes\n",
    "* Notebooks from now on will be on their own folders, along will their corresponding .fsx\n",
    "\n",
    "This makes is so much easier to keep track of dependencies, and we also resolve the issue of IfCntk overriding the local <code>main.group.fsx</code> path.\n",
    "\n",
    "I will keep copies of the notebooks in their original locations until the links in <em>ze <a href=\"https://www.areslazarus.com\">blog</a></em> are updated."
   ]
  },
  {
   "cell_type": "markdown",
   "metadata": {},
   "source": [
    "# Visualizing CNTK models with Graphviz and D3 in F# for Jupyter\n",
    "\n",
    "Yet another step towards never having to use Python to make the most out of Microsoft's Cognitive Toolkit.\n",
    "\n",
    "## Intro / abstract\n",
    "The Python API offers a [simple way](https://docs.microsoft.com/en-us/cognitive-toolkit/using-graphviz-for-visualization) to display a visual graph of your model via the well known [Graphviz](https://graphviz.gitlab.io/) utility, that sadly hasn't made it to the .NET Cntk API so far.\n",
    "\n",
    "It's very useful to be able to have an idea at a glance of what is going on inside your model, especially if you are not the one who originally created it. There have been other implementations towards that end, and in F# no less, such as Faisal Waris' [FsCNTKTools](https://github.com/fwaris/FsCNTKTools) that uses Microsoft's [Automatic Graph Layout](https://github.com/Microsoft/automatic-graph-layout) module for visualization. \n",
    "\n",
    "Here we are going to use the a [d3js](https://d3js.org/) implementation of Graphviz called [d3-graphviz](https://github.com/magjac/d3-graphviz) that although not a 100% port, is pretty adequate for our needs.\n",
    "\n",
    "This configuration also presents us with certain advantages: first, you absolutely don't need to have any Graphviz binaries installed to display graphs, which has been known to cause issues even in IPython, and second, since the implementation is built on d3js we will have a great deal of options to add interactivity to the graphs, as well as animation.\n"
   ]
  },
  {
   "cell_type": "markdown",
   "metadata": {},
   "source": [
    "# Preparing workspace\n",
    "\n",
    "Our new dependency for this notebook is Newtonsoft.Json, since json is so easy to use from javascript."
   ]
  },
  {
   "cell_type": "code",
   "execution_count": 1,
   "metadata": {
    "collapsed": true
   },
   "outputs": [],
   "source": [
    "#load \"Paket.fsx\"\n",
    " \n",
    "Paket.Dependencies.Install \"\"\"\n",
    "framework: netstandard2.0\n",
    "generate_load_scripts: true\n",
    "storage: none\n",
    "source https://nuget.org/api/v2\n",
    "nuget CNTK.CPUOnly\n",
    "nuget Newtonsoft.Json\n",
    "nuget MathNet.Numerics\n",
    "nuget MathNet.Numerics.FSharp\n",
    "\"\"\""
   ]
  },
  {
   "cell_type": "code",
   "execution_count": 2,
   "metadata": {
    "collapsed": true
   },
   "outputs": [],
   "source": [
    "#r \"netstandard\"\n",
    "#r @\"..\\bin\\Cntk.Core.Managed-2.6.dll\"\n",
    "#load \"../CNTK102b - Graphviz Visualization/.paket/load/main.group.fsx\""
   ]
  },
  {
   "cell_type": "code",
   "execution_count": 3,
   "metadata": {},
   "outputs": [
    {
     "data": {
      "text/plain": [
       "Congratulations, you are using CNTK for: CPU\r\n"
      ]
     },
     "metadata": {},
     "output_type": "display_data"
    }
   ],
   "source": [
    "open System\n",
    "open System.IO\n",
    "\n",
    "Environment.GetEnvironmentVariable(\"PATH\")\n",
    "|> fun path -> sprintf \"%s%c%s\" path (Path.PathSeparator) (Path.GetFullPath(\"bin\"))\n",
    "|> fun path -> Environment.SetEnvironmentVariable(\"PATH\", path)\n",
    "\n",
    "open CNTK\n",
    "DeviceDescriptor.UseDefaultDevice().Type\n",
    "|> printfn \"Congratulations, you are using CNTK for: %A\" "
   ]
  },
  {
   "cell_type": "code",
   "execution_count": 23,
   "metadata": {
    "collapsed": true
   },
   "outputs": [],
   "source": [
    "let device = CNTK.DeviceDescriptor.CPUDevice\n",
    "let dataType = CNTK.DataType.Float\n",
    "let initialization = CNTKLib.GlorotUniformInitializer(1.0)\n",
    "\n",
    "#load \"../fsx/CntkHelpers.fsx\""
   ]
  },
  {
   "cell_type": "markdown",
   "metadata": {},
   "source": [
    "<div class=\"alert alert-warning\"><p>Since we won't be doing any training in this notebook, updating the <code>PATH</code> environment variable is unnecessary.</p> <p>If however you do happen to try to train a model in this network, this is why it will fail. For more info on the subject check the Preparing workspace notebook (<a href=\"https://areslazarus.com/archive/lets-try-a-pure-net-python-like-deep-learning-stack/\">blog</a>) (<a href=\"\">GitHub</a>)</div>"
   ]
  },
  {
   "cell_type": "markdown",
   "metadata": {},
   "source": [
    "# Building a sample model\n",
    "\n",
    "Let's create a simple classifier with one hidden layer of 50 nodes that outputs to a softmax function:"
   ]
  },
  {
   "cell_type": "code",
   "execution_count": 5,
   "metadata": {
    "collapsed": true
   },
   "outputs": [],
   "source": [
    "open CntkHelpers\n",
    "let input_dim, num_output_classes = 2,2\n",
    "let input = Variable.InputVariable(shape [|input_dim|], dataType, \"Features\")\n",
    "let label = Variable.InputVariable(shape [|num_output_classes|], dataType, \"Labels\")\n",
    "let z = \n",
    "    let layers = fullyConnectedClassifierNet input [50] num_output_classes CNTKLib.Sigmoid\n",
    "    CNTKLib.CrossEntropyWithSoftmax(Var layers, label, \"CrossEntropyWithSoftmax\")    "
   ]
  },
  {
   "cell_type": "markdown",
   "metadata": {},
   "source": [
    "# The Search for Nodes\n",
    "\n",
    "Out of the box, the only way to retrieve the model's constituent <code>CNTK.Function</code> objects seems to be get them by name by name, using <code>Function.FindByName/FindAllByName</code>. Maintaining a naming scheme while building a model in CNTK is in my opinion not especially expedient at the best of times, and a downright pain if you are looking to implement functional idioms.\n",
    "\n",
    "In addition, if you are trying to catch a glimpse of the internal workings of a CNTK model it's likely because you had no hand in creating it in the first place. A way to blindly extract network achitecture seems to be necessary.\n",
    "\n",
    "Recursively accumulating connected <code>Variables</code> and checking the <code>Owner</code> property appears to be a simple way to extract a model's component <code>Functions</code>. "
   ]
  },
  {
   "cell_type": "code",
   "execution_count": 6,
   "metadata": {
    "collapsed": true
   },
   "outputs": [],
   "source": [
    "/// Graph search for CNTK.Function objects.\n",
    "/// We use the Input & Output lists in a Function\n",
    "/// to find other Function objects by checking\n",
    "/// the Variable's Owner property.\n",
    "/// <remarks> CNTK helper function </remarks>\n",
    "let decomposeFunction (root: Function) = \n",
    "    let visited = System.Collections.Generic.Dictionary<string, Function>()            \n",
    "\n",
    "    let rec expand (f: Function) = \n",
    "        match visited.ContainsKey(f.Uid) with\n",
    "        | true -> Seq.empty\n",
    "        | false -> \n",
    "            visited.Add(f.Uid, f)\n",
    "            seq {\n",
    "                yield f\n",
    "                yield! \n",
    "                    seq { yield! f.Inputs\n",
    "                          yield! f.Outputs }\n",
    "                    |> Seq.map (fun v -> v.Owner)      \n",
    "                    |> Seq.filter (not<<isNull)\n",
    "                    |> Seq.collect expand\n",
    "            }        \n",
    "\n",
    "    Array.ofSeq (expand root)"
   ]
  },
  {
   "cell_type": "code",
   "execution_count": 7,
   "metadata": {
    "scrolled": true
   },
   "outputs": [
    {
     "data": {
      "text/plain": [
       "[|\"Times: Input('Features', [2], [*, #]) -> Output('@', [50], [*, #])\";\n",
       "  \"Plus: Output('@', [50], [*, #]) -> Output('+', [50], [*, #])\";\n",
       "  \"StableSigmoid: Output('+', [50], [*, #]) -> Output('StableSigmoid10_Output_0', [50], [*, #])\";\n",
       "  \"Times: Output('StableSigmoid10_Output_0', [50], [*, #]) -> Output('@', [2], [*, #])\";\n",
       "  \"Plus: Output('@', [2], [*, #]) -> Output('+', [2], [*, #])\";\n",
       "  \"CrossEntropyWithSoftmax: Output('+', [2], [*, #]), Input('Labels', [2], [*, #]) -> Output('CrossEntropyWithSoftmax', [1], [*, #])\";\n",
       "  \"Composite(CrossEntropyWithSoftmax): Input('Features', [2], [*, #]), Input('Labels', [2], [*, #]) -> Output('CrossEntropyWithSoftmax', [1], [*, #])\"|]"
      ]
     },
     "execution_count": 7,
     "metadata": {},
     "output_type": "execute_result"
    }
   ],
   "source": [
    "// Example: \n",
    "decomposeFunction z |> Array.map (fun f -> f.AsString()) |> Array.rev"
   ]
  },
  {
   "cell_type": "markdown",
   "metadata": {},
   "source": [
    "<div class=\"alert alert-info\"><p>This is a brute force algorithm. Perhaps as the complexity of our models increases we will have to revise, but for now it does fine.</p></div>"
   ]
  },
  {
   "cell_type": "markdown",
   "metadata": {},
   "source": [
    "# Converting to dot notation\n",
    "\n",
    "The great thing about GraphViz is that it does all the heavy lifting of actually building and arranging the graph, as long as we provide it with pairs of connected nodes (in no particular order). Any additional styling information such as the shape of a node can be declared separately.\n",
    "\n",
    "Creating dot notation for a CNTK model is as simple as enumerating the component functions and declare edges according to the content of each <code>CNTK.Function</code> object's Input & Output Variable list, with an additional pass to provide styling for each node according to its properties. \n",
    "\n",
    "For styling I mostly referred to the [original CNTK graph logging implementation](https://github.com/Microsoft/CNTK/blob/master/bindings/python/cntk/logging/graph.py)."
   ]
  },
  {
   "cell_type": "code",
   "execution_count": 8,
   "metadata": {
    "collapsed": true
   },
   "outputs": [],
   "source": [
    "/// Styling functions\n",
    "module GraphNodeStyle =\n",
    "    let varText (v:Variable) = if String.IsNullOrEmpty v.Name then v.Uid else v.Name\n",
    "    let funText (f: Function) = if String.IsNullOrEmpty f.Name then f.Uid else f.Name\n",
    "\n",
    "    let varLabel (v: Variable) = sprintf \"%s [label=\\\"%s\\\"];\" v.Uid (varText v)\n",
    "    let funLabel (f: Function) = sprintf \"%s [label=\\\"%s\\\"];\" f.Uid (funText f)\n",
    "    let edgeLabel (v : Variable) = \n",
    "        v.AsString()\n",
    "         .Replace(\"(\",\"\\n\").Replace(\")\",\"\")\n",
    "         .Replace(\"'\",\"\").Replace(\"->\",\"\\n->\\n\")\n",
    "        |> sprintf \"[label=\\\"%s\\\"]\"            \n",
    "\n",
    "    let varShape (v: Variable) =\n",
    "        match v with\n",
    "        | _ when v.IsInput -> sprintf \"%s [shape=invhouse, color=yellow];\" v.Uid\n",
    "        | _ when v.IsOutput -> sprintf \"%s [shape=invhouse, color=gray];\" v.Uid\n",
    "        | _ when v.IsPlaceholder -> sprintf \"%s [shape=invhouse, color=yellow];\" v.Uid\n",
    "        | _ when v.IsParameter -> sprintf \"%s [shape=diamond, color=green];\" v.Uid\n",
    "        | _ when v.IsConstant -> sprintf \"%s [shape=rectangle, color=lightblue];\" v.Uid\n",
    "        | _ -> sprintf \"%s [shape=circle, color=purple];\" v.Uid\n",
    "\n",
    "    let funShape (f: Function) = \n",
    "        match f with \n",
    "        | _ when f.IsComposite -> sprintf \"%s [shape=ellipse, fontsize=20, penwidth=2, peripheries=2];\" f.Uid\n",
    "        | _ when f.IsPrimitive -> sprintf \"%s [shape=ellipse, fontsize=20, penwidth=2, size=0.6];\" f.Uid\n",
    "        | _ -> sprintf \"%s [shape=ellipse, fontsize=20, penwidth=4];\" f.Uid\n",
    "\n",
    "    let varEdges (f: Function) (v: Variable) = \n",
    "        let inputIndex = f.Inputs |> Seq.map (fun v -> v.Uid) |> Set\n",
    "        let outputIndex = f.Outputs |> Seq.map (fun v -> v.Uid) |> Set\n",
    "\n",
    "        match inputIndex.Contains(v.Uid), outputIndex.Contains(v.Uid) with \n",
    "        | true, _ when v.IsParameter -> sprintf \"%s -> %s %s;\" v.Uid f.Uid (edgeLabel v) |> Some\n",
    "        | _, true when v.IsParameter -> sprintf \"%s -> %s [label=\\\"output param\\\"];\" f.Uid v.Uid|> Some\n",
    "        | true, _ -> sprintf \"%s -> %s %s;\" v.Uid f.Uid (edgeLabel v) |> Some \n",
    "        | _, true -> sprintf \"%s -> %s [label=\\\"output\\\"];\" f.Uid v.Uid |> Some            \n",
    "        | _ -> None\n",
    "\n",
    "    let varOwner (v: Variable) =\n",
    "        match v.Owner with\n",
    "        | null -> None\n",
    "        | _ -> sprintf \"%s -> %s [style=\\\"dotted\\\"];\" v.Owner.Uid v.Uid |> Some"
   ]
  },
  {
   "cell_type": "code",
   "execution_count": 9,
   "metadata": {
    "collapsed": true
   },
   "outputs": [],
   "source": [
    "/// Mapping the connections to and from a CNTK.Function object \n",
    "/// in GraphViz dot notation.\n",
    "/// https://github.com/Microsoft/CNTK/blob/master/bindings/python/cntk/logging/graph.py\n",
    "/// <remarks> CNTK helper function </remarks>\n",
    "let extractGraphVizDotNotation (f: Function) =     \n",
    "    let vars = Seq.append f.Inputs f.Outputs\n",
    "    let funs = seq { \n",
    "            yield f\n",
    "            yield f.RootFunction;\n",
    "            yield! vars |> Seq.map (fun v -> v.Owner) |> Seq.filter (isNull>>not) \n",
    "        } \n",
    "\n",
    "    seq {        \n",
    "        if f.Uid <> f.RootFunction.Uid \n",
    "        then yield sprintf \"%s -> %s [label=\\\"root function\\\"];\" f.RootFunction.Uid f.Uid\n",
    "        yield! vars |> Seq.map GraphNodeStyle.varShape\n",
    "        yield! vars |> Seq.map GraphNodeStyle.varLabel\n",
    "        yield! vars |> Seq.map (GraphNodeStyle.varEdges f) |> Seq.choose id\n",
    "        //yield! vars |> Seq.map varOwner |> Seq.choose id\n",
    "        yield! funs |> Seq.map GraphNodeStyle.funLabel \n",
    "        yield! funs |> Seq.map GraphNodeStyle.funShape\n",
    "    } |> Seq.distinct"
   ]
  },
  {
   "cell_type": "markdown",
   "metadata": {},
   "source": [
    "# Using GraphViz inside an F# jupyter notebook\n",
    "\n",
    "As far as I can tell there are restrictions on loading javascript by using the <code>Util.Html</code> command. I was not able to initialize **d3-graphviz** either by including the cdn reference or by downloading the library files and referring to them locally. \n",
    "\n",
    "What did work was using [webpack](https://webpack.js.org/) to bundle the d3-graphviz library files together, along with some event handlers that will serve as API endpoints; which is to say, instead of directly calling the <code>d3.graphviz</code> object we trigger an event with the dot notation as payload, which will then be handled from the bundled js.\n",
    "\n",
    "This seems like a very roundabout way of doing things, and if a better way to integrate tons of html/js with IfCntk comes up I will be glad to revisit and hopefully provide a more elegant solution.\n",
    "\n",
    "The webpack project can be found [here](https://github.com/SpaceAntelope/IfCntk/tree/master/d3-jupyter). "
   ]
  },
  {
   "cell_type": "code",
   "execution_count": 10,
   "metadata": {
    "scrolled": true
   },
   "outputs": [
    {
     "data": {
      "text/html": [
       "<script src='../../../d3-jupyter/dist/bundle.js'></script>"
      ]
     },
     "metadata": {},
     "output_type": "display_data"
    }
   ],
   "source": [
    "@\"<script src='../../../d3-jupyter/dist/bundle.js'></script>\" \n",
    "|> Util.Html |> Display"
   ]
  },
  {
   "cell_type": "markdown",
   "metadata": {},
   "source": [
    "<div class=\"alert alert-info\">While I include the <a href=\"https://github.com/SpaceAntelope/IfCntk/tree/master/d3-jupyter/dist\">bundle.js</a> in the repository, you should remember that making changes to the <a href=\"https://github.com/SpaceAntelope/IfCntk/blob/master/d3-jupyter/src/index.js\">index.js</a> requires you to rebuild the project with webpack.</div>"
   ]
  },
  {
   "cell_type": "markdown",
   "metadata": {},
   "source": [
    "### Wrapper functions for accessing d3-graphviz from the notebook"
   ]
  },
  {
   "cell_type": "code",
   "execution_count": 11,
   "metadata": {
    "collapsed": true
   },
   "outputs": [],
   "source": [
    "/// Provide jQuery paths to the html elements\n",
    "/// you want the model graph and the node \n",
    "/// descriptions to appear for any subsequent\n",
    "/// calls to renderDor and renderSeries\n",
    "let initGraph infoPath graphPath = \n",
    "    sprintf \"<script>$(document).trigger('INIT_D3', ['%s','%s']);</script>\" infoPath graphPath\n",
    "    |> Util.Html\n",
    "\n",
    "\n",
    "/// Send dot notation to be rendered as a graph\n",
    "let renderDot engine dotNotation jsonInfo = \n",
    "    sprintf \"<script>$(document).trigger('RENDER_GRAPH', [`%s`,`%s`, '%s']);</script>\" dotNotation jsonInfo engine\n",
    "    |> Util.Html\n",
    "\n",
    "/// Send a series of graphs to be \n",
    "/// sequentially animated into each other\n",
    "let renderSeries engine (digraphs : string[]) = \n",
    "    digraphs\n",
    "    |> Array.reduce(sprintf \"%s','%s\")\n",
    "    |> fun graphs -> graphs,engine\n",
    "    ||> sprintf \"<script>$(document).trigger('RENDER_SERIES', [['%s'],'%s']);</script>\" \n",
    "    |> Util.Html   "
   ]
  },
  {
   "cell_type": "markdown",
   "metadata": {},
   "source": [
    "# Bringing the whole thing together"
   ]
  },
  {
   "cell_type": "code",
   "execution_count": 12,
   "metadata": {
    "collapsed": true
   },
   "outputs": [],
   "source": [
    "/// Extract notation for each CNTK.Function in model\n",
    "/// combine in a string and send to graphviz for rendering\n",
    "let displayGraphForModel hostId (model: Function) =\n",
    "    let dotNotation =\n",
    "        model\n",
    "        |> decomposeFunction\n",
    "        |> Array.filter (fun f -> not f.IsComposite)\n",
    "        |> Array.collect (extractGraphVizDotNotation>>Array.ofSeq)\n",
    "        |> Array.distinct \n",
    "        |> Array.reduce(sprintf \"%s\\n%s\")\n",
    "        |> sprintf \"digraph { %s }\"\n",
    "            \n",
    "    initGraph \"\" (\"#\"+hostId) |> Display\n",
    "    renderDot \"dot\" dotNotation \"\" |> Display   "
   ]
  },
  {
   "cell_type": "markdown",
   "metadata": {},
   "source": [
    "In order to be able to show the d3-graphviz output we need a host for the svg inside the notebook. This is trivial to do in IfCntk, again by using the <code>Util.Html</code>:"
   ]
  },
  {
   "cell_type": "code",
   "execution_count": 13,
   "metadata": {
    "collapsed": true,
    "scrolled": false
   },
   "outputs": [],
   "source": [
    "let displayGraphHost hostId =\n",
    "    \"\"\"\n",
    "<div id=\"hostId\" \n",
    "     style=\"width: 100%; border: solid lightblue 1px; border-radius: 15px; position: relative\">    \n",
    "</div>\"\"\".Replace(\"hostId\", hostId)\n",
    "    |> Util.Html |> Display"
   ]
  },
  {
   "cell_type": "code",
   "execution_count": 14,
   "metadata": {
    "scrolled": true
   },
   "outputs": [
    {
     "data": {
      "text/html": [
       "\n",
       "<div id=\"graph\" \n",
       "     style=\"width: 100%; border: solid lightblue 1px; border-radius: 15px; position: relative\">    \n",
       "</div>"
      ]
     },
     "metadata": {},
     "output_type": "display_data"
    },
    {
     "data": {
      "text/html": [
       "<script>$(document).trigger('INIT_D3', ['','#graph']);</script>"
      ]
     },
     "metadata": {},
     "output_type": "display_data"
    },
    {
     "data": {
      "text/html": [
       "<script>$(document).trigger('RENDER_GRAPH', [`digraph { Plus18_Output_0 [shape=invhouse, color=gray];\n",
       "Input1 [shape=invhouse, color=yellow];\n",
       "Block32_Output_0 [shape=invhouse, color=gray];\n",
       "Plus18_Output_0 [label=\"+\"];\n",
       "Input1 [label=\"Labels\"];\n",
       "Block32_Output_0 [label=\"CrossEntropyWithSoftmax\"];\n",
       "Plus18_Output_0 -> Block32 [label=\"Output\n",
       "+, [2], [*, #]\"];\n",
       "Input1 -> Block32 [label=\"Input\n",
       "Labels, [2], [*, #]\"];\n",
       "Block32 -> Block32_Output_0 [label=\"output\"];\n",
       "Block32 [label=\"CrossEntropyWithSoftmax\"];\n",
       "Plus18 [label=\"+\"];\n",
       "Block32 [shape=ellipse, fontsize=20, penwidth=2, size=0.6];\n",
       "Plus18 [shape=ellipse, fontsize=20, penwidth=2, size=0.6];\n",
       "Times15_Output_0 [shape=invhouse, color=gray];\n",
       "Parameter14 [shape=diamond, color=green];\n",
       "Times15_Output_0 [label=\"@\"];\n",
       "Parameter14 [label=\"Bias\"];\n",
       "Times15_Output_0 -> Plus18 [label=\"Output\n",
       "@, [2], [*, #]\"];\n",
       "Parameter14 -> Plus18 [label=\"Parameter\n",
       "Bias, [2], []\"];\n",
       "Plus18 -> Plus18_Output_0 [label=\"output\"];\n",
       "Times15 [label=\"@\"];\n",
       "Times15 [shape=ellipse, fontsize=20, penwidth=2, size=0.6];\n",
       "Parameter13 [shape=diamond, color=green];\n",
       "StableSigmoid10_Output_0 [shape=invhouse, color=gray];\n",
       "Parameter13 [label=\"Weights\"];\n",
       "StableSigmoid10_Output_0 [label=\"StableSigmoid10_Output_0\"];\n",
       "Parameter13 -> Times15 [label=\"Parameter\n",
       "Weights, [2 x 50], []\"];\n",
       "StableSigmoid10_Output_0 -> Times15 [label=\"Output\n",
       "StableSigmoid10_Output_0, [50], [*, #]\"];\n",
       "Times15 -> Times15_Output_0 [label=\"output\"];\n",
       "StableSigmoid10 [label=\"StableSigmoid10\"];\n",
       "StableSigmoid10 [shape=ellipse, fontsize=20, penwidth=2, size=0.6];\n",
       "Plus7_Output_0 [shape=invhouse, color=gray];\n",
       "Plus7_Output_0 [label=\"+\"];\n",
       "Plus7_Output_0 -> StableSigmoid10 [label=\"Output\n",
       "+, [50], [*, #]\"];\n",
       "StableSigmoid10 -> StableSigmoid10_Output_0 [label=\"output\"];\n",
       "Plus7 [label=\"+\"];\n",
       "Plus7 [shape=ellipse, fontsize=20, penwidth=2, size=0.6];\n",
       "Times4_Output_0 [shape=invhouse, color=gray];\n",
       "Parameter3 [shape=diamond, color=green];\n",
       "Times4_Output_0 [label=\"@\"];\n",
       "Parameter3 [label=\"Bias\"];\n",
       "Times4_Output_0 -> Plus7 [label=\"Output\n",
       "@, [50], [*, #]\"];\n",
       "Parameter3 -> Plus7 [label=\"Parameter\n",
       "Bias, [50], []\"];\n",
       "Plus7 -> Plus7_Output_0 [label=\"output\"];\n",
       "Times4 [label=\"@\"];\n",
       "Times4 [shape=ellipse, fontsize=20, penwidth=2, size=0.6];\n",
       "Parameter2 [shape=diamond, color=green];\n",
       "Input0 [shape=invhouse, color=yellow];\n",
       "Parameter2 [label=\"Weights\"];\n",
       "Input0 [label=\"Features\"];\n",
       "Parameter2 -> Times4 [label=\"Parameter\n",
       "Weights, [50 x 2], []\"];\n",
       "Input0 -> Times4 [label=\"Input\n",
       "Features, [2], [*, #]\"];\n",
       "Times4 -> Times4_Output_0 [label=\"output\"]; }`,``, 'dot']);</script>"
      ]
     },
     "metadata": {},
     "output_type": "display_data"
    }
   ],
   "source": [
    "displayGraphHost \"graph\"\n",
    "displayGraphForModel \"graph\" z"
   ]
  },
  {
   "cell_type": "markdown",
   "metadata": {},
   "source": [
    "<div class=\"alert alert-info\"><p>Feel free to exclude or include the composite function node in your graph, since it is seems generally redundant for so simple a model, where it's implied that all the component nodes are parts of a composite model anyway.</p> <p>It should be noted that CNTK's own Python implementation ommits composite function nodes completely.</p></div>"
   ]
  },
  {
   "cell_type": "markdown",
   "metadata": {},
   "source": [
    "# Differences from the Python version\n",
    "\n",
    "<p>The most noticable difference so far seems to be that the result of the <code>CNTK.logging.graph.plot</code> of the Python API ommits the <em>Function -> Variable</em> owner relationship (which in this image is additionally denoted with a dotted edge), and that there seems to be no option to include the composite function in the graph - not that you would want to in the first place; as I noted earlier, it only seems to make the graph unnecessarily convoluted. Similarly, the reason I am keeping the <em>owner</em> edges for now is less for completeness' sake and more because it easier than rewriting the code to prune them...</p> \n",
    "<p>Additionally, in spite of keeping the <em>owner</em> edges, unlike most other cases I do not label them with the content of <code>CNTK.Function.AsString()</code> since it is very wordy and mainly just a restatement of the input and output Variables' <code>.AsString()</code> descriptions.</p>\n",
    "<img style=\"margin: 30px\" src=\"images/differences.png\"></img>\n",
    "<p>Also, whereas the python version always uses a default property to label each node, here we default to <strong>Uid</strong> only if no explicit name has been set. Thus, while it may seem that I have maintained the convention of denoting dot product nodes with <strong>@</strong> and addition nodes with <strong>+</strong>, in fact they are just named that way in the <code>fullyConnectedClassifierNet</code>. The same is true for the cross entropy / softmax node. </p>\n",
    "\n"
   ]
  },
  {
   "cell_type": "markdown",
   "metadata": {},
   "source": [
    "### Let's add some animation\n",
    "\n",
    "<p>**d3-graphviz** allows us to animate one graph into an other, simply by declaring a transition filter and making consecutive calls to the render function. Best results require consequent renderings be done after the current graph has finished rendering, so we cannot just call <code>renderGraph</code> a bunch of times and be done with it, which is why the *RENDER_SERIES* event is used. </p>\n",
    "\n",
    "<div class=\"alert alert-info\">For javascript implementation details see [index.js](https://github.com/SpaceAntelope/IfCntk/blob/master/d3-jupyter/src/index.js).</div>"
   ]
  },
  {
   "cell_type": "code",
   "execution_count": 15,
   "metadata": {
    "collapsed": true
   },
   "outputs": [],
   "source": [
    "/// Extract dot notation by starting with an empty model\n",
    "/// and then adding a \"frame\" of dot notation for\n",
    "/// each additional CNTK.Function in the model.\n",
    "let displayGradualGraph hostId (model: Function) =\n",
    "\n",
    "    initGraph \"\" (\"#\" + hostId) |> Display\n",
    "\n",
    "    let dotNotation =\n",
    "        model\n",
    "        |> decomposeFunction \n",
    "        //|> Array.filter (fun f -> not f.IsComposite)\n",
    "        |> Array.map (extractGraphVizDotNotation>>Seq.reduce(sprintf \"%s %s\")) \n",
    "        |> Array.rev\n",
    "        |> Array.scan (sprintf \"%s %s\") \"\"\n",
    "        |> Array.map (sprintf \"digraph { %s }\")\n",
    "        |> Array.map (fun txt -> txt.Replace(\"\\n\",\"\\\\n\"))\n",
    "           \n",
    "    renderSeries \"dot\" dotNotation\n",
    "    |> Display"
   ]
  },
  {
   "cell_type": "code",
   "execution_count": 16,
   "metadata": {
    "scrolled": false
   },
   "outputs": [
    {
     "data": {
      "text/html": [
       "\n",
       "<div id=\"gradualGraph\" \n",
       "     style=\"width: 100%; border: solid lightblue 1px; border-radius: 15px; position: relative\">    \n",
       "</div>"
      ]
     },
     "metadata": {},
     "output_type": "display_data"
    },
    {
     "data": {
      "text/html": [
       "<script>$(document).trigger('INIT_D3', ['','#gradualGraph']);</script>"
      ]
     },
     "metadata": {},
     "output_type": "display_data"
    },
    {
     "data": {
      "text/html": [
       "<script>$(document).trigger('RENDER_SERIES', [['digraph {  }','digraph {  Parameter2 [shape=diamond, color=green]; Input0 [shape=invhouse, color=yellow]; Times4_Output_0 [shape=invhouse, color=gray]; Parameter2 [label=\"Weights\"]; Input0 [label=\"Features\"]; Times4_Output_0 [label=\"@\"]; Parameter2 -> Times4 [label=\"Parameter\\nWeights, [50 x 2], []\"]; Input0 -> Times4 [label=\"Input\\nFeatures, [2], [*, #]\"]; Times4 -> Times4_Output_0 [label=\"output\"]; Times4 [label=\"@\"]; Times4 [shape=ellipse, fontsize=20, penwidth=2, size=0.6]; }','digraph {  Parameter2 [shape=diamond, color=green]; Input0 [shape=invhouse, color=yellow]; Times4_Output_0 [shape=invhouse, color=gray]; Parameter2 [label=\"Weights\"]; Input0 [label=\"Features\"]; Times4_Output_0 [label=\"@\"]; Parameter2 -> Times4 [label=\"Parameter\\nWeights, [50 x 2], []\"]; Input0 -> Times4 [label=\"Input\\nFeatures, [2], [*, #]\"]; Times4 -> Times4_Output_0 [label=\"output\"]; Times4 [label=\"@\"]; Times4 [shape=ellipse, fontsize=20, penwidth=2, size=0.6]; Times4_Output_0 [shape=invhouse, color=gray]; Parameter3 [shape=diamond, color=green]; Plus7_Output_0 [shape=invhouse, color=gray]; Times4_Output_0 [label=\"@\"]; Parameter3 [label=\"Bias\"]; Plus7_Output_0 [label=\"+\"]; Times4_Output_0 -> Plus7 [label=\"Output\\n@, [50], [*, #]\"]; Parameter3 -> Plus7 [label=\"Parameter\\nBias, [50], []\"]; Plus7 -> Plus7_Output_0 [label=\"output\"]; Plus7 [label=\"+\"]; Times4 [label=\"@\"]; Plus7 [shape=ellipse, fontsize=20, penwidth=2, size=0.6]; Times4 [shape=ellipse, fontsize=20, penwidth=2, size=0.6]; }','digraph {  Parameter2 [shape=diamond, color=green]; Input0 [shape=invhouse, color=yellow]; Times4_Output_0 [shape=invhouse, color=gray]; Parameter2 [label=\"Weights\"]; Input0 [label=\"Features\"]; Times4_Output_0 [label=\"@\"]; Parameter2 -> Times4 [label=\"Parameter\\nWeights, [50 x 2], []\"]; Input0 -> Times4 [label=\"Input\\nFeatures, [2], [*, #]\"]; Times4 -> Times4_Output_0 [label=\"output\"]; Times4 [label=\"@\"]; Times4 [shape=ellipse, fontsize=20, penwidth=2, size=0.6]; Times4_Output_0 [shape=invhouse, color=gray]; Parameter3 [shape=diamond, color=green]; Plus7_Output_0 [shape=invhouse, color=gray]; Times4_Output_0 [label=\"@\"]; Parameter3 [label=\"Bias\"]; Plus7_Output_0 [label=\"+\"]; Times4_Output_0 -> Plus7 [label=\"Output\\n@, [50], [*, #]\"]; Parameter3 -> Plus7 [label=\"Parameter\\nBias, [50], []\"]; Plus7 -> Plus7_Output_0 [label=\"output\"]; Plus7 [label=\"+\"]; Times4 [label=\"@\"]; Plus7 [shape=ellipse, fontsize=20, penwidth=2, size=0.6]; Times4 [shape=ellipse, fontsize=20, penwidth=2, size=0.6]; Plus7_Output_0 [shape=invhouse, color=gray]; StableSigmoid10_Output_0 [shape=invhouse, color=gray]; Plus7_Output_0 [label=\"+\"]; StableSigmoid10_Output_0 [label=\"StableSigmoid10_Output_0\"]; Plus7_Output_0 -> StableSigmoid10 [label=\"Output\\n+, [50], [*, #]\"]; StableSigmoid10 -> StableSigmoid10_Output_0 [label=\"output\"]; StableSigmoid10 [label=\"StableSigmoid10\"]; Plus7 [label=\"+\"]; StableSigmoid10 [shape=ellipse, fontsize=20, penwidth=2, size=0.6]; Plus7 [shape=ellipse, fontsize=20, penwidth=2, size=0.6]; }','digraph {  Parameter2 [shape=diamond, color=green]; Input0 [shape=invhouse, color=yellow]; Times4_Output_0 [shape=invhouse, color=gray]; Parameter2 [label=\"Weights\"]; Input0 [label=\"Features\"]; Times4_Output_0 [label=\"@\"]; Parameter2 -> Times4 [label=\"Parameter\\nWeights, [50 x 2], []\"]; Input0 -> Times4 [label=\"Input\\nFeatures, [2], [*, #]\"]; Times4 -> Times4_Output_0 [label=\"output\"]; Times4 [label=\"@\"]; Times4 [shape=ellipse, fontsize=20, penwidth=2, size=0.6]; Times4_Output_0 [shape=invhouse, color=gray]; Parameter3 [shape=diamond, color=green]; Plus7_Output_0 [shape=invhouse, color=gray]; Times4_Output_0 [label=\"@\"]; Parameter3 [label=\"Bias\"]; Plus7_Output_0 [label=\"+\"]; Times4_Output_0 -> Plus7 [label=\"Output\\n@, [50], [*, #]\"]; Parameter3 -> Plus7 [label=\"Parameter\\nBias, [50], []\"]; Plus7 -> Plus7_Output_0 [label=\"output\"]; Plus7 [label=\"+\"]; Times4 [label=\"@\"]; Plus7 [shape=ellipse, fontsize=20, penwidth=2, size=0.6]; Times4 [shape=ellipse, fontsize=20, penwidth=2, size=0.6]; Plus7_Output_0 [shape=invhouse, color=gray]; StableSigmoid10_Output_0 [shape=invhouse, color=gray]; Plus7_Output_0 [label=\"+\"]; StableSigmoid10_Output_0 [label=\"StableSigmoid10_Output_0\"]; Plus7_Output_0 -> StableSigmoid10 [label=\"Output\\n+, [50], [*, #]\"]; StableSigmoid10 -> StableSigmoid10_Output_0 [label=\"output\"]; StableSigmoid10 [label=\"StableSigmoid10\"]; Plus7 [label=\"+\"]; StableSigmoid10 [shape=ellipse, fontsize=20, penwidth=2, size=0.6]; Plus7 [shape=ellipse, fontsize=20, penwidth=2, size=0.6]; Parameter13 [shape=diamond, color=green]; StableSigmoid10_Output_0 [shape=invhouse, color=gray]; Times15_Output_0 [shape=invhouse, color=gray]; Parameter13 [label=\"Weights\"]; StableSigmoid10_Output_0 [label=\"StableSigmoid10_Output_0\"]; Times15_Output_0 [label=\"@\"]; Parameter13 -> Times15 [label=\"Parameter\\nWeights, [2 x 50], []\"]; StableSigmoid10_Output_0 -> Times15 [label=\"Output\\nStableSigmoid10_Output_0, [50], [*, #]\"]; Times15 -> Times15_Output_0 [label=\"output\"]; Times15 [label=\"@\"]; StableSigmoid10 [label=\"StableSigmoid10\"]; Times15 [shape=ellipse, fontsize=20, penwidth=2, size=0.6]; StableSigmoid10 [shape=ellipse, fontsize=20, penwidth=2, size=0.6]; }','digraph {  Parameter2 [shape=diamond, color=green]; Input0 [shape=invhouse, color=yellow]; Times4_Output_0 [shape=invhouse, color=gray]; Parameter2 [label=\"Weights\"]; Input0 [label=\"Features\"]; Times4_Output_0 [label=\"@\"]; Parameter2 -> Times4 [label=\"Parameter\\nWeights, [50 x 2], []\"]; Input0 -> Times4 [label=\"Input\\nFeatures, [2], [*, #]\"]; Times4 -> Times4_Output_0 [label=\"output\"]; Times4 [label=\"@\"]; Times4 [shape=ellipse, fontsize=20, penwidth=2, size=0.6]; Times4_Output_0 [shape=invhouse, color=gray]; Parameter3 [shape=diamond, color=green]; Plus7_Output_0 [shape=invhouse, color=gray]; Times4_Output_0 [label=\"@\"]; Parameter3 [label=\"Bias\"]; Plus7_Output_0 [label=\"+\"]; Times4_Output_0 -> Plus7 [label=\"Output\\n@, [50], [*, #]\"]; Parameter3 -> Plus7 [label=\"Parameter\\nBias, [50], []\"]; Plus7 -> Plus7_Output_0 [label=\"output\"]; Plus7 [label=\"+\"]; Times4 [label=\"@\"]; Plus7 [shape=ellipse, fontsize=20, penwidth=2, size=0.6]; Times4 [shape=ellipse, fontsize=20, penwidth=2, size=0.6]; Plus7_Output_0 [shape=invhouse, color=gray]; StableSigmoid10_Output_0 [shape=invhouse, color=gray]; Plus7_Output_0 [label=\"+\"]; StableSigmoid10_Output_0 [label=\"StableSigmoid10_Output_0\"]; Plus7_Output_0 -> StableSigmoid10 [label=\"Output\\n+, [50], [*, #]\"]; StableSigmoid10 -> StableSigmoid10_Output_0 [label=\"output\"]; StableSigmoid10 [label=\"StableSigmoid10\"]; Plus7 [label=\"+\"]; StableSigmoid10 [shape=ellipse, fontsize=20, penwidth=2, size=0.6]; Plus7 [shape=ellipse, fontsize=20, penwidth=2, size=0.6]; Parameter13 [shape=diamond, color=green]; StableSigmoid10_Output_0 [shape=invhouse, color=gray]; Times15_Output_0 [shape=invhouse, color=gray]; Parameter13 [label=\"Weights\"]; StableSigmoid10_Output_0 [label=\"StableSigmoid10_Output_0\"]; Times15_Output_0 [label=\"@\"]; Parameter13 -> Times15 [label=\"Parameter\\nWeights, [2 x 50], []\"]; StableSigmoid10_Output_0 -> Times15 [label=\"Output\\nStableSigmoid10_Output_0, [50], [*, #]\"]; Times15 -> Times15_Output_0 [label=\"output\"]; Times15 [label=\"@\"]; StableSigmoid10 [label=\"StableSigmoid10\"]; Times15 [shape=ellipse, fontsize=20, penwidth=2, size=0.6]; StableSigmoid10 [shape=ellipse, fontsize=20, penwidth=2, size=0.6]; Times15_Output_0 [shape=invhouse, color=gray]; Parameter14 [shape=diamond, color=green]; Plus18_Output_0 [shape=invhouse, color=gray]; Times15_Output_0 [label=\"@\"]; Parameter14 [label=\"Bias\"]; Plus18_Output_0 [label=\"+\"]; Times15_Output_0 -> Plus18 [label=\"Output\\n@, [2], [*, #]\"]; Parameter14 -> Plus18 [label=\"Parameter\\nBias, [2], []\"]; Plus18 -> Plus18_Output_0 [label=\"output\"]; Plus18 [label=\"+\"]; Times15 [label=\"@\"]; Plus18 [shape=ellipse, fontsize=20, penwidth=2, size=0.6]; Times15 [shape=ellipse, fontsize=20, penwidth=2, size=0.6]; }','digraph {  Parameter2 [shape=diamond, color=green]; Input0 [shape=invhouse, color=yellow]; Times4_Output_0 [shape=invhouse, color=gray]; Parameter2 [label=\"Weights\"]; Input0 [label=\"Features\"]; Times4_Output_0 [label=\"@\"]; Parameter2 -> Times4 [label=\"Parameter\\nWeights, [50 x 2], []\"]; Input0 -> Times4 [label=\"Input\\nFeatures, [2], [*, #]\"]; Times4 -> Times4_Output_0 [label=\"output\"]; Times4 [label=\"@\"]; Times4 [shape=ellipse, fontsize=20, penwidth=2, size=0.6]; Times4_Output_0 [shape=invhouse, color=gray]; Parameter3 [shape=diamond, color=green]; Plus7_Output_0 [shape=invhouse, color=gray]; Times4_Output_0 [label=\"@\"]; Parameter3 [label=\"Bias\"]; Plus7_Output_0 [label=\"+\"]; Times4_Output_0 -> Plus7 [label=\"Output\\n@, [50], [*, #]\"]; Parameter3 -> Plus7 [label=\"Parameter\\nBias, [50], []\"]; Plus7 -> Plus7_Output_0 [label=\"output\"]; Plus7 [label=\"+\"]; Times4 [label=\"@\"]; Plus7 [shape=ellipse, fontsize=20, penwidth=2, size=0.6]; Times4 [shape=ellipse, fontsize=20, penwidth=2, size=0.6]; Plus7_Output_0 [shape=invhouse, color=gray]; StableSigmoid10_Output_0 [shape=invhouse, color=gray]; Plus7_Output_0 [label=\"+\"]; StableSigmoid10_Output_0 [label=\"StableSigmoid10_Output_0\"]; Plus7_Output_0 -> StableSigmoid10 [label=\"Output\\n+, [50], [*, #]\"]; StableSigmoid10 -> StableSigmoid10_Output_0 [label=\"output\"]; StableSigmoid10 [label=\"StableSigmoid10\"]; Plus7 [label=\"+\"]; StableSigmoid10 [shape=ellipse, fontsize=20, penwidth=2, size=0.6]; Plus7 [shape=ellipse, fontsize=20, penwidth=2, size=0.6]; Parameter13 [shape=diamond, color=green]; StableSigmoid10_Output_0 [shape=invhouse, color=gray]; Times15_Output_0 [shape=invhouse, color=gray]; Parameter13 [label=\"Weights\"]; StableSigmoid10_Output_0 [label=\"StableSigmoid10_Output_0\"]; Times15_Output_0 [label=\"@\"]; Parameter13 -> Times15 [label=\"Parameter\\nWeights, [2 x 50], []\"]; StableSigmoid10_Output_0 -> Times15 [label=\"Output\\nStableSigmoid10_Output_0, [50], [*, #]\"]; Times15 -> Times15_Output_0 [label=\"output\"]; Times15 [label=\"@\"]; StableSigmoid10 [label=\"StableSigmoid10\"]; Times15 [shape=ellipse, fontsize=20, penwidth=2, size=0.6]; StableSigmoid10 [shape=ellipse, fontsize=20, penwidth=2, size=0.6]; Times15_Output_0 [shape=invhouse, color=gray]; Parameter14 [shape=diamond, color=green]; Plus18_Output_0 [shape=invhouse, color=gray]; Times15_Output_0 [label=\"@\"]; Parameter14 [label=\"Bias\"]; Plus18_Output_0 [label=\"+\"]; Times15_Output_0 -> Plus18 [label=\"Output\\n@, [2], [*, #]\"]; Parameter14 -> Plus18 [label=\"Parameter\\nBias, [2], []\"]; Plus18 -> Plus18_Output_0 [label=\"output\"]; Plus18 [label=\"+\"]; Times15 [label=\"@\"]; Plus18 [shape=ellipse, fontsize=20, penwidth=2, size=0.6]; Times15 [shape=ellipse, fontsize=20, penwidth=2, size=0.6]; Plus18_Output_0 [shape=invhouse, color=gray]; Input1 [shape=invhouse, color=yellow]; Block32_Output_0 [shape=invhouse, color=gray]; Plus18_Output_0 [label=\"+\"]; Input1 [label=\"Labels\"]; Block32_Output_0 [label=\"CrossEntropyWithSoftmax\"]; Plus18_Output_0 -> Block32 [label=\"Output\\n+, [2], [*, #]\"]; Input1 -> Block32 [label=\"Input\\nLabels, [2], [*, #]\"]; Block32 -> Block32_Output_0 [label=\"output\"]; Block32 [label=\"CrossEntropyWithSoftmax\"]; Plus18 [label=\"+\"]; Block32 [shape=ellipse, fontsize=20, penwidth=2, size=0.6]; Plus18 [shape=ellipse, fontsize=20, penwidth=2, size=0.6]; }','digraph {  Parameter2 [shape=diamond, color=green]; Input0 [shape=invhouse, color=yellow]; Times4_Output_0 [shape=invhouse, color=gray]; Parameter2 [label=\"Weights\"]; Input0 [label=\"Features\"]; Times4_Output_0 [label=\"@\"]; Parameter2 -> Times4 [label=\"Parameter\\nWeights, [50 x 2], []\"]; Input0 -> Times4 [label=\"Input\\nFeatures, [2], [*, #]\"]; Times4 -> Times4_Output_0 [label=\"output\"]; Times4 [label=\"@\"]; Times4 [shape=ellipse, fontsize=20, penwidth=2, size=0.6]; Times4_Output_0 [shape=invhouse, color=gray]; Parameter3 [shape=diamond, color=green]; Plus7_Output_0 [shape=invhouse, color=gray]; Times4_Output_0 [label=\"@\"]; Parameter3 [label=\"Bias\"]; Plus7_Output_0 [label=\"+\"]; Times4_Output_0 -> Plus7 [label=\"Output\\n@, [50], [*, #]\"]; Parameter3 -> Plus7 [label=\"Parameter\\nBias, [50], []\"]; Plus7 -> Plus7_Output_0 [label=\"output\"]; Plus7 [label=\"+\"]; Times4 [label=\"@\"]; Plus7 [shape=ellipse, fontsize=20, penwidth=2, size=0.6]; Times4 [shape=ellipse, fontsize=20, penwidth=2, size=0.6]; Plus7_Output_0 [shape=invhouse, color=gray]; StableSigmoid10_Output_0 [shape=invhouse, color=gray]; Plus7_Output_0 [label=\"+\"]; StableSigmoid10_Output_0 [label=\"StableSigmoid10_Output_0\"]; Plus7_Output_0 -> StableSigmoid10 [label=\"Output\\n+, [50], [*, #]\"]; StableSigmoid10 -> StableSigmoid10_Output_0 [label=\"output\"]; StableSigmoid10 [label=\"StableSigmoid10\"]; Plus7 [label=\"+\"]; StableSigmoid10 [shape=ellipse, fontsize=20, penwidth=2, size=0.6]; Plus7 [shape=ellipse, fontsize=20, penwidth=2, size=0.6]; Parameter13 [shape=diamond, color=green]; StableSigmoid10_Output_0 [shape=invhouse, color=gray]; Times15_Output_0 [shape=invhouse, color=gray]; Parameter13 [label=\"Weights\"]; StableSigmoid10_Output_0 [label=\"StableSigmoid10_Output_0\"]; Times15_Output_0 [label=\"@\"]; Parameter13 -> Times15 [label=\"Parameter\\nWeights, [2 x 50], []\"]; StableSigmoid10_Output_0 -> Times15 [label=\"Output\\nStableSigmoid10_Output_0, [50], [*, #]\"]; Times15 -> Times15_Output_0 [label=\"output\"]; Times15 [label=\"@\"]; StableSigmoid10 [label=\"StableSigmoid10\"]; Times15 [shape=ellipse, fontsize=20, penwidth=2, size=0.6]; StableSigmoid10 [shape=ellipse, fontsize=20, penwidth=2, size=0.6]; Times15_Output_0 [shape=invhouse, color=gray]; Parameter14 [shape=diamond, color=green]; Plus18_Output_0 [shape=invhouse, color=gray]; Times15_Output_0 [label=\"@\"]; Parameter14 [label=\"Bias\"]; Plus18_Output_0 [label=\"+\"]; Times15_Output_0 -> Plus18 [label=\"Output\\n@, [2], [*, #]\"]; Parameter14 -> Plus18 [label=\"Parameter\\nBias, [2], []\"]; Plus18 -> Plus18_Output_0 [label=\"output\"]; Plus18 [label=\"+\"]; Times15 [label=\"@\"]; Plus18 [shape=ellipse, fontsize=20, penwidth=2, size=0.6]; Times15 [shape=ellipse, fontsize=20, penwidth=2, size=0.6]; Plus18_Output_0 [shape=invhouse, color=gray]; Input1 [shape=invhouse, color=yellow]; Block32_Output_0 [shape=invhouse, color=gray]; Plus18_Output_0 [label=\"+\"]; Input1 [label=\"Labels\"]; Block32_Output_0 [label=\"CrossEntropyWithSoftmax\"]; Plus18_Output_0 -> Block32 [label=\"Output\\n+, [2], [*, #]\"]; Input1 -> Block32 [label=\"Input\\nLabels, [2], [*, #]\"]; Block32 -> Block32_Output_0 [label=\"output\"]; Block32 [label=\"CrossEntropyWithSoftmax\"]; Plus18 [label=\"+\"]; Block32 [shape=ellipse, fontsize=20, penwidth=2, size=0.6]; Plus18 [shape=ellipse, fontsize=20, penwidth=2, size=0.6]; Block32 -> CompositeFunction33 [label=\"root function\"]; Parameter13 [shape=diamond, color=green]; Parameter2 [shape=diamond, color=green]; Input0 [shape=invhouse, color=yellow]; Parameter3 [shape=diamond, color=green]; Parameter14 [shape=diamond, color=green]; Input1 [shape=invhouse, color=yellow]; Block32_Output_0 [shape=invhouse, color=gray]; Parameter13 [label=\"Weights\"]; Parameter2 [label=\"Weights\"]; Input0 [label=\"Features\"]; Parameter3 [label=\"Bias\"]; Parameter14 [label=\"Bias\"]; Input1 [label=\"Labels\"]; Block32_Output_0 [label=\"CrossEntropyWithSoftmax\"]; Parameter13 -> CompositeFunction33 [label=\"Parameter\\nWeights, [2 x 50], []\"]; Parameter2 -> CompositeFunction33 [label=\"Parameter\\nWeights, [50 x 2], []\"]; Input0 -> CompositeFunction33 [label=\"Input\\nFeatures, [2], [*, #]\"]; Parameter3 -> CompositeFunction33 [label=\"Parameter\\nBias, [50], []\"]; Parameter14 -> CompositeFunction33 [label=\"Parameter\\nBias, [2], []\"]; Input1 -> CompositeFunction33 [label=\"Input\\nLabels, [2], [*, #]\"]; CompositeFunction33 -> Block32_Output_0 [label=\"output\"]; CompositeFunction33 [label=\"CrossEntropyWithSoftmax\"]; Block32 [label=\"CrossEntropyWithSoftmax\"]; CompositeFunction33 [shape=ellipse, fontsize=20, penwidth=2, peripheries=2]; Block32 [shape=ellipse, fontsize=20, penwidth=2, size=0.6]; }'],'dot']);</script>"
      ]
     },
     "metadata": {},
     "output_type": "display_data"
    }
   ],
   "source": [
    "displayGraphHost \"gradualGraph\"\n",
    "displayGradualGraph \"gradualGraph\" z"
   ]
  },
  {
   "cell_type": "markdown",
   "metadata": {},
   "source": [
    "<div class=\"alert alert-info\"><p>The one use I have found for including the composite Function node in the graph, is that it <em>does</em> make the final step of the animation sequence more impressive, offering a finale of sorts.</div>"
   ]
  },
  {
   "cell_type": "markdown",
   "metadata": {
    "collapsed": true
   },
   "source": [
    "# Adding an information panel next to the graph\n",
    "\n",
    "**d3js** makes it pretty easy to hang events any element in your graph, so why not present a property dump for each node on mouseover, along with the graph? \n",
    "\n",
    "First we'll need a function to retrieve said property dump. Most CNTK objects implement an <code>.AsString()</code> function that returns a very short summary of the item, so we will use that when it's available. There also needs to be some special handling for enumerable properties, and for the rest we can just call <code>.ToString()</code>."
   ]
  },
  {
   "cell_type": "code",
   "execution_count": 17,
   "metadata": {
    "collapsed": true
   },
   "outputs": [],
   "source": [
    "open System.Collections.Generic\n",
    "\n",
    "/// Active pattern to separate properties for special handling.\n",
    "let (|IsEnumerable|IsDescribable|IsPrimitive|) (t: Type) = \n",
    "    if  t <> typeof<string> && \n",
    "        (typeof< IEnumerable<_> >).IsAssignableFrom(t) \n",
    "    then IsEnumerable\n",
    "    else if t.GetMethods() \n",
    "            |> Array.exists (fun meth -> meth.Name = \"AsString\") \n",
    "    then IsDescribable\n",
    "    else IsPrimitive\n",
    "\n",
    "/// Helper function to convert any property to string,\n",
    "/// always checking if .AsString() is available\n",
    "let asString item =\n",
    "    if isNull item then \"\"\n",
    "    else\n",
    "        match item.GetType() with\n",
    "        | IsDescribable ->     \n",
    "            item.GetType()\n",
    "                .GetMethod(\"AsString\", Array.empty)\n",
    "                .Invoke(item, Array.empty).ToString()\n",
    "        | _ -> item.ToString()"
   ]
  },
  {
   "cell_type": "code",
   "execution_count": 18,
   "metadata": {
    "collapsed": true,
    "scrolled": false
   },
   "outputs": [],
   "source": [
    "open System.Reflection\n",
    "\n",
    "/// A simple property serializer for CNTK nodes\n",
    "/// <remarks> CNTK Helper function </remarks>\n",
    "let describeNode (item: obj) =\n",
    "    [|\n",
    "        yield KeyValuePair(\"NodeType\", item.GetType().Name)\n",
    "        yield KeyValuePair(\"AsString\", item |> asString)\n",
    "        yield!\n",
    "            item.GetType().GetProperties()\n",
    "            |> Seq.map\n",
    "                (fun prop ->\n",
    "                    match prop.PropertyType with\n",
    "                    | IsEnumerable -> \n",
    "                        prop.Name, \n",
    "                          (prop.GetValue(item) :?> IEnumerable<_>) \n",
    "                          |> function \n",
    "                          | list when list |> Seq.isEmpty -> \"[]\" \n",
    "                          | list -> \n",
    "                              list \n",
    "                              |> Seq.map (asString)                         \n",
    "                              |> Seq.reduce (sprintf \"%s, %s\")\n",
    "                    | IsDescribable -> prop.Name, prop.GetValue(item) |> asString\n",
    "                    | IsPrimitive -> \n",
    "                        prop.Name,\n",
    "                            try prop.GetValue(item) |> asString\n",
    "                            with ex -> sprintf \"%s\" ex.Message)\n",
    "            |> Seq.map (KeyValuePair)\n",
    "    |]"
   ]
  },
  {
   "cell_type": "markdown",
   "metadata": {},
   "source": [
    "<div class=\"alert alert-info\">Mapping the result of <code>describeNode</code> to <code>KeyValuePair</code> is just there to make the eventual json serialization that we send to the javascript bundle a bit more readable.</div>"
   ]
  },
  {
   "cell_type": "markdown",
   "metadata": {},
   "source": [
    "In order to display the node info table properly, we need expand our html host accordingly:"
   ]
  },
  {
   "cell_type": "code",
   "execution_count": 19,
   "metadata": {
    "collapsed": true
   },
   "outputs": [],
   "source": [
    "let displayGraphHostWithInfoPanel graphHostId infoPanelId =\n",
    "    \"\"\"\n",
    "<div style=\"width: 100%; height: 700px; max-height: 700px; overflow-y: scroll; overflow-x: hidden; border: solid lightblue 1px; border-radius: 15px; position: relative\">\n",
    "    <div id=\"graphHostId\" style=\"width: 100%; height: 100%;\"></div>\n",
    "    <div id=\"infoPanelId\" style=\"width: 350px; max-width: 350px; position: absolute; top: 0; right: 0; background-color: white\"></div>\n",
    "</div>\n",
    "    \"\"\".Replace(\"graphHostId\",graphHostId).Replace(\"infoPanelId\",infoPanelId)\n",
    "    |> Util.Html |> Display"
   ]
  },
  {
   "cell_type": "markdown",
   "metadata": {},
   "source": [
    "Then, we expand out dot notation builder with the code that extracts property information for each node. In order to keep things from becoming to convoluted, we extract all the node descriptions in one pass, and send them to the bundled javascript all at once."
   ]
  },
  {
   "cell_type": "code",
   "execution_count": 20,
   "metadata": {
    "collapsed": true,
    "scrolled": false
   },
   "outputs": [],
   "source": [
    "open Newtonsoft.Json\n",
    "\n",
    "let displayGraphWithInfo graphHostId infoHostId (model: Function) =\n",
    "    let funcs = model |> decomposeFunction |> Array.filter (fun f -> not f.IsComposite)\n",
    "    let vars = \n",
    "        funcs \n",
    "        |> Array.collect(fun f -> [|yield! f.Inputs; yield! f.Outputs|])\n",
    "        |> Array.distinctBy (fun v -> v.Uid)\n",
    "    \n",
    "    let describe (tensor: obj) =\n",
    "        tensor |> describeNode |> JsonConvert.SerializeObject\n",
    "    \n",
    "    // This produces a json object where each property is named with\n",
    "    // the corresponding node's Uid and contains the property dump \n",
    "    // produced by the describeNode function.\n",
    "    let nodeInfo = \n",
    "        [|  yield \"{\"\n",
    "            yield\n",
    "                funcs \n",
    "                |> Array.map \n",
    "                    (fun f -> sprintf \"\\\"%s\\\": %s\" (f.Uid) (describe f))\n",
    "                |> Array.reduce(sprintf \"%s,\\n%s\")\n",
    "            yield \",\"\n",
    "            yield\n",
    "                vars \n",
    "                |> Array.map \n",
    "                    (fun v -> sprintf \"\\\"%s\\\": %s\" (v.Uid) (describe v))\n",
    "                |> Array.reduce(sprintf \"%s,\\n%s\")\n",
    "            yield \"}\" |]\n",
    "        |> Array.reduce(sprintf \"%s\\n%s\")\n",
    "        |> fun text -> text.Trim();\n",
    "    \n",
    "    let dotNotation =\n",
    "        funcs\n",
    "        |> Array.collect (extractGraphVizDotNotation>>Array.ofSeq)\n",
    "        |> Array.distinct \n",
    "        |> Array.reduce(sprintf \"%s\\n%s\")\n",
    "        |> sprintf \"digraph { %s }\"\n",
    "            \n",
    "    initGraph (\"#\" + infoHostId) (\"#\" + graphHostId) |> Display\n",
    "    renderDot \"dot\" dotNotation nodeInfo |> Display"
   ]
  },
  {
   "cell_type": "code",
   "execution_count": 21,
   "metadata": {},
   "outputs": [
    {
     "data": {
      "text/html": [
       "\n",
       "<div style=\"width: 100%; height: 700px; max-height: 700px; overflow-y: scroll; overflow-x: hidden; border: solid lightblue 1px; border-radius: 15px; position: relative\">\n",
       "    <div id=\"graphWithPanel\" style=\"width: 100%; height: 100%;\"></div>\n",
       "    <div id=\"infoPanel\" style=\"width: 350px; max-width: 350px; position: absolute; top: 0; right: 0; background-color: white\"></div>\n",
       "</div>\n",
       "    "
      ]
     },
     "metadata": {},
     "output_type": "display_data"
    },
    {
     "data": {
      "text/html": [
       "<script>$(document).trigger('INIT_D3', ['#infoPanel','#graphWithPanel']);</script>"
      ]
     },
     "metadata": {},
     "output_type": "display_data"
    },
    {
     "data": {
      "text/html": [
       "<script>$(document).trigger('RENDER_GRAPH', [`digraph { Plus18_Output_0 [shape=invhouse, color=gray];\n",
       "Input1 [shape=invhouse, color=yellow];\n",
       "Block32_Output_0 [shape=invhouse, color=gray];\n",
       "Plus18_Output_0 [label=\"+\"];\n",
       "Input1 [label=\"Labels\"];\n",
       "Block32_Output_0 [label=\"CrossEntropyWithSoftmax\"];\n",
       "Plus18_Output_0 -> Block32 [label=\"Output\n",
       "+, [2], [*, #]\"];\n",
       "Input1 -> Block32 [label=\"Input\n",
       "Labels, [2], [*, #]\"];\n",
       "Block32 -> Block32_Output_0 [label=\"output\"];\n",
       "Block32 [label=\"CrossEntropyWithSoftmax\"];\n",
       "Plus18 [label=\"+\"];\n",
       "Block32 [shape=ellipse, fontsize=20, penwidth=2, size=0.6];\n",
       "Plus18 [shape=ellipse, fontsize=20, penwidth=2, size=0.6];\n",
       "Times15_Output_0 [shape=invhouse, color=gray];\n",
       "Parameter14 [shape=diamond, color=green];\n",
       "Times15_Output_0 [label=\"@\"];\n",
       "Parameter14 [label=\"Bias\"];\n",
       "Times15_Output_0 -> Plus18 [label=\"Output\n",
       "@, [2], [*, #]\"];\n",
       "Parameter14 -> Plus18 [label=\"Parameter\n",
       "Bias, [2], []\"];\n",
       "Plus18 -> Plus18_Output_0 [label=\"output\"];\n",
       "Times15 [label=\"@\"];\n",
       "Times15 [shape=ellipse, fontsize=20, penwidth=2, size=0.6];\n",
       "Parameter13 [shape=diamond, color=green];\n",
       "StableSigmoid10_Output_0 [shape=invhouse, color=gray];\n",
       "Parameter13 [label=\"Weights\"];\n",
       "StableSigmoid10_Output_0 [label=\"StableSigmoid10_Output_0\"];\n",
       "Parameter13 -> Times15 [label=\"Parameter\n",
       "Weights, [2 x 50], []\"];\n",
       "StableSigmoid10_Output_0 -> Times15 [label=\"Output\n",
       "StableSigmoid10_Output_0, [50], [*, #]\"];\n",
       "Times15 -> Times15_Output_0 [label=\"output\"];\n",
       "StableSigmoid10 [label=\"StableSigmoid10\"];\n",
       "StableSigmoid10 [shape=ellipse, fontsize=20, penwidth=2, size=0.6];\n",
       "Plus7_Output_0 [shape=invhouse, color=gray];\n",
       "Plus7_Output_0 [label=\"+\"];\n",
       "Plus7_Output_0 -> StableSigmoid10 [label=\"Output\n",
       "+, [50], [*, #]\"];\n",
       "StableSigmoid10 -> StableSigmoid10_Output_0 [label=\"output\"];\n",
       "Plus7 [label=\"+\"];\n",
       "Plus7 [shape=ellipse, fontsize=20, penwidth=2, size=0.6];\n",
       "Times4_Output_0 [shape=invhouse, color=gray];\n",
       "Parameter3 [shape=diamond, color=green];\n",
       "Times4_Output_0 [label=\"@\"];\n",
       "Parameter3 [label=\"Bias\"];\n",
       "Times4_Output_0 -> Plus7 [label=\"Output\n",
       "@, [50], [*, #]\"];\n",
       "Parameter3 -> Plus7 [label=\"Parameter\n",
       "Bias, [50], []\"];\n",
       "Plus7 -> Plus7_Output_0 [label=\"output\"];\n",
       "Times4 [label=\"@\"];\n",
       "Times4 [shape=ellipse, fontsize=20, penwidth=2, size=0.6];\n",
       "Parameter2 [shape=diamond, color=green];\n",
       "Input0 [shape=invhouse, color=yellow];\n",
       "Parameter2 [label=\"Weights\"];\n",
       "Input0 [label=\"Features\"];\n",
       "Parameter2 -> Times4 [label=\"Parameter\n",
       "Weights, [50 x 2], []\"];\n",
       "Input0 -> Times4 [label=\"Input\n",
       "Features, [2], [*, #]\"];\n",
       "Times4 -> Times4_Output_0 [label=\"output\"]; }`,`{\n",
       "\"Block32\": [{\"Key\":\"NodeType\",\"Value\":\"Function\"},{\"Key\":\"AsString\",\"Value\":\"CrossEntropyWithSoftmax: Output('+', [2], [*, #]), Input('Labels', [2], [*, #]) -> Output('CrossEntropyWithSoftmax', [1], [*, #])\"},{\"Key\":\"Name\",\"Value\":\"CrossEntropyWithSoftmax\"},{\"Key\":\"Uid\",\"Value\":\"Block32\"},{\"Key\":\"RootFunction\",\"Value\":\"CrossEntropyWithSoftmax: Output('+', [2], [*, #]), Input('Labels', [2], [*, #]) -> Output('CrossEntropyWithSoftmax', [1], [*, #])\"},{\"Key\":\"Outputs\",\"Value\":\"Output('CrossEntropyWithSoftmax', [1], [*, #])\"},{\"Key\":\"Output\",\"Value\":\"Output('CrossEntropyWithSoftmax', [1], [*, #])\"},{\"Key\":\"OpName\",\"Value\":\"CrossEntropyWithSoftmax\"},{\"Key\":\"IsComposite\",\"Value\":\"False\"},{\"Key\":\"IsPrimitive\",\"Value\":\"True\"},{\"Key\":\"IsBlock\",\"Value\":\"True\"},{\"Key\":\"CurrentVersion\",\"Value\":\"24\"},{\"Key\":\"Arguments\",\"Value\":\"Output('+', [2], [*, #]), Input('Labels', [2], [*, #])\"},{\"Key\":\"Inputs\",\"Value\":\"Output('+', [2], [*, #]), Input('Labels', [2], [*, #])\"}],\n",
       "\"Plus18\": [{\"Key\":\"NodeType\",\"Value\":\"Function\"},{\"Key\":\"AsString\",\"Value\":\"Plus: Output('@', [2], [*, #]) -> Output('+', [2], [*, #])\"},{\"Key\":\"Name\",\"Value\":\"+\"},{\"Key\":\"Uid\",\"Value\":\"Plus18\"},{\"Key\":\"RootFunction\",\"Value\":\"Plus: Output('@', [2], [*, #]) -> Output('+', [2], [*, #])\"},{\"Key\":\"Outputs\",\"Value\":\"Output('+', [2], [*, #])\"},{\"Key\":\"Output\",\"Value\":\"Output('+', [2], [*, #])\"},{\"Key\":\"OpName\",\"Value\":\"Plus\"},{\"Key\":\"IsComposite\",\"Value\":\"False\"},{\"Key\":\"IsPrimitive\",\"Value\":\"True\"},{\"Key\":\"IsBlock\",\"Value\":\"False\"},{\"Key\":\"CurrentVersion\",\"Value\":\"24\"},{\"Key\":\"Arguments\",\"Value\":\"Output('@', [2], [*, #])\"},{\"Key\":\"Inputs\",\"Value\":\"Output('@', [2], [*, #]), Parameter('Bias', [2], [])\"}],\n",
       "\"Times15\": [{\"Key\":\"NodeType\",\"Value\":\"Function\"},{\"Key\":\"AsString\",\"Value\":\"Times: Output('StableSigmoid10_Output_0', [50], [*, #]) -> Output('@', [2], [*, #])\"},{\"Key\":\"Name\",\"Value\":\"@\"},{\"Key\":\"Uid\",\"Value\":\"Times15\"},{\"Key\":\"RootFunction\",\"Value\":\"Times: Output('StableSigmoid10_Output_0', [50], [*, #]) -> Output('@', [2], [*, #])\"},{\"Key\":\"Outputs\",\"Value\":\"Output('@', [2], [*, #])\"},{\"Key\":\"Output\",\"Value\":\"Output('@', [2], [*, #])\"},{\"Key\":\"OpName\",\"Value\":\"Times\"},{\"Key\":\"IsComposite\",\"Value\":\"False\"},{\"Key\":\"IsPrimitive\",\"Value\":\"True\"},{\"Key\":\"IsBlock\",\"Value\":\"False\"},{\"Key\":\"CurrentVersion\",\"Value\":\"24\"},{\"Key\":\"Arguments\",\"Value\":\"Output('StableSigmoid10_Output_0', [50], [*, #])\"},{\"Key\":\"Inputs\",\"Value\":\"Parameter('Weights', [2 x 50], []), Output('StableSigmoid10_Output_0', [50], [*, #])\"}],\n",
       "\"StableSigmoid10\": [{\"Key\":\"NodeType\",\"Value\":\"Function\"},{\"Key\":\"AsString\",\"Value\":\"StableSigmoid: Output('+', [50], [*, #]) -> Output('StableSigmoid10_Output_0', [50], [*, #])\"},{\"Key\":\"Name\",\"Value\":\"\"},{\"Key\":\"Uid\",\"Value\":\"StableSigmoid10\"},{\"Key\":\"RootFunction\",\"Value\":\"StableSigmoid: Output('+', [50], [*, #]) -> Output('StableSigmoid10_Output_0', [50], [*, #])\"},{\"Key\":\"Outputs\",\"Value\":\"Output('StableSigmoid10_Output_0', [50], [*, #])\"},{\"Key\":\"Output\",\"Value\":\"Output('StableSigmoid10_Output_0', [50], [*, #])\"},{\"Key\":\"OpName\",\"Value\":\"StableSigmoid\"},{\"Key\":\"IsComposite\",\"Value\":\"False\"},{\"Key\":\"IsPrimitive\",\"Value\":\"True\"},{\"Key\":\"IsBlock\",\"Value\":\"False\"},{\"Key\":\"CurrentVersion\",\"Value\":\"24\"},{\"Key\":\"Arguments\",\"Value\":\"Output('+', [50], [*, #])\"},{\"Key\":\"Inputs\",\"Value\":\"Output('+', [50], [*, #])\"}],\n",
       "\"Plus7\": [{\"Key\":\"NodeType\",\"Value\":\"Function\"},{\"Key\":\"AsString\",\"Value\":\"Plus: Output('@', [50], [*, #]) -> Output('+', [50], [*, #])\"},{\"Key\":\"Name\",\"Value\":\"+\"},{\"Key\":\"Uid\",\"Value\":\"Plus7\"},{\"Key\":\"RootFunction\",\"Value\":\"Plus: Output('@', [50], [*, #]) -> Output('+', [50], [*, #])\"},{\"Key\":\"Outputs\",\"Value\":\"Output('+', [50], [*, #])\"},{\"Key\":\"Output\",\"Value\":\"Output('+', [50], [*, #])\"},{\"Key\":\"OpName\",\"Value\":\"Plus\"},{\"Key\":\"IsComposite\",\"Value\":\"False\"},{\"Key\":\"IsPrimitive\",\"Value\":\"True\"},{\"Key\":\"IsBlock\",\"Value\":\"False\"},{\"Key\":\"CurrentVersion\",\"Value\":\"24\"},{\"Key\":\"Arguments\",\"Value\":\"Output('@', [50], [*, #])\"},{\"Key\":\"Inputs\",\"Value\":\"Output('@', [50], [*, #]), Parameter('Bias', [50], [])\"}],\n",
       "\"Times4\": [{\"Key\":\"NodeType\",\"Value\":\"Function\"},{\"Key\":\"AsString\",\"Value\":\"Times: Input('Features', [2], [*, #]) -> Output('@', [50], [*, #])\"},{\"Key\":\"Name\",\"Value\":\"@\"},{\"Key\":\"Uid\",\"Value\":\"Times4\"},{\"Key\":\"RootFunction\",\"Value\":\"Times: Input('Features', [2], [*, #]) -> Output('@', [50], [*, #])\"},{\"Key\":\"Outputs\",\"Value\":\"Output('@', [50], [*, #])\"},{\"Key\":\"Output\",\"Value\":\"Output('@', [50], [*, #])\"},{\"Key\":\"OpName\",\"Value\":\"Times\"},{\"Key\":\"IsComposite\",\"Value\":\"False\"},{\"Key\":\"IsPrimitive\",\"Value\":\"True\"},{\"Key\":\"IsBlock\",\"Value\":\"False\"},{\"Key\":\"CurrentVersion\",\"Value\":\"24\"},{\"Key\":\"Arguments\",\"Value\":\"Input('Features', [2], [*, #])\"},{\"Key\":\"Inputs\",\"Value\":\"Parameter('Weights', [50 x 2], []), Input('Features', [2], [*, #])\"}]\n",
       ",\n",
       "\"Plus18_Output_0\": [{\"Key\":\"NodeType\",\"Value\":\"Variable\"},{\"Key\":\"AsString\",\"Value\":\"Output('+', [2], [*, #])\"},{\"Key\":\"Shape\",\"Value\":\"[2]\"},{\"Key\":\"Name\",\"Value\":\"+\"},{\"Key\":\"Uid\",\"Value\":\"Plus18_Output_0\"},{\"Key\":\"Kind\",\"Value\":\"Output\"},{\"Key\":\"DataType\",\"Value\":\"Float\"},{\"Key\":\"DynamicAxes\",\"Value\":\"Axis('defaultDynamicAxis'), Axis('defaultBatchAxis')\"},{\"Key\":\"IsSparse\",\"Value\":\"False\"},{\"Key\":\"IsInput\",\"Value\":\"False\"},{\"Key\":\"IsOutput\",\"Value\":\"True\"},{\"Key\":\"IsParameter\",\"Value\":\"False\"},{\"Key\":\"IsConstant\",\"Value\":\"False\"},{\"Key\":\"IsPlaceholder\",\"Value\":\"False\"},{\"Key\":\"Owner\",\"Value\":\"Plus: Output('@', [2], [*, #]) -> Output('+', [2], [*, #])\"},{\"Key\":\"NeedsGradient\",\"Value\":\"True\"},{\"Key\":\"CurrentValueTimeStamp\",\"Value\":\"Exception has been thrown by the target of an invocation.\"}],\n",
       "\"Input1\": [{\"Key\":\"NodeType\",\"Value\":\"Variable\"},{\"Key\":\"AsString\",\"Value\":\"Input('Labels', [2], [*, #])\"},{\"Key\":\"Shape\",\"Value\":\"[2]\"},{\"Key\":\"Name\",\"Value\":\"Labels\"},{\"Key\":\"Uid\",\"Value\":\"Input1\"},{\"Key\":\"Kind\",\"Value\":\"Input\"},{\"Key\":\"DataType\",\"Value\":\"Float\"},{\"Key\":\"DynamicAxes\",\"Value\":\"Axis('defaultDynamicAxis'), Axis('defaultBatchAxis')\"},{\"Key\":\"IsSparse\",\"Value\":\"False\"},{\"Key\":\"IsInput\",\"Value\":\"True\"},{\"Key\":\"IsOutput\",\"Value\":\"False\"},{\"Key\":\"IsParameter\",\"Value\":\"False\"},{\"Key\":\"IsConstant\",\"Value\":\"False\"},{\"Key\":\"IsPlaceholder\",\"Value\":\"False\"},{\"Key\":\"Owner\",\"Value\":\"\"},{\"Key\":\"NeedsGradient\",\"Value\":\"False\"},{\"Key\":\"CurrentValueTimeStamp\",\"Value\":\"Exception has been thrown by the target of an invocation.\"}],\n",
       "\"Block32_Output_0\": [{\"Key\":\"NodeType\",\"Value\":\"Variable\"},{\"Key\":\"AsString\",\"Value\":\"Output('CrossEntropyWithSoftmax', [1], [*, #])\"},{\"Key\":\"Shape\",\"Value\":\"[1]\"},{\"Key\":\"Name\",\"Value\":\"CrossEntropyWithSoftmax\"},{\"Key\":\"Uid\",\"Value\":\"Block32_Output_0\"},{\"Key\":\"Kind\",\"Value\":\"Output\"},{\"Key\":\"DataType\",\"Value\":\"Float\"},{\"Key\":\"DynamicAxes\",\"Value\":\"Axis('defaultDynamicAxis'), Axis('defaultBatchAxis')\"},{\"Key\":\"IsSparse\",\"Value\":\"False\"},{\"Key\":\"IsInput\",\"Value\":\"False\"},{\"Key\":\"IsOutput\",\"Value\":\"True\"},{\"Key\":\"IsParameter\",\"Value\":\"False\"},{\"Key\":\"IsConstant\",\"Value\":\"False\"},{\"Key\":\"IsPlaceholder\",\"Value\":\"False\"},{\"Key\":\"Owner\",\"Value\":\"CrossEntropyWithSoftmax: Output('+', [2], [*, #]), Input('Labels', [2], [*, #]) -> Output('CrossEntropyWithSoftmax', [1], [*, #])\"},{\"Key\":\"NeedsGradient\",\"Value\":\"False\"},{\"Key\":\"CurrentValueTimeStamp\",\"Value\":\"Exception has been thrown by the target of an invocation.\"}],\n",
       "\"Times15_Output_0\": [{\"Key\":\"NodeType\",\"Value\":\"Variable\"},{\"Key\":\"AsString\",\"Value\":\"Output('@', [2], [*, #])\"},{\"Key\":\"Shape\",\"Value\":\"[2]\"},{\"Key\":\"Name\",\"Value\":\"@\"},{\"Key\":\"Uid\",\"Value\":\"Times15_Output_0\"},{\"Key\":\"Kind\",\"Value\":\"Output\"},{\"Key\":\"DataType\",\"Value\":\"Float\"},{\"Key\":\"DynamicAxes\",\"Value\":\"Axis('defaultDynamicAxis'), Axis('defaultBatchAxis')\"},{\"Key\":\"IsSparse\",\"Value\":\"False\"},{\"Key\":\"IsInput\",\"Value\":\"False\"},{\"Key\":\"IsOutput\",\"Value\":\"True\"},{\"Key\":\"IsParameter\",\"Value\":\"False\"},{\"Key\":\"IsConstant\",\"Value\":\"False\"},{\"Key\":\"IsPlaceholder\",\"Value\":\"False\"},{\"Key\":\"Owner\",\"Value\":\"Times: Output('StableSigmoid10_Output_0', [50], [*, #]) -> Output('@', [2], [*, #])\"},{\"Key\":\"NeedsGradient\",\"Value\":\"True\"},{\"Key\":\"CurrentValueTimeStamp\",\"Value\":\"Exception has been thrown by the target of an invocation.\"}],\n",
       "\"Parameter14\": [{\"Key\":\"NodeType\",\"Value\":\"Variable\"},{\"Key\":\"AsString\",\"Value\":\"Parameter('Bias', [2], [])\"},{\"Key\":\"Shape\",\"Value\":\"[2]\"},{\"Key\":\"Name\",\"Value\":\"Bias\"},{\"Key\":\"Uid\",\"Value\":\"Parameter14\"},{\"Key\":\"Kind\",\"Value\":\"Parameter\"},{\"Key\":\"DataType\",\"Value\":\"Float\"},{\"Key\":\"DynamicAxes\",\"Value\":\"[]\"},{\"Key\":\"IsSparse\",\"Value\":\"False\"},{\"Key\":\"IsInput\",\"Value\":\"False\"},{\"Key\":\"IsOutput\",\"Value\":\"False\"},{\"Key\":\"IsParameter\",\"Value\":\"True\"},{\"Key\":\"IsConstant\",\"Value\":\"False\"},{\"Key\":\"IsPlaceholder\",\"Value\":\"False\"},{\"Key\":\"Owner\",\"Value\":\"\"},{\"Key\":\"NeedsGradient\",\"Value\":\"True\"},{\"Key\":\"CurrentValueTimeStamp\",\"Value\":\"0\"}],\n",
       "\"Parameter13\": [{\"Key\":\"NodeType\",\"Value\":\"Variable\"},{\"Key\":\"AsString\",\"Value\":\"Parameter('Weights', [2 x 50], [])\"},{\"Key\":\"Shape\",\"Value\":\"[2 x 50]\"},{\"Key\":\"Name\",\"Value\":\"Weights\"},{\"Key\":\"Uid\",\"Value\":\"Parameter13\"},{\"Key\":\"Kind\",\"Value\":\"Parameter\"},{\"Key\":\"DataType\",\"Value\":\"Float\"},{\"Key\":\"DynamicAxes\",\"Value\":\"[]\"},{\"Key\":\"IsSparse\",\"Value\":\"False\"},{\"Key\":\"IsInput\",\"Value\":\"False\"},{\"Key\":\"IsOutput\",\"Value\":\"False\"},{\"Key\":\"IsParameter\",\"Value\":\"True\"},{\"Key\":\"IsConstant\",\"Value\":\"False\"},{\"Key\":\"IsPlaceholder\",\"Value\":\"False\"},{\"Key\":\"Owner\",\"Value\":\"\"},{\"Key\":\"NeedsGradient\",\"Value\":\"True\"},{\"Key\":\"CurrentValueTimeStamp\",\"Value\":\"0\"}],\n",
       "\"StableSigmoid10_Output_0\": [{\"Key\":\"NodeType\",\"Value\":\"Variable\"},{\"Key\":\"AsString\",\"Value\":\"Output('StableSigmoid10_Output_0', [50], [*, #])\"},{\"Key\":\"Shape\",\"Value\":\"[50]\"},{\"Key\":\"Name\",\"Value\":\"\"},{\"Key\":\"Uid\",\"Value\":\"StableSigmoid10_Output_0\"},{\"Key\":\"Kind\",\"Value\":\"Output\"},{\"Key\":\"DataType\",\"Value\":\"Float\"},{\"Key\":\"DynamicAxes\",\"Value\":\"Axis('defaultDynamicAxis'), Axis('defaultBatchAxis')\"},{\"Key\":\"IsSparse\",\"Value\":\"False\"},{\"Key\":\"IsInput\",\"Value\":\"False\"},{\"Key\":\"IsOutput\",\"Value\":\"True\"},{\"Key\":\"IsParameter\",\"Value\":\"False\"},{\"Key\":\"IsConstant\",\"Value\":\"False\"},{\"Key\":\"IsPlaceholder\",\"Value\":\"False\"},{\"Key\":\"Owner\",\"Value\":\"StableSigmoid: Output('+', [50], [*, #]) -> Output('StableSigmoid10_Output_0', [50], [*, #])\"},{\"Key\":\"NeedsGradient\",\"Value\":\"True\"},{\"Key\":\"CurrentValueTimeStamp\",\"Value\":\"Exception has been thrown by the target of an invocation.\"}],\n",
       "\"Plus7_Output_0\": [{\"Key\":\"NodeType\",\"Value\":\"Variable\"},{\"Key\":\"AsString\",\"Value\":\"Output('+', [50], [*, #])\"},{\"Key\":\"Shape\",\"Value\":\"[50]\"},{\"Key\":\"Name\",\"Value\":\"+\"},{\"Key\":\"Uid\",\"Value\":\"Plus7_Output_0\"},{\"Key\":\"Kind\",\"Value\":\"Output\"},{\"Key\":\"DataType\",\"Value\":\"Float\"},{\"Key\":\"DynamicAxes\",\"Value\":\"Axis('defaultDynamicAxis'), Axis('defaultBatchAxis')\"},{\"Key\":\"IsSparse\",\"Value\":\"False\"},{\"Key\":\"IsInput\",\"Value\":\"False\"},{\"Key\":\"IsOutput\",\"Value\":\"True\"},{\"Key\":\"IsParameter\",\"Value\":\"False\"},{\"Key\":\"IsConstant\",\"Value\":\"False\"},{\"Key\":\"IsPlaceholder\",\"Value\":\"False\"},{\"Key\":\"Owner\",\"Value\":\"Plus: Output('@', [50], [*, #]) -> Output('+', [50], [*, #])\"},{\"Key\":\"NeedsGradient\",\"Value\":\"True\"},{\"Key\":\"CurrentValueTimeStamp\",\"Value\":\"Exception has been thrown by the target of an invocation.\"}],\n",
       "\"Times4_Output_0\": [{\"Key\":\"NodeType\",\"Value\":\"Variable\"},{\"Key\":\"AsString\",\"Value\":\"Output('@', [50], [*, #])\"},{\"Key\":\"Shape\",\"Value\":\"[50]\"},{\"Key\":\"Name\",\"Value\":\"@\"},{\"Key\":\"Uid\",\"Value\":\"Times4_Output_0\"},{\"Key\":\"Kind\",\"Value\":\"Output\"},{\"Key\":\"DataType\",\"Value\":\"Float\"},{\"Key\":\"DynamicAxes\",\"Value\":\"Axis('defaultDynamicAxis'), Axis('defaultBatchAxis')\"},{\"Key\":\"IsSparse\",\"Value\":\"False\"},{\"Key\":\"IsInput\",\"Value\":\"False\"},{\"Key\":\"IsOutput\",\"Value\":\"True\"},{\"Key\":\"IsParameter\",\"Value\":\"False\"},{\"Key\":\"IsConstant\",\"Value\":\"False\"},{\"Key\":\"IsPlaceholder\",\"Value\":\"False\"},{\"Key\":\"Owner\",\"Value\":\"Times: Input('Features', [2], [*, #]) -> Output('@', [50], [*, #])\"},{\"Key\":\"NeedsGradient\",\"Value\":\"True\"},{\"Key\":\"CurrentValueTimeStamp\",\"Value\":\"Exception has been thrown by the target of an invocation.\"}],\n",
       "\"Parameter3\": [{\"Key\":\"NodeType\",\"Value\":\"Variable\"},{\"Key\":\"AsString\",\"Value\":\"Parameter('Bias', [50], [])\"},{\"Key\":\"Shape\",\"Value\":\"[50]\"},{\"Key\":\"Name\",\"Value\":\"Bias\"},{\"Key\":\"Uid\",\"Value\":\"Parameter3\"},{\"Key\":\"Kind\",\"Value\":\"Parameter\"},{\"Key\":\"DataType\",\"Value\":\"Float\"},{\"Key\":\"DynamicAxes\",\"Value\":\"[]\"},{\"Key\":\"IsSparse\",\"Value\":\"False\"},{\"Key\":\"IsInput\",\"Value\":\"False\"},{\"Key\":\"IsOutput\",\"Value\":\"False\"},{\"Key\":\"IsParameter\",\"Value\":\"True\"},{\"Key\":\"IsConstant\",\"Value\":\"False\"},{\"Key\":\"IsPlaceholder\",\"Value\":\"False\"},{\"Key\":\"Owner\",\"Value\":\"\"},{\"Key\":\"NeedsGradient\",\"Value\":\"True\"},{\"Key\":\"CurrentValueTimeStamp\",\"Value\":\"0\"}],\n",
       "\"Parameter2\": [{\"Key\":\"NodeType\",\"Value\":\"Variable\"},{\"Key\":\"AsString\",\"Value\":\"Parameter('Weights', [50 x 2], [])\"},{\"Key\":\"Shape\",\"Value\":\"[50 x 2]\"},{\"Key\":\"Name\",\"Value\":\"Weights\"},{\"Key\":\"Uid\",\"Value\":\"Parameter2\"},{\"Key\":\"Kind\",\"Value\":\"Parameter\"},{\"Key\":\"DataType\",\"Value\":\"Float\"},{\"Key\":\"DynamicAxes\",\"Value\":\"[]\"},{\"Key\":\"IsSparse\",\"Value\":\"False\"},{\"Key\":\"IsInput\",\"Value\":\"False\"},{\"Key\":\"IsOutput\",\"Value\":\"False\"},{\"Key\":\"IsParameter\",\"Value\":\"True\"},{\"Key\":\"IsConstant\",\"Value\":\"False\"},{\"Key\":\"IsPlaceholder\",\"Value\":\"False\"},{\"Key\":\"Owner\",\"Value\":\"\"},{\"Key\":\"NeedsGradient\",\"Value\":\"True\"},{\"Key\":\"CurrentValueTimeStamp\",\"Value\":\"0\"}],\n",
       "\"Input0\": [{\"Key\":\"NodeType\",\"Value\":\"Variable\"},{\"Key\":\"AsString\",\"Value\":\"Input('Features', [2], [*, #])\"},{\"Key\":\"Shape\",\"Value\":\"[2]\"},{\"Key\":\"Name\",\"Value\":\"Features\"},{\"Key\":\"Uid\",\"Value\":\"Input0\"},{\"Key\":\"Kind\",\"Value\":\"Input\"},{\"Key\":\"DataType\",\"Value\":\"Float\"},{\"Key\":\"DynamicAxes\",\"Value\":\"Axis('defaultDynamicAxis'), Axis('defaultBatchAxis')\"},{\"Key\":\"IsSparse\",\"Value\":\"False\"},{\"Key\":\"IsInput\",\"Value\":\"True\"},{\"Key\":\"IsOutput\",\"Value\":\"False\"},{\"Key\":\"IsParameter\",\"Value\":\"False\"},{\"Key\":\"IsConstant\",\"Value\":\"False\"},{\"Key\":\"IsPlaceholder\",\"Value\":\"False\"},{\"Key\":\"Owner\",\"Value\":\"\"},{\"Key\":\"NeedsGradient\",\"Value\":\"False\"},{\"Key\":\"CurrentValueTimeStamp\",\"Value\":\"Exception has been thrown by the target of an invocation.\"}]\n",
       "}`, 'dot']);</script>"
      ]
     },
     "metadata": {},
     "output_type": "display_data"
    }
   ],
   "source": [
    "displayGraphHostWithInfoPanel \"graphWithPanel\" \"infoPanel\"\n",
    "displayGraphWithInfo \"graphWithPanel\" \"infoPanel\" z"
   ]
  },
  {
   "cell_type": "markdown",
   "metadata": {},
   "source": [
    "# Additional graph layout engines"
   ]
  },
  {
   "cell_type": "code",
   "execution_count": 22,
   "metadata": {
    "collapsed": true
   },
   "outputs": [],
   "source": [
    "module Engine =    \n",
    "    let dot = \"dot\"\n",
    "    let circo = \"circo\"\n",
    "    let fdp = \"fdp\"\n",
    "    let neato = \"neato\"\n",
    "    let osage = \"osage\"\n",
    "    let patchwork = \"patchwork\"\n",
    "    let twopi = \"twopi\""
   ]
  },
  {
   "cell_type": "markdown",
   "metadata": {},
   "source": [
    "<p>Like Graphviz, **d3-graphviz** allows for a small variety of different layout engines to draw its graphs.</p> <p>Originally I intended make it possible to exchange engines on the fly via combobox selection (you may have noticed that the wrapper functions for javascript calls still expose an engine parameter), until I realized that CNTK models look mostly terrible with every option but the default of <code>dot</code>...</p>\n",
    "<p>You're welcome to try them of course. Here are a few samples of what to expect:</p>"
   ]
  },
  {
   "cell_type": "markdown",
   "metadata": {},
   "source": [
    "<div style=\"display: flex;  margin: 10px;margin-bottom: 20px; border: solid #EEE 1px; \n",
    "            border-radius: 15px; overflow: hidden\">\n",
    "    <div style=\"border-right: solid #EEE 1px; padding: 15px; font-size: large; \n",
    "                background-color: ghostwhite; min-width: 75px; text-align: center\">dot<div style=\"font-size: small\">\n",
    "            (default)</div>\n",
    "    </div>\n",
    "    <img src=\"images/dot.png\" style=\"padding: 10px\">\n",
    "</div>\n",
    "<div style=\"display: flex;  margin: 10px;margin-bottom: 20px; border: solid #EEE 1px; \n",
    "            border-radius: 15px; overflow: hidden\">\n",
    "    <div style=\"border-right: solid #EEE 1px; padding: 15px; font-size: large; \n",
    "                background-color: ghostwhite; min-width: 75px\">circo</div>\n",
    "    <img src=\"images/circo.png\" style=\"padding: 10px\">\n",
    "</div>\n",
    "<div style=\"display: flex;  margin: 10px;margin-bottom: 20px; border: solid #EEE 1px; \n",
    "            border-radius: 15px; overflow: hidden\">\n",
    "    <div style=\"border-right: solid #EEE 1px; padding: 15px; font-size: large; \n",
    "                background-color: ghostwhite; min-width: 75px\">fdp</div>\n",
    "    <img src=\"images/fdp.png\" style=\"padding: 10px\">\n",
    "</div>\n",
    "<div style=\"display: flex;  margin: 10px;margin-bottom: 20px; border: solid #EEE 1px; \n",
    "            border-radius: 15px; overflow: hidden\">\n",
    "    <div style=\"border-right: solid #EEE 1px; padding: 15px; font-size: large; \n",
    "                background-color: ghostwhite; min-width: 75px\">neato</div>\n",
    "    <img src=\"images/neato.png\" style=\"padding: 10px\">\n",
    "</div>\n",
    "<div style=\"display: flex;  margin: 10px;margin-bottom: 20px; border: solid #EEE 1px; \n",
    "            border-radius: 15px; overflow: hidden\">\n",
    "    <div style=\"border-right: solid #EEE 1px; padding: 15px; font-size: large; \n",
    "                background-color: ghostwhite; min-width: 75px\">osage</div>\n",
    "    <img src=\"images/osage.png\" style=\"padding: 10px\">\n",
    "</div>\n",
    "<div style=\"display: flex;  margin: 10px;margin-bottom: 20px; border: solid #EEE 1px; \n",
    "            border-radius: 15px; overflow: hidden\">\n",
    "    <div style=\"border-right: solid #EEE 1px; padding: 15px; font-size: large; \n",
    "                background-color: ghostwhite; min-width: 75px\">patchwork</div>\n",
    "    <img src=\"images/patchwork.gif\" style=\"padding: 10px\">\n",
    "</div>\n",
    "<div style=\"display: flex;  margin: 10px;margin-bottom: 20px; border: solid #EEE 1px; \n",
    "            border-radius: 15px; overflow: hidden\">\n",
    "    <div style=\"border-right: solid #EEE 1px; padding: 15px; font-size: large; \n",
    "                background-color: ghostwhite; min-width: 75px\">twopi</div>\n",
    "    <img src=\"images/twopi.png\" style=\"padding: 10px\">\n",
    "</div>"
   ]
  },
  {
   "cell_type": "markdown",
   "metadata": {
    "scrolled": false
   },
   "source": [
    "Thanks for making it this far! -- [Ares Lazarus](https://areslazarus.com)"
   ]
  }
 ],
 "metadata": {
  "anaconda-cloud": {},
  "kernelspec": {
   "display_name": "F#",
   "language": "fsharp",
   "name": "ifsharp"
  },
  "language": "fsharp",
  "language_info": {
   "codemirror_mode": "",
   "file_extension": ".fs",
   "mimetype": "text/x-fsharp",
   "name": "fsharp",
   "nbconvert_exporter": "",
   "pygments_lexer": "",
   "version": "4.3.1.0"
  }
 },
 "nbformat": 4,
 "nbformat_minor": 1
}
