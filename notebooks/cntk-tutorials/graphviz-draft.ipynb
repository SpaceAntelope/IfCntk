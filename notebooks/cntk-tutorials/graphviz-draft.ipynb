{
 "cells": [
  {
   "cell_type": "markdown",
   "metadata": {},
   "source": [
    "# Preparing workspace"
   ]
  },
  {
   "cell_type": "code",
   "execution_count": null,
   "metadata": {
    "collapsed": false
   },
   "outputs": [],
   "source": [
    "#r \"netstandard\"\n",
    "#r @\"bin\\Cntk.Core.Managed-2.6.dll\"\n",
    "#load @\".paket\\load\\main.group.fsx\"\n",
    " \n",
    "open System\n",
    "open System.IO\n",
    "\n",
    "Environment.GetEnvironmentVariable(\"PATH\")\n",
    "|> fun path -> sprintf \"%s%c%s\" path (Path.PathSeparator) (Path.GetFullPath(\"bin\"))\n",
    "|> fun path -> Environment.SetEnvironmentVariable(\"PATH\", path)\n",
    "\n",
    "open CNTK\n",
    "DeviceDescriptor.UseDefaultDevice().Type\n",
    "|> printfn \"Congratulations, you are using CNTK for: %A\" "
   ]
  },
  {
   "cell_type": "code",
   "execution_count": null,
   "metadata": {
    "collapsed": false
   },
   "outputs": [],
   "source": [
    "let device = CNTK.DeviceDescriptor.CPUDevice\n",
    "let dataType = CNTK.DataType.Float\n",
    "let initialization = CNTKLib.GlorotUniformInitializer(1.0)\n",
    "let input_dim, num_output_classes = 2,2\n",
    "\n",
    "#load \"fsx/CntkHelpers.fsx\"\n",
    "open CntkHelpers\n",
    "\n",
    "let input = Variable.InputVariable(shape [|input_dim|], dataType, \"Features\")\n",
    "let label = Variable.InputVariable(shape [|num_output_classes|], dataType, \"Labels\")\n",
    "let z = fullyConnectedClassifierNet input [15;10;5] num_output_classes CNTKLib.Sigmoid"
   ]
  },
  {
   "cell_type": "code",
   "execution_count": null,
   "metadata": {
    "collapsed": false
   },
   "outputs": [],
   "source": [
    "open System.Collections.Generic\n",
    "\n",
    "// combine filters to single lambda\n",
    "let inline (<&>) (filter1 : 'T -> bool) (filter2 : 'T -> bool) =\n",
    "        fun (t:'T) -> filter1 t && filter2 t\n",
    "\n",
    "let decomposeFunction (root: Function) = \n",
    "        \n",
    "        let visited = Dictionary<string, Variable>()\n",
    "        \n",
    "        let inline excludeVisitedNodes (v: Variable) = \n",
    "            if visited.ContainsKey(v.Uid) then false\n",
    "            else visited.Add(v.Uid, v); true\n",
    "    \n",
    "        let inline includeNodesWithOwner (v: Variable) = v.Owner |> isNull |> not             \n",
    "\n",
    "        let rec search (f: Function) = \n",
    "        \n",
    "            visited.Add(f.Uid, Var f)\n",
    "        \n",
    "            seq {   yield! f.Inputs\n",
    "                    yield! f.Outputs\n",
    "                    yield  Var f.RootFunction }\n",
    "            |> Seq.filter (excludeVisitedNodes <&> includeNodesWithOwner)\n",
    "            |> Seq.map (fun v -> v.Owner)\n",
    "            |> Seq.filter ((<>)null)\n",
    "            |> Seq.iter search\n",
    "\n",
    "        search root\n",
    "    \n",
    "        visited"
   ]
  },
  {
   "cell_type": "code",
   "execution_count": null,
   "metadata": {
    "collapsed": false
   },
   "outputs": [],
   "source": [
    "decomposeFunction z"
   ]
  },
  {
   "cell_type": "code",
   "execution_count": null,
   "metadata": {
    "collapsed": true
   },
   "outputs": [],
   "source": [
    "// https://github.com/Microsoft/CNTK/blob/master/bindings/python/cntk/logging/graph.py\n",
    "\n",
    "let extractGraphVizDotNotation (f: Function) = \n",
    "        let varText (v:Variable) = (if String.IsNullOrEmpty v.Name then v.Uid else v.Name) + \"\\\\n\" + v.Shape.AsString()\n",
    "        let funText (f: Function) = if String.IsNullOrEmpty f.Name then f.Uid else f.Name\n",
    "    \n",
    "        let varLabel (v: Variable) = sprintf \"%s [label=\\\"%s\\\"];\" v.Uid (varText v)\n",
    "        let funLabel (f: Function) = sprintf \"%s [label=\\\"%s\\\"];\" f.Uid (funText f)\n",
    "\n",
    "        let varShape (v: Variable) =\n",
    "            match v with\n",
    "            | _ when v.IsInput -> sprintf \"%s [shape=invhouse, color=yellow];\" v.Uid\n",
    "            | _ when v.IsOutput -> sprintf \"%s [shape=invhouse, color=gray];\" v.Uid\n",
    "            | _ when v.IsPlaceholder -> sprintf \"%s [shape=invhouse, color=yellow];\" v.Uid\n",
    "            | _ when v.IsParameter -> sprintf \"%s [shape=diamond, color=green];\" v.Uid\n",
    "            | _ when v.IsConstant -> sprintf \"%s [shape=rectangle, color=lightblue];\" v.Uid\n",
    "            | _ -> sprintf \"%s [shape=circle, color=purple];\" v.Uid\n",
    "\n",
    "        let funShape (f: Function) = \n",
    "            match f with \n",
    "            | _ when f.IsComposite -> sprintf \"%s [shape=ellipse, fontsize=20, penwidth=2, peripheries=2];\" f.Uid\n",
    "            | _ when f.IsPrimitive -> sprintf \"%s [shape=ellipse, fontsize=20, penwidth=2, size=0.6];\" f.Uid\n",
    "            | _ -> sprintf \"%s [shape=ellipse, fontsize=20, penwidth=4];\" f.Uid\n",
    "\n",
    "        let varEdges (f: Function) (v: Variable) = \n",
    "            let inputIndex = f.Inputs |> Seq.map (fun v -> v.Uid) |> Set\n",
    "            let outputIndex = f.Outputs |> Seq.map (fun v -> v.Uid) |> Set\n",
    "            match inputIndex.Contains(v.Uid), outputIndex.Contains(v.Uid) with \n",
    "            | true, _ when v.IsParameter -> sprintf \"%s -> %s [label=\\\"input param\\\"];\" v.Uid f.Uid |> Some\n",
    "            | _, true when v.IsParameter -> sprintf \"%s -> %s [label=\\\"output param\\\"];\" f.Uid v.Uid|> Some\n",
    "            | true, _ -> sprintf \"%s -> %s [label=input];\" v.Uid f.Uid|> Some\n",
    "            | _, true -> sprintf \"%s -> %s [label=output];\" f.Uid v.Uid|> Some\n",
    "            //| _ when v.IsParameter -> sprintf \"%s -> %s [label=param];\" f.Uid v.Uid|> Some\n",
    "            | _ -> None //sprintf \"%s -> %s;\" f.Uid v.Uid\n",
    "\n",
    "        let vars = Seq.append f.Inputs f.Outputs\n",
    "        let funs = seq { \n",
    "                yield f\n",
    "                yield f.RootFunction;\n",
    "                yield! vars |> Seq.filter (fun v -> v.Owner |> isNull |> not) |> Seq.map (fun v -> v.Owner) \n",
    "            } \n",
    "\n",
    "        seq {        \n",
    "            if f.Uid <> f.RootFunction.Uid then yield sprintf \"%s -> %s [label=\\\"root function\\\"];\" f.RootFunction.Uid f.Uid\n",
    "            yield! vars |> Seq.map varShape\n",
    "            yield! vars |> Seq.map varLabel\n",
    "            yield! vars |> Seq.map (varEdges f) |> Seq.choose id\n",
    "            yield! funs |> Seq.map funLabel \n",
    "            yield! funs |> Seq.map funShape\n",
    "        } |> Seq.distinct\n"
   ]
  },
  {
   "cell_type": "code",
   "execution_count": null,
   "metadata": {
    "collapsed": false,
    "scrolled": false
   },
   "outputs": [],
   "source": [
    "let createGraphVizDiagram (f:Function) =\n",
    "    f \n",
    "    |> decomposeFunction \n",
    "    |> Seq.cast<KeyValuePair<string,Variable>> \n",
    "    |> Seq.map(fun pair -> pair.Value) \n",
    "    //|> Seq.where(fun v -> v.Owner)\n",
    "//     |> Seq.where (function Fun _ -> true | _ -> false)\n",
    "//    |> Seq.where (fun v -> v.ToFunction().IsComposite |> not )\n",
    "    |> Seq.collect (fun v -> extractGraphVizDotNotation (v.ToFunction()))\n",
    "    |> Seq.distinct //|> Array.ofSeq |> Array.filter (fun str -> str.Contains(\"->\")) |> Array.sort\n",
    "    |> Seq.sort\n",
    "    \n",
    "    \n",
    "createGraphVizDiagram z"
   ]
  },
  {
   "cell_type": "code",
   "execution_count": null,
   "metadata": {
    "collapsed": false,
    "scrolled": false
   },
   "outputs": [],
   "source": [
    "let dotNotationString = createGraphVizDiagram z |> Seq.reduce(sprintf \"%s\\n%s\")\n",
    "let replace pattern (replacement: string) (str: string) = str.Replace(pattern,replacement)\n",
    "\n",
    "\"d3-graphviz-host.html\" \n",
    "|> System.IO.File.ReadAllText \n",
    "|> replace \"{DOT}\" dotNotationString\n",
    "|> Util.Html\n",
    "|> Display"
   ]
  },
  {
   "cell_type": "code",
   "execution_count": null,
   "metadata": {
    "collapsed": false
   },
   "outputs": [],
   "source": [
    "//(Var z).GetType().GetProperties() |> Array.map (fun prop -> prop.Name)\n",
    "let v = z\n",
    "v.GetType().GetProperties() \n",
    "|> Array.map (\n",
    "    fun prop ->\n",
    "        try        \n",
    "            prop.Name, (sprintf \"%A\" <| prop.GetValue(v))\n",
    "        with ex -> prop.Name, \"\")\n",
    "|> Util.Table        "
   ]
  },
  {
   "cell_type": "code",
   "execution_count": null,
   "metadata": {
    "collapsed": false
   },
   "outputs": [],
   "source": [
    "let v = input\n",
    "v.GetType().GetProperties() \n",
    "|> Array.map (\n",
    "    fun prop ->\n",
    "        try        \n",
    "            prop.Name, (sprintf \"%A\" <| prop.GetValue(input))\n",
    "        with ex -> prop.Name, \"\")\n",
    "|> Util.Table        "
   ]
  },
  {
   "cell_type": "code",
   "execution_count": null,
   "metadata": {
    "collapsed": false
   },
   "outputs": [],
   "source": [
    "let z' = Var z\n",
    "z'.Owner.Name"
   ]
  },
  {
   "cell_type": "code",
   "execution_count": null,
   "metadata": {
    "collapsed": false
   },
   "outputs": [],
   "source": [
    "@\"<script src=\"\"https://d3js.org/d3.v5.min.js\"\"></script>\" |> Util.Html |> Display"
   ]
  },
  {
   "cell_type": "code",
   "execution_count": null,
   "metadata": {
    "collapsed": false
   },
   "outputs": [],
   "source": [
    "@\"<script src='http://d3js.org/d3.v5.min.js'></script>\" |> Util.Html"
   ]
  },
  {
   "cell_type": "code",
   "execution_count": null,
   "metadata": {
    "collapsed": true
   },
   "outputs": [],
   "source": [
    "@\"<script src='https://unpkg.com/viz.js@1.8.0/viz.js' type='javascript/worker'></script>\" |> Util.Html"
   ]
  },
  {
   "cell_type": "code",
   "execution_count": null,
   "metadata": {
    "collapsed": true
   },
   "outputs": [],
   "source": [
    "@\"<script src='https://unpkg.com/d3-graphviz@1.3.1/build/d3-graphviz.min.js'></script>\" |> Util.Html"
   ]
  }
 ],
 "metadata": {
  "anaconda-cloud": {},
  "kernelspec": {
   "display_name": "F#",
   "language": "fsharp",
   "name": "ifsharp"
  },
  "language": "fsharp",
  "language_info": {
   "codemirror_mode": "",
   "file_extension": ".fs",
   "mimetype": "text/x-fsharp",
   "name": "fsharp",
   "nbconvert_exporter": "",
   "pygments_lexer": "",
   "version": "4.3.1.0"
  }
 },
 "nbformat": 4,
 "nbformat_minor": 0
}
