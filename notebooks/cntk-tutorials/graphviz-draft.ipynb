{
 "cells": [
  {
   "cell_type": "markdown",
   "metadata": {},
   "source": [
    "# Preparing workspace"
   ]
  },
  {
   "cell_type": "code",
   "execution_count": 40,
   "metadata": {
    "collapsed": false
   },
   "outputs": [
    {
     "data": {
      "text/plain": [
       "Congratulations, you are using CNTK for: CPU\r\n"
      ]
     },
     "metadata": {},
     "output_type": "display_data"
    }
   ],
   "source": [
    "#r \"netstandard\"\n",
    "#r @\"bin\\Cntk.Core.Managed-2.6.dll\"\n",
    "#load @\".paket\\load\\main.group.fsx\"\n",
    " \n",
    "open System\n",
    "open System.IO\n",
    "\n",
    "Environment.GetEnvironmentVariable(\"PATH\")\n",
    "|> fun path -> sprintf \"%s%c%s\" path (Path.PathSeparator) (Path.GetFullPath(\"bin\"))\n",
    "|> fun path -> Environment.SetEnvironmentVariable(\"PATH\", path)\n",
    "\n",
    "open CNTK\n",
    "DeviceDescriptor.UseDefaultDevice().Type\n",
    "|> printfn \"Congratulations, you are using CNTK for: %A\" "
   ]
  },
  {
   "cell_type": "code",
   "execution_count": 51,
   "metadata": {
    "collapsed": false
   },
   "outputs": [],
   "source": [
    "let device = CNTK.DeviceDescriptor.CPUDevice\n",
    "let dataType = CNTK.DataType.Float\n",
    "let initialization = CNTKLib.GlorotUniformInitializer(1.0)\n",
    "let input_dim, num_output_classes = 2,2\n",
    "\n",
    "#load \"fsx/CntkHelpers.fsx\"\n",
    "open CntkHelpers\n",
    "\n",
    "let input = Variable.InputVariable(shape [|input_dim|], dataType, \"Features\")\n",
    "let label = Variable.InputVariable(shape [|num_output_classes|], dataType, \"Labels\")\n",
    "let z = fullyConnectedClassifierNet input [5] num_output_classes CNTKLib.Sigmoid"
   ]
  },
  {
   "cell_type": "code",
   "execution_count": 102,
   "metadata": {
    "collapsed": false
   },
   "outputs": [],
   "source": [
    "open System.Collections.Generic\n",
    "\n",
    "// combine filters to single lambda\n",
    "let inline (<&>) (filter1 : 'T -> bool) (filter2 : 'T -> bool) =\n",
    "        fun (t:'T) -> filter1 t && filter2 t\n",
    "\n",
    "let decomposeFunction (root: Function) = \n",
    "        \n",
    "        let visited = Dictionary<string, Function>()\n",
    "        \n",
    "        let inline excludeVisitedNodes (f: Function) = \n",
    "            if f = null then false\n",
    "            else\n",
    "                let key = f.Uid\n",
    "                if visited.ContainsKey(key) then false\n",
    "                else visited.Add(key, f); true\n",
    "    \n",
    "        let inline includeNodesWithOwner (v: Variable) = v.Owner |> isNull |> not             \n",
    "\n",
    "        let rec search (f: Function) = \n",
    "            //printfn \"%s\\t%s\" (f.Uid) ((Var f).Uid)\n",
    "            visited.Add(f.Uid, f)\n",
    "        \n",
    "            seq {   yield! f.Inputs\n",
    "                    yield! f.Outputs\n",
    "                    yield  Var f.RootFunction }\n",
    "            //|> Seq.filter (excludeVisitedNodes <&> includeNodesWithOwner)\n",
    "            |> Seq.map (fun v -> v.Owner)\n",
    "            |> Seq.filter (fun f -> f <> null && visited.ContainsKey(f.Uid) = false)            \n",
    "            //|> Seq.filter (excludeVisitedNodes)\n",
    "            |> Seq.iter search\n",
    "\n",
    "        search root\n",
    "    \n",
    "        visited"
   ]
  },
  {
   "cell_type": "code",
   "execution_count": 103,
   "metadata": {
    "collapsed": false
   },
   "outputs": [],
   "source": [
    "let decz = decomposeFunction z"
   ]
  },
  {
   "cell_type": "code",
   "execution_count": 105,
   "metadata": {
    "collapsed": false
   },
   "outputs": [
    {
     "data": {
      "text/plain": [
       "[|\"CompositeFunction1627\"; \"Plus1626\"; \"Times1623\"; \"StableSigmoid1618\";\n",
       "  \"Plus1615\"; \"Times1612\"|]"
      ]
     },
     "execution_count": 105,
     "metadata": {},
     "output_type": "execute_result"
    }
   ],
   "source": [
    "decz\n",
    "|> Seq.cast<KeyValuePair<string,Function>> \n",
    "|> Seq.map(fun pair -> pair.Key) \n",
    "|> Array.ofSeq"
   ]
  },
  {
   "cell_type": "code",
   "execution_count": 93,
   "metadata": {
    "collapsed": true
   },
   "outputs": [],
   "source": [
    "// https://github.com/Microsoft/CNTK/blob/master/bindings/python/cntk/logging/graph.py\n",
    "\n",
    "let extractGraphVizDotNotation (f: Function) = \n",
    "        let varText (v:Variable) = (if String.IsNullOrEmpty v.Name then v.Uid else v.Name) + \"\\\\n\" + v.Shape.AsString()\n",
    "        let funText (f: Function) = if String.IsNullOrEmpty f.Name then f.Uid else f.Name\n",
    "    \n",
    "        let varLabel (v: Variable) = sprintf \"%s [label=\\\"%s\\\"];\" v.Uid (varText v)\n",
    "        let funLabel (f: Function) = sprintf \"%s [label=\\\"%s\\\"];\" f.Uid (funText f)\n",
    "\n",
    "        let varShape (v: Variable) =\n",
    "            match v with\n",
    "            | _ when v.IsInput -> sprintf \"%s [shape=invhouse, color=yellow];\" v.Uid\n",
    "            | _ when v.IsOutput -> sprintf \"%s [shape=invhouse, color=gray];\" v.Uid\n",
    "            | _ when v.IsPlaceholder -> sprintf \"%s [shape=invhouse, color=yellow];\" v.Uid\n",
    "            | _ when v.IsParameter -> sprintf \"%s [shape=diamond, color=green];\" v.Uid\n",
    "            | _ when v.IsConstant -> sprintf \"%s [shape=rectangle, color=lightblue];\" v.Uid\n",
    "            | _ -> sprintf \"%s [shape=circle, color=purple];\" v.Uid\n",
    "\n",
    "        let funShape (f: Function) = \n",
    "            match f with \n",
    "            | _ when f.IsComposite -> sprintf \"%s [shape=ellipse, fontsize=20, penwidth=2, peripheries=2];\" f.Uid\n",
    "            | _ when f.IsPrimitive -> sprintf \"%s [shape=ellipse, fontsize=20, penwidth=2, size=0.6];\" f.Uid\n",
    "            | _ -> sprintf \"%s [shape=ellipse, fontsize=20, penwidth=4];\" f.Uid\n",
    "\n",
    "        let varEdges (f: Function) (v: Variable) = \n",
    "            let inputIndex = f.Inputs |> Seq.map (fun v -> v.Uid) |> Set\n",
    "            let outputIndex = f.Outputs |> Seq.map (fun v -> v.Uid) |> Set\n",
    "            match inputIndex.Contains(v.Uid), outputIndex.Contains(v.Uid) with \n",
    "            | true, _ when v.IsParameter -> sprintf \"%s -> %s [label=\\\"input param\\\"];\" v.Uid f.Uid |> Some\n",
    "            | _, true when v.IsParameter -> sprintf \"%s -> %s [label=\\\"output param\\\"];\" f.Uid v.Uid|> Some\n",
    "            | true, _ -> sprintf \"%s -> %s [label=input];\" v.Uid f.Uid|> Some\n",
    "            | _, true -> sprintf \"%s -> %s [label=output];\" f.Uid v.Uid|> Some\n",
    "            //| _ when v.IsParameter -> sprintf \"%s -> %s [label=param];\" f.Uid v.Uid|> Some\n",
    "            | _ -> None //sprintf \"%s -> %s;\" f.Uid v.Uid\n",
    "\n",
    "        let vars = Seq.append f.Inputs f.Outputs\n",
    "        let funs = seq { \n",
    "                yield f\n",
    "                yield f.RootFunction;\n",
    "                yield! vars |> Seq.filter (fun v -> v.Owner |> isNull |> not) |> Seq.map (fun v -> v.Owner) \n",
    "            } \n",
    "\n",
    "        seq {        \n",
    "            if f.Uid <> f.RootFunction.Uid then yield sprintf \"%s -> %s [label=\\\"root function\\\"];\" f.RootFunction.Uid f.Uid\n",
    "            yield! vars |> Seq.map varShape\n",
    "            yield! vars |> Seq.map varLabel\n",
    "            yield! vars |> Seq.map (varEdges f) |> Seq.choose id\n",
    "            yield! funs |> Seq.map funLabel \n",
    "            yield! funs |> Seq.map funShape\n",
    "        } |> Seq.distinct\n"
   ]
  },
  {
   "cell_type": "code",
   "execution_count": 110,
   "metadata": {
    "collapsed": false,
    "scrolled": false
   },
   "outputs": [
    {
     "data": {
      "text/plain": [
       "[|\"Input1608 -> Times1612 [label=input];\"; \"Input1608 [label=\"Features\\n[2]\"];\";\n",
       "  \"Input1608 [shape=invhouse, color=yellow];\";\n",
       "  \"Parameter1610 -> Times1612 [label=\"input param\"];\";\n",
       "  \"Parameter1610 [label=\"Weights\\n[5 x 2]\"];\";\n",
       "  \"Parameter1610 [shape=diamond, color=green];\";\n",
       "  \"Parameter1611 -> Plus1615 [label=\"input param\"];\";\n",
       "  \"Parameter1611 [label=\"Bias\\n[5]\"];\";\n",
       "  \"Parameter1611 [shape=diamond, color=green];\";\n",
       "  \"Parameter1621 -> Times1623 [label=\"input param\"];\";\n",
       "  \"Parameter1621 [label=\"Weights\\n[2 x 5]\"];\";\n",
       "  \"Parameter1621 [shape=diamond, color=green];\";\n",
       "  \"Parameter1622 -> Plus1626 [label=\"input param\"];\";\n",
       "  \"Parameter1622 [label=\"Bias\\n[2]\"];\";\n",
       "  \"Parameter1622 [shape=diamond, color=green];\";\n",
       "  \"Plus1615 -> Plus1615_Output_0 [label=output];\"; \"Plus1615 [label=\"Layer\"];\";\n",
       "  \"Plus1615 [shape=ellipse, fontsize=20, penwidth=2, size=0.6];\";\n",
       "  \"Plus1615_Output_0 -> StableSigmoid1618 [label=input];\";\n",
       "  \"Plus1615_Output_0 [label=\"Layer\\n[5]\"];\";\n",
       "  \"Plus1615_Output_0 [shape=invhouse, color=gray];\";\n",
       "  \"Plus1626 -> Plus1626_Output_0 [label=output];\"; \"Plus1626 [label=\"Layer\"];\";\n",
       "  \"Plus1626 [shape=ellipse, fontsize=20, penwidth=2, size=0.6];\";\n",
       "  \"Plus1626_Output_0 [label=\"Layer\\n[2]\"];\";\n",
       "  \"Plus1626_Output_0 [shape=invhouse, color=gray];\";\n",
       "  \"StableSigmoid1618 -> StableSigmoid1618_Output_0 [label=output];\";\n",
       "  \"StableSigmoid1618 [label=\"StableSigmoid1618\"];\";\n",
       "  \"StableSigmoid1618 [shape=ellipse, fontsize=20, penwidth=2, size=0.6];\";\n",
       "  \"StableSigmoid1618_Output_0 -> Times1623 [label=input];\";\n",
       "  \"StableSigmoid1618_Output_0 [label=\"StableSigmoid1618_Output_0\\n[5]\"];\";\n",
       "  \"StableSigmoid1618_Output_0 [shape=invhouse, color=gray];\";\n",
       "  \"Times1612 -> Times1612_Output_0 [label=output];\";\n",
       "  \"Times1612 [label=\"Weighted input\"];\";\n",
       "  \"Times1612 [shape=ellipse, fontsize=20, penwidth=2, size=0.6];\";\n",
       "  \"Times1612_Output_0 -> Plus1615 [label=input];\";\n",
       "  \"Times1612_Output_0 [label=\"Weighted input\\n[5]\"];\";\n",
       "  \"Times1612_Output_0 [shape=invhouse, color=gray];\";\n",
       "  \"Times1623 -> Times1623_Output_0 [label=output];\";\n",
       "  \"Times1623 [label=\"Weighted input\"];\";\n",
       "  \"Times1623 [shape=ellipse, fontsize=20, penwidth=2, size=0.6];\";\n",
       "  \"Times1623_Output_0 -> Plus1626 [label=input];\";\n",
       "  \"Times1623_Output_0 [label=\"Weighted input\\n[2]\"];\";\n",
       "  \"Times1623_Output_0 [shape=invhouse, color=gray];\"|]"
      ]
     },
     "execution_count": 110,
     "metadata": {},
     "output_type": "execute_result"
    }
   ],
   "source": [
    "let createGraphVizDiagram (f:Function) =\n",
    "    f \n",
    "    |> decomposeFunction \n",
    "    |> Seq.cast<KeyValuePair<string,Function>> \n",
    "    |> Seq.map(fun pair -> pair.Value) \n",
    "    //|> Seq.distinct\n",
    "    //|> Seq.where(fun v -> v.Owner)\n",
    "//     |> Seq.where (function Fun _ -> true | _ -> false)\n",
    "    |> Seq.where (fun f -> f.IsComposite |> not  )\n",
    "    |> Seq.collect extractGraphVizDotNotation\n",
    "    |> Seq.distinct //|> Array.ofSeq |> Array.filter (fun str -> str.Contains(\"->\")) |> Array.sort\n",
    "    |> Seq.sort\n",
    "    \n",
    "    \n",
    "createGraphVizDiagram z |> Array.ofSeq"
   ]
  },
  {
   "cell_type": "code",
   "execution_count": 53,
   "metadata": {
    "collapsed": false
   },
   "outputs": [
    {
     "data": {
      "text/html": [
       "<script src='../../d3-jupyter/dist/bundle.js'></script>"
      ]
     },
     "metadata": {},
     "output_type": "display_data"
    }
   ],
   "source": [
    "@\"<script src='../../d3-jupyter/dist/bundle.js'></script>\" |> Util.Html |> Display"
   ]
  },
  {
   "cell_type": "code",
   "execution_count": 54,
   "metadata": {
    "collapsed": false
   },
   "outputs": [
    {
     "data": {
      "text/html": [
       "<script>$(document).trigger('INIT_D3', ['#graph']);</script>"
      ],
      "text/plain": [
       "{Html = \"<script>$(document).trigger('INIT_D3', ['#graph']);</script>\";}"
      ]
     },
     "execution_count": 54,
     "metadata": {},
     "output_type": "execute_result"
    }
   ],
   "source": [
    "let initGraph jqueryPath = \n",
    "    sprintf \"<script>$(document).trigger('INIT_D3', ['%s']);</script>\" jqueryPath\n",
    "    |> Util.Html\n",
    "    \n",
    "let renderDot dotNotation = \n",
    "    sprintf \"<script>$(document).trigger('RENDER_GRAPH', [`%s`]);</script>\" dotNotation\n",
    "    |> Util.Html\n",
    "    \n",
    "let renderSeries (digraphs : string[]) = \n",
    "    digraphs\n",
    "    |> Array.reduce(sprintf \"%s','%s\")\n",
    "    |> sprintf \"<script>$(document).trigger('RENDER_SERIES', [['%s']]);</script>\"\n",
    "    |> Util.Html    \n",
    "    \n",
    "initGraph \"#graph\"    "
   ]
  },
  {
   "cell_type": "code",
   "execution_count": 111,
   "metadata": {
    "collapsed": false
   },
   "outputs": [
    {
     "data": {
      "text/html": [
       "<script>$(document).trigger('RENDER_GRAPH', [`digraph { Input1608 -> Times1612 [label=input];\n",
       "Input1608 [label=\"Features\\n[2]\"];\n",
       "Input1608 [shape=invhouse, color=yellow];\n",
       "Parameter1610 -> Times1612 [label=\"input param\"];\n",
       "Parameter1610 [label=\"Weights\\n[5 x 2]\"];\n",
       "Parameter1610 [shape=diamond, color=green];\n",
       "Parameter1611 -> Plus1615 [label=\"input param\"];\n",
       "Parameter1611 [label=\"Bias\\n[5]\"];\n",
       "Parameter1611 [shape=diamond, color=green];\n",
       "Parameter1621 -> Times1623 [label=\"input param\"];\n",
       "Parameter1621 [label=\"Weights\\n[2 x 5]\"];\n",
       "Parameter1621 [shape=diamond, color=green];\n",
       "Parameter1622 -> Plus1626 [label=\"input param\"];\n",
       "Parameter1622 [label=\"Bias\\n[2]\"];\n",
       "Parameter1622 [shape=diamond, color=green];\n",
       "Plus1615 -> Plus1615_Output_0 [label=output];\n",
       "Plus1615 [label=\"Layer\"];\n",
       "Plus1615 [shape=ellipse, fontsize=20, penwidth=2, size=0.6];\n",
       "Plus1615_Output_0 -> StableSigmoid1618 [label=input];\n",
       "Plus1615_Output_0 [label=\"Layer\\n[5]\"];\n",
       "Plus1615_Output_0 [shape=invhouse, color=gray];\n",
       "Plus1626 -> Plus1626_Output_0 [label=output];\n",
       "Plus1626 [label=\"Layer\"];\n",
       "Plus1626 [shape=ellipse, fontsize=20, penwidth=2, size=0.6];\n",
       "Plus1626_Output_0 [label=\"Layer\\n[2]\"];\n",
       "Plus1626_Output_0 [shape=invhouse, color=gray];\n",
       "StableSigmoid1618 -> StableSigmoid1618_Output_0 [label=output];\n",
       "StableSigmoid1618 [label=\"StableSigmoid1618\"];\n",
       "StableSigmoid1618 [shape=ellipse, fontsize=20, penwidth=2, size=0.6];\n",
       "StableSigmoid1618_Output_0 -> Times1623 [label=input];\n",
       "StableSigmoid1618_Output_0 [label=\"StableSigmoid1618_Output_0\\n[5]\"];\n",
       "StableSigmoid1618_Output_0 [shape=invhouse, color=gray];\n",
       "Times1612 -> Times1612_Output_0 [label=output];\n",
       "Times1612 [label=\"Weighted input\"];\n",
       "Times1612 [shape=ellipse, fontsize=20, penwidth=2, size=0.6];\n",
       "Times1612_Output_0 -> Plus1615 [label=input];\n",
       "Times1612_Output_0 [label=\"Weighted input\\n[5]\"];\n",
       "Times1612_Output_0 [shape=invhouse, color=gray];\n",
       "Times1623 -> Times1623_Output_0 [label=output];\n",
       "Times1623 [label=\"Weighted input\"];\n",
       "Times1623 [shape=ellipse, fontsize=20, penwidth=2, size=0.6];\n",
       "Times1623_Output_0 -> Plus1626 [label=input];\n",
       "Times1623_Output_0 [label=\"Weighted input\\n[2]\"];\n",
       "Times1623_Output_0 [shape=invhouse, color=gray]; }`]);</script>"
      ],
      "text/plain": [
       "{Html =\n",
       "  \"<script>$(document).trigger('RENDER_GRAPH', [`digraph { Input1608 -> Times1612 [label=input];\n",
       "Input1608 [label=\"Features\\n[2]\"];\n",
       "Input1608 [shape=invhouse, color=yellow];\n",
       "Parameter1610 -> Times1612 [label=\"input param\"];\n",
       "Parameter1610 [label=\"Weights\\n[5 x 2]\"];\n",
       "Parameter1610 [shape=diamond, color=green];\n",
       "Parameter1611 -> Plus1615 [label=\"input param\"];\n",
       "Parameter1611 [label=\"Bias\\n[5]\"];\n",
       "Parameter1611 [shape=diamond, color=green];\n",
       "Parameter1621 -> Times1623 [label=\"input param\"];\n",
       "Parameter1621 [label=\"Weights\\n[2 x 5]\"];\n",
       "Parameter1621 [shape=diamond, color=green];\n",
       "Parameter1622 -> Plus1626 [label=\"input param\"];\n",
       "Parameter1622 [label=\"Bias\\n[2]\"];\n",
       "Parameter1622 [shape=diamond, color=green];\n",
       "Plus1615 -> Plus1615_Output_0 [label=output];\n",
       "Plus1615 [label=\"Layer\"];\n",
       "Plus1615 [shape=ellipse, fontsize=20, penwidth=2, size=0.6];\n",
       "Plus1615_Output_0 -> StableSigmoid1618 [label=input];\n",
       "Plus1615_Output_0 [label=\"Layer\\n[5]\"];\n",
       "Plus1615_Output_0 [shape=invhouse, color=gray];\n",
       "Plus1626 -> Plus1626_Output_0 [label=output];\n",
       "Plus1626 [label=\"Layer\"];\n",
       "Plus1626 [shape=ellipse, fontsize=20, penwidth=2, size=0.6];\n",
       "Plus1626_Output_0 [label=\"Layer\\n[2]\"];\n",
       "Plus1626_Output_0 [shape=invhouse, color=gray];\n",
       "StableSigmoid1618 -> StableSigmoid1618_Output_0 [label=output];\n",
       "StableSigmoid1618 [label=\"StableSigmoid1618\"];\n",
       "StableSigmoid1618 [shape=ellipse, fontsize=20, penwidth=2, size=0.6];\n",
       "StableSigmoid1618_Output_0 -> Times1623 [label=input];\n",
       "StableSigmoid1618_Output_0 [label=\"StableSigmoid1618_Output_0\\n[5]\"];\n",
       "StableSigmoid1618_Output_0 [shape=invhouse, color=gray];\n",
       "Times1612 -> Times1612_Output_0 [label=output];\n",
       "Times1612 [label=\"Weighted input\"];\n",
       "Times1612 [shape=ellipse, fontsize=20, penwidth=2, size=0.6];\n",
       "Times1612_Output_0 -> Plus1615 [label=input];\n",
       "Times1612_Output_0 [label=\"Weighted input\\n[5]\"];\n",
       "Times1612_Output_0 [shape=invhouse, color=gray];\n",
       "Times1623 -> Times1623_Output_0 [label=output];\n",
       "Times1623 [label=\"Weighted input\"];\n",
       "Times1623 [shape=ellipse, fontsize=20, penwidth=2, size=0.6];\n",
       "Times1623_Output_0 -> Plus1626 [label=input];\n",
       "Times1623_Output_0 [label=\"Weighted input\\n[2]\"];\n",
       "Times1623_Output_0 [shape=invhouse, color=gray]; }`]);</script>\";}"
      ]
     },
     "execution_count": 111,
     "metadata": {},
     "output_type": "execute_result"
    }
   ],
   "source": [
    "createGraphVizDiagram z \n",
    "|> Seq.reduce(sprintf \"%s\\n%s\")\n",
    "|> sprintf \"digraph { %s }\"\n",
    "|> renderDot"
   ]
  },
  {
   "cell_type": "markdown",
   "metadata": {},
   "source": [
    "<div id=\"graph\" style=\"width: 100%;height:800px; border: solid lightblue 1px\"></div>"
   ]
  },
  {
   "cell_type": "code",
   "execution_count": null,
   "metadata": {
    "collapsed": false
   },
   "outputs": [],
   "source": [
    "\"\"\"<script>\n",
    "        var dot = `\n",
    "  digraph {\n",
    "    Combine1787 -> CompositeFunction1788 [label=\"root function\"];\n",
    "Combine1787 [label=\"Combine1787\"];\n",
    "Combine1787 [shape=ellipse, fontsize=20, penwidth=2, size=0.6];\n",
    "Combine1789 -> CompositeFunction1790 [label=\"root function\"];\n",
    "Combine1789 [label=\"Combine1789\"];\n",
    "Combine1789 [shape=ellipse, fontsize=20, penwidth=2, size=0.6];\n",
    "Combine1791 -> CompositeFunction1792 [label=\"root function\"];\n",
    "Combine1791 [label=\"Combine1791\"];\n",
    "Combine1791 [shape=ellipse, fontsize=20, penwidth=2, size=0.6];\n",
    "Combine1793 -> CompositeFunction1794 [label=\"root function\"];\n",
    "Combine1793 [label=\"Combine1793\"];\n",
    "Combine1793 [shape=ellipse, fontsize=20, penwidth=2, size=0.6];\n",
    "Combine1795 -> CompositeFunction1796 [label=\"root function\"];\n",
    "Combine1795 [label=\"Combine1795\"];\n",
    "Combine1795 [shape=ellipse, fontsize=20, penwidth=2, size=0.6];\n",
    "Combine1797 -> CompositeFunction1798 [label=\"root function\"];\n",
    "Combine1797 [label=\"Combine1797\"];\n",
    "Combine1797 [shape=ellipse, fontsize=20, penwidth=2, size=0.6];\n",
    "Combine1799 -> CompositeFunction1800 [label=\"root function\"];\n",
    "Combine1799 [label=\"Combine1799\"];\n",
    "Combine1799 [shape=ellipse, fontsize=20, penwidth=2, size=0.6];\n",
    "Combine1801 -> CompositeFunction1802 [label=\"root function\"];\n",
    "Combine1801 [label=\"Combine1801\"];\n",
    "Combine1801 [shape=ellipse, fontsize=20, penwidth=2, size=0.6];\n",
    "Combine1803 -> CompositeFunction1804 [label=\"root function\"];\n",
    "Combine1803 [label=\"Combine1803\"];\n",
    "Combine1803 [shape=ellipse, fontsize=20, penwidth=2, size=0.6];\n",
    "  }`;\n",
    "        var viz = d3.select(\"#graph\")\n",
    "            .graphviz()\n",
    "            //.logEvents(true)\n",
    "            .on(\"initEnd\", function () {\n",
    "\n",
    "                //viz.engine(\"circo\");\n",
    "                viz.renderDot(dot)\n",
    "                    .on(\"end\", function () {\n",
    "\n",
    "                        let svg = d3.select(\"svg\");//.attr(\"width\", \"1750pt\").attr(\"height\",\"1000pt\");\n",
    "\n",
    "                        let defs = svg.append(\"defs\");\n",
    "\n",
    "                        let filter = defs\n",
    "                            .append(\"filter\")\n",
    "                            .attr(\"id\", \"shadow\")\n",
    "                            .attr(\"x\", \"-50%\")\n",
    "                            .attr(\"y\", \"-50%\")\n",
    "                            .attr(\"width\", \"200%\")\n",
    "                            .attr(\"height\", \"200%\");\n",
    "                        filter.append(\"feGaussianBlur\")\n",
    "                            .attr(\"in\", \"SourceAlpha\")\n",
    "                            .attr(\"stdDeviation\", 3)\n",
    "                            .attr(\"result\", \"blur\");\n",
    "                        filter\n",
    "                            .append(\"feOffset\")\n",
    "                            .attr(\"in\", \"blur\")\n",
    "                            .attr(\"dx\", 3)\n",
    "                            .attr(\"dy\", 3);\n",
    "                        filter.append(\"feComponentTransfer\")\n",
    "                            .append(\"feFuncA\").attr(\"type\", \"linear\")\n",
    "                            .attr(\"slope\", 0.35);\n",
    "\n",
    "                        var merge = filter.append(\"feMerge\");\n",
    "                        merge.append(\"feMergeNode\");\n",
    "                        merge.append(\"feMergeNode\").attr(\"in\", \"SourceGraphic\");\n",
    "\n",
    "                        d3.selectAll(\".node ellipse, .node polygon\")\n",
    "                            .style(\"fill\", \"white\")\n",
    "                            .on(\"mouseover\", (d, i, n) => d3.select(n[i]).style(\"filter\", \"url(#shadow)\"))\n",
    "                            .on(\"mouseout\", (d, i, n) => d3.select(n[i]).style(\"filter\", null));\n",
    "                    });\n",
    "            });\n",
    "    </script>\"\"\" |> Util.Html |> Display"
   ]
  },
  {
   "cell_type": "code",
   "execution_count": null,
   "metadata": {
    "collapsed": false
   },
   "outputs": [],
   "source": [
    "\"\"\"<script>\n",
    "        var canvas = d3.select(\"#graph\")\n",
    "                        .append(\"svg\")\n",
    "                        .attr(\"width\", 500)\n",
    "                        .attr(\"height\", 500);\n",
    "        var circle = canvas.append(\"circle\")\n",
    "                        .attr(\"cx\",250)\n",
    "                        .attr(\"cy\", 250)\n",
    "                        .attr(\"r\", 50)\n",
    "                        .attr(\"fill\", \"red\");\n",
    "    </script>\n",
    "\"\"\" |> Util.Html"
   ]
  },
  {
   "cell_type": "code",
   "execution_count": 67,
   "metadata": {
    "collapsed": false
   },
   "outputs": [
    {
     "data": {
      "text/plain": [
       "(\"CompositeFunction1627\", \"Plus1626_Output_0\", \"CompositeFunction1846\")"
      ]
     },
     "execution_count": 67,
     "metadata": {},
     "output_type": "execute_result"
    }
   ],
   "source": [
    "z.Uid, (Var z).Uid, (Var z).ToFunction().Uid"
   ]
  },
  {
   "cell_type": "code",
   "execution_count": 71,
   "metadata": {
    "collapsed": false
   },
   "outputs": [
    {
     "data": {
      "text/plain": [
       "\"CompositeFunction1899\""
      ]
     },
     "execution_count": 71,
     "metadata": {},
     "output_type": "execute_result"
    }
   ],
   "source": [
    "input.ToFunction().Uid"
   ]
  },
  {
   "cell_type": "code",
   "execution_count": null,
   "metadata": {
    "collapsed": true
   },
   "outputs": [],
   "source": []
  }
 ],
 "metadata": {
  "anaconda-cloud": {},
  "kernelspec": {
   "display_name": "F#",
   "language": "fsharp",
   "name": "ifsharp"
  },
  "language": "fsharp",
  "language_info": {
   "codemirror_mode": "",
   "file_extension": ".fs",
   "mimetype": "text/x-fsharp",
   "name": "fsharp",
   "nbconvert_exporter": "",
   "pygments_lexer": "",
   "version": "4.3.1.0"
  }
 },
 "nbformat": 4,
 "nbformat_minor": 0
}
