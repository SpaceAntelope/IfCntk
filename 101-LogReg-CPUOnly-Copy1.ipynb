{
 "cells": [
  {
   "cell_type": "markdown",
   "metadata": {},
   "source": [
    "## Preparing the workspace"
   ]
  },
  {
   "cell_type": "code",
   "execution_count": 5,
   "metadata": {},
   "outputs": [],
   "source": [
    "#r \"netstandard\"\n",
    "#load \"Paket.fsx\""
   ]
  },
  {
   "cell_type": "code",
   "execution_count": 7,
   "metadata": {},
   "outputs": [],
   "source": [
    "Paket.Dependencies.Install \"\"\"\n",
    "storage: none\n",
    "source https://nuget.org/api/v2\n",
    "nuget CNTK.CPUOnly\n",
    "nuget FsLab\n",
    "nuget MathNet.Numerics\n",
    "nuget MathNet.Numerics.FSharp\n",
    "nuget FSharp.Charting\n",
    "nuget System.Core\n",
    "\"\"\""
   ]
  },
  {
   "cell_type": "code",
   "execution_count": null,
   "metadata": {},
   "outputs": [],
   "source": [
    "Paket.Package [\"CNTK.CPUOnly\"; \"FsLab\"; \"MathNet.Numerics\"; \"MathNet.Numerics.FSharp\"; \"FSharp.Charting\"]"
   ]
  },
  {
   "cell_type": "code",
   "execution_count": null,
   "metadata": {},
   "outputs": [],
   "source": [
    "#load \"Paket.Generated.Refs.fsx\""
   ]
  },
  {
   "cell_type": "code",
   "execution_count": null,
   "metadata": {},
   "outputs": [],
   "source": [
    "// All cntk dlls need to be copied in the same \n",
    "// folder with Cntk.Core.Managed-*.*.dll\n",
    "#load \"prepareWorkspace.fsx\""
   ]
  },
  {
   "cell_type": "markdown",
   "metadata": {},
   "source": [
    "**After loading script and copying to /bin is complete, restart kernel before continuing.**"
   ]
  },
  {
   "cell_type": "code",
   "execution_count": 15,
   "metadata": {
    "scrolled": true
   },
   "outputs": [
    {
     "data": {
      "text/plain": [
       "You are using CNTK for: CPU\r\n"
      ]
     },
     "metadata": {},
     "output_type": "display_data"
    }
   ],
   "source": [
    "#r @\"bin\\Cntk.Core.Managed-2.6.dll\"\n",
    "#load \"Paket.Generated.Refs.fsx\"\n",
    "\n",
    "let path = System.Environment.GetEnvironmentVariable(\"PATH\")\n",
    "let path' = sprintf \"%s%c%s\" path (System.IO.Path.PathSeparator) (System.IO.Path.GetFullPath(\"bin\"))\n",
    "System.Environment.SetEnvironmentVariable(\"PATH\", path')\n",
    "\n",
    "open CNTK\n",
    "let cpu = DeviceDescriptor.UseDefaultDevice()\n",
    "printfn \"You are using CNTK for: %A\" (cpu.Type)"
   ]
  },
  {
   "cell_type": "code",
   "execution_count": 16,
   "metadata": {},
   "outputs": [],
   "source": [
    "open System\n",
    "open CNTK\n",
    "open MathNet.Numerics\n",
    "open MathNet.Numerics.Random\n",
    "open MathNet.Numerics.Distributions;\n",
    "\n",
    "let rand = System.Random(9)\n",
    "let randInt max = seq { while true do yield rand.Next() % max }\n",
    "let randn = Normal.Samples(rand, 0.0, 1.0)\n",
    "let oneHotEncoding classCount classType =\n",
    "    Array.init classCount (fun i -> if i = classType then 1.0 else 0.0)\n",
    "\n",
    "let generateRandomDataSample sampleSize featureDim numClasses =\n",
    "    // label vector\n",
    "    let Y = randInt numClasses |> Seq.take sampleSize |> Array.ofSeq\n",
    "    \n",
    "    // feature vector\n",
    "    let feature size = \n",
    "        randn \n",
    "        |> Seq.take sampleSize\n",
    "        |> Seq.mapi (fun i num -> (num + 3.0) * float (Y.[i] + 1))\n",
    "        |> Array.ofSeq    \n",
    "    \n",
    "    let X = Array.init featureDim (fun _ -> feature sampleSize)\n",
    "    \n",
    "    let Y_oneHot = Array.map (oneHotEncoding numClasses) Y\n",
    "    \n",
    "    Y_oneHot |> Array.transpose |> Array.append X |> Array.transpose\n",
    "\n",
    "let inline shape (dims:int seq) : NDShape = NDShape.CreateNDShape dims\n",
    "let parVec (pars:Parameter seq) = \n",
    "    let vector = new ParameterVector()\n",
    "    pars |> Seq.iter (vector.Add)\n",
    "    vector\n",
    "\n",
    "let featureCount = 2\n",
    "let labelCount = 2\n",
    "let sampleCount = 32\n",
    "let device = DeviceDescriptor.CPUDevice\n",
    "let dataType = CNTK.DataType.Double\n",
    "let feature = Variable.InputVariable(shape [|featureCount|], dataType, \"Features\")        \n",
    "let initialization = CNTKLib.GlorotUniformInitializer()\n",
    "let learningRate = 0.5\n",
    "let index = System.Collections.Generic.Dictionary<string, obj>()\n",
    "\n",
    "let linearLayer (inputVar : Variable) outputDim =\n",
    "    let inputDim = inputVar.Shape.[0] \n",
    "    let weightParam = new Parameter(shape [inputDim;outputDim], dataType, initialization, device, \"Weights\")\n",
    "    let biasParam = new Parameter(shape [outputDim], dataType, initialization, device, \"Bias\")\n",
    "    \n",
    "    index.Add(\"Weights\", weightParam)\n",
    "    index.Add(\"Bias\", biasParam)\n",
    "    \n",
    "    let dotProduct =  CNTKLib.Times(inputVar, weightParam, \"Weighted input\")\n",
    "    let layer = CNTKLib.Plus(new Variable(dotProduct), biasParam, \"Layer\")\n",
    "    \n",
    "    layer"
   ]
  },
  {
   "cell_type": "code",
   "execution_count": 17,
   "metadata": {},
   "outputs": [],
   "source": [
    "let rows = generateRandomDataSample sampleCount featureCount labelCount\n",
    "let z = linearLayer feature labelCount\n",
    "let label = Variable.InputVariable(shape [labelCount], dataType, \"output\")\n",
    "let loss = CNTKLib.CrossEntropyWithSoftmax(new Variable(z), label)\n",
    "let evalError = CNTKLib.ClassificationError(new Variable(z), label)    \n",
    "let lrSchedule = new CNTK.TrainingParameterScheduleDouble(learningRate, uint32 CNTK.DataUnit.Minibatch)\n",
    "let learner = CNTKLib.SGDLearner(z.Parameters() |> parVec, lrSchedule)\n",
    "let trainer = CNTK.Trainer.CreateTrainer(z, loss, evalError, ResizeArray<CNTK.Learner>([learner]))\n"
   ]
  },
  {
   "cell_type": "markdown",
   "metadata": {},
   "source": [
    "# CNTK 101: Logistic Regression and ML Primer\n",
    "\n",
    "## Intro"
   ]
  },
  {
   "cell_type": "code",
   "execution_count": null,
   "metadata": {},
   "outputs": [],
   "source": [
    "let ImageUrl url width =\n",
    "    sprintf \"<img src=\\\"%s\\\" style=\\\"width: %dpx; height: auto\\\" alt=\\\"Could not load image, make sure url is correct\\\">\" url width\n",
    "    |> Util.Html\n",
    "    |> Display"
   ]
  },
  {
   "cell_type": "code",
   "execution_count": null,
   "metadata": {
    "scrolled": false
   },
   "outputs": [],
   "source": [
    "// Figure 1\n",
    "ImageUrl \"https://www.cntk.ai/jup/cancer_data_plot.jpg\" 400"
   ]
  },
  {
   "cell_type": "code",
   "execution_count": null,
   "metadata": {},
   "outputs": [],
   "source": [
    "// Figure 2\n",
    "ImageUrl \"https://www.cntk.ai/jup/cancer_classify_plot.jpg\" 400"
   ]
  },
  {
   "cell_type": "code",
   "execution_count": null,
   "metadata": {},
   "outputs": [],
   "source": [
    "// Figure 3\n",
    "ImageUrl \"https://www.cntk.ai/jup/logistic_neuron.jpg\" 300"
   ]
  },
  {
   "cell_type": "code",
   "execution_count": 2,
   "metadata": {},
   "outputs": [],
   "source": [
    "let featureCount = 2\n",
    "let labelCount = 2\n",
    "let sampleCount = 32\n",
    "let device = DeviceDescriptor.CPUDevice"
   ]
  },
  {
   "cell_type": "markdown",
   "metadata": {},
   "source": [
    "## Data generation"
   ]
  },
  {
   "cell_type": "code",
   "execution_count": 3,
   "metadata": {},
   "outputs": [
    {
     "data": {
      "text/plain": [
       "[|[|3.415654791; 3.675224115; 1.0; 0.0|]; [|2.494471585; 2.345477671; 1.0; 0.0|];\n",
       "  [|0.4747809944; 3.076814035; 1.0; 0.0|];\n",
       "  [|5.530792053; 4.132543366; 1.0; 0.0|]; [|2.581883888; 1.657196651; 1.0; 0.0|];\n",
       "  [|1.614800661; 3.624784112; 1.0; 0.0|]|]"
      ]
     },
     "execution_count": 3,
     "metadata": {},
     "output_type": "execute_result"
    }
   ],
   "source": [
    "open MathNet.Numerics\n",
    "open MathNet.Numerics.Random\n",
    "open MathNet.Numerics.Distributions;\n",
    "\n",
    "let rand = System.Random(9)\n",
    "let randInt max = seq { while true do yield rand.Next() % max }\n",
    "let randn = Normal.Samples(rand, 0.0, 1.0)\n",
    "let oneHotEncoding classCount classType =\n",
    "    Array.init classCount (fun i -> if i = classType then 1.0 else 0.0)\n",
    "\n",
    "let generateRandomDataSample sampleSize featureDim numClasses =\n",
    "    // label vector\n",
    "    let Y = randInt numClasses |> Seq.take sampleSize |> Array.ofSeq\n",
    "    \n",
    "    // feature vector\n",
    "    let feature size = \n",
    "        randn \n",
    "        |> Seq.take sampleSize\n",
    "        |> Seq.mapi (fun i num -> (num + 3.0) * float (Y.[i] + 1))\n",
    "        |> Array.ofSeq    \n",
    "    \n",
    "    let X = Array.init featureDim (fun _ -> feature sampleSize)\n",
    "    \n",
    "    let Y_oneHot = Array.map (oneHotEncoding numClasses) Y\n",
    "    \n",
    "    Y_oneHot |> Array.transpose |> Array.append X |> Array.transpose\n",
    "        \n",
    "let rows = generateRandomDataSample sampleCount featureCount labelCount\n",
    "\n",
    "rows.[0..5]"
   ]
  },
  {
   "cell_type": "markdown",
   "metadata": {},
   "source": [
    "## Data visualization"
   ]
  },
  {
   "cell_type": "code",
   "execution_count": null,
   "metadata": {},
   "outputs": [],
   "source": [
    "// Setup display support\n",
    "#load \"FSharp.Charting.fsx\""
   ]
  },
  {
   "cell_type": "code",
   "execution_count": null,
   "metadata": {},
   "outputs": [],
   "source": [
    "open FSharp.Charting\n",
    "\n",
    "let class1, class2 = rows |> Array.partition (fun row -> row |> Array.last |> (=)1.0)\n",
    "let chartClass (cls:float[][]) = cls |> Array.map (fun x -> x.[0],x.[1]) |> Chart.Point\n",
    "\n",
    "[class1;class2] \n",
    "|> List.map chartClass \n",
    "|> Chart.Combine \n",
    "|> fun chart -> \n",
    "    chart.WithXAxis(Title=\"Tumor size (in cm)\")\n",
    "         .WithYAxis(Title=\"Age (scaled)\")"
   ]
  },
  {
   "cell_type": "code",
   "execution_count": null,
   "metadata": {},
   "outputs": [],
   "source": [
    "// Setup display support\n",
    "#load \"XPlot.Plotly.fsx\""
   ]
  },
  {
   "cell_type": "code",
   "execution_count": null,
   "metadata": {},
   "outputs": [],
   "source": [
    "open XPlot.Plotly\n",
    "\n",
    "let inline color className = if className=1.0 then \"Red\" else \"Blue\"\n",
    "let chartClassX (cls:float[][]) =\n",
    "    let className = cls.[0] |> Array.last\n",
    "    let points = cls |> Array.transpose\n",
    "    Scatter(x = points.[0], y = points.[1], \n",
    "            mode = \"markers\", \n",
    "            marker = Marker(size=10, color=color className),\n",
    "            name = className.ToString())\n",
    "\n",
    "[chartClassX class1; chartClassX class2]\n",
    "|> Chart.Plot\n",
    "|> Chart.WithLayout (Layout(xaxis=Xaxis(title=\"Tumor size (in cm)\"), yaxis=Yaxis(title=\"Age (scaled)\")))\n",
    "|> Chart.WithHeight 400\n",
    "|> Chart.WithWidth 600"
   ]
  },
  {
   "cell_type": "markdown",
   "metadata": {},
   "source": [
    "## Model Creation"
   ]
  },
  {
   "cell_type": "code",
   "execution_count": null,
   "metadata": {},
   "outputs": [],
   "source": [
    "// Figure 4\n",
    "ImageUrl \"https://www.cntk.ai/jup/logistic_neuron2.jpg\" 300"
   ]
  },
  {
   "cell_type": "code",
   "execution_count": null,
   "metadata": {},
   "outputs": [],
   "source": [
    "\"z=\\sum_{i=1}^n w_i \\\\times x_i+b= \\\\textbf{w·x}+b\" |> Util.Math"
   ]
  },
  {
   "cell_type": "code",
   "execution_count": 4,
   "metadata": {},
   "outputs": [],
   "source": [
    "let inline shape (dims:int seq) : NDShape = NDShape.CreateNDShape dims\n",
    "let dataType = CNTK.DataType.Double\n",
    "let feature = Variable.InputVariable(shape [|featureCount|], dataType, \"Features\")"
   ]
  },
  {
   "cell_type": "markdown",
   "metadata": {},
   "source": [
    "## Network setup"
   ]
  },
  {
   "cell_type": "code",
   "execution_count": 5,
   "metadata": {},
   "outputs": [],
   "source": [
    "let initialization = CNTKLib.GlorotUniformInitializer()\n",
    "let index = System.Collections.Generic.Dictionary<string, obj>()\n",
    "let linearLayer (inputVar : Variable) outputDim =\n",
    "    let inputDim = inputVar.Shape.[0] \n",
    "    let weightParam = new Parameter(shape [inputDim; outputDim], dataType, initialization, device, \"Weights\")\n",
    "    let biasParam = new Parameter(shape [outputDim], dataType, initialization, device, \"Bias\")    \n",
    "    \n",
    "    index.Add(\"Weights\", weightParam)\n",
    "    index.Add(\"Bias\", biasParam)\n",
    "    \n",
    "    let dotProduct =  CNTKLib.Times(inputVar, weightParam, \"Weighted input\")\n",
    "    let layer = CNTKLib.Plus(new Variable(dotProduct), biasParam, \"Layer\")\n",
    "    \n",
    "    layer\n",
    "\n",
    "let z = linearLayer feature labelCount"
   ]
  },
  {
   "cell_type": "markdown",
   "metadata": {},
   "source": [
    "## Training"
   ]
  },
  {
   "cell_type": "code",
   "execution_count": null,
   "metadata": {},
   "outputs": [],
   "source": [
    "\"\\\\textbf{p}=softmax(z)\" |> Util.Math"
   ]
  },
  {
   "cell_type": "code",
   "execution_count": null,
   "metadata": {},
   "outputs": [],
   "source": [
    "\"H(p)=-\\sum_{j=1}^{|y|}y_j log(p_j)\" |> Util.Math"
   ]
  },
  {
   "cell_type": "code",
   "execution_count": 6,
   "metadata": {},
   "outputs": [],
   "source": [
    "let label = Variable.InputVariable(shape [labelCount], dataType, \"output\")\n",
    "let loss = CNTKLib.CrossEntropyWithSoftmax(new Variable(z), label)"
   ]
  },
  {
   "cell_type": "markdown",
   "metadata": {},
   "source": [
    "## Evaluation"
   ]
  },
  {
   "cell_type": "code",
   "execution_count": 7,
   "metadata": {},
   "outputs": [],
   "source": [
    "let evalError = CNTKLib.ClassificationError(new Variable(z), label)"
   ]
  },
  {
   "cell_type": "markdown",
   "metadata": {},
   "source": [
    "## Configure training"
   ]
  },
  {
   "cell_type": "code",
   "execution_count": 8,
   "metadata": {},
   "outputs": [],
   "source": [
    "// Instantiate the trainer object to drive the model training\n",
    "let parVec (pars:Parameter seq) = \n",
    "    let vector = new ParameterVector()\n",
    "    pars |> Seq.iter (vector.Add)\n",
    "    vector\n",
    "\n",
    "let learningRate = 0.5\n",
    "let lrSchedule = new CNTK.TrainingParameterScheduleDouble(learningRate, uint32 CNTK.DataUnit.Minibatch)"
   ]
  },
  {
   "cell_type": "code",
   "execution_count": 9,
   "metadata": {
    "scrolled": true
   },
   "outputs": [
    {
     "name": "stderr",
     "output_type": "stream",
     "text": [
      "Expression evaluation failed: External component has thrown an exception.\r\n",
      "SEHExceptionExternal component has thrown an exception.\r\n",
      "   at CNTK.CNTKLibPINVOKE.SGDLearner__SWIG_1(HandleRef jarg1, HandleRef jarg2)\r\n",
      "   at CNTK.CNTKLib.SGDLearner(ParameterVector parameters, TrainingParameterScheduleDouble learningRateSchedule)\r\n",
      "   at <StartupCode$FSI_0015>.$FSI_0015.main@() in C:\\Users\\arist.CTEAMTHES\\source\\repos\\DS-AI\\IfCntk\\input.fsx:line 1\r\n"
     ]
    }
   ],
   "source": [
    "let learner = CNTKLib.SGDLearner(z.Parameters() |> parVec, lrSchedule)\n",
    "let trainer = CNTK.Trainer.CreateTrainer(z, loss, evalError, ResizeArray<CNTK.Learner>([learner]))"
   ]
  },
  {
   "cell_type": "code",
   "execution_count": null,
   "metadata": {},
   "outputs": [],
   "source": []
  }
 ],
 "metadata": {
  "kernelspec": {
   "display_name": "F#",
   "language": "fsharp",
   "name": "ifsharp"
  },
  "language": "fsharp",
  "language_info": {
   "codemirror_mode": "",
   "file_extension": ".fs",
   "mimetype": "text/x-fsharp",
   "name": "fsharp",
   "nbconvert_exporter": "",
   "pygments_lexer": "",
   "version": "4.3.1.0"
  }
 },
 "nbformat": 4,
 "nbformat_minor": 2
}
