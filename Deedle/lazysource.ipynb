
 {
 "cells": [{
        "cell_type": "markdown",
        "metadata": {},
        "source": [
            "(*** hide ***)"
        ]
        
    }, {
        "cell_type": "code",
        "metadata": {},
        "source": [
            "\n#load \"../../bin/net45/Deedle.fsx\"\nopen System\n\n"
        ]
        ,"execution_count": null,"outputs": []
    }, {
        "cell_type": "markdown",
        "metadata": {},
        "source": [
            "(**\nCreating lazily loaded series\n=============================\n\nWhen loading data from an external data source (such as a database), you might\nwant to create a _virtual_ time series that represents the data source, but \ndoes not actually load the data until needed. If you apply some range restriction\n(like slicing) to the data series before using the values, then it is not \nnecessary to load the entire data set into memory.\n\nDeedle supports lazy loading through the `DelayedSeries.FromValueLoader` \nmethod. It returns an ordinary data series of type `Series<K, V>` which has a \ndelayed internal representation.\n\n## Creating lazy series\n\nWe will not use a real database in this tutorial, but let's say that you have the\nfollowing function which loads data for a given day range: \n*)"
        ]
        
    }, {
        "cell_type": "code",
        "metadata": {},
        "source": [
            "\nopen Deedle\n\n/// Given a time range, generates random values for dates (at 12:00 AM)\n/// starting with the day of the first date time and ending with the \n/// day after the second date time (to make sure they are in range)\nlet generate (low:DateTime) (high:DateTime) =\n  let rnd = Random()\n  let days = int (high.Date - low.Date).TotalDays + 1\n  seq { for d in 0 .. days -> \n          KeyValue.Create(low.Date.AddDays(float d), rnd.Next()) }\n\n"
        ]
        ,"execution_count": null,"outputs": []
    }, {
        "cell_type": "markdown",
        "metadata": {},
        "source": [
            "(**\nUsing random numbers as the source in this example is not entirely correct, because\nit means that we will get different values each time a new sub-range of the series\nis required - but it will suffice for the demonstration.\n\nNow, to create a lazily loaded series, we need to open the `Indices` namespace,\nspecify the minimal and maximal value of the series and use `DelayedSeries.FromValueLoader`:\n*)"
        ]
        
    }, {
        "cell_type": "code",
        "metadata": {},
        "source": [
            "\nopen Deedle.Indices\n\n// Minimal and maximal values that can be loaded from the series\nlet min, max = DateTime(2010, 1, 1), DateTime(2013, 1, 1)\n\n// Create a lazy series for the given range\nlet ls = DelayedSeries.FromValueLoader(min, max, fun (lo, lob) (hi, hib) -> async { \n    printfn \"Query: %A - %A\" (lo, lob) (hi, hib)\n    return generate lo hi })\n\n"
        ]
        ,"execution_count": null,"outputs": []
    }, {
        "cell_type": "markdown",
        "metadata": {},
        "source": [
            "(**\nTo make the diagnostics easier, we print the required range whenever a request\nis made. After running this code, you should not see any output yet.\nThe parameter to `DelayedSeries.FromValueLoader` is a function that takes 4 arguments:\n\n  - `lo` and `hi` specify the low and high boundaries of the range. Their\n    type is the type of the key (e.g. `DateTime` in our example)\n  - `lob` and `hib` are values of type `BoundaryBehavior` and can be either\n    `Inclusive` or `Exclusive`. They specify whether the boundary value should\n    be included or not.\n\nOur sample function does not handle boundaries correctly - it always includes the\nboundary (and possibly more values). This is not a problem, because the lazy loader\nautomatically skips over such values. But if you want, you can use `lob` and `hib` \nparameters to build a more optimal SQL query.\n\n## Using un-evaluated series\n\nLet's now have a look at the operations that we can perform on un-evaluated series.\nAny operation that actually accesses values or keys of the series (such as `Series.observations`\nor lookup for a specific key) will force the evaluation of the series.\n\nHowever, we can use range restrictions before accessing the data:\n*)"
        ]
        
    }, {
        "cell_type": "code",
        "metadata": {},
        "source": [
            "\n// Get series representing January 2012\nlet jan12 = ls.[DateTime(2012, 1, 1) .. DateTime(2012, 2, 1)]\n\n// Further restriction - only first half of the month\nlet janHalf = jan12.[.. DateTime(2012, 1, 15)]\n\n// Get value for a specific date\njanHalf.[DateTime(2012, 1, 1)]\n// [fsi: Query: (1/1/2012, Inclusive) - (1/15/2012, Inclusive)]\n// [fsi: val it : int = 1127670994]\n\njanHalf.[DateTime(2012, 1, 2)]\n// [fsi: val it : int = 560920727]\n"
        ]
        ,"execution_count": null,"outputs": []
    }, {
        "cell_type": "markdown",
        "metadata": {},
        "source": [
            "(**\nAs you can see from the output on line 9, the series obtained data for the\n15 day range that we created by restricting the original series. When we requested\nanother value within the specified range, it was already available and it was\nreturned immediately. Note that `janHalf` is restricted to the specified 15 day\nrange, so we cannot access values outside of the range. Also, when you access a single\nvalue, entire series is loaded. The motivation is that you probably need to access\nmultiple values, so it is likely cheaper to load the whole series.\n\nAnother operation that can be performed on an unevaluated series is to add it\nto a data frame with some existing key range:\n*)"
        ]
        
    }, {
        "cell_type": "code",
        "metadata": {},
        "source": [
            "\n\n// Create empty data frame for days of December 2011\nlet dec11 = Frame.ofRowKeys [ for d in 1 .. 31 -> DateTime(2011, 12, d) ]\n\n// Add series as the 'Values' column to the data frame\ndec11?Values <- ls\n// [fsi: Query: (12/1/2011, Inclusive) - (12/31/2011, Inclusive)]\n\n"
        ]
        ,"execution_count": null,"outputs": []
    }, {
        "cell_type": "markdown",
        "metadata": {},
        "source": [
            "(**\nWhen adding lazy series to a data frame, the series has to be evaluated (so that\nthe values can be properly aligned) but it is first restricted to the range of the\ndata frame. In the above example, only one month of data is loaded.\n\n*)"
        ]
        
    }, {
        "cell_type": "code",
        "metadata": {},
        "source": [
            ""
        ]
        ,"execution_count": null,"outputs": []
    }],
 "metadata": {
  "kernelspec": {
   "display_name": "F#",
   "language": "fsharp",
   "name": "ifsharp"
  },
  "language": "fsharp",
  "language_info": {
   "codemirror_mode": "",
   "file_extension": ".fs",
   "mimetype": "text/x-fsharp",
   "name": "fsharp",
   "nbconvert_exporter": "",
   "pygments_lexer": "",
   "version": "4.3.1.0"
  }
 },
 "nbformat": 4,
 "nbformat_minor": 2
}
