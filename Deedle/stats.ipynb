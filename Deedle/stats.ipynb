
 {
 "cells": [{
        "cell_type": "markdown",
        "metadata": {},
        "source": [
            "(*** hide ***)"
        ]
        
    }, {
        "cell_type": "code",
        "metadata": {},
        "source": [
            "\n#load \"../../bin/net45/Deedle.fsx\"\n#load \"../../packages/FSharp.Charting/lib/net45/FSharp.Charting.fsx\"\nopen System\nopen System.Globalization\nopen System.IO\nopen FSharp.Data\nopen Deedle\nopen FSharp.Charting\nlet root = __SOURCE_DIRECTORY__ + \"/data/\"\n\n"
        ]
        ,"execution_count": null,"outputs": []
    }, {
        "cell_type": "markdown",
        "metadata": {},
        "source": [
            "(**\nCalculating frame and series statistics\n=======================================\n\nThe `Stats` type contains functions for fast calculation of statistics over\nseries and frames as well as over a moving and an expanding window in a series. \nThe standard statistical functions that are available in the `Stats` type \nare overloaded and can be applied to both data frames and series. More advanced\nfunctionality is available only for series (but can be applied to frame columns\neasily using the `Frame.getNumericCols` function.\n\n<a name=\"stats\"></a>\nSeries and frame statistics\n---------------------------\n\nIn this section, we look at calculating simple statistics over data frame and\nseries. An important aspect is handling of missing values, so we demonstrate that\nusing a data set about air quality that contains missing values. The following\nsnippet loads `airquality.csv` and shows the values in the `Ozone` column:\n*)"
        ]
        
    }, {
        "cell_type": "code",
        "metadata": {},
        "source": [
            "\nlet air = Frame.ReadCsv(root + \"airquality.csv\", separators=\";\")\nlet ozone = air?Ozone\n"
        ]
        ,"execution_count": null,"outputs": []
    }, {
        "cell_type": "markdown",
        "metadata": {},
        "source": [
            "(*** include-value: ozone ***)"
        ]
        
    }, {
        "cell_type": "markdown",
        "metadata": {},
        "source": [
            "\n\n(**\n### Series statistics\n\nGiven a series `ozone`, we can use a number of `Stats` functions to calculate \nstatistics. The following example creates a series (indexed by strings) that\nstores mean extremes and median of the input series:\n*)"
        ]
        
    }, {
        "cell_type": "markdown",
        "metadata": {},
        "source": [
            "\n\n(*** define-output: ozinfo ***)"
        ]
        
    }, {
        "cell_type": "code",
        "metadata": {},
        "source": [
            "\nseries [\n  \"Mean\" => round (Stats.mean ozone)\n  \"Max\" => Stats.max ozone\n  \"Min\" => Stats.min ozone\n  \"Median\" => Stats.median ozone ]\n\n"
        ]
        ,"execution_count": null,"outputs": []
    }, {
        "cell_type": "markdown",
        "metadata": {},
        "source": [
            "(*** include-it: ozinfo ***)"
        ]
        
    }, {
        "cell_type": "markdown",
        "metadata": {},
        "source": [
            "\n\n(**\nTo make the output simpler, we round the value of the mean (although the result is\na floating point number). Note that the value is calculated from the *available* values\nin the series. All of the statistical functions skip over missing values in the \ninput series.\n\nAs the above example demonstrates, `Stats.max` and `Stats.min` return `option<float>`\nrather than just `float`. The result value is `None` when the series contains no values.\nThis makes it possible to use the functions not just on floating point numbers, but\nalso on series of integers and other types. Other statistical functions such as \n`Stats.mean` return `nan` when no values are available.\n\n### Frame statistics\n\nFunctions such as `Stats.mean` can be called on series, but also on entire data frames.\nIn that case, they calculate the statistics for each column of a data frame and return\n`Series<'C, float>` where `'C` is the column key of the original frame. \n\nIn the following snippet, we calculate means and standard deviations of all columns of\nthe `air` data set and build a frame that shows the values (series) in two columns:\n*)"
        ]
        
    }, {
        "cell_type": "markdown",
        "metadata": {},
        "source": [
            "\n(*** define-output: airinfo ***)"
        ]
        
    }, {
        "cell_type": "code",
        "metadata": {},
        "source": [
            "\nlet info = \n  [ \"Min\" => Stats.min air\n    \"Max\" => Stats.max air\n    \"Mean\" => Stats.mean air\n    \"+/-\" => Stats.stdDev air ] |> frame\n"
        ]
        ,"execution_count": null,"outputs": []
    }, {
        "cell_type": "markdown",
        "metadata": {},
        "source": [
            "(*** include-value: round(info*100.0)/100.0 ***)"
        ]
        
    }, {
        "cell_type": "markdown",
        "metadata": {},
        "source": [
            "\n\n(**\nMissing values are handled in the same way as when calculating statistics of a series\nand are skipped. If this is not desirable, you can use functions from the [Series \nmodule](reference/deedle-seriesmodule.html) for working with missing values to treat \nmissing values in different ways.\n\nThe `Stats` module provides basic statistical functionality such as mean, standard\ndeviation and variance, but also more advanced functions including skewness and kurtosis.\nYou can find a complete list in the [Series statistics](reference/deedle-stats.html#section5)\nand [Frame statistics](reference/deedle-stats.html#section1) sections of the API reference.\n\n<a name=\"moving\"></a>\nMoving window statistics\n------------------------\n\nThe `Stats` type provides an efficient implementation of moving window statistics. The\nimplementation uses an online algorithm so that it does not have to re-calculate the \nstatistics for each window separately, but instead updates the value as it iterates over\nthe input (and so this is faster than using `Series.window`). \n\nThe moving window function names are pre-fixed with the word `moving` and calculate moving\nstatistics over a window of a fixed length. The following example calculates means over a\nmoving window of length 3:\n*)"
        ]
        
    }, {
        "cell_type": "markdown",
        "metadata": {},
        "source": [
            "\n(*** define-output:mvmozone ***)"
        ]
        
    }, {
        "cell_type": "code",
        "metadata": {},
        "source": [
            "\nozone\n|> Stats.movingMean 3\n"
        ]
        ,"execution_count": null,"outputs": []
    }, {
        "cell_type": "markdown",
        "metadata": {},
        "source": [
            "(*** include-it:mvmozone ***)"
        ]
        
    }, {
        "cell_type": "markdown",
        "metadata": {},
        "source": [
            "\n\n(**\nThe keys of the resulting series are the same as the keys of the input series. Statistical\nmoving functions (count, sum, mean, variance, standard deviation, skewness and kurtosis)\nover a window of size _n_ always mark the first _n-1_ values with missing (i.e. they only\nperform the calculation over complete windows). This explains why the value associated with\nthe key _1_ is _N/A_. For the key _2_, the mean is calculated from all available values in \nthe window, which is: _(36+12)/2_.\n\nThe boundary behavior of the functions that calculate minimum and maximum over a moving window\ndiffers. Rather than returning _N/A_ for the first _n-1_ values, they return the extreme \nvalue over a smaller window:\n*)"
        ]
        
    }, {
        "cell_type": "markdown",
        "metadata": {},
        "source": [
            "\n(*** define-output:mvxozone ***)"
        ]
        
    }, {
        "cell_type": "code",
        "metadata": {},
        "source": [
            "\nozone\n|> Stats.movingMin 3\n"
        ]
        ,"execution_count": null,"outputs": []
    }, {
        "cell_type": "markdown",
        "metadata": {},
        "source": [
            "(*** include-it:mvxozone ***)"
        ]
        
    }, {
        "cell_type": "markdown",
        "metadata": {},
        "source": [
            "\n\n(**\nHere, the first value is missing, because the one-element window containing just the first value\ncontains only missing values. However, the value for the key _1_, because the two-element window\n(starting from the beginning of the series) contains two elements.\n\n### Remarks\n\nThe windowing functions in the `Stats` type support an efficient calculations over a fixed-size\nwindows specified by the size of the window. They also provide one, fixed, boundary behavior.\nIf you need more complex windowing behavior (such as window based on the distance between keys), \ndifferent handling of boundaries, or chunking (calculation over adjacent chunks), you can use \nchunking and windowing functions from the `Series` module such as `Series.windowSizeInto` or\n`Series.chunkSizeInto`. For more information, see [Grouping, windowing and \nchunking](reference/deedle-seriesmodule.html#section1) section in the API reference.\n\n<a name=\"exp\"></a>\nExpanding windows\n-----------------\n\nExpanding window means that the window starts as a single-element sized window at the beginning\nof a series and expands as it moves over the series. For a time-series data ordered by time,\nthis gives you statistics calculated over all previous known observations. \nIn other words, the statistics is calculated for all values up to the current key and the \nresult is attached to the key at the end of the window. The expanding window functions are\nprefixed with `expanding`. \n\nThe following example demonstrates how to calculate expanding mean and expanding standard\ndeviation over the Ozone series. The resulting series has the same keys as the input series.\nHere, we align the two series using a frame, so that we can easily see the results aligned:\n*)"
        ]
        
    }, {
        "cell_type": "code",
        "metadata": {},
        "source": [
            "\nlet exp =\n  [ \"Ozone\" => ozone \n    \"Mean\" => Stats.expandingMean(ozone)\n    \"+/-\" => Stats.expandingStdDev(ozone) ] |> frame\n"
        ]
        ,"execution_count": null,"outputs": []
    }, {
        "cell_type": "markdown",
        "metadata": {},
        "source": [
            "(*** include-value:(round(exp*100.0))/100.0 ***)"
        ]
        
    }, {
        "cell_type": "markdown",
        "metadata": {},
        "source": [
            "\n\n(**\nAs the example illustrates, expanding window statistics typically returns a series that starts\nwith some missing values. Here, the first mean is missing (because one-element window contains\nno values) and the first two standard deviations are missing (`stdDev` is define only for two\nand more values). The only exception is `expandingSum`, because the sum of no elements is zero.\n\n<a name=\"multi\"></a>\nMulti-level indexed statistics\n------------------------------\n\nFor a series with multi-level (hierarchical) index, the functions prefixed with `level` provide \na way to apply statistical operation on a single level of the index. Series with multi-level \nindex can be created directly by using a tuple (such as `'K1 * 'K2`) as the key, or they can\nbe produced by a grouping operation such as `Frame.groupRowsBy`.\n\nFor example, you can create two-level index that represents time-series data with month as the\nfirst part of the key and day as the second part of the key. Then you can use multi-level\nstatistical functions to calculate means (and other statistics) for each month separately.\n\nThe following example demonstrates the idea - the `air` data set contains data for each\nday between May and September. We can create a frame with two-level row key using \n`Frame.indexRowsUsing` and returning a tuple as the index:\n*)"
        ]
        
    }, {
        "cell_type": "code",
        "metadata": {},
        "source": [
            "\nlet dateFormat = CultureInfo.CurrentCulture.DateTimeFormat\nlet byMonth = air |> Frame.indexRowsUsing (fun r ->\n    dateFormat.GetMonthName(r.GetAs(\"Month\")), r.GetAs<int>(\"Day\"))\n"
        ]
        ,"execution_count": null,"outputs": []
    }, {
        "cell_type": "markdown",
        "metadata": {},
        "source": [
            "(**\nThe type of the `byMonth` value is `Frame<string * int, string>` meaning that the row index\nhas two levels. To make the output a little nicer, we use the `GetMonthName` function to \nturn the first level of the index into a string representing the month name.\n\nWe can now access individual columns and calculate statistics over the \nfirst level (individual months) using functions prefixed with `level`:\n*)"
        ]
        
    }, {
        "cell_type": "markdown",
        "metadata": {},
        "source": [
            "\n\n(*** define-output:lvlozone ***)"
        ]
        
    }, {
        "cell_type": "code",
        "metadata": {},
        "source": [
            "\nbyMonth?Ozone\n|> Stats.levelMean fst\n"
        ]
        ,"execution_count": null,"outputs": []
    }, {
        "cell_type": "markdown",
        "metadata": {},
        "source": [
            "(*** include-it:lvlozone ***)"
        ]
        
    }, {
        "cell_type": "markdown",
        "metadata": {},
        "source": [
            "\n\n(**\nCurrently, the `Stats` type does not include a function that would let you apply multi-level\nstatistical functions on entire data frames, but this can easily be implemented using the\n`Frame.getNumericalCols` function and `Series.mapValues`:\n*)"
        ]
        
    }, {
        "cell_type": "markdown",
        "metadata": {},
        "source": [
            "\n(*** define-output:lvlall ***)"
        ]
        
    }, {
        "cell_type": "code",
        "metadata": {},
        "source": [
            "\nbyMonth\n|> Frame.sliceCols [\"Ozone\";\"Solar.R\";\"Wind\";\"Temp\"]\n|> Frame.getNumericCols\n|> Series.mapValues (Stats.levelMean fst)\n|> Frame.ofRows\n"
        ]
        ,"execution_count": null,"outputs": []
    }, {
        "cell_type": "markdown",
        "metadata": {},
        "source": [
            "(*** include-it:lvlall ***)"
        ]
        
    }, {
        "cell_type": "markdown",
        "metadata": {},
        "source": [
            "\n(**\nIf we used `Frame.getNumericCols` directly, we would also calculate the mean of \"Day\" and \n\"Month\" columns, which does not make much sense in this example. For that reason, the snippet\nfirst calls `sliceCols` to get only relevant columns.\n*)"
        ]
        
    }, {
        "cell_type": "code",
        "metadata": {},
        "source": [
            "\n"
        ]
        ,"execution_count": null,"outputs": []
    }],
 "metadata": {
  "kernelspec": {
   "display_name": "F#",
   "language": "fsharp",
   "name": "ifsharp"
  },
  "language": "fsharp",
  "language_info": {
   "codemirror_mode": "",
   "file_extension": ".fs",
   "mimetype": "text/x-fsharp",
   "name": "fsharp",
   "nbconvert_exporter": "",
   "pygments_lexer": "",
   "version": "4.3.1.0"
  }
 },
 "nbformat": 4,
 "nbformat_minor": 2
}
