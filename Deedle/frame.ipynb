
 {
 "cells": [{
        "cell_type": "markdown",
        "metadata": {},
        "source": [
            "(*** hide ***)"
        ]
        
    }, {
        "cell_type": "code",
        "metadata": {},
        "source": [
            "\n#I \"../../packages/FSharp.Data/lib/net45\"\n#r \"FSharp.Data.dll\"\nignore <| FSharp.Data.WorldBankData.GetDataContext() // Force fsi to load F# Data (required on Mono)\n\n#load \"../../bin/net45/Deedle.fsx\"\nopen System\nopen System.IO\nopen FSharp.Data\nopen Deedle\n\nlet root = __SOURCE_DIRECTORY__ + \"/data/\"\n\n"
        ]
        ,"execution_count": null,"outputs": []
    }, {
        "cell_type": "markdown",
        "metadata": {},
        "source": [
            "(**\nWorking with data frames in F#\n==============================\n\nIn this section, we look at various features of the F# data frame library (using both\n`Series` and `Frame` types and modules). Feel free to jump to the section you are interested\nin, but note that some sections refer back to values built in \"Creating & loading\".\n\nYou can also get this page as an [F# script file](https://github.com/fslaborg/Deedle/blob/master/docs/content/frame.fsx)\nfrom GitHub and run the samples interactively.\n\n<a name=\"creating\"></a>\nCreating frames & loading data\n------------------------------\n\n<a name=\"creating-csv\"></a>\n### Loading and saving CSV files\n\nThe easiest way to get data into data frame is to use a CSV file. The `Frame.ReadCsv`\nfunction exposes this functionality:\n*)"
        ]
        
    }, {
        "cell_type": "code",
        "metadata": {},
        "source": [
            "\n\n// Assuming 'root' is a directory containing the file\nlet titanic = Frame.ReadCsv(root + \"titanic.csv\")\n\n// Read data and set the index column & order rows\nlet msft = \n  Frame.ReadCsv(root + \"stocks/msft.csv\") \n  |> Frame.indexRowsDate \"Date\"\n  |> Frame.sortRowsByKey\n\n// Specify column separator\nlet air = Frame.ReadCsv(root + \"airquality.csv\", separators=\";\")\n"
        ]
        ,"execution_count": null,"outputs": []
    }, {
        "cell_type": "markdown",
        "metadata": {},
        "source": [
            "(**\nIn the second example, we call `indexRowsDate` to use the \"Date\" column as a row index\nof the resulting data frame. This is a very common scenario and so Deedle provides an\neasier option using a generic overload of the `ReadCsv` method:\n*)"
        ]
        
    }, {
        "cell_type": "code",
        "metadata": {},
        "source": [
            "\nlet msftSimpler = \n  Frame.ReadCsv<DateTime>(root + \"stocks/msft.csv\", indexCol=\"Date\") \n  |> Frame.sortRowsByKey\n"
        ]
        ,"execution_count": null,"outputs": []
    }, {
        "cell_type": "markdown",
        "metadata": {},
        "source": [
            "(**\nThe `ReadCsv` method has a number of optional arguments that you can use to control \nthe loading. It supports both CSV files, TSV files and other formats. If the file name\nends with `tsv`, the Tab is used automatically, but you can set `separator` explicitly.\nThe following parameters can be used:\n\n * `path` - Specifies a file name or an web location of the resource.\n * `indexCol` - Specifies the column that should be used as an index in the \n   resulting frame. The type is specified via a type parameter.\n * `inferTypes` - Specifies whether the method should attempt to infer types\n   of columns automatically (set this to `false` if you want to specify schema)\n * `inferRows` - If `inferTypes=true`, this parameter specifies the number of\n   rows to use for type inference. The default value is 0, meaninig all rows.\n * `schema` - A string that specifies CSV schema. See the documentation for \n   information about the schema format.\n * `separators` - A string that specifies one or more (single character) separators\n   that are used to separate columns in the CSV file. Use for example `\";\"` to \n   parse semicolon separated files.\n * `culture` - Specifies the name of the culture that is used when parsing \n   values in the CSV file (such as `\"en-US\"`). The default is invariant culture. \n\nThe parameters are the same as those used by the [CSV type provider in F# Data](http://fsharp.github.io/FSharp.Data/library/CsvProvider.html),\nso you can find additional documentation there.\n\nOnce you have a data frame, you can also save it to a CSV file using the \n`SaveCsv` method. For example:\n*)"
        ]
        
    }, {
        "cell_type": "code",
        "metadata": {},
        "source": [
            "\n// Save CSV with semicolon separator\nair.SaveCsv(Path.GetTempFileName(), separator=';')\n// Save as CSV and include row key as \"Date\" column\nmsft.SaveCsv(Path.GetTempFileName(), keyNames=[\"Date\"], separator='\t')\n\n"
        ]
        ,"execution_count": null,"outputs": []
    }, {
        "cell_type": "markdown",
        "metadata": {},
        "source": [
            "(**\nBy default, the `SaveCsv` method does not include the key from the data frame. This can be\noverriden by calling `SaveCsv` with the optional argument `includeRowKeys=true`, or with an\nadditional argument `keyNames` (demonstrated above) which sets the headers for the key columns(s)\nin the CSV file. Usually, there is just a single row key, but there may be multiple when \n[hierarchical indexing](#indexing) is used.\n\n<a name=\"creating-recd\"></a>\n### Loading F# records or .NET objects\n\nIf you have another .NET or F# components that returns data as a sequence of F# records,\nC# anonymous types or other .NET objects, you can use `Frame.ofRecords` to turn them\ninto a data frame. Assume we have:\n*)"
        ]
        
    }, {
        "cell_type": "code",
        "metadata": {},
        "source": [
            "\ntype Person = \n  { Name:string; Age:int; Countries:string list; }\n\nlet peopleRecds = \n  [ { Name = \"Joe\"; Age = 51; Countries = [ \"UK\"; \"US\"; \"UK\"] }\n    { Name = \"Tomas\"; Age = 28; Countries = [ \"CZ\"; \"UK\"; \"US\"; \"CZ\" ] }\n    { Name = \"Eve\"; Age = 2; Countries = [ \"FR\" ] }\n    { Name = \"Suzanne\"; Age = 15; Countries = [ \"US\" ] } ]\n"
        ]
        ,"execution_count": null,"outputs": []
    }, {
        "cell_type": "markdown",
        "metadata": {},
        "source": [
            "(**\nNow we can easily create a data frame that contains three columns \n(`Name`, `Age` and `Countries`) containing data of the same type as \nthe properties of `Person`:\n*)"
        ]
        
    }, {
        "cell_type": "code",
        "metadata": {},
        "source": [
            "\n// Turn the list of records into data frame \nlet peopleList = Frame.ofRecords peopleRecds\n// Use the 'Name' column as a key (of type string)\nlet people = peopleList |> Frame.indexRowsString \"Name\"\n\n"
        ]
        ,"execution_count": null,"outputs": []
    }, {
        "cell_type": "markdown",
        "metadata": {},
        "source": [
            "(**\nNote that this does not perform any conversion on the column data. Numerical series\ncan be accessed using the `?` operator. For other types, we need to explicitly call\n`GetColumn` with the right type arguments:\n*)"
        ]
        
    }, {
        "cell_type": "code",
        "metadata": {},
        "source": [
            "\npeople?Age\npeople.GetColumn<string list>(\"Countries\")\n\n"
        ]
        ,"execution_count": null,"outputs": []
    }, {
        "cell_type": "markdown",
        "metadata": {},
        "source": [
            "(**\n<a name=\"creating-wb\"></a>\n### F# Data providers\n\nIn general, you can use any data source that exposes data as series of tuples. This\nmeans that we can easily load data using, for example, the World Bank type provider \nfrom [F# Data library](https://github.com/fsharp/FSharp.Data).\n*)"
        ]
        
    }, {
        "cell_type": "code",
        "metadata": {},
        "source": [
            "\n// Connect to the World Bank\nlet wb = WorldBankData.GetDataContext()\n\n/// Given a region, load GDP in current LCU and return data as \n/// a frame with two-level column key (region and country name)\nlet loadRegion (region:WorldBankData.ServiceTypes.Region) =\n  [ for country in region.Countries -> \n      // Create two-level column key using tuple\n      (region.Name, country.Name) => \n        // Create series from tuples returned by WorldBank\n        Series.ofObservations country.Indicators.``GDP (current LCU)`` ]\n  |> frame\n\n"
        ]
        ,"execution_count": null,"outputs": []
    }, {
        "cell_type": "markdown",
        "metadata": {},
        "source": [
            "(**\nTo make data manipulation more convenient, we read country information per region\nand create data frame with a hierarchical index (for more information, see the\n[advanced indexing section](#indexing)). Now we can easily read data for OECD and\nEuro area:\n*)"
        ]
        
    }, {
        "cell_type": "code",
        "metadata": {},
        "source": [
            "\n// Load Euro and OECD regions\nlet eu = loadRegion wb.Regions.``Euro area``\nlet oecd = loadRegion wb.Regions.``OECD members``\n\n// Join and convert to billions \nlet world = eu.Join(oecd) / 1e9\n\n"
        ]
        ,"execution_count": null,"outputs": []
    }, {
        "cell_type": "markdown",
        "metadata": {},
        "source": [
            "(*** include-value:(round (world*100.0))/100.0 ***)"
        ]
        
    }, {
        "cell_type": "markdown",
        "metadata": {},
        "source": [
            "\n\n(**\nThe loaded data look something like the sample above. As you can see, the columns\nare grouped by the region and some data are not available.\n\n### Expanding objects in columns\n\nIt is possible to create data frames that contain other .NET objects as members in a \nseries. This might be useful, for example, when you get multiple data sources producing\nobjects and you want to align or join them before working with them. However, working\nwith frames that contain complex .NET objects is less conveninet.\n\nFor this reason, the data frame supports _expansion_. Given a data frame with some object\nin a column, you can use `Frame.expandCols` to create a new frame that contains properties\nof the object as new columns. For example: \n*)"
        ]
        
    }, {
        "cell_type": "markdown",
        "metadata": {},
        "source": [
            "\n\n(*** define-output:ppl ***)"
        ]
        
    }, {
        "cell_type": "code",
        "metadata": {},
        "source": [
            "\n// Create frame with single column 'People'\nlet peopleNested = \n  [ \"People\" => Series.ofValues peopleRecds ] |> frame\n\n// Expand the 'People' column\npeopleNested |> Frame.expandCols [\"People\"]\n"
        ]
        ,"execution_count": null,"outputs": []
    }, {
        "cell_type": "markdown",
        "metadata": {},
        "source": [
            "(*** include-it:ppl ***)"
        ]
        
    }, {
        "cell_type": "markdown",
        "metadata": {},
        "source": [
            "\n\n(**\nAs you can see, the operation generates columns based on the properties of the original \ncolumn type and generates new names by prefixing the property names with the name of the\noriginal column.\n\nAside from properties of .NET objects, the expansion can also handle values of type\n`IDictionary<K, V>` and series that contain nested series with `string` keys \n(i.e. `Series<string, T>`). If you have more complex structure, you can use\n`Frame.expandAllCols` to expand columns to a specified level recursively:\n\n*)"
        ]
        
    }, {
        "cell_type": "code",
        "metadata": {},
        "source": [
            "\n// Series that contains dictionaries, containing tuples\nlet tuples = \n  [ dict [\"A\", box 1; \"C\", box (2, 3)]\n    dict [\"B\", box 1; \"C\", box (3, 4)] ] \n  |> Series.ofValues\n\n// Expand dictionary keys (level 1) and tuple items (level 2)\nframe [\"Tuples\" => tuples]\n|> Frame.expandAllCols 2\n"
        ]
        ,"execution_count": null,"outputs": []
    }, {
        "cell_type": "markdown",
        "metadata": {},
        "source": [
            "(**\nHere, the resulting data frame will have 4 columns including\n`Tuples.A` and `Tuples.B` (for the first keys) and `Tuples.C.Item1`\ntogether with `Tuples.C.Item2` representing the two items of the tuple\nnested in a dictionary.\n\n<a name=\"dataframe\"></a>\nManipulating data frames\n------------------------\n\nThe series type `Series<K, V>` represents a series with keys of type `K` and values\nof type `V`. This means that when working with series, the type of values is known \nstatically. When working with data frames, this is not the case - a frame is represented\nas `Frame<R, C>` where `R` and `C` are the types of row and column indices, respectively\n(typically, `R` will be an `int` or `DateTime` and `C` will be `string` representing \ndifferent column/series names. \n\nA frame can contain heterogeneous data. One column may contain integers, another may\ncontain floating point values and yet another can contain strings, dates or other objects\nlike lists of strings. This information is not captured statically - and so when working\nwith frames, you may need to specify the type explicitly, for example, when reading\na series from a frame.\n\n### Getting data from a frame\n\nWe'll use the data frame `people` which contains three columns - `Name` of type `string`,\n`Age` of type `int` and `Countries` of type `string list` (we created it from F# records\nin [the previous section](#creating-recd)):\n\n*)"
        ]
        
    }, {
        "cell_type": "markdown",
        "metadata": {},
        "source": [
            "\n(*** include-value:people ***)"
        ]
        
    }, {
        "cell_type": "markdown",
        "metadata": {},
        "source": [
            "\n(**\nTo get a column (series) from a frame `df`, you can use operations that are exposed directly\nby the data frame, or you can use `df.Columns` which returns all columns of the frame as a\nseries of series.\n*)"
        ]
        
    }, {
        "cell_type": "code",
        "metadata": {},
        "source": [
            "\n\n// Get the 'Age' column as a series of 'float' values\n// (the '?' operator converts values automatically)\npeople?Age\n// Get the 'Countries' column as a series of 'string list' values\npeople.GetColumn<string list>(\"Countries\")\n// Get all frame columns as a series of series\npeople.Columns\n\n"
        ]
        ,"execution_count": null,"outputs": []
    }, {
        "cell_type": "markdown",
        "metadata": {},
        "source": [
            "(**\nA series `s` of type `Series<string, V>` supports the question mark operator `s?Foo` to get\na value of type `V` associated with the key `Foo`. For other key types, you can sue the `Get` \nmethod. Note that, unlike with frames, there is no implicit conversion:\n*)"
        ]
        
    }, {
        "cell_type": "code",
        "metadata": {},
        "source": [
            "\n// Get Series<string, float> \nlet numAges = people?Age\n\n// Get value using question mark\nnumAges?Tomas\n// Get value using 'Get' method\nnumAges.Get(\"Tomas\")\n// Returns missing when key is not found\nnumAges.TryGet(\"Fridrich\")\n\n"
        ]
        ,"execution_count": null,"outputs": []
    }, {
        "cell_type": "markdown",
        "metadata": {},
        "source": [
            "(**\nThe question mark operator and `Get` method can be used on the `Columns` property of data frame.\nThe return type of `df?Columns` is `ColumnSeries<string, string>` which is just a thin wrapper\nover `Series<C, ObjectSeries<R>>`. This means that you get back a series indexed by column names\nwhere the values are `ObjectSeries<R>` representing individual columns. The type\n`ObjectSeries<R>` is a thin wrapper over `Series<R, obj>` which adds several functions \nfor getting the values as values of specified type.\n\nIn our case, the returned values are individual columns represented as `ObjectSeries<string>`:\n*)"
        ]
        
    }, {
        "cell_type": "code",
        "metadata": {},
        "source": [
            "\n// Get column as an object series\npeople.Columns?Age\npeople.Columns?Countries\n// [fsi:val it : ObjectSeries<string> =]\n// [fsi:  Joe     -> [UK; US; UK]       ]\n// [fsi:  Tomas   -> [CZ; UK; US; ... ] ]\n// [fsi:  Eve     -> [FR]               ]\n// [fsi:  Suzanne -> [US]]\n\n// Get column & try get column using members\npeople.Columns.Get(\"Countries\")\npeople.Columns.TryGet(\"CreditCard\")\n// Get column at a specified offset\npeople.Columns.GetAt(0)\n\n// Get column as object series and convert it\n// to a typed Series<string, string>\npeople.Columns?Age.As<int>()\n// Try converting column to Series<string, string>\npeople.Columns?Age.TryAs<string>()\n"
        ]
        ,"execution_count": null,"outputs": []
    }, {
        "cell_type": "markdown",
        "metadata": {},
        "source": [
            "(**\nThe type `ObjectSeries<string>` has a few methods in addition to ordinary `Series<K, V>` type.\nOn the lines 18 and 20, we use `As<T>` and `TryAs<T>` that can be used to convert object series\nto a series with statically known type of values. The expression on line 18 is equivalent to\n`people.GetColumn<obj>(\"Age\")`, but it is not specific to frame columns - you can use the\nsame approach to work with frame rows (using `people.Rows`) if your data set has rows of \nhomogeneous types.\n\nAnother case where you'll need to work with `ObjectSeries<T>` is when mapping over rows:\n*)"
        ]
        
    }, {
        "cell_type": "code",
        "metadata": {},
        "source": [
            "\n// Iterate over rows and get the length of country list\npeople.Rows |> Series.mapValues (fun row ->\n  row.GetAs<string list>(\"Countries\").Length)\n\n"
        ]
        ,"execution_count": null,"outputs": []
    }, {
        "cell_type": "markdown",
        "metadata": {},
        "source": [
            "(**\nThe rows that you get as a result of `people.Rows` are heterogeneous (they contain values\nof different types), so we cannot use `row.As<T>()` to convert all values of the series\nto some type. Instead, we use `GetAs<T>(...)` which is similar to `Get(...)` but converts\nthe value to a given type. You could also achieve the same thing by writing `row?Countries` \nand then casting the result to `string list`, but the `GetAs` method provides a more convenient\nsyntax.\n\n### Typed access to rows\n\nAccessing columns using `ObjectSeries<T>` is fine for simple tasks, but it has two problems.\nFirst, it is not type-safe and you can easily get a runtime exception if you specify wrong\ntype. Second, it involves boxing and unboxing and so it may be inefficient.\n\nTo address these two issues, Deedle provides another alternative. You can specify an _interface_\nthat defines the types of columns once and then use this interface to get a series of rows\nwhere every row is an instance of the interface:\n*)"
        ]
        
    }, {
        "cell_type": "code",
        "metadata": {},
        "source": [
            "\n/// Expected columns & their types in a row\ntype IPerson = \n  abstract Age : int\n  abstract Countries : string list\n\n// Get rows as series of 'IPerson' values\nlet rows = people.GetRowsAs<IPerson>()\nrows.[\"Tomas\"].Countries \n"
        ]
        ,"execution_count": null,"outputs": []
    }, {
        "cell_type": "markdown",
        "metadata": {},
        "source": [
            "(**\nYou still need to be careful and define the types in the `IPerson` interface correctly, but\nonce the `GetRowsAs<IPerson>` call returns a value, you will be able to access the rows in\na nice typed way. Alternatively, you can also specify the type with `OptionalValue<T>`, in \ncase you want to explicitly handle missing values.\n*)"
        ]
        
    }, {
        "cell_type": "code",
        "metadata": {},
        "source": [
            "\n/// Alternative that lets us handle missing 'Age' values\ntype IPersonOpt = \n  abstract Age : OptionalValue<int>\n  abstract Countries : string list\n"
        ]
        ,"execution_count": null,"outputs": []
    }, {
        "cell_type": "markdown",
        "metadata": {},
        "source": [
            "(**\n### Adding rows and columns\n\nThe series type is _immutable_ and so it is not possible to add new values to a series or \nchange the values stored in an existing series. However, you can use operations that return\na new series as the result such as `Merge`.\n*)"
        ]
        
    }, {
        "cell_type": "code",
        "metadata": {},
        "source": [
            "\n\n// Create series with more value\nlet more = series [ \"John\" => 48.0 ]\n// Create a new, concatenated series\npeople?Age.Merge(more)\n\n"
        ]
        ,"execution_count": null,"outputs": []
    }, {
        "cell_type": "markdown",
        "metadata": {},
        "source": [
            "(**\nData frame allows a very limited form of mutation. It is possible to add new series (as a column)\nto an existing data frame, drop a series or replace a series. However, individual series\nare still immutable.\n*)"
        ]
        
    }, {
        "cell_type": "code",
        "metadata": {},
        "source": [
            "\n// Calculate age + 1 for all people\nlet add1 = people?Age |> Series.mapValues ((+) 1.0)\n\n// Add as a new series to the frame\npeople?AgePlusOne <- add1\n\n// Add new series from a list of values\npeople?Siblings <- [0; 2; 1; 3]\n\n// Replace existing series with new values\n// (Equivalent to people?Siblings <- ...)\npeople.ReplaceColumn(\"Siblings\", [3; 2; 1; 0])\n\n"
        ]
        ,"execution_count": null,"outputs": []
    }, {
        "cell_type": "markdown",
        "metadata": {},
        "source": [
            "(**\nFinally, it is also possible to append one data frame or a single row to an existing data\nframe. The operation is immutable, so the result is a new data frame with the added\nrows. To create a new row for the data frame, we can use standard ways of constructing\nseries from key-value pairs, or we can use the `SeriesBuilder` type:\n*)"
        ]
        
    }, {
        "cell_type": "code",
        "metadata": {},
        "source": [
            "\n\n// Create new object series with values for required columns\nlet newRow = \n  [ \"Name\" => box \"Jim\"; \"Age\" => box 51;\n    \"Countries\" => box [\"US\"]; \"Siblings\" => box 5 ]\n  |> series\n// Create a new data frame, containing the new series\npeople.Merge(\"Jim\", newRow)\n\n// Another option is to use mutable SeriesBuilder\nlet otherRow = SeriesBuilder<string>()\notherRow?Name <- \"Jim\"\notherRow?Age <- 51\notherRow?Countries <- [\"US\"]\notherRow?Siblings <- 5\n// The Series property returns the built series\npeople.Merge(\"Jim\", otherRow.Series)\n\n\n"
        ]
        ,"execution_count": null,"outputs": []
    }, {
        "cell_type": "markdown",
        "metadata": {},
        "source": [
            "(**\n\n<a name=\"slicing\"></a>\nAdvanced slicing and lookup\n---------------------------\n\nGiven a series, we have a number of options for getting one or more values or \nobservations (keys and an associated values) from the series. First, let's look\nat different lookup operations that are available on any (even unordered series).\n*)"
        ]
        
    }, {
        "cell_type": "code",
        "metadata": {},
        "source": [
            "\n\n// Sample series with different keys & values\nlet nums = series [ 1 => 10.0; 2 => 20.0 ]\nlet strs = series [ \"en\" => \"Hi\"; \"cz\" => \"Ahoj\" ]\n\n// Lookup values using keys\nnums.[1]\nstrs.[\"en\"]\n// Supported when key is string\nstrs?en      \n\n"
        ]
        ,"execution_count": null,"outputs": []
    }, {
        "cell_type": "markdown",
        "metadata": {},
        "source": [
            "(**\nFor more examples, we use the `Age` column from [earlier data set](#creating-recd) as example:\n*)"
        ]
        
    }, {
        "cell_type": "code",
        "metadata": {},
        "source": [
            "\n\n// Get an unordered sample series \nlet ages = people?Age\n\n// Returns value for a given key\nages.[\"Tomas\"]\n// Returns series with two keys from the source\nages.[ [\"Tomas\"; \"Joe\"] ]\n\n"
        ]
        ,"execution_count": null,"outputs": []
    }, {
        "cell_type": "markdown",
        "metadata": {},
        "source": [
            "(**\nThe `Series` module provides another set of useful functions (many of those\nare also available as members, for example via `ages.TryGet`):\n*)"
        ]
        
    }, {
        "cell_type": "code",
        "metadata": {},
        "source": [
            "\n\n// Fails when key is not present\ntry ages |> Series.get \"John\" with _ -> nan\n// Returns 'None' when key is not present\nages |> Series.tryGet \"John\"\n// Returns series with missing value for 'John'\n// (equivalent to 'ages.[ [\"Tomas\"; \"John\"] ]')\nages |> Series.getAll [ \"Tomas\"; \"John\" ]\n\n"
        ]
        ,"execution_count": null,"outputs": []
    }, {
        "cell_type": "markdown",
        "metadata": {},
        "source": [
            "(**\nWe can also obtain all data from the series. The data frame library uses the\nterm _observations_ for all key-value pairs\n*)"
        ]
        
    }, {
        "cell_type": "code",
        "metadata": {},
        "source": [
            "\n\n// Get all observations as a sequence of 'KeyValuePair'\nages.Observations\n// Get all observations as a sequence of tuples\nages |> Series.observations\n// Get all observations, with 'None' for missing values\nages |> Series.observationsAll\n\n"
        ]
        ,"execution_count": null,"outputs": []
    }, {
        "cell_type": "markdown",
        "metadata": {},
        "source": [
            "(**\nThe previous examples were always looking for an exact key. If we have an ordered\nseries, we can search for a nearest available key and we can also perform slicing.\nWe use MSFT stock prices [from earlier example](#creating-csv):\n*)"
        ]
        
    }, {
        "cell_type": "code",
        "metadata": {},
        "source": [
            "\n\n// Get series with opening prices\nlet opens = msft?Open\n\n// Fails. The key is not available in the series\ntry opens.[DateTime(2013, 1, 1)] with e -> nan\n// Works. Find value for the nearest greater key\nopens.Get(DateTime(2013, 1, 1), Lookup.ExactOrSmaller)\n// Works. Find value for the nearest smaler key\nopens.Get(DateTime(2013, 1, 1), Lookup.ExactOrSmaller)\n\n"
        ]
        ,"execution_count": null,"outputs": []
    }, {
        "cell_type": "markdown",
        "metadata": {},
        "source": [
            "(**\nWhen using instance members, we can use `Get` which has an overload taking\n`Lookup`. The same functionality is exposed using `Series.lookup`. We can\nalso obtain values for a sequence of keys:\n*)"
        ]
        
    }, {
        "cell_type": "code",
        "metadata": {},
        "source": [
            "\n// Find value for the nearest greater key\nopens |> Series.lookup (DateTime(2013, 1, 1)) Lookup.ExactOrGreater\n\n// Get first price for each month in 2012\nlet dates = [ for m in 1 .. 12 -> DateTime(2012, m, 1) ]\nopens |> Series.lookupAll dates Lookup.ExactOrGreater\n\n"
        ]
        ,"execution_count": null,"outputs": []
    }, {
        "cell_type": "markdown",
        "metadata": {},
        "source": [
            "(**\nWith ordered series, we can use slicing to get a sub-range of a series:\n*)"
        ]
        
    }, {
        "cell_type": "markdown",
        "metadata": {},
        "source": [
            "\n\n(*** define-output:opens ***)"
        ]
        
    }, {
        "cell_type": "code",
        "metadata": {},
        "source": [
            "\nopens.[DateTime(2013, 1, 1) .. DateTime(2013, 1, 31)]\n|> Series.mapKeys (fun k -> k.ToShortDateString())\n\n"
        ]
        ,"execution_count": null,"outputs": []
    }, {
        "cell_type": "markdown",
        "metadata": {},
        "source": [
            "(*** include-it:opens ***)"
        ]
        
    }, {
        "cell_type": "markdown",
        "metadata": {},
        "source": [
            "\n\n(** \nThe slicing works even if the keys are not available in the series. The lookup\nautomatically uses nearest greater lower bound and nearest smaller upper bound\n(here, we have no value for January 1).\n\nSeveral other options - discussed in [a later section](#indexing) - are available when using\nhierarchical (or multi-level) indices. But first, we need to look at grouping.\n\n<a name=\"grouping\"></a>\nGrouping data\n-------------\n\nGrouping of data can be performed on both unordered and ordered series and frames.\nFor ordered series, more options (such as floating window or grouping of consecutive\nelements) are available - these can be found in the [time series tutorial](series.html).\nThere are essentially two options: \n\n - You can group series of any values and get a series of series (representing individual \n   groups). The result can easily be turned into a data frame using `Frame.ofColumns` or\n   `Frame.ofRows`, but this is not done automatically.\n\n - You can group a frame rows using values in a specified column, or using a function.\n   The result is a frame with multi-level (hierarchical) index. Hierarchical indexing\n   [is discussed later](#indexing).\n\nKeep in mind that you can easily get a series of rows or a series of columns from a frame\nusing `df.Rows` and `df.Columns`, so the first option is also useful on data frames.\n\n### Grouping series\n\nIn the following sample, we use the data frame `people` loaded from F# records in \n[an earlier section](#creating-recd). Let's first get the data:\n*)"
        ]
        
    }, {
        "cell_type": "code",
        "metadata": {},
        "source": [
            "\nlet travels = people.GetColumn<string list>(\"Countries\")\n// [fsi:val travels : Series<string,string list> =]\n// [fsi:  Joe     -> [UK; US; UK]       ]\n// [fsi:  Tomas   -> [CZ; UK; US; ... ] ]\n// [fsi:  Eve     -> [FR] ]              \n// [fsi:  Suzanne -> [US]]\n"
        ]
        ,"execution_count": null,"outputs": []
    }, {
        "cell_type": "markdown",
        "metadata": {},
        "source": [
            "(**\nNow we can group the elements using both key (e.g. length of a name) and using the\nvalue (e.g. the number of visited countries):\n*)"
        ]
        
    }, {
        "cell_type": "code",
        "metadata": {},
        "source": [
            "\n// Group by name length (ignoring visited countries)\ntravels |> Series.groupBy (fun k v -> k.Length)\n// Group by visited countries (people visited/not visited US)\ntravels |> Series.groupBy (fun k v -> List.exists ((=) \"US\") v)\n\n// Group by name length and get number of values in each group\ntravels |> Series.groupInto \n  (fun k v -> k.Length) \n  (fun len people -> Series.countKeys people)\n"
        ]
        ,"execution_count": null,"outputs": []
    }, {
        "cell_type": "markdown",
        "metadata": {},
        "source": [
            "(**\nThe `groupBy` function returns a series of series (series with new keys, containing\nseries with all values for a given new key). You can than transform the values using\n`Series.mapValues`. However, if you want to avoid allocating all intermediate series,\nyou can also use `Series.groupInto` which takes projection function as a second argument.\nIn the above examples, we count the number of keys in each group.\n\nAs a final example, let's say that we want to build a data frame that contains individual\npeople (as rows), all countries that appear in someone's travel list (as columns). \nThe frame contains the number of visits to each country by each person:\n*)"
        ]
        
    }, {
        "cell_type": "markdown",
        "metadata": {},
        "source": [
            "\n(*** define-output: trav ***)"
        ]
        
    }, {
        "cell_type": "code",
        "metadata": {},
        "source": [
            "\ntravels\n|> Series.mapValues (Seq.countBy id >> series)\n|> Frame.ofRows\n|> Frame.fillMissingWith 0\n\n"
        ]
        ,"execution_count": null,"outputs": []
    }, {
        "cell_type": "markdown",
        "metadata": {},
        "source": [
            "(*** include-it: trav ***)"
        ]
        
    }, {
        "cell_type": "markdown",
        "metadata": {},
        "source": [
            "\n\n(**\nThe problem can be solved just using `Series.mapValues`, together with standard F#\n`Seq` functions. We iterate over all rows (people and their countries). For each\ncountry list, we generate a series that contains individual countries and the count\nof visits (this is done by composing `Seq.countBy` and a function `series` to build\na series of observations). Then we turn the result to a data frame and fill missing\nvalues with the constant zero (see a section about [handling missing values](#missing)).\n\n### Grouping data frames\n\nSo far, we worked with series and series of series (which can be turned into data frames\nusing `Frame.ofRows` and `Frame.ofColumns`). Next, we look at working with data frames.\n\nAssume we loaded [Titanic data set](http://www.kaggle.com/c/titanic-gettingStarted) \nthat is also used on the [project home page](index.html). First, let's look at basic\ngrouping (also used in the home page demo):\n*)"
        ]
        
    }, {
        "cell_type": "code",
        "metadata": {},
        "source": [
            "\n\n// Group using column 'Sex' of type 'string'\ntitanic |> Frame.groupRowsByString \"Sex\"\n\n// Grouping using column converted to 'decimal'\nlet byDecimal : Frame<decimal * _, _> = \n  titanic |> Frame.groupRowsBy \"Fare\"\n\n// This is easier using member syntax\ntitanic.GroupRowsBy<decimal>(\"Fare\")\n\n// Group using calculated value - length of name\ntitanic |> Frame.groupRowsUsing (fun k row -> \n  row.GetAs<string>(\"Name\").Length)\n\n"
        ]
        ,"execution_count": null,"outputs": []
    }, {
        "cell_type": "markdown",
        "metadata": {},
        "source": [
            "(**\nWhen working with frames, you can group data using both rows and columns. For most\nfunctions there is `groupRows` and `groupCols` equivalent.\nThe easiest functions to use are `Frame.groupRowsByXyz` where `Xyz` specifies the \ntype of the column that we're using for grouping. For example, we can easily group\nrows using the \"Sex\" column.\n\nWhen using less common type, you need to specify the type of the column. You can \nsee this on lines 5 and 9 where we use `decimal` as the key. Finally, you can also\nspecify key selector as a function. The function gets the original key and the row\nas a value of `ObjectSeries<K>`. The type has various members for getting individual\nvalues (columns) such as `GetAs` which allows us to get a column of a specified type.\n\n### Grouping by single key\n\nA grouped data frame uses multi-level index. This means that the index is a tuple\nof keys that represent multiple levels. For example:\n*)"
        ]
        
    }, {
        "cell_type": "code",
        "metadata": {},
        "source": [
            "\ntitanic |> Frame.groupRowsByString \"Sex\"\n// [fsi:val it : Frame<(string * int),string> =]\n// [fsi:                Survive   Name                    ]\n// [fsi:  female 2   -> True      Heikkinen, Miss. Laina  ]\n// [fsi:         11  -> True      Bonnell, Miss. Elizabeth]\n// [fsi:         19  -> True      Masselmani, Mrs. Fatima ]\n// [fsi:                ...       ...                     ]\n// [fsi:  male   870 -> False     Balkic, Mr. Cerin       ]\n// [fsi:         878 -> False     Laleff, Mr. Kristo      ]\n\n"
        ]
        ,"execution_count": null,"outputs": []
    }, {
        "cell_type": "markdown",
        "metadata": {},
        "source": [
            "(**\nAs you can see, the pretty printer understands multi-level indices and \noutputs the first level (sex) followed by the second level (passanger id).\nYou can turn frame with two-level index into a series of data frames\n(and vice versa) using `Frame.unnest` and `Frame.nest`:\n*)"
        ]
        
    }, {
        "cell_type": "code",
        "metadata": {},
        "source": [
            "\nlet bySex = titanic |> Frame.groupRowsByString \"Sex\" \n// Returns series with two frames as values\nlet bySex1 = bySex |> Frame.nest\n// Converts unstacked data back to a single frame\nlet bySex2 = bySex |> Frame.nest |> Frame.unnest\n"
        ]
        ,"execution_count": null,"outputs": []
    }, {
        "cell_type": "markdown",
        "metadata": {},
        "source": [
            "(**\n\n### Grouping by multiple keys\nFinally, we can also apply grouping operation repeatedly to group data using\nmultiple keys (and get a frame indexed by more than 2 levels). For example,\nwe can group passangers by their class and port where they embarked:\n*)"
        ]
        
    }, {
        "cell_type": "code",
        "metadata": {},
        "source": [
            "\n// Group by passanger class and port\nlet byClassAndPort = \n  titanic\n  |> Frame.groupRowsByInt \"Pclass\"\n  |> Frame.groupRowsByString \"Embarked\"\n  |> Frame.mapRowKeys Pair.flatten3\n\n// Get just the Age series with the same row index\nlet ageByClassAndPort = byClassAndPort?Age\n"
        ]
        ,"execution_count": null,"outputs": []
    }, {
        "cell_type": "markdown",
        "metadata": {},
        "source": [
            "(**\nIf you look at the type of `byClassAndPort`, you can see that it is\n`Frame<(string * int * int),string>`. The row key is a tripple consisting\nof port identifier (string), passanger class (int between 1 and 3) and the\npassanger id. The multi-level indexing is preserved when we get a single\nseries from the frame.\n\nAs our last example, we look at various ways of aggregating the groups:\n*)"
        ]
        
    }, {
        "cell_type": "code",
        "metadata": {},
        "source": [
            "\n// Get average ages in each group\nbyClassAndPort?Age\n|> Stats.levelMean Pair.get1And2Of3\n\n// Averages for all numeric columns\nbyClassAndPort\n|> Frame.getNumericCols\n|> Series.dropMissing\n|> Series.mapValues (Stats.levelMean Pair.get1And2Of3)\n|> Frame.ofColumns\n\n// Count number of survivors in each group\nbyClassAndPort.GetColumn<bool>(\"Survived\")\n|> Series.applyLevel Pair.get1And2Of3 (Series.values >> Seq.countBy id >> series)\n|> Frame.ofRows\n\n"
        ]
        ,"execution_count": null,"outputs": []
    }, {
        "cell_type": "markdown",
        "metadata": {},
        "source": [
            "(**\nThe second snippet combines a number of useful functions. It uses `Frame.getNumericColumns`\nto obtain just numerical columns from a data frame. Then it drops the non-numerical columns\nusing `Series.dropMissing`. Then we use `Series.mapValues` to apply the averaging operation\nto all columns.\n\nThe last snippet is alo interesting. We get the \"Survived\" column (which \ncontains Boolean values) and we aggregate each group using a specified function.\nThe function is composed from three components - it first gets the values in the\ngroup, counts them (to get a number of `true` and `false` values) and then creates\na series with the results. The result looks as the following table (some values\nwere omitted):\n\n    [lang=text]\n             True  False     \n    C 1  ->  59    26        \n      2  ->  9     8         \n      3  ->  25    41        \n    S 1  ->  74    53        \n      2  ->  76    88        \n      3  ->  67    286      \n                  \n\n<a name=\"pivot\"></a>\nSummarizing data with pivot table\n---------------------------------\n\nIn the previous section, we looked at grouping, which is a very general \ndata manipulation operation. However, very often we want to perform two operations\nat the same time - group the data by certain keys and produce an aggregate. This\ncombination is captured by the concept of a _pivot table_. \n\nA pivot table is a useful tool if you want to summarize data in the frame based\non two keys that are available in the rows of the data frame. \n\nFor example, given the titanic data set that [we loaded earlier](#creating-csv) and\nexplored in the previous section, we might want to compare the survival rate for males \nand females. The pivot table makes this possible using just a single call:\n*)"
        ]
        
    }, {
        "cell_type": "markdown",
        "metadata": {},
        "source": [
            "\n\n(*** define-output:pivot1 ***)"
        ]
        
    }, {
        "cell_type": "code",
        "metadata": {},
        "source": [
            "\ntitanic \n|> Frame.pivotTable \n    // Returns a new row key\n    (fun k r -> r.GetAs<string>(\"Sex\")) \n    // Returns a new column key\n    (fun k r -> r.GetAs<bool>(\"Survived\")) \n    // Specifies aggregation for sub-frames\n    Frame.countRows \n"
        ]
        ,"execution_count": null,"outputs": []
    }, {
        "cell_type": "markdown",
        "metadata": {},
        "source": [
            "(**\nThe `pivotTable` function (and the corresponding `PivotTable` method) take three arguments.\nThe first two specify functions that, given a row in the original frame, return a new\nrow key and column key, respectively. In the above example, the new row key is\nthe `Sex` value and the new column key is whether a person survived or not. As a result\nwe get the following two by two table:\n*)"
        ]
        
    }, {
        "cell_type": "markdown",
        "metadata": {},
        "source": [
            "\n\n(*** include-it:pivot1 ***)"
        ]
        
    }, {
        "cell_type": "markdown",
        "metadata": {},
        "source": [
            "\n\n(**\nNote, we could also use the `PivotTable` member method along with a type annotation on the\nresult for readability:\n*)"
        ]
        
    }, {
        "cell_type": "code",
        "metadata": {},
        "source": [
            "\nlet table : Frame<string,bool> = \n  titanic.PivotTable(\"Sex\", \"Survived\", Frame.countRows)\n\n"
        ]
        ,"execution_count": null,"outputs": []
    }, {
        "cell_type": "markdown",
        "metadata": {},
        "source": [
            "(**\nThe pivot table operation takes the source frame, partitions the data (rows) based on the \nnew row and column keys and then aggregates each frame using the specified aggregation. In the\nabove example, we used `Frame.countRows` to simply return number of people in each sub-group.\nHowever, we could easily calculate other statistic - such as average age:\n*)"
        ]
        
    }, {
        "cell_type": "markdown",
        "metadata": {},
        "source": [
            "\n\n(*** define-output:pivot2 ***)"
        ]
        
    }, {
        "cell_type": "code",
        "metadata": {},
        "source": [
            "\ntitanic \n|> Frame.pivotTable \n    (fun k r -> r.GetAs<string>(\"Sex\")) \n    (fun k r -> r.GetAs<bool>(\"Survived\")) \n    (fun frame -> frame?Age |> Stats.mean)\n|> round\n"
        ]
        ,"execution_count": null,"outputs": []
    }, {
        "cell_type": "markdown",
        "metadata": {},
        "source": [
            "(**\nThe results suggest that older males were less likely survive than younger males, but \nolder females were more likely to survive then younger females:\n*)"
        ]
        
    }, {
        "cell_type": "markdown",
        "metadata": {},
        "source": [
            "\n\n(*** include-it:pivot2 ***)"
        ]
        
    }, {
        "cell_type": "markdown",
        "metadata": {},
        "source": [
            "\n\n(**\n<a name=\"indexing\"></a>\nHierarchical indexing\n---------------------\n\nFor some data sets, the index is not a simple sequence of keys, but instead a more\ncomplex hierarchy. This can be captured using hierarchical indices. They also provide\na convenient way of dealing with multi-dimensional data. The most common source\nof multi-level indices is grouping (the previous section has a number of examples).\n\n### Lookup in the World Bank data set\n\nIn this section, we start by looking at the [World Bank data set from earlier](#creating-wb).\nIt is a data frame with two-level hierarchy of columns, where the first level is the name\nof region and the second level is the name of country.\n\nBasic lookup can be performed using slicing operators. The following are only available \nin F# 3.1:\n*)"
        ]
        
    }, {
        "cell_type": "code",
        "metadata": {},
        "source": [
            "\n\n// Get all countries in Euro area\nworld.Columns.[\"Euro area\", *]\n// Get Belgium data from Euro area group\nworld.Columns.[(\"Euro area\", \"Belgium\")]\n// Belgium is returned twice - from both Euro and OECD\nworld.Columns.[*, \"Belgium\"]\n\n"
        ]
        ,"execution_count": null,"outputs": []
    }, {
        "cell_type": "markdown",
        "metadata": {},
        "source": [
            "(**\nIn F# 3.0, you can use a family of helper functions `LookupXOfY` as follows:\n*)"
        ]
        
    }, {
        "cell_type": "code",
        "metadata": {},
        "source": [
            "\n\n// Get all countries in Euro area\nworld.Columns.[Lookup1Of2 \"Euro area\"]\n// Belgium is returned twice - from both Euro and OECD\nworld.Columns.[Lookup2Of2 \"Belgium\"]\n\n"
        ]
        ,"execution_count": null,"outputs": []
    }, {
        "cell_type": "markdown",
        "metadata": {},
        "source": [
            "(**\nThe lookup operations always return data frame of the same type as the original frame.\nThis means that even if you select one sub-group, you get back a frame with the same\nmulti-level hierarchy of keys. This can be easily changed using projection on keys:\n*)"
        ]
        
    }, {
        "cell_type": "code",
        "metadata": {},
        "source": [
            "\n// Drop the first level of keys (and get just countries)\nlet euro = \n  world.Columns.[\"Euro area\", *]\n  |> Frame.mapColKeys snd\n\n"
        ]
        ,"execution_count": null,"outputs": []
    }, {
        "cell_type": "markdown",
        "metadata": {},
        "source": [
            "(**\n### Grouping and aggregating World Bank data\n\nHierarchical keys are often created as a result of grouping. For example, we can group\nthe rows (representing individual years) in the Euro zone data set by decades\n(for more information about grouping see also [grouping section](#grouping) in this\ndocument).\n\n*)"
        ]
        
    }, {
        "cell_type": "code",
        "metadata": {},
        "source": [
            "\nlet decades = euro |> Frame.groupRowsUsing (fun k _ -> \n  sprintf \"%d0s\" (k / 10))\n// [fsi: ]\n// [fsi:val decades : Frame<(string * int),string> =]\n// [fsi:                Austria  Estonia   ...      ]\n// [fsi:  1960s 1960 -> 6.592    <missing> ]     \n// [fsi:        1961 -> 7.311    <missing> ]\n// [fsi:        ...  ]\n// [fsi:  2010s 2010 -> 376.8    18.84 ]\n// [fsi:        2011 -> 417.6    22.15 ]\n// [fsi:        2012 -> 399.6    21.85 ]\n"
        ]
        ,"execution_count": null,"outputs": []
    }, {
        "cell_type": "markdown",
        "metadata": {},
        "source": [
            "(**\nNow that we have a data frame with hierarchical index, we can select data\nin a single group, such as 1990s. The result is a data frame of the same type.\nWe can also multiply the values, to get original GDP in USD (rather than billions):\n*)"
        ]
        
    }, {
        "cell_type": "code",
        "metadata": {},
        "source": [
            "\ndecades.Rows.[\"1990s\", *] * 1e9\n\n"
        ]
        ,"execution_count": null,"outputs": []
    }, {
        "cell_type": "markdown",
        "metadata": {},
        "source": [
            "(**\nThe `Frame` and `Series` modules provide a number of functions for aggregating the\ngroups. We can access a specific country and aggregate GDP for a country, or we can\napply aggregation to the entire data set:\n*)"
        ]
        
    }, {
        "cell_type": "code",
        "metadata": {},
        "source": [
            "\n\n// Calculate means per decades for Slovakia\ndecades?``Slovak Republic`` |> Stats.levelMean fst\n\n// Calculate means per decateds for all countries\ndecades\n|> Frame.getNumericCols\n|> Series.mapValues (Stats.levelMean fst)\n|> Frame.ofColumns\n\n// Calculate standard deviation per decades in USD\ndecades?Belgium * 1.0e9 \n|> Stats.levelStdDev fst\n\n"
        ]
        ,"execution_count": null,"outputs": []
    }, {
        "cell_type": "markdown",
        "metadata": {},
        "source": [
            "(**\nSo far, we were working with data frames that only had one hierarchical index. However,\nit is perfectly possible to have hierarchical index for both rows and columns. The following\nsnippet groups countries by their average GDP (in addition to grouping rows by decades):\n*)"
        ]
        
    }, {
        "cell_type": "code",
        "metadata": {},
        "source": [
            "\n\n// Group countries by comparing average GDP with $500bn\nlet byGDP = \n  decades |> Frame.transpose |> Frame.groupRowsUsing (fun k v -> \n    v.As<float>() |> Stats.mean > 500.0)\n"
        ]
        ,"execution_count": null,"outputs": []
    }, {
        "cell_type": "markdown",
        "metadata": {},
        "source": [
            "(**\nYou can see (by hovering over `byGDP`) that the two hierarchies are captured in the type.\nThe column key is `bool * string` (rich? and name) and the row key is `string * int` \n(decade, year). This creates two groups of columns. One containing France, Germany and\nItaly and the other containing remaining countries.\n\nThe aggregations are only (directly) supported on rows, but we can use `Frame.transpose`\nto switch between rows and columns. \n\n<a name=\"missing\"></a>\nHandling missing values\n-----------------------\n\nTHe support for missing values is built-in, which means that any series or frame can\ncontain missing values. When constructing series or frames from data, certain values\nare automatically treated as \"missing values\". This includes `Double.NaN`, `null` values\nfor reference types and for nullable types:\n*)"
        ]
        
    }, {
        "cell_type": "markdown",
        "metadata": {},
        "source": [
            "\n(*** define-output:misv1 ***)"
        ]
        
    }, {
        "cell_type": "code",
        "metadata": {},
        "source": [
            "\nSeries.ofValues [ Double.NaN; 1.0; 3.14 ]\n\n"
        ]
        ,"execution_count": null,"outputs": []
    }, {
        "cell_type": "markdown",
        "metadata": {},
        "source": [
            "(*** include-it:misv1 ***)"
        ]
        
    }, {
        "cell_type": "markdown",
        "metadata": {},
        "source": [
            "\n\n(*** define-output:misv2 ***)"
        ]
        
    }, {
        "cell_type": "code",
        "metadata": {},
        "source": [
            "\n[ Nullable(1); Nullable(); Nullable(3) ]\n|> Series.ofValues\n\n"
        ]
        ,"execution_count": null,"outputs": []
    }, {
        "cell_type": "markdown",
        "metadata": {},
        "source": [
            "(*** include-it:misv2 ***)"
        ]
        
    }, {
        "cell_type": "markdown",
        "metadata": {},
        "source": [
            "\n\n(**\nMissing values are automatically skipped when performing statistical computations such\nas `Series.mean`. They are also ignored by projections and filtering, including\n`Series.mapValues`. When you want to handle missing values, you can use `Series.mapAll` \nthat gets the value as `option<T>` (we use sample data set from [earlier section](#creating-csv)):\n*)"
        ]
        
    }, {
        "cell_type": "code",
        "metadata": {},
        "source": [
            "\n\n// Get column with missing values\nlet ozone = air?Ozone \n\n// Replace missing values with zeros\nozone |> Series.mapAll (fun k v -> \n  match v with None -> Some 0.0 | v -> v)\n\n"
        ]
        ,"execution_count": null,"outputs": []
    }, {
        "cell_type": "markdown",
        "metadata": {},
        "source": [
            "(**\nIn practice, you will not need to use `Series.mapAll` very often, because the\nseries module provides functions that fill missing values more easily:\n*)"
        ]
        
    }, {
        "cell_type": "code",
        "metadata": {},
        "source": [
            "\n\n// Fill missing values with constant\nozone |> Series.fillMissingWith 0.0\n\n// Available values are copied in backward \n// direction to fill missing values\nozone |> Series.fillMissing Direction.Backward\n\n// Available values are propagated forward\n// (if the first value is missing, it is not filled!)\nozone |> Series.fillMissing Direction.Forward\n\n// Fill values and drop those that could not be filled\nozone |> Series.fillMissing Direction.Forward\n      |> Series.dropMissing\n\n"
        ]
        ,"execution_count": null,"outputs": []
    }, {
        "cell_type": "markdown",
        "metadata": {},
        "source": [
            "(**\nVarious other strategies for handling missing values are not currently directly \nsupported by the library, but can be easily added using `Series.fillMissingUsing`.\nIt takes a function and calls it on all missing values. If we have an interpolation\nfunction, then we can pass it to `fillMissingUsing` and perform any interpolation \nneeded.\n\nFor example, the following snippet gets the previous and next values and averages\nthem (if they are available) or returns one of them (or zero if there are no values\nat all):\n*)"
        ]
        
    }, {
        "cell_type": "code",
        "metadata": {},
        "source": [
            "\n\n// Fill missing values using interpolation function\nozone |> Series.fillMissingUsing (fun k -> \n  // Get previous and next values\n  let prev = ozone.TryGet(k, Lookup.ExactOrSmaller)\n  let next = ozone.TryGet(k, Lookup.ExactOrGreater)\n  // Pattern match to check which values were available\n  match prev, next with \n  | OptionalValue.Present(p), OptionalValue.Present(n) -> \n      (p + n) / 2.0\n  | OptionalValue.Present(v), _ \n  | _, OptionalValue.Present(v) -> v\n  | _ -> 0.0)\n"
        ]
        ,"execution_count": null,"outputs": []
    }],
 "metadata": {
  "kernelspec": {
   "display_name": "F#",
   "language": "fsharp",
   "name": "ifsharp"
  },
  "language": "fsharp",
  "language_info": {
   "codemirror_mode": "",
   "file_extension": ".fs",
   "mimetype": "text/x-fsharp",
   "name": "fsharp",
   "nbconvert_exporter": "",
   "pygments_lexer": "",
   "version": "4.3.1.0"
  }
 },
 "nbformat": 4,
 "nbformat_minor": 2
}
